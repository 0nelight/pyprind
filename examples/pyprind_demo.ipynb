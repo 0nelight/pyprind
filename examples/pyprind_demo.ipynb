{
 "cells": [
  {
   "cell_type": "markdown",
   "metadata": {},
   "source": [
    "[Sebastian Raschka](http://sebastianraschka.com)"
   ]
  },
  {
   "cell_type": "code",
   "execution_count": 1,
   "metadata": {
    "collapsed": false
   },
   "outputs": [
    {
     "name": "stdout",
     "output_type": "stream",
     "text": [
      "Last updated: 07/19/2015 \n",
      "\n",
      "CPython 3.4.3\n",
      "IPython 3.2.0\n"
     ]
    }
   ],
   "source": [
    "%load_ext watermark\n",
    "%watermark -v -d -u"
   ]
  },
  {
   "cell_type": "markdown",
   "metadata": {},
   "source": [
    "# PyPrind demo"
   ]
  },
  {
   "cell_type": "markdown",
   "metadata": {},
   "source": [
    "<hr>\n",
    "I would be happy to hear your comments and suggestions.  \n",
    "Please feel free to drop me a note via\n",
    "[twitter](https://twitter.com/rasbt), [email](mailto:bluewoodtree@gmail.com), or [google+](https://plus.google.com/118404394130788869227).\n",
    "<hr>"
   ]
  },
  {
   "cell_type": "markdown",
   "metadata": {},
   "source": [
    "<a name='sections'></a>"
   ]
  },
  {
   "cell_type": "markdown",
   "metadata": {},
   "source": [
    "## Sections"
   ]
  },
  {
   "cell_type": "markdown",
   "metadata": {},
   "source": [
    "- [Basic Progress Bar](#Basic-Progress-Bar)  \n",
    "- [Basic Percentage Indicator](#Basic-Percentage-Indicator) \n",
    "- [Progress Bar and Percentage Indicator generators](#Progress-Bar-and-Percentage-Indicator-generators)\n",
    "- [Progress Bar/Percentage Indicator - Reporting tracking information](#Progress-Bar/Percentage-Indicator---Reporting-CPU-and-memory-usage)\n",
    "- [Progress Bar/Percentage Indicator - Reporting CPU and memory usage](#Progress-Bar/Percentage-Indicator---Reporting-CPU-and-memory-usage)  \n",
    "- [Progress Bar/Percentage Indicator - Setting a title](#Progress-Bar/Percentage-Indicator---Setting-a-title)\n",
    "- [Progress Bar - Changing the default width](#Progress-Bar---Changing-the-default-width)\n",
    "- [Progress Bar/Percentage Indicator - Changing the output stream](#Progress-Bar/Percentage-Indicator---Setting-a-title)\n",
    "- [Stopping the Progress Bar/Percentage Indicator early](#Stopping-the-Progress-Bar/Percentage-Indicator-early)\n",
    "- [Choosing your own progress bar style](#Choosing-your-own-progress-bar-style)"
   ]
  },
  {
   "cell_type": "markdown",
   "metadata": {},
   "source": [
    "<br>\n",
    "<br>"
   ]
  },
  {
   "cell_type": "code",
   "execution_count": 2,
   "metadata": {
    "collapsed": false
   },
   "outputs": [],
   "source": [
    "import pyprind"
   ]
  },
  {
   "cell_type": "markdown",
   "metadata": {},
   "source": [
    "<a name='bar_basic'></a>\n",
    "<br>\n",
    "<br>"
   ]
  },
  {
   "cell_type": "markdown",
   "metadata": {},
   "source": [
    "## Basic Progress Bar"
   ]
  },
  {
   "cell_type": "markdown",
   "metadata": {},
   "source": [
    "[[back to section overview](#sections)]"
   ]
  },
  {
   "cell_type": "code",
   "execution_count": 3,
   "metadata": {
    "collapsed": false
   },
   "outputs": [
    {
     "name": "stderr",
     "output_type": "stream",
     "text": [
      "0%                          100%\n",
      "[##############################] | ETA[sec]: 0.000 \n",
      "Total time elapsed: 1.645 sec\n"
     ]
    }
   ],
   "source": [
    "n = 150000\n",
    "\n",
    "bar = pyprind.ProgBar(n)\n",
    "for i in range(n):\n",
    "    # do some computation\n",
    "    bar.update()"
   ]
  },
  {
   "cell_type": "markdown",
   "metadata": {},
   "source": [
    "<a name='percent_basic'></a>\n",
    "<br>\n",
    "<br>"
   ]
  },
  {
   "cell_type": "markdown",
   "metadata": {},
   "source": [
    "## Basic Percentage Indicator"
   ]
  },
  {
   "cell_type": "markdown",
   "metadata": {},
   "source": [
    "[[back to section overview](#sections)]"
   ]
  },
  {
   "cell_type": "markdown",
   "metadata": {},
   "source": [
    "*Note: the Percentage indicator is significantly slower due to background computation.  \n",
    "Thus, it is recommended for tasks with less iterations but longer computational time per iteration.*"
   ]
  },
  {
   "cell_type": "code",
   "execution_count": 4,
   "metadata": {
    "collapsed": false
   },
   "outputs": [
    {
     "name": "stderr",
     "output_type": "stream",
     "text": [
      "[100 %] elapsed[sec]: 1.410 | ETA[sec]: 0.000 \n",
      "Total time elapsed: 1.410 sec\n"
     ]
    }
   ],
   "source": [
    "n = 1500\n",
    "\n",
    "perc = pyprind.ProgPercent(n)\n",
    "for i in range(n):\n",
    "    # do some computation\n",
    "    perc.update()"
   ]
  },
  {
   "cell_type": "markdown",
   "metadata": {},
   "source": [
    "<a name='percent_basic'></a>\n",
    "<br>\n",
    "<br>"
   ]
  },
  {
   "cell_type": "markdown",
   "metadata": {},
   "source": [
    "## Progress Bar and Percentage Indicator generators"
   ]
  },
  {
   "cell_type": "markdown",
   "metadata": {},
   "source": [
    "[[back to section overview](#sections)]"
   ]
  },
  {
   "cell_type": "markdown",
   "metadata": {},
   "source": [
    "Alternatively, you can use the progress bar and percentage indicators as generators."
   ]
  },
  {
   "cell_type": "code",
   "execution_count": 5,
   "metadata": {
    "collapsed": false
   },
   "outputs": [
    {
     "name": "stderr",
     "output_type": "stream",
     "text": [
      "0%                          100%\n",
      "[##############################] | ETA[sec]: 0.000 \n",
      "Total time elapsed: 0.115 sec\n"
     ]
    }
   ],
   "source": [
    "for i in pyprind.prog_bar(range(n)):\n",
    "    # do something\n",
    "    pass"
   ]
  },
  {
   "cell_type": "code",
   "execution_count": 7,
   "metadata": {
    "collapsed": false
   },
   "outputs": [
    {
     "name": "stderr",
     "output_type": "stream",
     "text": [
      "[100 %] elapsed[sec]: 1.418 | ETA[sec]: 0.000 \n",
      "Total time elapsed: 1.418 sec\n"
     ]
    }
   ],
   "source": [
    "for i in pyprind.prog_percent(range(n)):\n",
    "    # do something\n",
    "    pass"
   ]
  },
  {
   "cell_type": "markdown",
   "metadata": {},
   "source": [
    "<a name='info'></a>\n",
    "<br>\n",
    "<br>"
   ]
  },
  {
   "cell_type": "markdown",
   "metadata": {},
   "source": [
    "## Progress Bar/Percentage Indicator - Reporting tracking information"
   ]
  },
  {
   "cell_type": "markdown",
   "metadata": {},
   "source": [
    "[[back to section overview](#sections)]"
   ]
  },
  {
   "cell_type": "markdown",
   "metadata": {},
   "source": [
    "Simply `print()` the tracking object after the tracking has completed."
   ]
  },
  {
   "cell_type": "code",
   "execution_count": 4,
   "metadata": {
    "collapsed": false
   },
   "outputs": [
    {
     "name": "stderr",
     "output_type": "stream",
     "text": [
      "0%                          100%\n",
      "[##############################] | ETA[sec]: 0.000 \n",
      "Total time elapsed: 1.614 sec\n"
     ]
    },
    {
     "name": "stdout",
     "output_type": "stream",
     "text": [
      "Title: \n",
      "  Started: 01/21/2015 23:21:28\n",
      "  Finished: 01/21/2015 23:21:29\n",
      "  Total time elapsed: 1.614 sec\n"
     ]
    }
   ],
   "source": [
    "n = 150000\n",
    "\n",
    "bar = pyprind.ProgBar(n)\n",
    "for i in range(n):\n",
    "    # do some computation\n",
    "    bar.update()\n",
    "print(bar)"
   ]
  },
  {
   "cell_type": "code",
   "execution_count": 5,
   "metadata": {
    "collapsed": false
   },
   "outputs": [
    {
     "name": "stderr",
     "output_type": "stream",
     "text": [
      "Job_1\n",
      "0%                          100%\n",
      "[##############################] | ETA[sec]: 0.000 \n",
      "Total time elapsed: 2.016 sec\n"
     ]
    },
    {
     "name": "stdout",
     "output_type": "stream",
     "text": [
      "Title: Job_1\n",
      "  Started: 01/21/2015 23:21:30\n",
      "  Finished: 01/21/2015 23:21:32\n",
      "  Total time elapsed: 2.016 sec\n",
      "  CPU %: 56.100000\n",
      "  Memory %: 0.333166\n"
     ]
    }
   ],
   "source": [
    "n = 150000\n",
    "\n",
    "bar = pyprind.ProgBar(n, monitor=True, title='Job_1')\n",
    "for i in range(n):\n",
    "    # do some computation\n",
    "    bar.update()\n",
    "    \n",
    "# print report for future reference\n",
    "print(bar)"
   ]
  },
  {
   "cell_type": "markdown",
   "metadata": {},
   "source": [
    "<a name='percent_cpu'></a>"
   ]
  },
  {
   "cell_type": "markdown",
   "metadata": {},
   "source": [
    "<br>\n",
    "<br>"
   ]
  },
  {
   "cell_type": "markdown",
   "metadata": {},
   "source": [
    "## Progress Bar/Percentage Indicator - Reporting CPU and memory usage"
   ]
  },
  {
   "cell_type": "markdown",
   "metadata": {},
   "source": [
    "[[back to section overview](#sections)]"
   ]
  },
  {
   "cell_type": "markdown",
   "metadata": {},
   "source": [
    "`monitor` (`bool`): default False. Monitors CPU and memory usage if `True` \n",
    "            (requires the [`psutil`](https://pypi.python.org/pypi/psutil) package)."
   ]
  },
  {
   "cell_type": "code",
   "execution_count": 6,
   "metadata": {
    "collapsed": false
   },
   "outputs": [
    {
     "name": "stderr",
     "output_type": "stream",
     "text": [
      "0%                          100%\n",
      "[##############################] | ETA[sec]: 0.000 \n",
      "Total time elapsed: 1.688 sec\n"
     ]
    },
    {
     "name": "stdout",
     "output_type": "stream",
     "text": [
      "Title: \n",
      "  Started: 01/21/2015 23:21:34\n",
      "  Finished: 01/21/2015 23:21:36\n",
      "  Total time elapsed: 1.688 sec\n",
      "  CPU %: 57.800000\n",
      "  Memory %: 0.333261\n"
     ]
    }
   ],
   "source": [
    "n = 150000\n",
    "\n",
    "bar = pyprind.ProgBar(n, monitor=True)\n",
    "for i in range(n):\n",
    "    # do some computation\n",
    "    bar.update()\n",
    "print(bar)"
   ]
  },
  {
   "cell_type": "markdown",
   "metadata": {},
   "source": [
    "<a name='percent_cpu'></a>"
   ]
  },
  {
   "cell_type": "code",
   "execution_count": 7,
   "metadata": {
    "collapsed": false
   },
   "outputs": [
    {
     "name": "stderr",
     "output_type": "stream",
     "text": [
      "[100 %] elapsed[sec]: 1.255 | ETA[sec]: 0.000 \n",
      "Total time elapsed: 1.255 sec\n"
     ]
    },
    {
     "name": "stdout",
     "output_type": "stream",
     "text": [
      "Title: \n",
      "  Started: 01/21/2015 23:21:37\n",
      "  Finished: 01/21/2015 23:21:38\n",
      "  Total time elapsed: 1.255 sec\n",
      "  CPU %: 48.600000\n",
      "  Memory %: 0.333738\n"
     ]
    }
   ],
   "source": [
    "n = 1500\n",
    "\n",
    "perc = pyprind.ProgPercent(n, monitor=True)\n",
    "for i in range(n):\n",
    "    # do some computation\n",
    "    perc.update()\n",
    "print(perc)"
   ]
  },
  {
   "cell_type": "markdown",
   "metadata": {},
   "source": [
    "<a name='title'></a>\n",
    "<br>\n",
    "<br>"
   ]
  },
  {
   "cell_type": "markdown",
   "metadata": {},
   "source": [
    "## Progress Bar/Percentage Indicator - Setting a title"
   ]
  },
  {
   "cell_type": "markdown",
   "metadata": {},
   "source": [
    "[[back to section overview](#sections)]"
   ]
  },
  {
   "cell_type": "markdown",
   "metadata": {},
   "source": [
    "`title` (`str`): default ''. A title for the progress bar"
   ]
  },
  {
   "cell_type": "code",
   "execution_count": 8,
   "metadata": {
    "collapsed": false
   },
   "outputs": [
    {
     "name": "stderr",
     "output_type": "stream",
     "text": [
      "My 1st Progress Bar\n",
      "0%                          100%\n",
      "[##############################] | ETA[sec]: 0.000 \n",
      "Total time elapsed: 1.929 sec\n"
     ]
    }
   ],
   "source": [
    "n = 150000\n",
    "\n",
    "bar = pyprind.ProgBar(n, title='My 1st Progress Bar')\n",
    "for i in range(n):\n",
    "    # do some computation\n",
    "    bar.update()"
   ]
  },
  {
   "cell_type": "code",
   "execution_count": 9,
   "metadata": {
    "collapsed": false
   },
   "outputs": [
    {
     "name": "stderr",
     "output_type": "stream",
     "text": [
      "My 1st Percent Tracker\n",
      "[100 %] elapsed[sec]: 1.211 | ETA[sec]: 0.000 \n",
      "Total time elapsed: 1.211 sec\n"
     ]
    }
   ],
   "source": [
    "n = 1500\n",
    "\n",
    "perc = pyprind.ProgPercent(n, title='My 1st Percent Tracker')\n",
    "for i in range(n):\n",
    "    # do some computation\n",
    "    perc.update()"
   ]
  },
  {
   "cell_type": "markdown",
   "metadata": {},
   "source": [
    "<a name='width'></a>\n",
    "<br>\n",
    "<br>"
   ]
  },
  {
   "cell_type": "markdown",
   "metadata": {},
   "source": [
    "## Progress Bar - Changing the default width"
   ]
  },
  {
   "cell_type": "markdown",
   "metadata": {},
   "source": [
    "[[back to section overview](#sections)]"
   ]
  },
  {
   "cell_type": "markdown",
   "metadata": {},
   "source": [
    "`width` (`int`): default 30. Sets the progress bar width in characters."
   ]
  },
  {
   "cell_type": "code",
   "execution_count": 10,
   "metadata": {
    "collapsed": false
   },
   "outputs": [
    {
     "name": "stderr",
     "output_type": "stream",
     "text": [
      "0%      100%\n",
      "[##########] | ETA[sec]: 0.000 \n",
      "Total time elapsed: 1.189 sec\n",
      "0%                                                                  100%\n",
      "[######################################################################] | ETA[sec]: 0.000 \n",
      "Total time elapsed: 2.085 sec\n"
     ]
    }
   ],
   "source": [
    "n = 150000\n",
    "\n",
    "bar = pyprind.ProgBar(n, width=10)\n",
    "for i in range(n):\n",
    "    # do some computation\n",
    "    bar.update()\n",
    "\n",
    "bar = pyprind.ProgBar(n, width=70)\n",
    "for i in range(n):\n",
    "    # do some computation\n",
    "    bar.update()"
   ]
  },
  {
   "cell_type": "markdown",
   "metadata": {},
   "source": [
    "<a name='streams'></a>\n",
    "<br>\n",
    "<br>"
   ]
  },
  {
   "cell_type": "markdown",
   "metadata": {},
   "source": [
    "## Progress Bar/Percentage Indicator - Changing the output stream"
   ]
  },
  {
   "cell_type": "markdown",
   "metadata": {},
   "source": [
    "[[back to section overview](#sections)]"
   ]
  },
  {
   "cell_type": "markdown",
   "metadata": {},
   "source": [
    "`stream` (`int`): default 2. Takes 1 for stdout, 2 for stderr, or given stream object"
   ]
  },
  {
   "cell_type": "code",
   "execution_count": 11,
   "metadata": {
    "collapsed": false
   },
   "outputs": [
    {
     "name": "stdout",
     "output_type": "stream",
     "text": [
      "0%                          100%\n",
      "[##############################] | ETA[sec]: 0.000 \n",
      "Total time elapsed: 1.789 sec\n"
     ]
    }
   ],
   "source": [
    "n = 150000\n",
    "\n",
    "bar = pyprind.ProgBar(n, stream=1)\n",
    "for i in range(n):\n",
    "    # do some computation\n",
    "    bar.update()"
   ]
  },
  {
   "cell_type": "code",
   "execution_count": 12,
   "metadata": {
    "collapsed": false
   },
   "outputs": [
    {
     "name": "stderr",
     "output_type": "stream",
     "text": [
      "0%                          100%\n",
      "[##############################] | ETA[sec]: 0.000 \n",
      "Total time elapsed: 1.604 sec\n"
     ]
    }
   ],
   "source": [
    "bar = pyprind.ProgBar(n, stream=2)\n",
    "for i in range(n):\n",
    "    # do some computation\n",
    "    bar.update()"
   ]
  },
  {
   "cell_type": "code",
   "execution_count": 13,
   "metadata": {
    "collapsed": false
   },
   "outputs": [
    {
     "name": "stdout",
     "output_type": "stream",
     "text": [
      "0%                          100%\n",
      "[##############################] | ETA[sec]: 0.000 \n",
      "Total time elapsed: 1.729 sec\n"
     ]
    }
   ],
   "source": [
    "import sys\n",
    "\n",
    "bar = pyprind.ProgBar(n, stream=sys.stdout)\n",
    "for i in range(n):\n",
    "    # do some computation\n",
    "    bar.update()"
   ]
  },
  {
   "cell_type": "markdown",
   "metadata": {},
   "source": [
    "<br>\n",
    "<br>"
   ]
  },
  {
   "cell_type": "markdown",
   "metadata": {},
   "source": [
    "## Stopping the Progress Bar/Percentage Indicator early"
   ]
  },
  {
   "cell_type": "markdown",
   "metadata": {},
   "source": [
    "[[back to section overview](#sections)]"
   ]
  },
  {
   "cell_type": "markdown",
   "metadata": {},
   "source": [
    "The tracking object can be stopped early via the `.stop()` method:"
   ]
  },
  {
   "cell_type": "code",
   "execution_count": 14,
   "metadata": {
    "collapsed": false
   },
   "outputs": [
    {
     "name": "stderr",
     "output_type": "stream",
     "text": [
      "0%                          100%\n",
      "[##############################] | ETA[sec]: 0.000 \n",
      "Total time elapsed: 0.184 sec\n"
     ]
    }
   ],
   "source": [
    "n = 150000\n",
    "\n",
    "bar = pyprind.ProgBar(n)\n",
    "for i in range(n):\n",
    "    # do some computation\n",
    "    if i == 10000:\n",
    "        bar.stop()\n",
    "    bar.update()"
   ]
  },
  {
   "cell_type": "markdown",
   "metadata": {},
   "source": [
    "<br>\n",
    "<br>"
   ]
  },
  {
   "cell_type": "markdown",
   "metadata": {},
   "source": [
    "## Progress Bar/Percentage Indicator - Printing currently processed items"
   ]
  },
  {
   "cell_type": "markdown",
   "metadata": {},
   "source": [
    "[[back to section overview](#sections)]"
   ]
  },
  {
   "cell_type": "markdown",
   "metadata": {},
   "source": [
    "Sometimes it is useful to print out the name of currently processed items, e.g., files are being processed. This can be done by providing a custom string for the optional `item_id` parameter of the `.update()` method."
   ]
  },
  {
   "cell_type": "code",
   "execution_count": 15,
   "metadata": {
    "collapsed": false
   },
   "outputs": [
    {
     "name": "stderr",
     "output_type": "stream",
     "text": [
      "0%                100%\n",
      "[####################] | ETA[sec]: 0.000 | Item ID: file_20.csv\n",
      "Total time elapsed: 10.104 sec\n"
     ]
    }
   ],
   "source": [
    "import time\n",
    "\n",
    "items = ['file_%s.csv' %i for i in range(1,21)]\n",
    "\n",
    "bar = pyprind.ProgBar(len(items))\n",
    "for i in items:\n",
    "    time.sleep(0.5) # do some computation\n",
    "    bar.update(item_id = i)"
   ]
  },
  {
   "cell_type": "markdown",
   "metadata": {},
   "source": [
    "<br>\n",
    "<br>"
   ]
  },
  {
   "cell_type": "markdown",
   "metadata": {
    "collapsed": false
   },
   "source": [
    "## Choosing your own progress bar style"
   ]
  },
  {
   "cell_type": "markdown",
   "metadata": {},
   "source": [
    "[[back to section overview](#sections)]"
   ]
  },
  {
   "cell_type": "code",
   "execution_count": 6,
   "metadata": {
    "collapsed": true
   },
   "outputs": [],
   "source": [
    "import sys\n",
    "sys.path = ['/Users/sebastian/github/pyprind/'] + sys.path\n",
    "import pyprind\n",
    "import time"
   ]
  },
  {
   "cell_type": "code",
   "execution_count": 9,
   "metadata": {
    "collapsed": false
   },
   "outputs": [
    {
     "name": "stderr",
     "output_type": "stream",
     "text": [
      "0%                          100%\n",
      "[██████████████████████████████] | ETA[sec]: 0.000 \n",
      "Total time elapsed: 10.346 sec\n"
     ]
    }
   ],
   "source": [
    "n = 100\n",
    "bar = pyprind.ProgBar(n, bar_char='█')\n",
    "for i in range(n):\n",
    "    time.sleep(0.1) # do some computation\n",
    "    bar.update()"
   ]
  },
  {
   "cell_type": "code",
   "execution_count": null,
   "metadata": {
    "collapsed": true
   },
   "outputs": [],
   "source": []
  }
 ],
 "metadata": {
  "kernelspec": {
   "display_name": "Python 3",
   "language": "python",
   "name": "python3"
  },
  "language_info": {
   "codemirror_mode": {
    "name": "ipython",
    "version": 3
   },
   "file_extension": ".py",
   "mimetype": "text/x-python",
   "name": "python",
   "nbconvert_exporter": "python",
   "pygments_lexer": "ipython3",
   "version": "3.4.3"
  }
 },
 "nbformat": 4,
 "nbformat_minor": 0
}
