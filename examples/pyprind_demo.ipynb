{
 "metadata": {
  "name": "",
  "signature": "sha256:b732d943c4d7bcd728beea7d3cf6763ccccbbbf162fb8eced31ae53693e50391"
 },
 "nbformat": 3,
 "nbformat_minor": 0,
 "worksheets": [
  {
   "cells": [
    {
     "cell_type": "markdown",
     "metadata": {},
     "source": [
      "[Sebastian Raschka](http://sebastianraschka.com)  \n",
      "last updated: 10/10/2014\n",
      "\n",
      "### PyPrind 2.6.2 demo"
     ]
    },
    {
     "cell_type": "markdown",
     "metadata": {},
     "source": [
      "<hr>\n",
      "I would be happy to hear your comments and suggestions.  \n",
      "Please feel free to drop me a note via\n",
      "[twitter](https://twitter.com/rasbt), [email](mailto:bluewoodtree@gmail.com), or [google+](https://plus.google.com/118404394130788869227).\n",
      "<hr>"
     ]
    },
    {
     "cell_type": "markdown",
     "metadata": {},
     "source": [
      "<a name='sections'></a>"
     ]
    },
    {
     "cell_type": "markdown",
     "metadata": {},
     "source": [
      "## Sections"
     ]
    },
    {
     "cell_type": "markdown",
     "metadata": {},
     "source": [
      "- [Basic Progress Bar](#bar_basic)  \n",
      "- [Basic Percentage Indicator](#percent_basic)  \n",
      "- [Progress Bar/Percentage Indicator - Reporting tracking information](#info)\n",
      "- [Progress Bar/Percentage Indicator - Reporting CPU and memory usage](#percent_cpu)  \n",
      "- [Progress Bar/Percentage Indicator - Setting a title](#title)\n",
      "- [Progress Bar - Changing the default width](#width)\n",
      "- [Progress Bar/Percentage Indicator - Changing the output stream](#streams)"
     ]
    },
    {
     "cell_type": "markdown",
     "metadata": {},
     "source": [
      "<br>\n",
      "<br>"
     ]
    },
    {
     "cell_type": "code",
     "collapsed": false,
     "input": [
      "import pyprind"
     ],
     "language": "python",
     "metadata": {},
     "outputs": [],
     "prompt_number": 1
    },
    {
     "cell_type": "markdown",
     "metadata": {},
     "source": [
      "<a name='bar_basic'></a>\n",
      "<br>\n",
      "<br>"
     ]
    },
    {
     "cell_type": "markdown",
     "metadata": {},
     "source": [
      "## Basic Progress Bar"
     ]
    },
    {
     "cell_type": "markdown",
     "metadata": {},
     "source": [
      "[[back to section overview](#sections)]"
     ]
    },
    {
     "cell_type": "code",
     "collapsed": false,
     "input": [
      "n = 150000\n",
      "\n",
      "bar = pyprind.ProgBar(n)\n",
      "for i in range(n):\n",
      "    # do some computation\n",
      "    bar.update()"
     ],
     "language": "python",
     "metadata": {},
     "outputs": [
      {
       "output_type": "stream",
       "stream": "stderr",
       "text": [
        "0%                          100%\n"
       ]
      },
      {
       "output_type": "stream",
       "stream": "stderr",
       "text": [
        "[                              ]"
       ]
      },
      {
       "output_type": "stream",
       "stream": "stderr",
       "text": [
        "\r",
        "[#                             ]"
       ]
      },
      {
       "output_type": "stream",
       "stream": "stderr",
       "text": [
        " | ETA[sec]: 1.300 "
       ]
      },
      {
       "output_type": "stream",
       "stream": "stderr",
       "text": [
        "\r",
        "[##                            ]"
       ]
      },
      {
       "output_type": "stream",
       "stream": "stderr",
       "text": [
        " | ETA[sec]: 1.119 "
       ]
      },
      {
       "output_type": "stream",
       "stream": "stderr",
       "text": [
        "\r",
        "[###                           ]"
       ]
      },
      {
       "output_type": "stream",
       "stream": "stderr",
       "text": [
        " | ETA[sec]: 1.018 "
       ]
      },
      {
       "output_type": "stream",
       "stream": "stderr",
       "text": [
        "\r",
        "[####                          ]"
       ]
      },
      {
       "output_type": "stream",
       "stream": "stderr",
       "text": [
        " | ETA[sec]: 0.965 "
       ]
      },
      {
       "output_type": "stream",
       "stream": "stderr",
       "text": [
        "\r",
        "[#####                         ]"
       ]
      },
      {
       "output_type": "stream",
       "stream": "stderr",
       "text": [
        " | ETA[sec]: 0.927 "
       ]
      },
      {
       "output_type": "stream",
       "stream": "stderr",
       "text": [
        "\r",
        "[######                        ]"
       ]
      },
      {
       "output_type": "stream",
       "stream": "stderr",
       "text": [
        " | ETA[sec]: 0.898 "
       ]
      },
      {
       "output_type": "stream",
       "stream": "stderr",
       "text": [
        "\r",
        "[#######                       ]"
       ]
      },
      {
       "output_type": "stream",
       "stream": "stderr",
       "text": [
        " | ETA[sec]: 0.877 "
       ]
      },
      {
       "output_type": "stream",
       "stream": "stderr",
       "text": [
        "\r",
        "[########                      ]"
       ]
      },
      {
       "output_type": "stream",
       "stream": "stderr",
       "text": [
        " | ETA[sec]: 0.841 "
       ]
      },
      {
       "output_type": "stream",
       "stream": "stderr",
       "text": [
        "\r",
        "[#########                     ]"
       ]
      },
      {
       "output_type": "stream",
       "stream": "stderr",
       "text": [
        " | ETA[sec]: 0.812 "
       ]
      },
      {
       "output_type": "stream",
       "stream": "stderr",
       "text": [
        "\r",
        "[##########                    ]"
       ]
      },
      {
       "output_type": "stream",
       "stream": "stderr",
       "text": [
        " | ETA[sec]: 0.780 "
       ]
      },
      {
       "output_type": "stream",
       "stream": "stderr",
       "text": [
        "\r",
        "[###########                   ]"
       ]
      },
      {
       "output_type": "stream",
       "stream": "stderr",
       "text": [
        " | ETA[sec]: 0.748 "
       ]
      },
      {
       "output_type": "stream",
       "stream": "stderr",
       "text": [
        "\r",
        "[############                  ]"
       ]
      },
      {
       "output_type": "stream",
       "stream": "stderr",
       "text": [
        " | ETA[sec]: 0.704 "
       ]
      },
      {
       "output_type": "stream",
       "stream": "stderr",
       "text": [
        "\r",
        "[#############                 ]"
       ]
      },
      {
       "output_type": "stream",
       "stream": "stderr",
       "text": [
        " | ETA[sec]: 0.658 "
       ]
      },
      {
       "output_type": "stream",
       "stream": "stderr",
       "text": [
        "\r",
        "[##############                ]"
       ]
      },
      {
       "output_type": "stream",
       "stream": "stderr",
       "text": [
        " | ETA[sec]: 0.614 "
       ]
      },
      {
       "output_type": "stream",
       "stream": "stderr",
       "text": [
        "\r",
        "[###############               ]"
       ]
      },
      {
       "output_type": "stream",
       "stream": "stderr",
       "text": [
        " | ETA[sec]: 0.573 "
       ]
      },
      {
       "output_type": "stream",
       "stream": "stderr",
       "text": [
        "\r",
        "[################              ]"
       ]
      },
      {
       "output_type": "stream",
       "stream": "stderr",
       "text": [
        " | ETA[sec]: 0.532 "
       ]
      },
      {
       "output_type": "stream",
       "stream": "stderr",
       "text": [
        "\r",
        "[#################             ]"
       ]
      },
      {
       "output_type": "stream",
       "stream": "stderr",
       "text": [
        " | ETA[sec]: 0.493 "
       ]
      },
      {
       "output_type": "stream",
       "stream": "stderr",
       "text": [
        "\r",
        "[##################            ]"
       ]
      },
      {
       "output_type": "stream",
       "stream": "stderr",
       "text": [
        " | ETA[sec]: 0.456 "
       ]
      },
      {
       "output_type": "stream",
       "stream": "stderr",
       "text": [
        "\r",
        "[###################           ]"
       ]
      },
      {
       "output_type": "stream",
       "stream": "stderr",
       "text": [
        " | ETA[sec]: 0.418 "
       ]
      },
      {
       "output_type": "stream",
       "stream": "stderr",
       "text": [
        "\r",
        "[####################          ]"
       ]
      },
      {
       "output_type": "stream",
       "stream": "stderr",
       "text": [
        " | ETA[sec]: 0.382 "
       ]
      },
      {
       "output_type": "stream",
       "stream": "stderr",
       "text": [
        "\r",
        "[#####################         ]"
       ]
      },
      {
       "output_type": "stream",
       "stream": "stderr",
       "text": [
        " | ETA[sec]: 0.342 "
       ]
      },
      {
       "output_type": "stream",
       "stream": "stderr",
       "text": [
        "\r",
        "[######################        ]"
       ]
      },
      {
       "output_type": "stream",
       "stream": "stderr",
       "text": [
        " | ETA[sec]: 0.303 "
       ]
      },
      {
       "output_type": "stream",
       "stream": "stderr",
       "text": [
        "\r",
        "[#######################       ]"
       ]
      },
      {
       "output_type": "stream",
       "stream": "stderr",
       "text": [
        " | ETA[sec]: 0.266 "
       ]
      },
      {
       "output_type": "stream",
       "stream": "stderr",
       "text": [
        "\r",
        "[########################      ]"
       ]
      },
      {
       "output_type": "stream",
       "stream": "stderr",
       "text": [
        " | ETA[sec]: 0.227 "
       ]
      },
      {
       "output_type": "stream",
       "stream": "stderr",
       "text": [
        "\r",
        "[#########################     ]"
       ]
      },
      {
       "output_type": "stream",
       "stream": "stderr",
       "text": [
        " | ETA[sec]: 0.193 "
       ]
      },
      {
       "output_type": "stream",
       "stream": "stderr",
       "text": [
        "\r",
        "[##########################    ]"
       ]
      },
      {
       "output_type": "stream",
       "stream": "stderr",
       "text": [
        " | ETA[sec]: 0.158 "
       ]
      },
      {
       "output_type": "stream",
       "stream": "stderr",
       "text": [
        "\r",
        "[###########################   ]"
       ]
      },
      {
       "output_type": "stream",
       "stream": "stderr",
       "text": [
        " | ETA[sec]: 0.123 "
       ]
      },
      {
       "output_type": "stream",
       "stream": "stderr",
       "text": [
        "\r",
        "[############################  ]"
       ]
      },
      {
       "output_type": "stream",
       "stream": "stderr",
       "text": [
        " | ETA[sec]: 0.082 "
       ]
      },
      {
       "output_type": "stream",
       "stream": "stderr",
       "text": [
        "\r",
        "[############################# ]"
       ]
      },
      {
       "output_type": "stream",
       "stream": "stderr",
       "text": [
        " | ETA[sec]: 0.043 "
       ]
      },
      {
       "output_type": "stream",
       "stream": "stderr",
       "text": [
        "\r",
        "[##############################]"
       ]
      },
      {
       "output_type": "stream",
       "stream": "stderr",
       "text": [
        " | ETA[sec]: 0.000 "
       ]
      },
      {
       "output_type": "stream",
       "stream": "stderr",
       "text": [
        "\n",
        "Total time elapsed: 1.329 sec\n"
       ]
      }
     ],
     "prompt_number": 2
    },
    {
     "cell_type": "markdown",
     "metadata": {},
     "source": [
      "<a name='percent_basic'></a>\n",
      "<br>\n",
      "<br>"
     ]
    },
    {
     "cell_type": "markdown",
     "metadata": {},
     "source": [
      "\n",
      "## Basic Percentage Indicator"
     ]
    },
    {
     "cell_type": "markdown",
     "metadata": {},
     "source": [
      "[[back to section overview](#sections)]"
     ]
    },
    {
     "cell_type": "markdown",
     "metadata": {},
     "source": [
      "*Note: the Percentage indicator is significantly slower due to background computation.  \n",
      "Thus, it is recommended for tasks with less iterations but longer computational time per iteration.*"
     ]
    },
    {
     "cell_type": "code",
     "collapsed": false,
     "input": [
      "n = 1500\n",
      "\n",
      "perc = pyprind.ProgPercent(n)\n",
      "for i in range(n):\n",
      "    # do some computation\n",
      "    perc.update()"
     ],
     "language": "python",
     "metadata": {},
     "outputs": [
      {
       "output_type": "stream",
       "stream": "stderr",
       "text": [
        "\r",
        "[  0 %] elapsed[sec]: 0.000"
       ]
      },
      {
       "output_type": "stream",
       "stream": "stderr",
       "text": [
        "\r",
        "[  0 %] elapsed[sec]: 0.006 | ETA[sec]: 9.483 "
       ]
      },
      {
       "output_type": "stream",
       "stream": "stderr",
       "text": [
        "\r",
        "[  0 %] elapsed[sec]: 0.009 | ETA[sec]: 6.609 "
       ]
      },
      {
       "output_type": "stream",
       "stream": "stderr",
       "text": [
        "\r",
        "[  0 %] elapsed[sec]: 0.013 | ETA[sec]: 6.460 "
       ]
      },
      {
       "output_type": "stream",
       "stream": "stderr",
       "text": [
        "\r",
        "[  0 %] elapsed[sec]: 0.021 | ETA[sec]: 7.953 "
       ]
      },
      {
       "output_type": "stream",
       "stream": "stderr",
       "text": [
        "\r",
        "[  0 %] elapsed[sec]: 0.023 | ETA[sec]: 6.872 "
       ]
      },
      {
       "output_type": "stream",
       "stream": "stderr",
       "text": [
        "\r",
        "[  0 %] elapsed[sec]: 0.025 | ETA[sec]: 6.107 "
       ]
      },
      {
       "output_type": "stream",
       "stream": "stderr",
       "text": [
        "\r",
        "[  0 %] elapsed[sec]: 0.048 | ETA[sec]: 10.317 "
       ]
      },
      {
       "output_type": "stream",
       "stream": "stderr",
       "text": [
        "\r",
        "[  0 %] elapsed[sec]: 0.049 | ETA[sec]: 9.112 "
       ]
      },
      {
       "output_type": "stream",
       "stream": "stderr",
       "text": [
        "\r",
        "[  0 %] elapsed[sec]: 0.049 | ETA[sec]: 8.161 "
       ]
      },
      {
       "output_type": "stream",
       "stream": "stderr",
       "text": [
        "\r",
        "[  0 %] elapsed[sec]: 0.051 | ETA[sec]: 7.673 "
       ]
      },
      {
       "output_type": "stream",
       "stream": "stderr",
       "text": [
        "\r",
        "[  0 %] elapsed[sec]: 0.054 | ETA[sec]: 7.267 "
       ]
      },
      {
       "output_type": "stream",
       "stream": "stderr",
       "text": [
        "\r",
        "[  0 %] elapsed[sec]: 0.055 | ETA[sec]: 6.859 "
       ]
      },
      {
       "output_type": "stream",
       "stream": "stderr",
       "text": [
        "\r",
        "[  0 %] elapsed[sec]: 0.057 | ETA[sec]: 6.503 "
       ]
      },
      {
       "output_type": "stream",
       "stream": "stderr",
       "text": [
        "\r",
        "[  0 %] elapsed[sec]: 0.058 | ETA[sec]: 6.191 "
       ]
      },
      {
       "output_type": "stream",
       "stream": "stderr",
       "text": [
        "\r",
        "[  1 %] elapsed[sec]: 0.062 | ETA[sec]: 6.131 "
       ]
      },
      {
       "output_type": "stream",
       "stream": "stderr",
       "text": [
        "\r",
        "[  1 %] elapsed[sec]: 0.063 | ETA[sec]: 5.885 "
       ]
      },
      {
       "output_type": "stream",
       "stream": "stderr",
       "text": [
        "\r",
        "[  1 %] elapsed[sec]: 0.065 | ETA[sec]: 5.658 "
       ]
      },
      {
       "output_type": "stream",
       "stream": "stderr",
       "text": [
        "\r",
        "[  1 %] elapsed[sec]: 0.066 | ETA[sec]: 5.473 "
       ]
      },
      {
       "output_type": "stream",
       "stream": "stderr",
       "text": [
        "\r",
        "[  1 %] elapsed[sec]: 0.068 | ETA[sec]: 5.296 "
       ]
      },
      {
       "output_type": "stream",
       "stream": "stderr",
       "text": [
        "\r",
        "[  1 %] elapsed[sec]: 0.069 | ETA[sec]: 5.133 "
       ]
      },
      {
       "output_type": "stream",
       "stream": "stderr",
       "text": [
        "\r",
        "[  1 %] elapsed[sec]: 0.072 | ETA[sec]: 5.073 "
       ]
      },
      {
       "output_type": "stream",
       "stream": "stderr",
       "text": [
        "\r",
        "[  1 %] elapsed[sec]: 0.074 | ETA[sec]: 4.951 "
       ]
      },
      {
       "output_type": "stream",
       "stream": "stderr",
       "text": [
        "\r",
        "[  1 %] elapsed[sec]: 0.077 | ETA[sec]: 4.926 "
       ]
      },
      {
       "output_type": "stream",
       "stream": "stderr",
       "text": [
        "\r",
        "[  1 %] elapsed[sec]: 0.079 | ETA[sec]: 4.831 "
       ]
      },
      {
       "output_type": "stream",
       "stream": "stderr",
       "text": [
        "\r",
        "[  1 %] elapsed[sec]: 0.080 | ETA[sec]: 4.722 "
       ]
      },
      {
       "output_type": "stream",
       "stream": "stderr",
       "text": [
        "\r",
        "[  1 %] elapsed[sec]: 0.082 | ETA[sec]: 4.630 "
       ]
      },
      {
       "output_type": "stream",
       "stream": "stderr",
       "text": [
        "\r",
        "[  1 %] elapsed[sec]: 0.083 | ETA[sec]: 4.534 "
       ]
      },
      {
       "output_type": "stream",
       "stream": "stderr",
       "text": [
        "\r",
        "[  1 %] elapsed[sec]: 0.085 | ETA[sec]: 4.455 "
       ]
      },
      {
       "output_type": "stream",
       "stream": "stderr",
       "text": [
        "\r",
        "[  1 %] elapsed[sec]: 0.086 | ETA[sec]: 4.381 "
       ]
      },
      {
       "output_type": "stream",
       "stream": "stderr",
       "text": [
        "\r",
        "[  2 %] elapsed[sec]: 0.088 | ETA[sec]: 4.313 "
       ]
      },
      {
       "output_type": "stream",
       "stream": "stderr",
       "text": [
        "\r",
        "[  2 %] elapsed[sec]: 0.090 | ETA[sec]: 4.244 "
       ]
      },
      {
       "output_type": "stream",
       "stream": "stderr",
       "text": [
        "\r",
        "[  2 %] elapsed[sec]: 0.091 | ETA[sec]: 4.168 "
       ]
      },
      {
       "output_type": "stream",
       "stream": "stderr",
       "text": [
        "\r",
        "[  2 %] elapsed[sec]: 0.093 | ETA[sec]: 4.117 "
       ]
      },
      {
       "output_type": "stream",
       "stream": "stderr",
       "text": [
        "\r",
        "[  2 %] elapsed[sec]: 0.094 | ETA[sec]: 4.064 "
       ]
      },
      {
       "output_type": "stream",
       "stream": "stderr",
       "text": [
        "\r",
        "[  2 %] elapsed[sec]: 0.096 | ETA[sec]: 4.015 "
       ]
      },
      {
       "output_type": "stream",
       "stream": "stderr",
       "text": [
        "\r",
        "[  2 %] elapsed[sec]: 0.098 | ETA[sec]: 3.972 "
       ]
      },
      {
       "output_type": "stream",
       "stream": "stderr",
       "text": [
        "\r",
        "[  2 %] elapsed[sec]: 0.099 | ETA[sec]: 3.914 "
       ]
      },
      {
       "output_type": "stream",
       "stream": "stderr",
       "text": [
        "\r",
        "[  2 %] elapsed[sec]: 0.100 | ETA[sec]: 3.867 "
       ]
      },
      {
       "output_type": "stream",
       "stream": "stderr",
       "text": [
        "\r",
        "[  2 %] elapsed[sec]: 0.102 | ETA[sec]: 3.820 "
       ]
      },
      {
       "output_type": "stream",
       "stream": "stderr",
       "text": [
        "\r",
        "[  2 %] elapsed[sec]: 0.105 | ETA[sec]: 3.839 "
       ]
      },
      {
       "output_type": "stream",
       "stream": "stderr",
       "text": [
        "\r",
        "[  2 %] elapsed[sec]: 0.107 | ETA[sec]: 3.798 "
       ]
      },
      {
       "output_type": "stream",
       "stream": "stderr",
       "text": [
        "\r",
        "[  2 %] elapsed[sec]: 0.108 | ETA[sec]: 3.756 "
       ]
      },
      {
       "output_type": "stream",
       "stream": "stderr",
       "text": [
        "\r",
        "[  2 %] elapsed[sec]: 0.110 | ETA[sec]: 3.719 "
       ]
      },
      {
       "output_type": "stream",
       "stream": "stderr",
       "text": [
        "\r",
        "[  2 %] elapsed[sec]: 0.111 | ETA[sec]: 3.681 "
       ]
      },
      {
       "output_type": "stream",
       "stream": "stderr",
       "text": [
        "\r",
        "[  3 %] elapsed[sec]: 0.113 | ETA[sec]: 3.645 "
       ]
      },
      {
       "output_type": "stream",
       "stream": "stderr",
       "text": [
        "\r",
        "[  3 %] elapsed[sec]: 0.114 | ETA[sec]: 3.605 "
       ]
      },
      {
       "output_type": "stream",
       "stream": "stderr",
       "text": [
        "\r",
        "[  3 %] elapsed[sec]: 0.116 | ETA[sec]: 3.576 "
       ]
      },
      {
       "output_type": "stream",
       "stream": "stderr",
       "text": [
        "\r",
        "[  3 %] elapsed[sec]: 0.117 | ETA[sec]: 3.535 "
       ]
      },
      {
       "output_type": "stream",
       "stream": "stderr",
       "text": [
        "\r",
        "[  3 %] elapsed[sec]: 0.117 | ETA[sec]: 3.476 "
       ]
      },
      {
       "output_type": "stream",
       "stream": "stderr",
       "text": [
        "\r",
        "[  3 %] elapsed[sec]: 0.118 | ETA[sec]: 3.417 "
       ]
      },
      {
       "output_type": "stream",
       "stream": "stderr",
       "text": [
        "\r",
        "[  3 %] elapsed[sec]: 0.118 | ETA[sec]: 3.363 "
       ]
      },
      {
       "output_type": "stream",
       "stream": "stderr",
       "text": [
        "\r",
        "[  3 %] elapsed[sec]: 0.119 | ETA[sec]: 3.310 "
       ]
      },
      {
       "output_type": "stream",
       "stream": "stderr",
       "text": [
        "\r",
        "[  3 %] elapsed[sec]: 0.120 | ETA[sec]: 3.264 "
       ]
      },
      {
       "output_type": "stream",
       "stream": "stderr",
       "text": [
        "\r",
        "[  3 %] elapsed[sec]: 0.121 | ETA[sec]: 3.240 "
       ]
      },
      {
       "output_type": "stream",
       "stream": "stderr",
       "text": [
        "\r",
        "[  3 %] elapsed[sec]: 0.122 | ETA[sec]: 3.215 "
       ]
      },
      {
       "output_type": "stream",
       "stream": "stderr",
       "text": [
        "\r",
        "[  3 %] elapsed[sec]: 0.124 | ETA[sec]: 3.191 "
       ]
      },
      {
       "output_type": "stream",
       "stream": "stderr",
       "text": [
        "\r",
        "[  3 %] elapsed[sec]: 0.125 | ETA[sec]: 3.168 "
       ]
      },
      {
       "output_type": "stream",
       "stream": "stderr",
       "text": [
        "\r",
        "[  3 %] elapsed[sec]: 0.126 | ETA[sec]: 3.145 "
       ]
      },
      {
       "output_type": "stream",
       "stream": "stderr",
       "text": [
        "\r",
        "[  3 %] elapsed[sec]: 0.129 | ETA[sec]: 3.142 "
       ]
      },
      {
       "output_type": "stream",
       "stream": "stderr",
       "text": [
        "\r",
        "[  4 %] elapsed[sec]: 0.130 | ETA[sec]: 3.121 "
       ]
      },
      {
       "output_type": "stream",
       "stream": "stderr",
       "text": [
        "\r",
        "[  4 %] elapsed[sec]: 0.132 | ETA[sec]: 3.103 "
       ]
      },
      {
       "output_type": "stream",
       "stream": "stderr",
       "text": [
        "\r",
        "[  4 %] elapsed[sec]: 0.132 | ETA[sec]: 3.063 "
       ]
      },
      {
       "output_type": "stream",
       "stream": "stderr",
       "text": [
        "\r",
        "[  4 %] elapsed[sec]: 0.132 | ETA[sec]: 3.022 "
       ]
      },
      {
       "output_type": "stream",
       "stream": "stderr",
       "text": [
        "\r",
        "[  4 %] elapsed[sec]: 0.133 | ETA[sec]: 2.981 "
       ]
      },
      {
       "output_type": "stream",
       "stream": "stderr",
       "text": [
        "\r",
        "[  4 %] elapsed[sec]: 0.133 | ETA[sec]: 2.942 "
       ]
      },
      {
       "output_type": "stream",
       "stream": "stderr",
       "text": [
        "\r",
        "[  4 %] elapsed[sec]: 0.134 | ETA[sec]: 2.903 "
       ]
      },
      {
       "output_type": "stream",
       "stream": "stderr",
       "text": [
        "\r",
        "[  4 %] elapsed[sec]: 0.134 | ETA[sec]: 2.866 "
       ]
      },
      {
       "output_type": "stream",
       "stream": "stderr",
       "text": [
        "\r",
        "[  4 %] elapsed[sec]: 0.134 | ETA[sec]: 2.830 "
       ]
      },
      {
       "output_type": "stream",
       "stream": "stderr",
       "text": [
        "\r",
        "[  4 %] elapsed[sec]: 0.135 | ETA[sec]: 2.795 "
       ]
      },
      {
       "output_type": "stream",
       "stream": "stderr",
       "text": [
        "\r",
        "[  4 %] elapsed[sec]: 0.135 | ETA[sec]: 2.761 "
       ]
      },
      {
       "output_type": "stream",
       "stream": "stderr",
       "text": [
        "\r",
        "[  4 %] elapsed[sec]: 0.136 | ETA[sec]: 2.728 "
       ]
      },
      {
       "output_type": "stream",
       "stream": "stderr",
       "text": [
        "\r",
        "[  4 %] elapsed[sec]: 0.136 | ETA[sec]: 2.696 "
       ]
      },
      {
       "output_type": "stream",
       "stream": "stderr",
       "text": [
        "\r",
        "[  4 %] elapsed[sec]: 0.136 | ETA[sec]: 2.665 "
       ]
      },
      {
       "output_type": "stream",
       "stream": "stderr",
       "text": [
        "\r",
        "[  4 %] elapsed[sec]: 0.137 | ETA[sec]: 2.634 "
       ]
      },
      {
       "output_type": "stream",
       "stream": "stderr",
       "text": [
        "\r",
        "[  5 %] elapsed[sec]: 0.137 | ETA[sec]: 2.604 "
       ]
      },
      {
       "output_type": "stream",
       "stream": "stderr",
       "text": [
        "\r",
        "[  5 %] elapsed[sec]: 0.137 | ETA[sec]: 2.575 "
       ]
      },
      {
       "output_type": "stream",
       "stream": "stderr",
       "text": [
        "\r",
        "[  5 %] elapsed[sec]: 0.138 | ETA[sec]: 2.547 "
       ]
      },
      {
       "output_type": "stream",
       "stream": "stderr",
       "text": [
        "\r",
        "[  5 %] elapsed[sec]: 0.138 | ETA[sec]: 2.520 "
       ]
      },
      {
       "output_type": "stream",
       "stream": "stderr",
       "text": [
        "\r",
        "[  5 %] elapsed[sec]: 0.139 | ETA[sec]: 2.493 "
       ]
      },
      {
       "output_type": "stream",
       "stream": "stderr",
       "text": [
        "\r",
        "[  5 %] elapsed[sec]: 0.139 | ETA[sec]: 2.467 "
       ]
      },
      {
       "output_type": "stream",
       "stream": "stderr",
       "text": [
        "\r",
        "[  5 %] elapsed[sec]: 0.139 | ETA[sec]: 2.441 "
       ]
      },
      {
       "output_type": "stream",
       "stream": "stderr",
       "text": [
        "\r",
        "[  5 %] elapsed[sec]: 0.140 | ETA[sec]: 2.416 "
       ]
      },
      {
       "output_type": "stream",
       "stream": "stderr",
       "text": [
        "\r",
        "[  5 %] elapsed[sec]: 0.145 | ETA[sec]: 2.484 "
       ]
      },
      {
       "output_type": "stream",
       "stream": "stderr",
       "text": [
        "\r",
        "[  5 %] elapsed[sec]: 0.147 | ETA[sec]: 2.481 "
       ]
      },
      {
       "output_type": "stream",
       "stream": "stderr",
       "text": [
        "\r",
        "[  5 %] elapsed[sec]: 0.148 | ETA[sec]: 2.459 "
       ]
      },
      {
       "output_type": "stream",
       "stream": "stderr",
       "text": [
        "\r",
        "[  5 %] elapsed[sec]: 0.148 | ETA[sec]: 2.435 "
       ]
      },
      {
       "output_type": "stream",
       "stream": "stderr",
       "text": [
        "\r",
        "[  5 %] elapsed[sec]: 0.148 | ETA[sec]: 2.412 "
       ]
      },
      {
       "output_type": "stream",
       "stream": "stderr",
       "text": [
        "\r",
        "[  5 %] elapsed[sec]: 0.149 | ETA[sec]: 2.389 "
       ]
      },
      {
       "output_type": "stream",
       "stream": "stderr",
       "text": [
        "\r",
        "[  5 %] elapsed[sec]: 0.149 | ETA[sec]: 2.366 "
       ]
      },
      {
       "output_type": "stream",
       "stream": "stderr",
       "text": [
        "\r",
        "[  6 %] elapsed[sec]: 0.150 | ETA[sec]: 2.344 "
       ]
      },
      {
       "output_type": "stream",
       "stream": "stderr",
       "text": [
        "\r",
        "[  6 %] elapsed[sec]: 0.150 | ETA[sec]: 2.323 "
       ]
      },
      {
       "output_type": "stream",
       "stream": "stderr",
       "text": [
        "\r",
        "[  6 %] elapsed[sec]: 0.150 | ETA[sec]: 2.301 "
       ]
      },
      {
       "output_type": "stream",
       "stream": "stderr",
       "text": [
        "\r",
        "[  6 %] elapsed[sec]: 0.151 | ETA[sec]: 2.281 "
       ]
      },
      {
       "output_type": "stream",
       "stream": "stderr",
       "text": [
        "\r",
        "[  6 %] elapsed[sec]: 0.151 | ETA[sec]: 2.264 "
       ]
      },
      {
       "output_type": "stream",
       "stream": "stderr",
       "text": [
        "\r",
        "[  6 %] elapsed[sec]: 0.152 | ETA[sec]: 2.249 "
       ]
      },
      {
       "output_type": "stream",
       "stream": "stderr",
       "text": [
        "\r",
        "[  6 %] elapsed[sec]: 0.153 | ETA[sec]: 2.232 "
       ]
      },
      {
       "output_type": "stream",
       "stream": "stderr",
       "text": [
        "\r",
        "[  6 %] elapsed[sec]: 0.153 | ETA[sec]: 2.216 "
       ]
      },
      {
       "output_type": "stream",
       "stream": "stderr",
       "text": [
        "\r",
        "[  6 %] elapsed[sec]: 0.154 | ETA[sec]: 2.199 "
       ]
      },
      {
       "output_type": "stream",
       "stream": "stderr",
       "text": [
        "\r",
        "[  6 %] elapsed[sec]: 0.154 | ETA[sec]: 2.182 "
       ]
      },
      {
       "output_type": "stream",
       "stream": "stderr",
       "text": [
        "\r",
        "[  6 %] elapsed[sec]: 0.155 | ETA[sec]: 2.166 "
       ]
      },
      {
       "output_type": "stream",
       "stream": "stderr",
       "text": [
        "\r",
        "[  6 %] elapsed[sec]: 0.155 | ETA[sec]: 2.150 "
       ]
      },
      {
       "output_type": "stream",
       "stream": "stderr",
       "text": [
        "\r",
        "[  6 %] elapsed[sec]: 0.156 | ETA[sec]: 2.135 "
       ]
      },
      {
       "output_type": "stream",
       "stream": "stderr",
       "text": [
        "\r",
        "[  6 %] elapsed[sec]: 0.156 | ETA[sec]: 2.119 "
       ]
      },
      {
       "output_type": "stream",
       "stream": "stderr",
       "text": [
        "\r",
        "[  6 %] elapsed[sec]: 0.157 | ETA[sec]: 2.105 "
       ]
      },
      {
       "output_type": "stream",
       "stream": "stderr",
       "text": [
        "\r",
        "[  7 %] elapsed[sec]: 0.157 | ETA[sec]: 2.090 "
       ]
      },
      {
       "output_type": "stream",
       "stream": "stderr",
       "text": [
        "\r",
        "[  7 %] elapsed[sec]: 0.158 | ETA[sec]: 2.075 "
       ]
      },
      {
       "output_type": "stream",
       "stream": "stderr",
       "text": [
        "\r",
        "[  7 %] elapsed[sec]: 0.160 | ETA[sec]: 2.078 "
       ]
      },
      {
       "output_type": "stream",
       "stream": "stderr",
       "text": [
        "\r",
        "[  7 %] elapsed[sec]: 0.160 | ETA[sec]: 2.065 "
       ]
      },
      {
       "output_type": "stream",
       "stream": "stderr",
       "text": [
        "\r",
        "[  7 %] elapsed[sec]: 0.161 | ETA[sec]: 2.051 "
       ]
      },
      {
       "output_type": "stream",
       "stream": "stderr",
       "text": [
        "\r",
        "[  7 %] elapsed[sec]: 0.161 | ETA[sec]: 2.039 "
       ]
      },
      {
       "output_type": "stream",
       "stream": "stderr",
       "text": [
        "\r",
        "[  7 %] elapsed[sec]: 0.162 | ETA[sec]: 2.026 "
       ]
      },
      {
       "output_type": "stream",
       "stream": "stderr",
       "text": [
        "\r",
        "[  7 %] elapsed[sec]: 0.162 | ETA[sec]: 2.014 "
       ]
      },
      {
       "output_type": "stream",
       "stream": "stderr",
       "text": [
        "\r",
        "[  7 %] elapsed[sec]: 0.163 | ETA[sec]: 2.001 "
       ]
      },
      {
       "output_type": "stream",
       "stream": "stderr",
       "text": [
        "\r",
        "[  7 %] elapsed[sec]: 0.164 | ETA[sec]: 1.988 "
       ]
      },
      {
       "output_type": "stream",
       "stream": "stderr",
       "text": [
        "\r",
        "[  7 %] elapsed[sec]: 0.164 | ETA[sec]: 1.976 "
       ]
      },
      {
       "output_type": "stream",
       "stream": "stderr",
       "text": [
        "\r",
        "[  7 %] elapsed[sec]: 0.165 | ETA[sec]: 1.963 "
       ]
      },
      {
       "output_type": "stream",
       "stream": "stderr",
       "text": [
        "\r",
        "[  7 %] elapsed[sec]: 0.165 | ETA[sec]: 1.954 "
       ]
      },
      {
       "output_type": "stream",
       "stream": "stderr",
       "text": [
        "\r",
        "[  7 %] elapsed[sec]: 0.166 | ETA[sec]: 1.941 "
       ]
      },
      {
       "output_type": "stream",
       "stream": "stderr",
       "text": [
        "\r",
        "[  7 %] elapsed[sec]: 0.166 | ETA[sec]: 1.929 "
       ]
      },
      {
       "output_type": "stream",
       "stream": "stderr",
       "text": [
        "\r",
        "[  8 %] elapsed[sec]: 0.167 | ETA[sec]: 1.916 "
       ]
      },
      {
       "output_type": "stream",
       "stream": "stderr",
       "text": [
        "\r",
        "[  8 %] elapsed[sec]: 0.167 | ETA[sec]: 1.904 "
       ]
      },
      {
       "output_type": "stream",
       "stream": "stderr",
       "text": [
        "\r",
        "[  8 %] elapsed[sec]: 0.168 | ETA[sec]: 1.892 "
       ]
      },
      {
       "output_type": "stream",
       "stream": "stderr",
       "text": [
        "\r",
        "[  8 %] elapsed[sec]: 0.168 | ETA[sec]: 1.881 "
       ]
      },
      {
       "output_type": "stream",
       "stream": "stderr",
       "text": [
        "\r",
        "[  8 %] elapsed[sec]: 0.169 | ETA[sec]: 1.871 "
       ]
      },
      {
       "output_type": "stream",
       "stream": "stderr",
       "text": [
        "\r",
        "[  8 %] elapsed[sec]: 0.169 | ETA[sec]: 1.860 "
       ]
      },
      {
       "output_type": "stream",
       "stream": "stderr",
       "text": [
        "\r",
        "[  8 %] elapsed[sec]: 0.170 | ETA[sec]: 1.849 "
       ]
      },
      {
       "output_type": "stream",
       "stream": "stderr",
       "text": [
        "\r",
        "[  8 %] elapsed[sec]: 0.170 | ETA[sec]: 1.839 "
       ]
      },
      {
       "output_type": "stream",
       "stream": "stderr",
       "text": [
        "\r",
        "[  8 %] elapsed[sec]: 0.171 | ETA[sec]: 1.829 "
       ]
      },
      {
       "output_type": "stream",
       "stream": "stderr",
       "text": [
        "\r",
        "[  8 %] elapsed[sec]: 0.171 | ETA[sec]: 1.818 "
       ]
      },
      {
       "output_type": "stream",
       "stream": "stderr",
       "text": [
        "\r",
        "[  8 %] elapsed[sec]: 0.172 | ETA[sec]: 1.817 "
       ]
      },
      {
       "output_type": "stream",
       "stream": "stderr",
       "text": [
        "\r",
        "[  8 %] elapsed[sec]: 0.173 | ETA[sec]: 1.807 "
       ]
      },
      {
       "output_type": "stream",
       "stream": "stderr",
       "text": [
        "\r",
        "[  8 %] elapsed[sec]: 0.173 | ETA[sec]: 1.796 "
       ]
      },
      {
       "output_type": "stream",
       "stream": "stderr",
       "text": [
        "\r",
        "[  8 %] elapsed[sec]: 0.174 | ETA[sec]: 1.785 "
       ]
      },
      {
       "output_type": "stream",
       "stream": "stderr",
       "text": [
        "\r",
        "[  8 %] elapsed[sec]: 0.174 | ETA[sec]: 1.775 "
       ]
      },
      {
       "output_type": "stream",
       "stream": "stderr",
       "text": [
        "\r",
        "[  9 %] elapsed[sec]: 0.175 | ETA[sec]: 1.765 "
       ]
      },
      {
       "output_type": "stream",
       "stream": "stderr",
       "text": [
        "\r",
        "[  9 %] elapsed[sec]: 0.175 | ETA[sec]: 1.758 "
       ]
      },
      {
       "output_type": "stream",
       "stream": "stderr",
       "text": [
        "\r",
        "[  9 %] elapsed[sec]: 0.176 | ETA[sec]: 1.753 "
       ]
      },
      {
       "output_type": "stream",
       "stream": "stderr",
       "text": [
        "\r",
        "[  9 %] elapsed[sec]: 0.177 | ETA[sec]: 1.744 "
       ]
      },
      {
       "output_type": "stream",
       "stream": "stderr",
       "text": [
        "\r",
        "[  9 %] elapsed[sec]: 0.177 | ETA[sec]: 1.737 "
       ]
      },
      {
       "output_type": "stream",
       "stream": "stderr",
       "text": [
        "\r",
        "[  9 %] elapsed[sec]: 0.178 | ETA[sec]: 1.728 "
       ]
      },
      {
       "output_type": "stream",
       "stream": "stderr",
       "text": [
        "\r",
        "[  9 %] elapsed[sec]: 0.185 | ETA[sec]: 1.786 "
       ]
      },
      {
       "output_type": "stream",
       "stream": "stderr",
       "text": [
        "\r",
        "[  9 %] elapsed[sec]: 0.186 | ETA[sec]: 1.777 "
       ]
      },
      {
       "output_type": "stream",
       "stream": "stderr",
       "text": [
        "\r",
        "[  9 %] elapsed[sec]: 0.186 | ETA[sec]: 1.767 "
       ]
      },
      {
       "output_type": "stream",
       "stream": "stderr",
       "text": [
        "\r",
        "[  9 %] elapsed[sec]: 0.187 | ETA[sec]: 1.757 "
       ]
      },
      {
       "output_type": "stream",
       "stream": "stderr",
       "text": [
        "\r",
        "[  9 %] elapsed[sec]: 0.189 | ETA[sec]: 1.768 "
       ]
      },
      {
       "output_type": "stream",
       "stream": "stderr",
       "text": [
        "\r",
        "[  9 %] elapsed[sec]: 0.190 | ETA[sec]: 1.759 "
       ]
      },
      {
       "output_type": "stream",
       "stream": "stderr",
       "text": [
        "\r",
        "[  9 %] elapsed[sec]: 0.190 | ETA[sec]: 1.749 "
       ]
      },
      {
       "output_type": "stream",
       "stream": "stderr",
       "text": [
        "\r",
        "[  9 %] elapsed[sec]: 0.190 | ETA[sec]: 1.740 "
       ]
      },
      {
       "output_type": "stream",
       "stream": "stderr",
       "text": [
        "\r",
        "[  9 %] elapsed[sec]: 0.191 | ETA[sec]: 1.731 "
       ]
      },
      {
       "output_type": "stream",
       "stream": "stderr",
       "text": [
        "\r",
        "[ 10 %] elapsed[sec]: 0.195 | ETA[sec]: 1.753 "
       ]
      },
      {
       "output_type": "stream",
       "stream": "stderr",
       "text": [
        "\r",
        "[ 10 %] elapsed[sec]: 0.195 | ETA[sec]: 1.744 "
       ]
      },
      {
       "output_type": "stream",
       "stream": "stderr",
       "text": [
        "\r",
        "[ 10 %] elapsed[sec]: 0.196 | ETA[sec]: 1.741 "
       ]
      },
      {
       "output_type": "stream",
       "stream": "stderr",
       "text": [
        "\r",
        "[ 10 %] elapsed[sec]: 0.197 | ETA[sec]: 1.733 "
       ]
      },
      {
       "output_type": "stream",
       "stream": "stderr",
       "text": [
        "\r",
        "[ 10 %] elapsed[sec]: 0.197 | ETA[sec]: 1.724 "
       ]
      },
      {
       "output_type": "stream",
       "stream": "stderr",
       "text": [
        "\r",
        "[ 10 %] elapsed[sec]: 0.198 | ETA[sec]: 1.714 "
       ]
      },
      {
       "output_type": "stream",
       "stream": "stderr",
       "text": [
        "\r",
        "[ 10 %] elapsed[sec]: 0.198 | ETA[sec]: 1.707 "
       ]
      },
      {
       "output_type": "stream",
       "stream": "stderr",
       "text": [
        "\r",
        "[ 10 %] elapsed[sec]: 0.199 | ETA[sec]: 1.698 "
       ]
      },
      {
       "output_type": "stream",
       "stream": "stderr",
       "text": [
        "\r",
        "[ 10 %] elapsed[sec]: 0.199 | ETA[sec]: 1.691 "
       ]
      },
      {
       "output_type": "stream",
       "stream": "stderr",
       "text": [
        "\r",
        "[ 10 %] elapsed[sec]: 0.200 | ETA[sec]: 1.683 "
       ]
      },
      {
       "output_type": "stream",
       "stream": "stderr",
       "text": [
        "\r",
        "[ 10 %] elapsed[sec]: 0.200 | ETA[sec]: 1.675 "
       ]
      },
      {
       "output_type": "stream",
       "stream": "stderr",
       "text": [
        "\r",
        "[ 10 %] elapsed[sec]: 0.201 | ETA[sec]: 1.668 "
       ]
      },
      {
       "output_type": "stream",
       "stream": "stderr",
       "text": [
        "\r",
        "[ 10 %] elapsed[sec]: 0.201 | ETA[sec]: 1.662 "
       ]
      },
      {
       "output_type": "stream",
       "stream": "stderr",
       "text": [
        "\r",
        "[ 10 %] elapsed[sec]: 0.202 | ETA[sec]: 1.654 "
       ]
      },
      {
       "output_type": "stream",
       "stream": "stderr",
       "text": [
        "\r",
        "[ 10 %] elapsed[sec]: 0.202 | ETA[sec]: 1.647 "
       ]
      },
      {
       "output_type": "stream",
       "stream": "stderr",
       "text": [
        "\r",
        "[ 11 %] elapsed[sec]: 0.203 | ETA[sec]: 1.640 "
       ]
      },
      {
       "output_type": "stream",
       "stream": "stderr",
       "text": [
        "\r",
        "[ 11 %] elapsed[sec]: 0.203 | ETA[sec]: 1.632 "
       ]
      },
      {
       "output_type": "stream",
       "stream": "stderr",
       "text": [
        "\r",
        "[ 11 %] elapsed[sec]: 0.204 | ETA[sec]: 1.625 "
       ]
      },
      {
       "output_type": "stream",
       "stream": "stderr",
       "text": [
        "\r",
        "[ 11 %] elapsed[sec]: 0.204 | ETA[sec]: 1.618 "
       ]
      },
      {
       "output_type": "stream",
       "stream": "stderr",
       "text": [
        "\r",
        "[ 11 %] elapsed[sec]: 0.205 | ETA[sec]: 1.611 "
       ]
      },
      {
       "output_type": "stream",
       "stream": "stderr",
       "text": [
        "\r",
        "[ 11 %] elapsed[sec]: 0.205 | ETA[sec]: 1.604 "
       ]
      },
      {
       "output_type": "stream",
       "stream": "stderr",
       "text": [
        "\r",
        "[ 11 %] elapsed[sec]: 0.205 | ETA[sec]: 1.597 "
       ]
      },
      {
       "output_type": "stream",
       "stream": "stderr",
       "text": [
        "\r",
        "[ 11 %] elapsed[sec]: 0.206 | ETA[sec]: 1.590 "
       ]
      },
      {
       "output_type": "stream",
       "stream": "stderr",
       "text": [
        "\r",
        "[ 11 %] elapsed[sec]: 0.207 | ETA[sec]: 1.585 "
       ]
      },
      {
       "output_type": "stream",
       "stream": "stderr",
       "text": [
        "\r",
        "[ 11 %] elapsed[sec]: 0.207 | ETA[sec]: 1.577 "
       ]
      },
      {
       "output_type": "stream",
       "stream": "stderr",
       "text": [
        "\r",
        "[ 11 %] elapsed[sec]: 0.208 | ETA[sec]: 1.572 "
       ]
      },
      {
       "output_type": "stream",
       "stream": "stderr",
       "text": [
        "\r",
        "[ 11 %] elapsed[sec]: 0.208 | ETA[sec]: 1.565 "
       ]
      },
      {
       "output_type": "stream",
       "stream": "stderr",
       "text": [
        "\r",
        "[ 11 %] elapsed[sec]: 0.211 | ETA[sec]: 1.577 "
       ]
      },
      {
       "output_type": "stream",
       "stream": "stderr",
       "text": [
        "\r",
        "[ 11 %] elapsed[sec]: 0.211 | ETA[sec]: 1.570 "
       ]
      },
      {
       "output_type": "stream",
       "stream": "stderr",
       "text": [
        "\r",
        "[ 11 %] elapsed[sec]: 0.212 | ETA[sec]: 1.563 "
       ]
      },
      {
       "output_type": "stream",
       "stream": "stderr",
       "text": [
        "\r",
        "[ 12 %] elapsed[sec]: 0.212 | ETA[sec]: 1.556 "
       ]
      },
      {
       "output_type": "stream",
       "stream": "stderr",
       "text": [
        "\r",
        "[ 12 %] elapsed[sec]: 0.213 | ETA[sec]: 1.549 "
       ]
      },
      {
       "output_type": "stream",
       "stream": "stderr",
       "text": [
        "\r",
        "[ 12 %] elapsed[sec]: 0.213 | ETA[sec]: 1.542 "
       ]
      },
      {
       "output_type": "stream",
       "stream": "stderr",
       "text": [
        "\r",
        "[ 12 %] elapsed[sec]: 0.213 | ETA[sec]: 1.535 "
       ]
      },
      {
       "output_type": "stream",
       "stream": "stderr",
       "text": [
        "\r",
        "[ 12 %] elapsed[sec]: 0.214 | ETA[sec]: 1.528 "
       ]
      },
      {
       "output_type": "stream",
       "stream": "stderr",
       "text": [
        "\r",
        "[ 12 %] elapsed[sec]: 0.214 | ETA[sec]: 1.522 "
       ]
      },
      {
       "output_type": "stream",
       "stream": "stderr",
       "text": [
        "\r",
        "[ 12 %] elapsed[sec]: 0.214 | ETA[sec]: 1.515 "
       ]
      },
      {
       "output_type": "stream",
       "stream": "stderr",
       "text": [
        "\r",
        "[ 12 %] elapsed[sec]: 0.215 | ETA[sec]: 1.508 "
       ]
      },
      {
       "output_type": "stream",
       "stream": "stderr",
       "text": [
        "\r",
        "[ 12 %] elapsed[sec]: 0.215 | ETA[sec]: 1.502 "
       ]
      },
      {
       "output_type": "stream",
       "stream": "stderr",
       "text": [
        "\r",
        "[ 12 %] elapsed[sec]: 0.216 | ETA[sec]: 1.495 "
       ]
      },
      {
       "output_type": "stream",
       "stream": "stderr",
       "text": [
        "\r",
        "[ 12 %] elapsed[sec]: 0.216 | ETA[sec]: 1.489 "
       ]
      },
      {
       "output_type": "stream",
       "stream": "stderr",
       "text": [
        "\r",
        "[ 12 %] elapsed[sec]: 0.216 | ETA[sec]: 1.482 "
       ]
      },
      {
       "output_type": "stream",
       "stream": "stderr",
       "text": [
        "\r",
        "[ 12 %] elapsed[sec]: 0.217 | ETA[sec]: 1.476 "
       ]
      },
      {
       "output_type": "stream",
       "stream": "stderr",
       "text": [
        "\r",
        "[ 12 %] elapsed[sec]: 0.217 | ETA[sec]: 1.470 "
       ]
      },
      {
       "output_type": "stream",
       "stream": "stderr",
       "text": [
        "\r",
        "[ 12 %] elapsed[sec]: 0.217 | ETA[sec]: 1.464 "
       ]
      },
      {
       "output_type": "stream",
       "stream": "stderr",
       "text": [
        "\r",
        "[ 13 %] elapsed[sec]: 0.218 | ETA[sec]: 1.458 "
       ]
      },
      {
       "output_type": "stream",
       "stream": "stderr",
       "text": [
        "\r",
        "[ 13 %] elapsed[sec]: 0.218 | ETA[sec]: 1.452 "
       ]
      },
      {
       "output_type": "stream",
       "stream": "stderr",
       "text": [
        "\r",
        "[ 13 %] elapsed[sec]: 0.219 | ETA[sec]: 1.446 "
       ]
      },
      {
       "output_type": "stream",
       "stream": "stderr",
       "text": [
        "\r",
        "[ 13 %] elapsed[sec]: 0.219 | ETA[sec]: 1.439 "
       ]
      },
      {
       "output_type": "stream",
       "stream": "stderr",
       "text": [
        "\r",
        "[ 13 %] elapsed[sec]: 0.219 | ETA[sec]: 1.434 "
       ]
      },
      {
       "output_type": "stream",
       "stream": "stderr",
       "text": [
        "\r",
        "[ 13 %] elapsed[sec]: 0.220 | ETA[sec]: 1.428 "
       ]
      },
      {
       "output_type": "stream",
       "stream": "stderr",
       "text": [
        "\r",
        "[ 13 %] elapsed[sec]: 0.220 | ETA[sec]: 1.422 "
       ]
      },
      {
       "output_type": "stream",
       "stream": "stderr",
       "text": [
        "\r",
        "[ 13 %] elapsed[sec]: 0.220 | ETA[sec]: 1.416 "
       ]
      },
      {
       "output_type": "stream",
       "stream": "stderr",
       "text": [
        "\r",
        "[ 13 %] elapsed[sec]: 0.224 | ETA[sec]: 1.429 "
       ]
      },
      {
       "output_type": "stream",
       "stream": "stderr",
       "text": [
        "\r",
        "[ 13 %] elapsed[sec]: 0.224 | ETA[sec]: 1.424 "
       ]
      },
      {
       "output_type": "stream",
       "stream": "stderr",
       "text": [
        "\r",
        "[ 13 %] elapsed[sec]: 0.225 | ETA[sec]: 1.419 "
       ]
      },
      {
       "output_type": "stream",
       "stream": "stderr",
       "text": [
        "\r",
        "[ 13 %] elapsed[sec]: 0.225 | ETA[sec]: 1.413 "
       ]
      },
      {
       "output_type": "stream",
       "stream": "stderr",
       "text": [
        "\r",
        "[ 13 %] elapsed[sec]: 0.225 | ETA[sec]: 1.408 "
       ]
      },
      {
       "output_type": "stream",
       "stream": "stderr",
       "text": [
        "\r",
        "[ 13 %] elapsed[sec]: 0.226 | ETA[sec]: 1.403 "
       ]
      },
      {
       "output_type": "stream",
       "stream": "stderr",
       "text": [
        "\r",
        "[ 13 %] elapsed[sec]: 0.226 | ETA[sec]: 1.397 "
       ]
      },
      {
       "output_type": "stream",
       "stream": "stderr",
       "text": [
        "\r",
        "[ 14 %] elapsed[sec]: 0.227 | ETA[sec]: 1.392 "
       ]
      },
      {
       "output_type": "stream",
       "stream": "stderr",
       "text": [
        "\r",
        "[ 14 %] elapsed[sec]: 0.227 | ETA[sec]: 1.387 "
       ]
      },
      {
       "output_type": "stream",
       "stream": "stderr",
       "text": [
        "\r",
        "[ 14 %] elapsed[sec]: 0.228 | ETA[sec]: 1.383 "
       ]
      },
      {
       "output_type": "stream",
       "stream": "stderr",
       "text": [
        "\r",
        "[ 14 %] elapsed[sec]: 0.228 | ETA[sec]: 1.378 "
       ]
      },
      {
       "output_type": "stream",
       "stream": "stderr",
       "text": [
        "\r",
        "[ 14 %] elapsed[sec]: 0.229 | ETA[sec]: 1.373 "
       ]
      },
      {
       "output_type": "stream",
       "stream": "stderr",
       "text": [
        "\r",
        "[ 14 %] elapsed[sec]: 0.229 | ETA[sec]: 1.368 "
       ]
      },
      {
       "output_type": "stream",
       "stream": "stderr",
       "text": [
        "\r",
        "[ 14 %] elapsed[sec]: 0.229 | ETA[sec]: 1.363 "
       ]
      },
      {
       "output_type": "stream",
       "stream": "stderr",
       "text": [
        "\r",
        "[ 14 %] elapsed[sec]: 0.230 | ETA[sec]: 1.358 "
       ]
      },
      {
       "output_type": "stream",
       "stream": "stderr",
       "text": [
        "\r",
        "[ 14 %] elapsed[sec]: 0.230 | ETA[sec]: 1.353 "
       ]
      },
      {
       "output_type": "stream",
       "stream": "stderr",
       "text": [
        "\r",
        "[ 14 %] elapsed[sec]: 0.230 | ETA[sec]: 1.348 "
       ]
      },
      {
       "output_type": "stream",
       "stream": "stderr",
       "text": [
        "\r",
        "[ 14 %] elapsed[sec]: 0.231 | ETA[sec]: 1.343 "
       ]
      },
      {
       "output_type": "stream",
       "stream": "stderr",
       "text": [
        "\r",
        "[ 14 %] elapsed[sec]: 0.231 | ETA[sec]: 1.338 "
       ]
      },
      {
       "output_type": "stream",
       "stream": "stderr",
       "text": [
        "\r",
        "[ 14 %] elapsed[sec]: 0.232 | ETA[sec]: 1.333 "
       ]
      },
      {
       "output_type": "stream",
       "stream": "stderr",
       "text": [
        "\r",
        "[ 14 %] elapsed[sec]: 0.232 | ETA[sec]: 1.328 "
       ]
      },
      {
       "output_type": "stream",
       "stream": "stderr",
       "text": [
        "\r",
        "[ 14 %] elapsed[sec]: 0.232 | ETA[sec]: 1.324 "
       ]
      },
      {
       "output_type": "stream",
       "stream": "stderr",
       "text": [
        "\r",
        "[ 15 %] elapsed[sec]: 0.233 | ETA[sec]: 1.320 "
       ]
      },
      {
       "output_type": "stream",
       "stream": "stderr",
       "text": [
        "\r",
        "[ 15 %] elapsed[sec]: 0.233 | ETA[sec]: 1.316 "
       ]
      },
      {
       "output_type": "stream",
       "stream": "stderr",
       "text": [
        "\r",
        "[ 15 %] elapsed[sec]: 0.234 | ETA[sec]: 1.313 "
       ]
      },
      {
       "output_type": "stream",
       "stream": "stderr",
       "text": [
        "\r",
        "[ 15 %] elapsed[sec]: 0.239 | ETA[sec]: 1.336 "
       ]
      },
      {
       "output_type": "stream",
       "stream": "stderr",
       "text": [
        "\r",
        "[ 15 %] elapsed[sec]: 0.240 | ETA[sec]: 1.331 "
       ]
      },
      {
       "output_type": "stream",
       "stream": "stderr",
       "text": [
        "\r",
        "[ 15 %] elapsed[sec]: 0.240 | ETA[sec]: 1.326 "
       ]
      },
      {
       "output_type": "stream",
       "stream": "stderr",
       "text": [
        "\r",
        "[ 15 %] elapsed[sec]: 0.241 | ETA[sec]: 1.322 "
       ]
      },
      {
       "output_type": "stream",
       "stream": "stderr",
       "text": [
        "\r",
        "[ 15 %] elapsed[sec]: 0.241 | ETA[sec]: 1.318 "
       ]
      },
      {
       "output_type": "stream",
       "stream": "stderr",
       "text": [
        "\r",
        "[ 15 %] elapsed[sec]: 0.241 | ETA[sec]: 1.313 "
       ]
      },
      {
       "output_type": "stream",
       "stream": "stderr",
       "text": [
        "\r",
        "[ 15 %] elapsed[sec]: 0.242 | ETA[sec]: 1.310 "
       ]
      },
      {
       "output_type": "stream",
       "stream": "stderr",
       "text": [
        "\r",
        "[ 15 %] elapsed[sec]: 0.243 | ETA[sec]: 1.306 "
       ]
      },
      {
       "output_type": "stream",
       "stream": "stderr",
       "text": [
        "\r",
        "[ 15 %] elapsed[sec]: 0.243 | ETA[sec]: 1.301 "
       ]
      },
      {
       "output_type": "stream",
       "stream": "stderr",
       "text": [
        "\r",
        "[ 15 %] elapsed[sec]: 0.243 | ETA[sec]: 1.298 "
       ]
      },
      {
       "output_type": "stream",
       "stream": "stderr",
       "text": [
        "\r",
        "[ 15 %] elapsed[sec]: 0.244 | ETA[sec]: 1.293 "
       ]
      },
      {
       "output_type": "stream",
       "stream": "stderr",
       "text": [
        "\r",
        "[ 15 %] elapsed[sec]: 0.244 | ETA[sec]: 1.289 "
       ]
      },
      {
       "output_type": "stream",
       "stream": "stderr",
       "text": [
        "\r",
        "[ 16 %] elapsed[sec]: 0.245 | ETA[sec]: 1.285 "
       ]
      },
      {
       "output_type": "stream",
       "stream": "stderr",
       "text": [
        "\r",
        "[ 16 %] elapsed[sec]: 0.245 | ETA[sec]: 1.280 "
       ]
      },
      {
       "output_type": "stream",
       "stream": "stderr",
       "text": [
        "\r",
        "[ 16 %] elapsed[sec]: 0.245 | ETA[sec]: 1.276 "
       ]
      },
      {
       "output_type": "stream",
       "stream": "stderr",
       "text": [
        "\r",
        "[ 16 %] elapsed[sec]: 0.246 | ETA[sec]: 1.272 "
       ]
      },
      {
       "output_type": "stream",
       "stream": "stderr",
       "text": [
        "\r",
        "[ 16 %] elapsed[sec]: 0.247 | ETA[sec]: 1.269 "
       ]
      },
      {
       "output_type": "stream",
       "stream": "stderr",
       "text": [
        "\r",
        "[ 16 %] elapsed[sec]: 0.247 | ETA[sec]: 1.265 "
       ]
      },
      {
       "output_type": "stream",
       "stream": "stderr",
       "text": [
        "\r",
        "[ 16 %] elapsed[sec]: 0.248 | ETA[sec]: 1.263 "
       ]
      },
      {
       "output_type": "stream",
       "stream": "stderr",
       "text": [
        "\r",
        "[ 16 %] elapsed[sec]: 0.248 | ETA[sec]: 1.258 "
       ]
      },
      {
       "output_type": "stream",
       "stream": "stderr",
       "text": [
        "\r",
        "[ 16 %] elapsed[sec]: 0.249 | ETA[sec]: 1.255 "
       ]
      },
      {
       "output_type": "stream",
       "stream": "stderr",
       "text": [
        "\r",
        "[ 16 %] elapsed[sec]: 0.249 | ETA[sec]: 1.252 "
       ]
      },
      {
       "output_type": "stream",
       "stream": "stderr",
       "text": [
        "\r",
        "[ 16 %] elapsed[sec]: 0.250 | ETA[sec]: 1.248 "
       ]
      },
      {
       "output_type": "stream",
       "stream": "stderr",
       "text": [
        "\r",
        "[ 16 %] elapsed[sec]: 0.258 | ETA[sec]: 1.284 "
       ]
      },
      {
       "output_type": "stream",
       "stream": "stderr",
       "text": [
        "\r",
        "[ 16 %] elapsed[sec]: 0.258 | ETA[sec]: 1.280 "
       ]
      },
      {
       "output_type": "stream",
       "stream": "stderr",
       "text": [
        "\r",
        "[ 16 %] elapsed[sec]: 0.259 | ETA[sec]: 1.276 "
       ]
      },
      {
       "output_type": "stream",
       "stream": "stderr",
       "text": [
        "\r",
        "[ 16 %] elapsed[sec]: 0.259 | ETA[sec]: 1.272 "
       ]
      },
      {
       "output_type": "stream",
       "stream": "stderr",
       "text": [
        "\r",
        "[ 17 %] elapsed[sec]: 0.260 | ETA[sec]: 1.268 "
       ]
      },
      {
       "output_type": "stream",
       "stream": "stderr",
       "text": [
        "\r",
        "[ 17 %] elapsed[sec]: 0.260 | ETA[sec]: 1.264 "
       ]
      },
      {
       "output_type": "stream",
       "stream": "stderr",
       "text": [
        "\r",
        "[ 17 %] elapsed[sec]: 0.260 | ETA[sec]: 1.259 "
       ]
      },
      {
       "output_type": "stream",
       "stream": "stderr",
       "text": [
        "\r",
        "[ 17 %] elapsed[sec]: 0.261 | ETA[sec]: 1.255 "
       ]
      },
      {
       "output_type": "stream",
       "stream": "stderr",
       "text": [
        "\r",
        "[ 17 %] elapsed[sec]: 0.261 | ETA[sec]: 1.251 "
       ]
      },
      {
       "output_type": "stream",
       "stream": "stderr",
       "text": [
        "\r",
        "[ 17 %] elapsed[sec]: 0.262 | ETA[sec]: 1.247 "
       ]
      },
      {
       "output_type": "stream",
       "stream": "stderr",
       "text": [
        "\r",
        "[ 17 %] elapsed[sec]: 0.262 | ETA[sec]: 1.244 "
       ]
      },
      {
       "output_type": "stream",
       "stream": "stderr",
       "text": [
        "\r",
        "[ 17 %] elapsed[sec]: 0.262 | ETA[sec]: 1.240 "
       ]
      },
      {
       "output_type": "stream",
       "stream": "stderr",
       "text": [
        "\r",
        "[ 17 %] elapsed[sec]: 0.263 | ETA[sec]: 1.236 "
       ]
      },
      {
       "output_type": "stream",
       "stream": "stderr",
       "text": [
        "\r",
        "[ 17 %] elapsed[sec]: 0.263 | ETA[sec]: 1.232 "
       ]
      },
      {
       "output_type": "stream",
       "stream": "stderr",
       "text": [
        "\r",
        "[ 17 %] elapsed[sec]: 0.263 | ETA[sec]: 1.228 "
       ]
      },
      {
       "output_type": "stream",
       "stream": "stderr",
       "text": [
        "\r",
        "[ 17 %] elapsed[sec]: 0.264 | ETA[sec]: 1.224 "
       ]
      },
      {
       "output_type": "stream",
       "stream": "stderr",
       "text": [
        "\r",
        "[ 17 %] elapsed[sec]: 0.264 | ETA[sec]: 1.220 "
       ]
      },
      {
       "output_type": "stream",
       "stream": "stderr",
       "text": [
        "\r",
        "[ 17 %] elapsed[sec]: 0.265 | ETA[sec]: 1.216 "
       ]
      },
      {
       "output_type": "stream",
       "stream": "stderr",
       "text": [
        "\r",
        "[ 17 %] elapsed[sec]: 0.265 | ETA[sec]: 1.213 "
       ]
      },
      {
       "output_type": "stream",
       "stream": "stderr",
       "text": [
        "\r",
        "[ 18 %] elapsed[sec]: 0.265 | ETA[sec]: 1.209 "
       ]
      },
      {
       "output_type": "stream",
       "stream": "stderr",
       "text": [
        "\r",
        "[ 18 %] elapsed[sec]: 0.266 | ETA[sec]: 1.205 "
       ]
      },
      {
       "output_type": "stream",
       "stream": "stderr",
       "text": [
        "\r",
        "[ 18 %] elapsed[sec]: 0.266 | ETA[sec]: 1.202 "
       ]
      },
      {
       "output_type": "stream",
       "stream": "stderr",
       "text": [
        "\r",
        "[ 18 %] elapsed[sec]: 0.267 | ETA[sec]: 1.199 "
       ]
      },
      {
       "output_type": "stream",
       "stream": "stderr",
       "text": [
        "\r",
        "[ 18 %] elapsed[sec]: 0.267 | ETA[sec]: 1.195 "
       ]
      },
      {
       "output_type": "stream",
       "stream": "stderr",
       "text": [
        "\r",
        "[ 18 %] elapsed[sec]: 0.268 | ETA[sec]: 1.192 "
       ]
      },
      {
       "output_type": "stream",
       "stream": "stderr",
       "text": [
        "\r",
        "[ 18 %] elapsed[sec]: 0.274 | ETA[sec]: 1.217 "
       ]
      },
      {
       "output_type": "stream",
       "stream": "stderr",
       "text": [
        "\r",
        "[ 18 %] elapsed[sec]: 0.275 | ETA[sec]: 1.214 "
       ]
      },
      {
       "output_type": "stream",
       "stream": "stderr",
       "text": [
        "\r",
        "[ 18 %] elapsed[sec]: 0.275 | ETA[sec]: 1.211 "
       ]
      },
      {
       "output_type": "stream",
       "stream": "stderr",
       "text": [
        "\r",
        "[ 18 %] elapsed[sec]: 0.276 | ETA[sec]: 1.207 "
       ]
      },
      {
       "output_type": "stream",
       "stream": "stderr",
       "text": [
        "\r",
        "[ 18 %] elapsed[sec]: 0.276 | ETA[sec]: 1.203 "
       ]
      },
      {
       "output_type": "stream",
       "stream": "stderr",
       "text": [
        "\r",
        "[ 18 %] elapsed[sec]: 0.277 | ETA[sec]: 1.200 "
       ]
      },
      {
       "output_type": "stream",
       "stream": "stderr",
       "text": [
        "\r",
        "[ 18 %] elapsed[sec]: 0.277 | ETA[sec]: 1.197 "
       ]
      },
      {
       "output_type": "stream",
       "stream": "stderr",
       "text": [
        "\r",
        "[ 18 %] elapsed[sec]: 0.278 | ETA[sec]: 1.194 "
       ]
      },
      {
       "output_type": "stream",
       "stream": "stderr",
       "text": [
        "\r",
        "[ 18 %] elapsed[sec]: 0.278 | ETA[sec]: 1.190 "
       ]
      },
      {
       "output_type": "stream",
       "stream": "stderr",
       "text": [
        "\r",
        "[ 19 %] elapsed[sec]: 0.278 | ETA[sec]: 1.188 "
       ]
      },
      {
       "output_type": "stream",
       "stream": "stderr",
       "text": [
        "\r",
        "[ 19 %] elapsed[sec]: 0.279 | ETA[sec]: 1.185 "
       ]
      },
      {
       "output_type": "stream",
       "stream": "stderr",
       "text": [
        "\r",
        "[ 19 %] elapsed[sec]: 0.279 | ETA[sec]: 1.181 "
       ]
      },
      {
       "output_type": "stream",
       "stream": "stderr",
       "text": [
        "\r",
        "[ 19 %] elapsed[sec]: 0.280 | ETA[sec]: 1.178 "
       ]
      },
      {
       "output_type": "stream",
       "stream": "stderr",
       "text": [
        "\r",
        "[ 19 %] elapsed[sec]: 0.280 | ETA[sec]: 1.175 "
       ]
      },
      {
       "output_type": "stream",
       "stream": "stderr",
       "text": [
        "\r",
        "[ 19 %] elapsed[sec]: 0.281 | ETA[sec]: 1.172 "
       ]
      },
      {
       "output_type": "stream",
       "stream": "stderr",
       "text": [
        "\r",
        "[ 19 %] elapsed[sec]: 0.281 | ETA[sec]: 1.169 "
       ]
      },
      {
       "output_type": "stream",
       "stream": "stderr",
       "text": [
        "\r",
        "[ 19 %] elapsed[sec]: 0.282 | ETA[sec]: 1.166 "
       ]
      },
      {
       "output_type": "stream",
       "stream": "stderr",
       "text": [
        "\r",
        "[ 19 %] elapsed[sec]: 0.282 | ETA[sec]: 1.162 "
       ]
      },
      {
       "output_type": "stream",
       "stream": "stderr",
       "text": [
        "\r",
        "[ 19 %] elapsed[sec]: 0.283 | ETA[sec]: 1.159 "
       ]
      },
      {
       "output_type": "stream",
       "stream": "stderr",
       "text": [
        "\r",
        "[ 19 %] elapsed[sec]: 0.283 | ETA[sec]: 1.157 "
       ]
      },
      {
       "output_type": "stream",
       "stream": "stderr",
       "text": [
        "\r",
        "[ 19 %] elapsed[sec]: 0.284 | ETA[sec]: 1.154 "
       ]
      },
      {
       "output_type": "stream",
       "stream": "stderr",
       "text": [
        "\r",
        "[ 19 %] elapsed[sec]: 0.284 | ETA[sec]: 1.151 "
       ]
      },
      {
       "output_type": "stream",
       "stream": "stderr",
       "text": [
        "\r",
        "[ 19 %] elapsed[sec]: 0.285 | ETA[sec]: 1.149 "
       ]
      },
      {
       "output_type": "stream",
       "stream": "stderr",
       "text": [
        "\r",
        "[ 19 %] elapsed[sec]: 0.285 | ETA[sec]: 1.146 "
       ]
      },
      {
       "output_type": "stream",
       "stream": "stderr",
       "text": [
        "\r",
        "[ 20 %] elapsed[sec]: 0.291 | ETA[sec]: 1.164 "
       ]
      },
      {
       "output_type": "stream",
       "stream": "stderr",
       "text": [
        "\r",
        "[ 20 %] elapsed[sec]: 0.291 | ETA[sec]: 1.161 "
       ]
      },
      {
       "output_type": "stream",
       "stream": "stderr",
       "text": [
        "\r",
        "[ 20 %] elapsed[sec]: 0.292 | ETA[sec]: 1.158 "
       ]
      },
      {
       "output_type": "stream",
       "stream": "stderr",
       "text": [
        "\r",
        "[ 20 %] elapsed[sec]: 0.292 | ETA[sec]: 1.155 "
       ]
      },
      {
       "output_type": "stream",
       "stream": "stderr",
       "text": [
        "\r",
        "[ 20 %] elapsed[sec]: 0.293 | ETA[sec]: 1.151 "
       ]
      },
      {
       "output_type": "stream",
       "stream": "stderr",
       "text": [
        "\r",
        "[ 20 %] elapsed[sec]: 0.293 | ETA[sec]: 1.148 "
       ]
      },
      {
       "output_type": "stream",
       "stream": "stderr",
       "text": [
        "\r",
        "[ 20 %] elapsed[sec]: 0.293 | ETA[sec]: 1.145 "
       ]
      },
      {
       "output_type": "stream",
       "stream": "stderr",
       "text": [
        "\r",
        "[ 20 %] elapsed[sec]: 0.294 | ETA[sec]: 1.142 "
       ]
      },
      {
       "output_type": "stream",
       "stream": "stderr",
       "text": [
        "\r",
        "[ 20 %] elapsed[sec]: 0.294 | ETA[sec]: 1.139 "
       ]
      },
      {
       "output_type": "stream",
       "stream": "stderr",
       "text": [
        "\r",
        "[ 20 %] elapsed[sec]: 0.295 | ETA[sec]: 1.135 "
       ]
      },
      {
       "output_type": "stream",
       "stream": "stderr",
       "text": [
        "\r",
        "[ 20 %] elapsed[sec]: 0.295 | ETA[sec]: 1.132 "
       ]
      },
      {
       "output_type": "stream",
       "stream": "stderr",
       "text": [
        "\r",
        "[ 20 %] elapsed[sec]: 0.295 | ETA[sec]: 1.129 "
       ]
      },
      {
       "output_type": "stream",
       "stream": "stderr",
       "text": [
        "\r",
        "[ 20 %] elapsed[sec]: 0.296 | ETA[sec]: 1.126 "
       ]
      },
      {
       "output_type": "stream",
       "stream": "stderr",
       "text": [
        "\r",
        "[ 20 %] elapsed[sec]: 0.296 | ETA[sec]: 1.123 "
       ]
      },
      {
       "output_type": "stream",
       "stream": "stderr",
       "text": [
        "\r",
        "[ 20 %] elapsed[sec]: 0.297 | ETA[sec]: 1.121 "
       ]
      },
      {
       "output_type": "stream",
       "stream": "stderr",
       "text": [
        "\r",
        "[ 21 %] elapsed[sec]: 0.297 | ETA[sec]: 1.118 "
       ]
      },
      {
       "output_type": "stream",
       "stream": "stderr",
       "text": [
        "\r",
        "[ 21 %] elapsed[sec]: 0.298 | ETA[sec]: 1.115 "
       ]
      },
      {
       "output_type": "stream",
       "stream": "stderr",
       "text": [
        "\r",
        "[ 21 %] elapsed[sec]: 0.298 | ETA[sec]: 1.112 "
       ]
      },
      {
       "output_type": "stream",
       "stream": "stderr",
       "text": [
        "\r",
        "[ 21 %] elapsed[sec]: 0.298 | ETA[sec]: 1.109 "
       ]
      },
      {
       "output_type": "stream",
       "stream": "stderr",
       "text": [
        "\r",
        "[ 21 %] elapsed[sec]: 0.299 | ETA[sec]: 1.106 "
       ]
      },
      {
       "output_type": "stream",
       "stream": "stderr",
       "text": [
        "\r",
        "[ 21 %] elapsed[sec]: 0.299 | ETA[sec]: 1.103 "
       ]
      },
      {
       "output_type": "stream",
       "stream": "stderr",
       "text": [
        "\r",
        "[ 21 %] elapsed[sec]: 0.300 | ETA[sec]: 1.101 "
       ]
      },
      {
       "output_type": "stream",
       "stream": "stderr",
       "text": [
        "\r",
        "[ 21 %] elapsed[sec]: 0.300 | ETA[sec]: 1.099 "
       ]
      },
      {
       "output_type": "stream",
       "stream": "stderr",
       "text": [
        "\r",
        "[ 21 %] elapsed[sec]: 0.301 | ETA[sec]: 1.096 "
       ]
      },
      {
       "output_type": "stream",
       "stream": "stderr",
       "text": [
        "\r",
        "[ 21 %] elapsed[sec]: 0.301 | ETA[sec]: 1.093 "
       ]
      },
      {
       "output_type": "stream",
       "stream": "stderr",
       "text": [
        "\r",
        "[ 21 %] elapsed[sec]: 0.302 | ETA[sec]: 1.090 "
       ]
      },
      {
       "output_type": "stream",
       "stream": "stderr",
       "text": [
        "\r",
        "[ 21 %] elapsed[sec]: 0.309 | ETA[sec]: 1.114 "
       ]
      },
      {
       "output_type": "stream",
       "stream": "stderr",
       "text": [
        "\r",
        "[ 21 %] elapsed[sec]: 0.310 | ETA[sec]: 1.111 "
       ]
      },
      {
       "output_type": "stream",
       "stream": "stderr",
       "text": [
        "\r",
        "[ 21 %] elapsed[sec]: 0.310 | ETA[sec]: 1.108 "
       ]
      },
      {
       "output_type": "stream",
       "stream": "stderr",
       "text": [
        "\r",
        "[ 21 %] elapsed[sec]: 0.310 | ETA[sec]: 1.105 "
       ]
      },
      {
       "output_type": "stream",
       "stream": "stderr",
       "text": [
        "\r",
        "[ 22 %] elapsed[sec]: 0.311 | ETA[sec]: 1.103 "
       ]
      },
      {
       "output_type": "stream",
       "stream": "stderr",
       "text": [
        "\r",
        "[ 22 %] elapsed[sec]: 0.312 | ETA[sec]: 1.101 "
       ]
      },
      {
       "output_type": "stream",
       "stream": "stderr",
       "text": [
        "\r",
        "[ 22 %] elapsed[sec]: 0.312 | ETA[sec]: 1.098 "
       ]
      },
      {
       "output_type": "stream",
       "stream": "stderr",
       "text": [
        "\r",
        "[ 22 %] elapsed[sec]: 0.312 | ETA[sec]: 1.095 "
       ]
      },
      {
       "output_type": "stream",
       "stream": "stderr",
       "text": [
        "\r",
        "[ 22 %] elapsed[sec]: 0.313 | ETA[sec]: 1.092 "
       ]
      },
      {
       "output_type": "stream",
       "stream": "stderr",
       "text": [
        "\r",
        "[ 22 %] elapsed[sec]: 0.313 | ETA[sec]: 1.089 "
       ]
      },
      {
       "output_type": "stream",
       "stream": "stderr",
       "text": [
        "\r",
        "[ 22 %] elapsed[sec]: 0.314 | ETA[sec]: 1.087 "
       ]
      },
      {
       "output_type": "stream",
       "stream": "stderr",
       "text": [
        "\r",
        "[ 22 %] elapsed[sec]: 0.314 | ETA[sec]: 1.084 "
       ]
      },
      {
       "output_type": "stream",
       "stream": "stderr",
       "text": [
        "\r",
        "[ 22 %] elapsed[sec]: 0.314 | ETA[sec]: 1.081 "
       ]
      },
      {
       "output_type": "stream",
       "stream": "stderr",
       "text": [
        "\r",
        "[ 22 %] elapsed[sec]: 0.315 | ETA[sec]: 1.078 "
       ]
      },
      {
       "output_type": "stream",
       "stream": "stderr",
       "text": [
        "\r",
        "[ 22 %] elapsed[sec]: 0.315 | ETA[sec]: 1.075 "
       ]
      },
      {
       "output_type": "stream",
       "stream": "stderr",
       "text": [
        "\r",
        "[ 22 %] elapsed[sec]: 0.315 | ETA[sec]: 1.072 "
       ]
      },
      {
       "output_type": "stream",
       "stream": "stderr",
       "text": [
        "\r",
        "[ 22 %] elapsed[sec]: 0.316 | ETA[sec]: 1.070 "
       ]
      },
      {
       "output_type": "stream",
       "stream": "stderr",
       "text": [
        "\r",
        "[ 22 %] elapsed[sec]: 0.316 | ETA[sec]: 1.067 "
       ]
      },
      {
       "output_type": "stream",
       "stream": "stderr",
       "text": [
        "\r",
        "[ 22 %] elapsed[sec]: 0.317 | ETA[sec]: 1.064 "
       ]
      },
      {
       "output_type": "stream",
       "stream": "stderr",
       "text": [
        "\r",
        "[ 23 %] elapsed[sec]: 0.317 | ETA[sec]: 1.061 "
       ]
      },
      {
       "output_type": "stream",
       "stream": "stderr",
       "text": [
        "\r",
        "[ 23 %] elapsed[sec]: 0.317 | ETA[sec]: 1.059 "
       ]
      },
      {
       "output_type": "stream",
       "stream": "stderr",
       "text": [
        "\r",
        "[ 23 %] elapsed[sec]: 0.318 | ETA[sec]: 1.056 "
       ]
      },
      {
       "output_type": "stream",
       "stream": "stderr",
       "text": [
        "\r",
        "[ 23 %] elapsed[sec]: 0.318 | ETA[sec]: 1.053 "
       ]
      },
      {
       "output_type": "stream",
       "stream": "stderr",
       "text": [
        "\r",
        "[ 23 %] elapsed[sec]: 0.318 | ETA[sec]: 1.050 "
       ]
      },
      {
       "output_type": "stream",
       "stream": "stderr",
       "text": [
        "\r",
        "[ 23 %] elapsed[sec]: 0.319 | ETA[sec]: 1.048 "
       ]
      },
      {
       "output_type": "stream",
       "stream": "stderr",
       "text": [
        "\r",
        "[ 23 %] elapsed[sec]: 0.326 | ETA[sec]: 1.068 "
       ]
      },
      {
       "output_type": "stream",
       "stream": "stderr",
       "text": [
        "\r",
        "[ 23 %] elapsed[sec]: 0.327 | ETA[sec]: 1.066 "
       ]
      },
      {
       "output_type": "stream",
       "stream": "stderr",
       "text": [
        "\r",
        "[ 23 %] elapsed[sec]: 0.327 | ETA[sec]: 1.063 "
       ]
      },
      {
       "output_type": "stream",
       "stream": "stderr",
       "text": [
        "\r",
        "[ 23 %] elapsed[sec]: 0.328 | ETA[sec]: 1.060 "
       ]
      },
      {
       "output_type": "stream",
       "stream": "stderr",
       "text": [
        "\r",
        "[ 23 %] elapsed[sec]: 0.328 | ETA[sec]: 1.058 "
       ]
      },
      {
       "output_type": "stream",
       "stream": "stderr",
       "text": [
        "\r",
        "[ 23 %] elapsed[sec]: 0.328 | ETA[sec]: 1.055 "
       ]
      },
      {
       "output_type": "stream",
       "stream": "stderr",
       "text": [
        "\r",
        "[ 23 %] elapsed[sec]: 0.329 | ETA[sec]: 1.052 "
       ]
      },
      {
       "output_type": "stream",
       "stream": "stderr",
       "text": [
        "\r",
        "[ 23 %] elapsed[sec]: 0.329 | ETA[sec]: 1.050 "
       ]
      },
      {
       "output_type": "stream",
       "stream": "stderr",
       "text": [
        "\r",
        "[ 23 %] elapsed[sec]: 0.329 | ETA[sec]: 1.047 "
       ]
      },
      {
       "output_type": "stream",
       "stream": "stderr",
       "text": [
        "\r",
        "[ 24 %] elapsed[sec]: 0.330 | ETA[sec]: 1.045 "
       ]
      },
      {
       "output_type": "stream",
       "stream": "stderr",
       "text": [
        "\r",
        "[ 24 %] elapsed[sec]: 0.330 | ETA[sec]: 1.043 "
       ]
      },
      {
       "output_type": "stream",
       "stream": "stderr",
       "text": [
        "\r",
        "[ 24 %] elapsed[sec]: 0.331 | ETA[sec]: 1.041 "
       ]
      },
      {
       "output_type": "stream",
       "stream": "stderr",
       "text": [
        "\r",
        "[ 24 %] elapsed[sec]: 0.331 | ETA[sec]: 1.038 "
       ]
      },
      {
       "output_type": "stream",
       "stream": "stderr",
       "text": [
        "\r",
        "[ 24 %] elapsed[sec]: 0.332 | ETA[sec]: 1.037 "
       ]
      },
      {
       "output_type": "stream",
       "stream": "stderr",
       "text": [
        "\r",
        "[ 24 %] elapsed[sec]: 0.333 | ETA[sec]: 1.035 "
       ]
      },
      {
       "output_type": "stream",
       "stream": "stderr",
       "text": [
        "\r",
        "[ 24 %] elapsed[sec]: 0.333 | ETA[sec]: 1.033 "
       ]
      },
      {
       "output_type": "stream",
       "stream": "stderr",
       "text": [
        "\r",
        "[ 24 %] elapsed[sec]: 0.334 | ETA[sec]: 1.031 "
       ]
      },
      {
       "output_type": "stream",
       "stream": "stderr",
       "text": [
        "\r",
        "[ 24 %] elapsed[sec]: 0.334 | ETA[sec]: 1.028 "
       ]
      },
      {
       "output_type": "stream",
       "stream": "stderr",
       "text": [
        "\r",
        "[ 24 %] elapsed[sec]: 0.335 | ETA[sec]: 1.026 "
       ]
      },
      {
       "output_type": "stream",
       "stream": "stderr",
       "text": [
        "\r",
        "[ 24 %] elapsed[sec]: 0.335 | ETA[sec]: 1.024 "
       ]
      },
      {
       "output_type": "stream",
       "stream": "stderr",
       "text": [
        "\r",
        "[ 24 %] elapsed[sec]: 0.336 | ETA[sec]: 1.023 "
       ]
      },
      {
       "output_type": "stream",
       "stream": "stderr",
       "text": [
        "\r",
        "[ 24 %] elapsed[sec]: 0.336 | ETA[sec]: 1.020 "
       ]
      },
      {
       "output_type": "stream",
       "stream": "stderr",
       "text": [
        "\r",
        "[ 24 %] elapsed[sec]: 0.337 | ETA[sec]: 1.018 "
       ]
      },
      {
       "output_type": "stream",
       "stream": "stderr",
       "text": [
        "\r",
        "[ 24 %] elapsed[sec]: 0.337 | ETA[sec]: 1.016 "
       ]
      },
      {
       "output_type": "stream",
       "stream": "stderr",
       "text": [
        "\r",
        "[ 25 %] elapsed[sec]: 0.341 | ETA[sec]: 1.024 "
       ]
      },
      {
       "output_type": "stream",
       "stream": "stderr",
       "text": [
        "\r",
        "[ 25 %] elapsed[sec]: 0.342 | ETA[sec]: 1.023 "
       ]
      },
      {
       "output_type": "stream",
       "stream": "stderr",
       "text": [
        "\r",
        "[ 25 %] elapsed[sec]: 0.343 | ETA[sec]: 1.021 "
       ]
      },
      {
       "output_type": "stream",
       "stream": "stderr",
       "text": [
        "\r",
        "[ 25 %] elapsed[sec]: 0.343 | ETA[sec]: 1.018 "
       ]
      },
      {
       "output_type": "stream",
       "stream": "stderr",
       "text": [
        "\r",
        "[ 25 %] elapsed[sec]: 0.343 | ETA[sec]: 1.016 "
       ]
      },
      {
       "output_type": "stream",
       "stream": "stderr",
       "text": [
        "\r",
        "[ 25 %] elapsed[sec]: 0.344 | ETA[sec]: 1.013 "
       ]
      },
      {
       "output_type": "stream",
       "stream": "stderr",
       "text": [
        "\r",
        "[ 25 %] elapsed[sec]: 0.344 | ETA[sec]: 1.011 "
       ]
      },
      {
       "output_type": "stream",
       "stream": "stderr",
       "text": [
        "\r",
        "[ 25 %] elapsed[sec]: 0.345 | ETA[sec]: 1.008 "
       ]
      },
      {
       "output_type": "stream",
       "stream": "stderr",
       "text": [
        "\r",
        "[ 25 %] elapsed[sec]: 0.345 | ETA[sec]: 1.007 "
       ]
      },
      {
       "output_type": "stream",
       "stream": "stderr",
       "text": [
        "\r",
        "[ 25 %] elapsed[sec]: 0.346 | ETA[sec]: 1.005 "
       ]
      },
      {
       "output_type": "stream",
       "stream": "stderr",
       "text": [
        "\r",
        "[ 25 %] elapsed[sec]: 0.346 | ETA[sec]: 1.003 "
       ]
      },
      {
       "output_type": "stream",
       "stream": "stderr",
       "text": [
        "\r",
        "[ 25 %] elapsed[sec]: 0.347 | ETA[sec]: 1.000 "
       ]
      },
      {
       "output_type": "stream",
       "stream": "stderr",
       "text": [
        "\r",
        "[ 25 %] elapsed[sec]: 0.347 | ETA[sec]: 0.998 "
       ]
      },
      {
       "output_type": "stream",
       "stream": "stderr",
       "text": [
        "\r",
        "[ 25 %] elapsed[sec]: 0.347 | ETA[sec]: 0.996 "
       ]
      },
      {
       "output_type": "stream",
       "stream": "stderr",
       "text": [
        "\r",
        "[ 25 %] elapsed[sec]: 0.348 | ETA[sec]: 0.995 "
       ]
      },
      {
       "output_type": "stream",
       "stream": "stderr",
       "text": [
        "\r",
        "[ 26 %] elapsed[sec]: 0.349 | ETA[sec]: 0.993 "
       ]
      },
      {
       "output_type": "stream",
       "stream": "stderr",
       "text": [
        "\r",
        "[ 26 %] elapsed[sec]: 0.349 | ETA[sec]: 0.990 "
       ]
      },
      {
       "output_type": "stream",
       "stream": "stderr",
       "text": [
        "\r",
        "[ 26 %] elapsed[sec]: 0.350 | ETA[sec]: 0.989 "
       ]
      },
      {
       "output_type": "stream",
       "stream": "stderr",
       "text": [
        "\r",
        "[ 26 %] elapsed[sec]: 0.350 | ETA[sec]: 0.986 "
       ]
      },
      {
       "output_type": "stream",
       "stream": "stderr",
       "text": [
        "\r",
        "[ 26 %] elapsed[sec]: 0.351 | ETA[sec]: 0.985 "
       ]
      },
      {
       "output_type": "stream",
       "stream": "stderr",
       "text": [
        "\r",
        "[ 26 %] elapsed[sec]: 0.351 | ETA[sec]: 0.983 "
       ]
      },
      {
       "output_type": "stream",
       "stream": "stderr",
       "text": [
        "\r",
        "[ 26 %] elapsed[sec]: 0.352 | ETA[sec]: 0.981 "
       ]
      },
      {
       "output_type": "stream",
       "stream": "stderr",
       "text": [
        "\r",
        "[ 26 %] elapsed[sec]: 0.352 | ETA[sec]: 0.979 "
       ]
      },
      {
       "output_type": "stream",
       "stream": "stderr",
       "text": [
        "\r",
        "[ 26 %] elapsed[sec]: 0.361 | ETA[sec]: 0.999 "
       ]
      },
      {
       "output_type": "stream",
       "stream": "stderr",
       "text": [
        "\r",
        "[ 26 %] elapsed[sec]: 0.361 | ETA[sec]: 0.997 "
       ]
      },
      {
       "output_type": "stream",
       "stream": "stderr",
       "text": [
        "\r",
        "[ 26 %] elapsed[sec]: 0.362 | ETA[sec]: 0.995 "
       ]
      },
      {
       "output_type": "stream",
       "stream": "stderr",
       "text": [
        "\r",
        "[ 26 %] elapsed[sec]: 0.362 | ETA[sec]: 0.992 "
       ]
      },
      {
       "output_type": "stream",
       "stream": "stderr",
       "text": [
        "\r",
        "[ 26 %] elapsed[sec]: 0.362 | ETA[sec]: 0.990 "
       ]
      },
      {
       "output_type": "stream",
       "stream": "stderr",
       "text": [
        "\r",
        "[ 26 %] elapsed[sec]: 0.363 | ETA[sec]: 0.988 "
       ]
      },
      {
       "output_type": "stream",
       "stream": "stderr",
       "text": [
        "\r",
        "[ 26 %] elapsed[sec]: 0.363 | ETA[sec]: 0.985 "
       ]
      },
      {
       "output_type": "stream",
       "stream": "stderr",
       "text": [
        "\r",
        "[ 27 %] elapsed[sec]: 0.364 | ETA[sec]: 0.983 "
       ]
      },
      {
       "output_type": "stream",
       "stream": "stderr",
       "text": [
        "\r",
        "[ 27 %] elapsed[sec]: 0.364 | ETA[sec]: 0.982 "
       ]
      },
      {
       "output_type": "stream",
       "stream": "stderr",
       "text": [
        "\r",
        "[ 27 %] elapsed[sec]: 0.365 | ETA[sec]: 0.980 "
       ]
      },
      {
       "output_type": "stream",
       "stream": "stderr",
       "text": [
        "\r",
        "[ 27 %] elapsed[sec]: 0.365 | ETA[sec]: 0.978 "
       ]
      },
      {
       "output_type": "stream",
       "stream": "stderr",
       "text": [
        "\r",
        "[ 27 %] elapsed[sec]: 0.366 | ETA[sec]: 0.976 "
       ]
      },
      {
       "output_type": "stream",
       "stream": "stderr",
       "text": [
        "\r",
        "[ 27 %] elapsed[sec]: 0.367 | ETA[sec]: 0.974 "
       ]
      },
      {
       "output_type": "stream",
       "stream": "stderr",
       "text": [
        "\r",
        "[ 27 %] elapsed[sec]: 0.367 | ETA[sec]: 0.973 "
       ]
      },
      {
       "output_type": "stream",
       "stream": "stderr",
       "text": [
        "\r",
        "[ 27 %] elapsed[sec]: 0.368 | ETA[sec]: 0.971 "
       ]
      },
      {
       "output_type": "stream",
       "stream": "stderr",
       "text": [
        "\r",
        "[ 27 %] elapsed[sec]: 0.368 | ETA[sec]: 0.968 "
       ]
      },
      {
       "output_type": "stream",
       "stream": "stderr",
       "text": [
        "\r",
        "[ 27 %] elapsed[sec]: 0.368 | ETA[sec]: 0.966 "
       ]
      },
      {
       "output_type": "stream",
       "stream": "stderr",
       "text": [
        "\r",
        "[ 27 %] elapsed[sec]: 0.369 | ETA[sec]: 0.964 "
       ]
      },
      {
       "output_type": "stream",
       "stream": "stderr",
       "text": [
        "\r",
        "[ 27 %] elapsed[sec]: 0.369 | ETA[sec]: 0.962 "
       ]
      },
      {
       "output_type": "stream",
       "stream": "stderr",
       "text": [
        "\r",
        "[ 27 %] elapsed[sec]: 0.369 | ETA[sec]: 0.960 "
       ]
      },
      {
       "output_type": "stream",
       "stream": "stderr",
       "text": [
        "\r",
        "[ 27 %] elapsed[sec]: 0.370 | ETA[sec]: 0.957 "
       ]
      },
      {
       "output_type": "stream",
       "stream": "stderr",
       "text": [
        "\r",
        "[ 27 %] elapsed[sec]: 0.370 | ETA[sec]: 0.955 "
       ]
      },
      {
       "output_type": "stream",
       "stream": "stderr",
       "text": [
        "\r",
        "[ 28 %] elapsed[sec]: 0.371 | ETA[sec]: 0.953 "
       ]
      },
      {
       "output_type": "stream",
       "stream": "stderr",
       "text": [
        "\r",
        "[ 28 %] elapsed[sec]: 0.371 | ETA[sec]: 0.951 "
       ]
      },
      {
       "output_type": "stream",
       "stream": "stderr",
       "text": [
        "\r",
        "[ 28 %] elapsed[sec]: 0.371 | ETA[sec]: 0.949 "
       ]
      },
      {
       "output_type": "stream",
       "stream": "stderr",
       "text": [
        "\r",
        "[ 28 %] elapsed[sec]: 0.375 | ETA[sec]: 0.956 "
       ]
      },
      {
       "output_type": "stream",
       "stream": "stderr",
       "text": [
        "\r",
        "[ 28 %] elapsed[sec]: 0.376 | ETA[sec]: 0.954 "
       ]
      },
      {
       "output_type": "stream",
       "stream": "stderr",
       "text": [
        "\r",
        "[ 28 %] elapsed[sec]: 0.376 | ETA[sec]: 0.952 "
       ]
      },
      {
       "output_type": "stream",
       "stream": "stderr",
       "text": [
        "\r",
        "[ 28 %] elapsed[sec]: 0.377 | ETA[sec]: 0.950 "
       ]
      },
      {
       "output_type": "stream",
       "stream": "stderr",
       "text": [
        "\r",
        "[ 28 %] elapsed[sec]: 0.377 | ETA[sec]: 0.947 "
       ]
      },
      {
       "output_type": "stream",
       "stream": "stderr",
       "text": [
        "\r",
        "[ 28 %] elapsed[sec]: 0.377 | ETA[sec]: 0.945 "
       ]
      },
      {
       "output_type": "stream",
       "stream": "stderr",
       "text": [
        "\r",
        "[ 28 %] elapsed[sec]: 0.378 | ETA[sec]: 0.943 "
       ]
      },
      {
       "output_type": "stream",
       "stream": "stderr",
       "text": [
        "\r",
        "[ 28 %] elapsed[sec]: 0.378 | ETA[sec]: 0.942 "
       ]
      },
      {
       "output_type": "stream",
       "stream": "stderr",
       "text": [
        "\r",
        "[ 28 %] elapsed[sec]: 0.379 | ETA[sec]: 0.940 "
       ]
      },
      {
       "output_type": "stream",
       "stream": "stderr",
       "text": [
        "\r",
        "[ 28 %] elapsed[sec]: 0.379 | ETA[sec]: 0.937 "
       ]
      },
      {
       "output_type": "stream",
       "stream": "stderr",
       "text": [
        "\r",
        "[ 28 %] elapsed[sec]: 0.380 | ETA[sec]: 0.935 "
       ]
      },
      {
       "output_type": "stream",
       "stream": "stderr",
       "text": [
        "\r",
        "[ 28 %] elapsed[sec]: 0.380 | ETA[sec]: 0.933 "
       ]
      },
      {
       "output_type": "stream",
       "stream": "stderr",
       "text": [
        "\r",
        "[ 29 %] elapsed[sec]: 0.380 | ETA[sec]: 0.931 "
       ]
      },
      {
       "output_type": "stream",
       "stream": "stderr",
       "text": [
        "\r",
        "[ 29 %] elapsed[sec]: 0.381 | ETA[sec]: 0.930 "
       ]
      },
      {
       "output_type": "stream",
       "stream": "stderr",
       "text": [
        "\r",
        "[ 29 %] elapsed[sec]: 0.382 | ETA[sec]: 0.928 "
       ]
      },
      {
       "output_type": "stream",
       "stream": "stderr",
       "text": [
        "\r",
        "[ 29 %] elapsed[sec]: 0.382 | ETA[sec]: 0.926 "
       ]
      },
      {
       "output_type": "stream",
       "stream": "stderr",
       "text": [
        "\r",
        "[ 29 %] elapsed[sec]: 0.382 | ETA[sec]: 0.924 "
       ]
      },
      {
       "output_type": "stream",
       "stream": "stderr",
       "text": [
        "\r",
        "[ 29 %] elapsed[sec]: 0.383 | ETA[sec]: 0.922 "
       ]
      },
      {
       "output_type": "stream",
       "stream": "stderr",
       "text": [
        "\r",
        "[ 29 %] elapsed[sec]: 0.383 | ETA[sec]: 0.920 "
       ]
      },
      {
       "output_type": "stream",
       "stream": "stderr",
       "text": [
        "\r",
        "[ 29 %] elapsed[sec]: 0.384 | ETA[sec]: 0.919 "
       ]
      },
      {
       "output_type": "stream",
       "stream": "stderr",
       "text": [
        "\r",
        "[ 29 %] elapsed[sec]: 0.384 | ETA[sec]: 0.917 "
       ]
      },
      {
       "output_type": "stream",
       "stream": "stderr",
       "text": [
        "\r",
        "[ 29 %] elapsed[sec]: 0.385 | ETA[sec]: 0.916 "
       ]
      },
      {
       "output_type": "stream",
       "stream": "stderr",
       "text": [
        "\r",
        "[ 29 %] elapsed[sec]: 0.386 | ETA[sec]: 0.914 "
       ]
      },
      {
       "output_type": "stream",
       "stream": "stderr",
       "text": [
        "\r",
        "[ 29 %] elapsed[sec]: 0.386 | ETA[sec]: 0.912 "
       ]
      },
      {
       "output_type": "stream",
       "stream": "stderr",
       "text": [
        "\r",
        "[ 29 %] elapsed[sec]: 0.395 | ETA[sec]: 0.931 "
       ]
      },
      {
       "output_type": "stream",
       "stream": "stderr",
       "text": [
        "\r",
        "[ 29 %] elapsed[sec]: 0.396 | ETA[sec]: 0.929 "
       ]
      },
      {
       "output_type": "stream",
       "stream": "stderr",
       "text": [
        "\r",
        "[ 29 %] elapsed[sec]: 0.396 | ETA[sec]: 0.927 "
       ]
      },
      {
       "output_type": "stream",
       "stream": "stderr",
       "text": [
        "\r",
        "[ 30 %] elapsed[sec]: 0.397 | ETA[sec]: 0.925 "
       ]
      },
      {
       "output_type": "stream",
       "stream": "stderr",
       "text": [
        "\r",
        "[ 30 %] elapsed[sec]: 0.397 | ETA[sec]: 0.923 "
       ]
      },
      {
       "output_type": "stream",
       "stream": "stderr",
       "text": [
        "\r",
        "[ 30 %] elapsed[sec]: 0.397 | ETA[sec]: 0.921 "
       ]
      },
      {
       "output_type": "stream",
       "stream": "stderr",
       "text": [
        "\r",
        "[ 30 %] elapsed[sec]: 0.398 | ETA[sec]: 0.920 "
       ]
      },
      {
       "output_type": "stream",
       "stream": "stderr",
       "text": [
        "\r",
        "[ 30 %] elapsed[sec]: 0.398 | ETA[sec]: 0.918 "
       ]
      },
      {
       "output_type": "stream",
       "stream": "stderr",
       "text": [
        "\r",
        "[ 30 %] elapsed[sec]: 0.399 | ETA[sec]: 0.916 "
       ]
      },
      {
       "output_type": "stream",
       "stream": "stderr",
       "text": [
        "\r",
        "[ 30 %] elapsed[sec]: 0.399 | ETA[sec]: 0.914 "
       ]
      },
      {
       "output_type": "stream",
       "stream": "stderr",
       "text": [
        "\r",
        "[ 30 %] elapsed[sec]: 0.400 | ETA[sec]: 0.913 "
       ]
      },
      {
       "output_type": "stream",
       "stream": "stderr",
       "text": [
        "\r",
        "[ 30 %] elapsed[sec]: 0.400 | ETA[sec]: 0.911 "
       ]
      },
      {
       "output_type": "stream",
       "stream": "stderr",
       "text": [
        "\r",
        "[ 30 %] elapsed[sec]: 0.401 | ETA[sec]: 0.910 "
       ]
      },
      {
       "output_type": "stream",
       "stream": "stderr",
       "text": [
        "\r",
        "[ 30 %] elapsed[sec]: 0.401 | ETA[sec]: 0.908 "
       ]
      },
      {
       "output_type": "stream",
       "stream": "stderr",
       "text": [
        "\r",
        "[ 30 %] elapsed[sec]: 0.402 | ETA[sec]: 0.906 "
       ]
      },
      {
       "output_type": "stream",
       "stream": "stderr",
       "text": [
        "\r",
        "[ 30 %] elapsed[sec]: 0.402 | ETA[sec]: 0.904 "
       ]
      },
      {
       "output_type": "stream",
       "stream": "stderr",
       "text": [
        "\r",
        "[ 30 %] elapsed[sec]: 0.403 | ETA[sec]: 0.902 "
       ]
      },
      {
       "output_type": "stream",
       "stream": "stderr",
       "text": [
        "\r",
        "[ 30 %] elapsed[sec]: 0.403 | ETA[sec]: 0.900 "
       ]
      },
      {
       "output_type": "stream",
       "stream": "stderr",
       "text": [
        "\r",
        "[ 31 %] elapsed[sec]: 0.403 | ETA[sec]: 0.898 "
       ]
      },
      {
       "output_type": "stream",
       "stream": "stderr",
       "text": [
        "\r",
        "[ 31 %] elapsed[sec]: 0.404 | ETA[sec]: 0.896 "
       ]
      },
      {
       "output_type": "stream",
       "stream": "stderr",
       "text": [
        "\r",
        "[ 31 %] elapsed[sec]: 0.404 | ETA[sec]: 0.894 "
       ]
      },
      {
       "output_type": "stream",
       "stream": "stderr",
       "text": [
        "\r",
        "[ 31 %] elapsed[sec]: 0.405 | ETA[sec]: 0.892 "
       ]
      },
      {
       "output_type": "stream",
       "stream": "stderr",
       "text": [
        "\r",
        "[ 31 %] elapsed[sec]: 0.405 | ETA[sec]: 0.890 "
       ]
      },
      {
       "output_type": "stream",
       "stream": "stderr",
       "text": [
        "\r",
        "[ 31 %] elapsed[sec]: 0.405 | ETA[sec]: 0.888 "
       ]
      },
      {
       "output_type": "stream",
       "stream": "stderr",
       "text": [
        "\r",
        "[ 31 %] elapsed[sec]: 0.406 | ETA[sec]: 0.896 "
       ]
      },
      {
       "output_type": "stream",
       "stream": "stderr",
       "text": [
        "\r",
        "[ 31 %] elapsed[sec]: 0.411 | ETA[sec]: 0.894 "
       ]
      },
      {
       "output_type": "stream",
       "stream": "stderr",
       "text": [
        "\r",
        "[ 31 %] elapsed[sec]: 0.411 | ETA[sec]: 0.893 "
       ]
      },
      {
       "output_type": "stream",
       "stream": "stderr",
       "text": [
        "\r",
        "[ 31 %] elapsed[sec]: 0.411 | ETA[sec]: 0.891 "
       ]
      },
      {
       "output_type": "stream",
       "stream": "stderr",
       "text": [
        "\r",
        "[ 31 %] elapsed[sec]: 0.412 | ETA[sec]: 0.890 "
       ]
      },
      {
       "output_type": "stream",
       "stream": "stderr",
       "text": [
        "\r",
        "[ 31 %] elapsed[sec]: 0.413 | ETA[sec]: 0.888 "
       ]
      },
      {
       "output_type": "stream",
       "stream": "stderr",
       "text": [
        "\r",
        "[ 31 %] elapsed[sec]: 0.413 | ETA[sec]: 0.887 "
       ]
      },
      {
       "output_type": "stream",
       "stream": "stderr",
       "text": [
        "\r",
        "[ 31 %] elapsed[sec]: 0.414 | ETA[sec]: 0.885 "
       ]
      },
      {
       "output_type": "stream",
       "stream": "stderr",
       "text": [
        "\r",
        "[ 31 %] elapsed[sec]: 0.414 | ETA[sec]: 0.883 "
       ]
      },
      {
       "output_type": "stream",
       "stream": "stderr",
       "text": [
        "\r",
        "[ 32 %] elapsed[sec]: 0.415 | ETA[sec]: 0.881 "
       ]
      },
      {
       "output_type": "stream",
       "stream": "stderr",
       "text": [
        "\r",
        "[ 32 %] elapsed[sec]: 0.415 | ETA[sec]: 0.879 "
       ]
      },
      {
       "output_type": "stream",
       "stream": "stderr",
       "text": [
        "\r",
        "[ 32 %] elapsed[sec]: 0.415 | ETA[sec]: 0.877 "
       ]
      },
      {
       "output_type": "stream",
       "stream": "stderr",
       "text": [
        "\r",
        "[ 32 %] elapsed[sec]: 0.416 | ETA[sec]: 0.876 "
       ]
      },
      {
       "output_type": "stream",
       "stream": "stderr",
       "text": [
        "\r",
        "[ 32 %] elapsed[sec]: 0.416 | ETA[sec]: 0.874 "
       ]
      },
      {
       "output_type": "stream",
       "stream": "stderr",
       "text": [
        "\r",
        "[ 32 %] elapsed[sec]: 0.417 | ETA[sec]: 0.872 "
       ]
      },
      {
       "output_type": "stream",
       "stream": "stderr",
       "text": [
        "\r",
        "[ 32 %] elapsed[sec]: 0.418 | ETA[sec]: 0.871 "
       ]
      },
      {
       "output_type": "stream",
       "stream": "stderr",
       "text": [
        "\r",
        "[ 32 %] elapsed[sec]: 0.418 | ETA[sec]: 0.869 "
       ]
      },
      {
       "output_type": "stream",
       "stream": "stderr",
       "text": [
        "\r",
        "[ 32 %] elapsed[sec]: 0.418 | ETA[sec]: 0.868 "
       ]
      },
      {
       "output_type": "stream",
       "stream": "stderr",
       "text": [
        "\r",
        "[ 32 %] elapsed[sec]: 0.419 | ETA[sec]: 0.866 "
       ]
      },
      {
       "output_type": "stream",
       "stream": "stderr",
       "text": [
        "\r",
        "[ 32 %] elapsed[sec]: 0.419 | ETA[sec]: 0.864 "
       ]
      },
      {
       "output_type": "stream",
       "stream": "stderr",
       "text": [
        "\r",
        "[ 32 %] elapsed[sec]: 0.420 | ETA[sec]: 0.863 "
       ]
      },
      {
       "output_type": "stream",
       "stream": "stderr",
       "text": [
        "\r",
        "[ 32 %] elapsed[sec]: 0.420 | ETA[sec]: 0.861 "
       ]
      },
      {
       "output_type": "stream",
       "stream": "stderr",
       "text": [
        "\r",
        "[ 32 %] elapsed[sec]: 0.421 | ETA[sec]: 0.860 "
       ]
      },
      {
       "output_type": "stream",
       "stream": "stderr",
       "text": [
        "\r",
        "[ 32 %] elapsed[sec]: 0.421 | ETA[sec]: 0.858 "
       ]
      },
      {
       "output_type": "stream",
       "stream": "stderr",
       "text": [
        "\r",
        "[ 33 %] elapsed[sec]: 0.434 | ETA[sec]: 0.882 "
       ]
      },
      {
       "output_type": "stream",
       "stream": "stderr",
       "text": [
        "\r",
        "[ 33 %] elapsed[sec]: 0.435 | ETA[sec]: 0.881 "
       ]
      },
      {
       "output_type": "stream",
       "stream": "stderr",
       "text": [
        "\r",
        "[ 33 %] elapsed[sec]: 0.436 | ETA[sec]: 0.879 "
       ]
      },
      {
       "output_type": "stream",
       "stream": "stderr",
       "text": [
        "\r",
        "[ 33 %] elapsed[sec]: 0.436 | ETA[sec]: 0.878 "
       ]
      },
      {
       "output_type": "stream",
       "stream": "stderr",
       "text": [
        "\r",
        "[ 33 %] elapsed[sec]: 0.437 | ETA[sec]: 0.877 "
       ]
      },
      {
       "output_type": "stream",
       "stream": "stderr",
       "text": [
        "\r",
        "[ 33 %] elapsed[sec]: 0.438 | ETA[sec]: 0.875 "
       ]
      },
      {
       "output_type": "stream",
       "stream": "stderr",
       "text": [
        "\r",
        "[ 33 %] elapsed[sec]: 0.438 | ETA[sec]: 0.874 "
       ]
      },
      {
       "output_type": "stream",
       "stream": "stderr",
       "text": [
        "\r",
        "[ 33 %] elapsed[sec]: 0.439 | ETA[sec]: 0.872 "
       ]
      },
      {
       "output_type": "stream",
       "stream": "stderr",
       "text": [
        "\r",
        "[ 33 %] elapsed[sec]: 0.439 | ETA[sec]: 0.870 "
       ]
      },
      {
       "output_type": "stream",
       "stream": "stderr",
       "text": [
        "\r",
        "[ 33 %] elapsed[sec]: 0.439 | ETA[sec]: 0.869 "
       ]
      },
      {
       "output_type": "stream",
       "stream": "stderr",
       "text": [
        "\r",
        "[ 33 %] elapsed[sec]: 0.440 | ETA[sec]: 0.867 "
       ]
      },
      {
       "output_type": "stream",
       "stream": "stderr",
       "text": [
        "\r",
        "[ 33 %] elapsed[sec]: 0.441 | ETA[sec]: 0.866 "
       ]
      },
      {
       "output_type": "stream",
       "stream": "stderr",
       "text": [
        "\r",
        "[ 33 %] elapsed[sec]: 0.441 | ETA[sec]: 0.864 "
       ]
      },
      {
       "output_type": "stream",
       "stream": "stderr",
       "text": [
        "\r",
        "[ 33 %] elapsed[sec]: 0.441 | ETA[sec]: 0.862 "
       ]
      },
      {
       "output_type": "stream",
       "stream": "stderr",
       "text": [
        "\r",
        "[ 33 %] elapsed[sec]: 0.442 | ETA[sec]: 0.861 "
       ]
      },
      {
       "output_type": "stream",
       "stream": "stderr",
       "text": [
        "\r",
        "[ 34 %] elapsed[sec]: 0.442 | ETA[sec]: 0.859 "
       ]
      },
      {
       "output_type": "stream",
       "stream": "stderr",
       "text": [
        "\r",
        "[ 34 %] elapsed[sec]: 0.443 | ETA[sec]: 0.857 "
       ]
      },
      {
       "output_type": "stream",
       "stream": "stderr",
       "text": [
        "\r",
        "[ 34 %] elapsed[sec]: 0.443 | ETA[sec]: 0.855 "
       ]
      },
      {
       "output_type": "stream",
       "stream": "stderr",
       "text": [
        "\r",
        "[ 34 %] elapsed[sec]: 0.444 | ETA[sec]: 0.854 "
       ]
      },
      {
       "output_type": "stream",
       "stream": "stderr",
       "text": [
        "\r",
        "[ 34 %] elapsed[sec]: 0.444 | ETA[sec]: 0.852 "
       ]
      },
      {
       "output_type": "stream",
       "stream": "stderr",
       "text": [
        "\r",
        "[ 34 %] elapsed[sec]: 0.445 | ETA[sec]: 0.851 "
       ]
      },
      {
       "output_type": "stream",
       "stream": "stderr",
       "text": [
        "\r",
        "[ 34 %] elapsed[sec]: 0.445 | ETA[sec]: 0.849 "
       ]
      },
      {
       "output_type": "stream",
       "stream": "stderr",
       "text": [
        "\r",
        "[ 34 %] elapsed[sec]: 0.445 | ETA[sec]: 0.847 "
       ]
      },
      {
       "output_type": "stream",
       "stream": "stderr",
       "text": [
        "\r",
        "[ 34 %] elapsed[sec]: 0.446 | ETA[sec]: 0.846 "
       ]
      },
      {
       "output_type": "stream",
       "stream": "stderr",
       "text": [
        "\r",
        "[ 34 %] elapsed[sec]: 0.457 | ETA[sec]: 0.864 "
       ]
      },
      {
       "output_type": "stream",
       "stream": "stderr",
       "text": [
        "\r",
        "[ 34 %] elapsed[sec]: 0.457 | ETA[sec]: 0.862 "
       ]
      },
      {
       "output_type": "stream",
       "stream": "stderr",
       "text": [
        "\r",
        "[ 34 %] elapsed[sec]: 0.458 | ETA[sec]: 0.860 "
       ]
      },
      {
       "output_type": "stream",
       "stream": "stderr",
       "text": [
        "\r",
        "[ 34 %] elapsed[sec]: 0.458 | ETA[sec]: 0.858 "
       ]
      },
      {
       "output_type": "stream",
       "stream": "stderr",
       "text": [
        "\r",
        "[ 34 %] elapsed[sec]: 0.458 | ETA[sec]: 0.857 "
       ]
      },
      {
       "output_type": "stream",
       "stream": "stderr",
       "text": [
        "\r",
        "[ 34 %] elapsed[sec]: 0.459 | ETA[sec]: 0.855 "
       ]
      },
      {
       "output_type": "stream",
       "stream": "stderr",
       "text": [
        "\r",
        "[ 35 %] elapsed[sec]: 0.459 | ETA[sec]: 0.853 "
       ]
      },
      {
       "output_type": "stream",
       "stream": "stderr",
       "text": [
        "\r",
        "[ 35 %] elapsed[sec]: 0.460 | ETA[sec]: 0.851 "
       ]
      },
      {
       "output_type": "stream",
       "stream": "stderr",
       "text": [
        "\r",
        "[ 35 %] elapsed[sec]: 0.460 | ETA[sec]: 0.849 "
       ]
      },
      {
       "output_type": "stream",
       "stream": "stderr",
       "text": [
        "\r",
        "[ 35 %] elapsed[sec]: 0.460 | ETA[sec]: 0.848 "
       ]
      },
      {
       "output_type": "stream",
       "stream": "stderr",
       "text": [
        "\r",
        "[ 35 %] elapsed[sec]: 0.461 | ETA[sec]: 0.846 "
       ]
      },
      {
       "output_type": "stream",
       "stream": "stderr",
       "text": [
        "\r",
        "[ 35 %] elapsed[sec]: 0.461 | ETA[sec]: 0.844 "
       ]
      },
      {
       "output_type": "stream",
       "stream": "stderr",
       "text": [
        "\r",
        "[ 35 %] elapsed[sec]: 0.462 | ETA[sec]: 0.842 "
       ]
      },
      {
       "output_type": "stream",
       "stream": "stderr",
       "text": [
        "\r",
        "[ 35 %] elapsed[sec]: 0.462 | ETA[sec]: 0.841 "
       ]
      },
      {
       "output_type": "stream",
       "stream": "stderr",
       "text": [
        "\r",
        "[ 35 %] elapsed[sec]: 0.462 | ETA[sec]: 0.839 "
       ]
      },
      {
       "output_type": "stream",
       "stream": "stderr",
       "text": [
        "\r",
        "[ 35 %] elapsed[sec]: 0.463 | ETA[sec]: 0.837 "
       ]
      },
      {
       "output_type": "stream",
       "stream": "stderr",
       "text": [
        "\r",
        "[ 35 %] elapsed[sec]: 0.463 | ETA[sec]: 0.836 "
       ]
      },
      {
       "output_type": "stream",
       "stream": "stderr",
       "text": [
        "\r",
        "[ 35 %] elapsed[sec]: 0.464 | ETA[sec]: 0.834 "
       ]
      },
      {
       "output_type": "stream",
       "stream": "stderr",
       "text": [
        "\r",
        "[ 35 %] elapsed[sec]: 0.464 | ETA[sec]: 0.832 "
       ]
      },
      {
       "output_type": "stream",
       "stream": "stderr",
       "text": [
        "\r",
        "[ 35 %] elapsed[sec]: 0.464 | ETA[sec]: 0.831 "
       ]
      },
      {
       "output_type": "stream",
       "stream": "stderr",
       "text": [
        "\r",
        "[ 35 %] elapsed[sec]: 0.465 | ETA[sec]: 0.829 "
       ]
      },
      {
       "output_type": "stream",
       "stream": "stderr",
       "text": [
        "\r",
        "[ 36 %] elapsed[sec]: 0.465 | ETA[sec]: 0.827 "
       ]
      },
      {
       "output_type": "stream",
       "stream": "stderr",
       "text": [
        "\r",
        "[ 36 %] elapsed[sec]: 0.466 | ETA[sec]: 0.825 "
       ]
      },
      {
       "output_type": "stream",
       "stream": "stderr",
       "text": [
        "\r",
        "[ 36 %] elapsed[sec]: 0.466 | ETA[sec]: 0.824 "
       ]
      },
      {
       "output_type": "stream",
       "stream": "stderr",
       "text": [
        "\r",
        "[ 36 %] elapsed[sec]: 0.466 | ETA[sec]: 0.822 "
       ]
      },
      {
       "output_type": "stream",
       "stream": "stderr",
       "text": [
        "\r",
        "[ 36 %] elapsed[sec]: 0.470 | ETA[sec]: 0.825 "
       ]
      },
      {
       "output_type": "stream",
       "stream": "stderr",
       "text": [
        "\r",
        "[ 36 %] elapsed[sec]: 0.470 | ETA[sec]: 0.824 "
       ]
      },
      {
       "output_type": "stream",
       "stream": "stderr",
       "text": [
        "\r",
        "[ 36 %] elapsed[sec]: 0.471 | ETA[sec]: 0.823 "
       ]
      },
      {
       "output_type": "stream",
       "stream": "stderr",
       "text": [
        "\r",
        "[ 36 %] elapsed[sec]: 0.471 | ETA[sec]: 0.821 "
       ]
      },
      {
       "output_type": "stream",
       "stream": "stderr",
       "text": [
        "\r",
        "[ 36 %] elapsed[sec]: 0.472 | ETA[sec]: 0.819 "
       ]
      },
      {
       "output_type": "stream",
       "stream": "stderr",
       "text": [
        "\r",
        "[ 36 %] elapsed[sec]: 0.472 | ETA[sec]: 0.818 "
       ]
      },
      {
       "output_type": "stream",
       "stream": "stderr",
       "text": [
        "\r",
        "[ 36 %] elapsed[sec]: 0.473 | ETA[sec]: 0.816 "
       ]
      },
      {
       "output_type": "stream",
       "stream": "stderr",
       "text": [
        "\r",
        "[ 36 %] elapsed[sec]: 0.473 | ETA[sec]: 0.815 "
       ]
      },
      {
       "output_type": "stream",
       "stream": "stderr",
       "text": [
        "\r",
        "[ 36 %] elapsed[sec]: 0.474 | ETA[sec]: 0.814 "
       ]
      },
      {
       "output_type": "stream",
       "stream": "stderr",
       "text": [
        "\r",
        "[ 36 %] elapsed[sec]: 0.474 | ETA[sec]: 0.812 "
       ]
      },
      {
       "output_type": "stream",
       "stream": "stderr",
       "text": [
        "\r",
        "[ 36 %] elapsed[sec]: 0.475 | ETA[sec]: 0.811 "
       ]
      },
      {
       "output_type": "stream",
       "stream": "stderr",
       "text": [
        "\r",
        "[ 37 %] elapsed[sec]: 0.475 | ETA[sec]: 0.809 "
       ]
      },
      {
       "output_type": "stream",
       "stream": "stderr",
       "text": [
        "\r",
        "[ 37 %] elapsed[sec]: 0.476 | ETA[sec]: 0.808 "
       ]
      },
      {
       "output_type": "stream",
       "stream": "stderr",
       "text": [
        "\r",
        "[ 37 %] elapsed[sec]: 0.476 | ETA[sec]: 0.806 "
       ]
      },
      {
       "output_type": "stream",
       "stream": "stderr",
       "text": [
        "\r",
        "[ 37 %] elapsed[sec]: 0.476 | ETA[sec]: 0.804 "
       ]
      },
      {
       "output_type": "stream",
       "stream": "stderr",
       "text": [
        "\r",
        "[ 37 %] elapsed[sec]: 0.477 | ETA[sec]: 0.803 "
       ]
      },
      {
       "output_type": "stream",
       "stream": "stderr",
       "text": [
        "\r",
        "[ 37 %] elapsed[sec]: 0.477 | ETA[sec]: 0.801 "
       ]
      },
      {
       "output_type": "stream",
       "stream": "stderr",
       "text": [
        "\r",
        "[ 37 %] elapsed[sec]: 0.478 | ETA[sec]: 0.800 "
       ]
      },
      {
       "output_type": "stream",
       "stream": "stderr",
       "text": [
        "\r",
        "[ 37 %] elapsed[sec]: 0.478 | ETA[sec]: 0.798 "
       ]
      },
      {
       "output_type": "stream",
       "stream": "stderr",
       "text": [
        "\r",
        "[ 37 %] elapsed[sec]: 0.479 | ETA[sec]: 0.797 "
       ]
      },
      {
       "output_type": "stream",
       "stream": "stderr",
       "text": [
        "\r",
        "[ 37 %] elapsed[sec]: 0.479 | ETA[sec]: 0.796 "
       ]
      },
      {
       "output_type": "stream",
       "stream": "stderr",
       "text": [
        "\r",
        "[ 37 %] elapsed[sec]: 0.480 | ETA[sec]: 0.795 "
       ]
      },
      {
       "output_type": "stream",
       "stream": "stderr",
       "text": [
        "\r",
        "[ 37 %] elapsed[sec]: 0.481 | ETA[sec]: 0.794 "
       ]
      },
      {
       "output_type": "stream",
       "stream": "stderr",
       "text": [
        "\r",
        "[ 37 %] elapsed[sec]: 0.489 | ETA[sec]: 0.804 "
       ]
      },
      {
       "output_type": "stream",
       "stream": "stderr",
       "text": [
        "\r",
        "[ 37 %] elapsed[sec]: 0.489 | ETA[sec]: 0.802 "
       ]
      },
      {
       "output_type": "stream",
       "stream": "stderr",
       "text": [
        "\r",
        "[ 37 %] elapsed[sec]: 0.490 | ETA[sec]: 0.801 "
       ]
      },
      {
       "output_type": "stream",
       "stream": "stderr",
       "text": [
        "\r",
        "[ 38 %] elapsed[sec]: 0.490 | ETA[sec]: 0.800 "
       ]
      },
      {
       "output_type": "stream",
       "stream": "stderr",
       "text": [
        "\r",
        "[ 38 %] elapsed[sec]: 0.491 | ETA[sec]: 0.798 "
       ]
      },
      {
       "output_type": "stream",
       "stream": "stderr",
       "text": [
        "\r",
        "[ 38 %] elapsed[sec]: 0.491 | ETA[sec]: 0.797 "
       ]
      },
      {
       "output_type": "stream",
       "stream": "stderr",
       "text": [
        "\r",
        "[ 38 %] elapsed[sec]: 0.492 | ETA[sec]: 0.795 "
       ]
      },
      {
       "output_type": "stream",
       "stream": "stderr",
       "text": [
        "\r",
        "[ 38 %] elapsed[sec]: 0.492 | ETA[sec]: 0.794 "
       ]
      },
      {
       "output_type": "stream",
       "stream": "stderr",
       "text": [
        "\r",
        "[ 38 %] elapsed[sec]: 0.492 | ETA[sec]: 0.792 "
       ]
      },
      {
       "output_type": "stream",
       "stream": "stderr",
       "text": [
        "\r",
        "[ 38 %] elapsed[sec]: 0.493 | ETA[sec]: 0.791 "
       ]
      },
      {
       "output_type": "stream",
       "stream": "stderr",
       "text": [
        "\r",
        "[ 38 %] elapsed[sec]: 0.493 | ETA[sec]: 0.789 "
       ]
      },
      {
       "output_type": "stream",
       "stream": "stderr",
       "text": [
        "\r",
        "[ 38 %] elapsed[sec]: 0.494 | ETA[sec]: 0.787 "
       ]
      },
      {
       "output_type": "stream",
       "stream": "stderr",
       "text": [
        "\r",
        "[ 38 %] elapsed[sec]: 0.494 | ETA[sec]: 0.786 "
       ]
      },
      {
       "output_type": "stream",
       "stream": "stderr",
       "text": [
        "\r",
        "[ 38 %] elapsed[sec]: 0.494 | ETA[sec]: 0.784 "
       ]
      },
      {
       "output_type": "stream",
       "stream": "stderr",
       "text": [
        "\r",
        "[ 38 %] elapsed[sec]: 0.495 | ETA[sec]: 0.783 "
       ]
      },
      {
       "output_type": "stream",
       "stream": "stderr",
       "text": [
        "\r",
        "[ 38 %] elapsed[sec]: 0.495 | ETA[sec]: 0.781 "
       ]
      },
      {
       "output_type": "stream",
       "stream": "stderr",
       "text": [
        "\r",
        "[ 38 %] elapsed[sec]: 0.496 | ETA[sec]: 0.780 "
       ]
      },
      {
       "output_type": "stream",
       "stream": "stderr",
       "text": [
        "\r",
        "[ 38 %] elapsed[sec]: 0.496 | ETA[sec]: 0.778 "
       ]
      },
      {
       "output_type": "stream",
       "stream": "stderr",
       "text": [
        "\r",
        "[ 39 %] elapsed[sec]: 0.497 | ETA[sec]: 0.777 "
       ]
      },
      {
       "output_type": "stream",
       "stream": "stderr",
       "text": [
        "\r",
        "[ 39 %] elapsed[sec]: 0.497 | ETA[sec]: 0.775 "
       ]
      },
      {
       "output_type": "stream",
       "stream": "stderr",
       "text": [
        "\r",
        "[ 39 %] elapsed[sec]: 0.497 | ETA[sec]: 0.773 "
       ]
      },
      {
       "output_type": "stream",
       "stream": "stderr",
       "text": [
        "\r",
        "[ 39 %] elapsed[sec]: 0.498 | ETA[sec]: 0.772 "
       ]
      },
      {
       "output_type": "stream",
       "stream": "stderr",
       "text": [
        "\r",
        "[ 39 %] elapsed[sec]: 0.498 | ETA[sec]: 0.770 "
       ]
      },
      {
       "output_type": "stream",
       "stream": "stderr",
       "text": [
        "\r",
        "[ 39 %] elapsed[sec]: 0.498 | ETA[sec]: 0.769 "
       ]
      },
      {
       "output_type": "stream",
       "stream": "stderr",
       "text": [
        "\r",
        "[ 39 %] elapsed[sec]: 0.499 | ETA[sec]: 0.767 "
       ]
      },
      {
       "output_type": "stream",
       "stream": "stderr",
       "text": [
        "\r",
        "[ 39 %] elapsed[sec]: 0.499 | ETA[sec]: 0.773 "
       ]
      },
      {
       "output_type": "stream",
       "stream": "stderr",
       "text": [
        "\r",
        "[ 39 %] elapsed[sec]: 0.505 | ETA[sec]: 0.772 "
       ]
      },
      {
       "output_type": "stream",
       "stream": "stderr",
       "text": [
        "\r",
        "[ 39 %] elapsed[sec]: 0.505 | ETA[sec]: 0.771 "
       ]
      },
      {
       "output_type": "stream",
       "stream": "stderr",
       "text": [
        "\r",
        "[ 39 %] elapsed[sec]: 0.506 | ETA[sec]: 0.769 "
       ]
      },
      {
       "output_type": "stream",
       "stream": "stderr",
       "text": [
        "\r",
        "[ 39 %] elapsed[sec]: 0.506 | ETA[sec]: 0.768 "
       ]
      },
      {
       "output_type": "stream",
       "stream": "stderr",
       "text": [
        "\r",
        "[ 39 %] elapsed[sec]: 0.507 | ETA[sec]: 0.767 "
       ]
      },
      {
       "output_type": "stream",
       "stream": "stderr",
       "text": [
        "\r",
        "[ 39 %] elapsed[sec]: 0.507 | ETA[sec]: 0.765 "
       ]
      },
      {
       "output_type": "stream",
       "stream": "stderr",
       "text": [
        "\r",
        "[ 39 %] elapsed[sec]: 0.508 | ETA[sec]: 0.764 "
       ]
      },
      {
       "output_type": "stream",
       "stream": "stderr",
       "text": [
        "\r",
        "[ 40 %] elapsed[sec]: 0.508 | ETA[sec]: 0.762 "
       ]
      },
      {
       "output_type": "stream",
       "stream": "stderr",
       "text": [
        "\r",
        "[ 40 %] elapsed[sec]: 0.509 | ETA[sec]: 0.761 "
       ]
      },
      {
       "output_type": "stream",
       "stream": "stderr",
       "text": [
        "\r",
        "[ 40 %] elapsed[sec]: 0.509 | ETA[sec]: 0.759 "
       ]
      },
      {
       "output_type": "stream",
       "stream": "stderr",
       "text": [
        "\r",
        "[ 40 %] elapsed[sec]: 0.509 | ETA[sec]: 0.758 "
       ]
      },
      {
       "output_type": "stream",
       "stream": "stderr",
       "text": [
        "\r",
        "[ 40 %] elapsed[sec]: 0.510 | ETA[sec]: 0.757 "
       ]
      },
      {
       "output_type": "stream",
       "stream": "stderr",
       "text": [
        "\r",
        "[ 40 %] elapsed[sec]: 0.510 | ETA[sec]: 0.755 "
       ]
      },
      {
       "output_type": "stream",
       "stream": "stderr",
       "text": [
        "\r",
        "[ 40 %] elapsed[sec]: 0.511 | ETA[sec]: 0.754 "
       ]
      },
      {
       "output_type": "stream",
       "stream": "stderr",
       "text": [
        "\r",
        "[ 40 %] elapsed[sec]: 0.511 | ETA[sec]: 0.752 "
       ]
      },
      {
       "output_type": "stream",
       "stream": "stderr",
       "text": [
        "\r",
        "[ 40 %] elapsed[sec]: 0.512 | ETA[sec]: 0.751 "
       ]
      },
      {
       "output_type": "stream",
       "stream": "stderr",
       "text": [
        "\r",
        "[ 40 %] elapsed[sec]: 0.512 | ETA[sec]: 0.749 "
       ]
      },
      {
       "output_type": "stream",
       "stream": "stderr",
       "text": [
        "\r",
        "[ 40 %] elapsed[sec]: 0.512 | ETA[sec]: 0.748 "
       ]
      },
      {
       "output_type": "stream",
       "stream": "stderr",
       "text": [
        "\r",
        "[ 40 %] elapsed[sec]: 0.513 | ETA[sec]: 0.746 "
       ]
      },
      {
       "output_type": "stream",
       "stream": "stderr",
       "text": [
        "\r",
        "[ 40 %] elapsed[sec]: 0.513 | ETA[sec]: 0.745 "
       ]
      },
      {
       "output_type": "stream",
       "stream": "stderr",
       "text": [
        "\r",
        "[ 40 %] elapsed[sec]: 0.514 | ETA[sec]: 0.743 "
       ]
      },
      {
       "output_type": "stream",
       "stream": "stderr",
       "text": [
        "\r",
        "[ 40 %] elapsed[sec]: 0.514 | ETA[sec]: 0.742 "
       ]
      },
      {
       "output_type": "stream",
       "stream": "stderr",
       "text": [
        "\r",
        "[ 41 %] elapsed[sec]: 0.515 | ETA[sec]: 0.741 "
       ]
      },
      {
       "output_type": "stream",
       "stream": "stderr",
       "text": [
        "\r",
        "[ 41 %] elapsed[sec]: 0.515 | ETA[sec]: 0.739 "
       ]
      },
      {
       "output_type": "stream",
       "stream": "stderr",
       "text": [
        "\r",
        "[ 41 %] elapsed[sec]: 0.524 | ETA[sec]: 0.750 "
       ]
      },
      {
       "output_type": "stream",
       "stream": "stderr",
       "text": [
        "\r",
        "[ 41 %] elapsed[sec]: 0.524 | ETA[sec]: 0.749 "
       ]
      },
      {
       "output_type": "stream",
       "stream": "stderr",
       "text": [
        "\r",
        "[ 41 %] elapsed[sec]: 0.525 | ETA[sec]: 0.748 "
       ]
      },
      {
       "output_type": "stream",
       "stream": "stderr",
       "text": [
        "\r",
        "[ 41 %] elapsed[sec]: 0.526 | ETA[sec]: 0.746 "
       ]
      },
      {
       "output_type": "stream",
       "stream": "stderr",
       "text": [
        "\r",
        "[ 41 %] elapsed[sec]: 0.526 | ETA[sec]: 0.745 "
       ]
      },
      {
       "output_type": "stream",
       "stream": "stderr",
       "text": [
        "\r",
        "[ 41 %] elapsed[sec]: 0.526 | ETA[sec]: 0.743 "
       ]
      },
      {
       "output_type": "stream",
       "stream": "stderr",
       "text": [
        "\r",
        "[ 41 %] elapsed[sec]: 0.527 | ETA[sec]: 0.742 "
       ]
      },
      {
       "output_type": "stream",
       "stream": "stderr",
       "text": [
        "\r",
        "[ 41 %] elapsed[sec]: 0.527 | ETA[sec]: 0.740 "
       ]
      },
      {
       "output_type": "stream",
       "stream": "stderr",
       "text": [
        "\r",
        "[ 41 %] elapsed[sec]: 0.528 | ETA[sec]: 0.739 "
       ]
      },
      {
       "output_type": "stream",
       "stream": "stderr",
       "text": [
        "\r",
        "[ 41 %] elapsed[sec]: 0.528 | ETA[sec]: 0.738 "
       ]
      },
      {
       "output_type": "stream",
       "stream": "stderr",
       "text": [
        "\r",
        "[ 41 %] elapsed[sec]: 0.529 | ETA[sec]: 0.737 "
       ]
      },
      {
       "output_type": "stream",
       "stream": "stderr",
       "text": [
        "\r",
        "[ 41 %] elapsed[sec]: 0.530 | ETA[sec]: 0.735 "
       ]
      },
      {
       "output_type": "stream",
       "stream": "stderr",
       "text": [
        "\r",
        "[ 41 %] elapsed[sec]: 0.530 | ETA[sec]: 0.734 "
       ]
      },
      {
       "output_type": "stream",
       "stream": "stderr",
       "text": [
        "\r",
        "[ 42 %] elapsed[sec]: 0.530 | ETA[sec]: 0.732 "
       ]
      },
      {
       "output_type": "stream",
       "stream": "stderr",
       "text": [
        "\r",
        "[ 42 %] elapsed[sec]: 0.531 | ETA[sec]: 0.731 "
       ]
      },
      {
       "output_type": "stream",
       "stream": "stderr",
       "text": [
        "\r",
        "[ 42 %] elapsed[sec]: 0.531 | ETA[sec]: 0.729 "
       ]
      },
      {
       "output_type": "stream",
       "stream": "stderr",
       "text": [
        "\r",
        "[ 42 %] elapsed[sec]: 0.531 | ETA[sec]: 0.728 "
       ]
      },
      {
       "output_type": "stream",
       "stream": "stderr",
       "text": [
        "\r",
        "[ 42 %] elapsed[sec]: 0.532 | ETA[sec]: 0.726 "
       ]
      },
      {
       "output_type": "stream",
       "stream": "stderr",
       "text": [
        "\r",
        "[ 42 %] elapsed[sec]: 0.532 | ETA[sec]: 0.725 "
       ]
      },
      {
       "output_type": "stream",
       "stream": "stderr",
       "text": [
        "\r",
        "[ 42 %] elapsed[sec]: 0.533 | ETA[sec]: 0.724 "
       ]
      },
      {
       "output_type": "stream",
       "stream": "stderr",
       "text": [
        "\r",
        "[ 42 %] elapsed[sec]: 0.533 | ETA[sec]: 0.722 "
       ]
      },
      {
       "output_type": "stream",
       "stream": "stderr",
       "text": [
        "\r",
        "[ 42 %] elapsed[sec]: 0.533 | ETA[sec]: 0.721 "
       ]
      },
      {
       "output_type": "stream",
       "stream": "stderr",
       "text": [
        "\r",
        "[ 42 %] elapsed[sec]: 0.534 | ETA[sec]: 0.719 "
       ]
      },
      {
       "output_type": "stream",
       "stream": "stderr",
       "text": [
        "\r",
        "[ 42 %] elapsed[sec]: 0.535 | ETA[sec]: 0.719 "
       ]
      },
      {
       "output_type": "stream",
       "stream": "stderr",
       "text": [
        "\r",
        "[ 42 %] elapsed[sec]: 0.536 | ETA[sec]: 0.718 "
       ]
      },
      {
       "output_type": "stream",
       "stream": "stderr",
       "text": [
        "\r",
        "[ 42 %] elapsed[sec]: 0.537 | ETA[sec]: 0.717 "
       ]
      },
      {
       "output_type": "stream",
       "stream": "stderr",
       "text": [
        "\r",
        "[ 42 %] elapsed[sec]: 0.537 | ETA[sec]: 0.716 "
       ]
      },
      {
       "output_type": "stream",
       "stream": "stderr",
       "text": [
        "\r",
        "[ 42 %] elapsed[sec]: 0.537 | ETA[sec]: 0.714 "
       ]
      },
      {
       "output_type": "stream",
       "stream": "stderr",
       "text": [
        "\r",
        "[ 43 %] elapsed[sec]: 0.538 | ETA[sec]: 0.713 "
       ]
      },
      {
       "output_type": "stream",
       "stream": "stderr",
       "text": [
        "\r",
        "[ 43 %] elapsed[sec]: 0.538 | ETA[sec]: 0.711 "
       ]
      },
      {
       "output_type": "stream",
       "stream": "stderr",
       "text": [
        "\r",
        "[ 43 %] elapsed[sec]: 0.538 | ETA[sec]: 0.710 "
       ]
      },
      {
       "output_type": "stream",
       "stream": "stderr",
       "text": [
        "\r",
        "[ 43 %] elapsed[sec]: 0.539 | ETA[sec]: 0.708 "
       ]
      },
      {
       "output_type": "stream",
       "stream": "stderr",
       "text": [
        "\r",
        "[ 43 %] elapsed[sec]: 0.539 | ETA[sec]: 0.707 "
       ]
      },
      {
       "output_type": "stream",
       "stream": "stderr",
       "text": [
        "\r",
        "[ 43 %] elapsed[sec]: 0.540 | ETA[sec]: 0.706 "
       ]
      },
      {
       "output_type": "stream",
       "stream": "stderr",
       "text": [
        "\r",
        "[ 43 %] elapsed[sec]: 0.540 | ETA[sec]: 0.704 "
       ]
      },
      {
       "output_type": "stream",
       "stream": "stderr",
       "text": [
        "\r",
        "[ 43 %] elapsed[sec]: 0.540 | ETA[sec]: 0.703 "
       ]
      },
      {
       "output_type": "stream",
       "stream": "stderr",
       "text": [
        "\r",
        "[ 43 %] elapsed[sec]: 0.541 | ETA[sec]: 0.701 "
       ]
      },
      {
       "output_type": "stream",
       "stream": "stderr",
       "text": [
        "\r",
        "[ 43 %] elapsed[sec]: 0.541 | ETA[sec]: 0.700 "
       ]
      },
      {
       "output_type": "stream",
       "stream": "stderr",
       "text": [
        "\r",
        "[ 43 %] elapsed[sec]: 0.541 | ETA[sec]: 0.698 "
       ]
      },
      {
       "output_type": "stream",
       "stream": "stderr",
       "text": [
        "\r",
        "[ 43 %] elapsed[sec]: 0.542 | ETA[sec]: 0.697 "
       ]
      },
      {
       "output_type": "stream",
       "stream": "stderr",
       "text": [
        "\r",
        "[ 43 %] elapsed[sec]: 0.542 | ETA[sec]: 0.696 "
       ]
      },
      {
       "output_type": "stream",
       "stream": "stderr",
       "text": [
        "\r",
        "[ 43 %] elapsed[sec]: 0.543 | ETA[sec]: 0.694 "
       ]
      },
      {
       "output_type": "stream",
       "stream": "stderr",
       "text": [
        "\r",
        "[ 43 %] elapsed[sec]: 0.543 | ETA[sec]: 0.693 "
       ]
      },
      {
       "output_type": "stream",
       "stream": "stderr",
       "text": [
        "\r",
        "[ 44 %] elapsed[sec]: 0.543 | ETA[sec]: 0.691 "
       ]
      },
      {
       "output_type": "stream",
       "stream": "stderr",
       "text": [
        "\r",
        "[ 44 %] elapsed[sec]: 0.544 | ETA[sec]: 0.690 "
       ]
      },
      {
       "output_type": "stream",
       "stream": "stderr",
       "text": [
        "\r",
        "[ 44 %] elapsed[sec]: 0.544 | ETA[sec]: 0.689 "
       ]
      },
      {
       "output_type": "stream",
       "stream": "stderr",
       "text": [
        "\r",
        "[ 44 %] elapsed[sec]: 0.544 | ETA[sec]: 0.687 "
       ]
      },
      {
       "output_type": "stream",
       "stream": "stderr",
       "text": [
        "\r",
        "[ 44 %] elapsed[sec]: 0.545 | ETA[sec]: 0.686 "
       ]
      },
      {
       "output_type": "stream",
       "stream": "stderr",
       "text": [
        "\r",
        "[ 44 %] elapsed[sec]: 0.545 | ETA[sec]: 0.684 "
       ]
      },
      {
       "output_type": "stream",
       "stream": "stderr",
       "text": [
        "\r",
        "[ 44 %] elapsed[sec]: 0.546 | ETA[sec]: 0.683 "
       ]
      },
      {
       "output_type": "stream",
       "stream": "stderr",
       "text": [
        "\r",
        "[ 44 %] elapsed[sec]: 0.548 | ETA[sec]: 0.685 "
       ]
      },
      {
       "output_type": "stream",
       "stream": "stderr",
       "text": [
        "\r",
        "[ 44 %] elapsed[sec]: 0.549 | ETA[sec]: 0.684 "
       ]
      },
      {
       "output_type": "stream",
       "stream": "stderr",
       "text": [
        "\r",
        "[ 44 %] elapsed[sec]: 0.549 | ETA[sec]: 0.682 "
       ]
      },
      {
       "output_type": "stream",
       "stream": "stderr",
       "text": [
        "\r",
        "[ 44 %] elapsed[sec]: 0.550 | ETA[sec]: 0.681 "
       ]
      },
      {
       "output_type": "stream",
       "stream": "stderr",
       "text": [
        "\r",
        "[ 44 %] elapsed[sec]: 0.550 | ETA[sec]: 0.680 "
       ]
      },
      {
       "output_type": "stream",
       "stream": "stderr",
       "text": [
        "\r",
        "[ 44 %] elapsed[sec]: 0.550 | ETA[sec]: 0.678 "
       ]
      },
      {
       "output_type": "stream",
       "stream": "stderr",
       "text": [
        "\r",
        "[ 44 %] elapsed[sec]: 0.551 | ETA[sec]: 0.677 "
       ]
      },
      {
       "output_type": "stream",
       "stream": "stderr",
       "text": [
        "\r",
        "[ 44 %] elapsed[sec]: 0.552 | ETA[sec]: 0.676 "
       ]
      },
      {
       "output_type": "stream",
       "stream": "stderr",
       "text": [
        "\r",
        "[ 45 %] elapsed[sec]: 0.552 | ETA[sec]: 0.675 "
       ]
      },
      {
       "output_type": "stream",
       "stream": "stderr",
       "text": [
        "\r",
        "[ 45 %] elapsed[sec]: 0.552 | ETA[sec]: 0.673 "
       ]
      },
      {
       "output_type": "stream",
       "stream": "stderr",
       "text": [
        "\r",
        "[ 45 %] elapsed[sec]: 0.553 | ETA[sec]: 0.672 "
       ]
      },
      {
       "output_type": "stream",
       "stream": "stderr",
       "text": [
        "\r",
        "[ 45 %] elapsed[sec]: 0.553 | ETA[sec]: 0.671 "
       ]
      },
      {
       "output_type": "stream",
       "stream": "stderr",
       "text": [
        "\r",
        "[ 45 %] elapsed[sec]: 0.554 | ETA[sec]: 0.670 "
       ]
      },
      {
       "output_type": "stream",
       "stream": "stderr",
       "text": [
        "\r",
        "[ 45 %] elapsed[sec]: 0.555 | ETA[sec]: 0.669 "
       ]
      },
      {
       "output_type": "stream",
       "stream": "stderr",
       "text": [
        "\r",
        "[ 45 %] elapsed[sec]: 0.555 | ETA[sec]: 0.668 "
       ]
      },
      {
       "output_type": "stream",
       "stream": "stderr",
       "text": [
        "\r",
        "[ 45 %] elapsed[sec]: 0.556 | ETA[sec]: 0.666 "
       ]
      },
      {
       "output_type": "stream",
       "stream": "stderr",
       "text": [
        "\r",
        "[ 45 %] elapsed[sec]: 0.556 | ETA[sec]: 0.665 "
       ]
      },
      {
       "output_type": "stream",
       "stream": "stderr",
       "text": [
        "\r",
        "[ 45 %] elapsed[sec]: 0.556 | ETA[sec]: 0.664 "
       ]
      },
      {
       "output_type": "stream",
       "stream": "stderr",
       "text": [
        "\r",
        "[ 45 %] elapsed[sec]: 0.557 | ETA[sec]: 0.663 "
       ]
      },
      {
       "output_type": "stream",
       "stream": "stderr",
       "text": [
        "\r",
        "[ 45 %] elapsed[sec]: 0.557 | ETA[sec]: 0.661 "
       ]
      },
      {
       "output_type": "stream",
       "stream": "stderr",
       "text": [
        "\r",
        "[ 45 %] elapsed[sec]: 0.558 | ETA[sec]: 0.660 "
       ]
      },
      {
       "output_type": "stream",
       "stream": "stderr",
       "text": [
        "\r",
        "[ 45 %] elapsed[sec]: 0.559 | ETA[sec]: 0.659 "
       ]
      },
      {
       "output_type": "stream",
       "stream": "stderr",
       "text": [
        "\r",
        "[ 45 %] elapsed[sec]: 0.559 | ETA[sec]: 0.658 "
       ]
      },
      {
       "output_type": "stream",
       "stream": "stderr",
       "text": [
        "\r",
        "[ 46 %] elapsed[sec]: 0.560 | ETA[sec]: 0.657 "
       ]
      },
      {
       "output_type": "stream",
       "stream": "stderr",
       "text": [
        "\r",
        "[ 46 %] elapsed[sec]: 0.568 | ETA[sec]: 0.665 "
       ]
      },
      {
       "output_type": "stream",
       "stream": "stderr",
       "text": [
        "\r",
        "[ 46 %] elapsed[sec]: 0.569 | ETA[sec]: 0.664 "
       ]
      },
      {
       "output_type": "stream",
       "stream": "stderr",
       "text": [
        "\r",
        "[ 46 %] elapsed[sec]: 0.569 | ETA[sec]: 0.663 "
       ]
      },
      {
       "output_type": "stream",
       "stream": "stderr",
       "text": [
        "\r",
        "[ 46 %] elapsed[sec]: 0.570 | ETA[sec]: 0.662 "
       ]
      },
      {
       "output_type": "stream",
       "stream": "stderr",
       "text": [
        "\r",
        "[ 46 %] elapsed[sec]: 0.571 | ETA[sec]: 0.661 "
       ]
      },
      {
       "output_type": "stream",
       "stream": "stderr",
       "text": [
        "\r",
        "[ 46 %] elapsed[sec]: 0.571 | ETA[sec]: 0.660 "
       ]
      },
      {
       "output_type": "stream",
       "stream": "stderr",
       "text": [
        "\r",
        "[ 46 %] elapsed[sec]: 0.572 | ETA[sec]: 0.658 "
       ]
      },
      {
       "output_type": "stream",
       "stream": "stderr",
       "text": [
        "\r",
        "[ 46 %] elapsed[sec]: 0.572 | ETA[sec]: 0.657 "
       ]
      },
      {
       "output_type": "stream",
       "stream": "stderr",
       "text": [
        "\r",
        "[ 46 %] elapsed[sec]: 0.573 | ETA[sec]: 0.656 "
       ]
      },
      {
       "output_type": "stream",
       "stream": "stderr",
       "text": [
        "\r",
        "[ 46 %] elapsed[sec]: 0.573 | ETA[sec]: 0.655 "
       ]
      },
      {
       "output_type": "stream",
       "stream": "stderr",
       "text": [
        "\r",
        "[ 46 %] elapsed[sec]: 0.574 | ETA[sec]: 0.654 "
       ]
      },
      {
       "output_type": "stream",
       "stream": "stderr",
       "text": [
        "\r",
        "[ 46 %] elapsed[sec]: 0.574 | ETA[sec]: 0.653 "
       ]
      },
      {
       "output_type": "stream",
       "stream": "stderr",
       "text": [
        "\r",
        "[ 46 %] elapsed[sec]: 0.575 | ETA[sec]: 0.651 "
       ]
      },
      {
       "output_type": "stream",
       "stream": "stderr",
       "text": [
        "\r",
        "[ 46 %] elapsed[sec]: 0.575 | ETA[sec]: 0.650 "
       ]
      },
      {
       "output_type": "stream",
       "stream": "stderr",
       "text": [
        "\r",
        "[ 47 %] elapsed[sec]: 0.576 | ETA[sec]: 0.649 "
       ]
      },
      {
       "output_type": "stream",
       "stream": "stderr",
       "text": [
        "\r",
        "[ 47 %] elapsed[sec]: 0.576 | ETA[sec]: 0.648 "
       ]
      },
      {
       "output_type": "stream",
       "stream": "stderr",
       "text": [
        "\r",
        "[ 47 %] elapsed[sec]: 0.577 | ETA[sec]: 0.647 "
       ]
      },
      {
       "output_type": "stream",
       "stream": "stderr",
       "text": [
        "\r",
        "[ 47 %] elapsed[sec]: 0.577 | ETA[sec]: 0.646 "
       ]
      },
      {
       "output_type": "stream",
       "stream": "stderr",
       "text": [
        "\r",
        "[ 47 %] elapsed[sec]: 0.578 | ETA[sec]: 0.645 "
       ]
      },
      {
       "output_type": "stream",
       "stream": "stderr",
       "text": [
        "\r",
        "[ 47 %] elapsed[sec]: 0.578 | ETA[sec]: 0.644 "
       ]
      },
      {
       "output_type": "stream",
       "stream": "stderr",
       "text": [
        "\r",
        "[ 47 %] elapsed[sec]: 0.579 | ETA[sec]: 0.642 "
       ]
      },
      {
       "output_type": "stream",
       "stream": "stderr",
       "text": [
        "\r",
        "[ 47 %] elapsed[sec]: 0.579 | ETA[sec]: 0.641 "
       ]
      },
      {
       "output_type": "stream",
       "stream": "stderr",
       "text": [
        "\r",
        "[ 47 %] elapsed[sec]: 0.580 | ETA[sec]: 0.640 "
       ]
      },
      {
       "output_type": "stream",
       "stream": "stderr",
       "text": [
        "\r",
        "[ 47 %] elapsed[sec]: 0.582 | ETA[sec]: 0.641 "
       ]
      },
      {
       "output_type": "stream",
       "stream": "stderr",
       "text": [
        "\r",
        "[ 47 %] elapsed[sec]: 0.583 | ETA[sec]: 0.640 "
       ]
      },
      {
       "output_type": "stream",
       "stream": "stderr",
       "text": [
        "\r",
        "[ 47 %] elapsed[sec]: 0.583 | ETA[sec]: 0.638 "
       ]
      },
      {
       "output_type": "stream",
       "stream": "stderr",
       "text": [
        "\r",
        "[ 47 %] elapsed[sec]: 0.583 | ETA[sec]: 0.637 "
       ]
      },
      {
       "output_type": "stream",
       "stream": "stderr",
       "text": [
        "\r",
        "[ 47 %] elapsed[sec]: 0.584 | ETA[sec]: 0.636 "
       ]
      },
      {
       "output_type": "stream",
       "stream": "stderr",
       "text": [
        "\r",
        "[ 47 %] elapsed[sec]: 0.584 | ETA[sec]: 0.635 "
       ]
      },
      {
       "output_type": "stream",
       "stream": "stderr",
       "text": [
        "\r",
        "[ 48 %] elapsed[sec]: 0.585 | ETA[sec]: 0.633 "
       ]
      },
      {
       "output_type": "stream",
       "stream": "stderr",
       "text": [
        "\r",
        "[ 48 %] elapsed[sec]: 0.585 | ETA[sec]: 0.632 "
       ]
      },
      {
       "output_type": "stream",
       "stream": "stderr",
       "text": [
        "\r",
        "[ 48 %] elapsed[sec]: 0.586 | ETA[sec]: 0.631 "
       ]
      },
      {
       "output_type": "stream",
       "stream": "stderr",
       "text": [
        "\r",
        "[ 48 %] elapsed[sec]: 0.586 | ETA[sec]: 0.630 "
       ]
      },
      {
       "output_type": "stream",
       "stream": "stderr",
       "text": [
        "\r",
        "[ 48 %] elapsed[sec]: 0.586 | ETA[sec]: 0.629 "
       ]
      },
      {
       "output_type": "stream",
       "stream": "stderr",
       "text": [
        "\r",
        "[ 48 %] elapsed[sec]: 0.587 | ETA[sec]: 0.627 "
       ]
      },
      {
       "output_type": "stream",
       "stream": "stderr",
       "text": [
        "\r",
        "[ 48 %] elapsed[sec]: 0.587 | ETA[sec]: 0.626 "
       ]
      },
      {
       "output_type": "stream",
       "stream": "stderr",
       "text": [
        "\r",
        "[ 48 %] elapsed[sec]: 0.588 | ETA[sec]: 0.625 "
       ]
      },
      {
       "output_type": "stream",
       "stream": "stderr",
       "text": [
        "\r",
        "[ 48 %] elapsed[sec]: 0.588 | ETA[sec]: 0.624 "
       ]
      },
      {
       "output_type": "stream",
       "stream": "stderr",
       "text": [
        "\r",
        "[ 48 %] elapsed[sec]: 0.589 | ETA[sec]: 0.623 "
       ]
      },
      {
       "output_type": "stream",
       "stream": "stderr",
       "text": [
        "\r",
        "[ 48 %] elapsed[sec]: 0.589 | ETA[sec]: 0.621 "
       ]
      },
      {
       "output_type": "stream",
       "stream": "stderr",
       "text": [
        "\r",
        "[ 48 %] elapsed[sec]: 0.590 | ETA[sec]: 0.620 "
       ]
      },
      {
       "output_type": "stream",
       "stream": "stderr",
       "text": [
        "\r",
        "[ 48 %] elapsed[sec]: 0.590 | ETA[sec]: 0.619 "
       ]
      },
      {
       "output_type": "stream",
       "stream": "stderr",
       "text": [
        "\r",
        "[ 48 %] elapsed[sec]: 0.590 | ETA[sec]: 0.618 "
       ]
      },
      {
       "output_type": "stream",
       "stream": "stderr",
       "text": [
        "\r",
        "[ 48 %] elapsed[sec]: 0.591 | ETA[sec]: 0.617 "
       ]
      },
      {
       "output_type": "stream",
       "stream": "stderr",
       "text": [
        "\r",
        "[ 49 %] elapsed[sec]: 0.591 | ETA[sec]: 0.615 "
       ]
      },
      {
       "output_type": "stream",
       "stream": "stderr",
       "text": [
        "\r",
        "[ 49 %] elapsed[sec]: 0.592 | ETA[sec]: 0.614 "
       ]
      },
      {
       "output_type": "stream",
       "stream": "stderr",
       "text": [
        "\r",
        "[ 49 %] elapsed[sec]: 0.592 | ETA[sec]: 0.613 "
       ]
      },
      {
       "output_type": "stream",
       "stream": "stderr",
       "text": [
        "\r",
        "[ 49 %] elapsed[sec]: 0.594 | ETA[sec]: 0.613 "
       ]
      },
      {
       "output_type": "stream",
       "stream": "stderr",
       "text": [
        "\r",
        "[ 49 %] elapsed[sec]: 0.594 | ETA[sec]: 0.612 "
       ]
      },
      {
       "output_type": "stream",
       "stream": "stderr",
       "text": [
        "\r",
        "[ 49 %] elapsed[sec]: 0.594 | ETA[sec]: 0.610 "
       ]
      },
      {
       "output_type": "stream",
       "stream": "stderr",
       "text": [
        "\r",
        "[ 49 %] elapsed[sec]: 0.595 | ETA[sec]: 0.609 "
       ]
      },
      {
       "output_type": "stream",
       "stream": "stderr",
       "text": [
        "\r",
        "[ 49 %] elapsed[sec]: 0.595 | ETA[sec]: 0.608 "
       ]
      },
      {
       "output_type": "stream",
       "stream": "stderr",
       "text": [
        "\r",
        "[ 49 %] elapsed[sec]: 0.595 | ETA[sec]: 0.607 "
       ]
      },
      {
       "output_type": "stream",
       "stream": "stderr",
       "text": [
        "\r",
        "[ 49 %] elapsed[sec]: 0.596 | ETA[sec]: 0.605 "
       ]
      },
      {
       "output_type": "stream",
       "stream": "stderr",
       "text": [
        "\r",
        "[ 49 %] elapsed[sec]: 0.596 | ETA[sec]: 0.604 "
       ]
      },
      {
       "output_type": "stream",
       "stream": "stderr",
       "text": [
        "\r",
        "[ 49 %] elapsed[sec]: 0.597 | ETA[sec]: 0.603 "
       ]
      },
      {
       "output_type": "stream",
       "stream": "stderr",
       "text": [
        "\r",
        "[ 49 %] elapsed[sec]: 0.597 | ETA[sec]: 0.602 "
       ]
      },
      {
       "output_type": "stream",
       "stream": "stderr",
       "text": [
        "\r",
        "[ 49 %] elapsed[sec]: 0.597 | ETA[sec]: 0.601 "
       ]
      },
      {
       "output_type": "stream",
       "stream": "stderr",
       "text": [
        "\r",
        "[ 49 %] elapsed[sec]: 0.598 | ETA[sec]: 0.599 "
       ]
      },
      {
       "output_type": "stream",
       "stream": "stderr",
       "text": [
        "\r",
        "[ 50 %] elapsed[sec]: 0.598 | ETA[sec]: 0.598 "
       ]
      },
      {
       "output_type": "stream",
       "stream": "stderr",
       "text": [
        "\r",
        "[ 50 %] elapsed[sec]: 0.599 | ETA[sec]: 0.597 "
       ]
      },
      {
       "output_type": "stream",
       "stream": "stderr",
       "text": [
        "\r",
        "[ 50 %] elapsed[sec]: 0.599 | ETA[sec]: 0.596 "
       ]
      },
      {
       "output_type": "stream",
       "stream": "stderr",
       "text": [
        "\r",
        "[ 50 %] elapsed[sec]: 0.599 | ETA[sec]: 0.595 "
       ]
      },
      {
       "output_type": "stream",
       "stream": "stderr",
       "text": [
        "\r",
        "[ 50 %] elapsed[sec]: 0.600 | ETA[sec]: 0.593 "
       ]
      },
      {
       "output_type": "stream",
       "stream": "stderr",
       "text": [
        "\r",
        "[ 50 %] elapsed[sec]: 0.600 | ETA[sec]: 0.592 "
       ]
      },
      {
       "output_type": "stream",
       "stream": "stderr",
       "text": [
        "\r",
        "[ 50 %] elapsed[sec]: 0.600 | ETA[sec]: 0.591 "
       ]
      },
      {
       "output_type": "stream",
       "stream": "stderr",
       "text": [
        "\r",
        "[ 50 %] elapsed[sec]: 0.601 | ETA[sec]: 0.590 "
       ]
      },
      {
       "output_type": "stream",
       "stream": "stderr",
       "text": [
        "\r",
        "[ 50 %] elapsed[sec]: 0.601 | ETA[sec]: 0.589 "
       ]
      },
      {
       "output_type": "stream",
       "stream": "stderr",
       "text": [
        "\r",
        "[ 50 %] elapsed[sec]: 0.602 | ETA[sec]: 0.587 "
       ]
      },
      {
       "output_type": "stream",
       "stream": "stderr",
       "text": [
        "\r",
        "[ 50 %] elapsed[sec]: 0.602 | ETA[sec]: 0.586 "
       ]
      },
      {
       "output_type": "stream",
       "stream": "stderr",
       "text": [
        "\r",
        "[ 50 %] elapsed[sec]: 0.602 | ETA[sec]: 0.585 "
       ]
      },
      {
       "output_type": "stream",
       "stream": "stderr",
       "text": [
        "\r",
        "[ 50 %] elapsed[sec]: 0.603 | ETA[sec]: 0.584 "
       ]
      },
      {
       "output_type": "stream",
       "stream": "stderr",
       "text": [
        "\r",
        "[ 50 %] elapsed[sec]: 0.603 | ETA[sec]: 0.583 "
       ]
      },
      {
       "output_type": "stream",
       "stream": "stderr",
       "text": [
        "\r",
        "[ 50 %] elapsed[sec]: 0.605 | ETA[sec]: 0.583 "
       ]
      },
      {
       "output_type": "stream",
       "stream": "stderr",
       "text": [
        "\r",
        "[ 51 %] elapsed[sec]: 0.606 | ETA[sec]: 0.582 "
       ]
      },
      {
       "output_type": "stream",
       "stream": "stderr",
       "text": [
        "\r",
        "[ 51 %] elapsed[sec]: 0.606 | ETA[sec]: 0.581 "
       ]
      },
      {
       "output_type": "stream",
       "stream": "stderr",
       "text": [
        "\r",
        "[ 51 %] elapsed[sec]: 0.607 | ETA[sec]: 0.580 "
       ]
      },
      {
       "output_type": "stream",
       "stream": "stderr",
       "text": [
        "\r",
        "[ 51 %] elapsed[sec]: 0.607 | ETA[sec]: 0.579 "
       ]
      },
      {
       "output_type": "stream",
       "stream": "stderr",
       "text": [
        "\r",
        "[ 51 %] elapsed[sec]: 0.608 | ETA[sec]: 0.578 "
       ]
      },
      {
       "output_type": "stream",
       "stream": "stderr",
       "text": [
        "\r",
        "[ 51 %] elapsed[sec]: 0.608 | ETA[sec]: 0.576 "
       ]
      },
      {
       "output_type": "stream",
       "stream": "stderr",
       "text": [
        "\r",
        "[ 51 %] elapsed[sec]: 0.608 | ETA[sec]: 0.575 "
       ]
      },
      {
       "output_type": "stream",
       "stream": "stderr",
       "text": [
        "\r",
        "[ 51 %] elapsed[sec]: 0.609 | ETA[sec]: 0.574 "
       ]
      },
      {
       "output_type": "stream",
       "stream": "stderr",
       "text": [
        "\r",
        "[ 51 %] elapsed[sec]: 0.610 | ETA[sec]: 0.573 "
       ]
      },
      {
       "output_type": "stream",
       "stream": "stderr",
       "text": [
        "\r",
        "[ 51 %] elapsed[sec]: 0.610 | ETA[sec]: 0.572 "
       ]
      },
      {
       "output_type": "stream",
       "stream": "stderr",
       "text": [
        "\r",
        "[ 51 %] elapsed[sec]: 0.611 | ETA[sec]: 0.571 "
       ]
      },
      {
       "output_type": "stream",
       "stream": "stderr",
       "text": [
        "\r",
        "[ 51 %] elapsed[sec]: 0.611 | ETA[sec]: 0.570 "
       ]
      },
      {
       "output_type": "stream",
       "stream": "stderr",
       "text": [
        "\r",
        "[ 51 %] elapsed[sec]: 0.612 | ETA[sec]: 0.569 "
       ]
      },
      {
       "output_type": "stream",
       "stream": "stderr",
       "text": [
        "\r",
        "[ 51 %] elapsed[sec]: 0.612 | ETA[sec]: 0.568 "
       ]
      },
      {
       "output_type": "stream",
       "stream": "stderr",
       "text": [
        "\r",
        "[ 51 %] elapsed[sec]: 0.613 | ETA[sec]: 0.567 "
       ]
      },
      {
       "output_type": "stream",
       "stream": "stderr",
       "text": [
        "\r",
        "[ 52 %] elapsed[sec]: 0.613 | ETA[sec]: 0.566 "
       ]
      },
      {
       "output_type": "stream",
       "stream": "stderr",
       "text": [
        "\r",
        "[ 52 %] elapsed[sec]: 0.614 | ETA[sec]: 0.565 "
       ]
      },
      {
       "output_type": "stream",
       "stream": "stderr",
       "text": [
        "\r",
        "[ 52 %] elapsed[sec]: 0.614 | ETA[sec]: 0.564 "
       ]
      },
      {
       "output_type": "stream",
       "stream": "stderr",
       "text": [
        "\r",
        "[ 52 %] elapsed[sec]: 0.615 | ETA[sec]: 0.563 "
       ]
      },
      {
       "output_type": "stream",
       "stream": "stderr",
       "text": [
        "\r",
        "[ 52 %] elapsed[sec]: 0.615 | ETA[sec]: 0.562 "
       ]
      },
      {
       "output_type": "stream",
       "stream": "stderr",
       "text": [
        "\r",
        "[ 52 %] elapsed[sec]: 0.616 | ETA[sec]: 0.561 "
       ]
      },
      {
       "output_type": "stream",
       "stream": "stderr",
       "text": [
        "\r",
        "[ 52 %] elapsed[sec]: 0.616 | ETA[sec]: 0.560 "
       ]
      },
      {
       "output_type": "stream",
       "stream": "stderr",
       "text": [
        "\r",
        "[ 52 %] elapsed[sec]: 0.617 | ETA[sec]: 0.559 "
       ]
      },
      {
       "output_type": "stream",
       "stream": "stderr",
       "text": [
        "\r",
        "[ 52 %] elapsed[sec]: 0.637 | ETA[sec]: 0.576 "
       ]
      },
      {
       "output_type": "stream",
       "stream": "stderr",
       "text": [
        "\r",
        "[ 52 %] elapsed[sec]: 0.638 | ETA[sec]: 0.575 "
       ]
      },
      {
       "output_type": "stream",
       "stream": "stderr",
       "text": [
        "\r",
        "[ 52 %] elapsed[sec]: 0.638 | ETA[sec]: 0.574 "
       ]
      },
      {
       "output_type": "stream",
       "stream": "stderr",
       "text": [
        "\r",
        "[ 52 %] elapsed[sec]: 0.639 | ETA[sec]: 0.572 "
       ]
      },
      {
       "output_type": "stream",
       "stream": "stderr",
       "text": [
        "\r",
        "[ 52 %] elapsed[sec]: 0.639 | ETA[sec]: 0.572 "
       ]
      },
      {
       "output_type": "stream",
       "stream": "stderr",
       "text": [
        "\r",
        "[ 52 %] elapsed[sec]: 0.640 | ETA[sec]: 0.571 "
       ]
      },
      {
       "output_type": "stream",
       "stream": "stderr",
       "text": [
        "\r",
        "[ 52 %] elapsed[sec]: 0.641 | ETA[sec]: 0.570 "
       ]
      },
      {
       "output_type": "stream",
       "stream": "stderr",
       "text": [
        "\r",
        "[ 53 %] elapsed[sec]: 0.641 | ETA[sec]: 0.568 "
       ]
      },
      {
       "output_type": "stream",
       "stream": "stderr",
       "text": [
        "\r",
        "[ 53 %] elapsed[sec]: 0.645 | ETA[sec]: 0.571 "
       ]
      },
      {
       "output_type": "stream",
       "stream": "stderr",
       "text": [
        "\r",
        "[ 53 %] elapsed[sec]: 0.646 | ETA[sec]: 0.570 "
       ]
      },
      {
       "output_type": "stream",
       "stream": "stderr",
       "text": [
        "\r",
        "[ 53 %] elapsed[sec]: 0.646 | ETA[sec]: 0.568 "
       ]
      },
      {
       "output_type": "stream",
       "stream": "stderr",
       "text": [
        "\r",
        "[ 53 %] elapsed[sec]: 0.647 | ETA[sec]: 0.567 "
       ]
      },
      {
       "output_type": "stream",
       "stream": "stderr",
       "text": [
        "\r",
        "[ 53 %] elapsed[sec]: 0.648 | ETA[sec]: 0.567 "
       ]
      },
      {
       "output_type": "stream",
       "stream": "stderr",
       "text": [
        "\r",
        "[ 53 %] elapsed[sec]: 0.648 | ETA[sec]: 0.566 "
       ]
      },
      {
       "output_type": "stream",
       "stream": "stderr",
       "text": [
        "\r",
        "[ 53 %] elapsed[sec]: 0.649 | ETA[sec]: 0.564 "
       ]
      },
      {
       "output_type": "stream",
       "stream": "stderr",
       "text": [
        "\r",
        "[ 53 %] elapsed[sec]: 0.649 | ETA[sec]: 0.563 "
       ]
      },
      {
       "output_type": "stream",
       "stream": "stderr",
       "text": [
        "\r",
        "[ 53 %] elapsed[sec]: 0.649 | ETA[sec]: 0.562 "
       ]
      },
      {
       "output_type": "stream",
       "stream": "stderr",
       "text": [
        "\r",
        "[ 53 %] elapsed[sec]: 0.650 | ETA[sec]: 0.561 "
       ]
      },
      {
       "output_type": "stream",
       "stream": "stderr",
       "text": [
        "\r",
        "[ 53 %] elapsed[sec]: 0.650 | ETA[sec]: 0.560 "
       ]
      },
      {
       "output_type": "stream",
       "stream": "stderr",
       "text": [
        "\r",
        "[ 53 %] elapsed[sec]: 0.651 | ETA[sec]: 0.559 "
       ]
      },
      {
       "output_type": "stream",
       "stream": "stderr",
       "text": [
        "\r",
        "[ 53 %] elapsed[sec]: 0.651 | ETA[sec]: 0.558 "
       ]
      },
      {
       "output_type": "stream",
       "stream": "stderr",
       "text": [
        "\r",
        "[ 53 %] elapsed[sec]: 0.652 | ETA[sec]: 0.557 "
       ]
      },
      {
       "output_type": "stream",
       "stream": "stderr",
       "text": [
        "\r",
        "[ 54 %] elapsed[sec]: 0.653 | ETA[sec]: 0.556 "
       ]
      },
      {
       "output_type": "stream",
       "stream": "stderr",
       "text": [
        "\r",
        "[ 54 %] elapsed[sec]: 0.675 | ETA[sec]: 0.574 "
       ]
      },
      {
       "output_type": "stream",
       "stream": "stderr",
       "text": [
        "\r",
        "[ 54 %] elapsed[sec]: 0.676 | ETA[sec]: 0.573 "
       ]
      },
      {
       "output_type": "stream",
       "stream": "stderr",
       "text": [
        "\r",
        "[ 54 %] elapsed[sec]: 0.677 | ETA[sec]: 0.572 "
       ]
      },
      {
       "output_type": "stream",
       "stream": "stderr",
       "text": [
        "\r",
        "[ 54 %] elapsed[sec]: 0.677 | ETA[sec]: 0.571 "
       ]
      },
      {
       "output_type": "stream",
       "stream": "stderr",
       "text": [
        "\r",
        "[ 54 %] elapsed[sec]: 0.678 | ETA[sec]: 0.570 "
       ]
      },
      {
       "output_type": "stream",
       "stream": "stderr",
       "text": [
        "\r",
        "[ 54 %] elapsed[sec]: 0.679 | ETA[sec]: 0.569 "
       ]
      },
      {
       "output_type": "stream",
       "stream": "stderr",
       "text": [
        "\r",
        "[ 54 %] elapsed[sec]: 0.679 | ETA[sec]: 0.568 "
       ]
      },
      {
       "output_type": "stream",
       "stream": "stderr",
       "text": [
        "\r",
        "[ 54 %] elapsed[sec]: 0.680 | ETA[sec]: 0.567 "
       ]
      },
      {
       "output_type": "stream",
       "stream": "stderr",
       "text": [
        "\r",
        "[ 54 %] elapsed[sec]: 0.680 | ETA[sec]: 0.565 "
       ]
      },
      {
       "output_type": "stream",
       "stream": "stderr",
       "text": [
        "\r",
        "[ 54 %] elapsed[sec]: 0.680 | ETA[sec]: 0.564 "
       ]
      },
      {
       "output_type": "stream",
       "stream": "stderr",
       "text": [
        "\r",
        "[ 54 %] elapsed[sec]: 0.681 | ETA[sec]: 0.563 "
       ]
      },
      {
       "output_type": "stream",
       "stream": "stderr",
       "text": [
        "\r",
        "[ 54 %] elapsed[sec]: 0.681 | ETA[sec]: 0.562 "
       ]
      },
      {
       "output_type": "stream",
       "stream": "stderr",
       "text": [
        "\r",
        "[ 54 %] elapsed[sec]: 0.682 | ETA[sec]: 0.561 "
       ]
      },
      {
       "output_type": "stream",
       "stream": "stderr",
       "text": [
        "\r",
        "[ 54 %] elapsed[sec]: 0.682 | ETA[sec]: 0.560 "
       ]
      },
      {
       "output_type": "stream",
       "stream": "stderr",
       "text": [
        "\r",
        "[ 55 %] elapsed[sec]: 0.682 | ETA[sec]: 0.558 "
       ]
      },
      {
       "output_type": "stream",
       "stream": "stderr",
       "text": [
        "\r",
        "[ 55 %] elapsed[sec]: 0.683 | ETA[sec]: 0.557 "
       ]
      },
      {
       "output_type": "stream",
       "stream": "stderr",
       "text": [
        "\r",
        "[ 55 %] elapsed[sec]: 0.684 | ETA[sec]: 0.556 "
       ]
      },
      {
       "output_type": "stream",
       "stream": "stderr",
       "text": [
        "\r",
        "[ 55 %] elapsed[sec]: 0.684 | ETA[sec]: 0.555 "
       ]
      },
      {
       "output_type": "stream",
       "stream": "stderr",
       "text": [
        "\r",
        "[ 55 %] elapsed[sec]: 0.685 | ETA[sec]: 0.554 "
       ]
      },
      {
       "output_type": "stream",
       "stream": "stderr",
       "text": [
        "\r",
        "[ 55 %] elapsed[sec]: 0.686 | ETA[sec]: 0.554 "
       ]
      },
      {
       "output_type": "stream",
       "stream": "stderr",
       "text": [
        "\r",
        "[ 55 %] elapsed[sec]: 0.686 | ETA[sec]: 0.552 "
       ]
      },
      {
       "output_type": "stream",
       "stream": "stderr",
       "text": [
        "\r",
        "[ 55 %] elapsed[sec]: 0.687 | ETA[sec]: 0.551 "
       ]
      },
      {
       "output_type": "stream",
       "stream": "stderr",
       "text": [
        "\r",
        "[ 55 %] elapsed[sec]: 0.714 | ETA[sec]: 0.572 "
       ]
      },
      {
       "output_type": "stream",
       "stream": "stderr",
       "text": [
        "\r",
        "[ 55 %] elapsed[sec]: 0.715 | ETA[sec]: 0.571 "
       ]
      },
      {
       "output_type": "stream",
       "stream": "stderr",
       "text": [
        "\r",
        "[ 55 %] elapsed[sec]: 0.715 | ETA[sec]: 0.569 "
       ]
      },
      {
       "output_type": "stream",
       "stream": "stderr",
       "text": [
        "\r",
        "[ 55 %] elapsed[sec]: 0.716 | ETA[sec]: 0.568 "
       ]
      },
      {
       "output_type": "stream",
       "stream": "stderr",
       "text": [
        "\r",
        "[ 55 %] elapsed[sec]: 0.716 | ETA[sec]: 0.567 "
       ]
      },
      {
       "output_type": "stream",
       "stream": "stderr",
       "text": [
        "\r",
        "[ 55 %] elapsed[sec]: 0.717 | ETA[sec]: 0.566 "
       ]
      },
      {
       "output_type": "stream",
       "stream": "stderr",
       "text": [
        "\r",
        "[ 55 %] elapsed[sec]: 0.717 | ETA[sec]: 0.565 "
       ]
      },
      {
       "output_type": "stream",
       "stream": "stderr",
       "text": [
        "\r",
        "[ 56 %] elapsed[sec]: 0.717 | ETA[sec]: 0.564 "
       ]
      },
      {
       "output_type": "stream",
       "stream": "stderr",
       "text": [
        "\r",
        "[ 56 %] elapsed[sec]: 0.718 | ETA[sec]: 0.562 "
       ]
      },
      {
       "output_type": "stream",
       "stream": "stderr",
       "text": [
        "\r",
        "[ 56 %] elapsed[sec]: 0.718 | ETA[sec]: 0.561 "
       ]
      },
      {
       "output_type": "stream",
       "stream": "stderr",
       "text": [
        "\r",
        "[ 56 %] elapsed[sec]: 0.719 | ETA[sec]: 0.560 "
       ]
      },
      {
       "output_type": "stream",
       "stream": "stderr",
       "text": [
        "\r",
        "[ 56 %] elapsed[sec]: 0.719 | ETA[sec]: 0.559 "
       ]
      },
      {
       "output_type": "stream",
       "stream": "stderr",
       "text": [
        "\r",
        "[ 56 %] elapsed[sec]: 0.719 | ETA[sec]: 0.558 "
       ]
      },
      {
       "output_type": "stream",
       "stream": "stderr",
       "text": [
        "\r",
        "[ 56 %] elapsed[sec]: 0.720 | ETA[sec]: 0.556 "
       ]
      },
      {
       "output_type": "stream",
       "stream": "stderr",
       "text": [
        "\r",
        "[ 56 %] elapsed[sec]: 0.720 | ETA[sec]: 0.555 "
       ]
      },
      {
       "output_type": "stream",
       "stream": "stderr",
       "text": [
        "\r",
        "[ 56 %] elapsed[sec]: 0.720 | ETA[sec]: 0.554 "
       ]
      },
      {
       "output_type": "stream",
       "stream": "stderr",
       "text": [
        "\r",
        "[ 56 %] elapsed[sec]: 0.721 | ETA[sec]: 0.553 "
       ]
      },
      {
       "output_type": "stream",
       "stream": "stderr",
       "text": [
        "\r",
        "[ 56 %] elapsed[sec]: 0.721 | ETA[sec]: 0.551 "
       ]
      },
      {
       "output_type": "stream",
       "stream": "stderr",
       "text": [
        "\r",
        "[ 56 %] elapsed[sec]: 0.722 | ETA[sec]: 0.550 "
       ]
      },
      {
       "output_type": "stream",
       "stream": "stderr",
       "text": [
        "\r",
        "[ 56 %] elapsed[sec]: 0.722 | ETA[sec]: 0.549 "
       ]
      },
      {
       "output_type": "stream",
       "stream": "stderr",
       "text": [
        "\r",
        "[ 56 %] elapsed[sec]: 0.723 | ETA[sec]: 0.548 "
       ]
      },
      {
       "output_type": "stream",
       "stream": "stderr",
       "text": [
        "\r",
        "[ 56 %] elapsed[sec]: 0.727 | ETA[sec]: 0.550 "
       ]
      },
      {
       "output_type": "stream",
       "stream": "stderr",
       "text": [
        "\r",
        "[ 57 %] elapsed[sec]: 0.728 | ETA[sec]: 0.549 "
       ]
      },
      {
       "output_type": "stream",
       "stream": "stderr",
       "text": [
        "\r",
        "[ 57 %] elapsed[sec]: 0.728 | ETA[sec]: 0.548 "
       ]
      },
      {
       "output_type": "stream",
       "stream": "stderr",
       "text": [
        "\r",
        "[ 57 %] elapsed[sec]: 0.747 | ETA[sec]: 0.560 "
       ]
      },
      {
       "output_type": "stream",
       "stream": "stderr",
       "text": [
        "\r",
        "[ 57 %] elapsed[sec]: 0.748 | ETA[sec]: 0.559 "
       ]
      },
      {
       "output_type": "stream",
       "stream": "stderr",
       "text": [
        "\r",
        "[ 57 %] elapsed[sec]: 0.748 | ETA[sec]: 0.558 "
       ]
      },
      {
       "output_type": "stream",
       "stream": "stderr",
       "text": [
        "\r",
        "[ 57 %] elapsed[sec]: 0.749 | ETA[sec]: 0.557 "
       ]
      },
      {
       "output_type": "stream",
       "stream": "stderr",
       "text": [
        "\r",
        "[ 57 %] elapsed[sec]: 0.752 | ETA[sec]: 0.558 "
       ]
      },
      {
       "output_type": "stream",
       "stream": "stderr",
       "text": [
        "\r",
        "[ 57 %] elapsed[sec]: 0.752 | ETA[sec]: 0.557 "
       ]
      },
      {
       "output_type": "stream",
       "stream": "stderr",
       "text": [
        "\r",
        "[ 57 %] elapsed[sec]: 0.754 | ETA[sec]: 0.556 "
       ]
      },
      {
       "output_type": "stream",
       "stream": "stderr",
       "text": [
        "\r",
        "[ 57 %] elapsed[sec]: 0.754 | ETA[sec]: 0.555 "
       ]
      },
      {
       "output_type": "stream",
       "stream": "stderr",
       "text": [
        "\r",
        "[ 57 %] elapsed[sec]: 0.755 | ETA[sec]: 0.554 "
       ]
      },
      {
       "output_type": "stream",
       "stream": "stderr",
       "text": [
        "\r",
        "[ 57 %] elapsed[sec]: 0.756 | ETA[sec]: 0.554 "
       ]
      },
      {
       "output_type": "stream",
       "stream": "stderr",
       "text": [
        "\r",
        "[ 57 %] elapsed[sec]: 0.757 | ETA[sec]: 0.553 "
       ]
      },
      {
       "output_type": "stream",
       "stream": "stderr",
       "text": [
        "\r",
        "[ 57 %] elapsed[sec]: 0.758 | ETA[sec]: 0.552 "
       ]
      },
      {
       "output_type": "stream",
       "stream": "stderr",
       "text": [
        "\r",
        "[ 57 %] elapsed[sec]: 0.758 | ETA[sec]: 0.550 "
       ]
      },
      {
       "output_type": "stream",
       "stream": "stderr",
       "text": [
        "\r",
        "[ 58 %] elapsed[sec]: 0.759 | ETA[sec]: 0.549 "
       ]
      },
      {
       "output_type": "stream",
       "stream": "stderr",
       "text": [
        "\r",
        "[ 58 %] elapsed[sec]: 0.759 | ETA[sec]: 0.548 "
       ]
      },
      {
       "output_type": "stream",
       "stream": "stderr",
       "text": [
        "\r",
        "[ 58 %] elapsed[sec]: 0.759 | ETA[sec]: 0.547 "
       ]
      },
      {
       "output_type": "stream",
       "stream": "stderr",
       "text": [
        "\r",
        "[ 58 %] elapsed[sec]: 0.760 | ETA[sec]: 0.546 "
       ]
      },
      {
       "output_type": "stream",
       "stream": "stderr",
       "text": [
        "\r",
        "[ 58 %] elapsed[sec]: 0.760 | ETA[sec]: 0.545 "
       ]
      },
      {
       "output_type": "stream",
       "stream": "stderr",
       "text": [
        "\r",
        "[ 58 %] elapsed[sec]: 0.761 | ETA[sec]: 0.544 "
       ]
      },
      {
       "output_type": "stream",
       "stream": "stderr",
       "text": [
        "\r",
        "[ 58 %] elapsed[sec]: 0.762 | ETA[sec]: 0.543 "
       ]
      },
      {
       "output_type": "stream",
       "stream": "stderr",
       "text": [
        "\r",
        "[ 58 %] elapsed[sec]: 0.780 | ETA[sec]: 0.554 "
       ]
      },
      {
       "output_type": "stream",
       "stream": "stderr",
       "text": [
        "\r",
        "[ 58 %] elapsed[sec]: 0.780 | ETA[sec]: 0.553 "
       ]
      },
      {
       "output_type": "stream",
       "stream": "stderr",
       "text": [
        "\r",
        "[ 58 %] elapsed[sec]: 0.781 | ETA[sec]: 0.551 "
       ]
      },
      {
       "output_type": "stream",
       "stream": "stderr",
       "text": [
        "\r",
        "[ 58 %] elapsed[sec]: 0.781 | ETA[sec]: 0.550 "
       ]
      },
      {
       "output_type": "stream",
       "stream": "stderr",
       "text": [
        "\r",
        "[ 58 %] elapsed[sec]: 0.781 | ETA[sec]: 0.549 "
       ]
      },
      {
       "output_type": "stream",
       "stream": "stderr",
       "text": [
        "\r",
        "[ 58 %] elapsed[sec]: 0.782 | ETA[sec]: 0.548 "
       ]
      },
      {
       "output_type": "stream",
       "stream": "stderr",
       "text": [
        "\r",
        "[ 58 %] elapsed[sec]: 0.782 | ETA[sec]: 0.547 "
       ]
      },
      {
       "output_type": "stream",
       "stream": "stderr",
       "text": [
        "\r",
        "[ 58 %] elapsed[sec]: 0.783 | ETA[sec]: 0.545 "
       ]
      },
      {
       "output_type": "stream",
       "stream": "stderr",
       "text": [
        "\r",
        "[ 59 %] elapsed[sec]: 0.783 | ETA[sec]: 0.544 "
       ]
      },
      {
       "output_type": "stream",
       "stream": "stderr",
       "text": [
        "\r",
        "[ 59 %] elapsed[sec]: 0.783 | ETA[sec]: 0.543 "
       ]
      },
      {
       "output_type": "stream",
       "stream": "stderr",
       "text": [
        "\r",
        "[ 59 %] elapsed[sec]: 0.784 | ETA[sec]: 0.542 "
       ]
      },
      {
       "output_type": "stream",
       "stream": "stderr",
       "text": [
        "\r",
        "[ 59 %] elapsed[sec]: 0.784 | ETA[sec]: 0.541 "
       ]
      },
      {
       "output_type": "stream",
       "stream": "stderr",
       "text": [
        "\r",
        "[ 59 %] elapsed[sec]: 0.785 | ETA[sec]: 0.539 "
       ]
      },
      {
       "output_type": "stream",
       "stream": "stderr",
       "text": [
        "\r",
        "[ 59 %] elapsed[sec]: 0.785 | ETA[sec]: 0.538 "
       ]
      },
      {
       "output_type": "stream",
       "stream": "stderr",
       "text": [
        "\r",
        "[ 59 %] elapsed[sec]: 0.786 | ETA[sec]: 0.537 "
       ]
      },
      {
       "output_type": "stream",
       "stream": "stderr",
       "text": [
        "\r",
        "[ 59 %] elapsed[sec]: 0.786 | ETA[sec]: 0.536 "
       ]
      },
      {
       "output_type": "stream",
       "stream": "stderr",
       "text": [
        "\r",
        "[ 59 %] elapsed[sec]: 0.786 | ETA[sec]: 0.534 "
       ]
      },
      {
       "output_type": "stream",
       "stream": "stderr",
       "text": [
        "\r",
        "[ 59 %] elapsed[sec]: 0.787 | ETA[sec]: 0.533 "
       ]
      },
      {
       "output_type": "stream",
       "stream": "stderr",
       "text": [
        "\r",
        "[ 59 %] elapsed[sec]: 0.787 | ETA[sec]: 0.532 "
       ]
      },
      {
       "output_type": "stream",
       "stream": "stderr",
       "text": [
        "\r",
        "[ 59 %] elapsed[sec]: 0.787 | ETA[sec]: 0.531 "
       ]
      },
      {
       "output_type": "stream",
       "stream": "stderr",
       "text": [
        "\r",
        "[ 59 %] elapsed[sec]: 0.788 | ETA[sec]: 0.530 "
       ]
      },
      {
       "output_type": "stream",
       "stream": "stderr",
       "text": [
        "\r",
        "[ 59 %] elapsed[sec]: 0.788 | ETA[sec]: 0.528 "
       ]
      },
      {
       "output_type": "stream",
       "stream": "stderr",
       "text": [
        "\r",
        "[ 59 %] elapsed[sec]: 0.789 | ETA[sec]: 0.527 "
       ]
      },
      {
       "output_type": "stream",
       "stream": "stderr",
       "text": [
        "\r",
        "[ 60 %] elapsed[sec]: 0.827 | ETA[sec]: 0.551 "
       ]
      },
      {
       "output_type": "stream",
       "stream": "stderr",
       "text": [
        "\r",
        "[ 60 %] elapsed[sec]: 0.827 | ETA[sec]: 0.550 "
       ]
      },
      {
       "output_type": "stream",
       "stream": "stderr",
       "text": [
        "\r",
        "[ 60 %] elapsed[sec]: 0.827 | ETA[sec]: 0.549 "
       ]
      },
      {
       "output_type": "stream",
       "stream": "stderr",
       "text": [
        "\r",
        "[ 60 %] elapsed[sec]: 0.828 | ETA[sec]: 0.547 "
       ]
      },
      {
       "output_type": "stream",
       "stream": "stderr",
       "text": [
        "\r",
        "[ 60 %] elapsed[sec]: 0.828 | ETA[sec]: 0.546 "
       ]
      },
      {
       "output_type": "stream",
       "stream": "stderr",
       "text": [
        "\r",
        "[ 60 %] elapsed[sec]: 0.829 | ETA[sec]: 0.545 "
       ]
      },
      {
       "output_type": "stream",
       "stream": "stderr",
       "text": [
        "\r",
        "[ 60 %] elapsed[sec]: 0.829 | ETA[sec]: 0.544 "
       ]
      },
      {
       "output_type": "stream",
       "stream": "stderr",
       "text": [
        "\r",
        "[ 60 %] elapsed[sec]: 0.830 | ETA[sec]: 0.542 "
       ]
      },
      {
       "output_type": "stream",
       "stream": "stderr",
       "text": [
        "\r",
        "[ 60 %] elapsed[sec]: 0.830 | ETA[sec]: 0.541 "
       ]
      },
      {
       "output_type": "stream",
       "stream": "stderr",
       "text": [
        "\r",
        "[ 60 %] elapsed[sec]: 0.830 | ETA[sec]: 0.540 "
       ]
      },
      {
       "output_type": "stream",
       "stream": "stderr",
       "text": [
        "\r",
        "[ 60 %] elapsed[sec]: 0.831 | ETA[sec]: 0.539 "
       ]
      },
      {
       "output_type": "stream",
       "stream": "stderr",
       "text": [
        "\r",
        "[ 60 %] elapsed[sec]: 0.831 | ETA[sec]: 0.537 "
       ]
      },
      {
       "output_type": "stream",
       "stream": "stderr",
       "text": [
        "\r",
        "[ 60 %] elapsed[sec]: 0.832 | ETA[sec]: 0.536 "
       ]
      },
      {
       "output_type": "stream",
       "stream": "stderr",
       "text": [
        "\r",
        "[ 60 %] elapsed[sec]: 0.832 | ETA[sec]: 0.535 "
       ]
      },
      {
       "output_type": "stream",
       "stream": "stderr",
       "text": [
        "\r",
        "[ 60 %] elapsed[sec]: 0.832 | ETA[sec]: 0.534 "
       ]
      },
      {
       "output_type": "stream",
       "stream": "stderr",
       "text": [
        "\r",
        "[ 61 %] elapsed[sec]: 0.833 | ETA[sec]: 0.532 "
       ]
      },
      {
       "output_type": "stream",
       "stream": "stderr",
       "text": [
        "\r",
        "[ 61 %] elapsed[sec]: 0.833 | ETA[sec]: 0.531 "
       ]
      },
      {
       "output_type": "stream",
       "stream": "stderr",
       "text": [
        "\r",
        "[ 61 %] elapsed[sec]: 0.833 | ETA[sec]: 0.530 "
       ]
      },
      {
       "output_type": "stream",
       "stream": "stderr",
       "text": [
        "\r",
        "[ 61 %] elapsed[sec]: 0.834 | ETA[sec]: 0.529 "
       ]
      },
      {
       "output_type": "stream",
       "stream": "stderr",
       "text": [
        "\r",
        "[ 61 %] elapsed[sec]: 0.834 | ETA[sec]: 0.527 "
       ]
      },
      {
       "output_type": "stream",
       "stream": "stderr",
       "text": [
        "\r",
        "[ 61 %] elapsed[sec]: 0.835 | ETA[sec]: 0.526 "
       ]
      },
      {
       "output_type": "stream",
       "stream": "stderr",
       "text": [
        "\r",
        "[ 61 %] elapsed[sec]: 0.835 | ETA[sec]: 0.525 "
       ]
      },
      {
       "output_type": "stream",
       "stream": "stderr",
       "text": [
        "\r",
        "[ 61 %] elapsed[sec]: 0.835 | ETA[sec]: 0.524 "
       ]
      },
      {
       "output_type": "stream",
       "stream": "stderr",
       "text": [
        "\r",
        "[ 61 %] elapsed[sec]: 0.836 | ETA[sec]: 0.522 "
       ]
      },
      {
       "output_type": "stream",
       "stream": "stderr",
       "text": [
        "\r",
        "[ 61 %] elapsed[sec]: 0.836 | ETA[sec]: 0.521 "
       ]
      },
      {
       "output_type": "stream",
       "stream": "stderr",
       "text": [
        "\r",
        "[ 61 %] elapsed[sec]: 0.837 | ETA[sec]: 0.520 "
       ]
      },
      {
       "output_type": "stream",
       "stream": "stderr",
       "text": [
        "\r",
        "[ 61 %] elapsed[sec]: 0.868 | ETA[sec]: 0.538 "
       ]
      },
      {
       "output_type": "stream",
       "stream": "stderr",
       "text": [
        "\r",
        "[ 61 %] elapsed[sec]: 0.868 | ETA[sec]: 0.537 "
       ]
      },
      {
       "output_type": "stream",
       "stream": "stderr",
       "text": [
        "\r",
        "[ 61 %] elapsed[sec]: 0.868 | ETA[sec]: 0.535 "
       ]
      },
      {
       "output_type": "stream",
       "stream": "stderr",
       "text": [
        "\r",
        "[ 61 %] elapsed[sec]: 0.869 | ETA[sec]: 0.534 "
       ]
      },
      {
       "output_type": "stream",
       "stream": "stderr",
       "text": [
        "\r",
        "[ 62 %] elapsed[sec]: 0.869 | ETA[sec]: 0.533 "
       ]
      },
      {
       "output_type": "stream",
       "stream": "stderr",
       "text": [
        "\r",
        "[ 62 %] elapsed[sec]: 0.870 | ETA[sec]: 0.531 "
       ]
      },
      {
       "output_type": "stream",
       "stream": "stderr",
       "text": [
        "\r",
        "[ 62 %] elapsed[sec]: 0.870 | ETA[sec]: 0.530 "
       ]
      },
      {
       "output_type": "stream",
       "stream": "stderr",
       "text": [
        "\r",
        "[ 62 %] elapsed[sec]: 0.870 | ETA[sec]: 0.529 "
       ]
      },
      {
       "output_type": "stream",
       "stream": "stderr",
       "text": [
        "\r",
        "[ 62 %] elapsed[sec]: 0.871 | ETA[sec]: 0.528 "
       ]
      },
      {
       "output_type": "stream",
       "stream": "stderr",
       "text": [
        "\r",
        "[ 62 %] elapsed[sec]: 0.871 | ETA[sec]: 0.527 "
       ]
      },
      {
       "output_type": "stream",
       "stream": "stderr",
       "text": [
        "\r",
        "[ 62 %] elapsed[sec]: 0.872 | ETA[sec]: 0.525 "
       ]
      },
      {
       "output_type": "stream",
       "stream": "stderr",
       "text": [
        "\r",
        "[ 62 %] elapsed[sec]: 0.872 | ETA[sec]: 0.524 "
       ]
      },
      {
       "output_type": "stream",
       "stream": "stderr",
       "text": [
        "\r",
        "[ 62 %] elapsed[sec]: 0.872 | ETA[sec]: 0.523 "
       ]
      },
      {
       "output_type": "stream",
       "stream": "stderr",
       "text": [
        "\r",
        "[ 62 %] elapsed[sec]: 0.873 | ETA[sec]: 0.521 "
       ]
      },
      {
       "output_type": "stream",
       "stream": "stderr",
       "text": [
        "\r",
        "[ 62 %] elapsed[sec]: 0.873 | ETA[sec]: 0.520 "
       ]
      },
      {
       "output_type": "stream",
       "stream": "stderr",
       "text": [
        "\r",
        "[ 62 %] elapsed[sec]: 0.874 | ETA[sec]: 0.519 "
       ]
      },
      {
       "output_type": "stream",
       "stream": "stderr",
       "text": [
        "\r",
        "[ 62 %] elapsed[sec]: 0.874 | ETA[sec]: 0.518 "
       ]
      },
      {
       "output_type": "stream",
       "stream": "stderr",
       "text": [
        "\r",
        "[ 62 %] elapsed[sec]: 0.874 | ETA[sec]: 0.516 "
       ]
      },
      {
       "output_type": "stream",
       "stream": "stderr",
       "text": [
        "\r",
        "[ 62 %] elapsed[sec]: 0.875 | ETA[sec]: 0.515 "
       ]
      },
      {
       "output_type": "stream",
       "stream": "stderr",
       "text": [
        "\r",
        "[ 63 %] elapsed[sec]: 0.875 | ETA[sec]: 0.514 "
       ]
      },
      {
       "output_type": "stream",
       "stream": "stderr",
       "text": [
        "\r",
        "[ 63 %] elapsed[sec]: 0.876 | ETA[sec]: 0.513 "
       ]
      },
      {
       "output_type": "stream",
       "stream": "stderr",
       "text": [
        "\r",
        "[ 63 %] elapsed[sec]: 0.876 | ETA[sec]: 0.512 "
       ]
      },
      {
       "output_type": "stream",
       "stream": "stderr",
       "text": [
        "\r",
        "[ 63 %] elapsed[sec]: 0.877 | ETA[sec]: 0.511 "
       ]
      },
      {
       "output_type": "stream",
       "stream": "stderr",
       "text": [
        "\r",
        "[ 63 %] elapsed[sec]: 0.877 | ETA[sec]: 0.509 "
       ]
      },
      {
       "output_type": "stream",
       "stream": "stderr",
       "text": [
        "\r",
        "[ 63 %] elapsed[sec]: 0.887 | ETA[sec]: 0.514 "
       ]
      },
      {
       "output_type": "stream",
       "stream": "stderr",
       "text": [
        "\r",
        "[ 63 %] elapsed[sec]: 0.888 | ETA[sec]: 0.513 "
       ]
      },
      {
       "output_type": "stream",
       "stream": "stderr",
       "text": [
        "\r",
        "[ 63 %] elapsed[sec]: 0.888 | ETA[sec]: 0.511 "
       ]
      },
      {
       "output_type": "stream",
       "stream": "stderr",
       "text": [
        "\r",
        "[ 63 %] elapsed[sec]: 0.889 | ETA[sec]: 0.510 "
       ]
      },
      {
       "output_type": "stream",
       "stream": "stderr",
       "text": [
        "\r",
        "[ 63 %] elapsed[sec]: 0.889 | ETA[sec]: 0.509 "
       ]
      },
      {
       "output_type": "stream",
       "stream": "stderr",
       "text": [
        "\r",
        "[ 63 %] elapsed[sec]: 0.890 | ETA[sec]: 0.508 "
       ]
      },
      {
       "output_type": "stream",
       "stream": "stderr",
       "text": [
        "\r",
        "[ 63 %] elapsed[sec]: 0.890 | ETA[sec]: 0.506 "
       ]
      },
      {
       "output_type": "stream",
       "stream": "stderr",
       "text": [
        "\r",
        "[ 63 %] elapsed[sec]: 0.890 | ETA[sec]: 0.505 "
       ]
      },
      {
       "output_type": "stream",
       "stream": "stderr",
       "text": [
        "\r",
        "[ 63 %] elapsed[sec]: 0.891 | ETA[sec]: 0.504 "
       ]
      },
      {
       "output_type": "stream",
       "stream": "stderr",
       "text": [
        "\r",
        "[ 63 %] elapsed[sec]: 0.891 | ETA[sec]: 0.503 "
       ]
      },
      {
       "output_type": "stream",
       "stream": "stderr",
       "text": [
        "\r",
        "[ 64 %] elapsed[sec]: 0.891 | ETA[sec]: 0.501 "
       ]
      },
      {
       "output_type": "stream",
       "stream": "stderr",
       "text": [
        "\r",
        "[ 64 %] elapsed[sec]: 0.892 | ETA[sec]: 0.500 "
       ]
      },
      {
       "output_type": "stream",
       "stream": "stderr",
       "text": [
        "\r",
        "[ 64 %] elapsed[sec]: 0.892 | ETA[sec]: 0.499 "
       ]
      },
      {
       "output_type": "stream",
       "stream": "stderr",
       "text": [
        "\r",
        "[ 64 %] elapsed[sec]: 0.893 | ETA[sec]: 0.498 "
       ]
      },
      {
       "output_type": "stream",
       "stream": "stderr",
       "text": [
        "\r",
        "[ 64 %] elapsed[sec]: 0.893 | ETA[sec]: 0.497 "
       ]
      },
      {
       "output_type": "stream",
       "stream": "stderr",
       "text": [
        "\r",
        "[ 64 %] elapsed[sec]: 0.894 | ETA[sec]: 0.496 "
       ]
      },
      {
       "output_type": "stream",
       "stream": "stderr",
       "text": [
        "\r",
        "[ 64 %] elapsed[sec]: 0.894 | ETA[sec]: 0.494 "
       ]
      },
      {
       "output_type": "stream",
       "stream": "stderr",
       "text": [
        "\r",
        "[ 64 %] elapsed[sec]: 0.895 | ETA[sec]: 0.493 "
       ]
      },
      {
       "output_type": "stream",
       "stream": "stderr",
       "text": [
        "\r",
        "[ 64 %] elapsed[sec]: 0.895 | ETA[sec]: 0.492 "
       ]
      },
      {
       "output_type": "stream",
       "stream": "stderr",
       "text": [
        "\r",
        "[ 64 %] elapsed[sec]: 0.896 | ETA[sec]: 0.491 "
       ]
      },
      {
       "output_type": "stream",
       "stream": "stderr",
       "text": [
        "\r",
        "[ 64 %] elapsed[sec]: 0.896 | ETA[sec]: 0.490 "
       ]
      },
      {
       "output_type": "stream",
       "stream": "stderr",
       "text": [
        "\r",
        "[ 64 %] elapsed[sec]: 0.897 | ETA[sec]: 0.489 "
       ]
      },
      {
       "output_type": "stream",
       "stream": "stderr",
       "text": [
        "\r",
        "[ 64 %] elapsed[sec]: 0.897 | ETA[sec]: 0.487 "
       ]
      },
      {
       "output_type": "stream",
       "stream": "stderr",
       "text": [
        "\r",
        "[ 64 %] elapsed[sec]: 0.898 | ETA[sec]: 0.486 "
       ]
      },
      {
       "output_type": "stream",
       "stream": "stderr",
       "text": [
        "\r",
        "[ 64 %] elapsed[sec]: 0.898 | ETA[sec]: 0.485 "
       ]
      },
      {
       "output_type": "stream",
       "stream": "stderr",
       "text": [
        "\r",
        "[ 65 %] elapsed[sec]: 0.910 | ETA[sec]: 0.490 "
       ]
      },
      {
       "output_type": "stream",
       "stream": "stderr",
       "text": [
        "\r",
        "[ 65 %] elapsed[sec]: 0.910 | ETA[sec]: 0.489 "
       ]
      },
      {
       "output_type": "stream",
       "stream": "stderr",
       "text": [
        "\r",
        "[ 65 %] elapsed[sec]: 0.911 | ETA[sec]: 0.488 "
       ]
      },
      {
       "output_type": "stream",
       "stream": "stderr",
       "text": [
        "\r",
        "[ 65 %] elapsed[sec]: 0.911 | ETA[sec]: 0.486 "
       ]
      },
      {
       "output_type": "stream",
       "stream": "stderr",
       "text": [
        "\r",
        "[ 65 %] elapsed[sec]: 0.912 | ETA[sec]: 0.485 "
       ]
      },
      {
       "output_type": "stream",
       "stream": "stderr",
       "text": [
        "\r",
        "[ 65 %] elapsed[sec]: 0.912 | ETA[sec]: 0.484 "
       ]
      },
      {
       "output_type": "stream",
       "stream": "stderr",
       "text": [
        "\r",
        "[ 65 %] elapsed[sec]: 0.912 | ETA[sec]: 0.483 "
       ]
      },
      {
       "output_type": "stream",
       "stream": "stderr",
       "text": [
        "\r",
        "[ 65 %] elapsed[sec]: 0.913 | ETA[sec]: 0.482 "
       ]
      },
      {
       "output_type": "stream",
       "stream": "stderr",
       "text": [
        "\r",
        "[ 65 %] elapsed[sec]: 0.913 | ETA[sec]: 0.480 "
       ]
      },
      {
       "output_type": "stream",
       "stream": "stderr",
       "text": [
        "\r",
        "[ 65 %] elapsed[sec]: 0.914 | ETA[sec]: 0.479 "
       ]
      },
      {
       "output_type": "stream",
       "stream": "stderr",
       "text": [
        "\r",
        "[ 65 %] elapsed[sec]: 0.914 | ETA[sec]: 0.478 "
       ]
      },
      {
       "output_type": "stream",
       "stream": "stderr",
       "text": [
        "\r",
        "[ 65 %] elapsed[sec]: 0.915 | ETA[sec]: 0.477 "
       ]
      },
      {
       "output_type": "stream",
       "stream": "stderr",
       "text": [
        "\r",
        "[ 65 %] elapsed[sec]: 0.915 | ETA[sec]: 0.476 "
       ]
      },
      {
       "output_type": "stream",
       "stream": "stderr",
       "text": [
        "\r",
        "[ 65 %] elapsed[sec]: 0.917 | ETA[sec]: 0.475 "
       ]
      },
      {
       "output_type": "stream",
       "stream": "stderr",
       "text": [
        "\r",
        "[ 65 %] elapsed[sec]: 0.920 | ETA[sec]: 0.476 "
       ]
      },
      {
       "output_type": "stream",
       "stream": "stderr",
       "text": [
        "\r",
        "[ 66 %] elapsed[sec]: 0.921 | ETA[sec]: 0.474 "
       ]
      },
      {
       "output_type": "stream",
       "stream": "stderr",
       "text": [
        "\r",
        "[ 66 %] elapsed[sec]: 0.921 | ETA[sec]: 0.473 "
       ]
      },
      {
       "output_type": "stream",
       "stream": "stderr",
       "text": [
        "\r",
        "[ 66 %] elapsed[sec]: 0.922 | ETA[sec]: 0.472 "
       ]
      },
      {
       "output_type": "stream",
       "stream": "stderr",
       "text": [
        "\r",
        "[ 66 %] elapsed[sec]: 0.922 | ETA[sec]: 0.471 "
       ]
      },
      {
       "output_type": "stream",
       "stream": "stderr",
       "text": [
        "\r",
        "[ 66 %] elapsed[sec]: 0.923 | ETA[sec]: 0.470 "
       ]
      },
      {
       "output_type": "stream",
       "stream": "stderr",
       "text": [
        "\r",
        "[ 66 %] elapsed[sec]: 0.923 | ETA[sec]: 0.469 "
       ]
      },
      {
       "output_type": "stream",
       "stream": "stderr",
       "text": [
        "\r",
        "[ 66 %] elapsed[sec]: 0.924 | ETA[sec]: 0.467 "
       ]
      },
      {
       "output_type": "stream",
       "stream": "stderr",
       "text": [
        "\r",
        "[ 66 %] elapsed[sec]: 0.924 | ETA[sec]: 0.466 "
       ]
      },
      {
       "output_type": "stream",
       "stream": "stderr",
       "text": [
        "\r",
        "[ 66 %] elapsed[sec]: 0.974 | ETA[sec]: 0.490 "
       ]
      },
      {
       "output_type": "stream",
       "stream": "stderr",
       "text": [
        "\r",
        "[ 66 %] elapsed[sec]: 0.974 | ETA[sec]: 0.489 "
       ]
      },
      {
       "output_type": "stream",
       "stream": "stderr",
       "text": [
        "\r",
        "[ 66 %] elapsed[sec]: 0.975 | ETA[sec]: 0.487 "
       ]
      },
      {
       "output_type": "stream",
       "stream": "stderr",
       "text": [
        "\r",
        "[ 66 %] elapsed[sec]: 0.976 | ETA[sec]: 0.487 "
       ]
      },
      {
       "output_type": "stream",
       "stream": "stderr",
       "text": [
        "\r",
        "[ 66 %] elapsed[sec]: 0.977 | ETA[sec]: 0.486 "
       ]
      },
      {
       "output_type": "stream",
       "stream": "stderr",
       "text": [
        "\r",
        "[ 66 %] elapsed[sec]: 0.977 | ETA[sec]: 0.484 "
       ]
      },
      {
       "output_type": "stream",
       "stream": "stderr",
       "text": [
        "\r",
        "[ 66 %] elapsed[sec]: 0.978 | ETA[sec]: 0.483 "
       ]
      },
      {
       "output_type": "stream",
       "stream": "stderr",
       "text": [
        "\r",
        "[ 67 %] elapsed[sec]: 0.978 | ETA[sec]: 0.482 "
       ]
      },
      {
       "output_type": "stream",
       "stream": "stderr",
       "text": [
        "\r",
        "[ 67 %] elapsed[sec]: 0.979 | ETA[sec]: 0.481 "
       ]
      },
      {
       "output_type": "stream",
       "stream": "stderr",
       "text": [
        "\r",
        "[ 67 %] elapsed[sec]: 0.979 | ETA[sec]: 0.479 "
       ]
      },
      {
       "output_type": "stream",
       "stream": "stderr",
       "text": [
        "\r",
        "[ 67 %] elapsed[sec]: 0.980 | ETA[sec]: 0.478 "
       ]
      },
      {
       "output_type": "stream",
       "stream": "stderr",
       "text": [
        "\r",
        "[ 67 %] elapsed[sec]: 0.980 | ETA[sec]: 0.477 "
       ]
      },
      {
       "output_type": "stream",
       "stream": "stderr",
       "text": [
        "\r",
        "[ 67 %] elapsed[sec]: 0.980 | ETA[sec]: 0.476 "
       ]
      },
      {
       "output_type": "stream",
       "stream": "stderr",
       "text": [
        "\r",
        "[ 67 %] elapsed[sec]: 0.981 | ETA[sec]: 0.474 "
       ]
      },
      {
       "output_type": "stream",
       "stream": "stderr",
       "text": [
        "\r",
        "[ 67 %] elapsed[sec]: 0.981 | ETA[sec]: 0.473 "
       ]
      },
      {
       "output_type": "stream",
       "stream": "stderr",
       "text": [
        "\r",
        "[ 67 %] elapsed[sec]: 0.981 | ETA[sec]: 0.472 "
       ]
      },
      {
       "output_type": "stream",
       "stream": "stderr",
       "text": [
        "\r",
        "[ 67 %] elapsed[sec]: 0.982 | ETA[sec]: 0.471 "
       ]
      },
      {
       "output_type": "stream",
       "stream": "stderr",
       "text": [
        "\r",
        "[ 67 %] elapsed[sec]: 0.982 | ETA[sec]: 0.469 "
       ]
      },
      {
       "output_type": "stream",
       "stream": "stderr",
       "text": [
        "\r",
        "[ 67 %] elapsed[sec]: 0.983 | ETA[sec]: 0.468 "
       ]
      },
      {
       "output_type": "stream",
       "stream": "stderr",
       "text": [
        "\r",
        "[ 67 %] elapsed[sec]: 0.983 | ETA[sec]: 0.467 "
       ]
      },
      {
       "output_type": "stream",
       "stream": "stderr",
       "text": [
        "\r",
        "[ 67 %] elapsed[sec]: 0.983 | ETA[sec]: 0.466 "
       ]
      },
      {
       "output_type": "stream",
       "stream": "stderr",
       "text": [
        "\r",
        "[ 67 %] elapsed[sec]: 0.984 | ETA[sec]: 0.464 "
       ]
      },
      {
       "output_type": "stream",
       "stream": "stderr",
       "text": [
        "\r",
        "[ 68 %] elapsed[sec]: 0.984 | ETA[sec]: 0.463 "
       ]
      },
      {
       "output_type": "stream",
       "stream": "stderr",
       "text": [
        "\r",
        "[ 68 %] elapsed[sec]: 0.985 | ETA[sec]: 0.462 "
       ]
      },
      {
       "output_type": "stream",
       "stream": "stderr",
       "text": [
        "\r",
        "[ 68 %] elapsed[sec]: 0.996 | ETA[sec]: 0.466 "
       ]
      },
      {
       "output_type": "stream",
       "stream": "stderr",
       "text": [
        "\r",
        "[ 68 %] elapsed[sec]: 0.996 | ETA[sec]: 0.464 "
       ]
      },
      {
       "output_type": "stream",
       "stream": "stderr",
       "text": [
        "\r",
        "[ 68 %] elapsed[sec]: 0.996 | ETA[sec]: 0.463 "
       ]
      },
      {
       "output_type": "stream",
       "stream": "stderr",
       "text": [
        "\r",
        "[ 68 %] elapsed[sec]: 0.997 | ETA[sec]: 0.462 "
       ]
      },
      {
       "output_type": "stream",
       "stream": "stderr",
       "text": [
        "\r",
        "[ 68 %] elapsed[sec]: 0.997 | ETA[sec]: 0.461 "
       ]
      },
      {
       "output_type": "stream",
       "stream": "stderr",
       "text": [
        "\r",
        "[ 68 %] elapsed[sec]: 0.998 | ETA[sec]: 0.460 "
       ]
      },
      {
       "output_type": "stream",
       "stream": "stderr",
       "text": [
        "\r",
        "[ 68 %] elapsed[sec]: 0.998 | ETA[sec]: 0.458 "
       ]
      },
      {
       "output_type": "stream",
       "stream": "stderr",
       "text": [
        "\r",
        "[ 68 %] elapsed[sec]: 0.999 | ETA[sec]: 0.457 "
       ]
      },
      {
       "output_type": "stream",
       "stream": "stderr",
       "text": [
        "\r",
        "[ 68 %] elapsed[sec]: 0.999 | ETA[sec]: 0.456 "
       ]
      },
      {
       "output_type": "stream",
       "stream": "stderr",
       "text": [
        "\r",
        "[ 68 %] elapsed[sec]: 1.000 | ETA[sec]: 0.455 "
       ]
      },
      {
       "output_type": "stream",
       "stream": "stderr",
       "text": [
        "\r",
        "[ 68 %] elapsed[sec]: 1.000 | ETA[sec]: 0.454 "
       ]
      },
      {
       "output_type": "stream",
       "stream": "stderr",
       "text": [
        "\r",
        "[ 68 %] elapsed[sec]: 1.001 | ETA[sec]: 0.452 "
       ]
      },
      {
       "output_type": "stream",
       "stream": "stderr",
       "text": [
        "\r",
        "[ 68 %] elapsed[sec]: 1.002 | ETA[sec]: 0.452 "
       ]
      },
      {
       "output_type": "stream",
       "stream": "stderr",
       "text": [
        "\r",
        "[ 69 %] elapsed[sec]: 1.002 | ETA[sec]: 0.450 "
       ]
      },
      {
       "output_type": "stream",
       "stream": "stderr",
       "text": [
        "\r",
        "[ 69 %] elapsed[sec]: 1.003 | ETA[sec]: 0.449 "
       ]
      },
      {
       "output_type": "stream",
       "stream": "stderr",
       "text": [
        "\r",
        "[ 69 %] elapsed[sec]: 1.003 | ETA[sec]: 0.448 "
       ]
      },
      {
       "output_type": "stream",
       "stream": "stderr",
       "text": [
        "\r",
        "[ 69 %] elapsed[sec]: 1.004 | ETA[sec]: 0.447 "
       ]
      },
      {
       "output_type": "stream",
       "stream": "stderr",
       "text": [
        "\r",
        "[ 69 %] elapsed[sec]: 1.004 | ETA[sec]: 0.446 "
       ]
      },
      {
       "output_type": "stream",
       "stream": "stderr",
       "text": [
        "\r",
        "[ 69 %] elapsed[sec]: 1.005 | ETA[sec]: 0.444 "
       ]
      },
      {
       "output_type": "stream",
       "stream": "stderr",
       "text": [
        "\r",
        "[ 69 %] elapsed[sec]: 1.005 | ETA[sec]: 0.443 "
       ]
      },
      {
       "output_type": "stream",
       "stream": "stderr",
       "text": [
        "\r",
        "[ 69 %] elapsed[sec]: 1.009 | ETA[sec]: 0.444 "
       ]
      },
      {
       "output_type": "stream",
       "stream": "stderr",
       "text": [
        "\r",
        "[ 69 %] elapsed[sec]: 1.010 | ETA[sec]: 0.442 "
       ]
      },
      {
       "output_type": "stream",
       "stream": "stderr",
       "text": [
        "\r",
        "[ 69 %] elapsed[sec]: 1.010 | ETA[sec]: 0.441 "
       ]
      },
      {
       "output_type": "stream",
       "stream": "stderr",
       "text": [
        "\r",
        "[ 69 %] elapsed[sec]: 1.010 | ETA[sec]: 0.440 "
       ]
      },
      {
       "output_type": "stream",
       "stream": "stderr",
       "text": [
        "\r",
        "[ 69 %] elapsed[sec]: 1.046 | ETA[sec]: 0.454 "
       ]
      },
      {
       "output_type": "stream",
       "stream": "stderr",
       "text": [
        "\r",
        "[ 69 %] elapsed[sec]: 1.047 | ETA[sec]: 0.453 "
       ]
      },
      {
       "output_type": "stream",
       "stream": "stderr",
       "text": [
        "\r",
        "[ 69 %] elapsed[sec]: 1.047 | ETA[sec]: 0.452 "
       ]
      },
      {
       "output_type": "stream",
       "stream": "stderr",
       "text": [
        "\r",
        "[ 69 %] elapsed[sec]: 1.048 | ETA[sec]: 0.450 "
       ]
      },
      {
       "output_type": "stream",
       "stream": "stderr",
       "text": [
        "\r",
        "[ 70 %] elapsed[sec]: 1.048 | ETA[sec]: 0.449 "
       ]
      },
      {
       "output_type": "stream",
       "stream": "stderr",
       "text": [
        "\r",
        "[ 70 %] elapsed[sec]: 1.049 | ETA[sec]: 0.448 "
       ]
      },
      {
       "output_type": "stream",
       "stream": "stderr",
       "text": [
        "\r",
        "[ 70 %] elapsed[sec]: 1.050 | ETA[sec]: 0.447 "
       ]
      },
      {
       "output_type": "stream",
       "stream": "stderr",
       "text": [
        "\r",
        "[ 70 %] elapsed[sec]: 1.050 | ETA[sec]: 0.446 "
       ]
      },
      {
       "output_type": "stream",
       "stream": "stderr",
       "text": [
        "\r",
        "[ 70 %] elapsed[sec]: 1.051 | ETA[sec]: 0.445 "
       ]
      },
      {
       "output_type": "stream",
       "stream": "stderr",
       "text": [
        "\r",
        "[ 70 %] elapsed[sec]: 1.051 | ETA[sec]: 0.444 "
       ]
      },
      {
       "output_type": "stream",
       "stream": "stderr",
       "text": [
        "\r",
        "[ 70 %] elapsed[sec]: 1.052 | ETA[sec]: 0.442 "
       ]
      },
      {
       "output_type": "stream",
       "stream": "stderr",
       "text": [
        "\r",
        "[ 70 %] elapsed[sec]: 1.052 | ETA[sec]: 0.441 "
       ]
      },
      {
       "output_type": "stream",
       "stream": "stderr",
       "text": [
        "\r",
        "[ 70 %] elapsed[sec]: 1.053 | ETA[sec]: 0.440 "
       ]
      },
      {
       "output_type": "stream",
       "stream": "stderr",
       "text": [
        "\r",
        "[ 70 %] elapsed[sec]: 1.053 | ETA[sec]: 0.439 "
       ]
      },
      {
       "output_type": "stream",
       "stream": "stderr",
       "text": [
        "\r",
        "[ 70 %] elapsed[sec]: 1.054 | ETA[sec]: 0.437 "
       ]
      },
      {
       "output_type": "stream",
       "stream": "stderr",
       "text": [
        "\r",
        "[ 70 %] elapsed[sec]: 1.090 | ETA[sec]: 0.451 "
       ]
      },
      {
       "output_type": "stream",
       "stream": "stderr",
       "text": [
        "\r",
        "[ 70 %] elapsed[sec]: 1.090 | ETA[sec]: 0.450 "
       ]
      },
      {
       "output_type": "stream",
       "stream": "stderr",
       "text": [
        "\r",
        "[ 70 %] elapsed[sec]: 1.091 | ETA[sec]: 0.448 "
       ]
      },
      {
       "output_type": "stream",
       "stream": "stderr",
       "text": [
        "\r",
        "[ 70 %] elapsed[sec]: 1.091 | ETA[sec]: 0.447 "
       ]
      },
      {
       "output_type": "stream",
       "stream": "stderr",
       "text": [
        "\r",
        "[ 71 %] elapsed[sec]: 1.092 | ETA[sec]: 0.446 "
       ]
      },
      {
       "output_type": "stream",
       "stream": "stderr",
       "text": [
        "\r",
        "[ 71 %] elapsed[sec]: 1.092 | ETA[sec]: 0.445 "
       ]
      },
      {
       "output_type": "stream",
       "stream": "stderr",
       "text": [
        "\r",
        "[ 71 %] elapsed[sec]: 1.093 | ETA[sec]: 0.443 "
       ]
      },
      {
       "output_type": "stream",
       "stream": "stderr",
       "text": [
        "\r",
        "[ 71 %] elapsed[sec]: 1.121 | ETA[sec]: 0.454 "
       ]
      },
      {
       "output_type": "stream",
       "stream": "stderr",
       "text": [
        "\r",
        "[ 71 %] elapsed[sec]: 1.122 | ETA[sec]: 0.452 "
       ]
      },
      {
       "output_type": "stream",
       "stream": "stderr",
       "text": [
        "\r",
        "[ 71 %] elapsed[sec]: 1.123 | ETA[sec]: 0.451 "
       ]
      },
      {
       "output_type": "stream",
       "stream": "stderr",
       "text": [
        "\r",
        "[ 71 %] elapsed[sec]: 1.123 | ETA[sec]: 0.450 "
       ]
      },
      {
       "output_type": "stream",
       "stream": "stderr",
       "text": [
        "\r",
        "[ 71 %] elapsed[sec]: 1.123 | ETA[sec]: 0.448 "
       ]
      },
      {
       "output_type": "stream",
       "stream": "stderr",
       "text": [
        "\r",
        "[ 71 %] elapsed[sec]: 1.124 | ETA[sec]: 0.447 "
       ]
      },
      {
       "output_type": "stream",
       "stream": "stderr",
       "text": [
        "\r",
        "[ 71 %] elapsed[sec]: 1.124 | ETA[sec]: 0.446 "
       ]
      },
      {
       "output_type": "stream",
       "stream": "stderr",
       "text": [
        "\r",
        "[ 71 %] elapsed[sec]: 1.124 | ETA[sec]: 0.445 "
       ]
      },
      {
       "output_type": "stream",
       "stream": "stderr",
       "text": [
        "\r",
        "[ 71 %] elapsed[sec]: 1.125 | ETA[sec]: 0.443 "
       ]
      },
      {
       "output_type": "stream",
       "stream": "stderr",
       "text": [
        "\r",
        "[ 71 %] elapsed[sec]: 1.125 | ETA[sec]: 0.442 "
       ]
      },
      {
       "output_type": "stream",
       "stream": "stderr",
       "text": [
        "\r",
        "[ 71 %] elapsed[sec]: 1.126 | ETA[sec]: 0.441 "
       ]
      },
      {
       "output_type": "stream",
       "stream": "stderr",
       "text": [
        "\r",
        "[ 71 %] elapsed[sec]: 1.126 | ETA[sec]: 0.439 "
       ]
      },
      {
       "output_type": "stream",
       "stream": "stderr",
       "text": [
        "\r",
        "[ 72 %] elapsed[sec]: 1.126 | ETA[sec]: 0.438 "
       ]
      },
      {
       "output_type": "stream",
       "stream": "stderr",
       "text": [
        "\r",
        "[ 72 %] elapsed[sec]: 1.127 | ETA[sec]: 0.437 "
       ]
      },
      {
       "output_type": "stream",
       "stream": "stderr",
       "text": [
        "\r",
        "[ 72 %] elapsed[sec]: 1.127 | ETA[sec]: 0.435 "
       ]
      },
      {
       "output_type": "stream",
       "stream": "stderr",
       "text": [
        "\r",
        "[ 72 %] elapsed[sec]: 1.128 | ETA[sec]: 0.434 "
       ]
      },
      {
       "output_type": "stream",
       "stream": "stderr",
       "text": [
        "\r",
        "[ 72 %] elapsed[sec]: 1.128 | ETA[sec]: 0.433 "
       ]
      },
      {
       "output_type": "stream",
       "stream": "stderr",
       "text": [
        "\r",
        "[ 72 %] elapsed[sec]: 1.128 | ETA[sec]: 0.432 "
       ]
      },
      {
       "output_type": "stream",
       "stream": "stderr",
       "text": [
        "\r",
        "[ 72 %] elapsed[sec]: 1.129 | ETA[sec]: 0.430 "
       ]
      },
      {
       "output_type": "stream",
       "stream": "stderr",
       "text": [
        "\r",
        "[ 72 %] elapsed[sec]: 1.129 | ETA[sec]: 0.429 "
       ]
      },
      {
       "output_type": "stream",
       "stream": "stderr",
       "text": [
        "\r",
        "[ 72 %] elapsed[sec]: 1.130 | ETA[sec]: 0.428 "
       ]
      },
      {
       "output_type": "stream",
       "stream": "stderr",
       "text": [
        "\r",
        "[ 72 %] elapsed[sec]: 1.130 | ETA[sec]: 0.426 "
       ]
      },
      {
       "output_type": "stream",
       "stream": "stderr",
       "text": [
        "\r",
        "[ 72 %] elapsed[sec]: 1.130 | ETA[sec]: 0.425 "
       ]
      },
      {
       "output_type": "stream",
       "stream": "stderr",
       "text": [
        "\r",
        "[ 72 %] elapsed[sec]: 1.131 | ETA[sec]: 0.424 "
       ]
      },
      {
       "output_type": "stream",
       "stream": "stderr",
       "text": [
        "\r",
        "[ 72 %] elapsed[sec]: 1.131 | ETA[sec]: 0.423 "
       ]
      },
      {
       "output_type": "stream",
       "stream": "stderr",
       "text": [
        "\r",
        "[ 72 %] elapsed[sec]: 1.138 | ETA[sec]: 0.424 "
       ]
      },
      {
       "output_type": "stream",
       "stream": "stderr",
       "text": [
        "\r",
        "[ 72 %] elapsed[sec]: 1.138 | ETA[sec]: 0.423 "
       ]
      },
      {
       "output_type": "stream",
       "stream": "stderr",
       "text": [
        "\r",
        "[ 73 %] elapsed[sec]: 1.139 | ETA[sec]: 0.421 "
       ]
      },
      {
       "output_type": "stream",
       "stream": "stderr",
       "text": [
        "\r",
        "[ 73 %] elapsed[sec]: 1.139 | ETA[sec]: 0.420 "
       ]
      },
      {
       "output_type": "stream",
       "stream": "stderr",
       "text": [
        "\r",
        "[ 73 %] elapsed[sec]: 1.140 | ETA[sec]: 0.419 "
       ]
      },
      {
       "output_type": "stream",
       "stream": "stderr",
       "text": [
        "\r",
        "[ 73 %] elapsed[sec]: 1.140 | ETA[sec]: 0.418 "
       ]
      },
      {
       "output_type": "stream",
       "stream": "stderr",
       "text": [
        "\r",
        "[ 73 %] elapsed[sec]: 1.141 | ETA[sec]: 0.416 "
       ]
      },
      {
       "output_type": "stream",
       "stream": "stderr",
       "text": [
        "\r",
        "[ 73 %] elapsed[sec]: 1.142 | ETA[sec]: 0.415 "
       ]
      },
      {
       "output_type": "stream",
       "stream": "stderr",
       "text": [
        "\r",
        "[ 73 %] elapsed[sec]: 1.142 | ETA[sec]: 0.414 "
       ]
      },
      {
       "output_type": "stream",
       "stream": "stderr",
       "text": [
        "\r",
        "[ 73 %] elapsed[sec]: 1.142 | ETA[sec]: 0.413 "
       ]
      },
      {
       "output_type": "stream",
       "stream": "stderr",
       "text": [
        "\r",
        "[ 73 %] elapsed[sec]: 1.143 | ETA[sec]: 0.411 "
       ]
      },
      {
       "output_type": "stream",
       "stream": "stderr",
       "text": [
        "\r",
        "[ 73 %] elapsed[sec]: 1.143 | ETA[sec]: 0.410 "
       ]
      },
      {
       "output_type": "stream",
       "stream": "stderr",
       "text": [
        "\r",
        "[ 73 %] elapsed[sec]: 1.144 | ETA[sec]: 0.409 "
       ]
      },
      {
       "output_type": "stream",
       "stream": "stderr",
       "text": [
        "\r",
        "[ 73 %] elapsed[sec]: 1.144 | ETA[sec]: 0.408 "
       ]
      },
      {
       "output_type": "stream",
       "stream": "stderr",
       "text": [
        "\r",
        "[ 73 %] elapsed[sec]: 1.144 | ETA[sec]: 0.406 "
       ]
      },
      {
       "output_type": "stream",
       "stream": "stderr",
       "text": [
        "\r",
        "[ 73 %] elapsed[sec]: 1.145 | ETA[sec]: 0.405 "
       ]
      },
      {
       "output_type": "stream",
       "stream": "stderr",
       "text": [
        "\r",
        "[ 73 %] elapsed[sec]: 1.146 | ETA[sec]: 0.404 "
       ]
      },
      {
       "output_type": "stream",
       "stream": "stderr",
       "text": [
        "\r",
        "[ 74 %] elapsed[sec]: 1.146 | ETA[sec]: 0.403 "
       ]
      },
      {
       "output_type": "stream",
       "stream": "stderr",
       "text": [
        "\r",
        "[ 74 %] elapsed[sec]: 1.147 | ETA[sec]: 0.401 "
       ]
      },
      {
       "output_type": "stream",
       "stream": "stderr",
       "text": [
        "\r",
        "[ 74 %] elapsed[sec]: 1.147 | ETA[sec]: 0.400 "
       ]
      },
      {
       "output_type": "stream",
       "stream": "stderr",
       "text": [
        "\r",
        "[ 74 %] elapsed[sec]: 1.147 | ETA[sec]: 0.399 "
       ]
      },
      {
       "output_type": "stream",
       "stream": "stderr",
       "text": [
        "\r",
        "[ 74 %] elapsed[sec]: 1.148 | ETA[sec]: 0.398 "
       ]
      },
      {
       "output_type": "stream",
       "stream": "stderr",
       "text": [
        "\r",
        "[ 74 %] elapsed[sec]: 1.148 | ETA[sec]: 0.396 "
       ]
      },
      {
       "output_type": "stream",
       "stream": "stderr",
       "text": [
        "\r",
        "[ 74 %] elapsed[sec]: 1.149 | ETA[sec]: 0.395 "
       ]
      },
      {
       "output_type": "stream",
       "stream": "stderr",
       "text": [
        "\r",
        "[ 74 %] elapsed[sec]: 1.149 | ETA[sec]: 0.394 "
       ]
      },
      {
       "output_type": "stream",
       "stream": "stderr",
       "text": [
        "\r",
        "[ 74 %] elapsed[sec]: 1.156 | ETA[sec]: 0.395 "
       ]
      },
      {
       "output_type": "stream",
       "stream": "stderr",
       "text": [
        "\r",
        "[ 74 %] elapsed[sec]: 1.156 | ETA[sec]: 0.394 "
       ]
      },
      {
       "output_type": "stream",
       "stream": "stderr",
       "text": [
        "\r",
        "[ 74 %] elapsed[sec]: 1.157 | ETA[sec]: 0.393 "
       ]
      },
      {
       "output_type": "stream",
       "stream": "stderr",
       "text": [
        "\r",
        "[ 74 %] elapsed[sec]: 1.157 | ETA[sec]: 0.391 "
       ]
      },
      {
       "output_type": "stream",
       "stream": "stderr",
       "text": [
        "\r",
        "[ 74 %] elapsed[sec]: 1.158 | ETA[sec]: 0.390 "
       ]
      },
      {
       "output_type": "stream",
       "stream": "stderr",
       "text": [
        "\r",
        "[ 74 %] elapsed[sec]: 1.159 | ETA[sec]: 0.389 "
       ]
      },
      {
       "output_type": "stream",
       "stream": "stderr",
       "text": [
        "\r",
        "[ 74 %] elapsed[sec]: 1.159 | ETA[sec]: 0.388 "
       ]
      },
      {
       "output_type": "stream",
       "stream": "stderr",
       "text": [
        "\r",
        "[ 75 %] elapsed[sec]: 1.160 | ETA[sec]: 0.387 "
       ]
      },
      {
       "output_type": "stream",
       "stream": "stderr",
       "text": [
        "\r",
        "[ 75 %] elapsed[sec]: 1.160 | ETA[sec]: 0.385 "
       ]
      },
      {
       "output_type": "stream",
       "stream": "stderr",
       "text": [
        "\r",
        "[ 75 %] elapsed[sec]: 1.160 | ETA[sec]: 0.384 "
       ]
      },
      {
       "output_type": "stream",
       "stream": "stderr",
       "text": [
        "\r",
        "[ 75 %] elapsed[sec]: 1.161 | ETA[sec]: 0.383 "
       ]
      },
      {
       "output_type": "stream",
       "stream": "stderr",
       "text": [
        "\r",
        "[ 75 %] elapsed[sec]: 1.161 | ETA[sec]: 0.382 "
       ]
      },
      {
       "output_type": "stream",
       "stream": "stderr",
       "text": [
        "\r",
        "[ 75 %] elapsed[sec]: 1.162 | ETA[sec]: 0.380 "
       ]
      },
      {
       "output_type": "stream",
       "stream": "stderr",
       "text": [
        "\r",
        "[ 75 %] elapsed[sec]: 1.162 | ETA[sec]: 0.379 "
       ]
      },
      {
       "output_type": "stream",
       "stream": "stderr",
       "text": [
        "\r",
        "[ 75 %] elapsed[sec]: 1.162 | ETA[sec]: 0.378 "
       ]
      },
      {
       "output_type": "stream",
       "stream": "stderr",
       "text": [
        "\r",
        "[ 75 %] elapsed[sec]: 1.163 | ETA[sec]: 0.377 "
       ]
      },
      {
       "output_type": "stream",
       "stream": "stderr",
       "text": [
        "\r",
        "[ 75 %] elapsed[sec]: 1.163 | ETA[sec]: 0.375 "
       ]
      },
      {
       "output_type": "stream",
       "stream": "stderr",
       "text": [
        "\r",
        "[ 75 %] elapsed[sec]: 1.164 | ETA[sec]: 0.374 "
       ]
      },
      {
       "output_type": "stream",
       "stream": "stderr",
       "text": [
        "\r",
        "[ 75 %] elapsed[sec]: 1.164 | ETA[sec]: 0.373 "
       ]
      },
      {
       "output_type": "stream",
       "stream": "stderr",
       "text": [
        "\r",
        "[ 75 %] elapsed[sec]: 1.165 | ETA[sec]: 0.372 "
       ]
      },
      {
       "output_type": "stream",
       "stream": "stderr",
       "text": [
        "\r",
        "[ 75 %] elapsed[sec]: 1.165 | ETA[sec]: 0.371 "
       ]
      },
      {
       "output_type": "stream",
       "stream": "stderr",
       "text": [
        "\r",
        "[ 75 %] elapsed[sec]: 1.165 | ETA[sec]: 0.369 "
       ]
      },
      {
       "output_type": "stream",
       "stream": "stderr",
       "text": [
        "\r",
        "[ 76 %] elapsed[sec]: 1.166 | ETA[sec]: 0.368 "
       ]
      },
      {
       "output_type": "stream",
       "stream": "stderr",
       "text": [
        "\r",
        "[ 76 %] elapsed[sec]: 1.166 | ETA[sec]: 0.367 "
       ]
      },
      {
       "output_type": "stream",
       "stream": "stderr",
       "text": [
        "\r",
        "[ 76 %] elapsed[sec]: 1.174 | ETA[sec]: 0.368 "
       ]
      },
      {
       "output_type": "stream",
       "stream": "stderr",
       "text": [
        "\r",
        "[ 76 %] elapsed[sec]: 1.175 | ETA[sec]: 0.367 "
       ]
      },
      {
       "output_type": "stream",
       "stream": "stderr",
       "text": [
        "\r",
        "[ 76 %] elapsed[sec]: 1.175 | ETA[sec]: 0.366 "
       ]
      },
      {
       "output_type": "stream",
       "stream": "stderr",
       "text": [
        "\r",
        "[ 76 %] elapsed[sec]: 1.176 | ETA[sec]: 0.364 "
       ]
      },
      {
       "output_type": "stream",
       "stream": "stderr",
       "text": [
        "\r",
        "[ 76 %] elapsed[sec]: 1.176 | ETA[sec]: 0.363 "
       ]
      },
      {
       "output_type": "stream",
       "stream": "stderr",
       "text": [
        "\r",
        "[ 76 %] elapsed[sec]: 1.176 | ETA[sec]: 0.362 "
       ]
      },
      {
       "output_type": "stream",
       "stream": "stderr",
       "text": [
        "\r",
        "[ 76 %] elapsed[sec]: 1.177 | ETA[sec]: 0.361 "
       ]
      },
      {
       "output_type": "stream",
       "stream": "stderr",
       "text": [
        "\r",
        "[ 76 %] elapsed[sec]: 1.177 | ETA[sec]: 0.360 "
       ]
      },
      {
       "output_type": "stream",
       "stream": "stderr",
       "text": [
        "\r",
        "[ 76 %] elapsed[sec]: 1.178 | ETA[sec]: 0.358 "
       ]
      },
      {
       "output_type": "stream",
       "stream": "stderr",
       "text": [
        "\r",
        "[ 76 %] elapsed[sec]: 1.178 | ETA[sec]: 0.357 "
       ]
      },
      {
       "output_type": "stream",
       "stream": "stderr",
       "text": [
        "\r",
        "[ 76 %] elapsed[sec]: 1.178 | ETA[sec]: 0.356 "
       ]
      },
      {
       "output_type": "stream",
       "stream": "stderr",
       "text": [
        "\r",
        "[ 76 %] elapsed[sec]: 1.179 | ETA[sec]: 0.355 "
       ]
      },
      {
       "output_type": "stream",
       "stream": "stderr",
       "text": [
        "\r",
        "[ 76 %] elapsed[sec]: 1.179 | ETA[sec]: 0.354 "
       ]
      },
      {
       "output_type": "stream",
       "stream": "stderr",
       "text": [
        "\r",
        "[ 77 %] elapsed[sec]: 1.179 | ETA[sec]: 0.352 "
       ]
      },
      {
       "output_type": "stream",
       "stream": "stderr",
       "text": [
        "\r",
        "[ 77 %] elapsed[sec]: 1.180 | ETA[sec]: 0.351 "
       ]
      },
      {
       "output_type": "stream",
       "stream": "stderr",
       "text": [
        "\r",
        "[ 77 %] elapsed[sec]: 1.181 | ETA[sec]: 0.350 "
       ]
      },
      {
       "output_type": "stream",
       "stream": "stderr",
       "text": [
        "\r",
        "[ 77 %] elapsed[sec]: 1.182 | ETA[sec]: 0.349 "
       ]
      },
      {
       "output_type": "stream",
       "stream": "stderr",
       "text": [
        "\r",
        "[ 77 %] elapsed[sec]: 1.182 | ETA[sec]: 0.348 "
       ]
      },
      {
       "output_type": "stream",
       "stream": "stderr",
       "text": [
        "\r",
        "[ 77 %] elapsed[sec]: 1.183 | ETA[sec]: 0.347 "
       ]
      },
      {
       "output_type": "stream",
       "stream": "stderr",
       "text": [
        "\r",
        "[ 77 %] elapsed[sec]: 1.183 | ETA[sec]: 0.345 "
       ]
      },
      {
       "output_type": "stream",
       "stream": "stderr",
       "text": [
        "\r",
        "[ 77 %] elapsed[sec]: 1.184 | ETA[sec]: 0.344 "
       ]
      },
      {
       "output_type": "stream",
       "stream": "stderr",
       "text": [
        "\r",
        "[ 77 %] elapsed[sec]: 1.184 | ETA[sec]: 0.343 "
       ]
      },
      {
       "output_type": "stream",
       "stream": "stderr",
       "text": [
        "\r",
        "[ 77 %] elapsed[sec]: 1.184 | ETA[sec]: 0.342 "
       ]
      },
      {
       "output_type": "stream",
       "stream": "stderr",
       "text": [
        "\r",
        "[ 77 %] elapsed[sec]: 1.185 | ETA[sec]: 0.341 "
       ]
      },
      {
       "output_type": "stream",
       "stream": "stderr",
       "text": [
        "\r",
        "[ 77 %] elapsed[sec]: 1.198 | ETA[sec]: 0.343 "
       ]
      },
      {
       "output_type": "stream",
       "stream": "stderr",
       "text": [
        "\r",
        "[ 77 %] elapsed[sec]: 1.198 | ETA[sec]: 0.342 "
       ]
      },
      {
       "output_type": "stream",
       "stream": "stderr",
       "text": [
        "\r",
        "[ 77 %] elapsed[sec]: 1.198 | ETA[sec]: 0.341 "
       ]
      },
      {
       "output_type": "stream",
       "stream": "stderr",
       "text": [
        "\r",
        "[ 77 %] elapsed[sec]: 1.199 | ETA[sec]: 0.339 "
       ]
      },
      {
       "output_type": "stream",
       "stream": "stderr",
       "text": [
        "\r",
        "[ 78 %] elapsed[sec]: 1.199 | ETA[sec]: 0.338 "
       ]
      },
      {
       "output_type": "stream",
       "stream": "stderr",
       "text": [
        "\r",
        "[ 78 %] elapsed[sec]: 1.200 | ETA[sec]: 0.337 "
       ]
      },
      {
       "output_type": "stream",
       "stream": "stderr",
       "text": [
        "\r",
        "[ 78 %] elapsed[sec]: 1.200 | ETA[sec]: 0.336 "
       ]
      },
      {
       "output_type": "stream",
       "stream": "stderr",
       "text": [
        "\r",
        "[ 78 %] elapsed[sec]: 1.200 | ETA[sec]: 0.335 "
       ]
      },
      {
       "output_type": "stream",
       "stream": "stderr",
       "text": [
        "\r",
        "[ 78 %] elapsed[sec]: 1.201 | ETA[sec]: 0.333 "
       ]
      },
      {
       "output_type": "stream",
       "stream": "stderr",
       "text": [
        "\r",
        "[ 78 %] elapsed[sec]: 1.201 | ETA[sec]: 0.332 "
       ]
      },
      {
       "output_type": "stream",
       "stream": "stderr",
       "text": [
        "\r",
        "[ 78 %] elapsed[sec]: 1.202 | ETA[sec]: 0.331 "
       ]
      },
      {
       "output_type": "stream",
       "stream": "stderr",
       "text": [
        "\r",
        "[ 78 %] elapsed[sec]: 1.202 | ETA[sec]: 0.330 "
       ]
      },
      {
       "output_type": "stream",
       "stream": "stderr",
       "text": [
        "\r",
        "[ 78 %] elapsed[sec]: 1.202 | ETA[sec]: 0.329 "
       ]
      },
      {
       "output_type": "stream",
       "stream": "stderr",
       "text": [
        "\r",
        "[ 78 %] elapsed[sec]: 1.203 | ETA[sec]: 0.327 "
       ]
      },
      {
       "output_type": "stream",
       "stream": "stderr",
       "text": [
        "\r",
        "[ 78 %] elapsed[sec]: 1.203 | ETA[sec]: 0.326 "
       ]
      },
      {
       "output_type": "stream",
       "stream": "stderr",
       "text": [
        "\r",
        "[ 78 %] elapsed[sec]: 1.203 | ETA[sec]: 0.325 "
       ]
      },
      {
       "output_type": "stream",
       "stream": "stderr",
       "text": [
        "\r",
        "[ 78 %] elapsed[sec]: 1.204 | ETA[sec]: 0.324 "
       ]
      },
      {
       "output_type": "stream",
       "stream": "stderr",
       "text": [
        "\r",
        "[ 78 %] elapsed[sec]: 1.204 | ETA[sec]: 0.323 "
       ]
      },
      {
       "output_type": "stream",
       "stream": "stderr",
       "text": [
        "\r",
        "[ 78 %] elapsed[sec]: 1.205 | ETA[sec]: 0.322 "
       ]
      },
      {
       "output_type": "stream",
       "stream": "stderr",
       "text": [
        "\r",
        "[ 79 %] elapsed[sec]: 1.205 | ETA[sec]: 0.320 "
       ]
      },
      {
       "output_type": "stream",
       "stream": "stderr",
       "text": [
        "\r",
        "[ 79 %] elapsed[sec]: 1.205 | ETA[sec]: 0.319 "
       ]
      },
      {
       "output_type": "stream",
       "stream": "stderr",
       "text": [
        "\r",
        "[ 79 %] elapsed[sec]: 1.206 | ETA[sec]: 0.318 "
       ]
      },
      {
       "output_type": "stream",
       "stream": "stderr",
       "text": [
        "\r",
        "[ 79 %] elapsed[sec]: 1.206 | ETA[sec]: 0.317 "
       ]
      },
      {
       "output_type": "stream",
       "stream": "stderr",
       "text": [
        "\r",
        "[ 79 %] elapsed[sec]: 1.207 | ETA[sec]: 0.316 "
       ]
      },
      {
       "output_type": "stream",
       "stream": "stderr",
       "text": [
        "\r",
        "[ 79 %] elapsed[sec]: 1.207 | ETA[sec]: 0.314 "
       ]
      },
      {
       "output_type": "stream",
       "stream": "stderr",
       "text": [
        "\r",
        "[ 79 %] elapsed[sec]: 1.207 | ETA[sec]: 0.314 "
       ]
      },
      {
       "output_type": "stream",
       "stream": "stderr",
       "text": [
        "\r",
        "[ 79 %] elapsed[sec]: 1.211 | ETA[sec]: 0.313 "
       ]
      },
      {
       "output_type": "stream",
       "stream": "stderr",
       "text": [
        "\r",
        "[ 79 %] elapsed[sec]: 1.212 | ETA[sec]: 0.312 "
       ]
      },
      {
       "output_type": "stream",
       "stream": "stderr",
       "text": [
        "\r",
        "[ 79 %] elapsed[sec]: 1.212 | ETA[sec]: 0.311 "
       ]
      },
      {
       "output_type": "stream",
       "stream": "stderr",
       "text": [
        "\r",
        "[ 79 %] elapsed[sec]: 1.212 | ETA[sec]: 0.309 "
       ]
      },
      {
       "output_type": "stream",
       "stream": "stderr",
       "text": [
        "\r",
        "[ 79 %] elapsed[sec]: 1.213 | ETA[sec]: 0.308 "
       ]
      },
      {
       "output_type": "stream",
       "stream": "stderr",
       "text": [
        "\r",
        "[ 79 %] elapsed[sec]: 1.213 | ETA[sec]: 0.307 "
       ]
      },
      {
       "output_type": "stream",
       "stream": "stderr",
       "text": [
        "\r",
        "[ 79 %] elapsed[sec]: 1.214 | ETA[sec]: 0.306 "
       ]
      },
      {
       "output_type": "stream",
       "stream": "stderr",
       "text": [
        "\r",
        "[ 79 %] elapsed[sec]: 1.214 | ETA[sec]: 0.305 "
       ]
      },
      {
       "output_type": "stream",
       "stream": "stderr",
       "text": [
        "\r",
        "[ 80 %] elapsed[sec]: 1.214 | ETA[sec]: 0.304 "
       ]
      },
      {
       "output_type": "stream",
       "stream": "stderr",
       "text": [
        "\r",
        "[ 80 %] elapsed[sec]: 1.215 | ETA[sec]: 0.302 "
       ]
      },
      {
       "output_type": "stream",
       "stream": "stderr",
       "text": [
        "\r",
        "[ 80 %] elapsed[sec]: 1.215 | ETA[sec]: 0.301 "
       ]
      },
      {
       "output_type": "stream",
       "stream": "stderr",
       "text": [
        "\r",
        "[ 80 %] elapsed[sec]: 1.215 | ETA[sec]: 0.300 "
       ]
      },
      {
       "output_type": "stream",
       "stream": "stderr",
       "text": [
        "\r",
        "[ 80 %] elapsed[sec]: 1.216 | ETA[sec]: 0.299 "
       ]
      },
      {
       "output_type": "stream",
       "stream": "stderr",
       "text": [
        "\r",
        "[ 80 %] elapsed[sec]: 1.216 | ETA[sec]: 0.298 "
       ]
      },
      {
       "output_type": "stream",
       "stream": "stderr",
       "text": [
        "\r",
        "[ 80 %] elapsed[sec]: 1.217 | ETA[sec]: 0.297 "
       ]
      },
      {
       "output_type": "stream",
       "stream": "stderr",
       "text": [
        "\r",
        "[ 80 %] elapsed[sec]: 1.217 | ETA[sec]: 0.295 "
       ]
      },
      {
       "output_type": "stream",
       "stream": "stderr",
       "text": [
        "\r",
        "[ 80 %] elapsed[sec]: 1.217 | ETA[sec]: 0.294 "
       ]
      },
      {
       "output_type": "stream",
       "stream": "stderr",
       "text": [
        "\r",
        "[ 80 %] elapsed[sec]: 1.218 | ETA[sec]: 0.293 "
       ]
      },
      {
       "output_type": "stream",
       "stream": "stderr",
       "text": [
        "\r",
        "[ 80 %] elapsed[sec]: 1.218 | ETA[sec]: 0.292 "
       ]
      },
      {
       "output_type": "stream",
       "stream": "stderr",
       "text": [
        "\r",
        "[ 80 %] elapsed[sec]: 1.218 | ETA[sec]: 0.291 "
       ]
      },
      {
       "output_type": "stream",
       "stream": "stderr",
       "text": [
        "\r",
        "[ 80 %] elapsed[sec]: 1.219 | ETA[sec]: 0.290 "
       ]
      },
      {
       "output_type": "stream",
       "stream": "stderr",
       "text": [
        "\r",
        "[ 80 %] elapsed[sec]: 1.219 | ETA[sec]: 0.288 "
       ]
      },
      {
       "output_type": "stream",
       "stream": "stderr",
       "text": [
        "\r",
        "[ 80 %] elapsed[sec]: 1.220 | ETA[sec]: 0.287 "
       ]
      },
      {
       "output_type": "stream",
       "stream": "stderr",
       "text": [
        "\r",
        "[ 81 %] elapsed[sec]: 1.220 | ETA[sec]: 0.286 "
       ]
      },
      {
       "output_type": "stream",
       "stream": "stderr",
       "text": [
        "\r",
        "[ 81 %] elapsed[sec]: 1.220 | ETA[sec]: 0.285 "
       ]
      },
      {
       "output_type": "stream",
       "stream": "stderr",
       "text": [
        "\r",
        "[ 81 %] elapsed[sec]: 1.231 | ETA[sec]: 0.286 "
       ]
      },
      {
       "output_type": "stream",
       "stream": "stderr",
       "text": [
        "\r",
        "[ 81 %] elapsed[sec]: 1.232 | ETA[sec]: 0.285 "
       ]
      },
      {
       "output_type": "stream",
       "stream": "stderr",
       "text": [
        "\r",
        "[ 81 %] elapsed[sec]: 1.232 | ETA[sec]: 0.284 "
       ]
      },
      {
       "output_type": "stream",
       "stream": "stderr",
       "text": [
        "\r",
        "[ 81 %] elapsed[sec]: 1.233 | ETA[sec]: 0.283 "
       ]
      },
      {
       "output_type": "stream",
       "stream": "stderr",
       "text": [
        "\r",
        "[ 81 %] elapsed[sec]: 1.233 | ETA[sec]: 0.282 "
       ]
      },
      {
       "output_type": "stream",
       "stream": "stderr",
       "text": [
        "\r",
        "[ 81 %] elapsed[sec]: 1.234 | ETA[sec]: 0.281 "
       ]
      },
      {
       "output_type": "stream",
       "stream": "stderr",
       "text": [
        "\r",
        "[ 81 %] elapsed[sec]: 1.234 | ETA[sec]: 0.279 "
       ]
      },
      {
       "output_type": "stream",
       "stream": "stderr",
       "text": [
        "\r",
        "[ 81 %] elapsed[sec]: 1.234 | ETA[sec]: 0.278 "
       ]
      },
      {
       "output_type": "stream",
       "stream": "stderr",
       "text": [
        "\r",
        "[ 81 %] elapsed[sec]: 1.235 | ETA[sec]: 0.277 "
       ]
      },
      {
       "output_type": "stream",
       "stream": "stderr",
       "text": [
        "\r",
        "[ 81 %] elapsed[sec]: 1.235 | ETA[sec]: 0.276 "
       ]
      },
      {
       "output_type": "stream",
       "stream": "stderr",
       "text": [
        "\r",
        "[ 81 %] elapsed[sec]: 1.235 | ETA[sec]: 0.275 "
       ]
      },
      {
       "output_type": "stream",
       "stream": "stderr",
       "text": [
        "\r",
        "[ 81 %] elapsed[sec]: 1.236 | ETA[sec]: 0.274 "
       ]
      },
      {
       "output_type": "stream",
       "stream": "stderr",
       "text": [
        "\r",
        "[ 81 %] elapsed[sec]: 1.236 | ETA[sec]: 0.273 "
       ]
      },
      {
       "output_type": "stream",
       "stream": "stderr",
       "text": [
        "\r",
        "[ 82 %] elapsed[sec]: 1.237 | ETA[sec]: 0.271 "
       ]
      },
      {
       "output_type": "stream",
       "stream": "stderr",
       "text": [
        "\r",
        "[ 82 %] elapsed[sec]: 1.237 | ETA[sec]: 0.270 "
       ]
      },
      {
       "output_type": "stream",
       "stream": "stderr",
       "text": [
        "\r",
        "[ 82 %] elapsed[sec]: 1.237 | ETA[sec]: 0.269 "
       ]
      },
      {
       "output_type": "stream",
       "stream": "stderr",
       "text": [
        "\r",
        "[ 82 %] elapsed[sec]: 1.238 | ETA[sec]: 0.268 "
       ]
      },
      {
       "output_type": "stream",
       "stream": "stderr",
       "text": [
        "\r",
        "[ 82 %] elapsed[sec]: 1.238 | ETA[sec]: 0.267 "
       ]
      },
      {
       "output_type": "stream",
       "stream": "stderr",
       "text": [
        "\r",
        "[ 82 %] elapsed[sec]: 1.238 | ETA[sec]: 0.266 "
       ]
      },
      {
       "output_type": "stream",
       "stream": "stderr",
       "text": [
        "\r",
        "[ 82 %] elapsed[sec]: 1.239 | ETA[sec]: 0.265 "
       ]
      },
      {
       "output_type": "stream",
       "stream": "stderr",
       "text": [
        "\r",
        "[ 82 %] elapsed[sec]: 1.239 | ETA[sec]: 0.263 "
       ]
      },
      {
       "output_type": "stream",
       "stream": "stderr",
       "text": [
        "\r",
        "[ 82 %] elapsed[sec]: 1.240 | ETA[sec]: 0.262 "
       ]
      },
      {
       "output_type": "stream",
       "stream": "stderr",
       "text": [
        "\r",
        "[ 82 %] elapsed[sec]: 1.240 | ETA[sec]: 0.261 "
       ]
      },
      {
       "output_type": "stream",
       "stream": "stderr",
       "text": [
        "\r",
        "[ 82 %] elapsed[sec]: 1.240 | ETA[sec]: 0.260 "
       ]
      },
      {
       "output_type": "stream",
       "stream": "stderr",
       "text": [
        "\r",
        "[ 82 %] elapsed[sec]: 1.241 | ETA[sec]: 0.259 "
       ]
      },
      {
       "output_type": "stream",
       "stream": "stderr",
       "text": [
        "\r",
        "[ 82 %] elapsed[sec]: 1.241 | ETA[sec]: 0.258 "
       ]
      },
      {
       "output_type": "stream",
       "stream": "stderr",
       "text": [
        "\r",
        "[ 82 %] elapsed[sec]: 1.245 | ETA[sec]: 0.257 "
       ]
      },
      {
       "output_type": "stream",
       "stream": "stderr",
       "text": [
        "\r",
        "[ 82 %] elapsed[sec]: 1.246 | ETA[sec]: 0.256 "
       ]
      },
      {
       "output_type": "stream",
       "stream": "stderr",
       "text": [
        "\r",
        "[ 83 %] elapsed[sec]: 1.246 | ETA[sec]: 0.255 "
       ]
      },
      {
       "output_type": "stream",
       "stream": "stderr",
       "text": [
        "\r",
        "[ 83 %] elapsed[sec]: 1.247 | ETA[sec]: 0.254 "
       ]
      },
      {
       "output_type": "stream",
       "stream": "stderr",
       "text": [
        "\r",
        "[ 83 %] elapsed[sec]: 1.247 | ETA[sec]: 0.253 "
       ]
      },
      {
       "output_type": "stream",
       "stream": "stderr",
       "text": [
        "\r",
        "[ 83 %] elapsed[sec]: 1.248 | ETA[sec]: 0.252 "
       ]
      },
      {
       "output_type": "stream",
       "stream": "stderr",
       "text": [
        "\r",
        "[ 83 %] elapsed[sec]: 1.248 | ETA[sec]: 0.251 "
       ]
      },
      {
       "output_type": "stream",
       "stream": "stderr",
       "text": [
        "\r",
        "[ 83 %] elapsed[sec]: 1.249 | ETA[sec]: 0.250 "
       ]
      },
      {
       "output_type": "stream",
       "stream": "stderr",
       "text": [
        "\r",
        "[ 83 %] elapsed[sec]: 1.250 | ETA[sec]: 0.249 "
       ]
      },
      {
       "output_type": "stream",
       "stream": "stderr",
       "text": [
        "\r",
        "[ 83 %] elapsed[sec]: 1.250 | ETA[sec]: 0.248 "
       ]
      },
      {
       "output_type": "stream",
       "stream": "stderr",
       "text": [
        "\r",
        "[ 83 %] elapsed[sec]: 1.250 | ETA[sec]: 0.246 "
       ]
      },
      {
       "output_type": "stream",
       "stream": "stderr",
       "text": [
        "\r",
        "[ 83 %] elapsed[sec]: 1.251 | ETA[sec]: 0.245 "
       ]
      },
      {
       "output_type": "stream",
       "stream": "stderr",
       "text": [
        "\r",
        "[ 83 %] elapsed[sec]: 1.251 | ETA[sec]: 0.244 "
       ]
      },
      {
       "output_type": "stream",
       "stream": "stderr",
       "text": [
        "\r",
        "[ 83 %] elapsed[sec]: 1.252 | ETA[sec]: 0.243 "
       ]
      },
      {
       "output_type": "stream",
       "stream": "stderr",
       "text": [
        "\r",
        "[ 83 %] elapsed[sec]: 1.252 | ETA[sec]: 0.242 "
       ]
      },
      {
       "output_type": "stream",
       "stream": "stderr",
       "text": [
        "\r",
        "[ 83 %] elapsed[sec]: 1.253 | ETA[sec]: 0.241 "
       ]
      },
      {
       "output_type": "stream",
       "stream": "stderr",
       "text": [
        "\r",
        "[ 83 %] elapsed[sec]: 1.253 | ETA[sec]: 0.240 "
       ]
      },
      {
       "output_type": "stream",
       "stream": "stderr",
       "text": [
        "\r",
        "[ 84 %] elapsed[sec]: 1.254 | ETA[sec]: 0.239 "
       ]
      },
      {
       "output_type": "stream",
       "stream": "stderr",
       "text": [
        "\r",
        "[ 84 %] elapsed[sec]: 1.254 | ETA[sec]: 0.238 "
       ]
      },
      {
       "output_type": "stream",
       "stream": "stderr",
       "text": [
        "\r",
        "[ 84 %] elapsed[sec]: 1.254 | ETA[sec]: 0.237 "
       ]
      },
      {
       "output_type": "stream",
       "stream": "stderr",
       "text": [
        "\r",
        "[ 84 %] elapsed[sec]: 1.255 | ETA[sec]: 0.235 "
       ]
      },
      {
       "output_type": "stream",
       "stream": "stderr",
       "text": [
        "\r",
        "[ 84 %] elapsed[sec]: 1.255 | ETA[sec]: 0.234 "
       ]
      },
      {
       "output_type": "stream",
       "stream": "stderr",
       "text": [
        "\r",
        "[ 84 %] elapsed[sec]: 1.255 | ETA[sec]: 0.233 "
       ]
      },
      {
       "output_type": "stream",
       "stream": "stderr",
       "text": [
        "\r",
        "[ 84 %] elapsed[sec]: 1.256 | ETA[sec]: 0.232 "
       ]
      },
      {
       "output_type": "stream",
       "stream": "stderr",
       "text": [
        "\r",
        "[ 84 %] elapsed[sec]: 1.265 | ETA[sec]: 0.233 "
       ]
      },
      {
       "output_type": "stream",
       "stream": "stderr",
       "text": [
        "\r",
        "[ 84 %] elapsed[sec]: 1.266 | ETA[sec]: 0.232 "
       ]
      },
      {
       "output_type": "stream",
       "stream": "stderr",
       "text": [
        "\r",
        "[ 84 %] elapsed[sec]: 1.267 | ETA[sec]: 0.231 "
       ]
      },
      {
       "output_type": "stream",
       "stream": "stderr",
       "text": [
        "\r",
        "[ 84 %] elapsed[sec]: 1.267 | ETA[sec]: 0.229 "
       ]
      },
      {
       "output_type": "stream",
       "stream": "stderr",
       "text": [
        "\r",
        "[ 84 %] elapsed[sec]: 1.268 | ETA[sec]: 0.228 "
       ]
      },
      {
       "output_type": "stream",
       "stream": "stderr",
       "text": [
        "\r",
        "[ 84 %] elapsed[sec]: 1.268 | ETA[sec]: 0.227 "
       ]
      },
      {
       "output_type": "stream",
       "stream": "stderr",
       "text": [
        "\r",
        "[ 84 %] elapsed[sec]: 1.268 | ETA[sec]: 0.226 "
       ]
      },
      {
       "output_type": "stream",
       "stream": "stderr",
       "text": [
        "\r",
        "[ 84 %] elapsed[sec]: 1.269 | ETA[sec]: 0.225 "
       ]
      },
      {
       "output_type": "stream",
       "stream": "stderr",
       "text": [
        "\r",
        "[ 85 %] elapsed[sec]: 1.269 | ETA[sec]: 0.224 "
       ]
      },
      {
       "output_type": "stream",
       "stream": "stderr",
       "text": [
        "\r",
        "[ 85 %] elapsed[sec]: 1.270 | ETA[sec]: 0.223 "
       ]
      },
      {
       "output_type": "stream",
       "stream": "stderr",
       "text": [
        "\r",
        "[ 85 %] elapsed[sec]: 1.270 | ETA[sec]: 0.222 "
       ]
      },
      {
       "output_type": "stream",
       "stream": "stderr",
       "text": [
        "\r",
        "[ 85 %] elapsed[sec]: 1.270 | ETA[sec]: 0.221 "
       ]
      },
      {
       "output_type": "stream",
       "stream": "stderr",
       "text": [
        "\r",
        "[ 85 %] elapsed[sec]: 1.271 | ETA[sec]: 0.220 "
       ]
      },
      {
       "output_type": "stream",
       "stream": "stderr",
       "text": [
        "\r",
        "[ 85 %] elapsed[sec]: 1.271 | ETA[sec]: 0.218 "
       ]
      },
      {
       "output_type": "stream",
       "stream": "stderr",
       "text": [
        "\r",
        "[ 85 %] elapsed[sec]: 1.272 | ETA[sec]: 0.217 "
       ]
      },
      {
       "output_type": "stream",
       "stream": "stderr",
       "text": [
        "\r",
        "[ 85 %] elapsed[sec]: 1.272 | ETA[sec]: 0.216 "
       ]
      },
      {
       "output_type": "stream",
       "stream": "stderr",
       "text": [
        "\r",
        "[ 85 %] elapsed[sec]: 1.272 | ETA[sec]: 0.215 "
       ]
      },
      {
       "output_type": "stream",
       "stream": "stderr",
       "text": [
        "\r",
        "[ 85 %] elapsed[sec]: 1.273 | ETA[sec]: 0.214 "
       ]
      },
      {
       "output_type": "stream",
       "stream": "stderr",
       "text": [
        "\r",
        "[ 85 %] elapsed[sec]: 1.274 | ETA[sec]: 0.213 "
       ]
      },
      {
       "output_type": "stream",
       "stream": "stderr",
       "text": [
        "\r",
        "[ 85 %] elapsed[sec]: 1.274 | ETA[sec]: 0.212 "
       ]
      },
      {
       "output_type": "stream",
       "stream": "stderr",
       "text": [
        "\r",
        "[ 85 %] elapsed[sec]: 1.274 | ETA[sec]: 0.211 "
       ]
      },
      {
       "output_type": "stream",
       "stream": "stderr",
       "text": [
        "\r",
        "[ 85 %] elapsed[sec]: 1.275 | ETA[sec]: 0.210 "
       ]
      },
      {
       "output_type": "stream",
       "stream": "stderr",
       "text": [
        "\r",
        "[ 85 %] elapsed[sec]: 1.275 | ETA[sec]: 0.209 "
       ]
      },
      {
       "output_type": "stream",
       "stream": "stderr",
       "text": [
        "\r",
        "[ 86 %] elapsed[sec]: 1.275 | ETA[sec]: 0.208 "
       ]
      },
      {
       "output_type": "stream",
       "stream": "stderr",
       "text": [
        "\r",
        "[ 86 %] elapsed[sec]: 1.276 | ETA[sec]: 0.207 "
       ]
      },
      {
       "output_type": "stream",
       "stream": "stderr",
       "text": [
        "\r",
        "[ 86 %] elapsed[sec]: 1.281 | ETA[sec]: 0.206 "
       ]
      },
      {
       "output_type": "stream",
       "stream": "stderr",
       "text": [
        "\r",
        "[ 86 %] elapsed[sec]: 1.282 | ETA[sec]: 0.205 "
       ]
      },
      {
       "output_type": "stream",
       "stream": "stderr",
       "text": [
        "\r",
        "[ 86 %] elapsed[sec]: 1.282 | ETA[sec]: 0.204 "
       ]
      },
      {
       "output_type": "stream",
       "stream": "stderr",
       "text": [
        "\r",
        "[ 86 %] elapsed[sec]: 1.283 | ETA[sec]: 0.203 "
       ]
      },
      {
       "output_type": "stream",
       "stream": "stderr",
       "text": [
        "\r",
        "[ 86 %] elapsed[sec]: 1.283 | ETA[sec]: 0.202 "
       ]
      },
      {
       "output_type": "stream",
       "stream": "stderr",
       "text": [
        "\r",
        "[ 86 %] elapsed[sec]: 1.284 | ETA[sec]: 0.201 "
       ]
      },
      {
       "output_type": "stream",
       "stream": "stderr",
       "text": [
        "\r",
        "[ 86 %] elapsed[sec]: 1.285 | ETA[sec]: 0.200 "
       ]
      },
      {
       "output_type": "stream",
       "stream": "stderr",
       "text": [
        "\r",
        "[ 86 %] elapsed[sec]: 1.285 | ETA[sec]: 0.199 "
       ]
      },
      {
       "output_type": "stream",
       "stream": "stderr",
       "text": [
        "\r",
        "[ 86 %] elapsed[sec]: 1.286 | ETA[sec]: 0.198 "
       ]
      },
      {
       "output_type": "stream",
       "stream": "stderr",
       "text": [
        "\r",
        "[ 86 %] elapsed[sec]: 1.287 | ETA[sec]: 0.197 "
       ]
      },
      {
       "output_type": "stream",
       "stream": "stderr",
       "text": [
        "\r",
        "[ 86 %] elapsed[sec]: 1.287 | ETA[sec]: 0.196 "
       ]
      },
      {
       "output_type": "stream",
       "stream": "stderr",
       "text": [
        "\r",
        "[ 86 %] elapsed[sec]: 1.288 | ETA[sec]: 0.195 "
       ]
      },
      {
       "output_type": "stream",
       "stream": "stderr",
       "text": [
        "\r",
        "[ 86 %] elapsed[sec]: 1.288 | ETA[sec]: 0.194 "
       ]
      },
      {
       "output_type": "stream",
       "stream": "stderr",
       "text": [
        "\r",
        "[ 87 %] elapsed[sec]: 1.289 | ETA[sec]: 0.193 "
       ]
      },
      {
       "output_type": "stream",
       "stream": "stderr",
       "text": [
        "\r",
        "[ 87 %] elapsed[sec]: 1.289 | ETA[sec]: 0.191 "
       ]
      },
      {
       "output_type": "stream",
       "stream": "stderr",
       "text": [
        "\r",
        "[ 87 %] elapsed[sec]: 1.290 | ETA[sec]: 0.190 "
       ]
      },
      {
       "output_type": "stream",
       "stream": "stderr",
       "text": [
        "\r",
        "[ 87 %] elapsed[sec]: 1.290 | ETA[sec]: 0.189 "
       ]
      },
      {
       "output_type": "stream",
       "stream": "stderr",
       "text": [
        "\r",
        "[ 87 %] elapsed[sec]: 1.291 | ETA[sec]: 0.188 "
       ]
      },
      {
       "output_type": "stream",
       "stream": "stderr",
       "text": [
        "\r",
        "[ 87 %] elapsed[sec]: 1.291 | ETA[sec]: 0.187 "
       ]
      },
      {
       "output_type": "stream",
       "stream": "stderr",
       "text": [
        "\r",
        "[ 87 %] elapsed[sec]: 1.292 | ETA[sec]: 0.186 "
       ]
      },
      {
       "output_type": "stream",
       "stream": "stderr",
       "text": [
        "\r",
        "[ 87 %] elapsed[sec]: 1.292 | ETA[sec]: 0.185 "
       ]
      },
      {
       "output_type": "stream",
       "stream": "stderr",
       "text": [
        "\r",
        "[ 87 %] elapsed[sec]: 1.293 | ETA[sec]: 0.184 "
       ]
      },
      {
       "output_type": "stream",
       "stream": "stderr",
       "text": [
        "\r",
        "[ 87 %] elapsed[sec]: 1.293 | ETA[sec]: 0.183 "
       ]
      },
      {
       "output_type": "stream",
       "stream": "stderr",
       "text": [
        "\r",
        "[ 87 %] elapsed[sec]: 1.297 | ETA[sec]: 0.182 "
       ]
      },
      {
       "output_type": "stream",
       "stream": "stderr",
       "text": [
        "\r",
        "[ 87 %] elapsed[sec]: 1.297 | ETA[sec]: 0.181 "
       ]
      },
      {
       "output_type": "stream",
       "stream": "stderr",
       "text": [
        "\r",
        "[ 87 %] elapsed[sec]: 1.297 | ETA[sec]: 0.180 "
       ]
      },
      {
       "output_type": "stream",
       "stream": "stderr",
       "text": [
        "\r",
        "[ 87 %] elapsed[sec]: 1.298 | ETA[sec]: 0.179 "
       ]
      },
      {
       "output_type": "stream",
       "stream": "stderr",
       "text": [
        "\r",
        "[ 87 %] elapsed[sec]: 1.298 | ETA[sec]: 0.178 "
       ]
      },
      {
       "output_type": "stream",
       "stream": "stderr",
       "text": [
        "\r",
        "[ 88 %] elapsed[sec]: 1.299 | ETA[sec]: 0.177 "
       ]
      },
      {
       "output_type": "stream",
       "stream": "stderr",
       "text": [
        "\r",
        "[ 88 %] elapsed[sec]: 1.299 | ETA[sec]: 0.176 "
       ]
      },
      {
       "output_type": "stream",
       "stream": "stderr",
       "text": [
        "\r",
        "[ 88 %] elapsed[sec]: 1.299 | ETA[sec]: 0.175 "
       ]
      },
      {
       "output_type": "stream",
       "stream": "stderr",
       "text": [
        "\r",
        "[ 88 %] elapsed[sec]: 1.300 | ETA[sec]: 0.174 "
       ]
      },
      {
       "output_type": "stream",
       "stream": "stderr",
       "text": [
        "\r",
        "[ 88 %] elapsed[sec]: 1.300 | ETA[sec]: 0.173 "
       ]
      },
      {
       "output_type": "stream",
       "stream": "stderr",
       "text": [
        "\r",
        "[ 88 %] elapsed[sec]: 1.301 | ETA[sec]: 0.172 "
       ]
      },
      {
       "output_type": "stream",
       "stream": "stderr",
       "text": [
        "\r",
        "[ 88 %] elapsed[sec]: 1.301 | ETA[sec]: 0.171 "
       ]
      },
      {
       "output_type": "stream",
       "stream": "stderr",
       "text": [
        "\r",
        "[ 88 %] elapsed[sec]: 1.301 | ETA[sec]: 0.170 "
       ]
      },
      {
       "output_type": "stream",
       "stream": "stderr",
       "text": [
        "\r",
        "[ 88 %] elapsed[sec]: 1.302 | ETA[sec]: 0.169 "
       ]
      },
      {
       "output_type": "stream",
       "stream": "stderr",
       "text": [
        "\r",
        "[ 88 %] elapsed[sec]: 1.302 | ETA[sec]: 0.168 "
       ]
      },
      {
       "output_type": "stream",
       "stream": "stderr",
       "text": [
        "\r",
        "[ 88 %] elapsed[sec]: 1.302 | ETA[sec]: 0.166 "
       ]
      },
      {
       "output_type": "stream",
       "stream": "stderr",
       "text": [
        "\r",
        "[ 88 %] elapsed[sec]: 1.303 | ETA[sec]: 0.165 "
       ]
      },
      {
       "output_type": "stream",
       "stream": "stderr",
       "text": [
        "\r",
        "[ 88 %] elapsed[sec]: 1.303 | ETA[sec]: 0.164 "
       ]
      },
      {
       "output_type": "stream",
       "stream": "stderr",
       "text": [
        "\r",
        "[ 88 %] elapsed[sec]: 1.304 | ETA[sec]: 0.163 "
       ]
      },
      {
       "output_type": "stream",
       "stream": "stderr",
       "text": [
        "\r",
        "[ 88 %] elapsed[sec]: 1.304 | ETA[sec]: 0.162 "
       ]
      },
      {
       "output_type": "stream",
       "stream": "stderr",
       "text": [
        "\r",
        "[ 89 %] elapsed[sec]: 1.304 | ETA[sec]: 0.161 "
       ]
      },
      {
       "output_type": "stream",
       "stream": "stderr",
       "text": [
        "\r",
        "[ 89 %] elapsed[sec]: 1.305 | ETA[sec]: 0.160 "
       ]
      },
      {
       "output_type": "stream",
       "stream": "stderr",
       "text": [
        "\r",
        "[ 89 %] elapsed[sec]: 1.305 | ETA[sec]: 0.159 "
       ]
      },
      {
       "output_type": "stream",
       "stream": "stderr",
       "text": [
        "\r",
        "[ 89 %] elapsed[sec]: 1.306 | ETA[sec]: 0.158 "
       ]
      },
      {
       "output_type": "stream",
       "stream": "stderr",
       "text": [
        "\r",
        "[ 89 %] elapsed[sec]: 1.306 | ETA[sec]: 0.157 "
       ]
      },
      {
       "output_type": "stream",
       "stream": "stderr",
       "text": [
        "\r",
        "[ 89 %] elapsed[sec]: 1.306 | ETA[sec]: 0.156 "
       ]
      },
      {
       "output_type": "stream",
       "stream": "stderr",
       "text": [
        "\r",
        "[ 89 %] elapsed[sec]: 1.317 | ETA[sec]: 0.156 "
       ]
      },
      {
       "output_type": "stream",
       "stream": "stderr",
       "text": [
        "\r",
        "[ 89 %] elapsed[sec]: 1.318 | ETA[sec]: 0.155 "
       ]
      },
      {
       "output_type": "stream",
       "stream": "stderr",
       "text": [
        "\r",
        "[ 89 %] elapsed[sec]: 1.319 | ETA[sec]: 0.154 "
       ]
      },
      {
       "output_type": "stream",
       "stream": "stderr",
       "text": [
        "\r",
        "[ 89 %] elapsed[sec]: 1.319 | ETA[sec]: 0.153 "
       ]
      },
      {
       "output_type": "stream",
       "stream": "stderr",
       "text": [
        "\r",
        "[ 89 %] elapsed[sec]: 1.320 | ETA[sec]: 0.152 "
       ]
      },
      {
       "output_type": "stream",
       "stream": "stderr",
       "text": [
        "\r",
        "[ 89 %] elapsed[sec]: 1.320 | ETA[sec]: 0.151 "
       ]
      },
      {
       "output_type": "stream",
       "stream": "stderr",
       "text": [
        "\r",
        "[ 89 %] elapsed[sec]: 1.320 | ETA[sec]: 0.150 "
       ]
      },
      {
       "output_type": "stream",
       "stream": "stderr",
       "text": [
        "\r",
        "[ 89 %] elapsed[sec]: 1.321 | ETA[sec]: 0.149 "
       ]
      },
      {
       "output_type": "stream",
       "stream": "stderr",
       "text": [
        "\r",
        "[ 89 %] elapsed[sec]: 1.321 | ETA[sec]: 0.148 "
       ]
      },
      {
       "output_type": "stream",
       "stream": "stderr",
       "text": [
        "\r",
        "[ 90 %] elapsed[sec]: 1.322 | ETA[sec]: 0.147 "
       ]
      },
      {
       "output_type": "stream",
       "stream": "stderr",
       "text": [
        "\r",
        "[ 90 %] elapsed[sec]: 1.322 | ETA[sec]: 0.146 "
       ]
      },
      {
       "output_type": "stream",
       "stream": "stderr",
       "text": [
        "\r",
        "[ 90 %] elapsed[sec]: 1.322 | ETA[sec]: 0.145 "
       ]
      },
      {
       "output_type": "stream",
       "stream": "stderr",
       "text": [
        "\r",
        "[ 90 %] elapsed[sec]: 1.323 | ETA[sec]: 0.144 "
       ]
      },
      {
       "output_type": "stream",
       "stream": "stderr",
       "text": [
        "\r",
        "[ 90 %] elapsed[sec]: 1.324 | ETA[sec]: 0.143 "
       ]
      },
      {
       "output_type": "stream",
       "stream": "stderr",
       "text": [
        "\r",
        "[ 90 %] elapsed[sec]: 1.324 | ETA[sec]: 0.142 "
       ]
      },
      {
       "output_type": "stream",
       "stream": "stderr",
       "text": [
        "\r",
        "[ 90 %] elapsed[sec]: 1.324 | ETA[sec]: 0.141 "
       ]
      },
      {
       "output_type": "stream",
       "stream": "stderr",
       "text": [
        "\r",
        "[ 90 %] elapsed[sec]: 1.325 | ETA[sec]: 0.140 "
       ]
      },
      {
       "output_type": "stream",
       "stream": "stderr",
       "text": [
        "\r",
        "[ 90 %] elapsed[sec]: 1.325 | ETA[sec]: 0.139 "
       ]
      },
      {
       "output_type": "stream",
       "stream": "stderr",
       "text": [
        "\r",
        "[ 90 %] elapsed[sec]: 1.326 | ETA[sec]: 0.138 "
       ]
      },
      {
       "output_type": "stream",
       "stream": "stderr",
       "text": [
        "\r",
        "[ 90 %] elapsed[sec]: 1.326 | ETA[sec]: 0.137 "
       ]
      },
      {
       "output_type": "stream",
       "stream": "stderr",
       "text": [
        "\r",
        "[ 90 %] elapsed[sec]: 1.327 | ETA[sec]: 0.136 "
       ]
      },
      {
       "output_type": "stream",
       "stream": "stderr",
       "text": [
        "\r",
        "[ 90 %] elapsed[sec]: 1.327 | ETA[sec]: 0.134 "
       ]
      },
      {
       "output_type": "stream",
       "stream": "stderr",
       "text": [
        "\r",
        "[ 90 %] elapsed[sec]: 1.328 | ETA[sec]: 0.133 "
       ]
      },
      {
       "output_type": "stream",
       "stream": "stderr",
       "text": [
        "\r",
        "[ 90 %] elapsed[sec]: 1.339 | ETA[sec]: 0.133 "
       ]
      },
      {
       "output_type": "stream",
       "stream": "stderr",
       "text": [
        "\r",
        "[ 91 %] elapsed[sec]: 1.339 | ETA[sec]: 0.132 "
       ]
      },
      {
       "output_type": "stream",
       "stream": "stderr",
       "text": [
        "\r",
        "[ 91 %] elapsed[sec]: 1.340 | ETA[sec]: 0.131 "
       ]
      },
      {
       "output_type": "stream",
       "stream": "stderr",
       "text": [
        "\r",
        "[ 91 %] elapsed[sec]: 1.340 | ETA[sec]: 0.130 "
       ]
      },
      {
       "output_type": "stream",
       "stream": "stderr",
       "text": [
        "\r",
        "[ 91 %] elapsed[sec]: 1.340 | ETA[sec]: 0.129 "
       ]
      },
      {
       "output_type": "stream",
       "stream": "stderr",
       "text": [
        "\r",
        "[ 91 %] elapsed[sec]: 1.341 | ETA[sec]: 0.128 "
       ]
      },
      {
       "output_type": "stream",
       "stream": "stderr",
       "text": [
        "\r",
        "[ 91 %] elapsed[sec]: 1.341 | ETA[sec]: 0.127 "
       ]
      },
      {
       "output_type": "stream",
       "stream": "stderr",
       "text": [
        "\r",
        "[ 91 %] elapsed[sec]: 1.342 | ETA[sec]: 0.126 "
       ]
      },
      {
       "output_type": "stream",
       "stream": "stderr",
       "text": [
        "\r",
        "[ 91 %] elapsed[sec]: 1.342 | ETA[sec]: 0.125 "
       ]
      },
      {
       "output_type": "stream",
       "stream": "stderr",
       "text": [
        "\r",
        "[ 91 %] elapsed[sec]: 1.342 | ETA[sec]: 0.124 "
       ]
      },
      {
       "output_type": "stream",
       "stream": "stderr",
       "text": [
        "\r",
        "[ 91 %] elapsed[sec]: 1.343 | ETA[sec]: 0.123 "
       ]
      },
      {
       "output_type": "stream",
       "stream": "stderr",
       "text": [
        "\r",
        "[ 91 %] elapsed[sec]: 1.343 | ETA[sec]: 0.122 "
       ]
      },
      {
       "output_type": "stream",
       "stream": "stderr",
       "text": [
        "\r",
        "[ 91 %] elapsed[sec]: 1.343 | ETA[sec]: 0.121 "
       ]
      },
      {
       "output_type": "stream",
       "stream": "stderr",
       "text": [
        "\r",
        "[ 91 %] elapsed[sec]: 1.344 | ETA[sec]: 0.120 "
       ]
      },
      {
       "output_type": "stream",
       "stream": "stderr",
       "text": [
        "\r",
        "[ 91 %] elapsed[sec]: 1.344 | ETA[sec]: 0.119 "
       ]
      },
      {
       "output_type": "stream",
       "stream": "stderr",
       "text": [
        "\r",
        "[ 91 %] elapsed[sec]: 1.345 | ETA[sec]: 0.118 "
       ]
      },
      {
       "output_type": "stream",
       "stream": "stderr",
       "text": [
        "\r",
        "[ 92 %] elapsed[sec]: 1.345 | ETA[sec]: 0.117 "
       ]
      },
      {
       "output_type": "stream",
       "stream": "stderr",
       "text": [
        "\r",
        "[ 92 %] elapsed[sec]: 1.345 | ETA[sec]: 0.116 "
       ]
      },
      {
       "output_type": "stream",
       "stream": "stderr",
       "text": [
        "\r",
        "[ 92 %] elapsed[sec]: 1.346 | ETA[sec]: 0.115 "
       ]
      },
      {
       "output_type": "stream",
       "stream": "stderr",
       "text": [
        "\r",
        "[ 92 %] elapsed[sec]: 1.346 | ETA[sec]: 0.114 "
       ]
      },
      {
       "output_type": "stream",
       "stream": "stderr",
       "text": [
        "\r",
        "[ 92 %] elapsed[sec]: 1.347 | ETA[sec]: 0.113 "
       ]
      },
      {
       "output_type": "stream",
       "stream": "stderr",
       "text": [
        "\r",
        "[ 92 %] elapsed[sec]: 1.347 | ETA[sec]: 0.112 "
       ]
      },
      {
       "output_type": "stream",
       "stream": "stderr",
       "text": [
        "\r",
        "[ 92 %] elapsed[sec]: 1.347 | ETA[sec]: 0.111 "
       ]
      },
      {
       "output_type": "stream",
       "stream": "stderr",
       "text": [
        "\r",
        "[ 92 %] elapsed[sec]: 1.348 | ETA[sec]: 0.110 "
       ]
      },
      {
       "output_type": "stream",
       "stream": "stderr",
       "text": [
        "\r",
        "[ 92 %] elapsed[sec]: 1.348 | ETA[sec]: 0.109 "
       ]
      },
      {
       "output_type": "stream",
       "stream": "stderr",
       "text": [
        "\r",
        "[ 92 %] elapsed[sec]: 1.349 | ETA[sec]: 0.108 "
       ]
      },
      {
       "output_type": "stream",
       "stream": "stderr",
       "text": [
        "\r",
        "[ 92 %] elapsed[sec]: 1.355 | ETA[sec]: 0.107 "
       ]
      },
      {
       "output_type": "stream",
       "stream": "stderr",
       "text": [
        "\r",
        "[ 92 %] elapsed[sec]: 1.355 | ETA[sec]: 0.106 "
       ]
      },
      {
       "output_type": "stream",
       "stream": "stderr",
       "text": [
        "\r",
        "[ 92 %] elapsed[sec]: 1.355 | ETA[sec]: 0.105 "
       ]
      },
      {
       "output_type": "stream",
       "stream": "stderr",
       "text": [
        "\r",
        "[ 92 %] elapsed[sec]: 1.356 | ETA[sec]: 0.104 "
       ]
      },
      {
       "output_type": "stream",
       "stream": "stderr",
       "text": [
        "\r",
        "[ 92 %] elapsed[sec]: 1.356 | ETA[sec]: 0.103 "
       ]
      },
      {
       "output_type": "stream",
       "stream": "stderr",
       "text": [
        "\r",
        "[ 93 %] elapsed[sec]: 1.357 | ETA[sec]: 0.102 "
       ]
      },
      {
       "output_type": "stream",
       "stream": "stderr",
       "text": [
        "\r",
        "[ 93 %] elapsed[sec]: 1.357 | ETA[sec]: 0.101 "
       ]
      },
      {
       "output_type": "stream",
       "stream": "stderr",
       "text": [
        "\r",
        "[ 93 %] elapsed[sec]: 1.358 | ETA[sec]: 0.100 "
       ]
      },
      {
       "output_type": "stream",
       "stream": "stderr",
       "text": [
        "\r",
        "[ 93 %] elapsed[sec]: 1.358 | ETA[sec]: 0.099 "
       ]
      },
      {
       "output_type": "stream",
       "stream": "stderr",
       "text": [
        "\r",
        "[ 93 %] elapsed[sec]: 1.359 | ETA[sec]: 0.098 "
       ]
      },
      {
       "output_type": "stream",
       "stream": "stderr",
       "text": [
        "\r",
        "[ 93 %] elapsed[sec]: 1.359 | ETA[sec]: 0.097 "
       ]
      },
      {
       "output_type": "stream",
       "stream": "stderr",
       "text": [
        "\r",
        "[ 93 %] elapsed[sec]: 1.360 | ETA[sec]: 0.096 "
       ]
      },
      {
       "output_type": "stream",
       "stream": "stderr",
       "text": [
        "\r",
        "[ 93 %] elapsed[sec]: 1.360 | ETA[sec]: 0.095 "
       ]
      },
      {
       "output_type": "stream",
       "stream": "stderr",
       "text": [
        "\r",
        "[ 93 %] elapsed[sec]: 1.361 | ETA[sec]: 0.094 "
       ]
      },
      {
       "output_type": "stream",
       "stream": "stderr",
       "text": [
        "\r",
        "[ 93 %] elapsed[sec]: 1.361 | ETA[sec]: 0.093 "
       ]
      },
      {
       "output_type": "stream",
       "stream": "stderr",
       "text": [
        "\r",
        "[ 93 %] elapsed[sec]: 1.362 | ETA[sec]: 0.092 "
       ]
      },
      {
       "output_type": "stream",
       "stream": "stderr",
       "text": [
        "\r",
        "[ 93 %] elapsed[sec]: 1.362 | ETA[sec]: 0.091 "
       ]
      },
      {
       "output_type": "stream",
       "stream": "stderr",
       "text": [
        "\r",
        "[ 93 %] elapsed[sec]: 1.362 | ETA[sec]: 0.090 "
       ]
      },
      {
       "output_type": "stream",
       "stream": "stderr",
       "text": [
        "\r",
        "[ 93 %] elapsed[sec]: 1.363 | ETA[sec]: 0.089 "
       ]
      },
      {
       "output_type": "stream",
       "stream": "stderr",
       "text": [
        "\r",
        "[ 93 %] elapsed[sec]: 1.363 | ETA[sec]: 0.088 "
       ]
      },
      {
       "output_type": "stream",
       "stream": "stderr",
       "text": [
        "\r",
        "[ 94 %] elapsed[sec]: 1.364 | ETA[sec]: 0.087 "
       ]
      },
      {
       "output_type": "stream",
       "stream": "stderr",
       "text": [
        "\r",
        "[ 94 %] elapsed[sec]: 1.364 | ETA[sec]: 0.086 "
       ]
      },
      {
       "output_type": "stream",
       "stream": "stderr",
       "text": [
        "\r",
        "[ 94 %] elapsed[sec]: 1.365 | ETA[sec]: 0.085 "
       ]
      },
      {
       "output_type": "stream",
       "stream": "stderr",
       "text": [
        "\r",
        "[ 94 %] elapsed[sec]: 1.365 | ETA[sec]: 0.084 "
       ]
      },
      {
       "output_type": "stream",
       "stream": "stderr",
       "text": [
        "\r",
        "[ 94 %] elapsed[sec]: 1.370 | ETA[sec]: 0.083 "
       ]
      },
      {
       "output_type": "stream",
       "stream": "stderr",
       "text": [
        "\r",
        "[ 94 %] elapsed[sec]: 1.370 | ETA[sec]: 0.082 "
       ]
      },
      {
       "output_type": "stream",
       "stream": "stderr",
       "text": [
        "\r",
        "[ 94 %] elapsed[sec]: 1.370 | ETA[sec]: 0.081 "
       ]
      },
      {
       "output_type": "stream",
       "stream": "stderr",
       "text": [
        "\r",
        "[ 94 %] elapsed[sec]: 1.371 | ETA[sec]: 0.080 "
       ]
      },
      {
       "output_type": "stream",
       "stream": "stderr",
       "text": [
        "\r",
        "[ 94 %] elapsed[sec]: 1.371 | ETA[sec]: 0.079 "
       ]
      },
      {
       "output_type": "stream",
       "stream": "stderr",
       "text": [
        "\r",
        "[ 94 %] elapsed[sec]: 1.372 | ETA[sec]: 0.078 "
       ]
      },
      {
       "output_type": "stream",
       "stream": "stderr",
       "text": [
        "\r",
        "[ 94 %] elapsed[sec]: 1.372 | ETA[sec]: 0.077 "
       ]
      },
      {
       "output_type": "stream",
       "stream": "stderr",
       "text": [
        "\r",
        "[ 94 %] elapsed[sec]: 1.372 | ETA[sec]: 0.076 "
       ]
      },
      {
       "output_type": "stream",
       "stream": "stderr",
       "text": [
        "\r",
        "[ 94 %] elapsed[sec]: 1.373 | ETA[sec]: 0.075 "
       ]
      },
      {
       "output_type": "stream",
       "stream": "stderr",
       "text": [
        "\r",
        "[ 94 %] elapsed[sec]: 1.373 | ETA[sec]: 0.074 "
       ]
      },
      {
       "output_type": "stream",
       "stream": "stderr",
       "text": [
        "\r",
        "[ 94 %] elapsed[sec]: 1.373 | ETA[sec]: 0.073 "
       ]
      },
      {
       "output_type": "stream",
       "stream": "stderr",
       "text": [
        "\r",
        "[ 95 %] elapsed[sec]: 1.374 | ETA[sec]: 0.072 "
       ]
      },
      {
       "output_type": "stream",
       "stream": "stderr",
       "text": [
        "\r",
        "[ 95 %] elapsed[sec]: 1.374 | ETA[sec]: 0.071 "
       ]
      },
      {
       "output_type": "stream",
       "stream": "stderr",
       "text": [
        "\r",
        "[ 95 %] elapsed[sec]: 1.375 | ETA[sec]: 0.070 "
       ]
      },
      {
       "output_type": "stream",
       "stream": "stderr",
       "text": [
        "\r",
        "[ 95 %] elapsed[sec]: 1.375 | ETA[sec]: 0.069 "
       ]
      },
      {
       "output_type": "stream",
       "stream": "stderr",
       "text": [
        "\r",
        "[ 95 %] elapsed[sec]: 1.375 | ETA[sec]: 0.068 "
       ]
      },
      {
       "output_type": "stream",
       "stream": "stderr",
       "text": [
        "\r",
        "[ 95 %] elapsed[sec]: 1.376 | ETA[sec]: 0.067 "
       ]
      },
      {
       "output_type": "stream",
       "stream": "stderr",
       "text": [
        "\r",
        "[ 95 %] elapsed[sec]: 1.376 | ETA[sec]: 0.066 "
       ]
      },
      {
       "output_type": "stream",
       "stream": "stderr",
       "text": [
        "\r",
        "[ 95 %] elapsed[sec]: 1.376 | ETA[sec]: 0.065 "
       ]
      },
      {
       "output_type": "stream",
       "stream": "stderr",
       "text": [
        "\r",
        "[ 95 %] elapsed[sec]: 1.377 | ETA[sec]: 0.064 "
       ]
      },
      {
       "output_type": "stream",
       "stream": "stderr",
       "text": [
        "\r",
        "[ 95 %] elapsed[sec]: 1.377 | ETA[sec]: 0.063 "
       ]
      },
      {
       "output_type": "stream",
       "stream": "stderr",
       "text": [
        "\r",
        "[ 95 %] elapsed[sec]: 1.378 | ETA[sec]: 0.062 "
       ]
      },
      {
       "output_type": "stream",
       "stream": "stderr",
       "text": [
        "\r",
        "[ 95 %] elapsed[sec]: 1.378 | ETA[sec]: 0.061 "
       ]
      },
      {
       "output_type": "stream",
       "stream": "stderr",
       "text": [
        "\r",
        "[ 95 %] elapsed[sec]: 1.378 | ETA[sec]: 0.060 "
       ]
      },
      {
       "output_type": "stream",
       "stream": "stderr",
       "text": [
        "\r",
        "[ 95 %] elapsed[sec]: 1.379 | ETA[sec]: 0.059 "
       ]
      },
      {
       "output_type": "stream",
       "stream": "stderr",
       "text": [
        "\r",
        "[ 95 %] elapsed[sec]: 1.379 | ETA[sec]: 0.058 "
       ]
      },
      {
       "output_type": "stream",
       "stream": "stderr",
       "text": [
        "\r",
        "[ 96 %] elapsed[sec]: 1.390 | ETA[sec]: 0.058 "
       ]
      },
      {
       "output_type": "stream",
       "stream": "stderr",
       "text": [
        "\r",
        "[ 96 %] elapsed[sec]: 1.391 | ETA[sec]: 0.057 "
       ]
      },
      {
       "output_type": "stream",
       "stream": "stderr",
       "text": [
        "\r",
        "[ 96 %] elapsed[sec]: 1.391 | ETA[sec]: 0.056 "
       ]
      },
      {
       "output_type": "stream",
       "stream": "stderr",
       "text": [
        "\r",
        "[ 96 %] elapsed[sec]: 1.392 | ETA[sec]: 0.055 "
       ]
      },
      {
       "output_type": "stream",
       "stream": "stderr",
       "text": [
        "\r",
        "[ 96 %] elapsed[sec]: 1.393 | ETA[sec]: 0.054 "
       ]
      },
      {
       "output_type": "stream",
       "stream": "stderr",
       "text": [
        "\r",
        "[ 96 %] elapsed[sec]: 1.393 | ETA[sec]: 0.053 "
       ]
      },
      {
       "output_type": "stream",
       "stream": "stderr",
       "text": [
        "\r",
        "[ 96 %] elapsed[sec]: 1.394 | ETA[sec]: 0.052 "
       ]
      },
      {
       "output_type": "stream",
       "stream": "stderr",
       "text": [
        "\r",
        "[ 96 %] elapsed[sec]: 1.394 | ETA[sec]: 0.051 "
       ]
      },
      {
       "output_type": "stream",
       "stream": "stderr",
       "text": [
        "\r",
        "[ 96 %] elapsed[sec]: 1.395 | ETA[sec]: 0.050 "
       ]
      },
      {
       "output_type": "stream",
       "stream": "stderr",
       "text": [
        "\r",
        "[ 96 %] elapsed[sec]: 1.396 | ETA[sec]: 0.049 "
       ]
      },
      {
       "output_type": "stream",
       "stream": "stderr",
       "text": [
        "\r",
        "[ 96 %] elapsed[sec]: 1.396 | ETA[sec]: 0.048 "
       ]
      },
      {
       "output_type": "stream",
       "stream": "stderr",
       "text": [
        "\r",
        "[ 96 %] elapsed[sec]: 1.396 | ETA[sec]: 0.047 "
       ]
      },
      {
       "output_type": "stream",
       "stream": "stderr",
       "text": [
        "\r",
        "[ 96 %] elapsed[sec]: 1.397 | ETA[sec]: 0.046 "
       ]
      },
      {
       "output_type": "stream",
       "stream": "stderr",
       "text": [
        "\r",
        "[ 96 %] elapsed[sec]: 1.397 | ETA[sec]: 0.045 "
       ]
      },
      {
       "output_type": "stream",
       "stream": "stderr",
       "text": [
        "\r",
        "[ 96 %] elapsed[sec]: 1.398 | ETA[sec]: 0.044 "
       ]
      },
      {
       "output_type": "stream",
       "stream": "stderr",
       "text": [
        "\r",
        "[ 97 %] elapsed[sec]: 1.398 | ETA[sec]: 0.043 "
       ]
      },
      {
       "output_type": "stream",
       "stream": "stderr",
       "text": [
        "\r",
        "[ 97 %] elapsed[sec]: 1.399 | ETA[sec]: 0.042 "
       ]
      },
      {
       "output_type": "stream",
       "stream": "stderr",
       "text": [
        "\r",
        "[ 97 %] elapsed[sec]: 1.399 | ETA[sec]: 0.041 "
       ]
      },
      {
       "output_type": "stream",
       "stream": "stderr",
       "text": [
        "\r",
        "[ 97 %] elapsed[sec]: 1.400 | ETA[sec]: 0.040 "
       ]
      },
      {
       "output_type": "stream",
       "stream": "stderr",
       "text": [
        "\r",
        "[ 97 %] elapsed[sec]: 1.401 | ETA[sec]: 0.039 "
       ]
      },
      {
       "output_type": "stream",
       "stream": "stderr",
       "text": [
        "\r",
        "[ 97 %] elapsed[sec]: 1.401 | ETA[sec]: 0.038 "
       ]
      },
      {
       "output_type": "stream",
       "stream": "stderr",
       "text": [
        "\r",
        "[ 97 %] elapsed[sec]: 1.402 | ETA[sec]: 0.037 "
       ]
      },
      {
       "output_type": "stream",
       "stream": "stderr",
       "text": [
        "\r",
        "[ 97 %] elapsed[sec]: 1.412 | ETA[sec]: 0.037 "
       ]
      },
      {
       "output_type": "stream",
       "stream": "stderr",
       "text": [
        "\r",
        "[ 97 %] elapsed[sec]: 1.412 | ETA[sec]: 0.036 "
       ]
      },
      {
       "output_type": "stream",
       "stream": "stderr",
       "text": [
        "\r",
        "[ 97 %] elapsed[sec]: 1.413 | ETA[sec]: 0.035 "
       ]
      },
      {
       "output_type": "stream",
       "stream": "stderr",
       "text": [
        "\r",
        "[ 97 %] elapsed[sec]: 1.413 | ETA[sec]: 0.034 "
       ]
      },
      {
       "output_type": "stream",
       "stream": "stderr",
       "text": [
        "\r",
        "[ 97 %] elapsed[sec]: 1.414 | ETA[sec]: 0.033 "
       ]
      },
      {
       "output_type": "stream",
       "stream": "stderr",
       "text": [
        "\r",
        "[ 97 %] elapsed[sec]: 1.414 | ETA[sec]: 0.032 "
       ]
      },
      {
       "output_type": "stream",
       "stream": "stderr",
       "text": [
        "\r",
        "[ 97 %] elapsed[sec]: 1.415 | ETA[sec]: 0.031 "
       ]
      },
      {
       "output_type": "stream",
       "stream": "stderr",
       "text": [
        "\r",
        "[ 97 %] elapsed[sec]: 1.415 | ETA[sec]: 0.030 "
       ]
      },
      {
       "output_type": "stream",
       "stream": "stderr",
       "text": [
        "\r",
        "[ 98 %] elapsed[sec]: 1.416 | ETA[sec]: 0.029 "
       ]
      },
      {
       "output_type": "stream",
       "stream": "stderr",
       "text": [
        "\r",
        "[ 98 %] elapsed[sec]: 1.416 | ETA[sec]: 0.028 "
       ]
      },
      {
       "output_type": "stream",
       "stream": "stderr",
       "text": [
        "\r",
        "[ 98 %] elapsed[sec]: 1.417 | ETA[sec]: 0.027 "
       ]
      },
      {
       "output_type": "stream",
       "stream": "stderr",
       "text": [
        "\r",
        "[ 98 %] elapsed[sec]: 1.417 | ETA[sec]: 0.026 "
       ]
      },
      {
       "output_type": "stream",
       "stream": "stderr",
       "text": [
        "\r",
        "[ 98 %] elapsed[sec]: 1.418 | ETA[sec]: 0.025 "
       ]
      },
      {
       "output_type": "stream",
       "stream": "stderr",
       "text": [
        "\r",
        "[ 98 %] elapsed[sec]: 1.418 | ETA[sec]: 0.024 "
       ]
      },
      {
       "output_type": "stream",
       "stream": "stderr",
       "text": [
        "\r",
        "[ 98 %] elapsed[sec]: 1.419 | ETA[sec]: 0.023 "
       ]
      },
      {
       "output_type": "stream",
       "stream": "stderr",
       "text": [
        "\r",
        "[ 98 %] elapsed[sec]: 1.419 | ETA[sec]: 0.022 "
       ]
      },
      {
       "output_type": "stream",
       "stream": "stderr",
       "text": [
        "\r",
        "[ 98 %] elapsed[sec]: 1.420 | ETA[sec]: 0.021 "
       ]
      },
      {
       "output_type": "stream",
       "stream": "stderr",
       "text": [
        "\r",
        "[ 98 %] elapsed[sec]: 1.420 | ETA[sec]: 0.020 "
       ]
      },
      {
       "output_type": "stream",
       "stream": "stderr",
       "text": [
        "\r",
        "[ 98 %] elapsed[sec]: 1.421 | ETA[sec]: 0.019 "
       ]
      },
      {
       "output_type": "stream",
       "stream": "stderr",
       "text": [
        "\r",
        "[ 98 %] elapsed[sec]: 1.421 | ETA[sec]: 0.018 "
       ]
      },
      {
       "output_type": "stream",
       "stream": "stderr",
       "text": [
        "\r",
        "[ 98 %] elapsed[sec]: 1.422 | ETA[sec]: 0.017 "
       ]
      },
      {
       "output_type": "stream",
       "stream": "stderr",
       "text": [
        "\r",
        "[ 98 %] elapsed[sec]: 1.422 | ETA[sec]: 0.016 "
       ]
      },
      {
       "output_type": "stream",
       "stream": "stderr",
       "text": [
        "\r",
        "[ 98 %] elapsed[sec]: 1.423 | ETA[sec]: 0.015 "
       ]
      },
      {
       "output_type": "stream",
       "stream": "stderr",
       "text": [
        "\r",
        "[ 99 %] elapsed[sec]: 1.423 | ETA[sec]: 0.014 "
       ]
      },
      {
       "output_type": "stream",
       "stream": "stderr",
       "text": [
        "\r",
        "[ 99 %] elapsed[sec]: 1.424 | ETA[sec]: 0.013 "
       ]
      },
      {
       "output_type": "stream",
       "stream": "stderr",
       "text": [
        "\r",
        "[ 99 %] elapsed[sec]: 1.435 | ETA[sec]: 0.013 "
       ]
      },
      {
       "output_type": "stream",
       "stream": "stderr",
       "text": [
        "\r",
        "[ 99 %] elapsed[sec]: 1.435 | ETA[sec]: 0.012 "
       ]
      },
      {
       "output_type": "stream",
       "stream": "stderr",
       "text": [
        "\r",
        "[ 99 %] elapsed[sec]: 1.435 | ETA[sec]: 0.011 "
       ]
      },
      {
       "output_type": "stream",
       "stream": "stderr",
       "text": [
        "\r",
        "[ 99 %] elapsed[sec]: 1.436 | ETA[sec]: 0.010 "
       ]
      },
      {
       "output_type": "stream",
       "stream": "stderr",
       "text": [
        "\r",
        "[ 99 %] elapsed[sec]: 1.436 | ETA[sec]: 0.009 "
       ]
      },
      {
       "output_type": "stream",
       "stream": "stderr",
       "text": [
        "\r",
        "[ 99 %] elapsed[sec]: 1.437 | ETA[sec]: 0.008 "
       ]
      },
      {
       "output_type": "stream",
       "stream": "stderr",
       "text": [
        "\r",
        "[ 99 %] elapsed[sec]: 1.437 | ETA[sec]: 0.007 "
       ]
      },
      {
       "output_type": "stream",
       "stream": "stderr",
       "text": [
        "\r",
        "[ 99 %] elapsed[sec]: 1.437 | ETA[sec]: 0.006 "
       ]
      },
      {
       "output_type": "stream",
       "stream": "stderr",
       "text": [
        "\r",
        "[ 99 %] elapsed[sec]: 1.438 | ETA[sec]: 0.005 "
       ]
      },
      {
       "output_type": "stream",
       "stream": "stderr",
       "text": [
        "\r",
        "[ 99 %] elapsed[sec]: 1.438 | ETA[sec]: 0.004 "
       ]
      },
      {
       "output_type": "stream",
       "stream": "stderr",
       "text": [
        "\r",
        "[ 99 %] elapsed[sec]: 1.438 | ETA[sec]: 0.003 "
       ]
      },
      {
       "output_type": "stream",
       "stream": "stderr",
       "text": [
        "\r",
        "[ 99 %] elapsed[sec]: 1.439 | ETA[sec]: 0.002 "
       ]
      },
      {
       "output_type": "stream",
       "stream": "stderr",
       "text": [
        "\r",
        "[ 99 %] elapsed[sec]: 1.439 | ETA[sec]: 0.001 "
       ]
      },
      {
       "output_type": "stream",
       "stream": "stderr",
       "text": [
        "\r",
        "[100 %] elapsed[sec]: 1.440"
       ]
      },
      {
       "output_type": "stream",
       "stream": "stderr",
       "text": [
        "\n",
        "Total time elapsed: 1.440 sec\n"
       ]
      }
     ],
     "prompt_number": 3
    },
    {
     "cell_type": "markdown",
     "metadata": {},
     "source": [
      "<a name='info'></a>\n",
      "<br>\n",
      "<br>"
     ]
    },
    {
     "cell_type": "markdown",
     "metadata": {},
     "source": [
      "## Progress Bar/Percentage Indicator - Reporting tracking information"
     ]
    },
    {
     "cell_type": "markdown",
     "metadata": {},
     "source": [
      "Simply `print()` the tracking object after the tracking has completed."
     ]
    },
    {
     "cell_type": "markdown",
     "metadata": {},
     "source": [
      "[[back to section overview](#sections)]"
     ]
    },
    {
     "cell_type": "code",
     "collapsed": false,
     "input": [
      "n = 150000\n",
      "\n",
      "bar = pyprind.ProgBar(n)\n",
      "for i in range(n):\n",
      "    # do some computation\n",
      "    bar.update()\n",
      "print(bar)"
     ],
     "language": "python",
     "metadata": {},
     "outputs": [
      {
       "output_type": "stream",
       "stream": "stderr",
       "text": [
        "0%                          100%\n"
       ]
      },
      {
       "output_type": "stream",
       "stream": "stderr",
       "text": [
        "[                              ]"
       ]
      },
      {
       "output_type": "stream",
       "stream": "stderr",
       "text": [
        "\r",
        "[#                             ]"
       ]
      },
      {
       "output_type": "stream",
       "stream": "stderr",
       "text": [
        " | ETA[sec]: 1.934 "
       ]
      },
      {
       "output_type": "stream",
       "stream": "stderr",
       "text": [
        "\r",
        "[##                            ]"
       ]
      },
      {
       "output_type": "stream",
       "stream": "stderr",
       "text": [
        " | ETA[sec]: 1.704 "
       ]
      },
      {
       "output_type": "stream",
       "stream": "stderr",
       "text": [
        "\r",
        "[###                           ]"
       ]
      },
      {
       "output_type": "stream",
       "stream": "stderr",
       "text": [
        " | ETA[sec]: 1.554 "
       ]
      },
      {
       "output_type": "stream",
       "stream": "stderr",
       "text": [
        "\r",
        "[####                          ]"
       ]
      },
      {
       "output_type": "stream",
       "stream": "stderr",
       "text": [
        " | ETA[sec]: 1.579 "
       ]
      },
      {
       "output_type": "stream",
       "stream": "stderr",
       "text": [
        "\r",
        "[#####                         ]"
       ]
      },
      {
       "output_type": "stream",
       "stream": "stderr",
       "text": [
        " | ETA[sec]: 1.433 "
       ]
      },
      {
       "output_type": "stream",
       "stream": "stderr",
       "text": [
        "\r",
        "[######                        ]"
       ]
      },
      {
       "output_type": "stream",
       "stream": "stderr",
       "text": [
        " | ETA[sec]: 1.385 "
       ]
      },
      {
       "output_type": "stream",
       "stream": "stderr",
       "text": [
        "\r",
        "[#######                       ]"
       ]
      },
      {
       "output_type": "stream",
       "stream": "stderr",
       "text": [
        " | ETA[sec]: 1.314 "
       ]
      },
      {
       "output_type": "stream",
       "stream": "stderr",
       "text": [
        "\r",
        "[########                      ]"
       ]
      },
      {
       "output_type": "stream",
       "stream": "stderr",
       "text": [
        " | ETA[sec]: 1.254 "
       ]
      },
      {
       "output_type": "stream",
       "stream": "stderr",
       "text": [
        "\r",
        "[#########                     ]"
       ]
      },
      {
       "output_type": "stream",
       "stream": "stderr",
       "text": [
        " | ETA[sec]: 1.178 "
       ]
      },
      {
       "output_type": "stream",
       "stream": "stderr",
       "text": [
        "\r",
        "[##########                    ]"
       ]
      },
      {
       "output_type": "stream",
       "stream": "stderr",
       "text": [
        " | ETA[sec]: 1.095 "
       ]
      },
      {
       "output_type": "stream",
       "stream": "stderr",
       "text": [
        "\r",
        "[###########                   ]"
       ]
      },
      {
       "output_type": "stream",
       "stream": "stderr",
       "text": [
        " | ETA[sec]: 1.013 "
       ]
      },
      {
       "output_type": "stream",
       "stream": "stderr",
       "text": [
        "\r",
        "[############                  ]"
       ]
      },
      {
       "output_type": "stream",
       "stream": "stderr",
       "text": [
        " | ETA[sec]: 0.955 "
       ]
      },
      {
       "output_type": "stream",
       "stream": "stderr",
       "text": [
        "\r",
        "[#############                 ]"
       ]
      },
      {
       "output_type": "stream",
       "stream": "stderr",
       "text": [
        " | ETA[sec]: 0.924 "
       ]
      },
      {
       "output_type": "stream",
       "stream": "stderr",
       "text": [
        "\r",
        "[##############                ]"
       ]
      },
      {
       "output_type": "stream",
       "stream": "stderr",
       "text": [
        " | ETA[sec]: 0.911 "
       ]
      },
      {
       "output_type": "stream",
       "stream": "stderr",
       "text": [
        "\r",
        "[###############               ]"
       ]
      },
      {
       "output_type": "stream",
       "stream": "stderr",
       "text": [
        " | ETA[sec]: 0.909 "
       ]
      },
      {
       "output_type": "stream",
       "stream": "stderr",
       "text": [
        "\r",
        "[################              ]"
       ]
      },
      {
       "output_type": "stream",
       "stream": "stderr",
       "text": [
        " | ETA[sec]: 0.871 "
       ]
      },
      {
       "output_type": "stream",
       "stream": "stderr",
       "text": [
        "\r",
        "[#################             ]"
       ]
      },
      {
       "output_type": "stream",
       "stream": "stderr",
       "text": [
        " | ETA[sec]: 0.842 "
       ]
      },
      {
       "output_type": "stream",
       "stream": "stderr",
       "text": [
        "\r",
        "[##################            ]"
       ]
      },
      {
       "output_type": "stream",
       "stream": "stderr",
       "text": [
        " | ETA[sec]: 0.803 "
       ]
      },
      {
       "output_type": "stream",
       "stream": "stderr",
       "text": [
        "\r",
        "[###################           ]"
       ]
      },
      {
       "output_type": "stream",
       "stream": "stderr",
       "text": [
        " | ETA[sec]: 0.740 "
       ]
      },
      {
       "output_type": "stream",
       "stream": "stderr",
       "text": [
        "\r",
        "[####################          ]"
       ]
      },
      {
       "output_type": "stream",
       "stream": "stderr",
       "text": [
        " | ETA[sec]: 0.679 "
       ]
      },
      {
       "output_type": "stream",
       "stream": "stderr",
       "text": [
        "\r",
        "[#####################         ]"
       ]
      },
      {
       "output_type": "stream",
       "stream": "stderr",
       "text": [
        " | ETA[sec]: 0.600 "
       ]
      },
      {
       "output_type": "stream",
       "stream": "stderr",
       "text": [
        "\r",
        "[######################        ]"
       ]
      },
      {
       "output_type": "stream",
       "stream": "stderr",
       "text": [
        " | ETA[sec]: 0.523 "
       ]
      },
      {
       "output_type": "stream",
       "stream": "stderr",
       "text": [
        "\r",
        "[#######################       ]"
       ]
      },
      {
       "output_type": "stream",
       "stream": "stderr",
       "text": [
        " | ETA[sec]: 0.451 "
       ]
      },
      {
       "output_type": "stream",
       "stream": "stderr",
       "text": [
        "\r",
        "[########################      ]"
       ]
      },
      {
       "output_type": "stream",
       "stream": "stderr",
       "text": [
        " | ETA[sec]: 0.381 "
       ]
      },
      {
       "output_type": "stream",
       "stream": "stderr",
       "text": [
        "\r",
        "[#########################     ]"
       ]
      },
      {
       "output_type": "stream",
       "stream": "stderr",
       "text": [
        " | ETA[sec]: 0.312 "
       ]
      },
      {
       "output_type": "stream",
       "stream": "stderr",
       "text": [
        "\r",
        "[##########################    ]"
       ]
      },
      {
       "output_type": "stream",
       "stream": "stderr",
       "text": [
        " | ETA[sec]: 0.247 "
       ]
      },
      {
       "output_type": "stream",
       "stream": "stderr",
       "text": [
        "\r",
        "[###########################   ]"
       ]
      },
      {
       "output_type": "stream",
       "stream": "stderr",
       "text": [
        " | ETA[sec]: 0.183 "
       ]
      },
      {
       "output_type": "stream",
       "stream": "stderr",
       "text": [
        "\r",
        "[############################  ]"
       ]
      },
      {
       "output_type": "stream",
       "stream": "stderr",
       "text": [
        " | ETA[sec]: 0.120 "
       ]
      },
      {
       "output_type": "stream",
       "stream": "stderr",
       "text": [
        "\r",
        "[############################# ]"
       ]
      },
      {
       "output_type": "stream",
       "stream": "stderr",
       "text": [
        " | ETA[sec]: 0.059 "
       ]
      },
      {
       "output_type": "stream",
       "stream": "stderr",
       "text": [
        "\r",
        "[##############################]"
       ]
      },
      {
       "output_type": "stream",
       "stream": "stderr",
       "text": [
        " | ETA[sec]: 0.000 "
       ]
      },
      {
       "output_type": "stream",
       "stream": "stderr",
       "text": [
        "\n",
        "Total time elapsed: 1.767 sec\n"
       ]
      },
      {
       "output_type": "stream",
       "stream": "stdout",
       "text": [
        "Title: \n",
        "                      Started: 10/11/2014 01:16:23\n",
        "                      Finished: 10/11/2014 01:16:25\n",
        "                      Total time elapsed: 1.767 sec\n"
       ]
      }
     ],
     "prompt_number": 4
    },
    {
     "cell_type": "code",
     "collapsed": false,
     "input": [
      "n = 150000\n",
      "\n",
      "bar = pyprind.ProgBar(n, monitor=True, title='Job_1')\n",
      "for i in range(n):\n",
      "    # do some computation\n",
      "    bar.update()\n",
      "    \n",
      "# print report for future reference\n",
      "print(bar)"
     ],
     "language": "python",
     "metadata": {},
     "outputs": [
      {
       "output_type": "stream",
       "stream": "stderr",
       "text": [
        "Job_1\n"
       ]
      },
      {
       "output_type": "stream",
       "stream": "stderr",
       "text": [
        "0%                          100%\n"
       ]
      },
      {
       "output_type": "stream",
       "stream": "stderr",
       "text": [
        "[                              ]"
       ]
      },
      {
       "output_type": "stream",
       "stream": "stderr",
       "text": [
        "\r",
        "[#                             ]"
       ]
      },
      {
       "output_type": "stream",
       "stream": "stderr",
       "text": [
        " | ETA[sec]: 4.188 "
       ]
      },
      {
       "output_type": "stream",
       "stream": "stderr",
       "text": [
        "\r",
        "[##                            ]"
       ]
      },
      {
       "output_type": "stream",
       "stream": "stderr",
       "text": [
        " | ETA[sec]: 2.705 "
       ]
      },
      {
       "output_type": "stream",
       "stream": "stderr",
       "text": [
        "\r",
        "[###                           ]"
       ]
      },
      {
       "output_type": "stream",
       "stream": "stderr",
       "text": [
        " | ETA[sec]: 2.072 "
       ]
      },
      {
       "output_type": "stream",
       "stream": "stderr",
       "text": [
        "\r",
        "[####                          ]"
       ]
      },
      {
       "output_type": "stream",
       "stream": "stderr",
       "text": [
        " | ETA[sec]: 1.738 "
       ]
      },
      {
       "output_type": "stream",
       "stream": "stderr",
       "text": [
        "\r",
        "[#####                         ]"
       ]
      },
      {
       "output_type": "stream",
       "stream": "stderr",
       "text": [
        " | ETA[sec]: 1.517 "
       ]
      },
      {
       "output_type": "stream",
       "stream": "stderr",
       "text": [
        "\r",
        "[######                        ]"
       ]
      },
      {
       "output_type": "stream",
       "stream": "stderr",
       "text": [
        " | ETA[sec]: 1.364 "
       ]
      },
      {
       "output_type": "stream",
       "stream": "stderr",
       "text": [
        "\r",
        "[#######                       ]"
       ]
      },
      {
       "output_type": "stream",
       "stream": "stderr",
       "text": [
        " | ETA[sec]: 1.264 "
       ]
      },
      {
       "output_type": "stream",
       "stream": "stderr",
       "text": [
        "\r",
        "[########                      ]"
       ]
      },
      {
       "output_type": "stream",
       "stream": "stderr",
       "text": [
        " | ETA[sec]: 1.168 "
       ]
      },
      {
       "output_type": "stream",
       "stream": "stderr",
       "text": [
        "\r",
        "[#########                     ]"
       ]
      },
      {
       "output_type": "stream",
       "stream": "stderr",
       "text": [
        " | ETA[sec]: 1.092 "
       ]
      },
      {
       "output_type": "stream",
       "stream": "stderr",
       "text": [
        "\r",
        "[##########                    ]"
       ]
      },
      {
       "output_type": "stream",
       "stream": "stderr",
       "text": [
        " | ETA[sec]: 1.012 "
       ]
      },
      {
       "output_type": "stream",
       "stream": "stderr",
       "text": [
        "\r",
        "[###########                   ]"
       ]
      },
      {
       "output_type": "stream",
       "stream": "stderr",
       "text": [
        " | ETA[sec]: 0.942 "
       ]
      },
      {
       "output_type": "stream",
       "stream": "stderr",
       "text": [
        "\r",
        "[############                  ]"
       ]
      },
      {
       "output_type": "stream",
       "stream": "stderr",
       "text": [
        " | ETA[sec]: 0.874 "
       ]
      },
      {
       "output_type": "stream",
       "stream": "stderr",
       "text": [
        "\r",
        "[#############                 ]"
       ]
      },
      {
       "output_type": "stream",
       "stream": "stderr",
       "text": [
        " | ETA[sec]: 0.815 "
       ]
      },
      {
       "output_type": "stream",
       "stream": "stderr",
       "text": [
        "\r",
        "[##############                ]"
       ]
      },
      {
       "output_type": "stream",
       "stream": "stderr",
       "text": [
        " | ETA[sec]: 0.756 "
       ]
      },
      {
       "output_type": "stream",
       "stream": "stderr",
       "text": [
        "\r",
        "[###############               ]"
       ]
      },
      {
       "output_type": "stream",
       "stream": "stderr",
       "text": [
        " | ETA[sec]: 0.700 "
       ]
      },
      {
       "output_type": "stream",
       "stream": "stderr",
       "text": [
        "\r",
        "[################              ]"
       ]
      },
      {
       "output_type": "stream",
       "stream": "stderr",
       "text": [
        " | ETA[sec]: 0.646 "
       ]
      },
      {
       "output_type": "stream",
       "stream": "stderr",
       "text": [
        "\r",
        "[#################             ]"
       ]
      },
      {
       "output_type": "stream",
       "stream": "stderr",
       "text": [
        " | ETA[sec]: 0.592 "
       ]
      },
      {
       "output_type": "stream",
       "stream": "stderr",
       "text": [
        "\r",
        "[##################            ]"
       ]
      },
      {
       "output_type": "stream",
       "stream": "stderr",
       "text": [
        " | ETA[sec]: 0.558 "
       ]
      },
      {
       "output_type": "stream",
       "stream": "stderr",
       "text": [
        "\r",
        "[###################           ]"
       ]
      },
      {
       "output_type": "stream",
       "stream": "stderr",
       "text": [
        " | ETA[sec]: 0.535 "
       ]
      },
      {
       "output_type": "stream",
       "stream": "stderr",
       "text": [
        "\r",
        "[####################          ]"
       ]
      },
      {
       "output_type": "stream",
       "stream": "stderr",
       "text": [
        " | ETA[sec]: 0.525 "
       ]
      },
      {
       "output_type": "stream",
       "stream": "stderr",
       "text": [
        "\r",
        "[#####################         ]"
       ]
      },
      {
       "output_type": "stream",
       "stream": "stderr",
       "text": [
        " | ETA[sec]: 0.478 "
       ]
      },
      {
       "output_type": "stream",
       "stream": "stderr",
       "text": [
        "\r",
        "[######################        ]"
       ]
      },
      {
       "output_type": "stream",
       "stream": "stderr",
       "text": [
        " | ETA[sec]: 0.420 "
       ]
      },
      {
       "output_type": "stream",
       "stream": "stderr",
       "text": [
        "\r",
        "[#######################       ]"
       ]
      },
      {
       "output_type": "stream",
       "stream": "stderr",
       "text": [
        " | ETA[sec]: 0.363 "
       ]
      },
      {
       "output_type": "stream",
       "stream": "stderr",
       "text": [
        "\r",
        "[########################      ]"
       ]
      },
      {
       "output_type": "stream",
       "stream": "stderr",
       "text": [
        " | ETA[sec]: 0.308 "
       ]
      },
      {
       "output_type": "stream",
       "stream": "stderr",
       "text": [
        "\r",
        "[#########################     ]"
       ]
      },
      {
       "output_type": "stream",
       "stream": "stderr",
       "text": [
        " | ETA[sec]: 0.254 "
       ]
      },
      {
       "output_type": "stream",
       "stream": "stderr",
       "text": [
        "\r",
        "[##########################    ]"
       ]
      },
      {
       "output_type": "stream",
       "stream": "stderr",
       "text": [
        " | ETA[sec]: 0.201 "
       ]
      },
      {
       "output_type": "stream",
       "stream": "stderr",
       "text": [
        "\r",
        "[###########################   ]"
       ]
      },
      {
       "output_type": "stream",
       "stream": "stderr",
       "text": [
        " | ETA[sec]: 0.149 "
       ]
      },
      {
       "output_type": "stream",
       "stream": "stderr",
       "text": [
        "\r",
        "[############################  ]"
       ]
      },
      {
       "output_type": "stream",
       "stream": "stderr",
       "text": [
        " | ETA[sec]: 0.099 "
       ]
      },
      {
       "output_type": "stream",
       "stream": "stderr",
       "text": [
        "\r",
        "[############################# ]"
       ]
      },
      {
       "output_type": "stream",
       "stream": "stderr",
       "text": [
        " | ETA[sec]: 0.049 "
       ]
      },
      {
       "output_type": "stream",
       "stream": "stderr",
       "text": [
        "\r",
        "[##############################]"
       ]
      },
      {
       "output_type": "stream",
       "stream": "stderr",
       "text": [
        " | ETA[sec]: 0.000 "
       ]
      },
      {
       "output_type": "stream",
       "stream": "stderr",
       "text": [
        "\n",
        "Total time elapsed: 1.468 sec\n"
       ]
      },
      {
       "output_type": "stream",
       "stream": "stdout",
       "text": [
        "Title: Job_1\n",
        "                      Started: 10/11/2014 01:16:25\n",
        "                      Finished: 10/11/2014 01:16:27\n",
        "                      Total time elapsed: 1.468 sec\n",
        "                      CPU %: 75.100000\n",
        "                      Memory %: 0.330734\n"
       ]
      }
     ],
     "prompt_number": 5
    },
    {
     "cell_type": "markdown",
     "metadata": {},
     "source": [
      "<a name='percent_cpu'></a>"
     ]
    },
    {
     "cell_type": "markdown",
     "metadata": {},
     "source": [
      "<br>\n",
      "<br>"
     ]
    },
    {
     "cell_type": "markdown",
     "metadata": {},
     "source": [
      "\n",
      "## Progress Bar/Percentage Indicator - Reporting CPU and memory usage"
     ]
    },
    {
     "cell_type": "markdown",
     "metadata": {},
     "source": [
      "[[back to section overview](#sections)]"
     ]
    },
    {
     "cell_type": "markdown",
     "metadata": {},
     "source": [
      "`monitor` (`bool`): default False. Monitors CPU and memory usage if True \n",
      "            (requires 'psutil' package)."
     ]
    },
    {
     "cell_type": "code",
     "collapsed": false,
     "input": [
      "n = 150000\n",
      "\n",
      "bar = pyprind.ProgBar(n, monitor=True)\n",
      "for i in range(n):\n",
      "    # do some computation\n",
      "    bar.update()\n",
      "print(bar)"
     ],
     "language": "python",
     "metadata": {},
     "outputs": [
      {
       "output_type": "stream",
       "stream": "stderr",
       "text": [
        "0%                          100%\n"
       ]
      },
      {
       "output_type": "stream",
       "stream": "stderr",
       "text": [
        "[                              ]"
       ]
      },
      {
       "output_type": "stream",
       "stream": "stderr",
       "text": [
        "\r",
        "[#                             ]"
       ]
      },
      {
       "output_type": "stream",
       "stream": "stderr",
       "text": [
        " | ETA[sec]: 1.375 "
       ]
      },
      {
       "output_type": "stream",
       "stream": "stderr",
       "text": [
        "\r",
        "[##                            ]"
       ]
      },
      {
       "output_type": "stream",
       "stream": "stderr",
       "text": [
        " | ETA[sec]: 1.176 "
       ]
      },
      {
       "output_type": "stream",
       "stream": "stderr",
       "text": [
        "\r",
        "[###                           ]"
       ]
      },
      {
       "output_type": "stream",
       "stream": "stderr",
       "text": [
        " | ETA[sec]: 1.053 "
       ]
      },
      {
       "output_type": "stream",
       "stream": "stderr",
       "text": [
        "\r",
        "[####                          ]"
       ]
      },
      {
       "output_type": "stream",
       "stream": "stderr",
       "text": [
        " | ETA[sec]: 0.987 "
       ]
      },
      {
       "output_type": "stream",
       "stream": "stderr",
       "text": [
        "\r",
        "[#####                         ]"
       ]
      },
      {
       "output_type": "stream",
       "stream": "stderr",
       "text": [
        " | ETA[sec]: 0.923 "
       ]
      },
      {
       "output_type": "stream",
       "stream": "stderr",
       "text": [
        "\r",
        "[######                        ]"
       ]
      },
      {
       "output_type": "stream",
       "stream": "stderr",
       "text": [
        " | ETA[sec]: 0.957 "
       ]
      },
      {
       "output_type": "stream",
       "stream": "stderr",
       "text": [
        "\r",
        "[#######                       ]"
       ]
      },
      {
       "output_type": "stream",
       "stream": "stderr",
       "text": [
        " | ETA[sec]: 0.912 "
       ]
      },
      {
       "output_type": "stream",
       "stream": "stderr",
       "text": [
        "\r",
        "[########                      ]"
       ]
      },
      {
       "output_type": "stream",
       "stream": "stderr",
       "text": [
        " | ETA[sec]: 0.866 "
       ]
      },
      {
       "output_type": "stream",
       "stream": "stderr",
       "text": [
        "\r",
        "[#########                     ]"
       ]
      },
      {
       "output_type": "stream",
       "stream": "stderr",
       "text": [
        " | ETA[sec]: 0.823 "
       ]
      },
      {
       "output_type": "stream",
       "stream": "stderr",
       "text": [
        "\r",
        "[##########                    ]"
       ]
      },
      {
       "output_type": "stream",
       "stream": "stderr",
       "text": [
        " | ETA[sec]: 0.782 "
       ]
      },
      {
       "output_type": "stream",
       "stream": "stderr",
       "text": [
        "\r",
        "[###########                   ]"
       ]
      },
      {
       "output_type": "stream",
       "stream": "stderr",
       "text": [
        " | ETA[sec]: 0.740 "
       ]
      },
      {
       "output_type": "stream",
       "stream": "stderr",
       "text": [
        "\r",
        "[############                  ]"
       ]
      },
      {
       "output_type": "stream",
       "stream": "stderr",
       "text": [
        " | ETA[sec]: 0.701 "
       ]
      },
      {
       "output_type": "stream",
       "stream": "stderr",
       "text": [
        "\r",
        "[#############                 ]"
       ]
      },
      {
       "output_type": "stream",
       "stream": "stderr",
       "text": [
        " | ETA[sec]: 0.661 "
       ]
      },
      {
       "output_type": "stream",
       "stream": "stderr",
       "text": [
        "\r",
        "[##############                ]"
       ]
      },
      {
       "output_type": "stream",
       "stream": "stderr",
       "text": [
        " | ETA[sec]: 0.620 "
       ]
      },
      {
       "output_type": "stream",
       "stream": "stderr",
       "text": [
        "\r",
        "[###############               ]"
       ]
      },
      {
       "output_type": "stream",
       "stream": "stderr",
       "text": [
        " | ETA[sec]: 0.580 "
       ]
      },
      {
       "output_type": "stream",
       "stream": "stderr",
       "text": [
        "\r",
        "[################              ]"
       ]
      },
      {
       "output_type": "stream",
       "stream": "stderr",
       "text": [
        " | ETA[sec]: 0.541 "
       ]
      },
      {
       "output_type": "stream",
       "stream": "stderr",
       "text": [
        "\r",
        "[#################             ]"
       ]
      },
      {
       "output_type": "stream",
       "stream": "stderr",
       "text": [
        " | ETA[sec]: 0.532 "
       ]
      },
      {
       "output_type": "stream",
       "stream": "stderr",
       "text": [
        "\r",
        "[##################            ]"
       ]
      },
      {
       "output_type": "stream",
       "stream": "stderr",
       "text": [
        " | ETA[sec]: 0.516 "
       ]
      },
      {
       "output_type": "stream",
       "stream": "stderr",
       "text": [
        "\r",
        "[###################           ]"
       ]
      },
      {
       "output_type": "stream",
       "stream": "stderr",
       "text": [
        " | ETA[sec]: 0.526 "
       ]
      },
      {
       "output_type": "stream",
       "stream": "stderr",
       "text": [
        "\r",
        "[####################          ]"
       ]
      },
      {
       "output_type": "stream",
       "stream": "stderr",
       "text": [
        " | ETA[sec]: 0.501 "
       ]
      },
      {
       "output_type": "stream",
       "stream": "stderr",
       "text": [
        "\r",
        "[#####################         ]"
       ]
      },
      {
       "output_type": "stream",
       "stream": "stderr",
       "text": [
        " | ETA[sec]: 0.482 "
       ]
      },
      {
       "output_type": "stream",
       "stream": "stderr",
       "text": [
        "\r",
        "[######################        ]"
       ]
      },
      {
       "output_type": "stream",
       "stream": "stderr",
       "text": [
        " | ETA[sec]: 0.454 "
       ]
      },
      {
       "output_type": "stream",
       "stream": "stderr",
       "text": [
        "\r",
        "[#######################       ]"
       ]
      },
      {
       "output_type": "stream",
       "stream": "stderr",
       "text": [
        " | ETA[sec]: 0.420 "
       ]
      },
      {
       "output_type": "stream",
       "stream": "stderr",
       "text": [
        "\r",
        "[########################      ]"
       ]
      },
      {
       "output_type": "stream",
       "stream": "stderr",
       "text": [
        " | ETA[sec]: 0.360 "
       ]
      },
      {
       "output_type": "stream",
       "stream": "stderr",
       "text": [
        "\r",
        "[#########################     ]"
       ]
      },
      {
       "output_type": "stream",
       "stream": "stderr",
       "text": [
        " | ETA[sec]: 0.295 "
       ]
      },
      {
       "output_type": "stream",
       "stream": "stderr",
       "text": [
        "\r",
        "[##########################    ]"
       ]
      },
      {
       "output_type": "stream",
       "stream": "stderr",
       "text": [
        " | ETA[sec]: 0.234 "
       ]
      },
      {
       "output_type": "stream",
       "stream": "stderr",
       "text": [
        "\r",
        "[###########################   ]"
       ]
      },
      {
       "output_type": "stream",
       "stream": "stderr",
       "text": [
        " | ETA[sec]: 0.174 "
       ]
      },
      {
       "output_type": "stream",
       "stream": "stderr",
       "text": [
        "\r",
        "[############################  ]"
       ]
      },
      {
       "output_type": "stream",
       "stream": "stderr",
       "text": [
        " | ETA[sec]: 0.114 "
       ]
      },
      {
       "output_type": "stream",
       "stream": "stderr",
       "text": [
        "\r",
        "[############################# ]"
       ]
      },
      {
       "output_type": "stream",
       "stream": "stderr",
       "text": [
        " | ETA[sec]: 0.057 "
       ]
      },
      {
       "output_type": "stream",
       "stream": "stderr",
       "text": [
        "\r",
        "[##############################]"
       ]
      },
      {
       "output_type": "stream",
       "stream": "stderr",
       "text": [
        " | ETA[sec]: 0.000 "
       ]
      },
      {
       "output_type": "stream",
       "stream": "stderr",
       "text": [
        "\n",
        "Total time elapsed: 1.677 sec\n"
       ]
      },
      {
       "output_type": "stream",
       "stream": "stdout",
       "text": [
        "Title: \n",
        "                      Started: 10/11/2014 01:16:27\n",
        "                      Finished: 10/11/2014 01:16:28\n",
        "                      Total time elapsed: 1.677 sec\n",
        "                      CPU %: 60.600000\n",
        "                      Memory %: 0.330782\n"
       ]
      }
     ],
     "prompt_number": 6
    },
    {
     "cell_type": "markdown",
     "metadata": {},
     "source": [
      "<a name='percent_cpu'></a>"
     ]
    },
    {
     "cell_type": "code",
     "collapsed": false,
     "input": [
      "n = 1500\n",
      "\n",
      "perc = pyprind.ProgPercent(n, monitor=True)\n",
      "for i in range(n):\n",
      "    # do some computation\n",
      "    perc.update()\n",
      "print(perc)"
     ],
     "language": "python",
     "metadata": {},
     "outputs": [
      {
       "output_type": "stream",
       "stream": "stderr",
       "text": [
        "\r",
        "[  0 %] elapsed[sec]: 0.000"
       ]
      },
      {
       "output_type": "stream",
       "stream": "stderr",
       "text": [
        "\r",
        "[  0 %] elapsed[sec]: 0.002 | ETA[sec]: 3.745 "
       ]
      },
      {
       "output_type": "stream",
       "stream": "stderr",
       "text": [
        "\r",
        "[  0 %] elapsed[sec]: 0.003 | ETA[sec]: 2.410 "
       ]
      },
      {
       "output_type": "stream",
       "stream": "stderr",
       "text": [
        "\r",
        "[  0 %] elapsed[sec]: 0.004 | ETA[sec]: 1.826 "
       ]
      },
      {
       "output_type": "stream",
       "stream": "stderr",
       "text": [
        "\r",
        "[  0 %] elapsed[sec]: 0.004 | ETA[sec]: 1.564 "
       ]
      },
      {
       "output_type": "stream",
       "stream": "stderr",
       "text": [
        "\r",
        "[  0 %] elapsed[sec]: 0.005 | ETA[sec]: 1.412 "
       ]
      },
      {
       "output_type": "stream",
       "stream": "stderr",
       "text": [
        "\r",
        "[  0 %] elapsed[sec]: 0.005 | ETA[sec]: 1.302 "
       ]
      },
      {
       "output_type": "stream",
       "stream": "stderr",
       "text": [
        "\r",
        "[  0 %] elapsed[sec]: 0.006 | ETA[sec]: 1.218 "
       ]
      },
      {
       "output_type": "stream",
       "stream": "stderr",
       "text": [
        "\r",
        "[  0 %] elapsed[sec]: 0.006 | ETA[sec]: 1.201 "
       ]
      },
      {
       "output_type": "stream",
       "stream": "stderr",
       "text": [
        "\r",
        "[  0 %] elapsed[sec]: 0.007 | ETA[sec]: 1.138 "
       ]
      },
      {
       "output_type": "stream",
       "stream": "stderr",
       "text": [
        "\r",
        "[  0 %] elapsed[sec]: 0.007 | ETA[sec]: 1.081 "
       ]
      },
      {
       "output_type": "stream",
       "stream": "stderr",
       "text": [
        "\r",
        "[  0 %] elapsed[sec]: 0.008 | ETA[sec]: 1.036 "
       ]
      },
      {
       "output_type": "stream",
       "stream": "stderr",
       "text": [
        "\r",
        "[  0 %] elapsed[sec]: 0.008 | ETA[sec]: 0.996 "
       ]
      },
      {
       "output_type": "stream",
       "stream": "stderr",
       "text": [
        "\r",
        "[  0 %] elapsed[sec]: 0.008 | ETA[sec]: 0.962 "
       ]
      },
      {
       "output_type": "stream",
       "stream": "stderr",
       "text": [
        "\r",
        "[  0 %] elapsed[sec]: 0.009 | ETA[sec]: 0.934 "
       ]
      },
      {
       "output_type": "stream",
       "stream": "stderr",
       "text": [
        "\r",
        "[  1 %] elapsed[sec]: 0.009 | ETA[sec]: 0.909 "
       ]
      },
      {
       "output_type": "stream",
       "stream": "stderr",
       "text": [
        "\r",
        "[  1 %] elapsed[sec]: 0.010 | ETA[sec]: 0.887 "
       ]
      },
      {
       "output_type": "stream",
       "stream": "stderr",
       "text": [
        "\r",
        "[  1 %] elapsed[sec]: 0.010 | ETA[sec]: 0.868 "
       ]
      },
      {
       "output_type": "stream",
       "stream": "stderr",
       "text": [
        "\r",
        "[  1 %] elapsed[sec]: 0.010 | ETA[sec]: 0.850 "
       ]
      },
      {
       "output_type": "stream",
       "stream": "stderr",
       "text": [
        "\r",
        "[  1 %] elapsed[sec]: 0.011 | ETA[sec]: 0.888 "
       ]
      },
      {
       "output_type": "stream",
       "stream": "stderr",
       "text": [
        "\r",
        "[  1 %] elapsed[sec]: 0.012 | ETA[sec]: 0.882 "
       ]
      },
      {
       "output_type": "stream",
       "stream": "stderr",
       "text": [
        "\r",
        "[  1 %] elapsed[sec]: 0.012 | ETA[sec]: 0.877 "
       ]
      },
      {
       "output_type": "stream",
       "stream": "stderr",
       "text": [
        "\r",
        "[  1 %] elapsed[sec]: 0.013 | ETA[sec]: 0.871 "
       ]
      },
      {
       "output_type": "stream",
       "stream": "stderr",
       "text": [
        "\r",
        "[  1 %] elapsed[sec]: 0.013 | ETA[sec]: 0.864 "
       ]
      },
      {
       "output_type": "stream",
       "stream": "stderr",
       "text": [
        "\r",
        "[  1 %] elapsed[sec]: 0.014 | ETA[sec]: 0.861 "
       ]
      },
      {
       "output_type": "stream",
       "stream": "stderr",
       "text": [
        "\r",
        "[  1 %] elapsed[sec]: 0.014 | ETA[sec]: 0.855 "
       ]
      },
      {
       "output_type": "stream",
       "stream": "stderr",
       "text": [
        "\r",
        "[  1 %] elapsed[sec]: 0.015 | ETA[sec]: 0.849 "
       ]
      },
      {
       "output_type": "stream",
       "stream": "stderr",
       "text": [
        "\r",
        "[  1 %] elapsed[sec]: 0.015 | ETA[sec]: 0.844 "
       ]
      },
      {
       "output_type": "stream",
       "stream": "stderr",
       "text": [
        "\r",
        "[  1 %] elapsed[sec]: 0.016 | ETA[sec]: 0.839 "
       ]
      },
      {
       "output_type": "stream",
       "stream": "stderr",
       "text": [
        "\r",
        "[  1 %] elapsed[sec]: 0.016 | ETA[sec]: 0.835 "
       ]
      },
      {
       "output_type": "stream",
       "stream": "stderr",
       "text": [
        "\r",
        "[  2 %] elapsed[sec]: 0.017 | ETA[sec]: 0.832 "
       ]
      },
      {
       "output_type": "stream",
       "stream": "stderr",
       "text": [
        "\r",
        "[  2 %] elapsed[sec]: 0.017 | ETA[sec]: 0.828 "
       ]
      },
      {
       "output_type": "stream",
       "stream": "stderr",
       "text": [
        "\r",
        "[  2 %] elapsed[sec]: 0.018 | ETA[sec]: 0.824 "
       ]
      },
      {
       "output_type": "stream",
       "stream": "stderr",
       "text": [
        "\r",
        "[  2 %] elapsed[sec]: 0.021 | ETA[sec]: 0.924 "
       ]
      },
      {
       "output_type": "stream",
       "stream": "stderr",
       "text": [
        "\r",
        "[  2 %] elapsed[sec]: 0.021 | ETA[sec]: 0.920 "
       ]
      },
      {
       "output_type": "stream",
       "stream": "stderr",
       "text": [
        "\r",
        "[  2 %] elapsed[sec]: 0.022 | ETA[sec]: 0.909 "
       ]
      },
      {
       "output_type": "stream",
       "stream": "stderr",
       "text": [
        "\r",
        "[  2 %] elapsed[sec]: 0.022 | ETA[sec]: 0.899 "
       ]
      },
      {
       "output_type": "stream",
       "stream": "stderr",
       "text": [
        "\r",
        "[  2 %] elapsed[sec]: 0.023 | ETA[sec]: 0.890 "
       ]
      },
      {
       "output_type": "stream",
       "stream": "stderr",
       "text": [
        "\r",
        "[  2 %] elapsed[sec]: 0.023 | ETA[sec]: 0.882 "
       ]
      },
      {
       "output_type": "stream",
       "stream": "stderr",
       "text": [
        "\r",
        "[  2 %] elapsed[sec]: 0.023 | ETA[sec]: 0.873 "
       ]
      },
      {
       "output_type": "stream",
       "stream": "stderr",
       "text": [
        "\r",
        "[  2 %] elapsed[sec]: 0.024 | ETA[sec]: 0.864 "
       ]
      },
      {
       "output_type": "stream",
       "stream": "stderr",
       "text": [
        "\r",
        "[  2 %] elapsed[sec]: 0.024 | ETA[sec]: 0.856 "
       ]
      },
      {
       "output_type": "stream",
       "stream": "stderr",
       "text": [
        "\r",
        "[  2 %] elapsed[sec]: 0.024 | ETA[sec]: 0.849 "
       ]
      },
      {
       "output_type": "stream",
       "stream": "stderr",
       "text": [
        "\r",
        "[  2 %] elapsed[sec]: 0.025 | ETA[sec]: 0.841 "
       ]
      },
      {
       "output_type": "stream",
       "stream": "stderr",
       "text": [
        "\r",
        "[  2 %] elapsed[sec]: 0.025 | ETA[sec]: 0.834 "
       ]
      },
      {
       "output_type": "stream",
       "stream": "stderr",
       "text": [
        "\r",
        "[  3 %] elapsed[sec]: 0.026 | ETA[sec]: 0.827 "
       ]
      },
      {
       "output_type": "stream",
       "stream": "stderr",
       "text": [
        "\r",
        "[  3 %] elapsed[sec]: 0.026 | ETA[sec]: 0.820 "
       ]
      },
      {
       "output_type": "stream",
       "stream": "stderr",
       "text": [
        "\r",
        "[  3 %] elapsed[sec]: 0.026 | ETA[sec]: 0.814 "
       ]
      },
      {
       "output_type": "stream",
       "stream": "stderr",
       "text": [
        "\r",
        "[  3 %] elapsed[sec]: 0.027 | ETA[sec]: 0.808 "
       ]
      },
      {
       "output_type": "stream",
       "stream": "stderr",
       "text": [
        "\r",
        "[  3 %] elapsed[sec]: 0.027 | ETA[sec]: 0.802 "
       ]
      },
      {
       "output_type": "stream",
       "stream": "stderr",
       "text": [
        "\r",
        "[  3 %] elapsed[sec]: 0.027 | ETA[sec]: 0.797 "
       ]
      },
      {
       "output_type": "stream",
       "stream": "stderr",
       "text": [
        "\r",
        "[  3 %] elapsed[sec]: 0.028 | ETA[sec]: 0.791 "
       ]
      },
      {
       "output_type": "stream",
       "stream": "stderr",
       "text": [
        "\r",
        "[  3 %] elapsed[sec]: 0.028 | ETA[sec]: 0.786 "
       ]
      },
      {
       "output_type": "stream",
       "stream": "stderr",
       "text": [
        "\r",
        "[  3 %] elapsed[sec]: 0.029 | ETA[sec]: 0.780 "
       ]
      },
      {
       "output_type": "stream",
       "stream": "stderr",
       "text": [
        "\r",
        "[  3 %] elapsed[sec]: 0.029 | ETA[sec]: 0.776 "
       ]
      },
      {
       "output_type": "stream",
       "stream": "stderr",
       "text": [
        "\r",
        "[  3 %] elapsed[sec]: 0.029 | ETA[sec]: 0.771 "
       ]
      },
      {
       "output_type": "stream",
       "stream": "stderr",
       "text": [
        "\r",
        "[  3 %] elapsed[sec]: 0.030 | ETA[sec]: 0.766 "
       ]
      },
      {
       "output_type": "stream",
       "stream": "stderr",
       "text": [
        "\r",
        "[  3 %] elapsed[sec]: 0.030 | ETA[sec]: 0.763 "
       ]
      },
      {
       "output_type": "stream",
       "stream": "stderr",
       "text": [
        "\r",
        "[  3 %] elapsed[sec]: 0.035 | ETA[sec]: 0.862 "
       ]
      },
      {
       "output_type": "stream",
       "stream": "stderr",
       "text": [
        "\r",
        "[  3 %] elapsed[sec]: 0.035 | ETA[sec]: 0.863 "
       ]
      },
      {
       "output_type": "stream",
       "stream": "stderr",
       "text": [
        "\r",
        "[  4 %] elapsed[sec]: 0.036 | ETA[sec]: 0.861 "
       ]
      },
      {
       "output_type": "stream",
       "stream": "stderr",
       "text": [
        "\r",
        "[  4 %] elapsed[sec]: 0.036 | ETA[sec]: 0.858 "
       ]
      },
      {
       "output_type": "stream",
       "stream": "stderr",
       "text": [
        "\r",
        "[  4 %] elapsed[sec]: 0.037 | ETA[sec]: 0.855 "
       ]
      },
      {
       "output_type": "stream",
       "stream": "stderr",
       "text": [
        "\r",
        "[  4 %] elapsed[sec]: 0.037 | ETA[sec]: 0.853 "
       ]
      },
      {
       "output_type": "stream",
       "stream": "stderr",
       "text": [
        "\r",
        "[  4 %] elapsed[sec]: 0.038 | ETA[sec]: 0.850 "
       ]
      },
      {
       "output_type": "stream",
       "stream": "stderr",
       "text": [
        "\r",
        "[  4 %] elapsed[sec]: 0.038 | ETA[sec]: 0.848 "
       ]
      },
      {
       "output_type": "stream",
       "stream": "stderr",
       "text": [
        "\r",
        "[  4 %] elapsed[sec]: 0.039 | ETA[sec]: 0.845 "
       ]
      },
      {
       "output_type": "stream",
       "stream": "stderr",
       "text": [
        "\r",
        "[  4 %] elapsed[sec]: 0.039 | ETA[sec]: 0.843 "
       ]
      },
      {
       "output_type": "stream",
       "stream": "stderr",
       "text": [
        "\r",
        "[  4 %] elapsed[sec]: 0.040 | ETA[sec]: 0.840 "
       ]
      },
      {
       "output_type": "stream",
       "stream": "stderr",
       "text": [
        "\r",
        "[  4 %] elapsed[sec]: 0.040 | ETA[sec]: 0.839 "
       ]
      },
      {
       "output_type": "stream",
       "stream": "stderr",
       "text": [
        "\r",
        "[  4 %] elapsed[sec]: 0.041 | ETA[sec]: 0.837 "
       ]
      },
      {
       "output_type": "stream",
       "stream": "stderr",
       "text": [
        "\r",
        "[  4 %] elapsed[sec]: 0.041 | ETA[sec]: 0.834 "
       ]
      },
      {
       "output_type": "stream",
       "stream": "stderr",
       "text": [
        "\r",
        "[  4 %] elapsed[sec]: 0.042 | ETA[sec]: 0.831 "
       ]
      },
      {
       "output_type": "stream",
       "stream": "stderr",
       "text": [
        "\r",
        "[  4 %] elapsed[sec]: 0.042 | ETA[sec]: 0.829 "
       ]
      },
      {
       "output_type": "stream",
       "stream": "stderr",
       "text": [
        "\r",
        "[  4 %] elapsed[sec]: 0.043 | ETA[sec]: 0.826 "
       ]
      },
      {
       "output_type": "stream",
       "stream": "stderr",
       "text": [
        "\r",
        "[  5 %] elapsed[sec]: 0.043 | ETA[sec]: 0.823 "
       ]
      },
      {
       "output_type": "stream",
       "stream": "stderr",
       "text": [
        "\r",
        "[  5 %] elapsed[sec]: 0.044 | ETA[sec]: 0.821 "
       ]
      },
      {
       "output_type": "stream",
       "stream": "stderr",
       "text": [
        "\r",
        "[  5 %] elapsed[sec]: 0.044 | ETA[sec]: 0.821 "
       ]
      },
      {
       "output_type": "stream",
       "stream": "stderr",
       "text": [
        "\r",
        "[  5 %] elapsed[sec]: 0.045 | ETA[sec]: 0.819 "
       ]
      },
      {
       "output_type": "stream",
       "stream": "stderr",
       "text": [
        "\r",
        "[  5 %] elapsed[sec]: 0.045 | ETA[sec]: 0.817 "
       ]
      },
      {
       "output_type": "stream",
       "stream": "stderr",
       "text": [
        "\r",
        "[  5 %] elapsed[sec]: 0.046 | ETA[sec]: 0.815 "
       ]
      },
      {
       "output_type": "stream",
       "stream": "stderr",
       "text": [
        "\r",
        "[  5 %] elapsed[sec]: 0.046 | ETA[sec]: 0.813 "
       ]
      },
      {
       "output_type": "stream",
       "stream": "stderr",
       "text": [
        "\r",
        "[  5 %] elapsed[sec]: 0.048 | ETA[sec]: 0.831 "
       ]
      },
      {
       "output_type": "stream",
       "stream": "stderr",
       "text": [
        "\r",
        "[  5 %] elapsed[sec]: 0.050 | ETA[sec]: 0.847 "
       ]
      },
      {
       "output_type": "stream",
       "stream": "stderr",
       "text": [
        "\r",
        "[  5 %] elapsed[sec]: 0.050 | ETA[sec]: 0.845 "
       ]
      },
      {
       "output_type": "stream",
       "stream": "stderr",
       "text": [
        "\r",
        "[  5 %] elapsed[sec]: 0.051 | ETA[sec]: 0.841 "
       ]
      },
      {
       "output_type": "stream",
       "stream": "stderr",
       "text": [
        "\r",
        "[  5 %] elapsed[sec]: 0.051 | ETA[sec]: 0.837 "
       ]
      },
      {
       "output_type": "stream",
       "stream": "stderr",
       "text": [
        "\r",
        "[  5 %] elapsed[sec]: 0.051 | ETA[sec]: 0.833 "
       ]
      },
      {
       "output_type": "stream",
       "stream": "stderr",
       "text": [
        "\r",
        "[  5 %] elapsed[sec]: 0.052 | ETA[sec]: 0.829 "
       ]
      },
      {
       "output_type": "stream",
       "stream": "stderr",
       "text": [
        "\r",
        "[  5 %] elapsed[sec]: 0.052 | ETA[sec]: 0.826 "
       ]
      },
      {
       "output_type": "stream",
       "stream": "stderr",
       "text": [
        "\r",
        "[  6 %] elapsed[sec]: 0.052 | ETA[sec]: 0.822 "
       ]
      },
      {
       "output_type": "stream",
       "stream": "stderr",
       "text": [
        "\r",
        "[  6 %] elapsed[sec]: 0.053 | ETA[sec]: 0.818 "
       ]
      },
      {
       "output_type": "stream",
       "stream": "stderr",
       "text": [
        "\r",
        "[  6 %] elapsed[sec]: 0.053 | ETA[sec]: 0.814 "
       ]
      },
      {
       "output_type": "stream",
       "stream": "stderr",
       "text": [
        "\r",
        "[  6 %] elapsed[sec]: 0.054 | ETA[sec]: 0.811 "
       ]
      },
      {
       "output_type": "stream",
       "stream": "stderr",
       "text": [
        "\r",
        "[  6 %] elapsed[sec]: 0.054 | ETA[sec]: 0.807 "
       ]
      },
      {
       "output_type": "stream",
       "stream": "stderr",
       "text": [
        "\r",
        "[  6 %] elapsed[sec]: 0.054 | ETA[sec]: 0.804 "
       ]
      },
      {
       "output_type": "stream",
       "stream": "stderr",
       "text": [
        "\r",
        "[  6 %] elapsed[sec]: 0.055 | ETA[sec]: 0.801 "
       ]
      },
      {
       "output_type": "stream",
       "stream": "stderr",
       "text": [
        "\r",
        "[  6 %] elapsed[sec]: 0.055 | ETA[sec]: 0.797 "
       ]
      },
      {
       "output_type": "stream",
       "stream": "stderr",
       "text": [
        "\r",
        "[  6 %] elapsed[sec]: 0.055 | ETA[sec]: 0.794 "
       ]
      },
      {
       "output_type": "stream",
       "stream": "stderr",
       "text": [
        "\r",
        "[  6 %] elapsed[sec]: 0.056 | ETA[sec]: 0.791 "
       ]
      },
      {
       "output_type": "stream",
       "stream": "stderr",
       "text": [
        "\r",
        "[  6 %] elapsed[sec]: 0.056 | ETA[sec]: 0.788 "
       ]
      },
      {
       "output_type": "stream",
       "stream": "stderr",
       "text": [
        "\r",
        "[  6 %] elapsed[sec]: 0.057 | ETA[sec]: 0.784 "
       ]
      },
      {
       "output_type": "stream",
       "stream": "stderr",
       "text": [
        "\r",
        "[  6 %] elapsed[sec]: 0.057 | ETA[sec]: 0.781 "
       ]
      },
      {
       "output_type": "stream",
       "stream": "stderr",
       "text": [
        "\r",
        "[  6 %] elapsed[sec]: 0.057 | ETA[sec]: 0.778 "
       ]
      },
      {
       "output_type": "stream",
       "stream": "stderr",
       "text": [
        "\r",
        "[  6 %] elapsed[sec]: 0.058 | ETA[sec]: 0.775 "
       ]
      },
      {
       "output_type": "stream",
       "stream": "stderr",
       "text": [
        "\r",
        "[  7 %] elapsed[sec]: 0.058 | ETA[sec]: 0.772 "
       ]
      },
      {
       "output_type": "stream",
       "stream": "stderr",
       "text": [
        "\r",
        "[  7 %] elapsed[sec]: 0.058 | ETA[sec]: 0.769 "
       ]
      },
      {
       "output_type": "stream",
       "stream": "stderr",
       "text": [
        "\r",
        "[  7 %] elapsed[sec]: 0.059 | ETA[sec]: 0.766 "
       ]
      },
      {
       "output_type": "stream",
       "stream": "stderr",
       "text": [
        "\r",
        "[  7 %] elapsed[sec]: 0.065 | ETA[sec]: 0.841 "
       ]
      },
      {
       "output_type": "stream",
       "stream": "stderr",
       "text": [
        "\r",
        "[  7 %] elapsed[sec]: 0.066 | ETA[sec]: 0.838 "
       ]
      },
      {
       "output_type": "stream",
       "stream": "stderr",
       "text": [
        "\r",
        "[  7 %] elapsed[sec]: 0.066 | ETA[sec]: 0.835 "
       ]
      },
      {
       "output_type": "stream",
       "stream": "stderr",
       "text": [
        "\r",
        "[  7 %] elapsed[sec]: 0.066 | ETA[sec]: 0.832 "
       ]
      },
      {
       "output_type": "stream",
       "stream": "stderr",
       "text": [
        "\r",
        "[  7 %] elapsed[sec]: 0.067 | ETA[sec]: 0.829 "
       ]
      },
      {
       "output_type": "stream",
       "stream": "stderr",
       "text": [
        "\r",
        "[  7 %] elapsed[sec]: 0.067 | ETA[sec]: 0.826 "
       ]
      },
      {
       "output_type": "stream",
       "stream": "stderr",
       "text": [
        "\r",
        "[  7 %] elapsed[sec]: 0.068 | ETA[sec]: 0.823 "
       ]
      },
      {
       "output_type": "stream",
       "stream": "stderr",
       "text": [
        "\r",
        "[  7 %] elapsed[sec]: 0.068 | ETA[sec]: 0.822 "
       ]
      },
      {
       "output_type": "stream",
       "stream": "stderr",
       "text": [
        "\r",
        "[  7 %] elapsed[sec]: 0.069 | ETA[sec]: 0.820 "
       ]
      },
      {
       "output_type": "stream",
       "stream": "stderr",
       "text": [
        "\r",
        "[  7 %] elapsed[sec]: 0.069 | ETA[sec]: 0.818 "
       ]
      },
      {
       "output_type": "stream",
       "stream": "stderr",
       "text": [
        "\r",
        "[  7 %] elapsed[sec]: 0.070 | ETA[sec]: 0.817 "
       ]
      },
      {
       "output_type": "stream",
       "stream": "stderr",
       "text": [
        "\r",
        "[  7 %] elapsed[sec]: 0.070 | ETA[sec]: 0.815 "
       ]
      },
      {
       "output_type": "stream",
       "stream": "stderr",
       "text": [
        "\r",
        "[  8 %] elapsed[sec]: 0.071 | ETA[sec]: 0.813 "
       ]
      },
      {
       "output_type": "stream",
       "stream": "stderr",
       "text": [
        "\r",
        "[  8 %] elapsed[sec]: 0.071 | ETA[sec]: 0.811 "
       ]
      },
      {
       "output_type": "stream",
       "stream": "stderr",
       "text": [
        "\r",
        "[  8 %] elapsed[sec]: 0.072 | ETA[sec]: 0.809 "
       ]
      },
      {
       "output_type": "stream",
       "stream": "stderr",
       "text": [
        "\r",
        "[  8 %] elapsed[sec]: 0.072 | ETA[sec]: 0.807 "
       ]
      },
      {
       "output_type": "stream",
       "stream": "stderr",
       "text": [
        "\r",
        "[  8 %] elapsed[sec]: 0.073 | ETA[sec]: 0.806 "
       ]
      },
      {
       "output_type": "stream",
       "stream": "stderr",
       "text": [
        "\r",
        "[  8 %] elapsed[sec]: 0.073 | ETA[sec]: 0.804 "
       ]
      },
      {
       "output_type": "stream",
       "stream": "stderr",
       "text": [
        "\r",
        "[  8 %] elapsed[sec]: 0.074 | ETA[sec]: 0.805 "
       ]
      },
      {
       "output_type": "stream",
       "stream": "stderr",
       "text": [
        "\r",
        "[  8 %] elapsed[sec]: 0.074 | ETA[sec]: 0.803 "
       ]
      },
      {
       "output_type": "stream",
       "stream": "stderr",
       "text": [
        "\r",
        "[  8 %] elapsed[sec]: 0.075 | ETA[sec]: 0.800 "
       ]
      },
      {
       "output_type": "stream",
       "stream": "stderr",
       "text": [
        "\r",
        "[  8 %] elapsed[sec]: 0.075 | ETA[sec]: 0.798 "
       ]
      },
      {
       "output_type": "stream",
       "stream": "stderr",
       "text": [
        "\r",
        "[  8 %] elapsed[sec]: 0.075 | ETA[sec]: 0.795 "
       ]
      },
      {
       "output_type": "stream",
       "stream": "stderr",
       "text": [
        "\r",
        "[  8 %] elapsed[sec]: 0.076 | ETA[sec]: 0.820 "
       ]
      },
      {
       "output_type": "stream",
       "stream": "stderr",
       "text": [
        "\r",
        "[  8 %] elapsed[sec]: 0.079 | ETA[sec]: 0.819 "
       ]
      },
      {
       "output_type": "stream",
       "stream": "stderr",
       "text": [
        "\r",
        "[  8 %] elapsed[sec]: 0.079 | ETA[sec]: 0.817 "
       ]
      },
      {
       "output_type": "stream",
       "stream": "stderr",
       "text": [
        "\r",
        "[  8 %] elapsed[sec]: 0.080 | ETA[sec]: 0.814 "
       ]
      },
      {
       "output_type": "stream",
       "stream": "stderr",
       "text": [
        "\r",
        "[  9 %] elapsed[sec]: 0.080 | ETA[sec]: 0.811 "
       ]
      },
      {
       "output_type": "stream",
       "stream": "stderr",
       "text": [
        "\r",
        "[  9 %] elapsed[sec]: 0.081 | ETA[sec]: 0.808 "
       ]
      },
      {
       "output_type": "stream",
       "stream": "stderr",
       "text": [
        "\r",
        "[  9 %] elapsed[sec]: 0.081 | ETA[sec]: 0.806 "
       ]
      },
      {
       "output_type": "stream",
       "stream": "stderr",
       "text": [
        "\r",
        "[  9 %] elapsed[sec]: 0.081 | ETA[sec]: 0.803 "
       ]
      },
      {
       "output_type": "stream",
       "stream": "stderr",
       "text": [
        "\r",
        "[  9 %] elapsed[sec]: 0.082 | ETA[sec]: 0.800 "
       ]
      },
      {
       "output_type": "stream",
       "stream": "stderr",
       "text": [
        "\r",
        "[  9 %] elapsed[sec]: 0.082 | ETA[sec]: 0.798 "
       ]
      },
      {
       "output_type": "stream",
       "stream": "stderr",
       "text": [
        "\r",
        "[  9 %] elapsed[sec]: 0.082 | ETA[sec]: 0.795 "
       ]
      },
      {
       "output_type": "stream",
       "stream": "stderr",
       "text": [
        "\r",
        "[  9 %] elapsed[sec]: 0.083 | ETA[sec]: 0.793 "
       ]
      },
      {
       "output_type": "stream",
       "stream": "stderr",
       "text": [
        "\r",
        "[  9 %] elapsed[sec]: 0.083 | ETA[sec]: 0.790 "
       ]
      },
      {
       "output_type": "stream",
       "stream": "stderr",
       "text": [
        "\r",
        "[  9 %] elapsed[sec]: 0.084 | ETA[sec]: 0.787 "
       ]
      },
      {
       "output_type": "stream",
       "stream": "stderr",
       "text": [
        "\r",
        "[  9 %] elapsed[sec]: 0.084 | ETA[sec]: 0.785 "
       ]
      },
      {
       "output_type": "stream",
       "stream": "stderr",
       "text": [
        "\r",
        "[  9 %] elapsed[sec]: 0.085 | ETA[sec]: 0.785 "
       ]
      },
      {
       "output_type": "stream",
       "stream": "stderr",
       "text": [
        "\r",
        "[  9 %] elapsed[sec]: 0.085 | ETA[sec]: 0.785 "
       ]
      },
      {
       "output_type": "stream",
       "stream": "stderr",
       "text": [
        "\r",
        "[  9 %] elapsed[sec]: 0.086 | ETA[sec]: 0.784 "
       ]
      },
      {
       "output_type": "stream",
       "stream": "stderr",
       "text": [
        "\r",
        "[  9 %] elapsed[sec]: 0.086 | ETA[sec]: 0.782 "
       ]
      },
      {
       "output_type": "stream",
       "stream": "stderr",
       "text": [
        "\r",
        "[ 10 %] elapsed[sec]: 0.087 | ETA[sec]: 0.782 "
       ]
      },
      {
       "output_type": "stream",
       "stream": "stderr",
       "text": [
        "\r",
        "[ 10 %] elapsed[sec]: 0.087 | ETA[sec]: 0.781 "
       ]
      },
      {
       "output_type": "stream",
       "stream": "stderr",
       "text": [
        "\r",
        "[ 10 %] elapsed[sec]: 0.088 | ETA[sec]: 0.779 "
       ]
      },
      {
       "output_type": "stream",
       "stream": "stderr",
       "text": [
        "\r",
        "[ 10 %] elapsed[sec]: 0.088 | ETA[sec]: 0.777 "
       ]
      },
      {
       "output_type": "stream",
       "stream": "stderr",
       "text": [
        "\r",
        "[ 10 %] elapsed[sec]: 0.089 | ETA[sec]: 0.775 "
       ]
      },
      {
       "output_type": "stream",
       "stream": "stderr",
       "text": [
        "\r",
        "[ 10 %] elapsed[sec]: 0.089 | ETA[sec]: 0.774 "
       ]
      },
      {
       "output_type": "stream",
       "stream": "stderr",
       "text": [
        "\r",
        "[ 10 %] elapsed[sec]: 0.095 | ETA[sec]: 0.816 "
       ]
      },
      {
       "output_type": "stream",
       "stream": "stderr",
       "text": [
        "\r",
        "[ 10 %] elapsed[sec]: 0.095 | ETA[sec]: 0.816 "
       ]
      },
      {
       "output_type": "stream",
       "stream": "stderr",
       "text": [
        "\r",
        "[ 10 %] elapsed[sec]: 0.096 | ETA[sec]: 0.814 "
       ]
      },
      {
       "output_type": "stream",
       "stream": "stderr",
       "text": [
        "\r",
        "[ 10 %] elapsed[sec]: 0.097 | ETA[sec]: 0.814 "
       ]
      },
      {
       "output_type": "stream",
       "stream": "stderr",
       "text": [
        "\r",
        "[ 10 %] elapsed[sec]: 0.098 | ETA[sec]: 0.822 "
       ]
      },
      {
       "output_type": "stream",
       "stream": "stderr",
       "text": [
        "\r",
        "[ 10 %] elapsed[sec]: 0.099 | ETA[sec]: 0.821 "
       ]
      },
      {
       "output_type": "stream",
       "stream": "stderr",
       "text": [
        "\r",
        "[ 10 %] elapsed[sec]: 0.099 | ETA[sec]: 0.819 "
       ]
      },
      {
       "output_type": "stream",
       "stream": "stderr",
       "text": [
        "\r",
        "[ 10 %] elapsed[sec]: 0.100 | ETA[sec]: 0.817 "
       ]
      },
      {
       "output_type": "stream",
       "stream": "stderr",
       "text": [
        "\r",
        "[ 10 %] elapsed[sec]: 0.100 | ETA[sec]: 0.814 "
       ]
      },
      {
       "output_type": "stream",
       "stream": "stderr",
       "text": [
        "\r",
        "[ 11 %] elapsed[sec]: 0.100 | ETA[sec]: 0.813 "
       ]
      },
      {
       "output_type": "stream",
       "stream": "stderr",
       "text": [
        "\r",
        "[ 11 %] elapsed[sec]: 0.101 | ETA[sec]: 0.812 "
       ]
      },
      {
       "output_type": "stream",
       "stream": "stderr",
       "text": [
        "\r",
        "[ 11 %] elapsed[sec]: 0.101 | ETA[sec]: 0.811 "
       ]
      },
      {
       "output_type": "stream",
       "stream": "stderr",
       "text": [
        "\r",
        "[ 11 %] elapsed[sec]: 0.102 | ETA[sec]: 0.809 "
       ]
      },
      {
       "output_type": "stream",
       "stream": "stderr",
       "text": [
        "\r",
        "[ 11 %] elapsed[sec]: 0.103 | ETA[sec]: 0.807 "
       ]
      },
      {
       "output_type": "stream",
       "stream": "stderr",
       "text": [
        "\r",
        "[ 11 %] elapsed[sec]: 0.103 | ETA[sec]: 0.805 "
       ]
      },
      {
       "output_type": "stream",
       "stream": "stderr",
       "text": [
        "\r",
        "[ 11 %] elapsed[sec]: 0.103 | ETA[sec]: 0.804 "
       ]
      },
      {
       "output_type": "stream",
       "stream": "stderr",
       "text": [
        "\r",
        "[ 11 %] elapsed[sec]: 0.104 | ETA[sec]: 0.802 "
       ]
      },
      {
       "output_type": "stream",
       "stream": "stderr",
       "text": [
        "\r",
        "[ 11 %] elapsed[sec]: 0.104 | ETA[sec]: 0.800 "
       ]
      },
      {
       "output_type": "stream",
       "stream": "stderr",
       "text": [
        "\r",
        "[ 11 %] elapsed[sec]: 0.105 | ETA[sec]: 0.799 "
       ]
      },
      {
       "output_type": "stream",
       "stream": "stderr",
       "text": [
        "\r",
        "[ 11 %] elapsed[sec]: 0.105 | ETA[sec]: 0.797 "
       ]
      },
      {
       "output_type": "stream",
       "stream": "stderr",
       "text": [
        "\r",
        "[ 11 %] elapsed[sec]: 0.106 | ETA[sec]: 0.795 "
       ]
      },
      {
       "output_type": "stream",
       "stream": "stderr",
       "text": [
        "\r",
        "[ 11 %] elapsed[sec]: 0.106 | ETA[sec]: 0.793 "
       ]
      },
      {
       "output_type": "stream",
       "stream": "stderr",
       "text": [
        "\r",
        "[ 11 %] elapsed[sec]: 0.107 | ETA[sec]: 0.792 "
       ]
      },
      {
       "output_type": "stream",
       "stream": "stderr",
       "text": [
        "\r",
        "[ 11 %] elapsed[sec]: 0.107 | ETA[sec]: 0.793 "
       ]
      },
      {
       "output_type": "stream",
       "stream": "stderr",
       "text": [
        "\r",
        "[ 12 %] elapsed[sec]: 0.109 | ETA[sec]: 0.797 "
       ]
      },
      {
       "output_type": "stream",
       "stream": "stderr",
       "text": [
        "\r",
        "[ 12 %] elapsed[sec]: 0.109 | ETA[sec]: 0.795 "
       ]
      },
      {
       "output_type": "stream",
       "stream": "stderr",
       "text": [
        "\r",
        "[ 12 %] elapsed[sec]: 0.110 | ETA[sec]: 0.793 "
       ]
      },
      {
       "output_type": "stream",
       "stream": "stderr",
       "text": [
        "\r",
        "[ 12 %] elapsed[sec]: 0.110 | ETA[sec]: 0.791 "
       ]
      },
      {
       "output_type": "stream",
       "stream": "stderr",
       "text": [
        "\r",
        "[ 12 %] elapsed[sec]: 0.110 | ETA[sec]: 0.789 "
       ]
      },
      {
       "output_type": "stream",
       "stream": "stderr",
       "text": [
        "\r",
        "[ 12 %] elapsed[sec]: 0.111 | ETA[sec]: 0.787 "
       ]
      },
      {
       "output_type": "stream",
       "stream": "stderr",
       "text": [
        "\r",
        "[ 12 %] elapsed[sec]: 0.111 | ETA[sec]: 0.785 "
       ]
      },
      {
       "output_type": "stream",
       "stream": "stderr",
       "text": [
        "\r",
        "[ 12 %] elapsed[sec]: 0.111 | ETA[sec]: 0.783 "
       ]
      },
      {
       "output_type": "stream",
       "stream": "stderr",
       "text": [
        "\r",
        "[ 12 %] elapsed[sec]: 0.112 | ETA[sec]: 0.781 "
       ]
      },
      {
       "output_type": "stream",
       "stream": "stderr",
       "text": [
        "\r",
        "[ 12 %] elapsed[sec]: 0.112 | ETA[sec]: 0.779 "
       ]
      },
      {
       "output_type": "stream",
       "stream": "stderr",
       "text": [
        "\r",
        "[ 12 %] elapsed[sec]: 0.113 | ETA[sec]: 0.777 "
       ]
      },
      {
       "output_type": "stream",
       "stream": "stderr",
       "text": [
        "\r",
        "[ 12 %] elapsed[sec]: 0.113 | ETA[sec]: 0.775 "
       ]
      },
      {
       "output_type": "stream",
       "stream": "stderr",
       "text": [
        "\r",
        "[ 12 %] elapsed[sec]: 0.113 | ETA[sec]: 0.773 "
       ]
      },
      {
       "output_type": "stream",
       "stream": "stderr",
       "text": [
        "\r",
        "[ 12 %] elapsed[sec]: 0.114 | ETA[sec]: 0.771 "
       ]
      },
      {
       "output_type": "stream",
       "stream": "stderr",
       "text": [
        "\r",
        "[ 12 %] elapsed[sec]: 0.114 | ETA[sec]: 0.769 "
       ]
      },
      {
       "output_type": "stream",
       "stream": "stderr",
       "text": [
        "\r",
        "[ 13 %] elapsed[sec]: 0.115 | ETA[sec]: 0.767 "
       ]
      },
      {
       "output_type": "stream",
       "stream": "stderr",
       "text": [
        "\r",
        "[ 13 %] elapsed[sec]: 0.115 | ETA[sec]: 0.765 "
       ]
      },
      {
       "output_type": "stream",
       "stream": "stderr",
       "text": [
        "\r",
        "[ 13 %] elapsed[sec]: 0.115 | ETA[sec]: 0.763 "
       ]
      },
      {
       "output_type": "stream",
       "stream": "stderr",
       "text": [
        "\r",
        "[ 13 %] elapsed[sec]: 0.116 | ETA[sec]: 0.761 "
       ]
      },
      {
       "output_type": "stream",
       "stream": "stderr",
       "text": [
        "\r",
        "[ 13 %] elapsed[sec]: 0.116 | ETA[sec]: 0.759 "
       ]
      },
      {
       "output_type": "stream",
       "stream": "stderr",
       "text": [
        "\r",
        "[ 13 %] elapsed[sec]: 0.117 | ETA[sec]: 0.757 "
       ]
      },
      {
       "output_type": "stream",
       "stream": "stderr",
       "text": [
        "\r",
        "[ 13 %] elapsed[sec]: 0.117 | ETA[sec]: 0.755 "
       ]
      },
      {
       "output_type": "stream",
       "stream": "stderr",
       "text": [
        "\r",
        "[ 13 %] elapsed[sec]: 0.117 | ETA[sec]: 0.754 "
       ]
      },
      {
       "output_type": "stream",
       "stream": "stderr",
       "text": [
        "\r",
        "[ 13 %] elapsed[sec]: 0.118 | ETA[sec]: 0.752 "
       ]
      },
      {
       "output_type": "stream",
       "stream": "stderr",
       "text": [
        "\r",
        "[ 13 %] elapsed[sec]: 0.118 | ETA[sec]: 0.752 "
       ]
      },
      {
       "output_type": "stream",
       "stream": "stderr",
       "text": [
        "\r",
        "[ 13 %] elapsed[sec]: 0.121 | ETA[sec]: 0.765 "
       ]
      },
      {
       "output_type": "stream",
       "stream": "stderr",
       "text": [
        "\r",
        "[ 13 %] elapsed[sec]: 0.123 | ETA[sec]: 0.775 "
       ]
      },
      {
       "output_type": "stream",
       "stream": "stderr",
       "text": [
        "\r",
        "[ 13 %] elapsed[sec]: 0.124 | ETA[sec]: 0.774 "
       ]
      },
      {
       "output_type": "stream",
       "stream": "stderr",
       "text": [
        "\r",
        "[ 13 %] elapsed[sec]: 0.124 | ETA[sec]: 0.772 "
       ]
      },
      {
       "output_type": "stream",
       "stream": "stderr",
       "text": [
        "\r",
        "[ 13 %] elapsed[sec]: 0.125 | ETA[sec]: 0.772 "
       ]
      },
      {
       "output_type": "stream",
       "stream": "stderr",
       "text": [
        "\r",
        "[ 14 %] elapsed[sec]: 0.125 | ETA[sec]: 0.770 "
       ]
      },
      {
       "output_type": "stream",
       "stream": "stderr",
       "text": [
        "\r",
        "[ 14 %] elapsed[sec]: 0.126 | ETA[sec]: 0.769 "
       ]
      },
      {
       "output_type": "stream",
       "stream": "stderr",
       "text": [
        "\r",
        "[ 14 %] elapsed[sec]: 0.126 | ETA[sec]: 0.768 "
       ]
      },
      {
       "output_type": "stream",
       "stream": "stderr",
       "text": [
        "\r",
        "[ 14 %] elapsed[sec]: 0.127 | ETA[sec]: 0.767 "
       ]
      },
      {
       "output_type": "stream",
       "stream": "stderr",
       "text": [
        "\r",
        "[ 14 %] elapsed[sec]: 0.127 | ETA[sec]: 0.766 "
       ]
      },
      {
       "output_type": "stream",
       "stream": "stderr",
       "text": [
        "\r",
        "[ 14 %] elapsed[sec]: 0.128 | ETA[sec]: 0.765 "
       ]
      },
      {
       "output_type": "stream",
       "stream": "stderr",
       "text": [
        "\r",
        "[ 14 %] elapsed[sec]: 0.128 | ETA[sec]: 0.764 "
       ]
      },
      {
       "output_type": "stream",
       "stream": "stderr",
       "text": [
        "\r",
        "[ 14 %] elapsed[sec]: 0.129 | ETA[sec]: 0.762 "
       ]
      },
      {
       "output_type": "stream",
       "stream": "stderr",
       "text": [
        "\r",
        "[ 14 %] elapsed[sec]: 0.129 | ETA[sec]: 0.762 "
       ]
      },
      {
       "output_type": "stream",
       "stream": "stderr",
       "text": [
        "\r",
        "[ 14 %] elapsed[sec]: 0.130 | ETA[sec]: 0.760 "
       ]
      },
      {
       "output_type": "stream",
       "stream": "stderr",
       "text": [
        "\r",
        "[ 14 %] elapsed[sec]: 0.130 | ETA[sec]: 0.758 "
       ]
      },
      {
       "output_type": "stream",
       "stream": "stderr",
       "text": [
        "\r",
        "[ 14 %] elapsed[sec]: 0.131 | ETA[sec]: 0.756 "
       ]
      },
      {
       "output_type": "stream",
       "stream": "stderr",
       "text": [
        "\r",
        "[ 14 %] elapsed[sec]: 0.131 | ETA[sec]: 0.754 "
       ]
      },
      {
       "output_type": "stream",
       "stream": "stderr",
       "text": [
        "\r",
        "[ 14 %] elapsed[sec]: 0.131 | ETA[sec]: 0.753 "
       ]
      },
      {
       "output_type": "stream",
       "stream": "stderr",
       "text": [
        "\r",
        "[ 14 %] elapsed[sec]: 0.133 | ETA[sec]: 0.756 "
       ]
      },
      {
       "output_type": "stream",
       "stream": "stderr",
       "text": [
        "\r",
        "[ 15 %] elapsed[sec]: 0.133 | ETA[sec]: 0.754 "
       ]
      },
      {
       "output_type": "stream",
       "stream": "stderr",
       "text": [
        "\r",
        "[ 15 %] elapsed[sec]: 0.133 | ETA[sec]: 0.752 "
       ]
      },
      {
       "output_type": "stream",
       "stream": "stderr",
       "text": [
        "\r",
        "[ 15 %] elapsed[sec]: 0.134 | ETA[sec]: 0.752 "
       ]
      },
      {
       "output_type": "stream",
       "stream": "stderr",
       "text": [
        "\r",
        "[ 15 %] elapsed[sec]: 0.142 | ETA[sec]: 0.793 "
       ]
      },
      {
       "output_type": "stream",
       "stream": "stderr",
       "text": [
        "\r",
        "[ 15 %] elapsed[sec]: 0.143 | ETA[sec]: 0.791 "
       ]
      },
      {
       "output_type": "stream",
       "stream": "stderr",
       "text": [
        "\r",
        "[ 15 %] elapsed[sec]: 0.143 | ETA[sec]: 0.789 "
       ]
      },
      {
       "output_type": "stream",
       "stream": "stderr",
       "text": [
        "\r",
        "[ 15 %] elapsed[sec]: 0.143 | ETA[sec]: 0.787 "
       ]
      },
      {
       "output_type": "stream",
       "stream": "stderr",
       "text": [
        "\r",
        "[ 15 %] elapsed[sec]: 0.144 | ETA[sec]: 0.785 "
       ]
      },
      {
       "output_type": "stream",
       "stream": "stderr",
       "text": [
        "\r",
        "[ 15 %] elapsed[sec]: 0.144 | ETA[sec]: 0.783 "
       ]
      },
      {
       "output_type": "stream",
       "stream": "stderr",
       "text": [
        "\r",
        "[ 15 %] elapsed[sec]: 0.144 | ETA[sec]: 0.781 "
       ]
      },
      {
       "output_type": "stream",
       "stream": "stderr",
       "text": [
        "\r",
        "[ 15 %] elapsed[sec]: 0.145 | ETA[sec]: 0.779 "
       ]
      },
      {
       "output_type": "stream",
       "stream": "stderr",
       "text": [
        "\r",
        "[ 15 %] elapsed[sec]: 0.145 | ETA[sec]: 0.778 "
       ]
      },
      {
       "output_type": "stream",
       "stream": "stderr",
       "text": [
        "\r",
        "[ 15 %] elapsed[sec]: 0.146 | ETA[sec]: 0.777 "
       ]
      },
      {
       "output_type": "stream",
       "stream": "stderr",
       "text": [
        "\r",
        "[ 15 %] elapsed[sec]: 0.146 | ETA[sec]: 0.775 "
       ]
      },
      {
       "output_type": "stream",
       "stream": "stderr",
       "text": [
        "\r",
        "[ 15 %] elapsed[sec]: 0.147 | ETA[sec]: 0.773 "
       ]
      },
      {
       "output_type": "stream",
       "stream": "stderr",
       "text": [
        "\r",
        "[ 16 %] elapsed[sec]: 0.147 | ETA[sec]: 0.772 "
       ]
      },
      {
       "output_type": "stream",
       "stream": "stderr",
       "text": [
        "\r",
        "[ 16 %] elapsed[sec]: 0.147 | ETA[sec]: 0.770 "
       ]
      },
      {
       "output_type": "stream",
       "stream": "stderr",
       "text": [
        "\r",
        "[ 16 %] elapsed[sec]: 0.148 | ETA[sec]: 0.768 "
       ]
      },
      {
       "output_type": "stream",
       "stream": "stderr",
       "text": [
        "\r",
        "[ 16 %] elapsed[sec]: 0.148 | ETA[sec]: 0.766 "
       ]
      },
      {
       "output_type": "stream",
       "stream": "stderr",
       "text": [
        "\r",
        "[ 16 %] elapsed[sec]: 0.148 | ETA[sec]: 0.764 "
       ]
      },
      {
       "output_type": "stream",
       "stream": "stderr",
       "text": [
        "\r",
        "[ 16 %] elapsed[sec]: 0.149 | ETA[sec]: 0.762 "
       ]
      },
      {
       "output_type": "stream",
       "stream": "stderr",
       "text": [
        "\r",
        "[ 16 %] elapsed[sec]: 0.150 | ETA[sec]: 0.763 "
       ]
      },
      {
       "output_type": "stream",
       "stream": "stderr",
       "text": [
        "\r",
        "[ 16 %] elapsed[sec]: 0.150 | ETA[sec]: 0.761 "
       ]
      },
      {
       "output_type": "stream",
       "stream": "stderr",
       "text": [
        "\r",
        "[ 16 %] elapsed[sec]: 0.150 | ETA[sec]: 0.759 "
       ]
      },
      {
       "output_type": "stream",
       "stream": "stderr",
       "text": [
        "\r",
        "[ 16 %] elapsed[sec]: 0.151 | ETA[sec]: 0.759 "
       ]
      },
      {
       "output_type": "stream",
       "stream": "stderr",
       "text": [
        "\r",
        "[ 16 %] elapsed[sec]: 0.151 | ETA[sec]: 0.757 "
       ]
      },
      {
       "output_type": "stream",
       "stream": "stderr",
       "text": [
        "\r",
        "[ 16 %] elapsed[sec]: 0.152 | ETA[sec]: 0.756 "
       ]
      },
      {
       "output_type": "stream",
       "stream": "stderr",
       "text": [
        "\r",
        "[ 16 %] elapsed[sec]: 0.153 | ETA[sec]: 0.757 "
       ]
      },
      {
       "output_type": "stream",
       "stream": "stderr",
       "text": [
        "\r",
        "[ 16 %] elapsed[sec]: 0.185 | ETA[sec]: 0.910 "
       ]
      },
      {
       "output_type": "stream",
       "stream": "stderr",
       "text": [
        "\r",
        "[ 16 %] elapsed[sec]: 0.185 | ETA[sec]: 0.908 "
       ]
      },
      {
       "output_type": "stream",
       "stream": "stderr",
       "text": [
        "\r",
        "[ 17 %] elapsed[sec]: 0.185 | ETA[sec]: 0.905 "
       ]
      },
      {
       "output_type": "stream",
       "stream": "stderr",
       "text": [
        "\r",
        "[ 17 %] elapsed[sec]: 0.186 | ETA[sec]: 0.906 "
       ]
      },
      {
       "output_type": "stream",
       "stream": "stderr",
       "text": [
        "\r",
        "[ 17 %] elapsed[sec]: 0.187 | ETA[sec]: 0.904 "
       ]
      },
      {
       "output_type": "stream",
       "stream": "stderr",
       "text": [
        "\r",
        "[ 17 %] elapsed[sec]: 0.188 | ETA[sec]: 0.903 "
       ]
      },
      {
       "output_type": "stream",
       "stream": "stderr",
       "text": [
        "\r",
        "[ 17 %] elapsed[sec]: 0.188 | ETA[sec]: 0.902 "
       ]
      },
      {
       "output_type": "stream",
       "stream": "stderr",
       "text": [
        "\r",
        "[ 17 %] elapsed[sec]: 0.189 | ETA[sec]: 0.903 "
       ]
      },
      {
       "output_type": "stream",
       "stream": "stderr",
       "text": [
        "\r",
        "[ 17 %] elapsed[sec]: 0.190 | ETA[sec]: 0.901 "
       ]
      },
      {
       "output_type": "stream",
       "stream": "stderr",
       "text": [
        "\r",
        "[ 17 %] elapsed[sec]: 0.190 | ETA[sec]: 0.899 "
       ]
      },
      {
       "output_type": "stream",
       "stream": "stderr",
       "text": [
        "\r",
        "[ 17 %] elapsed[sec]: 0.193 | ETA[sec]: 0.907 "
       ]
      },
      {
       "output_type": "stream",
       "stream": "stderr",
       "text": [
        "\r",
        "[ 17 %] elapsed[sec]: 0.198 | ETA[sec]: 0.927 "
       ]
      },
      {
       "output_type": "stream",
       "stream": "stderr",
       "text": [
        "\r",
        "[ 17 %] elapsed[sec]: 0.199 | ETA[sec]: 0.925 "
       ]
      },
      {
       "output_type": "stream",
       "stream": "stderr",
       "text": [
        "\r",
        "[ 17 %] elapsed[sec]: 0.199 | ETA[sec]: 0.925 "
       ]
      },
      {
       "output_type": "stream",
       "stream": "stderr",
       "text": [
        "\r",
        "[ 17 %] elapsed[sec]: 0.200 | ETA[sec]: 0.924 "
       ]
      },
      {
       "output_type": "stream",
       "stream": "stderr",
       "text": [
        "\r",
        "[ 17 %] elapsed[sec]: 0.201 | ETA[sec]: 0.923 "
       ]
      },
      {
       "output_type": "stream",
       "stream": "stderr",
       "text": [
        "\r",
        "[ 17 %] elapsed[sec]: 0.201 | ETA[sec]: 0.921 "
       ]
      },
      {
       "output_type": "stream",
       "stream": "stderr",
       "text": [
        "\r",
        "[ 18 %] elapsed[sec]: 0.202 | ETA[sec]: 0.919 "
       ]
      },
      {
       "output_type": "stream",
       "stream": "stderr",
       "text": [
        "\r",
        "[ 18 %] elapsed[sec]: 0.202 | ETA[sec]: 0.917 "
       ]
      },
      {
       "output_type": "stream",
       "stream": "stderr",
       "text": [
        "\r",
        "[ 18 %] elapsed[sec]: 0.203 | ETA[sec]: 0.915 "
       ]
      },
      {
       "output_type": "stream",
       "stream": "stderr",
       "text": [
        "\r",
        "[ 18 %] elapsed[sec]: 0.203 | ETA[sec]: 0.912 "
       ]
      },
      {
       "output_type": "stream",
       "stream": "stderr",
       "text": [
        "\r",
        "[ 18 %] elapsed[sec]: 0.220 | ETA[sec]: 0.983 "
       ]
      },
      {
       "output_type": "stream",
       "stream": "stderr",
       "text": [
        "\r",
        "[ 18 %] elapsed[sec]: 0.220 | ETA[sec]: 0.981 "
       ]
      },
      {
       "output_type": "stream",
       "stream": "stderr",
       "text": [
        "\r",
        "[ 18 %] elapsed[sec]: 0.221 | ETA[sec]: 0.979 "
       ]
      },
      {
       "output_type": "stream",
       "stream": "stderr",
       "text": [
        "\r",
        "[ 18 %] elapsed[sec]: 0.222 | ETA[sec]: 0.981 "
       ]
      },
      {
       "output_type": "stream",
       "stream": "stderr",
       "text": [
        "\r",
        "[ 18 %] elapsed[sec]: 0.223 | ETA[sec]: 0.981 "
       ]
      },
      {
       "output_type": "stream",
       "stream": "stderr",
       "text": [
        "\r",
        "[ 18 %] elapsed[sec]: 0.224 | ETA[sec]: 0.979 "
       ]
      },
      {
       "output_type": "stream",
       "stream": "stderr",
       "text": [
        "\r",
        "[ 18 %] elapsed[sec]: 0.224 | ETA[sec]: 0.976 "
       ]
      },
      {
       "output_type": "stream",
       "stream": "stderr",
       "text": [
        "\r",
        "[ 18 %] elapsed[sec]: 0.224 | ETA[sec]: 0.973 "
       ]
      },
      {
       "output_type": "stream",
       "stream": "stderr",
       "text": [
        "\r",
        "[ 18 %] elapsed[sec]: 0.225 | ETA[sec]: 0.971 "
       ]
      },
      {
       "output_type": "stream",
       "stream": "stderr",
       "text": [
        "\r",
        "[ 18 %] elapsed[sec]: 0.225 | ETA[sec]: 0.968 "
       ]
      },
      {
       "output_type": "stream",
       "stream": "stderr",
       "text": [
        "\r",
        "[ 18 %] elapsed[sec]: 0.225 | ETA[sec]: 0.965 "
       ]
      },
      {
       "output_type": "stream",
       "stream": "stderr",
       "text": [
        "\r",
        "[ 19 %] elapsed[sec]: 0.226 | ETA[sec]: 0.963 "
       ]
      },
      {
       "output_type": "stream",
       "stream": "stderr",
       "text": [
        "\r",
        "[ 19 %] elapsed[sec]: 0.226 | ETA[sec]: 0.960 "
       ]
      },
      {
       "output_type": "stream",
       "stream": "stderr",
       "text": [
        "\r",
        "[ 19 %] elapsed[sec]: 0.227 | ETA[sec]: 0.958 "
       ]
      },
      {
       "output_type": "stream",
       "stream": "stderr",
       "text": [
        "\r",
        "[ 19 %] elapsed[sec]: 0.227 | ETA[sec]: 0.955 "
       ]
      },
      {
       "output_type": "stream",
       "stream": "stderr",
       "text": [
        "\r",
        "[ 19 %] elapsed[sec]: 0.227 | ETA[sec]: 0.953 "
       ]
      },
      {
       "output_type": "stream",
       "stream": "stderr",
       "text": [
        "\r",
        "[ 19 %] elapsed[sec]: 0.228 | ETA[sec]: 0.950 "
       ]
      },
      {
       "output_type": "stream",
       "stream": "stderr",
       "text": [
        "\r",
        "[ 19 %] elapsed[sec]: 0.228 | ETA[sec]: 0.948 "
       ]
      },
      {
       "output_type": "stream",
       "stream": "stderr",
       "text": [
        "\r",
        "[ 19 %] elapsed[sec]: 0.228 | ETA[sec]: 0.945 "
       ]
      },
      {
       "output_type": "stream",
       "stream": "stderr",
       "text": [
        "\r",
        "[ 19 %] elapsed[sec]: 0.229 | ETA[sec]: 0.943 "
       ]
      },
      {
       "output_type": "stream",
       "stream": "stderr",
       "text": [
        "\r",
        "[ 19 %] elapsed[sec]: 0.229 | ETA[sec]: 0.940 "
       ]
      },
      {
       "output_type": "stream",
       "stream": "stderr",
       "text": [
        "\r",
        "[ 19 %] elapsed[sec]: 0.230 | ETA[sec]: 0.938 "
       ]
      },
      {
       "output_type": "stream",
       "stream": "stderr",
       "text": [
        "\r",
        "[ 19 %] elapsed[sec]: 0.230 | ETA[sec]: 0.935 "
       ]
      },
      {
       "output_type": "stream",
       "stream": "stderr",
       "text": [
        "\r",
        "[ 19 %] elapsed[sec]: 0.230 | ETA[sec]: 0.933 "
       ]
      },
      {
       "output_type": "stream",
       "stream": "stderr",
       "text": [
        "\r",
        "[ 19 %] elapsed[sec]: 0.240 | ETA[sec]: 0.967 "
       ]
      },
      {
       "output_type": "stream",
       "stream": "stderr",
       "text": [
        "\r",
        "[ 19 %] elapsed[sec]: 0.240 | ETA[sec]: 0.964 "
       ]
      },
      {
       "output_type": "stream",
       "stream": "stderr",
       "text": [
        "\r",
        "[ 20 %] elapsed[sec]: 0.240 | ETA[sec]: 0.962 "
       ]
      },
      {
       "output_type": "stream",
       "stream": "stderr",
       "text": [
        "\r",
        "[ 20 %] elapsed[sec]: 0.241 | ETA[sec]: 0.959 "
       ]
      },
      {
       "output_type": "stream",
       "stream": "stderr",
       "text": [
        "\r",
        "[ 20 %] elapsed[sec]: 0.241 | ETA[sec]: 0.957 "
       ]
      },
      {
       "output_type": "stream",
       "stream": "stderr",
       "text": [
        "\r",
        "[ 20 %] elapsed[sec]: 0.242 | ETA[sec]: 0.954 "
       ]
      },
      {
       "output_type": "stream",
       "stream": "stderr",
       "text": [
        "\r",
        "[ 20 %] elapsed[sec]: 0.242 | ETA[sec]: 0.952 "
       ]
      },
      {
       "output_type": "stream",
       "stream": "stderr",
       "text": [
        "\r",
        "[ 20 %] elapsed[sec]: 0.243 | ETA[sec]: 0.951 "
       ]
      },
      {
       "output_type": "stream",
       "stream": "stderr",
       "text": [
        "\r",
        "[ 20 %] elapsed[sec]: 0.243 | ETA[sec]: 0.949 "
       ]
      },
      {
       "output_type": "stream",
       "stream": "stderr",
       "text": [
        "\r",
        "[ 20 %] elapsed[sec]: 0.244 | ETA[sec]: 0.947 "
       ]
      },
      {
       "output_type": "stream",
       "stream": "stderr",
       "text": [
        "\r",
        "[ 20 %] elapsed[sec]: 0.244 | ETA[sec]: 0.945 "
       ]
      },
      {
       "output_type": "stream",
       "stream": "stderr",
       "text": [
        "\r",
        "[ 20 %] elapsed[sec]: 0.244 | ETA[sec]: 0.942 "
       ]
      },
      {
       "output_type": "stream",
       "stream": "stderr",
       "text": [
        "\r",
        "[ 20 %] elapsed[sec]: 0.245 | ETA[sec]: 0.940 "
       ]
      },
      {
       "output_type": "stream",
       "stream": "stderr",
       "text": [
        "\r",
        "[ 20 %] elapsed[sec]: 0.245 | ETA[sec]: 0.938 "
       ]
      },
      {
       "output_type": "stream",
       "stream": "stderr",
       "text": [
        "\r",
        "[ 20 %] elapsed[sec]: 0.246 | ETA[sec]: 0.935 "
       ]
      },
      {
       "output_type": "stream",
       "stream": "stderr",
       "text": [
        "\r",
        "[ 20 %] elapsed[sec]: 0.246 | ETA[sec]: 0.933 "
       ]
      },
      {
       "output_type": "stream",
       "stream": "stderr",
       "text": [
        "\r",
        "[ 20 %] elapsed[sec]: 0.246 | ETA[sec]: 0.931 "
       ]
      },
      {
       "output_type": "stream",
       "stream": "stderr",
       "text": [
        "\r",
        "[ 21 %] elapsed[sec]: 0.247 | ETA[sec]: 0.928 "
       ]
      },
      {
       "output_type": "stream",
       "stream": "stderr",
       "text": [
        "\r",
        "[ 21 %] elapsed[sec]: 0.247 | ETA[sec]: 0.926 "
       ]
      },
      {
       "output_type": "stream",
       "stream": "stderr",
       "text": [
        "\r",
        "[ 21 %] elapsed[sec]: 0.248 | ETA[sec]: 0.924 "
       ]
      },
      {
       "output_type": "stream",
       "stream": "stderr",
       "text": [
        "\r",
        "[ 21 %] elapsed[sec]: 0.248 | ETA[sec]: 0.922 "
       ]
      },
      {
       "output_type": "stream",
       "stream": "stderr",
       "text": [
        "\r",
        "[ 21 %] elapsed[sec]: 0.248 | ETA[sec]: 0.919 "
       ]
      },
      {
       "output_type": "stream",
       "stream": "stderr",
       "text": [
        "\r",
        "[ 21 %] elapsed[sec]: 0.249 | ETA[sec]: 0.917 "
       ]
      },
      {
       "output_type": "stream",
       "stream": "stderr",
       "text": [
        "\r",
        "[ 21 %] elapsed[sec]: 0.249 | ETA[sec]: 0.915 "
       ]
      },
      {
       "output_type": "stream",
       "stream": "stderr",
       "text": [
        "\r",
        "[ 21 %] elapsed[sec]: 0.255 | ETA[sec]: 0.932 "
       ]
      },
      {
       "output_type": "stream",
       "stream": "stderr",
       "text": [
        "\r",
        "[ 21 %] elapsed[sec]: 0.255 | ETA[sec]: 0.931 "
       ]
      },
      {
       "output_type": "stream",
       "stream": "stderr",
       "text": [
        "\r",
        "[ 21 %] elapsed[sec]: 0.256 | ETA[sec]: 0.929 "
       ]
      },
      {
       "output_type": "stream",
       "stream": "stderr",
       "text": [
        "\r",
        "[ 21 %] elapsed[sec]: 0.256 | ETA[sec]: 0.927 "
       ]
      },
      {
       "output_type": "stream",
       "stream": "stderr",
       "text": [
        "\r",
        "[ 21 %] elapsed[sec]: 0.257 | ETA[sec]: 0.924 "
       ]
      },
      {
       "output_type": "stream",
       "stream": "stderr",
       "text": [
        "\r",
        "[ 21 %] elapsed[sec]: 0.257 | ETA[sec]: 0.922 "
       ]
      },
      {
       "output_type": "stream",
       "stream": "stderr",
       "text": [
        "\r",
        "[ 21 %] elapsed[sec]: 0.257 | ETA[sec]: 0.920 "
       ]
      },
      {
       "output_type": "stream",
       "stream": "stderr",
       "text": [
        "\r",
        "[ 21 %] elapsed[sec]: 0.258 | ETA[sec]: 0.918 "
       ]
      },
      {
       "output_type": "stream",
       "stream": "stderr",
       "text": [
        "\r",
        "[ 22 %] elapsed[sec]: 0.258 | ETA[sec]: 0.916 "
       ]
      },
      {
       "output_type": "stream",
       "stream": "stderr",
       "text": [
        "\r",
        "[ 22 %] elapsed[sec]: 0.259 | ETA[sec]: 0.913 "
       ]
      },
      {
       "output_type": "stream",
       "stream": "stderr",
       "text": [
        "\r",
        "[ 22 %] elapsed[sec]: 0.259 | ETA[sec]: 0.911 "
       ]
      },
      {
       "output_type": "stream",
       "stream": "stderr",
       "text": [
        "\r",
        "[ 22 %] elapsed[sec]: 0.259 | ETA[sec]: 0.909 "
       ]
      },
      {
       "output_type": "stream",
       "stream": "stderr",
       "text": [
        "\r",
        "[ 22 %] elapsed[sec]: 0.260 | ETA[sec]: 0.907 "
       ]
      },
      {
       "output_type": "stream",
       "stream": "stderr",
       "text": [
        "\r",
        "[ 22 %] elapsed[sec]: 0.260 | ETA[sec]: 0.905 "
       ]
      },
      {
       "output_type": "stream",
       "stream": "stderr",
       "text": [
        "\r",
        "[ 22 %] elapsed[sec]: 0.261 | ETA[sec]: 0.903 "
       ]
      },
      {
       "output_type": "stream",
       "stream": "stderr",
       "text": [
        "\r",
        "[ 22 %] elapsed[sec]: 0.261 | ETA[sec]: 0.900 "
       ]
      },
      {
       "output_type": "stream",
       "stream": "stderr",
       "text": [
        "\r",
        "[ 22 %] elapsed[sec]: 0.261 | ETA[sec]: 0.898 "
       ]
      },
      {
       "output_type": "stream",
       "stream": "stderr",
       "text": [
        "\r",
        "[ 22 %] elapsed[sec]: 0.262 | ETA[sec]: 0.896 "
       ]
      },
      {
       "output_type": "stream",
       "stream": "stderr",
       "text": [
        "\r",
        "[ 22 %] elapsed[sec]: 0.262 | ETA[sec]: 0.894 "
       ]
      },
      {
       "output_type": "stream",
       "stream": "stderr",
       "text": [
        "\r",
        "[ 22 %] elapsed[sec]: 0.262 | ETA[sec]: 0.892 "
       ]
      },
      {
       "output_type": "stream",
       "stream": "stderr",
       "text": [
        "\r",
        "[ 22 %] elapsed[sec]: 0.263 | ETA[sec]: 0.890 "
       ]
      },
      {
       "output_type": "stream",
       "stream": "stderr",
       "text": [
        "\r",
        "[ 22 %] elapsed[sec]: 0.263 | ETA[sec]: 0.888 "
       ]
      },
      {
       "output_type": "stream",
       "stream": "stderr",
       "text": [
        "\r",
        "[ 22 %] elapsed[sec]: 0.264 | ETA[sec]: 0.886 "
       ]
      },
      {
       "output_type": "stream",
       "stream": "stderr",
       "text": [
        "\r",
        "[ 23 %] elapsed[sec]: 0.264 | ETA[sec]: 0.884 "
       ]
      },
      {
       "output_type": "stream",
       "stream": "stderr",
       "text": [
        "\r",
        "[ 23 %] elapsed[sec]: 0.265 | ETA[sec]: 0.882 "
       ]
      },
      {
       "output_type": "stream",
       "stream": "stderr",
       "text": [
        "\r",
        "[ 23 %] elapsed[sec]: 0.277 | ETA[sec]: 0.922 "
       ]
      },
      {
       "output_type": "stream",
       "stream": "stderr",
       "text": [
        "\r",
        "[ 23 %] elapsed[sec]: 0.278 | ETA[sec]: 0.921 "
       ]
      },
      {
       "output_type": "stream",
       "stream": "stderr",
       "text": [
        "\r",
        "[ 23 %] elapsed[sec]: 0.279 | ETA[sec]: 0.919 "
       ]
      },
      {
       "output_type": "stream",
       "stream": "stderr",
       "text": [
        "\r",
        "[ 23 %] elapsed[sec]: 0.279 | ETA[sec]: 0.917 "
       ]
      },
      {
       "output_type": "stream",
       "stream": "stderr",
       "text": [
        "\r",
        "[ 23 %] elapsed[sec]: 0.280 | ETA[sec]: 0.915 "
       ]
      },
      {
       "output_type": "stream",
       "stream": "stderr",
       "text": [
        "\r",
        "[ 23 %] elapsed[sec]: 0.280 | ETA[sec]: 0.913 "
       ]
      },
      {
       "output_type": "stream",
       "stream": "stderr",
       "text": [
        "\r",
        "[ 23 %] elapsed[sec]: 0.280 | ETA[sec]: 0.911 "
       ]
      },
      {
       "output_type": "stream",
       "stream": "stderr",
       "text": [
        "\r",
        "[ 23 %] elapsed[sec]: 0.281 | ETA[sec]: 0.910 "
       ]
      },
      {
       "output_type": "stream",
       "stream": "stderr",
       "text": [
        "\r",
        "[ 23 %] elapsed[sec]: 0.281 | ETA[sec]: 0.908 "
       ]
      },
      {
       "output_type": "stream",
       "stream": "stderr",
       "text": [
        "\r",
        "[ 23 %] elapsed[sec]: 0.282 | ETA[sec]: 0.906 "
       ]
      },
      {
       "output_type": "stream",
       "stream": "stderr",
       "text": [
        "\r",
        "[ 23 %] elapsed[sec]: 0.282 | ETA[sec]: 0.904 "
       ]
      },
      {
       "output_type": "stream",
       "stream": "stderr",
       "text": [
        "\r",
        "[ 23 %] elapsed[sec]: 0.283 | ETA[sec]: 0.903 "
       ]
      },
      {
       "output_type": "stream",
       "stream": "stderr",
       "text": [
        "\r",
        "[ 23 %] elapsed[sec]: 0.284 | ETA[sec]: 0.901 "
       ]
      },
      {
       "output_type": "stream",
       "stream": "stderr",
       "text": [
        "\r",
        "[ 24 %] elapsed[sec]: 0.284 | ETA[sec]: 0.899 "
       ]
      },
      {
       "output_type": "stream",
       "stream": "stderr",
       "text": [
        "\r",
        "[ 24 %] elapsed[sec]: 0.284 | ETA[sec]: 0.898 "
       ]
      },
      {
       "output_type": "stream",
       "stream": "stderr",
       "text": [
        "\r",
        "[ 24 %] elapsed[sec]: 0.285 | ETA[sec]: 0.896 "
       ]
      },
      {
       "output_type": "stream",
       "stream": "stderr",
       "text": [
        "\r",
        "[ 24 %] elapsed[sec]: 0.285 | ETA[sec]: 0.894 "
       ]
      },
      {
       "output_type": "stream",
       "stream": "stderr",
       "text": [
        "\r",
        "[ 24 %] elapsed[sec]: 0.286 | ETA[sec]: 0.893 "
       ]
      },
      {
       "output_type": "stream",
       "stream": "stderr",
       "text": [
        "\r",
        "[ 24 %] elapsed[sec]: 0.287 | ETA[sec]: 0.891 "
       ]
      },
      {
       "output_type": "stream",
       "stream": "stderr",
       "text": [
        "\r",
        "[ 24 %] elapsed[sec]: 0.287 | ETA[sec]: 0.889 "
       ]
      },
      {
       "output_type": "stream",
       "stream": "stderr",
       "text": [
        "\r",
        "[ 24 %] elapsed[sec]: 0.288 | ETA[sec]: 0.888 "
       ]
      },
      {
       "output_type": "stream",
       "stream": "stderr",
       "text": [
        "\r",
        "[ 24 %] elapsed[sec]: 0.288 | ETA[sec]: 0.886 "
       ]
      },
      {
       "output_type": "stream",
       "stream": "stderr",
       "text": [
        "\r",
        "[ 24 %] elapsed[sec]: 0.288 | ETA[sec]: 0.884 "
       ]
      },
      {
       "output_type": "stream",
       "stream": "stderr",
       "text": [
        "\r",
        "[ 24 %] elapsed[sec]: 0.289 | ETA[sec]: 0.883 "
       ]
      },
      {
       "output_type": "stream",
       "stream": "stderr",
       "text": [
        "\r",
        "[ 24 %] elapsed[sec]: 0.300 | ETA[sec]: 0.913 "
       ]
      },
      {
       "output_type": "stream",
       "stream": "stderr",
       "text": [
        "\r",
        "[ 24 %] elapsed[sec]: 0.301 | ETA[sec]: 0.912 "
       ]
      },
      {
       "output_type": "stream",
       "stream": "stderr",
       "text": [
        "\r",
        "[ 24 %] elapsed[sec]: 0.301 | ETA[sec]: 0.910 "
       ]
      },
      {
       "output_type": "stream",
       "stream": "stderr",
       "text": [
        "\r",
        "[ 24 %] elapsed[sec]: 0.301 | ETA[sec]: 0.907 "
       ]
      },
      {
       "output_type": "stream",
       "stream": "stderr",
       "text": [
        "\r",
        "[ 25 %] elapsed[sec]: 0.303 | ETA[sec]: 0.909 "
       ]
      },
      {
       "output_type": "stream",
       "stream": "stderr",
       "text": [
        "\r",
        "[ 25 %] elapsed[sec]: 0.303 | ETA[sec]: 0.907 "
       ]
      },
      {
       "output_type": "stream",
       "stream": "stderr",
       "text": [
        "\r",
        "[ 25 %] elapsed[sec]: 0.304 | ETA[sec]: 0.905 "
       ]
      },
      {
       "output_type": "stream",
       "stream": "stderr",
       "text": [
        "\r",
        "[ 25 %] elapsed[sec]: 0.304 | ETA[sec]: 0.903 "
       ]
      },
      {
       "output_type": "stream",
       "stream": "stderr",
       "text": [
        "\r",
        "[ 25 %] elapsed[sec]: 0.305 | ETA[sec]: 0.901 "
       ]
      },
      {
       "output_type": "stream",
       "stream": "stderr",
       "text": [
        "\r",
        "[ 25 %] elapsed[sec]: 0.305 | ETA[sec]: 0.899 "
       ]
      },
      {
       "output_type": "stream",
       "stream": "stderr",
       "text": [
        "\r",
        "[ 25 %] elapsed[sec]: 0.305 | ETA[sec]: 0.897 "
       ]
      },
      {
       "output_type": "stream",
       "stream": "stderr",
       "text": [
        "\r",
        "[ 25 %] elapsed[sec]: 0.306 | ETA[sec]: 0.895 "
       ]
      },
      {
       "output_type": "stream",
       "stream": "stderr",
       "text": [
        "\r",
        "[ 25 %] elapsed[sec]: 0.306 | ETA[sec]: 0.893 "
       ]
      },
      {
       "output_type": "stream",
       "stream": "stderr",
       "text": [
        "\r",
        "[ 25 %] elapsed[sec]: 0.307 | ETA[sec]: 0.891 "
       ]
      },
      {
       "output_type": "stream",
       "stream": "stderr",
       "text": [
        "\r",
        "[ 25 %] elapsed[sec]: 0.307 | ETA[sec]: 0.889 "
       ]
      },
      {
       "output_type": "stream",
       "stream": "stderr",
       "text": [
        "\r",
        "[ 25 %] elapsed[sec]: 0.307 | ETA[sec]: 0.887 "
       ]
      },
      {
       "output_type": "stream",
       "stream": "stderr",
       "text": [
        "\r",
        "[ 25 %] elapsed[sec]: 0.308 | ETA[sec]: 0.886 "
       ]
      },
      {
       "output_type": "stream",
       "stream": "stderr",
       "text": [
        "\r",
        "[ 25 %] elapsed[sec]: 0.308 | ETA[sec]: 0.884 "
       ]
      },
      {
       "output_type": "stream",
       "stream": "stderr",
       "text": [
        "\r",
        "[ 25 %] elapsed[sec]: 0.309 | ETA[sec]: 0.882 "
       ]
      },
      {
       "output_type": "stream",
       "stream": "stderr",
       "text": [
        "\r",
        "[ 26 %] elapsed[sec]: 0.310 | ETA[sec]: 0.881 "
       ]
      },
      {
       "output_type": "stream",
       "stream": "stderr",
       "text": [
        "\r",
        "[ 26 %] elapsed[sec]: 0.310 | ETA[sec]: 0.879 "
       ]
      },
      {
       "output_type": "stream",
       "stream": "stderr",
       "text": [
        "\r",
        "[ 26 %] elapsed[sec]: 0.310 | ETA[sec]: 0.877 "
       ]
      },
      {
       "output_type": "stream",
       "stream": "stderr",
       "text": [
        "\r",
        "[ 26 %] elapsed[sec]: 0.311 | ETA[sec]: 0.876 "
       ]
      },
      {
       "output_type": "stream",
       "stream": "stderr",
       "text": [
        "\r",
        "[ 26 %] elapsed[sec]: 0.311 | ETA[sec]: 0.874 "
       ]
      },
      {
       "output_type": "stream",
       "stream": "stderr",
       "text": [
        "\r",
        "[ 26 %] elapsed[sec]: 0.312 | ETA[sec]: 0.874 "
       ]
      },
      {
       "output_type": "stream",
       "stream": "stderr",
       "text": [
        "\r",
        "[ 26 %] elapsed[sec]: 0.313 | ETA[sec]: 0.872 "
       ]
      },
      {
       "output_type": "stream",
       "stream": "stderr",
       "text": [
        "\r",
        "[ 26 %] elapsed[sec]: 0.313 | ETA[sec]: 0.870 "
       ]
      },
      {
       "output_type": "stream",
       "stream": "stderr",
       "text": [
        "\r",
        "[ 26 %] elapsed[sec]: 0.314 | ETA[sec]: 0.868 "
       ]
      },
      {
       "output_type": "stream",
       "stream": "stderr",
       "text": [
        "\r",
        "[ 26 %] elapsed[sec]: 0.314 | ETA[sec]: 0.866 "
       ]
      },
      {
       "output_type": "stream",
       "stream": "stderr",
       "text": [
        "\r",
        "[ 26 %] elapsed[sec]: 0.314 | ETA[sec]: 0.864 "
       ]
      },
      {
       "output_type": "stream",
       "stream": "stderr",
       "text": [
        "\r",
        "[ 26 %] elapsed[sec]: 0.315 | ETA[sec]: 0.863 "
       ]
      },
      {
       "output_type": "stream",
       "stream": "stderr",
       "text": [
        "\r",
        "[ 26 %] elapsed[sec]: 0.315 | ETA[sec]: 0.861 "
       ]
      },
      {
       "output_type": "stream",
       "stream": "stderr",
       "text": [
        "\r",
        "[ 26 %] elapsed[sec]: 0.315 | ETA[sec]: 0.859 "
       ]
      },
      {
       "output_type": "stream",
       "stream": "stderr",
       "text": [
        "\r",
        "[ 26 %] elapsed[sec]: 0.316 | ETA[sec]: 0.857 "
       ]
      },
      {
       "output_type": "stream",
       "stream": "stderr",
       "text": [
        "\r",
        "[ 27 %] elapsed[sec]: 0.316 | ETA[sec]: 0.855 "
       ]
      },
      {
       "output_type": "stream",
       "stream": "stderr",
       "text": [
        "\r",
        "[ 27 %] elapsed[sec]: 0.317 | ETA[sec]: 0.853 "
       ]
      },
      {
       "output_type": "stream",
       "stream": "stderr",
       "text": [
        "\r",
        "[ 27 %] elapsed[sec]: 0.317 | ETA[sec]: 0.851 "
       ]
      },
      {
       "output_type": "stream",
       "stream": "stderr",
       "text": [
        "\r",
        "[ 27 %] elapsed[sec]: 0.317 | ETA[sec]: 0.849 "
       ]
      },
      {
       "output_type": "stream",
       "stream": "stderr",
       "text": [
        "\r",
        "[ 27 %] elapsed[sec]: 0.318 | ETA[sec]: 0.848 "
       ]
      },
      {
       "output_type": "stream",
       "stream": "stderr",
       "text": [
        "\r",
        "[ 27 %] elapsed[sec]: 0.318 | ETA[sec]: 0.846 "
       ]
      },
      {
       "output_type": "stream",
       "stream": "stderr",
       "text": [
        "\r",
        "[ 27 %] elapsed[sec]: 0.318 | ETA[sec]: 0.844 "
       ]
      },
      {
       "output_type": "stream",
       "stream": "stderr",
       "text": [
        "\r",
        "[ 27 %] elapsed[sec]: 0.319 | ETA[sec]: 0.842 "
       ]
      },
      {
       "output_type": "stream",
       "stream": "stderr",
       "text": [
        "\r",
        "[ 27 %] elapsed[sec]: 0.319 | ETA[sec]: 0.840 "
       ]
      },
      {
       "output_type": "stream",
       "stream": "stderr",
       "text": [
        "\r",
        "[ 27 %] elapsed[sec]: 0.320 | ETA[sec]: 0.838 "
       ]
      },
      {
       "output_type": "stream",
       "stream": "stderr",
       "text": [
        "\r",
        "[ 27 %] elapsed[sec]: 0.320 | ETA[sec]: 0.837 "
       ]
      },
      {
       "output_type": "stream",
       "stream": "stderr",
       "text": [
        "\r",
        "[ 27 %] elapsed[sec]: 0.320 | ETA[sec]: 0.835 "
       ]
      },
      {
       "output_type": "stream",
       "stream": "stderr",
       "text": [
        "\r",
        "[ 27 %] elapsed[sec]: 0.321 | ETA[sec]: 0.833 "
       ]
      },
      {
       "output_type": "stream",
       "stream": "stderr",
       "text": [
        "\r",
        "[ 27 %] elapsed[sec]: 0.321 | ETA[sec]: 0.831 "
       ]
      },
      {
       "output_type": "stream",
       "stream": "stderr",
       "text": [
        "\r",
        "[ 27 %] elapsed[sec]: 0.322 | ETA[sec]: 0.830 "
       ]
      },
      {
       "output_type": "stream",
       "stream": "stderr",
       "text": [
        "\r",
        "[ 28 %] elapsed[sec]: 0.325 | ETA[sec]: 0.835 "
       ]
      },
      {
       "output_type": "stream",
       "stream": "stderr",
       "text": [
        "\r",
        "[ 28 %] elapsed[sec]: 0.325 | ETA[sec]: 0.834 "
       ]
      },
      {
       "output_type": "stream",
       "stream": "stderr",
       "text": [
        "\r",
        "[ 28 %] elapsed[sec]: 0.326 | ETA[sec]: 0.832 "
       ]
      },
      {
       "output_type": "stream",
       "stream": "stderr",
       "text": [
        "\r",
        "[ 28 %] elapsed[sec]: 0.326 | ETA[sec]: 0.831 "
       ]
      },
      {
       "output_type": "stream",
       "stream": "stderr",
       "text": [
        "\r",
        "[ 28 %] elapsed[sec]: 0.327 | ETA[sec]: 0.830 "
       ]
      },
      {
       "output_type": "stream",
       "stream": "stderr",
       "text": [
        "\r",
        "[ 28 %] elapsed[sec]: 0.327 | ETA[sec]: 0.828 "
       ]
      },
      {
       "output_type": "stream",
       "stream": "stderr",
       "text": [
        "\r",
        "[ 28 %] elapsed[sec]: 0.328 | ETA[sec]: 0.826 "
       ]
      },
      {
       "output_type": "stream",
       "stream": "stderr",
       "text": [
        "\r",
        "[ 28 %] elapsed[sec]: 0.328 | ETA[sec]: 0.824 "
       ]
      },
      {
       "output_type": "stream",
       "stream": "stderr",
       "text": [
        "\r",
        "[ 28 %] elapsed[sec]: 0.328 | ETA[sec]: 0.823 "
       ]
      },
      {
       "output_type": "stream",
       "stream": "stderr",
       "text": [
        "\r",
        "[ 28 %] elapsed[sec]: 0.329 | ETA[sec]: 0.821 "
       ]
      },
      {
       "output_type": "stream",
       "stream": "stderr",
       "text": [
        "\r",
        "[ 28 %] elapsed[sec]: 0.329 | ETA[sec]: 0.819 "
       ]
      },
      {
       "output_type": "stream",
       "stream": "stderr",
       "text": [
        "\r",
        "[ 28 %] elapsed[sec]: 0.330 | ETA[sec]: 0.818 "
       ]
      },
      {
       "output_type": "stream",
       "stream": "stderr",
       "text": [
        "\r",
        "[ 28 %] elapsed[sec]: 0.330 | ETA[sec]: 0.816 "
       ]
      },
      {
       "output_type": "stream",
       "stream": "stderr",
       "text": [
        "\r",
        "[ 28 %] elapsed[sec]: 0.330 | ETA[sec]: 0.814 "
       ]
      },
      {
       "output_type": "stream",
       "stream": "stderr",
       "text": [
        "\r",
        "[ 28 %] elapsed[sec]: 0.331 | ETA[sec]: 0.813 "
       ]
      },
      {
       "output_type": "stream",
       "stream": "stderr",
       "text": [
        "\r",
        "[ 29 %] elapsed[sec]: 0.331 | ETA[sec]: 0.811 "
       ]
      },
      {
       "output_type": "stream",
       "stream": "stderr",
       "text": [
        "\r",
        "[ 29 %] elapsed[sec]: 0.332 | ETA[sec]: 0.809 "
       ]
      },
      {
       "output_type": "stream",
       "stream": "stderr",
       "text": [
        "\r",
        "[ 29 %] elapsed[sec]: 0.332 | ETA[sec]: 0.807 "
       ]
      },
      {
       "output_type": "stream",
       "stream": "stderr",
       "text": [
        "\r",
        "[ 29 %] elapsed[sec]: 0.333 | ETA[sec]: 0.807 "
       ]
      },
      {
       "output_type": "stream",
       "stream": "stderr",
       "text": [
        "\r",
        "[ 29 %] elapsed[sec]: 0.333 | ETA[sec]: 0.805 "
       ]
      },
      {
       "output_type": "stream",
       "stream": "stderr",
       "text": [
        "\r",
        "[ 29 %] elapsed[sec]: 0.334 | ETA[sec]: 0.804 "
       ]
      },
      {
       "output_type": "stream",
       "stream": "stderr",
       "text": [
        "\r",
        "[ 29 %] elapsed[sec]: 0.334 | ETA[sec]: 0.803 "
       ]
      },
      {
       "output_type": "stream",
       "stream": "stderr",
       "text": [
        "\r",
        "[ 29 %] elapsed[sec]: 0.335 | ETA[sec]: 0.802 "
       ]
      },
      {
       "output_type": "stream",
       "stream": "stderr",
       "text": [
        "\r",
        "[ 29 %] elapsed[sec]: 0.335 | ETA[sec]: 0.800 "
       ]
      },
      {
       "output_type": "stream",
       "stream": "stderr",
       "text": [
        "\r",
        "[ 29 %] elapsed[sec]: 0.347 | ETA[sec]: 0.825 "
       ]
      },
      {
       "output_type": "stream",
       "stream": "stderr",
       "text": [
        "\r",
        "[ 29 %] elapsed[sec]: 0.347 | ETA[sec]: 0.823 "
       ]
      },
      {
       "output_type": "stream",
       "stream": "stderr",
       "text": [
        "\r",
        "[ 29 %] elapsed[sec]: 0.348 | ETA[sec]: 0.822 "
       ]
      },
      {
       "output_type": "stream",
       "stream": "stderr",
       "text": [
        "\r",
        "[ 29 %] elapsed[sec]: 0.348 | ETA[sec]: 0.820 "
       ]
      },
      {
       "output_type": "stream",
       "stream": "stderr",
       "text": [
        "\r",
        "[ 29 %] elapsed[sec]: 0.348 | ETA[sec]: 0.818 "
       ]
      },
      {
       "output_type": "stream",
       "stream": "stderr",
       "text": [
        "\r",
        "[ 29 %] elapsed[sec]: 0.349 | ETA[sec]: 0.817 "
       ]
      },
      {
       "output_type": "stream",
       "stream": "stderr",
       "text": [
        "\r",
        "[ 30 %] elapsed[sec]: 0.349 | ETA[sec]: 0.815 "
       ]
      },
      {
       "output_type": "stream",
       "stream": "stderr",
       "text": [
        "\r",
        "[ 30 %] elapsed[sec]: 0.350 | ETA[sec]: 0.813 "
       ]
      },
      {
       "output_type": "stream",
       "stream": "stderr",
       "text": [
        "\r",
        "[ 30 %] elapsed[sec]: 0.350 | ETA[sec]: 0.811 "
       ]
      },
      {
       "output_type": "stream",
       "stream": "stderr",
       "text": [
        "\r",
        "[ 30 %] elapsed[sec]: 0.350 | ETA[sec]: 0.810 "
       ]
      },
      {
       "output_type": "stream",
       "stream": "stderr",
       "text": [
        "\r",
        "[ 30 %] elapsed[sec]: 0.351 | ETA[sec]: 0.809 "
       ]
      },
      {
       "output_type": "stream",
       "stream": "stderr",
       "text": [
        "\r",
        "[ 30 %] elapsed[sec]: 0.352 | ETA[sec]: 0.808 "
       ]
      },
      {
       "output_type": "stream",
       "stream": "stderr",
       "text": [
        "\r",
        "[ 30 %] elapsed[sec]: 0.352 | ETA[sec]: 0.806 "
       ]
      },
      {
       "output_type": "stream",
       "stream": "stderr",
       "text": [
        "\r",
        "[ 30 %] elapsed[sec]: 0.353 | ETA[sec]: 0.805 "
       ]
      },
      {
       "output_type": "stream",
       "stream": "stderr",
       "text": [
        "\r",
        "[ 30 %] elapsed[sec]: 0.353 | ETA[sec]: 0.803 "
       ]
      },
      {
       "output_type": "stream",
       "stream": "stderr",
       "text": [
        "\r",
        "[ 30 %] elapsed[sec]: 0.354 | ETA[sec]: 0.802 "
       ]
      },
      {
       "output_type": "stream",
       "stream": "stderr",
       "text": [
        "\r",
        "[ 30 %] elapsed[sec]: 0.354 | ETA[sec]: 0.800 "
       ]
      },
      {
       "output_type": "stream",
       "stream": "stderr",
       "text": [
        "\r",
        "[ 30 %] elapsed[sec]: 0.355 | ETA[sec]: 0.799 "
       ]
      },
      {
       "output_type": "stream",
       "stream": "stderr",
       "text": [
        "\r",
        "[ 30 %] elapsed[sec]: 0.355 | ETA[sec]: 0.798 "
       ]
      },
      {
       "output_type": "stream",
       "stream": "stderr",
       "text": [
        "\r",
        "[ 30 %] elapsed[sec]: 0.355 | ETA[sec]: 0.796 "
       ]
      },
      {
       "output_type": "stream",
       "stream": "stderr",
       "text": [
        "\r",
        "[ 30 %] elapsed[sec]: 0.356 | ETA[sec]: 0.794 "
       ]
      },
      {
       "output_type": "stream",
       "stream": "stderr",
       "text": [
        "\r",
        "[ 31 %] elapsed[sec]: 0.356 | ETA[sec]: 0.793 "
       ]
      },
      {
       "output_type": "stream",
       "stream": "stderr",
       "text": [
        "\r",
        "[ 31 %] elapsed[sec]: 0.357 | ETA[sec]: 0.791 "
       ]
      },
      {
       "output_type": "stream",
       "stream": "stderr",
       "text": [
        "\r",
        "[ 31 %] elapsed[sec]: 0.357 | ETA[sec]: 0.789 "
       ]
      },
      {
       "output_type": "stream",
       "stream": "stderr",
       "text": [
        "\r",
        "[ 31 %] elapsed[sec]: 0.357 | ETA[sec]: 0.788 "
       ]
      },
      {
       "output_type": "stream",
       "stream": "stderr",
       "text": [
        "\r",
        "[ 31 %] elapsed[sec]: 0.363 | ETA[sec]: 0.799 "
       ]
      },
      {
       "output_type": "stream",
       "stream": "stderr",
       "text": [
        "\r",
        "[ 31 %] elapsed[sec]: 0.364 | ETA[sec]: 0.798 "
       ]
      },
      {
       "output_type": "stream",
       "stream": "stderr",
       "text": [
        "\r",
        "[ 31 %] elapsed[sec]: 0.365 | ETA[sec]: 0.797 "
       ]
      },
      {
       "output_type": "stream",
       "stream": "stderr",
       "text": [
        "\r",
        "[ 31 %] elapsed[sec]: 0.365 | ETA[sec]: 0.795 "
       ]
      },
      {
       "output_type": "stream",
       "stream": "stderr",
       "text": [
        "\r",
        "[ 31 %] elapsed[sec]: 0.365 | ETA[sec]: 0.793 "
       ]
      },
      {
       "output_type": "stream",
       "stream": "stderr",
       "text": [
        "\r",
        "[ 31 %] elapsed[sec]: 0.366 | ETA[sec]: 0.792 "
       ]
      },
      {
       "output_type": "stream",
       "stream": "stderr",
       "text": [
        "\r",
        "[ 31 %] elapsed[sec]: 0.366 | ETA[sec]: 0.790 "
       ]
      },
      {
       "output_type": "stream",
       "stream": "stderr",
       "text": [
        "\r",
        "[ 31 %] elapsed[sec]: 0.367 | ETA[sec]: 0.789 "
       ]
      },
      {
       "output_type": "stream",
       "stream": "stderr",
       "text": [
        "\r",
        "[ 31 %] elapsed[sec]: 0.367 | ETA[sec]: 0.787 "
       ]
      },
      {
       "output_type": "stream",
       "stream": "stderr",
       "text": [
        "\r",
        "[ 31 %] elapsed[sec]: 0.368 | ETA[sec]: 0.786 "
       ]
      },
      {
       "output_type": "stream",
       "stream": "stderr",
       "text": [
        "\r",
        "[ 31 %] elapsed[sec]: 0.368 | ETA[sec]: 0.784 "
       ]
      },
      {
       "output_type": "stream",
       "stream": "stderr",
       "text": [
        "\r",
        "[ 32 %] elapsed[sec]: 0.368 | ETA[sec]: 0.783 "
       ]
      },
      {
       "output_type": "stream",
       "stream": "stderr",
       "text": [
        "\r",
        "[ 32 %] elapsed[sec]: 0.369 | ETA[sec]: 0.782 "
       ]
      },
      {
       "output_type": "stream",
       "stream": "stderr",
       "text": [
        "\r",
        "[ 32 %] elapsed[sec]: 0.371 | ETA[sec]: 0.783 "
       ]
      },
      {
       "output_type": "stream",
       "stream": "stderr",
       "text": [
        "\r",
        "[ 32 %] elapsed[sec]: 0.371 | ETA[sec]: 0.781 "
       ]
      },
      {
       "output_type": "stream",
       "stream": "stderr",
       "text": [
        "\r",
        "[ 32 %] elapsed[sec]: 0.371 | ETA[sec]: 0.779 "
       ]
      },
      {
       "output_type": "stream",
       "stream": "stderr",
       "text": [
        "\r",
        "[ 32 %] elapsed[sec]: 0.372 | ETA[sec]: 0.778 "
       ]
      },
      {
       "output_type": "stream",
       "stream": "stderr",
       "text": [
        "\r",
        "[ 32 %] elapsed[sec]: 0.372 | ETA[sec]: 0.776 "
       ]
      },
      {
       "output_type": "stream",
       "stream": "stderr",
       "text": [
        "\r",
        "[ 32 %] elapsed[sec]: 0.372 | ETA[sec]: 0.775 "
       ]
      },
      {
       "output_type": "stream",
       "stream": "stderr",
       "text": [
        "\r",
        "[ 32 %] elapsed[sec]: 0.373 | ETA[sec]: 0.773 "
       ]
      },
      {
       "output_type": "stream",
       "stream": "stderr",
       "text": [
        "\r",
        "[ 32 %] elapsed[sec]: 0.373 | ETA[sec]: 0.772 "
       ]
      },
      {
       "output_type": "stream",
       "stream": "stderr",
       "text": [
        "\r",
        "[ 32 %] elapsed[sec]: 0.374 | ETA[sec]: 0.770 "
       ]
      },
      {
       "output_type": "stream",
       "stream": "stderr",
       "text": [
        "\r",
        "[ 32 %] elapsed[sec]: 0.374 | ETA[sec]: 0.769 "
       ]
      },
      {
       "output_type": "stream",
       "stream": "stderr",
       "text": [
        "\r",
        "[ 32 %] elapsed[sec]: 0.374 | ETA[sec]: 0.767 "
       ]
      },
      {
       "output_type": "stream",
       "stream": "stderr",
       "text": [
        "\r",
        "[ 32 %] elapsed[sec]: 0.381 | ETA[sec]: 0.779 "
       ]
      },
      {
       "output_type": "stream",
       "stream": "stderr",
       "text": [
        "\r",
        "[ 32 %] elapsed[sec]: 0.382 | ETA[sec]: 0.778 "
       ]
      },
      {
       "output_type": "stream",
       "stream": "stderr",
       "text": [
        "\r",
        "[ 33 %] elapsed[sec]: 0.382 | ETA[sec]: 0.776 "
       ]
      },
      {
       "output_type": "stream",
       "stream": "stderr",
       "text": [
        "\r",
        "[ 33 %] elapsed[sec]: 0.383 | ETA[sec]: 0.775 "
       ]
      },
      {
       "output_type": "stream",
       "stream": "stderr",
       "text": [
        "\r",
        "[ 33 %] elapsed[sec]: 0.383 | ETA[sec]: 0.773 "
       ]
      },
      {
       "output_type": "stream",
       "stream": "stderr",
       "text": [
        "\r",
        "[ 33 %] elapsed[sec]: 0.384 | ETA[sec]: 0.772 "
       ]
      },
      {
       "output_type": "stream",
       "stream": "stderr",
       "text": [
        "\r",
        "[ 33 %] elapsed[sec]: 0.384 | ETA[sec]: 0.771 "
       ]
      },
      {
       "output_type": "stream",
       "stream": "stderr",
       "text": [
        "\r",
        "[ 33 %] elapsed[sec]: 0.385 | ETA[sec]: 0.769 "
       ]
      },
      {
       "output_type": "stream",
       "stream": "stderr",
       "text": [
        "\r",
        "[ 33 %] elapsed[sec]: 0.385 | ETA[sec]: 0.768 "
       ]
      },
      {
       "output_type": "stream",
       "stream": "stderr",
       "text": [
        "\r",
        "[ 33 %] elapsed[sec]: 0.385 | ETA[sec]: 0.766 "
       ]
      },
      {
       "output_type": "stream",
       "stream": "stderr",
       "text": [
        "\r",
        "[ 33 %] elapsed[sec]: 0.386 | ETA[sec]: 0.765 "
       ]
      },
      {
       "output_type": "stream",
       "stream": "stderr",
       "text": [
        "\r",
        "[ 33 %] elapsed[sec]: 0.386 | ETA[sec]: 0.763 "
       ]
      },
      {
       "output_type": "stream",
       "stream": "stderr",
       "text": [
        "\r",
        "[ 33 %] elapsed[sec]: 0.387 | ETA[sec]: 0.762 "
       ]
      },
      {
       "output_type": "stream",
       "stream": "stderr",
       "text": [
        "\r",
        "[ 33 %] elapsed[sec]: 0.387 | ETA[sec]: 0.760 "
       ]
      },
      {
       "output_type": "stream",
       "stream": "stderr",
       "text": [
        "\r",
        "[ 33 %] elapsed[sec]: 0.387 | ETA[sec]: 0.759 "
       ]
      },
      {
       "output_type": "stream",
       "stream": "stderr",
       "text": [
        "\r",
        "[ 33 %] elapsed[sec]: 0.388 | ETA[sec]: 0.757 "
       ]
      },
      {
       "output_type": "stream",
       "stream": "stderr",
       "text": [
        "\r",
        "[ 33 %] elapsed[sec]: 0.388 | ETA[sec]: 0.756 "
       ]
      },
      {
       "output_type": "stream",
       "stream": "stderr",
       "text": [
        "\r",
        "[ 34 %] elapsed[sec]: 0.389 | ETA[sec]: 0.756 "
       ]
      },
      {
       "output_type": "stream",
       "stream": "stderr",
       "text": [
        "\r",
        "[ 34 %] elapsed[sec]: 0.390 | ETA[sec]: 0.755 "
       ]
      },
      {
       "output_type": "stream",
       "stream": "stderr",
       "text": [
        "\r",
        "[ 34 %] elapsed[sec]: 0.391 | ETA[sec]: 0.754 "
       ]
      },
      {
       "output_type": "stream",
       "stream": "stderr",
       "text": [
        "\r",
        "[ 34 %] elapsed[sec]: 0.391 | ETA[sec]: 0.753 "
       ]
      },
      {
       "output_type": "stream",
       "stream": "stderr",
       "text": [
        "\r",
        "[ 34 %] elapsed[sec]: 0.392 | ETA[sec]: 0.752 "
       ]
      },
      {
       "output_type": "stream",
       "stream": "stderr",
       "text": [
        "\r",
        "[ 34 %] elapsed[sec]: 0.392 | ETA[sec]: 0.763 "
       ]
      },
      {
       "output_type": "stream",
       "stream": "stderr",
       "text": [
        "\r",
        "[ 34 %] elapsed[sec]: 0.400 | ETA[sec]: 0.762 "
       ]
      },
      {
       "output_type": "stream",
       "stream": "stderr",
       "text": [
        "\r",
        "[ 34 %] elapsed[sec]: 0.400 | ETA[sec]: 0.761 "
       ]
      },
      {
       "output_type": "stream",
       "stream": "stderr",
       "text": [
        "\r",
        "[ 34 %] elapsed[sec]: 0.400 | ETA[sec]: 0.759 "
       ]
      },
      {
       "output_type": "stream",
       "stream": "stderr",
       "text": [
        "\r",
        "[ 34 %] elapsed[sec]: 0.401 | ETA[sec]: 0.758 "
       ]
      },
      {
       "output_type": "stream",
       "stream": "stderr",
       "text": [
        "\r",
        "[ 34 %] elapsed[sec]: 0.401 | ETA[sec]: 0.756 "
       ]
      },
      {
       "output_type": "stream",
       "stream": "stderr",
       "text": [
        "\r",
        "[ 34 %] elapsed[sec]: 0.402 | ETA[sec]: 0.755 "
       ]
      },
      {
       "output_type": "stream",
       "stream": "stderr",
       "text": [
        "\r",
        "[ 34 %] elapsed[sec]: 0.402 | ETA[sec]: 0.754 "
       ]
      },
      {
       "output_type": "stream",
       "stream": "stderr",
       "text": [
        "\r",
        "[ 34 %] elapsed[sec]: 0.403 | ETA[sec]: 0.753 "
       ]
      },
      {
       "output_type": "stream",
       "stream": "stderr",
       "text": [
        "\r",
        "[ 34 %] elapsed[sec]: 0.403 | ETA[sec]: 0.751 "
       ]
      },
      {
       "output_type": "stream",
       "stream": "stderr",
       "text": [
        "\r",
        "[ 35 %] elapsed[sec]: 0.404 | ETA[sec]: 0.750 "
       ]
      },
      {
       "output_type": "stream",
       "stream": "stderr",
       "text": [
        "\r",
        "[ 35 %] elapsed[sec]: 0.405 | ETA[sec]: 0.750 "
       ]
      },
      {
       "output_type": "stream",
       "stream": "stderr",
       "text": [
        "\r",
        "[ 35 %] elapsed[sec]: 0.405 | ETA[sec]: 0.748 "
       ]
      },
      {
       "output_type": "stream",
       "stream": "stderr",
       "text": [
        "\r",
        "[ 35 %] elapsed[sec]: 0.406 | ETA[sec]: 0.747 "
       ]
      },
      {
       "output_type": "stream",
       "stream": "stderr",
       "text": [
        "\r",
        "[ 35 %] elapsed[sec]: 0.406 | ETA[sec]: 0.745 "
       ]
      },
      {
       "output_type": "stream",
       "stream": "stderr",
       "text": [
        "\r",
        "[ 35 %] elapsed[sec]: 0.406 | ETA[sec]: 0.744 "
       ]
      },
      {
       "output_type": "stream",
       "stream": "stderr",
       "text": [
        "\r",
        "[ 35 %] elapsed[sec]: 0.407 | ETA[sec]: 0.742 "
       ]
      },
      {
       "output_type": "stream",
       "stream": "stderr",
       "text": [
        "\r",
        "[ 35 %] elapsed[sec]: 0.407 | ETA[sec]: 0.741 "
       ]
      },
      {
       "output_type": "stream",
       "stream": "stderr",
       "text": [
        "\r",
        "[ 35 %] elapsed[sec]: 0.408 | ETA[sec]: 0.739 "
       ]
      },
      {
       "output_type": "stream",
       "stream": "stderr",
       "text": [
        "\r",
        "[ 35 %] elapsed[sec]: 0.408 | ETA[sec]: 0.738 "
       ]
      },
      {
       "output_type": "stream",
       "stream": "stderr",
       "text": [
        "\r",
        "[ 35 %] elapsed[sec]: 0.408 | ETA[sec]: 0.737 "
       ]
      },
      {
       "output_type": "stream",
       "stream": "stderr",
       "text": [
        "\r",
        "[ 35 %] elapsed[sec]: 0.409 | ETA[sec]: 0.735 "
       ]
      },
      {
       "output_type": "stream",
       "stream": "stderr",
       "text": [
        "\r",
        "[ 35 %] elapsed[sec]: 0.409 | ETA[sec]: 0.734 "
       ]
      },
      {
       "output_type": "stream",
       "stream": "stderr",
       "text": [
        "\r",
        "[ 35 %] elapsed[sec]: 0.409 | ETA[sec]: 0.732 "
       ]
      },
      {
       "output_type": "stream",
       "stream": "stderr",
       "text": [
        "\r",
        "[ 35 %] elapsed[sec]: 0.410 | ETA[sec]: 0.731 "
       ]
      },
      {
       "output_type": "stream",
       "stream": "stderr",
       "text": [
        "\r",
        "[ 36 %] elapsed[sec]: 0.410 | ETA[sec]: 0.729 "
       ]
      },
      {
       "output_type": "stream",
       "stream": "stderr",
       "text": [
        "\r",
        "[ 36 %] elapsed[sec]: 0.416 | ETA[sec]: 0.738 "
       ]
      },
      {
       "output_type": "stream",
       "stream": "stderr",
       "text": [
        "\r",
        "[ 36 %] elapsed[sec]: 0.416 | ETA[sec]: 0.736 "
       ]
      },
      {
       "output_type": "stream",
       "stream": "stderr",
       "text": [
        "\r",
        "[ 36 %] elapsed[sec]: 0.417 | ETA[sec]: 0.735 "
       ]
      },
      {
       "output_type": "stream",
       "stream": "stderr",
       "text": [
        "\r",
        "[ 36 %] elapsed[sec]: 0.417 | ETA[sec]: 0.733 "
       ]
      },
      {
       "output_type": "stream",
       "stream": "stderr",
       "text": [
        "\r",
        "[ 36 %] elapsed[sec]: 0.418 | ETA[sec]: 0.732 "
       ]
      },
      {
       "output_type": "stream",
       "stream": "stderr",
       "text": [
        "\r",
        "[ 36 %] elapsed[sec]: 0.418 | ETA[sec]: 0.730 "
       ]
      },
      {
       "output_type": "stream",
       "stream": "stderr",
       "text": [
        "\r",
        "[ 36 %] elapsed[sec]: 0.418 | ETA[sec]: 0.729 "
       ]
      },
      {
       "output_type": "stream",
       "stream": "stderr",
       "text": [
        "\r",
        "[ 36 %] elapsed[sec]: 0.419 | ETA[sec]: 0.728 "
       ]
      },
      {
       "output_type": "stream",
       "stream": "stderr",
       "text": [
        "\r",
        "[ 36 %] elapsed[sec]: 0.419 | ETA[sec]: 0.726 "
       ]
      },
      {
       "output_type": "stream",
       "stream": "stderr",
       "text": [
        "\r",
        "[ 36 %] elapsed[sec]: 0.420 | ETA[sec]: 0.725 "
       ]
      },
      {
       "output_type": "stream",
       "stream": "stderr",
       "text": [
        "\r",
        "[ 36 %] elapsed[sec]: 0.420 | ETA[sec]: 0.723 "
       ]
      },
      {
       "output_type": "stream",
       "stream": "stderr",
       "text": [
        "\r",
        "[ 36 %] elapsed[sec]: 0.420 | ETA[sec]: 0.722 "
       ]
      },
      {
       "output_type": "stream",
       "stream": "stderr",
       "text": [
        "\r",
        "[ 36 %] elapsed[sec]: 0.421 | ETA[sec]: 0.720 "
       ]
      },
      {
       "output_type": "stream",
       "stream": "stderr",
       "text": [
        "\r",
        "[ 36 %] elapsed[sec]: 0.421 | ETA[sec]: 0.719 "
       ]
      },
      {
       "output_type": "stream",
       "stream": "stderr",
       "text": [
        "\r",
        "[ 37 %] elapsed[sec]: 0.421 | ETA[sec]: 0.718 "
       ]
      },
      {
       "output_type": "stream",
       "stream": "stderr",
       "text": [
        "\r",
        "[ 37 %] elapsed[sec]: 0.422 | ETA[sec]: 0.716 "
       ]
      },
      {
       "output_type": "stream",
       "stream": "stderr",
       "text": [
        "\r",
        "[ 37 %] elapsed[sec]: 0.423 | ETA[sec]: 0.716 "
       ]
      },
      {
       "output_type": "stream",
       "stream": "stderr",
       "text": [
        "\r",
        "[ 37 %] elapsed[sec]: 0.423 | ETA[sec]: 0.715 "
       ]
      },
      {
       "output_type": "stream",
       "stream": "stderr",
       "text": [
        "\r",
        "[ 37 %] elapsed[sec]: 0.424 | ETA[sec]: 0.713 "
       ]
      },
      {
       "output_type": "stream",
       "stream": "stderr",
       "text": [
        "\r",
        "[ 37 %] elapsed[sec]: 0.424 | ETA[sec]: 0.712 "
       ]
      },
      {
       "output_type": "stream",
       "stream": "stderr",
       "text": [
        "\r",
        "[ 37 %] elapsed[sec]: 0.425 | ETA[sec]: 0.711 "
       ]
      },
      {
       "output_type": "stream",
       "stream": "stderr",
       "text": [
        "\r",
        "[ 37 %] elapsed[sec]: 0.425 | ETA[sec]: 0.710 "
       ]
      },
      {
       "output_type": "stream",
       "stream": "stderr",
       "text": [
        "\r",
        "[ 37 %] elapsed[sec]: 0.426 | ETA[sec]: 0.708 "
       ]
      },
      {
       "output_type": "stream",
       "stream": "stderr",
       "text": [
        "\r",
        "[ 37 %] elapsed[sec]: 0.426 | ETA[sec]: 0.707 "
       ]
      },
      {
       "output_type": "stream",
       "stream": "stderr",
       "text": [
        "\r",
        "[ 37 %] elapsed[sec]: 0.434 | ETA[sec]: 0.719 "
       ]
      },
      {
       "output_type": "stream",
       "stream": "stderr",
       "text": [
        "\r",
        "[ 37 %] elapsed[sec]: 0.435 | ETA[sec]: 0.718 "
       ]
      },
      {
       "output_type": "stream",
       "stream": "stderr",
       "text": [
        "\r",
        "[ 37 %] elapsed[sec]: 0.435 | ETA[sec]: 0.716 "
       ]
      },
      {
       "output_type": "stream",
       "stream": "stderr",
       "text": [
        "\r",
        "[ 37 %] elapsed[sec]: 0.436 | ETA[sec]: 0.715 "
       ]
      },
      {
       "output_type": "stream",
       "stream": "stderr",
       "text": [
        "\r",
        "[ 37 %] elapsed[sec]: 0.436 | ETA[sec]: 0.714 "
       ]
      },
      {
       "output_type": "stream",
       "stream": "stderr",
       "text": [
        "\r",
        "[ 38 %] elapsed[sec]: 0.436 | ETA[sec]: 0.712 "
       ]
      },
      {
       "output_type": "stream",
       "stream": "stderr",
       "text": [
        "\r",
        "[ 38 %] elapsed[sec]: 0.437 | ETA[sec]: 0.712 "
       ]
      },
      {
       "output_type": "stream",
       "stream": "stderr",
       "text": [
        "\r",
        "[ 38 %] elapsed[sec]: 0.438 | ETA[sec]: 0.710 "
       ]
      },
      {
       "output_type": "stream",
       "stream": "stderr",
       "text": [
        "\r",
        "[ 38 %] elapsed[sec]: 0.438 | ETA[sec]: 0.709 "
       ]
      },
      {
       "output_type": "stream",
       "stream": "stderr",
       "text": [
        "\r",
        "[ 38 %] elapsed[sec]: 0.439 | ETA[sec]: 0.708 "
       ]
      },
      {
       "output_type": "stream",
       "stream": "stderr",
       "text": [
        "\r",
        "[ 38 %] elapsed[sec]: 0.440 | ETA[sec]: 0.707 "
       ]
      },
      {
       "output_type": "stream",
       "stream": "stderr",
       "text": [
        "\r",
        "[ 38 %] elapsed[sec]: 0.440 | ETA[sec]: 0.706 "
       ]
      },
      {
       "output_type": "stream",
       "stream": "stderr",
       "text": [
        "\r",
        "[ 38 %] elapsed[sec]: 0.441 | ETA[sec]: 0.705 "
       ]
      },
      {
       "output_type": "stream",
       "stream": "stderr",
       "text": [
        "\r",
        "[ 38 %] elapsed[sec]: 0.441 | ETA[sec]: 0.704 "
       ]
      },
      {
       "output_type": "stream",
       "stream": "stderr",
       "text": [
        "\r",
        "[ 38 %] elapsed[sec]: 0.442 | ETA[sec]: 0.702 "
       ]
      },
      {
       "output_type": "stream",
       "stream": "stderr",
       "text": [
        "\r",
        "[ 38 %] elapsed[sec]: 0.442 | ETA[sec]: 0.701 "
       ]
      },
      {
       "output_type": "stream",
       "stream": "stderr",
       "text": [
        "\r",
        "[ 38 %] elapsed[sec]: 0.442 | ETA[sec]: 0.700 "
       ]
      },
      {
       "output_type": "stream",
       "stream": "stderr",
       "text": [
        "\r",
        "[ 38 %] elapsed[sec]: 0.443 | ETA[sec]: 0.699 "
       ]
      },
      {
       "output_type": "stream",
       "stream": "stderr",
       "text": [
        "\r",
        "[ 38 %] elapsed[sec]: 0.443 | ETA[sec]: 0.697 "
       ]
      },
      {
       "output_type": "stream",
       "stream": "stderr",
       "text": [
        "\r",
        "[ 38 %] elapsed[sec]: 0.444 | ETA[sec]: 0.696 "
       ]
      },
      {
       "output_type": "stream",
       "stream": "stderr",
       "text": [
        "\r",
        "[ 39 %] elapsed[sec]: 0.444 | ETA[sec]: 0.695 "
       ]
      },
      {
       "output_type": "stream",
       "stream": "stderr",
       "text": [
        "\r",
        "[ 39 %] elapsed[sec]: 0.445 | ETA[sec]: 0.694 "
       ]
      },
      {
       "output_type": "stream",
       "stream": "stderr",
       "text": [
        "\r",
        "[ 39 %] elapsed[sec]: 0.445 | ETA[sec]: 0.693 "
       ]
      },
      {
       "output_type": "stream",
       "stream": "stderr",
       "text": [
        "\r",
        "[ 39 %] elapsed[sec]: 0.446 | ETA[sec]: 0.691 "
       ]
      },
      {
       "output_type": "stream",
       "stream": "stderr",
       "text": [
        "\r",
        "[ 39 %] elapsed[sec]: 0.449 | ETA[sec]: 0.694 "
       ]
      },
      {
       "output_type": "stream",
       "stream": "stderr",
       "text": [
        "\r",
        "[ 39 %] elapsed[sec]: 0.449 | ETA[sec]: 0.693 "
       ]
      },
      {
       "output_type": "stream",
       "stream": "stderr",
       "text": [
        "\r",
        "[ 39 %] elapsed[sec]: 0.450 | ETA[sec]: 0.692 "
       ]
      },
      {
       "output_type": "stream",
       "stream": "stderr",
       "text": [
        "\r",
        "[ 39 %] elapsed[sec]: 0.451 | ETA[sec]: 0.691 "
       ]
      },
      {
       "output_type": "stream",
       "stream": "stderr",
       "text": [
        "\r",
        "[ 39 %] elapsed[sec]: 0.451 | ETA[sec]: 0.690 "
       ]
      },
      {
       "output_type": "stream",
       "stream": "stderr",
       "text": [
        "\r",
        "[ 39 %] elapsed[sec]: 0.451 | ETA[sec]: 0.688 "
       ]
      },
      {
       "output_type": "stream",
       "stream": "stderr",
       "text": [
        "\r",
        "[ 39 %] elapsed[sec]: 0.452 | ETA[sec]: 0.687 "
       ]
      },
      {
       "output_type": "stream",
       "stream": "stderr",
       "text": [
        "\r",
        "[ 39 %] elapsed[sec]: 0.452 | ETA[sec]: 0.686 "
       ]
      },
      {
       "output_type": "stream",
       "stream": "stderr",
       "text": [
        "\r",
        "[ 39 %] elapsed[sec]: 0.452 | ETA[sec]: 0.684 "
       ]
      },
      {
       "output_type": "stream",
       "stream": "stderr",
       "text": [
        "\r",
        "[ 39 %] elapsed[sec]: 0.453 | ETA[sec]: 0.683 "
       ]
      },
      {
       "output_type": "stream",
       "stream": "stderr",
       "text": [
        "\r",
        "[ 39 %] elapsed[sec]: 0.453 | ETA[sec]: 0.682 "
       ]
      },
      {
       "output_type": "stream",
       "stream": "stderr",
       "text": [
        "\r",
        "[ 40 %] elapsed[sec]: 0.454 | ETA[sec]: 0.680 "
       ]
      },
      {
       "output_type": "stream",
       "stream": "stderr",
       "text": [
        "\r",
        "[ 40 %] elapsed[sec]: 0.454 | ETA[sec]: 0.679 "
       ]
      },
      {
       "output_type": "stream",
       "stream": "stderr",
       "text": [
        "\r",
        "[ 40 %] elapsed[sec]: 0.454 | ETA[sec]: 0.678 "
       ]
      },
      {
       "output_type": "stream",
       "stream": "stderr",
       "text": [
        "\r",
        "[ 40 %] elapsed[sec]: 0.455 | ETA[sec]: 0.676 "
       ]
      },
      {
       "output_type": "stream",
       "stream": "stderr",
       "text": [
        "\r",
        "[ 40 %] elapsed[sec]: 0.455 | ETA[sec]: 0.675 "
       ]
      },
      {
       "output_type": "stream",
       "stream": "stderr",
       "text": [
        "\r",
        "[ 40 %] elapsed[sec]: 0.456 | ETA[sec]: 0.674 "
       ]
      },
      {
       "output_type": "stream",
       "stream": "stderr",
       "text": [
        "\r",
        "[ 40 %] elapsed[sec]: 0.456 | ETA[sec]: 0.673 "
       ]
      },
      {
       "output_type": "stream",
       "stream": "stderr",
       "text": [
        "\r",
        "[ 40 %] elapsed[sec]: 0.457 | ETA[sec]: 0.672 "
       ]
      },
      {
       "output_type": "stream",
       "stream": "stderr",
       "text": [
        "\r",
        "[ 40 %] elapsed[sec]: 0.457 | ETA[sec]: 0.671 "
       ]
      },
      {
       "output_type": "stream",
       "stream": "stderr",
       "text": [
        "\r",
        "[ 40 %] elapsed[sec]: 0.458 | ETA[sec]: 0.670 "
       ]
      },
      {
       "output_type": "stream",
       "stream": "stderr",
       "text": [
        "\r",
        "[ 40 %] elapsed[sec]: 0.458 | ETA[sec]: 0.669 "
       ]
      },
      {
       "output_type": "stream",
       "stream": "stderr",
       "text": [
        "\r",
        "[ 40 %] elapsed[sec]: 0.459 | ETA[sec]: 0.668 "
       ]
      },
      {
       "output_type": "stream",
       "stream": "stderr",
       "text": [
        "\r",
        "[ 40 %] elapsed[sec]: 0.459 | ETA[sec]: 0.666 "
       ]
      },
      {
       "output_type": "stream",
       "stream": "stderr",
       "text": [
        "\r",
        "[ 40 %] elapsed[sec]: 0.468 | ETA[sec]: 0.677 "
       ]
      },
      {
       "output_type": "stream",
       "stream": "stderr",
       "text": [
        "\r",
        "[ 40 %] elapsed[sec]: 0.468 | ETA[sec]: 0.675 "
       ]
      },
      {
       "output_type": "stream",
       "stream": "stderr",
       "text": [
        "\r",
        "[ 41 %] elapsed[sec]: 0.468 | ETA[sec]: 0.674 "
       ]
      },
      {
       "output_type": "stream",
       "stream": "stderr",
       "text": [
        "\r",
        "[ 41 %] elapsed[sec]: 0.469 | ETA[sec]: 0.673 "
       ]
      },
      {
       "output_type": "stream",
       "stream": "stderr",
       "text": [
        "\r",
        "[ 41 %] elapsed[sec]: 0.469 | ETA[sec]: 0.672 "
       ]
      },
      {
       "output_type": "stream",
       "stream": "stderr",
       "text": [
        "\r",
        "[ 41 %] elapsed[sec]: 0.470 | ETA[sec]: 0.670 "
       ]
      },
      {
       "output_type": "stream",
       "stream": "stderr",
       "text": [
        "\r",
        "[ 41 %] elapsed[sec]: 0.470 | ETA[sec]: 0.669 "
       ]
      },
      {
       "output_type": "stream",
       "stream": "stderr",
       "text": [
        "\r",
        "[ 41 %] elapsed[sec]: 0.471 | ETA[sec]: 0.669 "
       ]
      },
      {
       "output_type": "stream",
       "stream": "stderr",
       "text": [
        "\r",
        "[ 41 %] elapsed[sec]: 0.472 | ETA[sec]: 0.668 "
       ]
      },
      {
       "output_type": "stream",
       "stream": "stderr",
       "text": [
        "\r",
        "[ 41 %] elapsed[sec]: 0.472 | ETA[sec]: 0.667 "
       ]
      },
      {
       "output_type": "stream",
       "stream": "stderr",
       "text": [
        "\r",
        "[ 41 %] elapsed[sec]: 0.473 | ETA[sec]: 0.665 "
       ]
      },
      {
       "output_type": "stream",
       "stream": "stderr",
       "text": [
        "\r",
        "[ 41 %] elapsed[sec]: 0.473 | ETA[sec]: 0.664 "
       ]
      },
      {
       "output_type": "stream",
       "stream": "stderr",
       "text": [
        "\r",
        "[ 41 %] elapsed[sec]: 0.474 | ETA[sec]: 0.663 "
       ]
      },
      {
       "output_type": "stream",
       "stream": "stderr",
       "text": [
        "\r",
        "[ 41 %] elapsed[sec]: 0.474 | ETA[sec]: 0.662 "
       ]
      },
      {
       "output_type": "stream",
       "stream": "stderr",
       "text": [
        "\r",
        "[ 41 %] elapsed[sec]: 0.475 | ETA[sec]: 0.661 "
       ]
      },
      {
       "output_type": "stream",
       "stream": "stderr",
       "text": [
        "\r",
        "[ 41 %] elapsed[sec]: 0.475 | ETA[sec]: 0.660 "
       ]
      },
      {
       "output_type": "stream",
       "stream": "stderr",
       "text": [
        "\r",
        "[ 41 %] elapsed[sec]: 0.476 | ETA[sec]: 0.659 "
       ]
      },
      {
       "output_type": "stream",
       "stream": "stderr",
       "text": [
        "\r",
        "[ 42 %] elapsed[sec]: 0.476 | ETA[sec]: 0.658 "
       ]
      },
      {
       "output_type": "stream",
       "stream": "stderr",
       "text": [
        "\r",
        "[ 42 %] elapsed[sec]: 0.477 | ETA[sec]: 0.657 "
       ]
      },
      {
       "output_type": "stream",
       "stream": "stderr",
       "text": [
        "\r",
        "[ 42 %] elapsed[sec]: 0.477 | ETA[sec]: 0.656 "
       ]
      },
      {
       "output_type": "stream",
       "stream": "stderr",
       "text": [
        "\r",
        "[ 42 %] elapsed[sec]: 0.478 | ETA[sec]: 0.654 "
       ]
      },
      {
       "output_type": "stream",
       "stream": "stderr",
       "text": [
        "\r",
        "[ 42 %] elapsed[sec]: 0.478 | ETA[sec]: 0.653 "
       ]
      },
      {
       "output_type": "stream",
       "stream": "stderr",
       "text": [
        "\r",
        "[ 42 %] elapsed[sec]: 0.479 | ETA[sec]: 0.652 "
       ]
      },
      {
       "output_type": "stream",
       "stream": "stderr",
       "text": [
        "\r",
        "[ 42 %] elapsed[sec]: 0.479 | ETA[sec]: 0.651 "
       ]
      },
      {
       "output_type": "stream",
       "stream": "stderr",
       "text": [
        "\r",
        "[ 42 %] elapsed[sec]: 0.482 | ETA[sec]: 0.653 "
       ]
      },
      {
       "output_type": "stream",
       "stream": "stderr",
       "text": [
        "\r",
        "[ 42 %] elapsed[sec]: 0.483 | ETA[sec]: 0.652 "
       ]
      },
      {
       "output_type": "stream",
       "stream": "stderr",
       "text": [
        "\r",
        "[ 42 %] elapsed[sec]: 0.483 | ETA[sec]: 0.651 "
       ]
      },
      {
       "output_type": "stream",
       "stream": "stderr",
       "text": [
        "\r",
        "[ 42 %] elapsed[sec]: 0.483 | ETA[sec]: 0.649 "
       ]
      },
      {
       "output_type": "stream",
       "stream": "stderr",
       "text": [
        "\r",
        "[ 42 %] elapsed[sec]: 0.484 | ETA[sec]: 0.648 "
       ]
      },
      {
       "output_type": "stream",
       "stream": "stderr",
       "text": [
        "\r",
        "[ 42 %] elapsed[sec]: 0.484 | ETA[sec]: 0.647 "
       ]
      },
      {
       "output_type": "stream",
       "stream": "stderr",
       "text": [
        "\r",
        "[ 42 %] elapsed[sec]: 0.485 | ETA[sec]: 0.646 "
       ]
      },
      {
       "output_type": "stream",
       "stream": "stderr",
       "text": [
        "\r",
        "[ 42 %] elapsed[sec]: 0.485 | ETA[sec]: 0.645 "
       ]
      },
      {
       "output_type": "stream",
       "stream": "stderr",
       "text": [
        "\r",
        "[ 43 %] elapsed[sec]: 0.486 | ETA[sec]: 0.644 "
       ]
      },
      {
       "output_type": "stream",
       "stream": "stderr",
       "text": [
        "\r",
        "[ 43 %] elapsed[sec]: 0.486 | ETA[sec]: 0.643 "
       ]
      },
      {
       "output_type": "stream",
       "stream": "stderr",
       "text": [
        "\r",
        "[ 43 %] elapsed[sec]: 0.486 | ETA[sec]: 0.641 "
       ]
      },
      {
       "output_type": "stream",
       "stream": "stderr",
       "text": [
        "\r",
        "[ 43 %] elapsed[sec]: 0.487 | ETA[sec]: 0.640 "
       ]
      },
      {
       "output_type": "stream",
       "stream": "stderr",
       "text": [
        "\r",
        "[ 43 %] elapsed[sec]: 0.487 | ETA[sec]: 0.639 "
       ]
      },
      {
       "output_type": "stream",
       "stream": "stderr",
       "text": [
        "\r",
        "[ 43 %] elapsed[sec]: 0.488 | ETA[sec]: 0.638 "
       ]
      },
      {
       "output_type": "stream",
       "stream": "stderr",
       "text": [
        "\r",
        "[ 43 %] elapsed[sec]: 0.488 | ETA[sec]: 0.636 "
       ]
      },
      {
       "output_type": "stream",
       "stream": "stderr",
       "text": [
        "\r",
        "[ 43 %] elapsed[sec]: 0.488 | ETA[sec]: 0.635 "
       ]
      },
      {
       "output_type": "stream",
       "stream": "stderr",
       "text": [
        "\r",
        "[ 43 %] elapsed[sec]: 0.489 | ETA[sec]: 0.634 "
       ]
      },
      {
       "output_type": "stream",
       "stream": "stderr",
       "text": [
        "\r",
        "[ 43 %] elapsed[sec]: 0.489 | ETA[sec]: 0.633 "
       ]
      },
      {
       "output_type": "stream",
       "stream": "stderr",
       "text": [
        "\r",
        "[ 43 %] elapsed[sec]: 0.490 | ETA[sec]: 0.632 "
       ]
      },
      {
       "output_type": "stream",
       "stream": "stderr",
       "text": [
        "\r",
        "[ 43 %] elapsed[sec]: 0.491 | ETA[sec]: 0.631 "
       ]
      },
      {
       "output_type": "stream",
       "stream": "stderr",
       "text": [
        "\r",
        "[ 43 %] elapsed[sec]: 0.491 | ETA[sec]: 0.630 "
       ]
      },
      {
       "output_type": "stream",
       "stream": "stderr",
       "text": [
        "\r",
        "[ 43 %] elapsed[sec]: 0.491 | ETA[sec]: 0.629 "
       ]
      },
      {
       "output_type": "stream",
       "stream": "stderr",
       "text": [
        "\r",
        "[ 43 %] elapsed[sec]: 0.492 | ETA[sec]: 0.628 "
       ]
      },
      {
       "output_type": "stream",
       "stream": "stderr",
       "text": [
        "\r",
        "[ 44 %] elapsed[sec]: 0.492 | ETA[sec]: 0.627 "
       ]
      },
      {
       "output_type": "stream",
       "stream": "stderr",
       "text": [
        "\r",
        "[ 44 %] elapsed[sec]: 0.501 | ETA[sec]: 0.636 "
       ]
      },
      {
       "output_type": "stream",
       "stream": "stderr",
       "text": [
        "\r",
        "[ 44 %] elapsed[sec]: 0.502 | ETA[sec]: 0.636 "
       ]
      },
      {
       "output_type": "stream",
       "stream": "stderr",
       "text": [
        "\r",
        "[ 44 %] elapsed[sec]: 0.503 | ETA[sec]: 0.635 "
       ]
      },
      {
       "output_type": "stream",
       "stream": "stderr",
       "text": [
        "\r",
        "[ 44 %] elapsed[sec]: 0.503 | ETA[sec]: 0.634 "
       ]
      },
      {
       "output_type": "stream",
       "stream": "stderr",
       "text": [
        "\r",
        "[ 44 %] elapsed[sec]: 0.504 | ETA[sec]: 0.632 "
       ]
      },
      {
       "output_type": "stream",
       "stream": "stderr",
       "text": [
        "\r",
        "[ 44 %] elapsed[sec]: 0.504 | ETA[sec]: 0.631 "
       ]
      },
      {
       "output_type": "stream",
       "stream": "stderr",
       "text": [
        "\r",
        "[ 44 %] elapsed[sec]: 0.505 | ETA[sec]: 0.631 "
       ]
      },
      {
       "output_type": "stream",
       "stream": "stderr",
       "text": [
        "\r",
        "[ 44 %] elapsed[sec]: 0.506 | ETA[sec]: 0.630 "
       ]
      },
      {
       "output_type": "stream",
       "stream": "stderr",
       "text": [
        "\r",
        "[ 44 %] elapsed[sec]: 0.506 | ETA[sec]: 0.629 "
       ]
      },
      {
       "output_type": "stream",
       "stream": "stderr",
       "text": [
        "\r",
        "[ 44 %] elapsed[sec]: 0.508 | ETA[sec]: 0.629 "
       ]
      },
      {
       "output_type": "stream",
       "stream": "stderr",
       "text": [
        "\r",
        "[ 44 %] elapsed[sec]: 0.508 | ETA[sec]: 0.629 "
       ]
      },
      {
       "output_type": "stream",
       "stream": "stderr",
       "text": [
        "\r",
        "[ 44 %] elapsed[sec]: 0.509 | ETA[sec]: 0.628 "
       ]
      },
      {
       "output_type": "stream",
       "stream": "stderr",
       "text": [
        "\r",
        "[ 44 %] elapsed[sec]: 0.510 | ETA[sec]: 0.626 "
       ]
      },
      {
       "output_type": "stream",
       "stream": "stderr",
       "text": [
        "\r",
        "[ 44 %] elapsed[sec]: 0.510 | ETA[sec]: 0.625 "
       ]
      },
      {
       "output_type": "stream",
       "stream": "stderr",
       "text": [
        "\r",
        "[ 45 %] elapsed[sec]: 0.511 | ETA[sec]: 0.624 "
       ]
      },
      {
       "output_type": "stream",
       "stream": "stderr",
       "text": [
        "\r",
        "[ 45 %] elapsed[sec]: 0.511 | ETA[sec]: 0.623 "
       ]
      },
      {
       "output_type": "stream",
       "stream": "stderr",
       "text": [
        "\r",
        "[ 45 %] elapsed[sec]: 0.519 | ETA[sec]: 0.631 "
       ]
      },
      {
       "output_type": "stream",
       "stream": "stderr",
       "text": [
        "\r",
        "[ 45 %] elapsed[sec]: 0.519 | ETA[sec]: 0.630 "
       ]
      },
      {
       "output_type": "stream",
       "stream": "stderr",
       "text": [
        "\r",
        "[ 45 %] elapsed[sec]: 0.520 | ETA[sec]: 0.629 "
       ]
      },
      {
       "output_type": "stream",
       "stream": "stderr",
       "text": [
        "\r",
        "[ 45 %] elapsed[sec]: 0.521 | ETA[sec]: 0.628 "
       ]
      },
      {
       "output_type": "stream",
       "stream": "stderr",
       "text": [
        "\r",
        "[ 45 %] elapsed[sec]: 0.521 | ETA[sec]: 0.627 "
       ]
      },
      {
       "output_type": "stream",
       "stream": "stderr",
       "text": [
        "\r",
        "[ 45 %] elapsed[sec]: 0.535 | ETA[sec]: 0.642 "
       ]
      },
      {
       "output_type": "stream",
       "stream": "stderr",
       "text": [
        "\r",
        "[ 45 %] elapsed[sec]: 0.535 | ETA[sec]: 0.640 "
       ]
      },
      {
       "output_type": "stream",
       "stream": "stderr",
       "text": [
        "\r",
        "[ 45 %] elapsed[sec]: 0.536 | ETA[sec]: 0.639 "
       ]
      },
      {
       "output_type": "stream",
       "stream": "stderr",
       "text": [
        "\r",
        "[ 45 %] elapsed[sec]: 0.537 | ETA[sec]: 0.639 "
       ]
      },
      {
       "output_type": "stream",
       "stream": "stderr",
       "text": [
        "\r",
        "[ 45 %] elapsed[sec]: 0.537 | ETA[sec]: 0.637 "
       ]
      },
      {
       "output_type": "stream",
       "stream": "stderr",
       "text": [
        "\r",
        "[ 45 %] elapsed[sec]: 0.538 | ETA[sec]: 0.636 "
       ]
      },
      {
       "output_type": "stream",
       "stream": "stderr",
       "text": [
        "\r",
        "[ 45 %] elapsed[sec]: 0.538 | ETA[sec]: 0.635 "
       ]
      },
      {
       "output_type": "stream",
       "stream": "stderr",
       "text": [
        "\r",
        "[ 45 %] elapsed[sec]: 0.540 | ETA[sec]: 0.635 "
       ]
      },
      {
       "output_type": "stream",
       "stream": "stderr",
       "text": [
        "\r",
        "[ 46 %] elapsed[sec]: 0.540 | ETA[sec]: 0.634 "
       ]
      },
      {
       "output_type": "stream",
       "stream": "stderr",
       "text": [
        "\r",
        "[ 46 %] elapsed[sec]: 0.540 | ETA[sec]: 0.633 "
       ]
      },
      {
       "output_type": "stream",
       "stream": "stderr",
       "text": [
        "\r",
        "[ 46 %] elapsed[sec]: 0.541 | ETA[sec]: 0.631 "
       ]
      },
      {
       "output_type": "stream",
       "stream": "stderr",
       "text": [
        "\r",
        "[ 46 %] elapsed[sec]: 0.541 | ETA[sec]: 0.630 "
       ]
      },
      {
       "output_type": "stream",
       "stream": "stderr",
       "text": [
        "\r",
        "[ 46 %] elapsed[sec]: 0.542 | ETA[sec]: 0.629 "
       ]
      },
      {
       "output_type": "stream",
       "stream": "stderr",
       "text": [
        "\r",
        "[ 46 %] elapsed[sec]: 0.542 | ETA[sec]: 0.628 "
       ]
      },
      {
       "output_type": "stream",
       "stream": "stderr",
       "text": [
        "\r",
        "[ 46 %] elapsed[sec]: 0.542 | ETA[sec]: 0.626 "
       ]
      },
      {
       "output_type": "stream",
       "stream": "stderr",
       "text": [
        "\r",
        "[ 46 %] elapsed[sec]: 0.543 | ETA[sec]: 0.625 "
       ]
      },
      {
       "output_type": "stream",
       "stream": "stderr",
       "text": [
        "\r",
        "[ 46 %] elapsed[sec]: 0.543 | ETA[sec]: 0.624 "
       ]
      },
      {
       "output_type": "stream",
       "stream": "stderr",
       "text": [
        "\r",
        "[ 46 %] elapsed[sec]: 0.543 | ETA[sec]: 0.623 "
       ]
      },
      {
       "output_type": "stream",
       "stream": "stderr",
       "text": [
        "\r",
        "[ 46 %] elapsed[sec]: 0.546 | ETA[sec]: 0.624 "
       ]
      },
      {
       "output_type": "stream",
       "stream": "stderr",
       "text": [
        "\r",
        "[ 46 %] elapsed[sec]: 0.547 | ETA[sec]: 0.623 "
       ]
      },
      {
       "output_type": "stream",
       "stream": "stderr",
       "text": [
        "\r",
        "[ 46 %] elapsed[sec]: 0.547 | ETA[sec]: 0.622 "
       ]
      },
      {
       "output_type": "stream",
       "stream": "stderr",
       "text": [
        "\r",
        "[ 46 %] elapsed[sec]: 0.547 | ETA[sec]: 0.621 "
       ]
      },
      {
       "output_type": "stream",
       "stream": "stderr",
       "text": [
        "\r",
        "[ 46 %] elapsed[sec]: 0.548 | ETA[sec]: 0.619 "
       ]
      },
      {
       "output_type": "stream",
       "stream": "stderr",
       "text": [
        "\r",
        "[ 47 %] elapsed[sec]: 0.566 | ETA[sec]: 0.638 "
       ]
      },
      {
       "output_type": "stream",
       "stream": "stderr",
       "text": [
        "\r",
        "[ 47 %] elapsed[sec]: 0.567 | ETA[sec]: 0.637 "
       ]
      },
      {
       "output_type": "stream",
       "stream": "stderr",
       "text": [
        "\r",
        "[ 47 %] elapsed[sec]: 0.567 | ETA[sec]: 0.636 "
       ]
      },
      {
       "output_type": "stream",
       "stream": "stderr",
       "text": [
        "\r",
        "[ 47 %] elapsed[sec]: 0.568 | ETA[sec]: 0.635 "
       ]
      },
      {
       "output_type": "stream",
       "stream": "stderr",
       "text": [
        "\r",
        "[ 47 %] elapsed[sec]: 0.568 | ETA[sec]: 0.634 "
       ]
      },
      {
       "output_type": "stream",
       "stream": "stderr",
       "text": [
        "\r",
        "[ 47 %] elapsed[sec]: 0.569 | ETA[sec]: 0.633 "
       ]
      },
      {
       "output_type": "stream",
       "stream": "stderr",
       "text": [
        "\r",
        "[ 47 %] elapsed[sec]: 0.569 | ETA[sec]: 0.632 "
       ]
      },
      {
       "output_type": "stream",
       "stream": "stderr",
       "text": [
        "\r",
        "[ 47 %] elapsed[sec]: 0.570 | ETA[sec]: 0.631 "
       ]
      },
      {
       "output_type": "stream",
       "stream": "stderr",
       "text": [
        "\r",
        "[ 47 %] elapsed[sec]: 0.570 | ETA[sec]: 0.630 "
       ]
      },
      {
       "output_type": "stream",
       "stream": "stderr",
       "text": [
        "\r",
        "[ 47 %] elapsed[sec]: 0.572 | ETA[sec]: 0.629 "
       ]
      },
      {
       "output_type": "stream",
       "stream": "stderr",
       "text": [
        "\r",
        "[ 47 %] elapsed[sec]: 0.572 | ETA[sec]: 0.628 "
       ]
      },
      {
       "output_type": "stream",
       "stream": "stderr",
       "text": [
        "\r",
        "[ 47 %] elapsed[sec]: 0.572 | ETA[sec]: 0.627 "
       ]
      },
      {
       "output_type": "stream",
       "stream": "stderr",
       "text": [
        "\r",
        "[ 47 %] elapsed[sec]: 0.574 | ETA[sec]: 0.627 "
       ]
      },
      {
       "output_type": "stream",
       "stream": "stderr",
       "text": [
        "\r",
        "[ 47 %] elapsed[sec]: 0.575 | ETA[sec]: 0.626 "
       ]
      },
      {
       "output_type": "stream",
       "stream": "stderr",
       "text": [
        "\r",
        "[ 47 %] elapsed[sec]: 0.575 | ETA[sec]: 0.625 "
       ]
      },
      {
       "output_type": "stream",
       "stream": "stderr",
       "text": [
        "\r",
        "[ 48 %] elapsed[sec]: 0.575 | ETA[sec]: 0.623 "
       ]
      },
      {
       "output_type": "stream",
       "stream": "stderr",
       "text": [
        "\r",
        "[ 48 %] elapsed[sec]: 0.576 | ETA[sec]: 0.622 "
       ]
      },
      {
       "output_type": "stream",
       "stream": "stderr",
       "text": [
        "\r",
        "[ 48 %] elapsed[sec]: 0.576 | ETA[sec]: 0.621 "
       ]
      },
      {
       "output_type": "stream",
       "stream": "stderr",
       "text": [
        "\r",
        "[ 48 %] elapsed[sec]: 0.576 | ETA[sec]: 0.620 "
       ]
      },
      {
       "output_type": "stream",
       "stream": "stderr",
       "text": [
        "\r",
        "[ 48 %] elapsed[sec]: 0.577 | ETA[sec]: 0.618 "
       ]
      },
      {
       "output_type": "stream",
       "stream": "stderr",
       "text": [
        "\r",
        "[ 48 %] elapsed[sec]: 0.577 | ETA[sec]: 0.617 "
       ]
      },
      {
       "output_type": "stream",
       "stream": "stderr",
       "text": [
        "\r",
        "[ 48 %] elapsed[sec]: 0.578 | ETA[sec]: 0.616 "
       ]
      },
      {
       "output_type": "stream",
       "stream": "stderr",
       "text": [
        "\r",
        "[ 48 %] elapsed[sec]: 0.578 | ETA[sec]: 0.615 "
       ]
      },
      {
       "output_type": "stream",
       "stream": "stderr",
       "text": [
        "\r",
        "[ 48 %] elapsed[sec]: 0.582 | ETA[sec]: 0.617 "
       ]
      },
      {
       "output_type": "stream",
       "stream": "stderr",
       "text": [
        "\r",
        "[ 48 %] elapsed[sec]: 0.582 | ETA[sec]: 0.616 "
       ]
      },
      {
       "output_type": "stream",
       "stream": "stderr",
       "text": [
        "\r",
        "[ 48 %] elapsed[sec]: 0.583 | ETA[sec]: 0.615 "
       ]
      },
      {
       "output_type": "stream",
       "stream": "stderr",
       "text": [
        "\r",
        "[ 48 %] elapsed[sec]: 0.583 | ETA[sec]: 0.614 "
       ]
      },
      {
       "output_type": "stream",
       "stream": "stderr",
       "text": [
        "\r",
        "[ 48 %] elapsed[sec]: 0.584 | ETA[sec]: 0.613 "
       ]
      },
      {
       "output_type": "stream",
       "stream": "stderr",
       "text": [
        "\r",
        "[ 48 %] elapsed[sec]: 0.585 | ETA[sec]: 0.612 "
       ]
      },
      {
       "output_type": "stream",
       "stream": "stderr",
       "text": [
        "\r",
        "[ 48 %] elapsed[sec]: 0.585 | ETA[sec]: 0.611 "
       ]
      },
      {
       "output_type": "stream",
       "stream": "stderr",
       "text": [
        "\r",
        "[ 49 %] elapsed[sec]: 0.585 | ETA[sec]: 0.609 "
       ]
      },
      {
       "output_type": "stream",
       "stream": "stderr",
       "text": [
        "\r",
        "[ 49 %] elapsed[sec]: 0.586 | ETA[sec]: 0.608 "
       ]
      },
      {
       "output_type": "stream",
       "stream": "stderr",
       "text": [
        "\r",
        "[ 49 %] elapsed[sec]: 0.586 | ETA[sec]: 0.607 "
       ]
      },
      {
       "output_type": "stream",
       "stream": "stderr",
       "text": [
        "\r",
        "[ 49 %] elapsed[sec]: 0.587 | ETA[sec]: 0.606 "
       ]
      },
      {
       "output_type": "stream",
       "stream": "stderr",
       "text": [
        "\r",
        "[ 49 %] elapsed[sec]: 0.588 | ETA[sec]: 0.605 "
       ]
      },
      {
       "output_type": "stream",
       "stream": "stderr",
       "text": [
        "\r",
        "[ 49 %] elapsed[sec]: 0.588 | ETA[sec]: 0.604 "
       ]
      },
      {
       "output_type": "stream",
       "stream": "stderr",
       "text": [
        "\r",
        "[ 49 %] elapsed[sec]: 0.588 | ETA[sec]: 0.603 "
       ]
      },
      {
       "output_type": "stream",
       "stream": "stderr",
       "text": [
        "\r",
        "[ 49 %] elapsed[sec]: 0.589 | ETA[sec]: 0.602 "
       ]
      },
      {
       "output_type": "stream",
       "stream": "stderr",
       "text": [
        "\r",
        "[ 49 %] elapsed[sec]: 0.589 | ETA[sec]: 0.601 "
       ]
      },
      {
       "output_type": "stream",
       "stream": "stderr",
       "text": [
        "\r",
        "[ 49 %] elapsed[sec]: 0.590 | ETA[sec]: 0.599 "
       ]
      },
      {
       "output_type": "stream",
       "stream": "stderr",
       "text": [
        "\r",
        "[ 49 %] elapsed[sec]: 0.590 | ETA[sec]: 0.598 "
       ]
      },
      {
       "output_type": "stream",
       "stream": "stderr",
       "text": [
        "\r",
        "[ 49 %] elapsed[sec]: 0.591 | ETA[sec]: 0.597 "
       ]
      },
      {
       "output_type": "stream",
       "stream": "stderr",
       "text": [
        "\r",
        "[ 49 %] elapsed[sec]: 0.591 | ETA[sec]: 0.596 "
       ]
      },
      {
       "output_type": "stream",
       "stream": "stderr",
       "text": [
        "\r",
        "[ 49 %] elapsed[sec]: 0.592 | ETA[sec]: 0.595 "
       ]
      },
      {
       "output_type": "stream",
       "stream": "stderr",
       "text": [
        "\r",
        "[ 49 %] elapsed[sec]: 0.592 | ETA[sec]: 0.594 "
       ]
      },
      {
       "output_type": "stream",
       "stream": "stderr",
       "text": [
        "\r",
        "[ 50 %] elapsed[sec]: 0.593 | ETA[sec]: 0.593 "
       ]
      },
      {
       "output_type": "stream",
       "stream": "stderr",
       "text": [
        "\r",
        "[ 50 %] elapsed[sec]: 0.593 | ETA[sec]: 0.592 "
       ]
      },
      {
       "output_type": "stream",
       "stream": "stderr",
       "text": [
        "\r",
        "[ 50 %] elapsed[sec]: 0.593 | ETA[sec]: 0.590 "
       ]
      },
      {
       "output_type": "stream",
       "stream": "stderr",
       "text": [
        "\r",
        "[ 50 %] elapsed[sec]: 0.603 | ETA[sec]: 0.599 "
       ]
      },
      {
       "output_type": "stream",
       "stream": "stderr",
       "text": [
        "\r",
        "[ 50 %] elapsed[sec]: 0.604 | ETA[sec]: 0.598 "
       ]
      },
      {
       "output_type": "stream",
       "stream": "stderr",
       "text": [
        "\r",
        "[ 50 %] elapsed[sec]: 0.604 | ETA[sec]: 0.596 "
       ]
      },
      {
       "output_type": "stream",
       "stream": "stderr",
       "text": [
        "\r",
        "[ 50 %] elapsed[sec]: 0.605 | ETA[sec]: 0.595 "
       ]
      },
      {
       "output_type": "stream",
       "stream": "stderr",
       "text": [
        "\r",
        "[ 50 %] elapsed[sec]: 0.605 | ETA[sec]: 0.594 "
       ]
      },
      {
       "output_type": "stream",
       "stream": "stderr",
       "text": [
        "\r",
        "[ 50 %] elapsed[sec]: 0.606 | ETA[sec]: 0.593 "
       ]
      },
      {
       "output_type": "stream",
       "stream": "stderr",
       "text": [
        "\r",
        "[ 50 %] elapsed[sec]: 0.606 | ETA[sec]: 0.592 "
       ]
      },
      {
       "output_type": "stream",
       "stream": "stderr",
       "text": [
        "\r",
        "[ 50 %] elapsed[sec]: 0.607 | ETA[sec]: 0.591 "
       ]
      },
      {
       "output_type": "stream",
       "stream": "stderr",
       "text": [
        "\r",
        "[ 50 %] elapsed[sec]: 0.608 | ETA[sec]: 0.591 "
       ]
      },
      {
       "output_type": "stream",
       "stream": "stderr",
       "text": [
        "\r",
        "[ 50 %] elapsed[sec]: 0.609 | ETA[sec]: 0.589 "
       ]
      },
      {
       "output_type": "stream",
       "stream": "stderr",
       "text": [
        "\r",
        "[ 50 %] elapsed[sec]: 0.609 | ETA[sec]: 0.588 "
       ]
      },
      {
       "output_type": "stream",
       "stream": "stderr",
       "text": [
        "\r",
        "[ 50 %] elapsed[sec]: 0.609 | ETA[sec]: 0.587 "
       ]
      },
      {
       "output_type": "stream",
       "stream": "stderr",
       "text": [
        "\r",
        "[ 51 %] elapsed[sec]: 0.610 | ETA[sec]: 0.586 "
       ]
      },
      {
       "output_type": "stream",
       "stream": "stderr",
       "text": [
        "\r",
        "[ 51 %] elapsed[sec]: 0.610 | ETA[sec]: 0.585 "
       ]
      },
      {
       "output_type": "stream",
       "stream": "stderr",
       "text": [
        "\r",
        "[ 51 %] elapsed[sec]: 0.611 | ETA[sec]: 0.583 "
       ]
      },
      {
       "output_type": "stream",
       "stream": "stderr",
       "text": [
        "\r",
        "[ 51 %] elapsed[sec]: 0.611 | ETA[sec]: 0.582 "
       ]
      },
      {
       "output_type": "stream",
       "stream": "stderr",
       "text": [
        "\r",
        "[ 51 %] elapsed[sec]: 0.611 | ETA[sec]: 0.581 "
       ]
      },
      {
       "output_type": "stream",
       "stream": "stderr",
       "text": [
        "\r",
        "[ 51 %] elapsed[sec]: 0.612 | ETA[sec]: 0.580 "
       ]
      },
      {
       "output_type": "stream",
       "stream": "stderr",
       "text": [
        "\r",
        "[ 51 %] elapsed[sec]: 0.612 | ETA[sec]: 0.579 "
       ]
      },
      {
       "output_type": "stream",
       "stream": "stderr",
       "text": [
        "\r",
        "[ 51 %] elapsed[sec]: 0.612 | ETA[sec]: 0.578 "
       ]
      },
      {
       "output_type": "stream",
       "stream": "stderr",
       "text": [
        "\r",
        "[ 51 %] elapsed[sec]: 0.613 | ETA[sec]: 0.576 "
       ]
      },
      {
       "output_type": "stream",
       "stream": "stderr",
       "text": [
        "\r",
        "[ 51 %] elapsed[sec]: 0.613 | ETA[sec]: 0.576 "
       ]
      },
      {
       "output_type": "stream",
       "stream": "stderr",
       "text": [
        "\r",
        "[ 51 %] elapsed[sec]: 0.614 | ETA[sec]: 0.574 "
       ]
      },
      {
       "output_type": "stream",
       "stream": "stderr",
       "text": [
        "\r",
        "[ 51 %] elapsed[sec]: 0.614 | ETA[sec]: 0.575 "
       ]
      },
      {
       "output_type": "stream",
       "stream": "stderr",
       "text": [
        "\r",
        "[ 51 %] elapsed[sec]: 0.616 | ETA[sec]: 0.574 "
       ]
      },
      {
       "output_type": "stream",
       "stream": "stderr",
       "text": [
        "\r",
        "[ 51 %] elapsed[sec]: 0.617 | ETA[sec]: 0.572 "
       ]
      },
      {
       "output_type": "stream",
       "stream": "stderr",
       "text": [
        "\r",
        "[ 51 %] elapsed[sec]: 0.617 | ETA[sec]: 0.571 "
       ]
      },
      {
       "output_type": "stream",
       "stream": "stderr",
       "text": [
        "\r",
        "[ 52 %] elapsed[sec]: 0.618 | ETA[sec]: 0.570 "
       ]
      },
      {
       "output_type": "stream",
       "stream": "stderr",
       "text": [
        "\r",
        "[ 52 %] elapsed[sec]: 0.618 | ETA[sec]: 0.569 "
       ]
      },
      {
       "output_type": "stream",
       "stream": "stderr",
       "text": [
        "\r",
        "[ 52 %] elapsed[sec]: 0.618 | ETA[sec]: 0.568 "
       ]
      },
      {
       "output_type": "stream",
       "stream": "stderr",
       "text": [
        "\r",
        "[ 52 %] elapsed[sec]: 0.619 | ETA[sec]: 0.567 "
       ]
      },
      {
       "output_type": "stream",
       "stream": "stderr",
       "text": [
        "\r",
        "[ 52 %] elapsed[sec]: 0.619 | ETA[sec]: 0.565 "
       ]
      },
      {
       "output_type": "stream",
       "stream": "stderr",
       "text": [
        "\r",
        "[ 52 %] elapsed[sec]: 0.619 | ETA[sec]: 0.564 "
       ]
      },
      {
       "output_type": "stream",
       "stream": "stderr",
       "text": [
        "\r",
        "[ 52 %] elapsed[sec]: 0.620 | ETA[sec]: 0.563 "
       ]
      },
      {
       "output_type": "stream",
       "stream": "stderr",
       "text": [
        "\r",
        "[ 52 %] elapsed[sec]: 0.620 | ETA[sec]: 0.562 "
       ]
      },
      {
       "output_type": "stream",
       "stream": "stderr",
       "text": [
        "\r",
        "[ 52 %] elapsed[sec]: 0.621 | ETA[sec]: 0.561 "
       ]
      },
      {
       "output_type": "stream",
       "stream": "stderr",
       "text": [
        "\r",
        "[ 52 %] elapsed[sec]: 0.621 | ETA[sec]: 0.560 "
       ]
      },
      {
       "output_type": "stream",
       "stream": "stderr",
       "text": [
        "\r",
        "[ 52 %] elapsed[sec]: 0.621 | ETA[sec]: 0.558 "
       ]
      },
      {
       "output_type": "stream",
       "stream": "stderr",
       "text": [
        "\r",
        "[ 52 %] elapsed[sec]: 0.622 | ETA[sec]: 0.557 "
       ]
      },
      {
       "output_type": "stream",
       "stream": "stderr",
       "text": [
        "\r",
        "[ 52 %] elapsed[sec]: 0.622 | ETA[sec]: 0.556 "
       ]
      },
      {
       "output_type": "stream",
       "stream": "stderr",
       "text": [
        "\r",
        "[ 52 %] elapsed[sec]: 0.622 | ETA[sec]: 0.555 "
       ]
      },
      {
       "output_type": "stream",
       "stream": "stderr",
       "text": [
        "\r",
        "[ 52 %] elapsed[sec]: 0.623 | ETA[sec]: 0.554 "
       ]
      },
      {
       "output_type": "stream",
       "stream": "stderr",
       "text": [
        "\r",
        "[ 53 %] elapsed[sec]: 0.623 | ETA[sec]: 0.553 "
       ]
      },
      {
       "output_type": "stream",
       "stream": "stderr",
       "text": [
        "\r",
        "[ 53 %] elapsed[sec]: 0.624 | ETA[sec]: 0.551 "
       ]
      },
      {
       "output_type": "stream",
       "stream": "stderr",
       "text": [
        "\r",
        "[ 53 %] elapsed[sec]: 0.624 | ETA[sec]: 0.550 "
       ]
      },
      {
       "output_type": "stream",
       "stream": "stderr",
       "text": [
        "\r",
        "[ 53 %] elapsed[sec]: 0.624 | ETA[sec]: 0.549 "
       ]
      },
      {
       "output_type": "stream",
       "stream": "stderr",
       "text": [
        "\r",
        "[ 53 %] elapsed[sec]: 0.625 | ETA[sec]: 0.548 "
       ]
      },
      {
       "output_type": "stream",
       "stream": "stderr",
       "text": [
        "\r",
        "[ 53 %] elapsed[sec]: 0.625 | ETA[sec]: 0.547 "
       ]
      },
      {
       "output_type": "stream",
       "stream": "stderr",
       "text": [
        "\r",
        "[ 53 %] elapsed[sec]: 0.626 | ETA[sec]: 0.546 "
       ]
      },
      {
       "output_type": "stream",
       "stream": "stderr",
       "text": [
        "\r",
        "[ 53 %] elapsed[sec]: 0.627 | ETA[sec]: 0.546 "
       ]
      },
      {
       "output_type": "stream",
       "stream": "stderr",
       "text": [
        "\r",
        "[ 53 %] elapsed[sec]: 0.628 | ETA[sec]: 0.545 "
       ]
      },
      {
       "output_type": "stream",
       "stream": "stderr",
       "text": [
        "\r",
        "[ 53 %] elapsed[sec]: 0.628 | ETA[sec]: 0.544 "
       ]
      },
      {
       "output_type": "stream",
       "stream": "stderr",
       "text": [
        "\r",
        "[ 53 %] elapsed[sec]: 0.628 | ETA[sec]: 0.543 "
       ]
      },
      {
       "output_type": "stream",
       "stream": "stderr",
       "text": [
        "\r",
        "[ 53 %] elapsed[sec]: 0.629 | ETA[sec]: 0.541 "
       ]
      },
      {
       "output_type": "stream",
       "stream": "stderr",
       "text": [
        "\r",
        "[ 53 %] elapsed[sec]: 0.629 | ETA[sec]: 0.540 "
       ]
      },
      {
       "output_type": "stream",
       "stream": "stderr",
       "text": [
        "\r",
        "[ 53 %] elapsed[sec]: 0.630 | ETA[sec]: 0.539 "
       ]
      },
      {
       "output_type": "stream",
       "stream": "stderr",
       "text": [
        "\r",
        "[ 53 %] elapsed[sec]: 0.630 | ETA[sec]: 0.538 "
       ]
      },
      {
       "output_type": "stream",
       "stream": "stderr",
       "text": [
        "\r",
        "[ 54 %] elapsed[sec]: 0.630 | ETA[sec]: 0.537 "
       ]
      },
      {
       "output_type": "stream",
       "stream": "stderr",
       "text": [
        "\r",
        "[ 54 %] elapsed[sec]: 0.631 | ETA[sec]: 0.536 "
       ]
      },
      {
       "output_type": "stream",
       "stream": "stderr",
       "text": [
        "\r",
        "[ 54 %] elapsed[sec]: 0.631 | ETA[sec]: 0.535 "
       ]
      },
      {
       "output_type": "stream",
       "stream": "stderr",
       "text": [
        "\r",
        "[ 54 %] elapsed[sec]: 0.632 | ETA[sec]: 0.534 "
       ]
      },
      {
       "output_type": "stream",
       "stream": "stderr",
       "text": [
        "\r",
        "[ 54 %] elapsed[sec]: 0.632 | ETA[sec]: 0.533 "
       ]
      },
      {
       "output_type": "stream",
       "stream": "stderr",
       "text": [
        "\r",
        "[ 54 %] elapsed[sec]: 0.632 | ETA[sec]: 0.531 "
       ]
      },
      {
       "output_type": "stream",
       "stream": "stderr",
       "text": [
        "\r",
        "[ 54 %] elapsed[sec]: 0.633 | ETA[sec]: 0.530 "
       ]
      },
      {
       "output_type": "stream",
       "stream": "stderr",
       "text": [
        "\r",
        "[ 54 %] elapsed[sec]: 0.633 | ETA[sec]: 0.529 "
       ]
      },
      {
       "output_type": "stream",
       "stream": "stderr",
       "text": [
        "\r",
        "[ 54 %] elapsed[sec]: 0.633 | ETA[sec]: 0.528 "
       ]
      },
      {
       "output_type": "stream",
       "stream": "stderr",
       "text": [
        "\r",
        "[ 54 %] elapsed[sec]: 0.634 | ETA[sec]: 0.527 "
       ]
      },
      {
       "output_type": "stream",
       "stream": "stderr",
       "text": [
        "\r",
        "[ 54 %] elapsed[sec]: 0.634 | ETA[sec]: 0.526 "
       ]
      },
      {
       "output_type": "stream",
       "stream": "stderr",
       "text": [
        "\r",
        "[ 54 %] elapsed[sec]: 0.635 | ETA[sec]: 0.525 "
       ]
      },
      {
       "output_type": "stream",
       "stream": "stderr",
       "text": [
        "\r",
        "[ 54 %] elapsed[sec]: 0.635 | ETA[sec]: 0.524 "
       ]
      },
      {
       "output_type": "stream",
       "stream": "stderr",
       "text": [
        "\r",
        "[ 54 %] elapsed[sec]: 0.635 | ETA[sec]: 0.523 "
       ]
      },
      {
       "output_type": "stream",
       "stream": "stderr",
       "text": [
        "\r",
        "[ 54 %] elapsed[sec]: 0.636 | ETA[sec]: 0.522 "
       ]
      },
      {
       "output_type": "stream",
       "stream": "stderr",
       "text": [
        "\r",
        "[ 55 %] elapsed[sec]: 0.636 | ETA[sec]: 0.521 "
       ]
      },
      {
       "output_type": "stream",
       "stream": "stderr",
       "text": [
        "\r",
        "[ 55 %] elapsed[sec]: 0.637 | ETA[sec]: 0.520 "
       ]
      },
      {
       "output_type": "stream",
       "stream": "stderr",
       "text": [
        "\r",
        "[ 55 %] elapsed[sec]: 0.638 | ETA[sec]: 0.519 "
       ]
      },
      {
       "output_type": "stream",
       "stream": "stderr",
       "text": [
        "\r",
        "[ 55 %] elapsed[sec]: 0.639 | ETA[sec]: 0.518 "
       ]
      },
      {
       "output_type": "stream",
       "stream": "stderr",
       "text": [
        "\r",
        "[ 55 %] elapsed[sec]: 0.639 | ETA[sec]: 0.517 "
       ]
      },
      {
       "output_type": "stream",
       "stream": "stderr",
       "text": [
        "\r",
        "[ 55 %] elapsed[sec]: 0.640 | ETA[sec]: 0.516 "
       ]
      },
      {
       "output_type": "stream",
       "stream": "stderr",
       "text": [
        "\r",
        "[ 55 %] elapsed[sec]: 0.640 | ETA[sec]: 0.515 "
       ]
      },
      {
       "output_type": "stream",
       "stream": "stderr",
       "text": [
        "\r",
        "[ 55 %] elapsed[sec]: 0.641 | ETA[sec]: 0.514 "
       ]
      },
      {
       "output_type": "stream",
       "stream": "stderr",
       "text": [
        "\r",
        "[ 55 %] elapsed[sec]: 0.642 | ETA[sec]: 0.514 "
       ]
      },
      {
       "output_type": "stream",
       "stream": "stderr",
       "text": [
        "\r",
        "[ 55 %] elapsed[sec]: 0.643 | ETA[sec]: 0.513 "
       ]
      },
      {
       "output_type": "stream",
       "stream": "stderr",
       "text": [
        "\r",
        "[ 55 %] elapsed[sec]: 0.643 | ETA[sec]: 0.512 "
       ]
      },
      {
       "output_type": "stream",
       "stream": "stderr",
       "text": [
        "\r",
        "[ 55 %] elapsed[sec]: 0.644 | ETA[sec]: 0.511 "
       ]
      },
      {
       "output_type": "stream",
       "stream": "stderr",
       "text": [
        "\r",
        "[ 55 %] elapsed[sec]: 0.644 | ETA[sec]: 0.510 "
       ]
      },
      {
       "output_type": "stream",
       "stream": "stderr",
       "text": [
        "\r",
        "[ 55 %] elapsed[sec]: 0.644 | ETA[sec]: 0.509 "
       ]
      },
      {
       "output_type": "stream",
       "stream": "stderr",
       "text": [
        "\r",
        "[ 55 %] elapsed[sec]: 0.645 | ETA[sec]: 0.508 "
       ]
      },
      {
       "output_type": "stream",
       "stream": "stderr",
       "text": [
        "\r",
        "[ 56 %] elapsed[sec]: 0.645 | ETA[sec]: 0.507 "
       ]
      },
      {
       "output_type": "stream",
       "stream": "stderr",
       "text": [
        "\r",
        "[ 56 %] elapsed[sec]: 0.646 | ETA[sec]: 0.506 "
       ]
      },
      {
       "output_type": "stream",
       "stream": "stderr",
       "text": [
        "\r",
        "[ 56 %] elapsed[sec]: 0.646 | ETA[sec]: 0.505 "
       ]
      },
      {
       "output_type": "stream",
       "stream": "stderr",
       "text": [
        "\r",
        "[ 56 %] elapsed[sec]: 0.647 | ETA[sec]: 0.504 "
       ]
      },
      {
       "output_type": "stream",
       "stream": "stderr",
       "text": [
        "\r",
        "[ 56 %] elapsed[sec]: 0.647 | ETA[sec]: 0.503 "
       ]
      },
      {
       "output_type": "stream",
       "stream": "stderr",
       "text": [
        "\r",
        "[ 56 %] elapsed[sec]: 0.648 | ETA[sec]: 0.502 "
       ]
      },
      {
       "output_type": "stream",
       "stream": "stderr",
       "text": [
        "\r",
        "[ 56 %] elapsed[sec]: 0.648 | ETA[sec]: 0.501 "
       ]
      },
      {
       "output_type": "stream",
       "stream": "stderr",
       "text": [
        "\r",
        "[ 56 %] elapsed[sec]: 0.649 | ETA[sec]: 0.500 "
       ]
      },
      {
       "output_type": "stream",
       "stream": "stderr",
       "text": [
        "\r",
        "[ 56 %] elapsed[sec]: 0.649 | ETA[sec]: 0.499 "
       ]
      },
      {
       "output_type": "stream",
       "stream": "stderr",
       "text": [
        "\r",
        "[ 56 %] elapsed[sec]: 0.650 | ETA[sec]: 0.498 "
       ]
      },
      {
       "output_type": "stream",
       "stream": "stderr",
       "text": [
        "\r",
        "[ 56 %] elapsed[sec]: 0.650 | ETA[sec]: 0.497 "
       ]
      },
      {
       "output_type": "stream",
       "stream": "stderr",
       "text": [
        "\r",
        "[ 56 %] elapsed[sec]: 0.659 | ETA[sec]: 0.503 "
       ]
      },
      {
       "output_type": "stream",
       "stream": "stderr",
       "text": [
        "\r",
        "[ 56 %] elapsed[sec]: 0.660 | ETA[sec]: 0.502 "
       ]
      },
      {
       "output_type": "stream",
       "stream": "stderr",
       "text": [
        "\r",
        "[ 56 %] elapsed[sec]: 0.660 | ETA[sec]: 0.501 "
       ]
      },
      {
       "output_type": "stream",
       "stream": "stderr",
       "text": [
        "\r",
        "[ 56 %] elapsed[sec]: 0.661 | ETA[sec]: 0.500 "
       ]
      },
      {
       "output_type": "stream",
       "stream": "stderr",
       "text": [
        "\r",
        "[ 57 %] elapsed[sec]: 0.661 | ETA[sec]: 0.499 "
       ]
      },
      {
       "output_type": "stream",
       "stream": "stderr",
       "text": [
        "\r",
        "[ 57 %] elapsed[sec]: 0.661 | ETA[sec]: 0.498 "
       ]
      },
      {
       "output_type": "stream",
       "stream": "stderr",
       "text": [
        "\r",
        "[ 57 %] elapsed[sec]: 0.662 | ETA[sec]: 0.497 "
       ]
      },
      {
       "output_type": "stream",
       "stream": "stderr",
       "text": [
        "\r",
        "[ 57 %] elapsed[sec]: 0.662 | ETA[sec]: 0.496 "
       ]
      },
      {
       "output_type": "stream",
       "stream": "stderr",
       "text": [
        "\r",
        "[ 57 %] elapsed[sec]: 0.663 | ETA[sec]: 0.494 "
       ]
      },
      {
       "output_type": "stream",
       "stream": "stderr",
       "text": [
        "\r",
        "[ 57 %] elapsed[sec]: 0.663 | ETA[sec]: 0.493 "
       ]
      },
      {
       "output_type": "stream",
       "stream": "stderr",
       "text": [
        "\r",
        "[ 57 %] elapsed[sec]: 0.663 | ETA[sec]: 0.492 "
       ]
      },
      {
       "output_type": "stream",
       "stream": "stderr",
       "text": [
        "\r",
        "[ 57 %] elapsed[sec]: 0.664 | ETA[sec]: 0.491 "
       ]
      },
      {
       "output_type": "stream",
       "stream": "stderr",
       "text": [
        "\r",
        "[ 57 %] elapsed[sec]: 0.664 | ETA[sec]: 0.490 "
       ]
      },
      {
       "output_type": "stream",
       "stream": "stderr",
       "text": [
        "\r",
        "[ 57 %] elapsed[sec]: 0.665 | ETA[sec]: 0.489 "
       ]
      },
      {
       "output_type": "stream",
       "stream": "stderr",
       "text": [
        "\r",
        "[ 57 %] elapsed[sec]: 0.665 | ETA[sec]: 0.488 "
       ]
      },
      {
       "output_type": "stream",
       "stream": "stderr",
       "text": [
        "\r",
        "[ 57 %] elapsed[sec]: 0.665 | ETA[sec]: 0.487 "
       ]
      },
      {
       "output_type": "stream",
       "stream": "stderr",
       "text": [
        "\r",
        "[ 57 %] elapsed[sec]: 0.666 | ETA[sec]: 0.486 "
       ]
      },
      {
       "output_type": "stream",
       "stream": "stderr",
       "text": [
        "\r",
        "[ 57 %] elapsed[sec]: 0.666 | ETA[sec]: 0.485 "
       ]
      },
      {
       "output_type": "stream",
       "stream": "stderr",
       "text": [
        "\r",
        "[ 57 %] elapsed[sec]: 0.667 | ETA[sec]: 0.484 "
       ]
      },
      {
       "output_type": "stream",
       "stream": "stderr",
       "text": [
        "\r",
        "[ 58 %] elapsed[sec]: 0.667 | ETA[sec]: 0.483 "
       ]
      },
      {
       "output_type": "stream",
       "stream": "stderr",
       "text": [
        "\r",
        "[ 58 %] elapsed[sec]: 0.667 | ETA[sec]: 0.482 "
       ]
      },
      {
       "output_type": "stream",
       "stream": "stderr",
       "text": [
        "\r",
        "[ 58 %] elapsed[sec]: 0.668 | ETA[sec]: 0.481 "
       ]
      },
      {
       "output_type": "stream",
       "stream": "stderr",
       "text": [
        "\r",
        "[ 58 %] elapsed[sec]: 0.668 | ETA[sec]: 0.480 "
       ]
      },
      {
       "output_type": "stream",
       "stream": "stderr",
       "text": [
        "\r",
        "[ 58 %] elapsed[sec]: 0.668 | ETA[sec]: 0.479 "
       ]
      },
      {
       "output_type": "stream",
       "stream": "stderr",
       "text": [
        "\r",
        "[ 58 %] elapsed[sec]: 0.669 | ETA[sec]: 0.478 "
       ]
      },
      {
       "output_type": "stream",
       "stream": "stderr",
       "text": [
        "\r",
        "[ 58 %] elapsed[sec]: 0.675 | ETA[sec]: 0.480 "
       ]
      },
      {
       "output_type": "stream",
       "stream": "stderr",
       "text": [
        "\r",
        "[ 58 %] elapsed[sec]: 0.675 | ETA[sec]: 0.480 "
       ]
      },
      {
       "output_type": "stream",
       "stream": "stderr",
       "text": [
        "\r",
        "[ 58 %] elapsed[sec]: 0.675 | ETA[sec]: 0.478 "
       ]
      },
      {
       "output_type": "stream",
       "stream": "stderr",
       "text": [
        "\r",
        "[ 58 %] elapsed[sec]: 0.676 | ETA[sec]: 0.478 "
       ]
      },
      {
       "output_type": "stream",
       "stream": "stderr",
       "text": [
        "\r",
        "[ 58 %] elapsed[sec]: 0.677 | ETA[sec]: 0.477 "
       ]
      },
      {
       "output_type": "stream",
       "stream": "stderr",
       "text": [
        "\r",
        "[ 58 %] elapsed[sec]: 0.677 | ETA[sec]: 0.476 "
       ]
      },
      {
       "output_type": "stream",
       "stream": "stderr",
       "text": [
        "\r",
        "[ 58 %] elapsed[sec]: 0.678 | ETA[sec]: 0.475 "
       ]
      },
      {
       "output_type": "stream",
       "stream": "stderr",
       "text": [
        "\r",
        "[ 58 %] elapsed[sec]: 0.678 | ETA[sec]: 0.474 "
       ]
      },
      {
       "output_type": "stream",
       "stream": "stderr",
       "text": [
        "\r",
        "[ 58 %] elapsed[sec]: 0.679 | ETA[sec]: 0.473 "
       ]
      },
      {
       "output_type": "stream",
       "stream": "stderr",
       "text": [
        "\r",
        "[ 59 %] elapsed[sec]: 0.680 | ETA[sec]: 0.472 "
       ]
      },
      {
       "output_type": "stream",
       "stream": "stderr",
       "text": [
        "\r",
        "[ 59 %] elapsed[sec]: 0.680 | ETA[sec]: 0.471 "
       ]
      },
      {
       "output_type": "stream",
       "stream": "stderr",
       "text": [
        "\r",
        "[ 59 %] elapsed[sec]: 0.681 | ETA[sec]: 0.470 "
       ]
      },
      {
       "output_type": "stream",
       "stream": "stderr",
       "text": [
        "\r",
        "[ 59 %] elapsed[sec]: 0.681 | ETA[sec]: 0.469 "
       ]
      },
      {
       "output_type": "stream",
       "stream": "stderr",
       "text": [
        "\r",
        "[ 59 %] elapsed[sec]: 0.682 | ETA[sec]: 0.469 "
       ]
      },
      {
       "output_type": "stream",
       "stream": "stderr",
       "text": [
        "\r",
        "[ 59 %] elapsed[sec]: 0.682 | ETA[sec]: 0.468 "
       ]
      },
      {
       "output_type": "stream",
       "stream": "stderr",
       "text": [
        "\r",
        "[ 59 %] elapsed[sec]: 0.683 | ETA[sec]: 0.467 "
       ]
      },
      {
       "output_type": "stream",
       "stream": "stderr",
       "text": [
        "\r",
        "[ 59 %] elapsed[sec]: 0.683 | ETA[sec]: 0.466 "
       ]
      },
      {
       "output_type": "stream",
       "stream": "stderr",
       "text": [
        "\r",
        "[ 59 %] elapsed[sec]: 0.683 | ETA[sec]: 0.465 "
       ]
      },
      {
       "output_type": "stream",
       "stream": "stderr",
       "text": [
        "\r",
        "[ 59 %] elapsed[sec]: 0.684 | ETA[sec]: 0.464 "
       ]
      },
      {
       "output_type": "stream",
       "stream": "stderr",
       "text": [
        "\r",
        "[ 59 %] elapsed[sec]: 0.684 | ETA[sec]: 0.463 "
       ]
      },
      {
       "output_type": "stream",
       "stream": "stderr",
       "text": [
        "\r",
        "[ 59 %] elapsed[sec]: 0.685 | ETA[sec]: 0.462 "
       ]
      },
      {
       "output_type": "stream",
       "stream": "stderr",
       "text": [
        "\r",
        "[ 59 %] elapsed[sec]: 0.685 | ETA[sec]: 0.461 "
       ]
      },
      {
       "output_type": "stream",
       "stream": "stderr",
       "text": [
        "\r",
        "[ 59 %] elapsed[sec]: 0.686 | ETA[sec]: 0.460 "
       ]
      },
      {
       "output_type": "stream",
       "stream": "stderr",
       "text": [
        "\r",
        "[ 59 %] elapsed[sec]: 0.686 | ETA[sec]: 0.459 "
       ]
      },
      {
       "output_type": "stream",
       "stream": "stderr",
       "text": [
        "\r",
        "[ 60 %] elapsed[sec]: 0.693 | ETA[sec]: 0.462 "
       ]
      },
      {
       "output_type": "stream",
       "stream": "stderr",
       "text": [
        "\r",
        "[ 60 %] elapsed[sec]: 0.693 | ETA[sec]: 0.461 "
       ]
      },
      {
       "output_type": "stream",
       "stream": "stderr",
       "text": [
        "\r",
        "[ 60 %] elapsed[sec]: 0.693 | ETA[sec]: 0.460 "
       ]
      },
      {
       "output_type": "stream",
       "stream": "stderr",
       "text": [
        "\r",
        "[ 60 %] elapsed[sec]: 0.694 | ETA[sec]: 0.459 "
       ]
      },
      {
       "output_type": "stream",
       "stream": "stderr",
       "text": [
        "\r",
        "[ 60 %] elapsed[sec]: 0.694 | ETA[sec]: 0.458 "
       ]
      },
      {
       "output_type": "stream",
       "stream": "stderr",
       "text": [
        "\r",
        "[ 60 %] elapsed[sec]: 0.695 | ETA[sec]: 0.457 "
       ]
      },
      {
       "output_type": "stream",
       "stream": "stderr",
       "text": [
        "\r",
        "[ 60 %] elapsed[sec]: 0.695 | ETA[sec]: 0.456 "
       ]
      },
      {
       "output_type": "stream",
       "stream": "stderr",
       "text": [
        "\r",
        "[ 60 %] elapsed[sec]: 0.695 | ETA[sec]: 0.455 "
       ]
      },
      {
       "output_type": "stream",
       "stream": "stderr",
       "text": [
        "\r",
        "[ 60 %] elapsed[sec]: 0.696 | ETA[sec]: 0.454 "
       ]
      },
      {
       "output_type": "stream",
       "stream": "stderr",
       "text": [
        "\r",
        "[ 60 %] elapsed[sec]: 0.696 | ETA[sec]: 0.453 "
       ]
      },
      {
       "output_type": "stream",
       "stream": "stderr",
       "text": [
        "\r",
        "[ 60 %] elapsed[sec]: 0.697 | ETA[sec]: 0.452 "
       ]
      },
      {
       "output_type": "stream",
       "stream": "stderr",
       "text": [
        "\r",
        "[ 60 %] elapsed[sec]: 0.697 | ETA[sec]: 0.451 "
       ]
      },
      {
       "output_type": "stream",
       "stream": "stderr",
       "text": [
        "\r",
        "[ 60 %] elapsed[sec]: 0.697 | ETA[sec]: 0.450 "
       ]
      },
      {
       "output_type": "stream",
       "stream": "stderr",
       "text": [
        "\r",
        "[ 60 %] elapsed[sec]: 0.698 | ETA[sec]: 0.449 "
       ]
      },
      {
       "output_type": "stream",
       "stream": "stderr",
       "text": [
        "\r",
        "[ 60 %] elapsed[sec]: 0.698 | ETA[sec]: 0.448 "
       ]
      },
      {
       "output_type": "stream",
       "stream": "stderr",
       "text": [
        "\r",
        "[ 61 %] elapsed[sec]: 0.698 | ETA[sec]: 0.447 "
       ]
      },
      {
       "output_type": "stream",
       "stream": "stderr",
       "text": [
        "\r",
        "[ 61 %] elapsed[sec]: 0.699 | ETA[sec]: 0.446 "
       ]
      },
      {
       "output_type": "stream",
       "stream": "stderr",
       "text": [
        "\r",
        "[ 61 %] elapsed[sec]: 0.699 | ETA[sec]: 0.445 "
       ]
      },
      {
       "output_type": "stream",
       "stream": "stderr",
       "text": [
        "\r",
        "[ 61 %] elapsed[sec]: 0.700 | ETA[sec]: 0.443 "
       ]
      },
      {
       "output_type": "stream",
       "stream": "stderr",
       "text": [
        "\r",
        "[ 61 %] elapsed[sec]: 0.700 | ETA[sec]: 0.443 "
       ]
      },
      {
       "output_type": "stream",
       "stream": "stderr",
       "text": [
        "\r",
        "[ 61 %] elapsed[sec]: 0.700 | ETA[sec]: 0.442 "
       ]
      },
      {
       "output_type": "stream",
       "stream": "stderr",
       "text": [
        "\r",
        "[ 61 %] elapsed[sec]: 0.701 | ETA[sec]: 0.441 "
       ]
      },
      {
       "output_type": "stream",
       "stream": "stderr",
       "text": [
        "\r",
        "[ 61 %] elapsed[sec]: 0.701 | ETA[sec]: 0.440 "
       ]
      },
      {
       "output_type": "stream",
       "stream": "stderr",
       "text": [
        "\r",
        "[ 61 %] elapsed[sec]: 0.701 | ETA[sec]: 0.439 "
       ]
      },
      {
       "output_type": "stream",
       "stream": "stderr",
       "text": [
        "\r",
        "[ 61 %] elapsed[sec]: 0.702 | ETA[sec]: 0.438 "
       ]
      },
      {
       "output_type": "stream",
       "stream": "stderr",
       "text": [
        "\r",
        "[ 61 %] elapsed[sec]: 0.712 | ETA[sec]: 0.443 "
       ]
      },
      {
       "output_type": "stream",
       "stream": "stderr",
       "text": [
        "\r",
        "[ 61 %] elapsed[sec]: 0.713 | ETA[sec]: 0.442 "
       ]
      },
      {
       "output_type": "stream",
       "stream": "stderr",
       "text": [
        "\r",
        "[ 61 %] elapsed[sec]: 0.713 | ETA[sec]: 0.441 "
       ]
      },
      {
       "output_type": "stream",
       "stream": "stderr",
       "text": [
        "\r",
        "[ 61 %] elapsed[sec]: 0.713 | ETA[sec]: 0.440 "
       ]
      },
      {
       "output_type": "stream",
       "stream": "stderr",
       "text": [
        "\r",
        "[ 61 %] elapsed[sec]: 0.714 | ETA[sec]: 0.439 "
       ]
      },
      {
       "output_type": "stream",
       "stream": "stderr",
       "text": [
        "\r",
        "[ 62 %] elapsed[sec]: 0.714 | ETA[sec]: 0.438 "
       ]
      },
      {
       "output_type": "stream",
       "stream": "stderr",
       "text": [
        "\r",
        "[ 62 %] elapsed[sec]: 0.715 | ETA[sec]: 0.437 "
       ]
      },
      {
       "output_type": "stream",
       "stream": "stderr",
       "text": [
        "\r",
        "[ 62 %] elapsed[sec]: 0.715 | ETA[sec]: 0.436 "
       ]
      },
      {
       "output_type": "stream",
       "stream": "stderr",
       "text": [
        "\r",
        "[ 62 %] elapsed[sec]: 0.716 | ETA[sec]: 0.435 "
       ]
      },
      {
       "output_type": "stream",
       "stream": "stderr",
       "text": [
        "\r",
        "[ 62 %] elapsed[sec]: 0.716 | ETA[sec]: 0.434 "
       ]
      },
      {
       "output_type": "stream",
       "stream": "stderr",
       "text": [
        "\r",
        "[ 62 %] elapsed[sec]: 0.717 | ETA[sec]: 0.433 "
       ]
      },
      {
       "output_type": "stream",
       "stream": "stderr",
       "text": [
        "\r",
        "[ 62 %] elapsed[sec]: 0.717 | ETA[sec]: 0.432 "
       ]
      },
      {
       "output_type": "stream",
       "stream": "stderr",
       "text": [
        "\r",
        "[ 62 %] elapsed[sec]: 0.718 | ETA[sec]: 0.431 "
       ]
      },
      {
       "output_type": "stream",
       "stream": "stderr",
       "text": [
        "\r",
        "[ 62 %] elapsed[sec]: 0.718 | ETA[sec]: 0.430 "
       ]
      },
      {
       "output_type": "stream",
       "stream": "stderr",
       "text": [
        "\r",
        "[ 62 %] elapsed[sec]: 0.719 | ETA[sec]: 0.429 "
       ]
      },
      {
       "output_type": "stream",
       "stream": "stderr",
       "text": [
        "\r",
        "[ 62 %] elapsed[sec]: 0.719 | ETA[sec]: 0.428 "
       ]
      },
      {
       "output_type": "stream",
       "stream": "stderr",
       "text": [
        "\r",
        "[ 62 %] elapsed[sec]: 0.719 | ETA[sec]: 0.427 "
       ]
      },
      {
       "output_type": "stream",
       "stream": "stderr",
       "text": [
        "\r",
        "[ 62 %] elapsed[sec]: 0.720 | ETA[sec]: 0.426 "
       ]
      },
      {
       "output_type": "stream",
       "stream": "stderr",
       "text": [
        "\r",
        "[ 62 %] elapsed[sec]: 0.720 | ETA[sec]: 0.425 "
       ]
      },
      {
       "output_type": "stream",
       "stream": "stderr",
       "text": [
        "\r",
        "[ 62 %] elapsed[sec]: 0.721 | ETA[sec]: 0.424 "
       ]
      },
      {
       "output_type": "stream",
       "stream": "stderr",
       "text": [
        "\r",
        "[ 63 %] elapsed[sec]: 0.721 | ETA[sec]: 0.423 "
       ]
      },
      {
       "output_type": "stream",
       "stream": "stderr",
       "text": [
        "\r",
        "[ 63 %] elapsed[sec]: 0.721 | ETA[sec]: 0.422 "
       ]
      },
      {
       "output_type": "stream",
       "stream": "stderr",
       "text": [
        "\r",
        "[ 63 %] elapsed[sec]: 0.722 | ETA[sec]: 0.422 "
       ]
      },
      {
       "output_type": "stream",
       "stream": "stderr",
       "text": [
        "\r",
        "[ 63 %] elapsed[sec]: 0.722 | ETA[sec]: 0.421 "
       ]
      },
      {
       "output_type": "stream",
       "stream": "stderr",
       "text": [
        "\r",
        "[ 63 %] elapsed[sec]: 0.723 | ETA[sec]: 0.420 "
       ]
      },
      {
       "output_type": "stream",
       "stream": "stderr",
       "text": [
        "\r",
        "[ 63 %] elapsed[sec]: 0.724 | ETA[sec]: 0.419 "
       ]
      },
      {
       "output_type": "stream",
       "stream": "stderr",
       "text": [
        "\r",
        "[ 63 %] elapsed[sec]: 0.725 | ETA[sec]: 0.418 "
       ]
      },
      {
       "output_type": "stream",
       "stream": "stderr",
       "text": [
        "\r",
        "[ 63 %] elapsed[sec]: 0.725 | ETA[sec]: 0.418 "
       ]
      },
      {
       "output_type": "stream",
       "stream": "stderr",
       "text": [
        "\r",
        "[ 63 %] elapsed[sec]: 0.726 | ETA[sec]: 0.417 "
       ]
      },
      {
       "output_type": "stream",
       "stream": "stderr",
       "text": [
        "\r",
        "[ 63 %] elapsed[sec]: 0.727 | ETA[sec]: 0.416 "
       ]
      },
      {
       "output_type": "stream",
       "stream": "stderr",
       "text": [
        "\r",
        "[ 63 %] elapsed[sec]: 0.727 | ETA[sec]: 0.415 "
       ]
      },
      {
       "output_type": "stream",
       "stream": "stderr",
       "text": [
        "\r",
        "[ 63 %] elapsed[sec]: 0.727 | ETA[sec]: 0.414 "
       ]
      },
      {
       "output_type": "stream",
       "stream": "stderr",
       "text": [
        "\r",
        "[ 63 %] elapsed[sec]: 0.728 | ETA[sec]: 0.413 "
       ]
      },
      {
       "output_type": "stream",
       "stream": "stderr",
       "text": [
        "\r",
        "[ 63 %] elapsed[sec]: 0.728 | ETA[sec]: 0.412 "
       ]
      },
      {
       "output_type": "stream",
       "stream": "stderr",
       "text": [
        "\r",
        "[ 63 %] elapsed[sec]: 0.728 | ETA[sec]: 0.411 "
       ]
      },
      {
       "output_type": "stream",
       "stream": "stderr",
       "text": [
        "\r",
        "[ 64 %] elapsed[sec]: 0.729 | ETA[sec]: 0.410 "
       ]
      },
      {
       "output_type": "stream",
       "stream": "stderr",
       "text": [
        "\r",
        "[ 64 %] elapsed[sec]: 0.729 | ETA[sec]: 0.409 "
       ]
      },
      {
       "output_type": "stream",
       "stream": "stderr",
       "text": [
        "\r",
        "[ 64 %] elapsed[sec]: 0.730 | ETA[sec]: 0.408 "
       ]
      },
      {
       "output_type": "stream",
       "stream": "stderr",
       "text": [
        "\r",
        "[ 64 %] elapsed[sec]: 0.730 | ETA[sec]: 0.407 "
       ]
      },
      {
       "output_type": "stream",
       "stream": "stderr",
       "text": [
        "\r",
        "[ 64 %] elapsed[sec]: 0.730 | ETA[sec]: 0.406 "
       ]
      },
      {
       "output_type": "stream",
       "stream": "stderr",
       "text": [
        "\r",
        "[ 64 %] elapsed[sec]: 0.731 | ETA[sec]: 0.405 "
       ]
      },
      {
       "output_type": "stream",
       "stream": "stderr",
       "text": [
        "\r",
        "[ 64 %] elapsed[sec]: 0.731 | ETA[sec]: 0.404 "
       ]
      },
      {
       "output_type": "stream",
       "stream": "stderr",
       "text": [
        "\r",
        "[ 64 %] elapsed[sec]: 0.731 | ETA[sec]: 0.403 "
       ]
      },
      {
       "output_type": "stream",
       "stream": "stderr",
       "text": [
        "\r",
        "[ 64 %] elapsed[sec]: 0.732 | ETA[sec]: 0.402 "
       ]
      },
      {
       "output_type": "stream",
       "stream": "stderr",
       "text": [
        "\r",
        "[ 64 %] elapsed[sec]: 0.732 | ETA[sec]: 0.401 "
       ]
      },
      {
       "output_type": "stream",
       "stream": "stderr",
       "text": [
        "\r",
        "[ 64 %] elapsed[sec]: 0.733 | ETA[sec]: 0.400 "
       ]
      },
      {
       "output_type": "stream",
       "stream": "stderr",
       "text": [
        "\r",
        "[ 64 %] elapsed[sec]: 0.733 | ETA[sec]: 0.399 "
       ]
      },
      {
       "output_type": "stream",
       "stream": "stderr",
       "text": [
        "\r",
        "[ 64 %] elapsed[sec]: 0.733 | ETA[sec]: 0.398 "
       ]
      },
      {
       "output_type": "stream",
       "stream": "stderr",
       "text": [
        "\r",
        "[ 64 %] elapsed[sec]: 0.734 | ETA[sec]: 0.397 "
       ]
      },
      {
       "output_type": "stream",
       "stream": "stderr",
       "text": [
        "\r",
        "[ 64 %] elapsed[sec]: 0.734 | ETA[sec]: 0.396 "
       ]
      },
      {
       "output_type": "stream",
       "stream": "stderr",
       "text": [
        "\r",
        "[ 65 %] elapsed[sec]: 0.736 | ETA[sec]: 0.396 "
       ]
      },
      {
       "output_type": "stream",
       "stream": "stderr",
       "text": [
        "\r",
        "[ 65 %] elapsed[sec]: 0.736 | ETA[sec]: 0.395 "
       ]
      },
      {
       "output_type": "stream",
       "stream": "stderr",
       "text": [
        "\r",
        "[ 65 %] elapsed[sec]: 0.737 | ETA[sec]: 0.394 "
       ]
      },
      {
       "output_type": "stream",
       "stream": "stderr",
       "text": [
        "\r",
        "[ 65 %] elapsed[sec]: 0.737 | ETA[sec]: 0.393 "
       ]
      },
      {
       "output_type": "stream",
       "stream": "stderr",
       "text": [
        "\r",
        "[ 65 %] elapsed[sec]: 0.737 | ETA[sec]: 0.392 "
       ]
      },
      {
       "output_type": "stream",
       "stream": "stderr",
       "text": [
        "\r",
        "[ 65 %] elapsed[sec]: 0.738 | ETA[sec]: 0.392 "
       ]
      },
      {
       "output_type": "stream",
       "stream": "stderr",
       "text": [
        "\r",
        "[ 65 %] elapsed[sec]: 0.738 | ETA[sec]: 0.391 "
       ]
      },
      {
       "output_type": "stream",
       "stream": "stderr",
       "text": [
        "\r",
        "[ 65 %] elapsed[sec]: 0.739 | ETA[sec]: 0.390 "
       ]
      },
      {
       "output_type": "stream",
       "stream": "stderr",
       "text": [
        "\r",
        "[ 65 %] elapsed[sec]: 0.739 | ETA[sec]: 0.389 "
       ]
      },
      {
       "output_type": "stream",
       "stream": "stderr",
       "text": [
        "\r",
        "[ 65 %] elapsed[sec]: 0.739 | ETA[sec]: 0.388 "
       ]
      },
      {
       "output_type": "stream",
       "stream": "stderr",
       "text": [
        "\r",
        "[ 65 %] elapsed[sec]: 0.740 | ETA[sec]: 0.387 "
       ]
      },
      {
       "output_type": "stream",
       "stream": "stderr",
       "text": [
        "\r",
        "[ 65 %] elapsed[sec]: 0.740 | ETA[sec]: 0.386 "
       ]
      },
      {
       "output_type": "stream",
       "stream": "stderr",
       "text": [
        "\r",
        "[ 65 %] elapsed[sec]: 0.740 | ETA[sec]: 0.385 "
       ]
      },
      {
       "output_type": "stream",
       "stream": "stderr",
       "text": [
        "\r",
        "[ 65 %] elapsed[sec]: 0.741 | ETA[sec]: 0.384 "
       ]
      },
      {
       "output_type": "stream",
       "stream": "stderr",
       "text": [
        "\r",
        "[ 65 %] elapsed[sec]: 0.741 | ETA[sec]: 0.383 "
       ]
      },
      {
       "output_type": "stream",
       "stream": "stderr",
       "text": [
        "\r",
        "[ 66 %] elapsed[sec]: 0.742 | ETA[sec]: 0.382 "
       ]
      },
      {
       "output_type": "stream",
       "stream": "stderr",
       "text": [
        "\r",
        "[ 66 %] elapsed[sec]: 0.742 | ETA[sec]: 0.381 "
       ]
      },
      {
       "output_type": "stream",
       "stream": "stderr",
       "text": [
        "\r",
        "[ 66 %] elapsed[sec]: 0.743 | ETA[sec]: 0.380 "
       ]
      },
      {
       "output_type": "stream",
       "stream": "stderr",
       "text": [
        "\r",
        "[ 66 %] elapsed[sec]: 0.743 | ETA[sec]: 0.379 "
       ]
      },
      {
       "output_type": "stream",
       "stream": "stderr",
       "text": [
        "\r",
        "[ 66 %] elapsed[sec]: 0.745 | ETA[sec]: 0.379 "
       ]
      },
      {
       "output_type": "stream",
       "stream": "stderr",
       "text": [
        "\r",
        "[ 66 %] elapsed[sec]: 0.745 | ETA[sec]: 0.378 "
       ]
      },
      {
       "output_type": "stream",
       "stream": "stderr",
       "text": [
        "\r",
        "[ 66 %] elapsed[sec]: 0.746 | ETA[sec]: 0.377 "
       ]
      },
      {
       "output_type": "stream",
       "stream": "stderr",
       "text": [
        "\r",
        "[ 66 %] elapsed[sec]: 0.746 | ETA[sec]: 0.376 "
       ]
      },
      {
       "output_type": "stream",
       "stream": "stderr",
       "text": [
        "\r",
        "[ 66 %] elapsed[sec]: 0.747 | ETA[sec]: 0.376 "
       ]
      },
      {
       "output_type": "stream",
       "stream": "stderr",
       "text": [
        "\r",
        "[ 66 %] elapsed[sec]: 0.759 | ETA[sec]: 0.381 "
       ]
      },
      {
       "output_type": "stream",
       "stream": "stderr",
       "text": [
        "\r",
        "[ 66 %] elapsed[sec]: 0.760 | ETA[sec]: 0.380 "
       ]
      },
      {
       "output_type": "stream",
       "stream": "stderr",
       "text": [
        "\r",
        "[ 66 %] elapsed[sec]: 0.761 | ETA[sec]: 0.379 "
       ]
      },
      {
       "output_type": "stream",
       "stream": "stderr",
       "text": [
        "\r",
        "[ 66 %] elapsed[sec]: 0.761 | ETA[sec]: 0.378 "
       ]
      },
      {
       "output_type": "stream",
       "stream": "stderr",
       "text": [
        "\r",
        "[ 66 %] elapsed[sec]: 0.765 | ETA[sec]: 0.379 "
       ]
      },
      {
       "output_type": "stream",
       "stream": "stderr",
       "text": [
        "\r",
        "[ 66 %] elapsed[sec]: 0.766 | ETA[sec]: 0.378 "
       ]
      },
      {
       "output_type": "stream",
       "stream": "stderr",
       "text": [
        "\r",
        "[ 67 %] elapsed[sec]: 0.766 | ETA[sec]: 0.377 "
       ]
      },
      {
       "output_type": "stream",
       "stream": "stderr",
       "text": [
        "\r",
        "[ 67 %] elapsed[sec]: 0.767 | ETA[sec]: 0.376 "
       ]
      },
      {
       "output_type": "stream",
       "stream": "stderr",
       "text": [
        "\r",
        "[ 67 %] elapsed[sec]: 0.767 | ETA[sec]: 0.375 "
       ]
      },
      {
       "output_type": "stream",
       "stream": "stderr",
       "text": [
        "\r",
        "[ 67 %] elapsed[sec]: 0.767 | ETA[sec]: 0.375 "
       ]
      },
      {
       "output_type": "stream",
       "stream": "stderr",
       "text": [
        "\r",
        "[ 67 %] elapsed[sec]: 0.768 | ETA[sec]: 0.374 "
       ]
      },
      {
       "output_type": "stream",
       "stream": "stderr",
       "text": [
        "\r",
        "[ 67 %] elapsed[sec]: 0.768 | ETA[sec]: 0.373 "
       ]
      },
      {
       "output_type": "stream",
       "stream": "stderr",
       "text": [
        "\r",
        "[ 67 %] elapsed[sec]: 0.768 | ETA[sec]: 0.372 "
       ]
      },
      {
       "output_type": "stream",
       "stream": "stderr",
       "text": [
        "\r",
        "[ 67 %] elapsed[sec]: 0.769 | ETA[sec]: 0.371 "
       ]
      },
      {
       "output_type": "stream",
       "stream": "stderr",
       "text": [
        "\r",
        "[ 67 %] elapsed[sec]: 0.769 | ETA[sec]: 0.370 "
       ]
      },
      {
       "output_type": "stream",
       "stream": "stderr",
       "text": [
        "\r",
        "[ 67 %] elapsed[sec]: 0.770 | ETA[sec]: 0.369 "
       ]
      },
      {
       "output_type": "stream",
       "stream": "stderr",
       "text": [
        "\r",
        "[ 67 %] elapsed[sec]: 0.770 | ETA[sec]: 0.368 "
       ]
      },
      {
       "output_type": "stream",
       "stream": "stderr",
       "text": [
        "\r",
        "[ 67 %] elapsed[sec]: 0.771 | ETA[sec]: 0.367 "
       ]
      },
      {
       "output_type": "stream",
       "stream": "stderr",
       "text": [
        "\r",
        "[ 67 %] elapsed[sec]: 0.771 | ETA[sec]: 0.366 "
       ]
      },
      {
       "output_type": "stream",
       "stream": "stderr",
       "text": [
        "\r",
        "[ 67 %] elapsed[sec]: 0.772 | ETA[sec]: 0.365 "
       ]
      },
      {
       "output_type": "stream",
       "stream": "stderr",
       "text": [
        "\r",
        "[ 67 %] elapsed[sec]: 0.772 | ETA[sec]: 0.365 "
       ]
      },
      {
       "output_type": "stream",
       "stream": "stderr",
       "text": [
        "\r",
        "[ 68 %] elapsed[sec]: 0.773 | ETA[sec]: 0.364 "
       ]
      },
      {
       "output_type": "stream",
       "stream": "stderr",
       "text": [
        "\r",
        "[ 68 %] elapsed[sec]: 0.773 | ETA[sec]: 0.363 "
       ]
      },
      {
       "output_type": "stream",
       "stream": "stderr",
       "text": [
        "\r",
        "[ 68 %] elapsed[sec]: 0.805 | ETA[sec]: 0.377 "
       ]
      },
      {
       "output_type": "stream",
       "stream": "stderr",
       "text": [
        "\r",
        "[ 68 %] elapsed[sec]: 0.806 | ETA[sec]: 0.376 "
       ]
      },
      {
       "output_type": "stream",
       "stream": "stderr",
       "text": [
        "\r",
        "[ 68 %] elapsed[sec]: 0.806 | ETA[sec]: 0.375 "
       ]
      },
      {
       "output_type": "stream",
       "stream": "stderr",
       "text": [
        "\r",
        "[ 68 %] elapsed[sec]: 0.807 | ETA[sec]: 0.374 "
       ]
      },
      {
       "output_type": "stream",
       "stream": "stderr",
       "text": [
        "\r",
        "[ 68 %] elapsed[sec]: 0.807 | ETA[sec]: 0.373 "
       ]
      },
      {
       "output_type": "stream",
       "stream": "stderr",
       "text": [
        "\r",
        "[ 68 %] elapsed[sec]: 0.808 | ETA[sec]: 0.372 "
       ]
      },
      {
       "output_type": "stream",
       "stream": "stderr",
       "text": [
        "\r",
        "[ 68 %] elapsed[sec]: 0.808 | ETA[sec]: 0.371 "
       ]
      },
      {
       "output_type": "stream",
       "stream": "stderr",
       "text": [
        "\r",
        "[ 68 %] elapsed[sec]: 0.809 | ETA[sec]: 0.370 "
       ]
      },
      {
       "output_type": "stream",
       "stream": "stderr",
       "text": [
        "\r",
        "[ 68 %] elapsed[sec]: 0.809 | ETA[sec]: 0.369 "
       ]
      },
      {
       "output_type": "stream",
       "stream": "stderr",
       "text": [
        "\r",
        "[ 68 %] elapsed[sec]: 0.810 | ETA[sec]: 0.368 "
       ]
      },
      {
       "output_type": "stream",
       "stream": "stderr",
       "text": [
        "\r",
        "[ 68 %] elapsed[sec]: 0.814 | ETA[sec]: 0.369 "
       ]
      },
      {
       "output_type": "stream",
       "stream": "stderr",
       "text": [
        "\r",
        "[ 68 %] elapsed[sec]: 0.814 | ETA[sec]: 0.368 "
       ]
      },
      {
       "output_type": "stream",
       "stream": "stderr",
       "text": [
        "\r",
        "[ 68 %] elapsed[sec]: 0.815 | ETA[sec]: 0.367 "
       ]
      },
      {
       "output_type": "stream",
       "stream": "stderr",
       "text": [
        "\r",
        "[ 69 %] elapsed[sec]: 0.816 | ETA[sec]: 0.367 "
       ]
      },
      {
       "output_type": "stream",
       "stream": "stderr",
       "text": [
        "\r",
        "[ 69 %] elapsed[sec]: 0.818 | ETA[sec]: 0.366 "
       ]
      },
      {
       "output_type": "stream",
       "stream": "stderr",
       "text": [
        "\r",
        "[ 69 %] elapsed[sec]: 0.818 | ETA[sec]: 0.365 "
       ]
      },
      {
       "output_type": "stream",
       "stream": "stderr",
       "text": [
        "\r",
        "[ 69 %] elapsed[sec]: 0.819 | ETA[sec]: 0.364 "
       ]
      },
      {
       "output_type": "stream",
       "stream": "stderr",
       "text": [
        "\r",
        "[ 69 %] elapsed[sec]: 0.821 | ETA[sec]: 0.364 "
       ]
      },
      {
       "output_type": "stream",
       "stream": "stderr",
       "text": [
        "\r",
        "[ 69 %] elapsed[sec]: 0.821 | ETA[sec]: 0.363 "
       ]
      },
      {
       "output_type": "stream",
       "stream": "stderr",
       "text": [
        "\r",
        "[ 69 %] elapsed[sec]: 0.822 | ETA[sec]: 0.362 "
       ]
      },
      {
       "output_type": "stream",
       "stream": "stderr",
       "text": [
        "\r",
        "[ 69 %] elapsed[sec]: 0.822 | ETA[sec]: 0.361 "
       ]
      },
      {
       "output_type": "stream",
       "stream": "stderr",
       "text": [
        "\r",
        "[ 69 %] elapsed[sec]: 0.831 | ETA[sec]: 0.364 "
       ]
      },
      {
       "output_type": "stream",
       "stream": "stderr",
       "text": [
        "\r",
        "[ 69 %] elapsed[sec]: 0.831 | ETA[sec]: 0.363 "
       ]
      },
      {
       "output_type": "stream",
       "stream": "stderr",
       "text": [
        "\r",
        "[ 69 %] elapsed[sec]: 0.832 | ETA[sec]: 0.362 "
       ]
      },
      {
       "output_type": "stream",
       "stream": "stderr",
       "text": [
        "\r",
        "[ 69 %] elapsed[sec]: 0.832 | ETA[sec]: 0.361 "
       ]
      },
      {
       "output_type": "stream",
       "stream": "stderr",
       "text": [
        "\r",
        "[ 69 %] elapsed[sec]: 0.833 | ETA[sec]: 0.360 "
       ]
      },
      {
       "output_type": "stream",
       "stream": "stderr",
       "text": [
        "\r",
        "[ 69 %] elapsed[sec]: 0.833 | ETA[sec]: 0.359 "
       ]
      },
      {
       "output_type": "stream",
       "stream": "stderr",
       "text": [
        "\r",
        "[ 69 %] elapsed[sec]: 0.834 | ETA[sec]: 0.358 "
       ]
      },
      {
       "output_type": "stream",
       "stream": "stderr",
       "text": [
        "\r",
        "[ 70 %] elapsed[sec]: 0.834 | ETA[sec]: 0.358 "
       ]
      },
      {
       "output_type": "stream",
       "stream": "stderr",
       "text": [
        "\r",
        "[ 70 %] elapsed[sec]: 0.835 | ETA[sec]: 0.357 "
       ]
      },
      {
       "output_type": "stream",
       "stream": "stderr",
       "text": [
        "\r",
        "[ 70 %] elapsed[sec]: 0.835 | ETA[sec]: 0.356 "
       ]
      },
      {
       "output_type": "stream",
       "stream": "stderr",
       "text": [
        "\r",
        "[ 70 %] elapsed[sec]: 0.837 | ETA[sec]: 0.355 "
       ]
      },
      {
       "output_type": "stream",
       "stream": "stderr",
       "text": [
        "\r",
        "[ 70 %] elapsed[sec]: 0.838 | ETA[sec]: 0.354 "
       ]
      },
      {
       "output_type": "stream",
       "stream": "stderr",
       "text": [
        "\r",
        "[ 70 %] elapsed[sec]: 0.839 | ETA[sec]: 0.354 "
       ]
      },
      {
       "output_type": "stream",
       "stream": "stderr",
       "text": [
        "\r",
        "[ 70 %] elapsed[sec]: 0.840 | ETA[sec]: 0.353 "
       ]
      },
      {
       "output_type": "stream",
       "stream": "stderr",
       "text": [
        "\r",
        "[ 70 %] elapsed[sec]: 0.843 | ETA[sec]: 0.353 "
       ]
      },
      {
       "output_type": "stream",
       "stream": "stderr",
       "text": [
        "\r",
        "[ 70 %] elapsed[sec]: 0.843 | ETA[sec]: 0.352 "
       ]
      },
      {
       "output_type": "stream",
       "stream": "stderr",
       "text": [
        "\r",
        "[ 70 %] elapsed[sec]: 0.844 | ETA[sec]: 0.351 "
       ]
      },
      {
       "output_type": "stream",
       "stream": "stderr",
       "text": [
        "\r",
        "[ 70 %] elapsed[sec]: 0.846 | ETA[sec]: 0.351 "
       ]
      },
      {
       "output_type": "stream",
       "stream": "stderr",
       "text": [
        "\r",
        "[ 70 %] elapsed[sec]: 0.847 | ETA[sec]: 0.350 "
       ]
      },
      {
       "output_type": "stream",
       "stream": "stderr",
       "text": [
        "\r",
        "[ 70 %] elapsed[sec]: 0.848 | ETA[sec]: 0.350 "
       ]
      },
      {
       "output_type": "stream",
       "stream": "stderr",
       "text": [
        "\r",
        "[ 70 %] elapsed[sec]: 0.849 | ETA[sec]: 0.349 "
       ]
      },
      {
       "output_type": "stream",
       "stream": "stderr",
       "text": [
        "\r",
        "[ 70 %] elapsed[sec]: 0.866 | ETA[sec]: 0.355 "
       ]
      },
      {
       "output_type": "stream",
       "stream": "stderr",
       "text": [
        "\r",
        "[ 71 %] elapsed[sec]: 0.867 | ETA[sec]: 0.354 "
       ]
      },
      {
       "output_type": "stream",
       "stream": "stderr",
       "text": [
        "\r",
        "[ 71 %] elapsed[sec]: 0.867 | ETA[sec]: 0.353 "
       ]
      },
      {
       "output_type": "stream",
       "stream": "stderr",
       "text": [
        "\r",
        "[ 71 %] elapsed[sec]: 0.868 | ETA[sec]: 0.352 "
       ]
      },
      {
       "output_type": "stream",
       "stream": "stderr",
       "text": [
        "\r",
        "[ 71 %] elapsed[sec]: 0.868 | ETA[sec]: 0.351 "
       ]
      },
      {
       "output_type": "stream",
       "stream": "stderr",
       "text": [
        "\r",
        "[ 71 %] elapsed[sec]: 0.868 | ETA[sec]: 0.350 "
       ]
      },
      {
       "output_type": "stream",
       "stream": "stderr",
       "text": [
        "\r",
        "[ 71 %] elapsed[sec]: 0.869 | ETA[sec]: 0.349 "
       ]
      },
      {
       "output_type": "stream",
       "stream": "stderr",
       "text": [
        "\r",
        "[ 71 %] elapsed[sec]: 0.869 | ETA[sec]: 0.348 "
       ]
      },
      {
       "output_type": "stream",
       "stream": "stderr",
       "text": [
        "\r",
        "[ 71 %] elapsed[sec]: 0.870 | ETA[sec]: 0.347 "
       ]
      },
      {
       "output_type": "stream",
       "stream": "stderr",
       "text": [
        "\r",
        "[ 71 %] elapsed[sec]: 0.870 | ETA[sec]: 0.346 "
       ]
      },
      {
       "output_type": "stream",
       "stream": "stderr",
       "text": [
        "\r",
        "[ 71 %] elapsed[sec]: 0.870 | ETA[sec]: 0.345 "
       ]
      },
      {
       "output_type": "stream",
       "stream": "stderr",
       "text": [
        "\r",
        "[ 71 %] elapsed[sec]: 0.871 | ETA[sec]: 0.344 "
       ]
      },
      {
       "output_type": "stream",
       "stream": "stderr",
       "text": [
        "\r",
        "[ 71 %] elapsed[sec]: 0.871 | ETA[sec]: 0.343 "
       ]
      },
      {
       "output_type": "stream",
       "stream": "stderr",
       "text": [
        "\r",
        "[ 71 %] elapsed[sec]: 0.872 | ETA[sec]: 0.342 "
       ]
      },
      {
       "output_type": "stream",
       "stream": "stderr",
       "text": [
        "\r",
        "[ 71 %] elapsed[sec]: 0.872 | ETA[sec]: 0.341 "
       ]
      },
      {
       "output_type": "stream",
       "stream": "stderr",
       "text": [
        "\r",
        "[ 71 %] elapsed[sec]: 0.872 | ETA[sec]: 0.340 "
       ]
      },
      {
       "output_type": "stream",
       "stream": "stderr",
       "text": [
        "\r",
        "[ 72 %] elapsed[sec]: 0.875 | ETA[sec]: 0.340 "
       ]
      },
      {
       "output_type": "stream",
       "stream": "stderr",
       "text": [
        "\r",
        "[ 72 %] elapsed[sec]: 0.875 | ETA[sec]: 0.339 "
       ]
      },
      {
       "output_type": "stream",
       "stream": "stderr",
       "text": [
        "\r",
        "[ 72 %] elapsed[sec]: 0.876 | ETA[sec]: 0.338 "
       ]
      },
      {
       "output_type": "stream",
       "stream": "stderr",
       "text": [
        "\r",
        "[ 72 %] elapsed[sec]: 0.876 | ETA[sec]: 0.337 "
       ]
      },
      {
       "output_type": "stream",
       "stream": "stderr",
       "text": [
        "\r",
        "[ 72 %] elapsed[sec]: 0.877 | ETA[sec]: 0.336 "
       ]
      },
      {
       "output_type": "stream",
       "stream": "stderr",
       "text": [
        "\r",
        "[ 72 %] elapsed[sec]: 0.878 | ETA[sec]: 0.336 "
       ]
      },
      {
       "output_type": "stream",
       "stream": "stderr",
       "text": [
        "\r",
        "[ 72 %] elapsed[sec]: 0.901 | ETA[sec]: 0.343 "
       ]
      },
      {
       "output_type": "stream",
       "stream": "stderr",
       "text": [
        "\r",
        "[ 72 %] elapsed[sec]: 0.902 | ETA[sec]: 0.343 "
       ]
      },
      {
       "output_type": "stream",
       "stream": "stderr",
       "text": [
        "\r",
        "[ 72 %] elapsed[sec]: 0.902 | ETA[sec]: 0.342 "
       ]
      },
      {
       "output_type": "stream",
       "stream": "stderr",
       "text": [
        "\r",
        "[ 72 %] elapsed[sec]: 0.902 | ETA[sec]: 0.341 "
       ]
      },
      {
       "output_type": "stream",
       "stream": "stderr",
       "text": [
        "\r",
        "[ 72 %] elapsed[sec]: 0.903 | ETA[sec]: 0.340 "
       ]
      },
      {
       "output_type": "stream",
       "stream": "stderr",
       "text": [
        "\r",
        "[ 72 %] elapsed[sec]: 0.903 | ETA[sec]: 0.339 "
       ]
      },
      {
       "output_type": "stream",
       "stream": "stderr",
       "text": [
        "\r",
        "[ 72 %] elapsed[sec]: 0.904 | ETA[sec]: 0.338 "
       ]
      },
      {
       "output_type": "stream",
       "stream": "stderr",
       "text": [
        "\r",
        "[ 72 %] elapsed[sec]: 0.904 | ETA[sec]: 0.337 "
       ]
      },
      {
       "output_type": "stream",
       "stream": "stderr",
       "text": [
        "\r",
        "[ 72 %] elapsed[sec]: 0.904 | ETA[sec]: 0.336 "
       ]
      },
      {
       "output_type": "stream",
       "stream": "stderr",
       "text": [
        "\r",
        "[ 73 %] elapsed[sec]: 0.905 | ETA[sec]: 0.335 "
       ]
      },
      {
       "output_type": "stream",
       "stream": "stderr",
       "text": [
        "\r",
        "[ 73 %] elapsed[sec]: 0.905 | ETA[sec]: 0.334 "
       ]
      },
      {
       "output_type": "stream",
       "stream": "stderr",
       "text": [
        "\r",
        "[ 73 %] elapsed[sec]: 0.906 | ETA[sec]: 0.333 "
       ]
      },
      {
       "output_type": "stream",
       "stream": "stderr",
       "text": [
        "\r",
        "[ 73 %] elapsed[sec]: 0.906 | ETA[sec]: 0.332 "
       ]
      },
      {
       "output_type": "stream",
       "stream": "stderr",
       "text": [
        "\r",
        "[ 73 %] elapsed[sec]: 0.907 | ETA[sec]: 0.331 "
       ]
      },
      {
       "output_type": "stream",
       "stream": "stderr",
       "text": [
        "\r",
        "[ 73 %] elapsed[sec]: 0.907 | ETA[sec]: 0.330 "
       ]
      },
      {
       "output_type": "stream",
       "stream": "stderr",
       "text": [
        "\r",
        "[ 73 %] elapsed[sec]: 0.908 | ETA[sec]: 0.329 "
       ]
      },
      {
       "output_type": "stream",
       "stream": "stderr",
       "text": [
        "\r",
        "[ 73 %] elapsed[sec]: 0.908 | ETA[sec]: 0.328 "
       ]
      },
      {
       "output_type": "stream",
       "stream": "stderr",
       "text": [
        "\r",
        "[ 73 %] elapsed[sec]: 0.909 | ETA[sec]: 0.327 "
       ]
      },
      {
       "output_type": "stream",
       "stream": "stderr",
       "text": [
        "\r",
        "[ 73 %] elapsed[sec]: 0.909 | ETA[sec]: 0.326 "
       ]
      },
      {
       "output_type": "stream",
       "stream": "stderr",
       "text": [
        "\r",
        "[ 73 %] elapsed[sec]: 0.909 | ETA[sec]: 0.325 "
       ]
      },
      {
       "output_type": "stream",
       "stream": "stderr",
       "text": [
        "\r",
        "[ 73 %] elapsed[sec]: 0.910 | ETA[sec]: 0.324 "
       ]
      },
      {
       "output_type": "stream",
       "stream": "stderr",
       "text": [
        "\r",
        "[ 73 %] elapsed[sec]: 0.910 | ETA[sec]: 0.323 "
       ]
      },
      {
       "output_type": "stream",
       "stream": "stderr",
       "text": [
        "\r",
        "[ 73 %] elapsed[sec]: 0.911 | ETA[sec]: 0.322 "
       ]
      },
      {
       "output_type": "stream",
       "stream": "stderr",
       "text": [
        "\r",
        "[ 73 %] elapsed[sec]: 0.911 | ETA[sec]: 0.321 "
       ]
      },
      {
       "output_type": "stream",
       "stream": "stderr",
       "text": [
        "\r",
        "[ 74 %] elapsed[sec]: 0.912 | ETA[sec]: 0.331 "
       ]
      },
      {
       "output_type": "stream",
       "stream": "stderr",
       "text": [
        "\r",
        "[ 74 %] elapsed[sec]: 0.952 | ETA[sec]: 0.333 "
       ]
      },
      {
       "output_type": "stream",
       "stream": "stderr",
       "text": [
        "\r",
        "[ 74 %] elapsed[sec]: 0.952 | ETA[sec]: 0.332 "
       ]
      },
      {
       "output_type": "stream",
       "stream": "stderr",
       "text": [
        "\r",
        "[ 74 %] elapsed[sec]: 0.952 | ETA[sec]: 0.331 "
       ]
      },
      {
       "output_type": "stream",
       "stream": "stderr",
       "text": [
        "\r",
        "[ 74 %] elapsed[sec]: 0.953 | ETA[sec]: 0.330 "
       ]
      },
      {
       "output_type": "stream",
       "stream": "stderr",
       "text": [
        "\r",
        "[ 74 %] elapsed[sec]: 0.953 | ETA[sec]: 0.329 "
       ]
      },
      {
       "output_type": "stream",
       "stream": "stderr",
       "text": [
        "\r",
        "[ 74 %] elapsed[sec]: 0.954 | ETA[sec]: 0.328 "
       ]
      },
      {
       "output_type": "stream",
       "stream": "stderr",
       "text": [
        "\r",
        "[ 74 %] elapsed[sec]: 0.954 | ETA[sec]: 0.327 "
       ]
      },
      {
       "output_type": "stream",
       "stream": "stderr",
       "text": [
        "\r",
        "[ 74 %] elapsed[sec]: 0.955 | ETA[sec]: 0.326 "
       ]
      },
      {
       "output_type": "stream",
       "stream": "stderr",
       "text": [
        "\r",
        "[ 74 %] elapsed[sec]: 0.956 | ETA[sec]: 0.325 "
       ]
      },
      {
       "output_type": "stream",
       "stream": "stderr",
       "text": [
        "\r",
        "[ 74 %] elapsed[sec]: 0.956 | ETA[sec]: 0.324 "
       ]
      },
      {
       "output_type": "stream",
       "stream": "stderr",
       "text": [
        "\r",
        "[ 74 %] elapsed[sec]: 0.956 | ETA[sec]: 0.323 "
       ]
      },
      {
       "output_type": "stream",
       "stream": "stderr",
       "text": [
        "\r",
        "[ 74 %] elapsed[sec]: 0.957 | ETA[sec]: 0.322 "
       ]
      },
      {
       "output_type": "stream",
       "stream": "stderr",
       "text": [
        "\r",
        "[ 74 %] elapsed[sec]: 0.957 | ETA[sec]: 0.321 "
       ]
      },
      {
       "output_type": "stream",
       "stream": "stderr",
       "text": [
        "\r",
        "[ 74 %] elapsed[sec]: 0.958 | ETA[sec]: 0.320 "
       ]
      },
      {
       "output_type": "stream",
       "stream": "stderr",
       "text": [
        "\r",
        "[ 75 %] elapsed[sec]: 0.959 | ETA[sec]: 0.320 "
       ]
      },
      {
       "output_type": "stream",
       "stream": "stderr",
       "text": [
        "\r",
        "[ 75 %] elapsed[sec]: 0.959 | ETA[sec]: 0.319 "
       ]
      },
      {
       "output_type": "stream",
       "stream": "stderr",
       "text": [
        "\r",
        "[ 75 %] elapsed[sec]: 0.960 | ETA[sec]: 0.318 "
       ]
      },
      {
       "output_type": "stream",
       "stream": "stderr",
       "text": [
        "\r",
        "[ 75 %] elapsed[sec]: 0.960 | ETA[sec]: 0.317 "
       ]
      },
      {
       "output_type": "stream",
       "stream": "stderr",
       "text": [
        "\r",
        "[ 75 %] elapsed[sec]: 0.961 | ETA[sec]: 0.316 "
       ]
      },
      {
       "output_type": "stream",
       "stream": "stderr",
       "text": [
        "\r",
        "[ 75 %] elapsed[sec]: 0.969 | ETA[sec]: 0.317 "
       ]
      },
      {
       "output_type": "stream",
       "stream": "stderr",
       "text": [
        "\r",
        "[ 75 %] elapsed[sec]: 0.999 | ETA[sec]: 0.326 "
       ]
      },
      {
       "output_type": "stream",
       "stream": "stderr",
       "text": [
        "\r",
        "[ 75 %] elapsed[sec]: 0.999 | ETA[sec]: 0.325 "
       ]
      },
      {
       "output_type": "stream",
       "stream": "stderr",
       "text": [
        "\r",
        "[ 75 %] elapsed[sec]: 1.000 | ETA[sec]: 0.324 "
       ]
      },
      {
       "output_type": "stream",
       "stream": "stderr",
       "text": [
        "\r",
        "[ 75 %] elapsed[sec]: 1.000 | ETA[sec]: 0.323 "
       ]
      },
      {
       "output_type": "stream",
       "stream": "stderr",
       "text": [
        "\r",
        "[ 75 %] elapsed[sec]: 1.000 | ETA[sec]: 0.322 "
       ]
      },
      {
       "output_type": "stream",
       "stream": "stderr",
       "text": [
        "\r",
        "[ 75 %] elapsed[sec]: 1.001 | ETA[sec]: 0.321 "
       ]
      },
      {
       "output_type": "stream",
       "stream": "stderr",
       "text": [
        "\r",
        "[ 75 %] elapsed[sec]: 1.001 | ETA[sec]: 0.320 "
       ]
      },
      {
       "output_type": "stream",
       "stream": "stderr",
       "text": [
        "\r",
        "[ 75 %] elapsed[sec]: 1.002 | ETA[sec]: 0.319 "
       ]
      },
      {
       "output_type": "stream",
       "stream": "stderr",
       "text": [
        "\r",
        "[ 75 %] elapsed[sec]: 1.002 | ETA[sec]: 0.318 "
       ]
      },
      {
       "output_type": "stream",
       "stream": "stderr",
       "text": [
        "\r",
        "[ 76 %] elapsed[sec]: 1.002 | ETA[sec]: 0.317 "
       ]
      },
      {
       "output_type": "stream",
       "stream": "stderr",
       "text": [
        "\r",
        "[ 76 %] elapsed[sec]: 1.003 | ETA[sec]: 0.316 "
       ]
      },
      {
       "output_type": "stream",
       "stream": "stderr",
       "text": [
        "\r",
        "[ 76 %] elapsed[sec]: 1.003 | ETA[sec]: 0.315 "
       ]
      },
      {
       "output_type": "stream",
       "stream": "stderr",
       "text": [
        "\r",
        "[ 76 %] elapsed[sec]: 1.004 | ETA[sec]: 0.313 "
       ]
      },
      {
       "output_type": "stream",
       "stream": "stderr",
       "text": [
        "\r",
        "[ 76 %] elapsed[sec]: 1.004 | ETA[sec]: 0.312 "
       ]
      },
      {
       "output_type": "stream",
       "stream": "stderr",
       "text": [
        "\r",
        "[ 76 %] elapsed[sec]: 1.006 | ETA[sec]: 0.312 "
       ]
      },
      {
       "output_type": "stream",
       "stream": "stderr",
       "text": [
        "\r",
        "[ 76 %] elapsed[sec]: 1.006 | ETA[sec]: 0.314 "
       ]
      },
      {
       "output_type": "stream",
       "stream": "stderr",
       "text": [
        "\r",
        "[ 76 %] elapsed[sec]: 1.017 | ETA[sec]: 0.313 "
       ]
      },
      {
       "output_type": "stream",
       "stream": "stderr",
       "text": [
        "\r",
        "[ 76 %] elapsed[sec]: 1.017 | ETA[sec]: 0.312 "
       ]
      },
      {
       "output_type": "stream",
       "stream": "stderr",
       "text": [
        "\r",
        "[ 76 %] elapsed[sec]: 1.018 | ETA[sec]: 0.311 "
       ]
      },
      {
       "output_type": "stream",
       "stream": "stderr",
       "text": [
        "\r",
        "[ 76 %] elapsed[sec]: 1.019 | ETA[sec]: 0.310 "
       ]
      },
      {
       "output_type": "stream",
       "stream": "stderr",
       "text": [
        "\r",
        "[ 76 %] elapsed[sec]: 1.020 | ETA[sec]: 0.309 "
       ]
      },
      {
       "output_type": "stream",
       "stream": "stderr",
       "text": [
        "\r",
        "[ 76 %] elapsed[sec]: 1.020 | ETA[sec]: 0.308 "
       ]
      },
      {
       "output_type": "stream",
       "stream": "stderr",
       "text": [
        "\r",
        "[ 76 %] elapsed[sec]: 1.052 | ETA[sec]: 0.317 "
       ]
      },
      {
       "output_type": "stream",
       "stream": "stderr",
       "text": [
        "\r",
        "[ 76 %] elapsed[sec]: 1.053 | ETA[sec]: 0.316 "
       ]
      },
      {
       "output_type": "stream",
       "stream": "stderr",
       "text": [
        "\r",
        "[ 77 %] elapsed[sec]: 1.053 | ETA[sec]: 0.315 "
       ]
      },
      {
       "output_type": "stream",
       "stream": "stderr",
       "text": [
        "\r",
        "[ 77 %] elapsed[sec]: 1.054 | ETA[sec]: 0.314 "
       ]
      },
      {
       "output_type": "stream",
       "stream": "stderr",
       "text": [
        "\r",
        "[ 77 %] elapsed[sec]: 1.054 | ETA[sec]: 0.313 "
       ]
      },
      {
       "output_type": "stream",
       "stream": "stderr",
       "text": [
        "\r",
        "[ 77 %] elapsed[sec]: 1.058 | ETA[sec]: 0.313 "
       ]
      },
      {
       "output_type": "stream",
       "stream": "stderr",
       "text": [
        "\r",
        "[ 77 %] elapsed[sec]: 1.059 | ETA[sec]: 0.312 "
       ]
      },
      {
       "output_type": "stream",
       "stream": "stderr",
       "text": [
        "\r",
        "[ 77 %] elapsed[sec]: 1.059 | ETA[sec]: 0.310 "
       ]
      },
      {
       "output_type": "stream",
       "stream": "stderr",
       "text": [
        "\r",
        "[ 77 %] elapsed[sec]: 1.060 | ETA[sec]: 0.309 "
       ]
      },
      {
       "output_type": "stream",
       "stream": "stderr",
       "text": [
        "\r",
        "[ 77 %] elapsed[sec]: 1.060 | ETA[sec]: 0.308 "
       ]
      },
      {
       "output_type": "stream",
       "stream": "stderr",
       "text": [
        "\r",
        "[ 77 %] elapsed[sec]: 1.060 | ETA[sec]: 0.307 "
       ]
      },
      {
       "output_type": "stream",
       "stream": "stderr",
       "text": [
        "\r",
        "[ 77 %] elapsed[sec]: 1.084 | ETA[sec]: 0.313 "
       ]
      },
      {
       "output_type": "stream",
       "stream": "stderr",
       "text": [
        "\r",
        "[ 77 %] elapsed[sec]: 1.085 | ETA[sec]: 0.312 "
       ]
      },
      {
       "output_type": "stream",
       "stream": "stderr",
       "text": [
        "\r",
        "[ 77 %] elapsed[sec]: 1.086 | ETA[sec]: 0.311 "
       ]
      },
      {
       "output_type": "stream",
       "stream": "stderr",
       "text": [
        "\r",
        "[ 77 %] elapsed[sec]: 1.086 | ETA[sec]: 0.310 "
       ]
      },
      {
       "output_type": "stream",
       "stream": "stderr",
       "text": [
        "\r",
        "[ 77 %] elapsed[sec]: 1.087 | ETA[sec]: 0.309 "
       ]
      },
      {
       "output_type": "stream",
       "stream": "stderr",
       "text": [
        "\r",
        "[ 77 %] elapsed[sec]: 1.087 | ETA[sec]: 0.308 "
       ]
      },
      {
       "output_type": "stream",
       "stream": "stderr",
       "text": [
        "\r",
        "[ 78 %] elapsed[sec]: 1.088 | ETA[sec]: 0.307 "
       ]
      },
      {
       "output_type": "stream",
       "stream": "stderr",
       "text": [
        "\r",
        "[ 78 %] elapsed[sec]: 1.088 | ETA[sec]: 0.306 "
       ]
      },
      {
       "output_type": "stream",
       "stream": "stderr",
       "text": [
        "\r",
        "[ 78 %] elapsed[sec]: 1.088 | ETA[sec]: 0.305 "
       ]
      },
      {
       "output_type": "stream",
       "stream": "stderr",
       "text": [
        "\r",
        "[ 78 %] elapsed[sec]: 1.089 | ETA[sec]: 0.304 "
       ]
      },
      {
       "output_type": "stream",
       "stream": "stderr",
       "text": [
        "\r",
        "[ 78 %] elapsed[sec]: 1.089 | ETA[sec]: 0.302 "
       ]
      },
      {
       "output_type": "stream",
       "stream": "stderr",
       "text": [
        "\r",
        "[ 78 %] elapsed[sec]: 1.089 | ETA[sec]: 0.301 "
       ]
      },
      {
       "output_type": "stream",
       "stream": "stderr",
       "text": [
        "\r",
        "[ 78 %] elapsed[sec]: 1.104 | ETA[sec]: 0.304 "
       ]
      },
      {
       "output_type": "stream",
       "stream": "stderr",
       "text": [
        "\r",
        "[ 78 %] elapsed[sec]: 1.104 | ETA[sec]: 0.303 "
       ]
      },
      {
       "output_type": "stream",
       "stream": "stderr",
       "text": [
        "\r",
        "[ 78 %] elapsed[sec]: 1.105 | ETA[sec]: 0.302 "
       ]
      },
      {
       "output_type": "stream",
       "stream": "stderr",
       "text": [
        "\r",
        "[ 78 %] elapsed[sec]: 1.106 | ETA[sec]: 0.301 "
       ]
      },
      {
       "output_type": "stream",
       "stream": "stderr",
       "text": [
        "\r",
        "[ 78 %] elapsed[sec]: 1.107 | ETA[sec]: 0.300 "
       ]
      },
      {
       "output_type": "stream",
       "stream": "stderr",
       "text": [
        "\r",
        "[ 78 %] elapsed[sec]: 1.107 | ETA[sec]: 0.299 "
       ]
      },
      {
       "output_type": "stream",
       "stream": "stderr",
       "text": [
        "\r",
        "[ 78 %] elapsed[sec]: 1.108 | ETA[sec]: 0.298 "
       ]
      },
      {
       "output_type": "stream",
       "stream": "stderr",
       "text": [
        "\r",
        "[ 78 %] elapsed[sec]: 1.109 | ETA[sec]: 0.297 "
       ]
      },
      {
       "output_type": "stream",
       "stream": "stderr",
       "text": [
        "\r",
        "[ 78 %] elapsed[sec]: 1.109 | ETA[sec]: 0.296 "
       ]
      },
      {
       "output_type": "stream",
       "stream": "stderr",
       "text": [
        "\r",
        "[ 79 %] elapsed[sec]: 1.110 | ETA[sec]: 0.295 "
       ]
      },
      {
       "output_type": "stream",
       "stream": "stderr",
       "text": [
        "\r",
        "[ 79 %] elapsed[sec]: 1.110 | ETA[sec]: 0.294 "
       ]
      },
      {
       "output_type": "stream",
       "stream": "stderr",
       "text": [
        "\r",
        "[ 79 %] elapsed[sec]: 1.111 | ETA[sec]: 0.293 "
       ]
      },
      {
       "output_type": "stream",
       "stream": "stderr",
       "text": [
        "\r",
        "[ 79 %] elapsed[sec]: 1.111 | ETA[sec]: 0.292 "
       ]
      },
      {
       "output_type": "stream",
       "stream": "stderr",
       "text": [
        "\r",
        "[ 79 %] elapsed[sec]: 1.112 | ETA[sec]: 0.291 "
       ]
      },
      {
       "output_type": "stream",
       "stream": "stderr",
       "text": [
        "\r",
        "[ 79 %] elapsed[sec]: 1.112 | ETA[sec]: 0.290 "
       ]
      },
      {
       "output_type": "stream",
       "stream": "stderr",
       "text": [
        "\r",
        "[ 79 %] elapsed[sec]: 1.113 | ETA[sec]: 0.289 "
       ]
      },
      {
       "output_type": "stream",
       "stream": "stderr",
       "text": [
        "\r",
        "[ 79 %] elapsed[sec]: 1.113 | ETA[sec]: 0.288 "
       ]
      },
      {
       "output_type": "stream",
       "stream": "stderr",
       "text": [
        "\r",
        "[ 79 %] elapsed[sec]: 1.114 | ETA[sec]: 0.287 "
       ]
      },
      {
       "output_type": "stream",
       "stream": "stderr",
       "text": [
        "\r",
        "[ 79 %] elapsed[sec]: 1.114 | ETA[sec]: 0.285 "
       ]
      },
      {
       "output_type": "stream",
       "stream": "stderr",
       "text": [
        "\r",
        "[ 79 %] elapsed[sec]: 1.115 | ETA[sec]: 0.284 "
       ]
      },
      {
       "output_type": "stream",
       "stream": "stderr",
       "text": [
        "\r",
        "[ 79 %] elapsed[sec]: 1.115 | ETA[sec]: 0.283 "
       ]
      },
      {
       "output_type": "stream",
       "stream": "stderr",
       "text": [
        "\r",
        "[ 79 %] elapsed[sec]: 1.115 | ETA[sec]: 0.282 "
       ]
      },
      {
       "output_type": "stream",
       "stream": "stderr",
       "text": [
        "\r",
        "[ 79 %] elapsed[sec]: 1.146 | ETA[sec]: 0.289 "
       ]
      },
      {
       "output_type": "stream",
       "stream": "stderr",
       "text": [
        "\r",
        "[ 79 %] elapsed[sec]: 1.146 | ETA[sec]: 0.288 "
       ]
      },
      {
       "output_type": "stream",
       "stream": "stderr",
       "text": [
        "\r",
        "[ 80 %] elapsed[sec]: 1.147 | ETA[sec]: 0.287 "
       ]
      },
      {
       "output_type": "stream",
       "stream": "stderr",
       "text": [
        "\r",
        "[ 80 %] elapsed[sec]: 1.147 | ETA[sec]: 0.286 "
       ]
      },
      {
       "output_type": "stream",
       "stream": "stderr",
       "text": [
        "\r",
        "[ 80 %] elapsed[sec]: 1.148 | ETA[sec]: 0.285 "
       ]
      },
      {
       "output_type": "stream",
       "stream": "stderr",
       "text": [
        "\r",
        "[ 80 %] elapsed[sec]: 1.148 | ETA[sec]: 0.283 "
       ]
      },
      {
       "output_type": "stream",
       "stream": "stderr",
       "text": [
        "\r",
        "[ 80 %] elapsed[sec]: 1.148 | ETA[sec]: 0.282 "
       ]
      },
      {
       "output_type": "stream",
       "stream": "stderr",
       "text": [
        "\r",
        "[ 80 %] elapsed[sec]: 1.149 | ETA[sec]: 0.281 "
       ]
      },
      {
       "output_type": "stream",
       "stream": "stderr",
       "text": [
        "\r",
        "[ 80 %] elapsed[sec]: 1.149 | ETA[sec]: 0.280 "
       ]
      },
      {
       "output_type": "stream",
       "stream": "stderr",
       "text": [
        "\r",
        "[ 80 %] elapsed[sec]: 1.150 | ETA[sec]: 0.279 "
       ]
      },
      {
       "output_type": "stream",
       "stream": "stderr",
       "text": [
        "\r",
        "[ 80 %] elapsed[sec]: 1.151 | ETA[sec]: 0.278 "
       ]
      },
      {
       "output_type": "stream",
       "stream": "stderr",
       "text": [
        "\r",
        "[ 80 %] elapsed[sec]: 1.151 | ETA[sec]: 0.277 "
       ]
      },
      {
       "output_type": "stream",
       "stream": "stderr",
       "text": [
        "\r",
        "[ 80 %] elapsed[sec]: 1.152 | ETA[sec]: 0.276 "
       ]
      },
      {
       "output_type": "stream",
       "stream": "stderr",
       "text": [
        "\r",
        "[ 80 %] elapsed[sec]: 1.152 | ETA[sec]: 0.275 "
       ]
      },
      {
       "output_type": "stream",
       "stream": "stderr",
       "text": [
        "\r",
        "[ 80 %] elapsed[sec]: 1.153 | ETA[sec]: 0.274 "
       ]
      },
      {
       "output_type": "stream",
       "stream": "stderr",
       "text": [
        "\r",
        "[ 80 %] elapsed[sec]: 1.154 | ETA[sec]: 0.273 "
       ]
      },
      {
       "output_type": "stream",
       "stream": "stderr",
       "text": [
        "\r",
        "[ 80 %] elapsed[sec]: 1.154 | ETA[sec]: 0.272 "
       ]
      },
      {
       "output_type": "stream",
       "stream": "stderr",
       "text": [
        "\r",
        "[ 81 %] elapsed[sec]: 1.154 | ETA[sec]: 0.271 "
       ]
      },
      {
       "output_type": "stream",
       "stream": "stderr",
       "text": [
        "\r",
        "[ 81 %] elapsed[sec]: 1.155 | ETA[sec]: 0.270 "
       ]
      },
      {
       "output_type": "stream",
       "stream": "stderr",
       "text": [
        "\r",
        "[ 81 %] elapsed[sec]: 1.155 | ETA[sec]: 0.269 "
       ]
      },
      {
       "output_type": "stream",
       "stream": "stderr",
       "text": [
        "\r",
        "[ 81 %] elapsed[sec]: 1.156 | ETA[sec]: 0.268 "
       ]
      },
      {
       "output_type": "stream",
       "stream": "stderr",
       "text": [
        "\r",
        "[ 81 %] elapsed[sec]: 1.156 | ETA[sec]: 0.266 "
       ]
      },
      {
       "output_type": "stream",
       "stream": "stderr",
       "text": [
        "\r",
        "[ 81 %] elapsed[sec]: 1.156 | ETA[sec]: 0.265 "
       ]
      },
      {
       "output_type": "stream",
       "stream": "stderr",
       "text": [
        "\r",
        "[ 81 %] elapsed[sec]: 1.170 | ETA[sec]: 0.267 "
       ]
      },
      {
       "output_type": "stream",
       "stream": "stderr",
       "text": [
        "\r",
        "[ 81 %] elapsed[sec]: 1.170 | ETA[sec]: 0.266 "
       ]
      },
      {
       "output_type": "stream",
       "stream": "stderr",
       "text": [
        "\r",
        "[ 81 %] elapsed[sec]: 1.171 | ETA[sec]: 0.265 "
       ]
      },
      {
       "output_type": "stream",
       "stream": "stderr",
       "text": [
        "\r",
        "[ 81 %] elapsed[sec]: 1.171 | ETA[sec]: 0.264 "
       ]
      },
      {
       "output_type": "stream",
       "stream": "stderr",
       "text": [
        "\r",
        "[ 81 %] elapsed[sec]: 1.172 | ETA[sec]: 0.263 "
       ]
      },
      {
       "output_type": "stream",
       "stream": "stderr",
       "text": [
        "\r",
        "[ 81 %] elapsed[sec]: 1.172 | ETA[sec]: 0.262 "
       ]
      },
      {
       "output_type": "stream",
       "stream": "stderr",
       "text": [
        "\r",
        "[ 81 %] elapsed[sec]: 1.172 | ETA[sec]: 0.261 "
       ]
      },
      {
       "output_type": "stream",
       "stream": "stderr",
       "text": [
        "\r",
        "[ 81 %] elapsed[sec]: 1.173 | ETA[sec]: 0.260 "
       ]
      },
      {
       "output_type": "stream",
       "stream": "stderr",
       "text": [
        "\r",
        "[ 81 %] elapsed[sec]: 1.173 | ETA[sec]: 0.259 "
       ]
      },
      {
       "output_type": "stream",
       "stream": "stderr",
       "text": [
        "\r",
        "[ 82 %] elapsed[sec]: 1.174 | ETA[sec]: 0.258 "
       ]
      },
      {
       "output_type": "stream",
       "stream": "stderr",
       "text": [
        "\r",
        "[ 82 %] elapsed[sec]: 1.174 | ETA[sec]: 0.257 "
       ]
      },
      {
       "output_type": "stream",
       "stream": "stderr",
       "text": [
        "\r",
        "[ 82 %] elapsed[sec]: 1.174 | ETA[sec]: 0.255 "
       ]
      },
      {
       "output_type": "stream",
       "stream": "stderr",
       "text": [
        "\r",
        "[ 82 %] elapsed[sec]: 1.175 | ETA[sec]: 0.254 "
       ]
      },
      {
       "output_type": "stream",
       "stream": "stderr",
       "text": [
        "\r",
        "[ 82 %] elapsed[sec]: 1.175 | ETA[sec]: 0.253 "
       ]
      },
      {
       "output_type": "stream",
       "stream": "stderr",
       "text": [
        "\r",
        "[ 82 %] elapsed[sec]: 1.176 | ETA[sec]: 0.252 "
       ]
      },
      {
       "output_type": "stream",
       "stream": "stderr",
       "text": [
        "\r",
        "[ 82 %] elapsed[sec]: 1.177 | ETA[sec]: 0.251 "
       ]
      },
      {
       "output_type": "stream",
       "stream": "stderr",
       "text": [
        "\r",
        "[ 82 %] elapsed[sec]: 1.177 | ETA[sec]: 0.250 "
       ]
      },
      {
       "output_type": "stream",
       "stream": "stderr",
       "text": [
        "\r",
        "[ 82 %] elapsed[sec]: 1.178 | ETA[sec]: 0.249 "
       ]
      },
      {
       "output_type": "stream",
       "stream": "stderr",
       "text": [
        "\r",
        "[ 82 %] elapsed[sec]: 1.178 | ETA[sec]: 0.248 "
       ]
      },
      {
       "output_type": "stream",
       "stream": "stderr",
       "text": [
        "\r",
        "[ 82 %] elapsed[sec]: 1.179 | ETA[sec]: 0.247 "
       ]
      },
      {
       "output_type": "stream",
       "stream": "stderr",
       "text": [
        "\r",
        "[ 82 %] elapsed[sec]: 1.179 | ETA[sec]: 0.246 "
       ]
      },
      {
       "output_type": "stream",
       "stream": "stderr",
       "text": [
        "\r",
        "[ 82 %] elapsed[sec]: 1.180 | ETA[sec]: 0.245 "
       ]
      },
      {
       "output_type": "stream",
       "stream": "stderr",
       "text": [
        "\r",
        "[ 82 %] elapsed[sec]: 1.180 | ETA[sec]: 0.244 "
       ]
      },
      {
       "output_type": "stream",
       "stream": "stderr",
       "text": [
        "\r",
        "[ 82 %] elapsed[sec]: 1.180 | ETA[sec]: 0.247 "
       ]
      },
      {
       "output_type": "stream",
       "stream": "stderr",
       "text": [
        "\r",
        "[ 83 %] elapsed[sec]: 1.199 | ETA[sec]: 0.246 "
       ]
      },
      {
       "output_type": "stream",
       "stream": "stderr",
       "text": [
        "\r",
        "[ 83 %] elapsed[sec]: 1.199 | ETA[sec]: 0.244 "
       ]
      },
      {
       "output_type": "stream",
       "stream": "stderr",
       "text": [
        "\r",
        "[ 83 %] elapsed[sec]: 1.200 | ETA[sec]: 0.243 "
       ]
      },
      {
       "output_type": "stream",
       "stream": "stderr",
       "text": [
        "\r",
        "[ 83 %] elapsed[sec]: 1.200 | ETA[sec]: 0.242 "
       ]
      },
      {
       "output_type": "stream",
       "stream": "stderr",
       "text": [
        "\r",
        "[ 83 %] elapsed[sec]: 1.200 | ETA[sec]: 0.241 "
       ]
      },
      {
       "output_type": "stream",
       "stream": "stderr",
       "text": [
        "\r",
        "[ 83 %] elapsed[sec]: 1.201 | ETA[sec]: 0.240 "
       ]
      },
      {
       "output_type": "stream",
       "stream": "stderr",
       "text": [
        "\r",
        "[ 83 %] elapsed[sec]: 1.201 | ETA[sec]: 0.239 "
       ]
      },
      {
       "output_type": "stream",
       "stream": "stderr",
       "text": [
        "\r",
        "[ 83 %] elapsed[sec]: 1.202 | ETA[sec]: 0.238 "
       ]
      },
      {
       "output_type": "stream",
       "stream": "stderr",
       "text": [
        "\r",
        "[ 83 %] elapsed[sec]: 1.202 | ETA[sec]: 0.237 "
       ]
      },
      {
       "output_type": "stream",
       "stream": "stderr",
       "text": [
        "\r",
        "[ 83 %] elapsed[sec]: 1.202 | ETA[sec]: 0.236 "
       ]
      },
      {
       "output_type": "stream",
       "stream": "stderr",
       "text": [
        "\r",
        "[ 83 %] elapsed[sec]: 1.203 | ETA[sec]: 0.235 "
       ]
      },
      {
       "output_type": "stream",
       "stream": "stderr",
       "text": [
        "\r",
        "[ 83 %] elapsed[sec]: 1.203 | ETA[sec]: 0.234 "
       ]
      },
      {
       "output_type": "stream",
       "stream": "stderr",
       "text": [
        "\r",
        "[ 83 %] elapsed[sec]: 1.203 | ETA[sec]: 0.233 "
       ]
      },
      {
       "output_type": "stream",
       "stream": "stderr",
       "text": [
        "\r",
        "[ 83 %] elapsed[sec]: 1.204 | ETA[sec]: 0.232 "
       ]
      },
      {
       "output_type": "stream",
       "stream": "stderr",
       "text": [
        "\r",
        "[ 83 %] elapsed[sec]: 1.204 | ETA[sec]: 0.231 "
       ]
      },
      {
       "output_type": "stream",
       "stream": "stderr",
       "text": [
        "\r",
        "[ 84 %] elapsed[sec]: 1.205 | ETA[sec]: 0.229 "
       ]
      },
      {
       "output_type": "stream",
       "stream": "stderr",
       "text": [
        "\r",
        "[ 84 %] elapsed[sec]: 1.205 | ETA[sec]: 0.228 "
       ]
      },
      {
       "output_type": "stream",
       "stream": "stderr",
       "text": [
        "\r",
        "[ 84 %] elapsed[sec]: 1.205 | ETA[sec]: 0.227 "
       ]
      },
      {
       "output_type": "stream",
       "stream": "stderr",
       "text": [
        "\r",
        "[ 84 %] elapsed[sec]: 1.206 | ETA[sec]: 0.226 "
       ]
      },
      {
       "output_type": "stream",
       "stream": "stderr",
       "text": [
        "\r",
        "[ 84 %] elapsed[sec]: 1.206 | ETA[sec]: 0.225 "
       ]
      },
      {
       "output_type": "stream",
       "stream": "stderr",
       "text": [
        "\r",
        "[ 84 %] elapsed[sec]: 1.207 | ETA[sec]: 0.224 "
       ]
      },
      {
       "output_type": "stream",
       "stream": "stderr",
       "text": [
        "\r",
        "[ 84 %] elapsed[sec]: 1.208 | ETA[sec]: 0.223 "
       ]
      },
      {
       "output_type": "stream",
       "stream": "stderr",
       "text": [
        "\r",
        "[ 84 %] elapsed[sec]: 1.208 | ETA[sec]: 0.222 "
       ]
      },
      {
       "output_type": "stream",
       "stream": "stderr",
       "text": [
        "\r",
        "[ 84 %] elapsed[sec]: 1.208 | ETA[sec]: 0.221 "
       ]
      },
      {
       "output_type": "stream",
       "stream": "stderr",
       "text": [
        "\r",
        "[ 84 %] elapsed[sec]: 1.223 | ETA[sec]: 0.223 "
       ]
      },
      {
       "output_type": "stream",
       "stream": "stderr",
       "text": [
        "\r",
        "[ 84 %] elapsed[sec]: 1.223 | ETA[sec]: 0.222 "
       ]
      },
      {
       "output_type": "stream",
       "stream": "stderr",
       "text": [
        "\r",
        "[ 84 %] elapsed[sec]: 1.224 | ETA[sec]: 0.220 "
       ]
      },
      {
       "output_type": "stream",
       "stream": "stderr",
       "text": [
        "\r",
        "[ 84 %] elapsed[sec]: 1.224 | ETA[sec]: 0.219 "
       ]
      },
      {
       "output_type": "stream",
       "stream": "stderr",
       "text": [
        "\r",
        "[ 84 %] elapsed[sec]: 1.225 | ETA[sec]: 0.218 "
       ]
      },
      {
       "output_type": "stream",
       "stream": "stderr",
       "text": [
        "\r",
        "[ 84 %] elapsed[sec]: 1.225 | ETA[sec]: 0.217 "
       ]
      },
      {
       "output_type": "stream",
       "stream": "stderr",
       "text": [
        "\r",
        "[ 85 %] elapsed[sec]: 1.232 | ETA[sec]: 0.217 "
       ]
      },
      {
       "output_type": "stream",
       "stream": "stderr",
       "text": [
        "\r",
        "[ 85 %] elapsed[sec]: 1.233 | ETA[sec]: 0.216 "
       ]
      },
      {
       "output_type": "stream",
       "stream": "stderr",
       "text": [
        "\r",
        "[ 85 %] elapsed[sec]: 1.233 | ETA[sec]: 0.215 "
       ]
      },
      {
       "output_type": "stream",
       "stream": "stderr",
       "text": [
        "\r",
        "[ 85 %] elapsed[sec]: 1.234 | ETA[sec]: 0.214 "
       ]
      },
      {
       "output_type": "stream",
       "stream": "stderr",
       "text": [
        "\r",
        "[ 85 %] elapsed[sec]: 1.234 | ETA[sec]: 0.213 "
       ]
      },
      {
       "output_type": "stream",
       "stream": "stderr",
       "text": [
        "\r",
        "[ 85 %] elapsed[sec]: 1.235 | ETA[sec]: 0.212 "
       ]
      },
      {
       "output_type": "stream",
       "stream": "stderr",
       "text": [
        "\r",
        "[ 85 %] elapsed[sec]: 1.236 | ETA[sec]: 0.211 "
       ]
      },
      {
       "output_type": "stream",
       "stream": "stderr",
       "text": [
        "\r",
        "[ 85 %] elapsed[sec]: 1.236 | ETA[sec]: 0.210 "
       ]
      },
      {
       "output_type": "stream",
       "stream": "stderr",
       "text": [
        "\r",
        "[ 85 %] elapsed[sec]: 1.236 | ETA[sec]: 0.209 "
       ]
      },
      {
       "output_type": "stream",
       "stream": "stderr",
       "text": [
        "\r",
        "[ 85 %] elapsed[sec]: 1.237 | ETA[sec]: 0.208 "
       ]
      },
      {
       "output_type": "stream",
       "stream": "stderr",
       "text": [
        "\r",
        "[ 85 %] elapsed[sec]: 1.237 | ETA[sec]: 0.207 "
       ]
      },
      {
       "output_type": "stream",
       "stream": "stderr",
       "text": [
        "\r",
        "[ 85 %] elapsed[sec]: 1.238 | ETA[sec]: 0.206 "
       ]
      },
      {
       "output_type": "stream",
       "stream": "stderr",
       "text": [
        "\r",
        "[ 85 %] elapsed[sec]: 1.238 | ETA[sec]: 0.205 "
       ]
      },
      {
       "output_type": "stream",
       "stream": "stderr",
       "text": [
        "\r",
        "[ 85 %] elapsed[sec]: 1.238 | ETA[sec]: 0.204 "
       ]
      },
      {
       "output_type": "stream",
       "stream": "stderr",
       "text": [
        "\r",
        "[ 85 %] elapsed[sec]: 1.239 | ETA[sec]: 0.203 "
       ]
      },
      {
       "output_type": "stream",
       "stream": "stderr",
       "text": [
        "\r",
        "[ 86 %] elapsed[sec]: 1.239 | ETA[sec]: 0.202 "
       ]
      },
      {
       "output_type": "stream",
       "stream": "stderr",
       "text": [
        "\r",
        "[ 86 %] elapsed[sec]: 1.251 | ETA[sec]: 0.203 "
       ]
      },
      {
       "output_type": "stream",
       "stream": "stderr",
       "text": [
        "\r",
        "[ 86 %] elapsed[sec]: 1.252 | ETA[sec]: 0.201 "
       ]
      },
      {
       "output_type": "stream",
       "stream": "stderr",
       "text": [
        "\r",
        "[ 86 %] elapsed[sec]: 1.252 | ETA[sec]: 0.200 "
       ]
      },
      {
       "output_type": "stream",
       "stream": "stderr",
       "text": [
        "\r",
        "[ 86 %] elapsed[sec]: 1.253 | ETA[sec]: 0.199 "
       ]
      },
      {
       "output_type": "stream",
       "stream": "stderr",
       "text": [
        "\r",
        "[ 86 %] elapsed[sec]: 1.253 | ETA[sec]: 0.198 "
       ]
      },
      {
       "output_type": "stream",
       "stream": "stderr",
       "text": [
        "\r",
        "[ 86 %] elapsed[sec]: 1.254 | ETA[sec]: 0.197 "
       ]
      },
      {
       "output_type": "stream",
       "stream": "stderr",
       "text": [
        "\r",
        "[ 86 %] elapsed[sec]: 1.254 | ETA[sec]: 0.196 "
       ]
      },
      {
       "output_type": "stream",
       "stream": "stderr",
       "text": [
        "\r",
        "[ 86 %] elapsed[sec]: 1.255 | ETA[sec]: 0.195 "
       ]
      },
      {
       "output_type": "stream",
       "stream": "stderr",
       "text": [
        "\r",
        "[ 86 %] elapsed[sec]: 1.255 | ETA[sec]: 0.194 "
       ]
      },
      {
       "output_type": "stream",
       "stream": "stderr",
       "text": [
        "\r",
        "[ 86 %] elapsed[sec]: 1.256 | ETA[sec]: 0.193 "
       ]
      },
      {
       "output_type": "stream",
       "stream": "stderr",
       "text": [
        "\r",
        "[ 86 %] elapsed[sec]: 1.256 | ETA[sec]: 0.192 "
       ]
      },
      {
       "output_type": "stream",
       "stream": "stderr",
       "text": [
        "\r",
        "[ 86 %] elapsed[sec]: 1.256 | ETA[sec]: 0.191 "
       ]
      },
      {
       "output_type": "stream",
       "stream": "stderr",
       "text": [
        "\r",
        "[ 86 %] elapsed[sec]: 1.257 | ETA[sec]: 0.190 "
       ]
      },
      {
       "output_type": "stream",
       "stream": "stderr",
       "text": [
        "\r",
        "[ 86 %] elapsed[sec]: 1.257 | ETA[sec]: 0.189 "
       ]
      },
      {
       "output_type": "stream",
       "stream": "stderr",
       "text": [
        "\r",
        "[ 87 %] elapsed[sec]: 1.257 | ETA[sec]: 0.188 "
       ]
      },
      {
       "output_type": "stream",
       "stream": "stderr",
       "text": [
        "\r",
        "[ 87 %] elapsed[sec]: 1.258 | ETA[sec]: 0.187 "
       ]
      },
      {
       "output_type": "stream",
       "stream": "stderr",
       "text": [
        "\r",
        "[ 87 %] elapsed[sec]: 1.258 | ETA[sec]: 0.186 "
       ]
      },
      {
       "output_type": "stream",
       "stream": "stderr",
       "text": [
        "\r",
        "[ 87 %] elapsed[sec]: 1.259 | ETA[sec]: 0.185 "
       ]
      },
      {
       "output_type": "stream",
       "stream": "stderr",
       "text": [
        "\r",
        "[ 87 %] elapsed[sec]: 1.259 | ETA[sec]: 0.184 "
       ]
      },
      {
       "output_type": "stream",
       "stream": "stderr",
       "text": [
        "\r",
        "[ 87 %] elapsed[sec]: 1.259 | ETA[sec]: 0.183 "
       ]
      },
      {
       "output_type": "stream",
       "stream": "stderr",
       "text": [
        "\r",
        "[ 87 %] elapsed[sec]: 1.260 | ETA[sec]: 0.182 "
       ]
      },
      {
       "output_type": "stream",
       "stream": "stderr",
       "text": [
        "\r",
        "[ 87 %] elapsed[sec]: 1.260 | ETA[sec]: 0.181 "
       ]
      },
      {
       "output_type": "stream",
       "stream": "stderr",
       "text": [
        "\r",
        "[ 87 %] elapsed[sec]: 1.260 | ETA[sec]: 0.180 "
       ]
      },
      {
       "output_type": "stream",
       "stream": "stderr",
       "text": [
        "\r",
        "[ 87 %] elapsed[sec]: 1.261 | ETA[sec]: 0.178 "
       ]
      },
      {
       "output_type": "stream",
       "stream": "stderr",
       "text": [
        "\r",
        "[ 87 %] elapsed[sec]: 1.261 | ETA[sec]: 0.177 "
       ]
      },
      {
       "output_type": "stream",
       "stream": "stderr",
       "text": [
        "\r",
        "[ 87 %] elapsed[sec]: 1.263 | ETA[sec]: 0.177 "
       ]
      },
      {
       "output_type": "stream",
       "stream": "stderr",
       "text": [
        "\r",
        "[ 87 %] elapsed[sec]: 1.264 | ETA[sec]: 0.176 "
       ]
      },
      {
       "output_type": "stream",
       "stream": "stderr",
       "text": [
        "\r",
        "[ 87 %] elapsed[sec]: 1.264 | ETA[sec]: 0.175 "
       ]
      },
      {
       "output_type": "stream",
       "stream": "stderr",
       "text": [
        "\r",
        "[ 87 %] elapsed[sec]: 1.265 | ETA[sec]: 0.174 "
       ]
      },
      {
       "output_type": "stream",
       "stream": "stderr",
       "text": [
        "\r",
        "[ 88 %] elapsed[sec]: 1.265 | ETA[sec]: 0.173 "
       ]
      },
      {
       "output_type": "stream",
       "stream": "stderr",
       "text": [
        "\r",
        "[ 88 %] elapsed[sec]: 1.266 | ETA[sec]: 0.172 "
       ]
      },
      {
       "output_type": "stream",
       "stream": "stderr",
       "text": [
        "\r",
        "[ 88 %] elapsed[sec]: 1.267 | ETA[sec]: 0.171 "
       ]
      },
      {
       "output_type": "stream",
       "stream": "stderr",
       "text": [
        "\r",
        "[ 88 %] elapsed[sec]: 1.267 | ETA[sec]: 0.170 "
       ]
      },
      {
       "output_type": "stream",
       "stream": "stderr",
       "text": [
        "\r",
        "[ 88 %] elapsed[sec]: 1.268 | ETA[sec]: 0.169 "
       ]
      },
      {
       "output_type": "stream",
       "stream": "stderr",
       "text": [
        "\r",
        "[ 88 %] elapsed[sec]: 1.269 | ETA[sec]: 0.168 "
       ]
      },
      {
       "output_type": "stream",
       "stream": "stderr",
       "text": [
        "\r",
        "[ 88 %] elapsed[sec]: 1.269 | ETA[sec]: 0.167 "
       ]
      },
      {
       "output_type": "stream",
       "stream": "stderr",
       "text": [
        "\r",
        "[ 88 %] elapsed[sec]: 1.270 | ETA[sec]: 0.166 "
       ]
      },
      {
       "output_type": "stream",
       "stream": "stderr",
       "text": [
        "\r",
        "[ 88 %] elapsed[sec]: 1.270 | ETA[sec]: 0.165 "
       ]
      },
      {
       "output_type": "stream",
       "stream": "stderr",
       "text": [
        "\r",
        "[ 88 %] elapsed[sec]: 1.271 | ETA[sec]: 0.164 "
       ]
      },
      {
       "output_type": "stream",
       "stream": "stderr",
       "text": [
        "\r",
        "[ 88 %] elapsed[sec]: 1.271 | ETA[sec]: 0.162 "
       ]
      },
      {
       "output_type": "stream",
       "stream": "stderr",
       "text": [
        "\r",
        "[ 88 %] elapsed[sec]: 1.272 | ETA[sec]: 0.161 "
       ]
      },
      {
       "output_type": "stream",
       "stream": "stderr",
       "text": [
        "\r",
        "[ 88 %] elapsed[sec]: 1.272 | ETA[sec]: 0.160 "
       ]
      },
      {
       "output_type": "stream",
       "stream": "stderr",
       "text": [
        "\r",
        "[ 88 %] elapsed[sec]: 1.272 | ETA[sec]: 0.159 "
       ]
      },
      {
       "output_type": "stream",
       "stream": "stderr",
       "text": [
        "\r",
        "[ 88 %] elapsed[sec]: 1.273 | ETA[sec]: 0.158 "
       ]
      },
      {
       "output_type": "stream",
       "stream": "stderr",
       "text": [
        "\r",
        "[ 89 %] elapsed[sec]: 1.273 | ETA[sec]: 0.157 "
       ]
      },
      {
       "output_type": "stream",
       "stream": "stderr",
       "text": [
        "\r",
        "[ 89 %] elapsed[sec]: 1.274 | ETA[sec]: 0.156 "
       ]
      },
      {
       "output_type": "stream",
       "stream": "stderr",
       "text": [
        "\r",
        "[ 89 %] elapsed[sec]: 1.274 | ETA[sec]: 0.155 "
       ]
      },
      {
       "output_type": "stream",
       "stream": "stderr",
       "text": [
        "\r",
        "[ 89 %] elapsed[sec]: 1.275 | ETA[sec]: 0.154 "
       ]
      },
      {
       "output_type": "stream",
       "stream": "stderr",
       "text": [
        "\r",
        "[ 89 %] elapsed[sec]: 1.276 | ETA[sec]: 0.153 "
       ]
      },
      {
       "output_type": "stream",
       "stream": "stderr",
       "text": [
        "\r",
        "[ 89 %] elapsed[sec]: 1.277 | ETA[sec]: 0.152 "
       ]
      },
      {
       "output_type": "stream",
       "stream": "stderr",
       "text": [
        "\r",
        "[ 89 %] elapsed[sec]: 1.277 | ETA[sec]: 0.151 "
       ]
      },
      {
       "output_type": "stream",
       "stream": "stderr",
       "text": [
        "\r",
        "[ 89 %] elapsed[sec]: 1.278 | ETA[sec]: 0.150 "
       ]
      },
      {
       "output_type": "stream",
       "stream": "stderr",
       "text": [
        "\r",
        "[ 89 %] elapsed[sec]: 1.278 | ETA[sec]: 0.149 "
       ]
      },
      {
       "output_type": "stream",
       "stream": "stderr",
       "text": [
        "\r",
        "[ 89 %] elapsed[sec]: 1.279 | ETA[sec]: 0.148 "
       ]
      },
      {
       "output_type": "stream",
       "stream": "stderr",
       "text": [
        "\r",
        "[ 89 %] elapsed[sec]: 1.279 | ETA[sec]: 0.147 "
       ]
      },
      {
       "output_type": "stream",
       "stream": "stderr",
       "text": [
        "\r",
        "[ 89 %] elapsed[sec]: 1.280 | ETA[sec]: 0.146 "
       ]
      },
      {
       "output_type": "stream",
       "stream": "stderr",
       "text": [
        "\r",
        "[ 89 %] elapsed[sec]: 1.280 | ETA[sec]: 0.145 "
       ]
      },
      {
       "output_type": "stream",
       "stream": "stderr",
       "text": [
        "\r",
        "[ 89 %] elapsed[sec]: 1.281 | ETA[sec]: 0.144 "
       ]
      },
      {
       "output_type": "stream",
       "stream": "stderr",
       "text": [
        "\r",
        "[ 89 %] elapsed[sec]: 1.281 | ETA[sec]: 0.143 "
       ]
      },
      {
       "output_type": "stream",
       "stream": "stderr",
       "text": [
        "\r",
        "[ 90 %] elapsed[sec]: 1.282 | ETA[sec]: 0.142 "
       ]
      },
      {
       "output_type": "stream",
       "stream": "stderr",
       "text": [
        "\r",
        "[ 90 %] elapsed[sec]: 1.282 | ETA[sec]: 0.141 "
       ]
      },
      {
       "output_type": "stream",
       "stream": "stderr",
       "text": [
        "\r",
        "[ 90 %] elapsed[sec]: 1.283 | ETA[sec]: 0.140 "
       ]
      },
      {
       "output_type": "stream",
       "stream": "stderr",
       "text": [
        "\r",
        "[ 90 %] elapsed[sec]: 1.283 | ETA[sec]: 0.139 "
       ]
      },
      {
       "output_type": "stream",
       "stream": "stderr",
       "text": [
        "\r",
        "[ 90 %] elapsed[sec]: 1.284 | ETA[sec]: 0.138 "
       ]
      },
      {
       "output_type": "stream",
       "stream": "stderr",
       "text": [
        "\r",
        "[ 90 %] elapsed[sec]: 1.285 | ETA[sec]: 0.138 "
       ]
      },
      {
       "output_type": "stream",
       "stream": "stderr",
       "text": [
        "\r",
        "[ 90 %] elapsed[sec]: 1.286 | ETA[sec]: 0.137 "
       ]
      },
      {
       "output_type": "stream",
       "stream": "stderr",
       "text": [
        "\r",
        "[ 90 %] elapsed[sec]: 1.286 | ETA[sec]: 0.136 "
       ]
      },
      {
       "output_type": "stream",
       "stream": "stderr",
       "text": [
        "\r",
        "[ 90 %] elapsed[sec]: 1.287 | ETA[sec]: 0.135 "
       ]
      },
      {
       "output_type": "stream",
       "stream": "stderr",
       "text": [
        "\r",
        "[ 90 %] elapsed[sec]: 1.287 | ETA[sec]: 0.134 "
       ]
      },
      {
       "output_type": "stream",
       "stream": "stderr",
       "text": [
        "\r",
        "[ 90 %] elapsed[sec]: 1.288 | ETA[sec]: 0.133 "
       ]
      },
      {
       "output_type": "stream",
       "stream": "stderr",
       "text": [
        "\r",
        "[ 90 %] elapsed[sec]: 1.288 | ETA[sec]: 0.132 "
       ]
      },
      {
       "output_type": "stream",
       "stream": "stderr",
       "text": [
        "\r",
        "[ 90 %] elapsed[sec]: 1.289 | ETA[sec]: 0.131 "
       ]
      },
      {
       "output_type": "stream",
       "stream": "stderr",
       "text": [
        "\r",
        "[ 90 %] elapsed[sec]: 1.298 | ETA[sec]: 0.130 "
       ]
      },
      {
       "output_type": "stream",
       "stream": "stderr",
       "text": [
        "\r",
        "[ 90 %] elapsed[sec]: 1.298 | ETA[sec]: 0.129 "
       ]
      },
      {
       "output_type": "stream",
       "stream": "stderr",
       "text": [
        "\r",
        "[ 91 %] elapsed[sec]: 1.299 | ETA[sec]: 0.128 "
       ]
      },
      {
       "output_type": "stream",
       "stream": "stderr",
       "text": [
        "\r",
        "[ 91 %] elapsed[sec]: 1.299 | ETA[sec]: 0.127 "
       ]
      },
      {
       "output_type": "stream",
       "stream": "stderr",
       "text": [
        "\r",
        "[ 91 %] elapsed[sec]: 1.300 | ETA[sec]: 0.126 "
       ]
      },
      {
       "output_type": "stream",
       "stream": "stderr",
       "text": [
        "\r",
        "[ 91 %] elapsed[sec]: 1.300 | ETA[sec]: 0.125 "
       ]
      },
      {
       "output_type": "stream",
       "stream": "stderr",
       "text": [
        "\r",
        "[ 91 %] elapsed[sec]: 1.301 | ETA[sec]: 0.124 "
       ]
      },
      {
       "output_type": "stream",
       "stream": "stderr",
       "text": [
        "\r",
        "[ 91 %] elapsed[sec]: 1.301 | ETA[sec]: 0.123 "
       ]
      },
      {
       "output_type": "stream",
       "stream": "stderr",
       "text": [
        "\r",
        "[ 91 %] elapsed[sec]: 1.302 | ETA[sec]: 0.122 "
       ]
      },
      {
       "output_type": "stream",
       "stream": "stderr",
       "text": [
        "\r",
        "[ 91 %] elapsed[sec]: 1.302 | ETA[sec]: 0.121 "
       ]
      },
      {
       "output_type": "stream",
       "stream": "stderr",
       "text": [
        "\r",
        "[ 91 %] elapsed[sec]: 1.302 | ETA[sec]: 0.120 "
       ]
      },
      {
       "output_type": "stream",
       "stream": "stderr",
       "text": [
        "\r",
        "[ 91 %] elapsed[sec]: 1.303 | ETA[sec]: 0.119 "
       ]
      },
      {
       "output_type": "stream",
       "stream": "stderr",
       "text": [
        "\r",
        "[ 91 %] elapsed[sec]: 1.303 | ETA[sec]: 0.118 "
       ]
      },
      {
       "output_type": "stream",
       "stream": "stderr",
       "text": [
        "\r",
        "[ 91 %] elapsed[sec]: 1.304 | ETA[sec]: 0.117 "
       ]
      },
      {
       "output_type": "stream",
       "stream": "stderr",
       "text": [
        "\r",
        "[ 91 %] elapsed[sec]: 1.304 | ETA[sec]: 0.116 "
       ]
      },
      {
       "output_type": "stream",
       "stream": "stderr",
       "text": [
        "\r",
        "[ 91 %] elapsed[sec]: 1.304 | ETA[sec]: 0.115 "
       ]
      },
      {
       "output_type": "stream",
       "stream": "stderr",
       "text": [
        "\r",
        "[ 91 %] elapsed[sec]: 1.305 | ETA[sec]: 0.114 "
       ]
      },
      {
       "output_type": "stream",
       "stream": "stderr",
       "text": [
        "\r",
        "[ 92 %] elapsed[sec]: 1.305 | ETA[sec]: 0.113 "
       ]
      },
      {
       "output_type": "stream",
       "stream": "stderr",
       "text": [
        "\r",
        "[ 92 %] elapsed[sec]: 1.306 | ETA[sec]: 0.112 "
       ]
      },
      {
       "output_type": "stream",
       "stream": "stderr",
       "text": [
        "\r",
        "[ 92 %] elapsed[sec]: 1.306 | ETA[sec]: 0.112 "
       ]
      },
      {
       "output_type": "stream",
       "stream": "stderr",
       "text": [
        "\r",
        "[ 92 %] elapsed[sec]: 1.306 | ETA[sec]: 0.111 "
       ]
      },
      {
       "output_type": "stream",
       "stream": "stderr",
       "text": [
        "\r",
        "[ 92 %] elapsed[sec]: 1.307 | ETA[sec]: 0.110 "
       ]
      },
      {
       "output_type": "stream",
       "stream": "stderr",
       "text": [
        "\r",
        "[ 92 %] elapsed[sec]: 1.307 | ETA[sec]: 0.109 "
       ]
      },
      {
       "output_type": "stream",
       "stream": "stderr",
       "text": [
        "\r",
        "[ 92 %] elapsed[sec]: 1.307 | ETA[sec]: 0.108 "
       ]
      },
      {
       "output_type": "stream",
       "stream": "stderr",
       "text": [
        "\r",
        "[ 92 %] elapsed[sec]: 1.308 | ETA[sec]: 0.107 "
       ]
      },
      {
       "output_type": "stream",
       "stream": "stderr",
       "text": [
        "\r",
        "[ 92 %] elapsed[sec]: 1.321 | ETA[sec]: 0.107 "
       ]
      },
      {
       "output_type": "stream",
       "stream": "stderr",
       "text": [
        "\r",
        "[ 92 %] elapsed[sec]: 1.322 | ETA[sec]: 0.106 "
       ]
      },
      {
       "output_type": "stream",
       "stream": "stderr",
       "text": [
        "\r",
        "[ 92 %] elapsed[sec]: 1.323 | ETA[sec]: 0.105 "
       ]
      },
      {
       "output_type": "stream",
       "stream": "stderr",
       "text": [
        "\r",
        "[ 92 %] elapsed[sec]: 1.323 | ETA[sec]: 0.104 "
       ]
      },
      {
       "output_type": "stream",
       "stream": "stderr",
       "text": [
        "\r",
        "[ 92 %] elapsed[sec]: 1.324 | ETA[sec]: 0.103 "
       ]
      },
      {
       "output_type": "stream",
       "stream": "stderr",
       "text": [
        "\r",
        "[ 92 %] elapsed[sec]: 1.324 | ETA[sec]: 0.102 "
       ]
      },
      {
       "output_type": "stream",
       "stream": "stderr",
       "text": [
        "\r",
        "[ 92 %] elapsed[sec]: 1.325 | ETA[sec]: 0.101 "
       ]
      },
      {
       "output_type": "stream",
       "stream": "stderr",
       "text": [
        "\r",
        "[ 93 %] elapsed[sec]: 1.325 | ETA[sec]: 0.100 "
       ]
      },
      {
       "output_type": "stream",
       "stream": "stderr",
       "text": [
        "\r",
        "[ 93 %] elapsed[sec]: 1.326 | ETA[sec]: 0.099 "
       ]
      },
      {
       "output_type": "stream",
       "stream": "stderr",
       "text": [
        "\r",
        "[ 93 %] elapsed[sec]: 1.326 | ETA[sec]: 0.098 "
       ]
      },
      {
       "output_type": "stream",
       "stream": "stderr",
       "text": [
        "\r",
        "[ 93 %] elapsed[sec]: 1.326 | ETA[sec]: 0.097 "
       ]
      },
      {
       "output_type": "stream",
       "stream": "stderr",
       "text": [
        "\r",
        "[ 93 %] elapsed[sec]: 1.327 | ETA[sec]: 0.096 "
       ]
      },
      {
       "output_type": "stream",
       "stream": "stderr",
       "text": [
        "\r",
        "[ 93 %] elapsed[sec]: 1.327 | ETA[sec]: 0.095 "
       ]
      },
      {
       "output_type": "stream",
       "stream": "stderr",
       "text": [
        "\r",
        "[ 93 %] elapsed[sec]: 1.328 | ETA[sec]: 0.094 "
       ]
      },
      {
       "output_type": "stream",
       "stream": "stderr",
       "text": [
        "\r",
        "[ 93 %] elapsed[sec]: 1.328 | ETA[sec]: 0.093 "
       ]
      },
      {
       "output_type": "stream",
       "stream": "stderr",
       "text": [
        "\r",
        "[ 93 %] elapsed[sec]: 1.329 | ETA[sec]: 0.092 "
       ]
      },
      {
       "output_type": "stream",
       "stream": "stderr",
       "text": [
        "\r",
        "[ 93 %] elapsed[sec]: 1.329 | ETA[sec]: 0.091 "
       ]
      },
      {
       "output_type": "stream",
       "stream": "stderr",
       "text": [
        "\r",
        "[ 93 %] elapsed[sec]: 1.329 | ETA[sec]: 0.090 "
       ]
      },
      {
       "output_type": "stream",
       "stream": "stderr",
       "text": [
        "\r",
        "[ 93 %] elapsed[sec]: 1.330 | ETA[sec]: 0.089 "
       ]
      },
      {
       "output_type": "stream",
       "stream": "stderr",
       "text": [
        "\r",
        "[ 93 %] elapsed[sec]: 1.331 | ETA[sec]: 0.088 "
       ]
      },
      {
       "output_type": "stream",
       "stream": "stderr",
       "text": [
        "\r",
        "[ 93 %] elapsed[sec]: 1.331 | ETA[sec]: 0.087 "
       ]
      },
      {
       "output_type": "stream",
       "stream": "stderr",
       "text": [
        "\r",
        "[ 93 %] elapsed[sec]: 1.332 | ETA[sec]: 0.086 "
       ]
      },
      {
       "output_type": "stream",
       "stream": "stderr",
       "text": [
        "\r",
        "[ 94 %] elapsed[sec]: 1.332 | ETA[sec]: 0.085 "
       ]
      },
      {
       "output_type": "stream",
       "stream": "stderr",
       "text": [
        "\r",
        "[ 94 %] elapsed[sec]: 1.343 | ETA[sec]: 0.085 "
       ]
      },
      {
       "output_type": "stream",
       "stream": "stderr",
       "text": [
        "\r",
        "[ 94 %] elapsed[sec]: 1.344 | ETA[sec]: 0.084 "
       ]
      },
      {
       "output_type": "stream",
       "stream": "stderr",
       "text": [
        "\r",
        "[ 94 %] elapsed[sec]: 1.344 | ETA[sec]: 0.083 "
       ]
      },
      {
       "output_type": "stream",
       "stream": "stderr",
       "text": [
        "\r",
        "[ 94 %] elapsed[sec]: 1.345 | ETA[sec]: 0.082 "
       ]
      },
      {
       "output_type": "stream",
       "stream": "stderr",
       "text": [
        "\r",
        "[ 94 %] elapsed[sec]: 1.345 | ETA[sec]: 0.081 "
       ]
      },
      {
       "output_type": "stream",
       "stream": "stderr",
       "text": [
        "\r",
        "[ 94 %] elapsed[sec]: 1.346 | ETA[sec]: 0.080 "
       ]
      },
      {
       "output_type": "stream",
       "stream": "stderr",
       "text": [
        "\r",
        "[ 94 %] elapsed[sec]: 1.346 | ETA[sec]: 0.079 "
       ]
      },
      {
       "output_type": "stream",
       "stream": "stderr",
       "text": [
        "\r",
        "[ 94 %] elapsed[sec]: 1.346 | ETA[sec]: 0.078 "
       ]
      },
      {
       "output_type": "stream",
       "stream": "stderr",
       "text": [
        "\r",
        "[ 94 %] elapsed[sec]: 1.347 | ETA[sec]: 0.077 "
       ]
      },
      {
       "output_type": "stream",
       "stream": "stderr",
       "text": [
        "\r",
        "[ 94 %] elapsed[sec]: 1.347 | ETA[sec]: 0.076 "
       ]
      },
      {
       "output_type": "stream",
       "stream": "stderr",
       "text": [
        "\r",
        "[ 94 %] elapsed[sec]: 1.348 | ETA[sec]: 0.075 "
       ]
      },
      {
       "output_type": "stream",
       "stream": "stderr",
       "text": [
        "\r",
        "[ 94 %] elapsed[sec]: 1.348 | ETA[sec]: 0.074 "
       ]
      },
      {
       "output_type": "stream",
       "stream": "stderr",
       "text": [
        "\r",
        "[ 94 %] elapsed[sec]: 1.348 | ETA[sec]: 0.073 "
       ]
      },
      {
       "output_type": "stream",
       "stream": "stderr",
       "text": [
        "\r",
        "[ 94 %] elapsed[sec]: 1.349 | ETA[sec]: 0.072 "
       ]
      },
      {
       "output_type": "stream",
       "stream": "stderr",
       "text": [
        "\r",
        "[ 95 %] elapsed[sec]: 1.349 | ETA[sec]: 0.071 "
       ]
      },
      {
       "output_type": "stream",
       "stream": "stderr",
       "text": [
        "\r",
        "[ 95 %] elapsed[sec]: 1.350 | ETA[sec]: 0.070 "
       ]
      },
      {
       "output_type": "stream",
       "stream": "stderr",
       "text": [
        "\r",
        "[ 95 %] elapsed[sec]: 1.350 | ETA[sec]: 0.069 "
       ]
      },
      {
       "output_type": "stream",
       "stream": "stderr",
       "text": [
        "\r",
        "[ 95 %] elapsed[sec]: 1.350 | ETA[sec]: 0.068 "
       ]
      },
      {
       "output_type": "stream",
       "stream": "stderr",
       "text": [
        "\r",
        "[ 95 %] elapsed[sec]: 1.351 | ETA[sec]: 0.067 "
       ]
      },
      {
       "output_type": "stream",
       "stream": "stderr",
       "text": [
        "\r",
        "[ 95 %] elapsed[sec]: 1.351 | ETA[sec]: 0.066 "
       ]
      },
      {
       "output_type": "stream",
       "stream": "stderr",
       "text": [
        "\r",
        "[ 95 %] elapsed[sec]: 1.351 | ETA[sec]: 0.065 "
       ]
      },
      {
       "output_type": "stream",
       "stream": "stderr",
       "text": [
        "\r",
        "[ 95 %] elapsed[sec]: 1.352 | ETA[sec]: 0.064 "
       ]
      },
      {
       "output_type": "stream",
       "stream": "stderr",
       "text": [
        "\r",
        "[ 95 %] elapsed[sec]: 1.352 | ETA[sec]: 0.063 "
       ]
      },
      {
       "output_type": "stream",
       "stream": "stderr",
       "text": [
        "\r",
        "[ 95 %] elapsed[sec]: 1.353 | ETA[sec]: 0.062 "
       ]
      },
      {
       "output_type": "stream",
       "stream": "stderr",
       "text": [
        "\r",
        "[ 95 %] elapsed[sec]: 1.353 | ETA[sec]: 0.061 "
       ]
      },
      {
       "output_type": "stream",
       "stream": "stderr",
       "text": [
        "\r",
        "[ 95 %] elapsed[sec]: 1.359 | ETA[sec]: 0.061 "
       ]
      },
      {
       "output_type": "stream",
       "stream": "stderr",
       "text": [
        "\r",
        "[ 95 %] elapsed[sec]: 1.360 | ETA[sec]: 0.060 "
       ]
      },
      {
       "output_type": "stream",
       "stream": "stderr",
       "text": [
        "\r",
        "[ 95 %] elapsed[sec]: 1.360 | ETA[sec]: 0.059 "
       ]
      },
      {
       "output_type": "stream",
       "stream": "stderr",
       "text": [
        "\r",
        "[ 95 %] elapsed[sec]: 1.361 | ETA[sec]: 0.058 "
       ]
      },
      {
       "output_type": "stream",
       "stream": "stderr",
       "text": [
        "\r",
        "[ 96 %] elapsed[sec]: 1.361 | ETA[sec]: 0.057 "
       ]
      },
      {
       "output_type": "stream",
       "stream": "stderr",
       "text": [
        "\r",
        "[ 96 %] elapsed[sec]: 1.361 | ETA[sec]: 0.056 "
       ]
      },
      {
       "output_type": "stream",
       "stream": "stderr",
       "text": [
        "\r",
        "[ 96 %] elapsed[sec]: 1.362 | ETA[sec]: 0.055 "
       ]
      },
      {
       "output_type": "stream",
       "stream": "stderr",
       "text": [
        "\r",
        "[ 96 %] elapsed[sec]: 1.362 | ETA[sec]: 0.054 "
       ]
      },
      {
       "output_type": "stream",
       "stream": "stderr",
       "text": [
        "\r",
        "[ 96 %] elapsed[sec]: 1.363 | ETA[sec]: 0.053 "
       ]
      },
      {
       "output_type": "stream",
       "stream": "stderr",
       "text": [
        "\r",
        "[ 96 %] elapsed[sec]: 1.363 | ETA[sec]: 0.052 "
       ]
      },
      {
       "output_type": "stream",
       "stream": "stderr",
       "text": [
        "\r",
        "[ 96 %] elapsed[sec]: 1.364 | ETA[sec]: 0.051 "
       ]
      },
      {
       "output_type": "stream",
       "stream": "stderr",
       "text": [
        "\r",
        "[ 96 %] elapsed[sec]: 1.364 | ETA[sec]: 0.050 "
       ]
      },
      {
       "output_type": "stream",
       "stream": "stderr",
       "text": [
        "\r",
        "[ 96 %] elapsed[sec]: 1.365 | ETA[sec]: 0.049 "
       ]
      },
      {
       "output_type": "stream",
       "stream": "stderr",
       "text": [
        "\r",
        "[ 96 %] elapsed[sec]: 1.365 | ETA[sec]: 0.048 "
       ]
      },
      {
       "output_type": "stream",
       "stream": "stderr",
       "text": [
        "\r",
        "[ 96 %] elapsed[sec]: 1.365 | ETA[sec]: 0.047 "
       ]
      },
      {
       "output_type": "stream",
       "stream": "stderr",
       "text": [
        "\r",
        "[ 96 %] elapsed[sec]: 1.366 | ETA[sec]: 0.046 "
       ]
      },
      {
       "output_type": "stream",
       "stream": "stderr",
       "text": [
        "\r",
        "[ 96 %] elapsed[sec]: 1.366 | ETA[sec]: 0.045 "
       ]
      },
      {
       "output_type": "stream",
       "stream": "stderr",
       "text": [
        "\r",
        "[ 96 %] elapsed[sec]: 1.367 | ETA[sec]: 0.044 "
       ]
      },
      {
       "output_type": "stream",
       "stream": "stderr",
       "text": [
        "\r",
        "[ 96 %] elapsed[sec]: 1.367 | ETA[sec]: 0.043 "
       ]
      },
      {
       "output_type": "stream",
       "stream": "stderr",
       "text": [
        "\r",
        "[ 97 %] elapsed[sec]: 1.368 | ETA[sec]: 0.042 "
       ]
      },
      {
       "output_type": "stream",
       "stream": "stderr",
       "text": [
        "\r",
        "[ 97 %] elapsed[sec]: 1.368 | ETA[sec]: 0.041 "
       ]
      },
      {
       "output_type": "stream",
       "stream": "stderr",
       "text": [
        "\r",
        "[ 97 %] elapsed[sec]: 1.368 | ETA[sec]: 0.040 "
       ]
      },
      {
       "output_type": "stream",
       "stream": "stderr",
       "text": [
        "\r",
        "[ 97 %] elapsed[sec]: 1.369 | ETA[sec]: 0.039 "
       ]
      },
      {
       "output_type": "stream",
       "stream": "stderr",
       "text": [
        "\r",
        "[ 97 %] elapsed[sec]: 1.369 | ETA[sec]: 0.038 "
       ]
      },
      {
       "output_type": "stream",
       "stream": "stderr",
       "text": [
        "\r",
        "[ 97 %] elapsed[sec]: 1.377 | ETA[sec]: 0.038 "
       ]
      },
      {
       "output_type": "stream",
       "stream": "stderr",
       "text": [
        "\r",
        "[ 97 %] elapsed[sec]: 1.378 | ETA[sec]: 0.037 "
       ]
      },
      {
       "output_type": "stream",
       "stream": "stderr",
       "text": [
        "\r",
        "[ 97 %] elapsed[sec]: 1.378 | ETA[sec]: 0.036 "
       ]
      },
      {
       "output_type": "stream",
       "stream": "stderr",
       "text": [
        "\r",
        "[ 97 %] elapsed[sec]: 1.379 | ETA[sec]: 0.035 "
       ]
      },
      {
       "output_type": "stream",
       "stream": "stderr",
       "text": [
        "\r",
        "[ 97 %] elapsed[sec]: 1.379 | ETA[sec]: 0.034 "
       ]
      },
      {
       "output_type": "stream",
       "stream": "stderr",
       "text": [
        "\r",
        "[ 97 %] elapsed[sec]: 1.380 | ETA[sec]: 0.033 "
       ]
      },
      {
       "output_type": "stream",
       "stream": "stderr",
       "text": [
        "\r",
        "[ 97 %] elapsed[sec]: 1.380 | ETA[sec]: 0.032 "
       ]
      },
      {
       "output_type": "stream",
       "stream": "stderr",
       "text": [
        "\r",
        "[ 97 %] elapsed[sec]: 1.380 | ETA[sec]: 0.031 "
       ]
      },
      {
       "output_type": "stream",
       "stream": "stderr",
       "text": [
        "\r",
        "[ 97 %] elapsed[sec]: 1.381 | ETA[sec]: 0.030 "
       ]
      },
      {
       "output_type": "stream",
       "stream": "stderr",
       "text": [
        "\r",
        "[ 97 %] elapsed[sec]: 1.381 | ETA[sec]: 0.029 "
       ]
      },
      {
       "output_type": "stream",
       "stream": "stderr",
       "text": [
        "\r",
        "[ 98 %] elapsed[sec]: 1.382 | ETA[sec]: 0.028 "
       ]
      },
      {
       "output_type": "stream",
       "stream": "stderr",
       "text": [
        "\r",
        "[ 98 %] elapsed[sec]: 1.382 | ETA[sec]: 0.027 "
       ]
      },
      {
       "output_type": "stream",
       "stream": "stderr",
       "text": [
        "\r",
        "[ 98 %] elapsed[sec]: 1.382 | ETA[sec]: 0.026 "
       ]
      },
      {
       "output_type": "stream",
       "stream": "stderr",
       "text": [
        "\r",
        "[ 98 %] elapsed[sec]: 1.383 | ETA[sec]: 0.025 "
       ]
      },
      {
       "output_type": "stream",
       "stream": "stderr",
       "text": [
        "\r",
        "[ 98 %] elapsed[sec]: 1.383 | ETA[sec]: 0.024 "
       ]
      },
      {
       "output_type": "stream",
       "stream": "stderr",
       "text": [
        "\r",
        "[ 98 %] elapsed[sec]: 1.384 | ETA[sec]: 0.023 "
       ]
      },
      {
       "output_type": "stream",
       "stream": "stderr",
       "text": [
        "\r",
        "[ 98 %] elapsed[sec]: 1.384 | ETA[sec]: 0.023 "
       ]
      },
      {
       "output_type": "stream",
       "stream": "stderr",
       "text": [
        "\r",
        "[ 98 %] elapsed[sec]: 1.384 | ETA[sec]: 0.022 "
       ]
      },
      {
       "output_type": "stream",
       "stream": "stderr",
       "text": [
        "\r",
        "[ 98 %] elapsed[sec]: 1.385 | ETA[sec]: 0.021 "
       ]
      },
      {
       "output_type": "stream",
       "stream": "stderr",
       "text": [
        "\r",
        "[ 98 %] elapsed[sec]: 1.385 | ETA[sec]: 0.020 "
       ]
      },
      {
       "output_type": "stream",
       "stream": "stderr",
       "text": [
        "\r",
        "[ 98 %] elapsed[sec]: 1.385 | ETA[sec]: 0.019 "
       ]
      },
      {
       "output_type": "stream",
       "stream": "stderr",
       "text": [
        "\r",
        "[ 98 %] elapsed[sec]: 1.386 | ETA[sec]: 0.018 "
       ]
      },
      {
       "output_type": "stream",
       "stream": "stderr",
       "text": [
        "\r",
        "[ 98 %] elapsed[sec]: 1.386 | ETA[sec]: 0.017 "
       ]
      },
      {
       "output_type": "stream",
       "stream": "stderr",
       "text": [
        "\r",
        "[ 98 %] elapsed[sec]: 1.387 | ETA[sec]: 0.016 "
       ]
      },
      {
       "output_type": "stream",
       "stream": "stderr",
       "text": [
        "\r",
        "[ 98 %] elapsed[sec]: 1.387 | ETA[sec]: 0.015 "
       ]
      },
      {
       "output_type": "stream",
       "stream": "stderr",
       "text": [
        "\r",
        "[ 99 %] elapsed[sec]: 1.397 | ETA[sec]: 0.014 "
       ]
      },
      {
       "output_type": "stream",
       "stream": "stderr",
       "text": [
        "\r",
        "[ 99 %] elapsed[sec]: 1.399 | ETA[sec]: 0.013 "
       ]
      },
      {
       "output_type": "stream",
       "stream": "stderr",
       "text": [
        "\r",
        "[ 99 %] elapsed[sec]: 1.399 | ETA[sec]: 0.012 "
       ]
      },
      {
       "output_type": "stream",
       "stream": "stderr",
       "text": [
        "\r",
        "[ 99 %] elapsed[sec]: 1.400 | ETA[sec]: 0.011 "
       ]
      },
      {
       "output_type": "stream",
       "stream": "stderr",
       "text": [
        "\r",
        "[ 99 %] elapsed[sec]: 1.400 | ETA[sec]: 0.010 "
       ]
      },
      {
       "output_type": "stream",
       "stream": "stderr",
       "text": [
        "\r",
        "[ 99 %] elapsed[sec]: 1.401 | ETA[sec]: 0.009 "
       ]
      },
      {
       "output_type": "stream",
       "stream": "stderr",
       "text": [
        "\r",
        "[ 99 %] elapsed[sec]: 1.402 | ETA[sec]: 0.008 "
       ]
      },
      {
       "output_type": "stream",
       "stream": "stderr",
       "text": [
        "\r",
        "[ 99 %] elapsed[sec]: 1.402 | ETA[sec]: 0.008 "
       ]
      },
      {
       "output_type": "stream",
       "stream": "stderr",
       "text": [
        "\r",
        "[ 99 %] elapsed[sec]: 1.402 | ETA[sec]: 0.007 "
       ]
      },
      {
       "output_type": "stream",
       "stream": "stderr",
       "text": [
        "\r",
        "[ 99 %] elapsed[sec]: 1.403 | ETA[sec]: 0.006 "
       ]
      },
      {
       "output_type": "stream",
       "stream": "stderr",
       "text": [
        "\r",
        "[ 99 %] elapsed[sec]: 1.403 | ETA[sec]: 0.005 "
       ]
      },
      {
       "output_type": "stream",
       "stream": "stderr",
       "text": [
        "\r",
        "[ 99 %] elapsed[sec]: 1.403 | ETA[sec]: 0.004 "
       ]
      },
      {
       "output_type": "stream",
       "stream": "stderr",
       "text": [
        "\r",
        "[ 99 %] elapsed[sec]: 1.404 | ETA[sec]: 0.003 "
       ]
      },
      {
       "output_type": "stream",
       "stream": "stderr",
       "text": [
        "\r",
        "[ 99 %] elapsed[sec]: 1.404 | ETA[sec]: 0.002 "
       ]
      },
      {
       "output_type": "stream",
       "stream": "stderr",
       "text": [
        "\r",
        "[ 99 %] elapsed[sec]: 1.405 | ETA[sec]: 0.001 "
       ]
      },
      {
       "output_type": "stream",
       "stream": "stderr",
       "text": [
        "\r",
        "[100 %] elapsed[sec]: 1.405"
       ]
      },
      {
       "output_type": "stream",
       "stream": "stderr",
       "text": [
        "\n",
        "Total time elapsed: 1.405 sec\n"
       ]
      },
      {
       "output_type": "stream",
       "stream": "stdout",
       "text": [
        "Title: \n",
        "                      Started: 10/11/2014 01:16:28\n",
        "                      Finished: 10/11/2014 01:16:30\n",
        "                      Total time elapsed: 1.405 sec\n",
        "                      CPU %: 48.700000\n",
        "                      Memory %: 0.331116\n"
       ]
      }
     ],
     "prompt_number": 7
    },
    {
     "cell_type": "markdown",
     "metadata": {},
     "source": [
      "<a name='title'></a>\n",
      "<br>\n",
      "<br>"
     ]
    },
    {
     "cell_type": "markdown",
     "metadata": {},
     "source": [
      "## Progress Bar/Percentage Indicator - Setting a title"
     ]
    },
    {
     "cell_type": "markdown",
     "metadata": {},
     "source": [
      "[[back to section overview](#sections)]"
     ]
    },
    {
     "cell_type": "markdown",
     "metadata": {},
     "source": [
      "`title` (`str`): default ''. A title for the progress bar"
     ]
    },
    {
     "cell_type": "code",
     "collapsed": false,
     "input": [
      "n = 150000\n",
      "\n",
      "bar = pyprind.ProgBar(n, title='My 1st Progress Bar')\n",
      "for i in range(n):\n",
      "    # do some computation\n",
      "    bar.update()"
     ],
     "language": "python",
     "metadata": {},
     "outputs": [
      {
       "output_type": "stream",
       "stream": "stderr",
       "text": [
        "My 1st Progress Bar\n"
       ]
      },
      {
       "output_type": "stream",
       "stream": "stderr",
       "text": [
        "0%                          100%\n"
       ]
      },
      {
       "output_type": "stream",
       "stream": "stderr",
       "text": [
        "[                              ]"
       ]
      },
      {
       "output_type": "stream",
       "stream": "stderr",
       "text": [
        "\r",
        "[#                             ]"
       ]
      },
      {
       "output_type": "stream",
       "stream": "stderr",
       "text": [
        " | ETA[sec]: 1.811 "
       ]
      },
      {
       "output_type": "stream",
       "stream": "stderr",
       "text": [
        "\r",
        "[##                            ]"
       ]
      },
      {
       "output_type": "stream",
       "stream": "stderr",
       "text": [
        " | ETA[sec]: 1.910 "
       ]
      },
      {
       "output_type": "stream",
       "stream": "stderr",
       "text": [
        "\r",
        "[###                           ]"
       ]
      },
      {
       "output_type": "stream",
       "stream": "stderr",
       "text": [
        " | ETA[sec]: 1.687 "
       ]
      },
      {
       "output_type": "stream",
       "stream": "stderr",
       "text": [
        "\r",
        "[####                          ]"
       ]
      },
      {
       "output_type": "stream",
       "stream": "stderr",
       "text": [
        " | ETA[sec]: 1.465 "
       ]
      },
      {
       "output_type": "stream",
       "stream": "stderr",
       "text": [
        "\r",
        "[#####                         ]"
       ]
      },
      {
       "output_type": "stream",
       "stream": "stderr",
       "text": [
        " | ETA[sec]: 1.316 "
       ]
      },
      {
       "output_type": "stream",
       "stream": "stderr",
       "text": [
        "\r",
        "[######                        ]"
       ]
      },
      {
       "output_type": "stream",
       "stream": "stderr",
       "text": [
        " | ETA[sec]: 1.195 "
       ]
      },
      {
       "output_type": "stream",
       "stream": "stderr",
       "text": [
        "\r",
        "[#######                       ]"
       ]
      },
      {
       "output_type": "stream",
       "stream": "stderr",
       "text": [
        " | ETA[sec]: 1.108 "
       ]
      },
      {
       "output_type": "stream",
       "stream": "stderr",
       "text": [
        "\r",
        "[########                      ]"
       ]
      },
      {
       "output_type": "stream",
       "stream": "stderr",
       "text": [
        " | ETA[sec]: 1.032 "
       ]
      },
      {
       "output_type": "stream",
       "stream": "stderr",
       "text": [
        "\r",
        "[#########                     ]"
       ]
      },
      {
       "output_type": "stream",
       "stream": "stderr",
       "text": [
        " | ETA[sec]: 0.971 "
       ]
      },
      {
       "output_type": "stream",
       "stream": "stderr",
       "text": [
        "\r",
        "[##########                    ]"
       ]
      },
      {
       "output_type": "stream",
       "stream": "stderr",
       "text": [
        " | ETA[sec]: 0.909 "
       ]
      },
      {
       "output_type": "stream",
       "stream": "stderr",
       "text": [
        "\r",
        "[###########                   ]"
       ]
      },
      {
       "output_type": "stream",
       "stream": "stderr",
       "text": [
        " | ETA[sec]: 0.849 "
       ]
      },
      {
       "output_type": "stream",
       "stream": "stderr",
       "text": [
        "\r",
        "[############                  ]"
       ]
      },
      {
       "output_type": "stream",
       "stream": "stderr",
       "text": [
        " | ETA[sec]: 0.790 "
       ]
      },
      {
       "output_type": "stream",
       "stream": "stderr",
       "text": [
        "\r",
        "[#############                 ]"
       ]
      },
      {
       "output_type": "stream",
       "stream": "stderr",
       "text": [
        " | ETA[sec]: 0.740 "
       ]
      },
      {
       "output_type": "stream",
       "stream": "stderr",
       "text": [
        "\r",
        "[##############                ]"
       ]
      },
      {
       "output_type": "stream",
       "stream": "stderr",
       "text": [
        " | ETA[sec]: 0.706 "
       ]
      },
      {
       "output_type": "stream",
       "stream": "stderr",
       "text": [
        "\r",
        "[###############               ]"
       ]
      },
      {
       "output_type": "stream",
       "stream": "stderr",
       "text": [
        " | ETA[sec]: 0.715 "
       ]
      },
      {
       "output_type": "stream",
       "stream": "stderr",
       "text": [
        "\r",
        "[################              ]"
       ]
      },
      {
       "output_type": "stream",
       "stream": "stderr",
       "text": [
        " | ETA[sec]: 0.711 "
       ]
      },
      {
       "output_type": "stream",
       "stream": "stderr",
       "text": [
        "\r",
        "[#################             ]"
       ]
      },
      {
       "output_type": "stream",
       "stream": "stderr",
       "text": [
        " | ETA[sec]: 0.678 "
       ]
      },
      {
       "output_type": "stream",
       "stream": "stderr",
       "text": [
        "\r",
        "[##################            ]"
       ]
      },
      {
       "output_type": "stream",
       "stream": "stderr",
       "text": [
        " | ETA[sec]: 0.668 "
       ]
      },
      {
       "output_type": "stream",
       "stream": "stderr",
       "text": [
        "\r",
        "[###################           ]"
       ]
      },
      {
       "output_type": "stream",
       "stream": "stderr",
       "text": [
        " | ETA[sec]: 0.662 "
       ]
      },
      {
       "output_type": "stream",
       "stream": "stderr",
       "text": [
        "\r",
        "[####################          ]"
       ]
      },
      {
       "output_type": "stream",
       "stream": "stderr",
       "text": [
        " | ETA[sec]: 0.622 "
       ]
      },
      {
       "output_type": "stream",
       "stream": "stderr",
       "text": [
        "\r",
        "[#####################         ]"
       ]
      },
      {
       "output_type": "stream",
       "stream": "stderr",
       "text": [
        " | ETA[sec]: 0.566 "
       ]
      },
      {
       "output_type": "stream",
       "stream": "stderr",
       "text": [
        "\r",
        "[######################        ]"
       ]
      },
      {
       "output_type": "stream",
       "stream": "stderr",
       "text": [
        " | ETA[sec]: 0.512 "
       ]
      },
      {
       "output_type": "stream",
       "stream": "stderr",
       "text": [
        "\r",
        "[#######################       ]"
       ]
      },
      {
       "output_type": "stream",
       "stream": "stderr",
       "text": [
        " | ETA[sec]: 0.441 "
       ]
      },
      {
       "output_type": "stream",
       "stream": "stderr",
       "text": [
        "\r",
        "[########################      ]"
       ]
      },
      {
       "output_type": "stream",
       "stream": "stderr",
       "text": [
        " | ETA[sec]: 0.372 "
       ]
      },
      {
       "output_type": "stream",
       "stream": "stderr",
       "text": [
        "\r",
        "[#########################     ]"
       ]
      },
      {
       "output_type": "stream",
       "stream": "stderr",
       "text": [
        " | ETA[sec]: 0.305 "
       ]
      },
      {
       "output_type": "stream",
       "stream": "stderr",
       "text": [
        "\r",
        "[##########################    ]"
       ]
      },
      {
       "output_type": "stream",
       "stream": "stderr",
       "text": [
        " | ETA[sec]: 0.240 "
       ]
      },
      {
       "output_type": "stream",
       "stream": "stderr",
       "text": [
        "\r",
        "[###########################   ]"
       ]
      },
      {
       "output_type": "stream",
       "stream": "stderr",
       "text": [
        " | ETA[sec]: 0.178 "
       ]
      },
      {
       "output_type": "stream",
       "stream": "stderr",
       "text": [
        "\r",
        "[############################  ]"
       ]
      },
      {
       "output_type": "stream",
       "stream": "stderr",
       "text": [
        " | ETA[sec]: 0.117 "
       ]
      },
      {
       "output_type": "stream",
       "stream": "stderr",
       "text": [
        "\r",
        "[############################# ]"
       ]
      },
      {
       "output_type": "stream",
       "stream": "stderr",
       "text": [
        " | ETA[sec]: 0.058 "
       ]
      },
      {
       "output_type": "stream",
       "stream": "stderr",
       "text": [
        "\r",
        "[##############################]"
       ]
      },
      {
       "output_type": "stream",
       "stream": "stderr",
       "text": [
        " | ETA[sec]: 0.000 "
       ]
      },
      {
       "output_type": "stream",
       "stream": "stderr",
       "text": [
        "\n",
        "Total time elapsed: 1.720 sec\n"
       ]
      }
     ],
     "prompt_number": 8
    },
    {
     "cell_type": "code",
     "collapsed": false,
     "input": [
      "n = 1500\n",
      "\n",
      "perc = pyprind.ProgPercent(n, title='My 1st Percent Tracker')\n",
      "for i in range(n):\n",
      "    # do some computation\n",
      "    perc.update()"
     ],
     "language": "python",
     "metadata": {},
     "outputs": [
      {
       "output_type": "stream",
       "stream": "stderr",
       "text": [
        "My 1st Percent Tracker\n"
       ]
      },
      {
       "output_type": "stream",
       "stream": "stderr",
       "text": [
        "\r",
        "[  0 %] elapsed[sec]: 0.003"
       ]
      },
      {
       "output_type": "stream",
       "stream": "stderr",
       "text": [
        "\r",
        "[  0 %] elapsed[sec]: 0.003 | ETA[sec]: 5.263 "
       ]
      },
      {
       "output_type": "stream",
       "stream": "stderr",
       "text": [
        "\r",
        "[  0 %] elapsed[sec]: 0.004 | ETA[sec]: 2.999 "
       ]
      },
      {
       "output_type": "stream",
       "stream": "stderr",
       "text": [
        "\r",
        "[  0 %] elapsed[sec]: 0.004 | ETA[sec]: 2.247 "
       ]
      },
      {
       "output_type": "stream",
       "stream": "stderr",
       "text": [
        "\r",
        "[  0 %] elapsed[sec]: 0.005 | ETA[sec]: 1.868 "
       ]
      },
      {
       "output_type": "stream",
       "stream": "stderr",
       "text": [
        "\r",
        "[  0 %] elapsed[sec]: 0.005 | ETA[sec]: 1.631 "
       ]
      },
      {
       "output_type": "stream",
       "stream": "stderr",
       "text": [
        "\r",
        "[  0 %] elapsed[sec]: 0.007 | ETA[sec]: 1.687 "
       ]
      },
      {
       "output_type": "stream",
       "stream": "stderr",
       "text": [
        "\r",
        "[  0 %] elapsed[sec]: 0.007 | ETA[sec]: 1.556 "
       ]
      },
      {
       "output_type": "stream",
       "stream": "stderr",
       "text": [
        "\r",
        "[  0 %] elapsed[sec]: 0.009 | ETA[sec]: 1.719 "
       ]
      },
      {
       "output_type": "stream",
       "stream": "stderr",
       "text": [
        "\r",
        "[  0 %] elapsed[sec]: 0.012 | ETA[sec]: 2.045 "
       ]
      },
      {
       "output_type": "stream",
       "stream": "stderr",
       "text": [
        "\r",
        "[  0 %] elapsed[sec]: 0.013 | ETA[sec]: 1.932 "
       ]
      },
      {
       "output_type": "stream",
       "stream": "stderr",
       "text": [
        "\r",
        "[  0 %] elapsed[sec]: 0.013 | ETA[sec]: 1.817 "
       ]
      },
      {
       "output_type": "stream",
       "stream": "stderr",
       "text": [
        "\r",
        "[  0 %] elapsed[sec]: 0.014 | ETA[sec]: 1.727 "
       ]
      },
      {
       "output_type": "stream",
       "stream": "stderr",
       "text": [
        "\r",
        "[  0 %] elapsed[sec]: 0.014 | ETA[sec]: 1.649 "
       ]
      },
      {
       "output_type": "stream",
       "stream": "stderr",
       "text": [
        "\r",
        "[  0 %] elapsed[sec]: 0.015 | ETA[sec]: 1.581 "
       ]
      },
      {
       "output_type": "stream",
       "stream": "stderr",
       "text": [
        "\r",
        "[  1 %] elapsed[sec]: 0.015 | ETA[sec]: 1.527 "
       ]
      },
      {
       "output_type": "stream",
       "stream": "stderr",
       "text": [
        "\r",
        "[  1 %] elapsed[sec]: 0.016 | ETA[sec]: 1.476 "
       ]
      },
      {
       "output_type": "stream",
       "stream": "stderr",
       "text": [
        "\r",
        "[  1 %] elapsed[sec]: 0.016 | ETA[sec]: 1.429 "
       ]
      },
      {
       "output_type": "stream",
       "stream": "stderr",
       "text": [
        "\r",
        "[  1 %] elapsed[sec]: 0.017 | ETA[sec]: 1.386 "
       ]
      },
      {
       "output_type": "stream",
       "stream": "stderr",
       "text": [
        "\r",
        "[  1 %] elapsed[sec]: 0.017 | ETA[sec]: 1.348 "
       ]
      },
      {
       "output_type": "stream",
       "stream": "stderr",
       "text": [
        "\r",
        "[  1 %] elapsed[sec]: 0.018 | ETA[sec]: 1.311 "
       ]
      },
      {
       "output_type": "stream",
       "stream": "stderr",
       "text": [
        "\r",
        "[  1 %] elapsed[sec]: 0.018 | ETA[sec]: 1.282 "
       ]
      },
      {
       "output_type": "stream",
       "stream": "stderr",
       "text": [
        "\r",
        "[  1 %] elapsed[sec]: 0.019 | ETA[sec]: 1.255 "
       ]
      },
      {
       "output_type": "stream",
       "stream": "stderr",
       "text": [
        "\r",
        "[  1 %] elapsed[sec]: 0.019 | ETA[sec]: 1.229 "
       ]
      },
      {
       "output_type": "stream",
       "stream": "stderr",
       "text": [
        "\r",
        "[  1 %] elapsed[sec]: 0.020 | ETA[sec]: 1.205 "
       ]
      },
      {
       "output_type": "stream",
       "stream": "stderr",
       "text": [
        "\r",
        "[  1 %] elapsed[sec]: 0.020 | ETA[sec]: 1.181 "
       ]
      },
      {
       "output_type": "stream",
       "stream": "stderr",
       "text": [
        "\r",
        "[  1 %] elapsed[sec]: 0.020 | ETA[sec]: 1.162 "
       ]
      },
      {
       "output_type": "stream",
       "stream": "stderr",
       "text": [
        "\r",
        "[  1 %] elapsed[sec]: 0.021 | ETA[sec]: 1.144 "
       ]
      },
      {
       "output_type": "stream",
       "stream": "stderr",
       "text": [
        "\r",
        "[  1 %] elapsed[sec]: 0.021 | ETA[sec]: 1.125 "
       ]
      },
      {
       "output_type": "stream",
       "stream": "stderr",
       "text": [
        "\r",
        "[  1 %] elapsed[sec]: 0.022 | ETA[sec]: 1.110 "
       ]
      },
      {
       "output_type": "stream",
       "stream": "stderr",
       "text": [
        "\r",
        "[  2 %] elapsed[sec]: 0.022 | ETA[sec]: 1.095 "
       ]
      },
      {
       "output_type": "stream",
       "stream": "stderr",
       "text": [
        "\r",
        "[  2 %] elapsed[sec]: 0.023 | ETA[sec]: 1.079 "
       ]
      },
      {
       "output_type": "stream",
       "stream": "stderr",
       "text": [
        "\r",
        "[  2 %] elapsed[sec]: 0.024 | ETA[sec]: 1.123 "
       ]
      },
      {
       "output_type": "stream",
       "stream": "stderr",
       "text": [
        "\r",
        "[  2 %] elapsed[sec]: 0.026 | ETA[sec]: 1.157 "
       ]
      },
      {
       "output_type": "stream",
       "stream": "stderr",
       "text": [
        "\r",
        "[  2 %] elapsed[sec]: 0.027 | ETA[sec]: 1.146 "
       ]
      },
      {
       "output_type": "stream",
       "stream": "stderr",
       "text": [
        "\r",
        "[  2 %] elapsed[sec]: 0.027 | ETA[sec]: 1.133 "
       ]
      },
      {
       "output_type": "stream",
       "stream": "stderr",
       "text": [
        "\r",
        "[  2 %] elapsed[sec]: 0.027 | ETA[sec]: 1.119 "
       ]
      },
      {
       "output_type": "stream",
       "stream": "stderr",
       "text": [
        "\r",
        "[  2 %] elapsed[sec]: 0.028 | ETA[sec]: 1.107 "
       ]
      },
      {
       "output_type": "stream",
       "stream": "stderr",
       "text": [
        "\r",
        "[  2 %] elapsed[sec]: 0.028 | ETA[sec]: 1.096 "
       ]
      },
      {
       "output_type": "stream",
       "stream": "stderr",
       "text": [
        "\r",
        "[  2 %] elapsed[sec]: 0.029 | ETA[sec]: 1.085 "
       ]
      },
      {
       "output_type": "stream",
       "stream": "stderr",
       "text": [
        "\r",
        "[  2 %] elapsed[sec]: 0.029 | ETA[sec]: 1.076 "
       ]
      },
      {
       "output_type": "stream",
       "stream": "stderr",
       "text": [
        "\r",
        "[  2 %] elapsed[sec]: 0.030 | ETA[sec]: 1.065 "
       ]
      },
      {
       "output_type": "stream",
       "stream": "stderr",
       "text": [
        "\r",
        "[  2 %] elapsed[sec]: 0.030 | ETA[sec]: 1.055 "
       ]
      },
      {
       "output_type": "stream",
       "stream": "stderr",
       "text": [
        "\r",
        "[  2 %] elapsed[sec]: 0.031 | ETA[sec]: 1.046 "
       ]
      },
      {
       "output_type": "stream",
       "stream": "stderr",
       "text": [
        "\r",
        "[  2 %] elapsed[sec]: 0.031 | ETA[sec]: 1.037 "
       ]
      },
      {
       "output_type": "stream",
       "stream": "stderr",
       "text": [
        "\r",
        "[  3 %] elapsed[sec]: 0.032 | ETA[sec]: 1.029 "
       ]
      },
      {
       "output_type": "stream",
       "stream": "stderr",
       "text": [
        "\r",
        "[  3 %] elapsed[sec]: 0.032 | ETA[sec]: 1.027 "
       ]
      },
      {
       "output_type": "stream",
       "stream": "stderr",
       "text": [
        "\r",
        "[  3 %] elapsed[sec]: 0.033 | ETA[sec]: 1.018 "
       ]
      },
      {
       "output_type": "stream",
       "stream": "stderr",
       "text": [
        "\r",
        "[  3 %] elapsed[sec]: 0.033 | ETA[sec]: 1.011 "
       ]
      },
      {
       "output_type": "stream",
       "stream": "stderr",
       "text": [
        "\r",
        "[  3 %] elapsed[sec]: 0.034 | ETA[sec]: 1.004 "
       ]
      },
      {
       "output_type": "stream",
       "stream": "stderr",
       "text": [
        "\r",
        "[  3 %] elapsed[sec]: 0.034 | ETA[sec]: 0.997 "
       ]
      },
      {
       "output_type": "stream",
       "stream": "stderr",
       "text": [
        "\r",
        "[  3 %] elapsed[sec]: 0.035 | ETA[sec]: 0.990 "
       ]
      },
      {
       "output_type": "stream",
       "stream": "stderr",
       "text": [
        "\r",
        "[  3 %] elapsed[sec]: 0.035 | ETA[sec]: 0.984 "
       ]
      },
      {
       "output_type": "stream",
       "stream": "stderr",
       "text": [
        "\r",
        "[  3 %] elapsed[sec]: 0.036 | ETA[sec]: 0.977 "
       ]
      },
      {
       "output_type": "stream",
       "stream": "stderr",
       "text": [
        "\r",
        "[  3 %] elapsed[sec]: 0.036 | ETA[sec]: 0.976 "
       ]
      },
      {
       "output_type": "stream",
       "stream": "stderr",
       "text": [
        "\r",
        "[  3 %] elapsed[sec]: 0.038 | ETA[sec]: 0.991 "
       ]
      },
      {
       "output_type": "stream",
       "stream": "stderr",
       "text": [
        "\r",
        "[  3 %] elapsed[sec]: 0.039 | ETA[sec]: 1.009 "
       ]
      },
      {
       "output_type": "stream",
       "stream": "stderr",
       "text": [
        "\r",
        "[  3 %] elapsed[sec]: 0.040 | ETA[sec]: 1.018 "
       ]
      },
      {
       "output_type": "stream",
       "stream": "stderr",
       "text": [
        "\r",
        "[  3 %] elapsed[sec]: 0.041 | ETA[sec]: 1.013 "
       ]
      },
      {
       "output_type": "stream",
       "stream": "stderr",
       "text": [
        "\r",
        "[  3 %] elapsed[sec]: 0.041 | ETA[sec]: 1.006 "
       ]
      },
      {
       "output_type": "stream",
       "stream": "stderr",
       "text": [
        "\r",
        "[  4 %] elapsed[sec]: 0.042 | ETA[sec]: 1.000 "
       ]
      },
      {
       "output_type": "stream",
       "stream": "stderr",
       "text": [
        "\r",
        "[  4 %] elapsed[sec]: 0.042 | ETA[sec]: 0.994 "
       ]
      },
      {
       "output_type": "stream",
       "stream": "stderr",
       "text": [
        "\r",
        "[  4 %] elapsed[sec]: 0.043 | ETA[sec]: 0.989 "
       ]
      },
      {
       "output_type": "stream",
       "stream": "stderr",
       "text": [
        "\r",
        "[  4 %] elapsed[sec]: 0.043 | ETA[sec]: 0.985 "
       ]
      },
      {
       "output_type": "stream",
       "stream": "stderr",
       "text": [
        "\r",
        "[  4 %] elapsed[sec]: 0.045 | ETA[sec]: 1.002 "
       ]
      },
      {
       "output_type": "stream",
       "stream": "stderr",
       "text": [
        "\r",
        "[  4 %] elapsed[sec]: 0.045 | ETA[sec]: 0.996 "
       ]
      },
      {
       "output_type": "stream",
       "stream": "stderr",
       "text": [
        "\r",
        "[  4 %] elapsed[sec]: 0.046 | ETA[sec]: 0.990 "
       ]
      },
      {
       "output_type": "stream",
       "stream": "stderr",
       "text": [
        "\r",
        "[  4 %] elapsed[sec]: 0.046 | ETA[sec]: 0.983 "
       ]
      },
      {
       "output_type": "stream",
       "stream": "stderr",
       "text": [
        "\r",
        "[  4 %] elapsed[sec]: 0.046 | ETA[sec]: 0.976 "
       ]
      },
      {
       "output_type": "stream",
       "stream": "stderr",
       "text": [
        "\r",
        "[  4 %] elapsed[sec]: 0.047 | ETA[sec]: 0.969 "
       ]
      },
      {
       "output_type": "stream",
       "stream": "stderr",
       "text": [
        "\r",
        "[  4 %] elapsed[sec]: 0.051 | ETA[sec]: 1.034 "
       ]
      },
      {
       "output_type": "stream",
       "stream": "stderr",
       "text": [
        "\r",
        "[  4 %] elapsed[sec]: 0.051 | ETA[sec]: 1.027 "
       ]
      },
      {
       "output_type": "stream",
       "stream": "stderr",
       "text": [
        "\r",
        "[  4 %] elapsed[sec]: 0.051 | ETA[sec]: 1.020 "
       ]
      },
      {
       "output_type": "stream",
       "stream": "stderr",
       "text": [
        "\r",
        "[  4 %] elapsed[sec]: 0.052 | ETA[sec]: 1.013 "
       ]
      },
      {
       "output_type": "stream",
       "stream": "stderr",
       "text": [
        "\r",
        "[  4 %] elapsed[sec]: 0.055 | ETA[sec]: 1.063 "
       ]
      },
      {
       "output_type": "stream",
       "stream": "stderr",
       "text": [
        "\r",
        "[  5 %] elapsed[sec]: 0.056 | ETA[sec]: 1.056 "
       ]
      },
      {
       "output_type": "stream",
       "stream": "stderr",
       "text": [
        "\r",
        "[  5 %] elapsed[sec]: 0.056 | ETA[sec]: 1.049 "
       ]
      },
      {
       "output_type": "stream",
       "stream": "stderr",
       "text": [
        "\r",
        "[  5 %] elapsed[sec]: 0.056 | ETA[sec]: 1.043 "
       ]
      },
      {
       "output_type": "stream",
       "stream": "stderr",
       "text": [
        "\r",
        "[  5 %] elapsed[sec]: 0.060 | ETA[sec]: 1.096 "
       ]
      },
      {
       "output_type": "stream",
       "stream": "stderr",
       "text": [
        "\r",
        "[  5 %] elapsed[sec]: 0.061 | ETA[sec]: 1.091 "
       ]
      },
      {
       "output_type": "stream",
       "stream": "stderr",
       "text": [
        "\r",
        "[  5 %] elapsed[sec]: 0.061 | ETA[sec]: 1.084 "
       ]
      },
      {
       "output_type": "stream",
       "stream": "stderr",
       "text": [
        "\r",
        "[  5 %] elapsed[sec]: 0.061 | ETA[sec]: 1.077 "
       ]
      },
      {
       "output_type": "stream",
       "stream": "stderr",
       "text": [
        "\r",
        "[  5 %] elapsed[sec]: 0.062 | ETA[sec]: 1.071 "
       ]
      },
      {
       "output_type": "stream",
       "stream": "stderr",
       "text": [
        "\r",
        "[  5 %] elapsed[sec]: 0.062 | ETA[sec]: 1.064 "
       ]
      },
      {
       "output_type": "stream",
       "stream": "stderr",
       "text": [
        "\r",
        "[  5 %] elapsed[sec]: 0.063 | ETA[sec]: 1.057 "
       ]
      },
      {
       "output_type": "stream",
       "stream": "stderr",
       "text": [
        "\r",
        "[  5 %] elapsed[sec]: 0.063 | ETA[sec]: 1.050 "
       ]
      },
      {
       "output_type": "stream",
       "stream": "stderr",
       "text": [
        "\r",
        "[  5 %] elapsed[sec]: 0.063 | ETA[sec]: 1.044 "
       ]
      },
      {
       "output_type": "stream",
       "stream": "stderr",
       "text": [
        "\r",
        "[  5 %] elapsed[sec]: 0.064 | ETA[sec]: 1.037 "
       ]
      },
      {
       "output_type": "stream",
       "stream": "stderr",
       "text": [
        "\r",
        "[  5 %] elapsed[sec]: 0.064 | ETA[sec]: 1.030 "
       ]
      },
      {
       "output_type": "stream",
       "stream": "stderr",
       "text": [
        "\r",
        "[  5 %] elapsed[sec]: 0.065 | ETA[sec]: 1.025 "
       ]
      },
      {
       "output_type": "stream",
       "stream": "stderr",
       "text": [
        "\r",
        "[  6 %] elapsed[sec]: 0.065 | ETA[sec]: 1.019 "
       ]
      },
      {
       "output_type": "stream",
       "stream": "stderr",
       "text": [
        "\r",
        "[  6 %] elapsed[sec]: 0.065 | ETA[sec]: 1.013 "
       ]
      },
      {
       "output_type": "stream",
       "stream": "stderr",
       "text": [
        "\r",
        "[  6 %] elapsed[sec]: 0.066 | ETA[sec]: 1.007 "
       ]
      },
      {
       "output_type": "stream",
       "stream": "stderr",
       "text": [
        "\r",
        "[  6 %] elapsed[sec]: 0.066 | ETA[sec]: 1.001 "
       ]
      },
      {
       "output_type": "stream",
       "stream": "stderr",
       "text": [
        "\r",
        "[  6 %] elapsed[sec]: 0.067 | ETA[sec]: 1.001 "
       ]
      },
      {
       "output_type": "stream",
       "stream": "stderr",
       "text": [
        "\r",
        "[  6 %] elapsed[sec]: 0.067 | ETA[sec]: 0.996 "
       ]
      },
      {
       "output_type": "stream",
       "stream": "stderr",
       "text": [
        "\r",
        "[  6 %] elapsed[sec]: 0.068 | ETA[sec]: 0.990 "
       ]
      },
      {
       "output_type": "stream",
       "stream": "stderr",
       "text": [
        "\r",
        "[  6 %] elapsed[sec]: 0.068 | ETA[sec]: 0.985 "
       ]
      },
      {
       "output_type": "stream",
       "stream": "stderr",
       "text": [
        "\r",
        "[  6 %] elapsed[sec]: 0.068 | ETA[sec]: 0.979 "
       ]
      },
      {
       "output_type": "stream",
       "stream": "stderr",
       "text": [
        "\r",
        "[  6 %] elapsed[sec]: 0.069 | ETA[sec]: 0.974 "
       ]
      },
      {
       "output_type": "stream",
       "stream": "stderr",
       "text": [
        "\r",
        "[  6 %] elapsed[sec]: 0.069 | ETA[sec]: 0.969 "
       ]
      },
      {
       "output_type": "stream",
       "stream": "stderr",
       "text": [
        "\r",
        "[  6 %] elapsed[sec]: 0.070 | ETA[sec]: 0.964 "
       ]
      },
      {
       "output_type": "stream",
       "stream": "stderr",
       "text": [
        "\r",
        "[  6 %] elapsed[sec]: 0.070 | ETA[sec]: 0.963 "
       ]
      },
      {
       "output_type": "stream",
       "stream": "stderr",
       "text": [
        "\r",
        "[  6 %] elapsed[sec]: 0.079 | ETA[sec]: 1.069 "
       ]
      },
      {
       "output_type": "stream",
       "stream": "stderr",
       "text": [
        "\r",
        "[  6 %] elapsed[sec]: 0.079 | ETA[sec]: 1.065 "
       ]
      },
      {
       "output_type": "stream",
       "stream": "stderr",
       "text": [
        "\r",
        "[  7 %] elapsed[sec]: 0.080 | ETA[sec]: 1.059 "
       ]
      },
      {
       "output_type": "stream",
       "stream": "stderr",
       "text": [
        "\r",
        "[  7 %] elapsed[sec]: 0.080 | ETA[sec]: 1.054 "
       ]
      },
      {
       "output_type": "stream",
       "stream": "stderr",
       "text": [
        "\r",
        "[  7 %] elapsed[sec]: 0.081 | ETA[sec]: 1.048 "
       ]
      },
      {
       "output_type": "stream",
       "stream": "stderr",
       "text": [
        "\r",
        "[  7 %] elapsed[sec]: 0.081 | ETA[sec]: 1.043 "
       ]
      },
      {
       "output_type": "stream",
       "stream": "stderr",
       "text": [
        "\r",
        "[  7 %] elapsed[sec]: 0.081 | ETA[sec]: 1.037 "
       ]
      },
      {
       "output_type": "stream",
       "stream": "stderr",
       "text": [
        "\r",
        "[  7 %] elapsed[sec]: 0.082 | ETA[sec]: 1.032 "
       ]
      },
      {
       "output_type": "stream",
       "stream": "stderr",
       "text": [
        "\r",
        "[  7 %] elapsed[sec]: 0.082 | ETA[sec]: 1.027 "
       ]
      },
      {
       "output_type": "stream",
       "stream": "stderr",
       "text": [
        "\r",
        "[  7 %] elapsed[sec]: 0.082 | ETA[sec]: 1.022 "
       ]
      },
      {
       "output_type": "stream",
       "stream": "stderr",
       "text": [
        "\r",
        "[  7 %] elapsed[sec]: 0.083 | ETA[sec]: 1.016 "
       ]
      },
      {
       "output_type": "stream",
       "stream": "stderr",
       "text": [
        "\r",
        "[  7 %] elapsed[sec]: 0.083 | ETA[sec]: 1.011 "
       ]
      },
      {
       "output_type": "stream",
       "stream": "stderr",
       "text": [
        "\r",
        "[  7 %] elapsed[sec]: 0.084 | ETA[sec]: 1.007 "
       ]
      },
      {
       "output_type": "stream",
       "stream": "stderr",
       "text": [
        "\r",
        "[  7 %] elapsed[sec]: 0.084 | ETA[sec]: 1.002 "
       ]
      },
      {
       "output_type": "stream",
       "stream": "stderr",
       "text": [
        "\r",
        "[  7 %] elapsed[sec]: 0.084 | ETA[sec]: 0.997 "
       ]
      },
      {
       "output_type": "stream",
       "stream": "stderr",
       "text": [
        "\r",
        "[  7 %] elapsed[sec]: 0.085 | ETA[sec]: 0.992 "
       ]
      },
      {
       "output_type": "stream",
       "stream": "stderr",
       "text": [
        "\r",
        "[  7 %] elapsed[sec]: 0.085 | ETA[sec]: 0.987 "
       ]
      },
      {
       "output_type": "stream",
       "stream": "stderr",
       "text": [
        "\r",
        "[  8 %] elapsed[sec]: 0.085 | ETA[sec]: 0.983 "
       ]
      },
      {
       "output_type": "stream",
       "stream": "stderr",
       "text": [
        "\r",
        "[  8 %] elapsed[sec]: 0.086 | ETA[sec]: 0.978 "
       ]
      },
      {
       "output_type": "stream",
       "stream": "stderr",
       "text": [
        "\r",
        "[  8 %] elapsed[sec]: 0.086 | ETA[sec]: 0.974 "
       ]
      },
      {
       "output_type": "stream",
       "stream": "stderr",
       "text": [
        "\r",
        "[  8 %] elapsed[sec]: 0.087 | ETA[sec]: 0.969 "
       ]
      },
      {
       "output_type": "stream",
       "stream": "stderr",
       "text": [
        "\r",
        "[  8 %] elapsed[sec]: 0.087 | ETA[sec]: 0.965 "
       ]
      },
      {
       "output_type": "stream",
       "stream": "stderr",
       "text": [
        "\r",
        "[  8 %] elapsed[sec]: 0.087 | ETA[sec]: 0.960 "
       ]
      },
      {
       "output_type": "stream",
       "stream": "stderr",
       "text": [
        "\r",
        "[  8 %] elapsed[sec]: 0.088 | ETA[sec]: 0.959 "
       ]
      },
      {
       "output_type": "stream",
       "stream": "stderr",
       "text": [
        "\r",
        "[  8 %] elapsed[sec]: 0.088 | ETA[sec]: 0.954 "
       ]
      },
      {
       "output_type": "stream",
       "stream": "stderr",
       "text": [
        "\r",
        "[  8 %] elapsed[sec]: 0.089 | ETA[sec]: 0.950 "
       ]
      },
      {
       "output_type": "stream",
       "stream": "stderr",
       "text": [
        "\r",
        "[  8 %] elapsed[sec]: 0.093 | ETA[sec]: 0.984 "
       ]
      },
      {
       "output_type": "stream",
       "stream": "stderr",
       "text": [
        "\r",
        "[  8 %] elapsed[sec]: 0.093 | ETA[sec]: 0.980 "
       ]
      },
      {
       "output_type": "stream",
       "stream": "stderr",
       "text": [
        "\r",
        "[  8 %] elapsed[sec]: 0.093 | ETA[sec]: 0.976 "
       ]
      },
      {
       "output_type": "stream",
       "stream": "stderr",
       "text": [
        "\r",
        "[  8 %] elapsed[sec]: 0.094 | ETA[sec]: 0.972 "
       ]
      },
      {
       "output_type": "stream",
       "stream": "stderr",
       "text": [
        "\r",
        "[  8 %] elapsed[sec]: 0.097 | ETA[sec]: 0.998 "
       ]
      },
      {
       "output_type": "stream",
       "stream": "stderr",
       "text": [
        "\r",
        "[  8 %] elapsed[sec]: 0.098 | ETA[sec]: 0.996 "
       ]
      },
      {
       "output_type": "stream",
       "stream": "stderr",
       "text": [
        "\r",
        "[  9 %] elapsed[sec]: 0.098 | ETA[sec]: 0.994 "
       ]
      },
      {
       "output_type": "stream",
       "stream": "stderr",
       "text": [
        "\r",
        "[  9 %] elapsed[sec]: 0.099 | ETA[sec]: 0.990 "
       ]
      },
      {
       "output_type": "stream",
       "stream": "stderr",
       "text": [
        "\r",
        "[  9 %] elapsed[sec]: 0.099 | ETA[sec]: 0.986 "
       ]
      },
      {
       "output_type": "stream",
       "stream": "stderr",
       "text": [
        "\r",
        "[  9 %] elapsed[sec]: 0.099 | ETA[sec]: 0.982 "
       ]
      },
      {
       "output_type": "stream",
       "stream": "stderr",
       "text": [
        "\r",
        "[  9 %] elapsed[sec]: 0.100 | ETA[sec]: 0.978 "
       ]
      },
      {
       "output_type": "stream",
       "stream": "stderr",
       "text": [
        "\r",
        "[  9 %] elapsed[sec]: 0.100 | ETA[sec]: 0.974 "
       ]
      },
      {
       "output_type": "stream",
       "stream": "stderr",
       "text": [
        "\r",
        "[  9 %] elapsed[sec]: 0.101 | ETA[sec]: 0.970 "
       ]
      },
      {
       "output_type": "stream",
       "stream": "stderr",
       "text": [
        "\r",
        "[  9 %] elapsed[sec]: 0.101 | ETA[sec]: 0.967 "
       ]
      },
      {
       "output_type": "stream",
       "stream": "stderr",
       "text": [
        "\r",
        "[  9 %] elapsed[sec]: 0.101 | ETA[sec]: 0.963 "
       ]
      },
      {
       "output_type": "stream",
       "stream": "stderr",
       "text": [
        "\r",
        "[  9 %] elapsed[sec]: 0.102 | ETA[sec]: 0.959 "
       ]
      },
      {
       "output_type": "stream",
       "stream": "stderr",
       "text": [
        "\r",
        "[  9 %] elapsed[sec]: 0.102 | ETA[sec]: 0.955 "
       ]
      },
      {
       "output_type": "stream",
       "stream": "stderr",
       "text": [
        "\r",
        "[  9 %] elapsed[sec]: 0.103 | ETA[sec]: 0.952 "
       ]
      },
      {
       "output_type": "stream",
       "stream": "stderr",
       "text": [
        "\r",
        "[  9 %] elapsed[sec]: 0.103 | ETA[sec]: 0.948 "
       ]
      },
      {
       "output_type": "stream",
       "stream": "stderr",
       "text": [
        "\r",
        "[  9 %] elapsed[sec]: 0.103 | ETA[sec]: 0.944 "
       ]
      },
      {
       "output_type": "stream",
       "stream": "stderr",
       "text": [
        "\r",
        "[  9 %] elapsed[sec]: 0.104 | ETA[sec]: 0.940 "
       ]
      },
      {
       "output_type": "stream",
       "stream": "stderr",
       "text": [
        "\r",
        "[ 10 %] elapsed[sec]: 0.104 | ETA[sec]: 0.937 "
       ]
      },
      {
       "output_type": "stream",
       "stream": "stderr",
       "text": [
        "\r",
        "[ 10 %] elapsed[sec]: 0.104 | ETA[sec]: 0.934 "
       ]
      },
      {
       "output_type": "stream",
       "stream": "stderr",
       "text": [
        "\r",
        "[ 10 %] elapsed[sec]: 0.105 | ETA[sec]: 0.931 "
       ]
      },
      {
       "output_type": "stream",
       "stream": "stderr",
       "text": [
        "\r",
        "[ 10 %] elapsed[sec]: 0.108 | ETA[sec]: 0.954 "
       ]
      },
      {
       "output_type": "stream",
       "stream": "stderr",
       "text": [
        "\r",
        "[ 10 %] elapsed[sec]: 0.109 | ETA[sec]: 0.951 "
       ]
      },
      {
       "output_type": "stream",
       "stream": "stderr",
       "text": [
        "\r",
        "[ 10 %] elapsed[sec]: 0.109 | ETA[sec]: 0.948 "
       ]
      },
      {
       "output_type": "stream",
       "stream": "stderr",
       "text": [
        "\r",
        "[ 10 %] elapsed[sec]: 0.110 | ETA[sec]: 0.945 "
       ]
      },
      {
       "output_type": "stream",
       "stream": "stderr",
       "text": [
        "\r",
        "[ 10 %] elapsed[sec]: 0.110 | ETA[sec]: 0.942 "
       ]
      },
      {
       "output_type": "stream",
       "stream": "stderr",
       "text": [
        "\r",
        "[ 10 %] elapsed[sec]: 0.111 | ETA[sec]: 0.939 "
       ]
      },
      {
       "output_type": "stream",
       "stream": "stderr",
       "text": [
        "\r",
        "[ 10 %] elapsed[sec]: 0.112 | ETA[sec]: 0.945 "
       ]
      },
      {
       "output_type": "stream",
       "stream": "stderr",
       "text": [
        "\r",
        "[ 10 %] elapsed[sec]: 0.112 | ETA[sec]: 0.942 "
       ]
      },
      {
       "output_type": "stream",
       "stream": "stderr",
       "text": [
        "\r",
        "[ 10 %] elapsed[sec]: 0.113 | ETA[sec]: 0.939 "
       ]
      },
      {
       "output_type": "stream",
       "stream": "stderr",
       "text": [
        "\r",
        "[ 10 %] elapsed[sec]: 0.113 | ETA[sec]: 0.936 "
       ]
      },
      {
       "output_type": "stream",
       "stream": "stderr",
       "text": [
        "\r",
        "[ 10 %] elapsed[sec]: 0.114 | ETA[sec]: 0.933 "
       ]
      },
      {
       "output_type": "stream",
       "stream": "stderr",
       "text": [
        "\r",
        "[ 10 %] elapsed[sec]: 0.114 | ETA[sec]: 0.930 "
       ]
      },
      {
       "output_type": "stream",
       "stream": "stderr",
       "text": [
        "\r",
        "[ 11 %] elapsed[sec]: 0.115 | ETA[sec]: 0.927 "
       ]
      },
      {
       "output_type": "stream",
       "stream": "stderr",
       "text": [
        "\r",
        "[ 11 %] elapsed[sec]: 0.115 | ETA[sec]: 0.924 "
       ]
      },
      {
       "output_type": "stream",
       "stream": "stderr",
       "text": [
        "\r",
        "[ 11 %] elapsed[sec]: 0.115 | ETA[sec]: 0.920 "
       ]
      },
      {
       "output_type": "stream",
       "stream": "stderr",
       "text": [
        "\r",
        "[ 11 %] elapsed[sec]: 0.116 | ETA[sec]: 0.917 "
       ]
      },
      {
       "output_type": "stream",
       "stream": "stderr",
       "text": [
        "\r",
        "[ 11 %] elapsed[sec]: 0.116 | ETA[sec]: 0.914 "
       ]
      },
      {
       "output_type": "stream",
       "stream": "stderr",
       "text": [
        "\r",
        "[ 11 %] elapsed[sec]: 0.116 | ETA[sec]: 0.911 "
       ]
      },
      {
       "output_type": "stream",
       "stream": "stderr",
       "text": [
        "\r",
        "[ 11 %] elapsed[sec]: 0.117 | ETA[sec]: 0.908 "
       ]
      },
      {
       "output_type": "stream",
       "stream": "stderr",
       "text": [
        "\r",
        "[ 11 %] elapsed[sec]: 0.117 | ETA[sec]: 0.905 "
       ]
      },
      {
       "output_type": "stream",
       "stream": "stderr",
       "text": [
        "\r",
        "[ 11 %] elapsed[sec]: 0.118 | ETA[sec]: 0.902 "
       ]
      },
      {
       "output_type": "stream",
       "stream": "stderr",
       "text": [
        "\r",
        "[ 11 %] elapsed[sec]: 0.118 | ETA[sec]: 0.899 "
       ]
      },
      {
       "output_type": "stream",
       "stream": "stderr",
       "text": [
        "\r",
        "[ 11 %] elapsed[sec]: 0.118 | ETA[sec]: 0.896 "
       ]
      },
      {
       "output_type": "stream",
       "stream": "stderr",
       "text": [
        "\r",
        "[ 11 %] elapsed[sec]: 0.119 | ETA[sec]: 0.894 "
       ]
      },
      {
       "output_type": "stream",
       "stream": "stderr",
       "text": [
        "\r",
        "[ 11 %] elapsed[sec]: 0.119 | ETA[sec]: 0.891 "
       ]
      },
      {
       "output_type": "stream",
       "stream": "stderr",
       "text": [
        "\r",
        "[ 11 %] elapsed[sec]: 0.123 | ETA[sec]: 0.915 "
       ]
      },
      {
       "output_type": "stream",
       "stream": "stderr",
       "text": [
        "\r",
        "[ 11 %] elapsed[sec]: 0.124 | ETA[sec]: 0.912 "
       ]
      },
      {
       "output_type": "stream",
       "stream": "stderr",
       "text": [
        "\r",
        "[ 12 %] elapsed[sec]: 0.124 | ETA[sec]: 0.910 "
       ]
      },
      {
       "output_type": "stream",
       "stream": "stderr",
       "text": [
        "\r",
        "[ 12 %] elapsed[sec]: 0.124 | ETA[sec]: 0.907 "
       ]
      },
      {
       "output_type": "stream",
       "stream": "stderr",
       "text": [
        "\r",
        "[ 12 %] elapsed[sec]: 0.125 | ETA[sec]: 0.904 "
       ]
      },
      {
       "output_type": "stream",
       "stream": "stderr",
       "text": [
        "\r",
        "[ 12 %] elapsed[sec]: 0.125 | ETA[sec]: 0.902 "
       ]
      },
      {
       "output_type": "stream",
       "stream": "stderr",
       "text": [
        "\r",
        "[ 12 %] elapsed[sec]: 0.126 | ETA[sec]: 0.899 "
       ]
      },
      {
       "output_type": "stream",
       "stream": "stderr",
       "text": [
        "\r",
        "[ 12 %] elapsed[sec]: 0.126 | ETA[sec]: 0.897 "
       ]
      },
      {
       "output_type": "stream",
       "stream": "stderr",
       "text": [
        "\r",
        "[ 12 %] elapsed[sec]: 0.126 | ETA[sec]: 0.894 "
       ]
      },
      {
       "output_type": "stream",
       "stream": "stderr",
       "text": [
        "\r",
        "[ 12 %] elapsed[sec]: 0.127 | ETA[sec]: 0.891 "
       ]
      },
      {
       "output_type": "stream",
       "stream": "stderr",
       "text": [
        "\r",
        "[ 12 %] elapsed[sec]: 0.127 | ETA[sec]: 0.889 "
       ]
      },
      {
       "output_type": "stream",
       "stream": "stderr",
       "text": [
        "\r",
        "[ 12 %] elapsed[sec]: 0.128 | ETA[sec]: 0.887 "
       ]
      },
      {
       "output_type": "stream",
       "stream": "stderr",
       "text": [
        "\r",
        "[ 12 %] elapsed[sec]: 0.128 | ETA[sec]: 0.884 "
       ]
      },
      {
       "output_type": "stream",
       "stream": "stderr",
       "text": [
        "\r",
        "[ 12 %] elapsed[sec]: 0.129 | ETA[sec]: 0.881 "
       ]
      },
      {
       "output_type": "stream",
       "stream": "stderr",
       "text": [
        "\r",
        "[ 12 %] elapsed[sec]: 0.129 | ETA[sec]: 0.879 "
       ]
      },
      {
       "output_type": "stream",
       "stream": "stderr",
       "text": [
        "\r",
        "[ 12 %] elapsed[sec]: 0.129 | ETA[sec]: 0.876 "
       ]
      },
      {
       "output_type": "stream",
       "stream": "stderr",
       "text": [
        "\r",
        "[ 12 %] elapsed[sec]: 0.130 | ETA[sec]: 0.874 "
       ]
      },
      {
       "output_type": "stream",
       "stream": "stderr",
       "text": [
        "\r",
        "[ 13 %] elapsed[sec]: 0.130 | ETA[sec]: 0.871 "
       ]
      },
      {
       "output_type": "stream",
       "stream": "stderr",
       "text": [
        "\r",
        "[ 13 %] elapsed[sec]: 0.131 | ETA[sec]: 0.869 "
       ]
      },
      {
       "output_type": "stream",
       "stream": "stderr",
       "text": [
        "\r",
        "[ 13 %] elapsed[sec]: 0.131 | ETA[sec]: 0.866 "
       ]
      },
      {
       "output_type": "stream",
       "stream": "stderr",
       "text": [
        "\r",
        "[ 13 %] elapsed[sec]: 0.131 | ETA[sec]: 0.863 "
       ]
      },
      {
       "output_type": "stream",
       "stream": "stderr",
       "text": [
        "\r",
        "[ 13 %] elapsed[sec]: 0.132 | ETA[sec]: 0.861 "
       ]
      },
      {
       "output_type": "stream",
       "stream": "stderr",
       "text": [
        "\r",
        "[ 13 %] elapsed[sec]: 0.132 | ETA[sec]: 0.858 "
       ]
      },
      {
       "output_type": "stream",
       "stream": "stderr",
       "text": [
        "\r",
        "[ 13 %] elapsed[sec]: 0.132 | ETA[sec]: 0.856 "
       ]
      },
      {
       "output_type": "stream",
       "stream": "stderr",
       "text": [
        "\r",
        "[ 13 %] elapsed[sec]: 0.133 | ETA[sec]: 0.853 "
       ]
      },
      {
       "output_type": "stream",
       "stream": "stderr",
       "text": [
        "\r",
        "[ 13 %] elapsed[sec]: 0.137 | ETA[sec]: 0.879 "
       ]
      },
      {
       "output_type": "stream",
       "stream": "stderr",
       "text": [
        "\r",
        "[ 13 %] elapsed[sec]: 0.138 | ETA[sec]: 0.877 "
       ]
      },
      {
       "output_type": "stream",
       "stream": "stderr",
       "text": [
        "\r",
        "[ 13 %] elapsed[sec]: 0.138 | ETA[sec]: 0.874 "
       ]
      },
      {
       "output_type": "stream",
       "stream": "stderr",
       "text": [
        "\r",
        "[ 13 %] elapsed[sec]: 0.139 | ETA[sec]: 0.872 "
       ]
      },
      {
       "output_type": "stream",
       "stream": "stderr",
       "text": [
        "\r",
        "[ 13 %] elapsed[sec]: 0.139 | ETA[sec]: 0.869 "
       ]
      },
      {
       "output_type": "stream",
       "stream": "stderr",
       "text": [
        "\r",
        "[ 13 %] elapsed[sec]: 0.140 | ETA[sec]: 0.867 "
       ]
      },
      {
       "output_type": "stream",
       "stream": "stderr",
       "text": [
        "\r",
        "[ 13 %] elapsed[sec]: 0.140 | ETA[sec]: 0.865 "
       ]
      },
      {
       "output_type": "stream",
       "stream": "stderr",
       "text": [
        "\r",
        "[ 14 %] elapsed[sec]: 0.140 | ETA[sec]: 0.863 "
       ]
      },
      {
       "output_type": "stream",
       "stream": "stderr",
       "text": [
        "\r",
        "[ 14 %] elapsed[sec]: 0.141 | ETA[sec]: 0.860 "
       ]
      },
      {
       "output_type": "stream",
       "stream": "stderr",
       "text": [
        "\r",
        "[ 14 %] elapsed[sec]: 0.141 | ETA[sec]: 0.858 "
       ]
      },
      {
       "output_type": "stream",
       "stream": "stderr",
       "text": [
        "\r",
        "[ 14 %] elapsed[sec]: 0.142 | ETA[sec]: 0.855 "
       ]
      },
      {
       "output_type": "stream",
       "stream": "stderr",
       "text": [
        "\r",
        "[ 14 %] elapsed[sec]: 0.142 | ETA[sec]: 0.853 "
       ]
      },
      {
       "output_type": "stream",
       "stream": "stderr",
       "text": [
        "\r",
        "[ 14 %] elapsed[sec]: 0.142 | ETA[sec]: 0.851 "
       ]
      },
      {
       "output_type": "stream",
       "stream": "stderr",
       "text": [
        "\r",
        "[ 14 %] elapsed[sec]: 0.143 | ETA[sec]: 0.848 "
       ]
      },
      {
       "output_type": "stream",
       "stream": "stderr",
       "text": [
        "\r",
        "[ 14 %] elapsed[sec]: 0.143 | ETA[sec]: 0.846 "
       ]
      },
      {
       "output_type": "stream",
       "stream": "stderr",
       "text": [
        "\r",
        "[ 14 %] elapsed[sec]: 0.143 | ETA[sec]: 0.843 "
       ]
      },
      {
       "output_type": "stream",
       "stream": "stderr",
       "text": [
        "\r",
        "[ 14 %] elapsed[sec]: 0.144 | ETA[sec]: 0.841 "
       ]
      },
      {
       "output_type": "stream",
       "stream": "stderr",
       "text": [
        "\r",
        "[ 14 %] elapsed[sec]: 0.144 | ETA[sec]: 0.839 "
       ]
      },
      {
       "output_type": "stream",
       "stream": "stderr",
       "text": [
        "\r",
        "[ 14 %] elapsed[sec]: 0.145 | ETA[sec]: 0.836 "
       ]
      },
      {
       "output_type": "stream",
       "stream": "stderr",
       "text": [
        "\r",
        "[ 14 %] elapsed[sec]: 0.145 | ETA[sec]: 0.834 "
       ]
      },
      {
       "output_type": "stream",
       "stream": "stderr",
       "text": [
        "\r",
        "[ 14 %] elapsed[sec]: 0.146 | ETA[sec]: 0.838 "
       ]
      },
      {
       "output_type": "stream",
       "stream": "stderr",
       "text": [
        "\r",
        "[ 14 %] elapsed[sec]: 0.147 | ETA[sec]: 0.836 "
       ]
      },
      {
       "output_type": "stream",
       "stream": "stderr",
       "text": [
        "\r",
        "[ 15 %] elapsed[sec]: 0.147 | ETA[sec]: 0.833 "
       ]
      },
      {
       "output_type": "stream",
       "stream": "stderr",
       "text": [
        "\r",
        "[ 15 %] elapsed[sec]: 0.147 | ETA[sec]: 0.831 "
       ]
      },
      {
       "output_type": "stream",
       "stream": "stderr",
       "text": [
        "\r",
        "[ 15 %] elapsed[sec]: 0.148 | ETA[sec]: 0.830 "
       ]
      },
      {
       "output_type": "stream",
       "stream": "stderr",
       "text": [
        "\r",
        "[ 15 %] elapsed[sec]: 0.149 | ETA[sec]: 0.833 "
       ]
      },
      {
       "output_type": "stream",
       "stream": "stderr",
       "text": [
        "\r",
        "[ 15 %] elapsed[sec]: 0.150 | ETA[sec]: 0.831 "
       ]
      },
      {
       "output_type": "stream",
       "stream": "stderr",
       "text": [
        "\r",
        "[ 15 %] elapsed[sec]: 0.150 | ETA[sec]: 0.829 "
       ]
      },
      {
       "output_type": "stream",
       "stream": "stderr",
       "text": [
        "\r",
        "[ 15 %] elapsed[sec]: 0.150 | ETA[sec]: 0.827 "
       ]
      },
      {
       "output_type": "stream",
       "stream": "stderr",
       "text": [
        "\r",
        "[ 15 %] elapsed[sec]: 0.151 | ETA[sec]: 0.824 "
       ]
      },
      {
       "output_type": "stream",
       "stream": "stderr",
       "text": [
        "\r",
        "[ 15 %] elapsed[sec]: 0.151 | ETA[sec]: 0.823 "
       ]
      },
      {
       "output_type": "stream",
       "stream": "stderr",
       "text": [
        "\r",
        "[ 15 %] elapsed[sec]: 0.152 | ETA[sec]: 0.821 "
       ]
      },
      {
       "output_type": "stream",
       "stream": "stderr",
       "text": [
        "\r",
        "[ 15 %] elapsed[sec]: 0.152 | ETA[sec]: 0.818 "
       ]
      },
      {
       "output_type": "stream",
       "stream": "stderr",
       "text": [
        "\r",
        "[ 15 %] elapsed[sec]: 0.152 | ETA[sec]: 0.816 "
       ]
      },
      {
       "output_type": "stream",
       "stream": "stderr",
       "text": [
        "\r",
        "[ 15 %] elapsed[sec]: 0.153 | ETA[sec]: 0.814 "
       ]
      },
      {
       "output_type": "stream",
       "stream": "stderr",
       "text": [
        "\r",
        "[ 15 %] elapsed[sec]: 0.153 | ETA[sec]: 0.812 "
       ]
      },
      {
       "output_type": "stream",
       "stream": "stderr",
       "text": [
        "\r",
        "[ 15 %] elapsed[sec]: 0.153 | ETA[sec]: 0.810 "
       ]
      },
      {
       "output_type": "stream",
       "stream": "stderr",
       "text": [
        "\r",
        "[ 16 %] elapsed[sec]: 0.154 | ETA[sec]: 0.808 "
       ]
      },
      {
       "output_type": "stream",
       "stream": "stderr",
       "text": [
        "\r",
        "[ 16 %] elapsed[sec]: 0.154 | ETA[sec]: 0.806 "
       ]
      },
      {
       "output_type": "stream",
       "stream": "stderr",
       "text": [
        "\r",
        "[ 16 %] elapsed[sec]: 0.155 | ETA[sec]: 0.804 "
       ]
      },
      {
       "output_type": "stream",
       "stream": "stderr",
       "text": [
        "\r",
        "[ 16 %] elapsed[sec]: 0.155 | ETA[sec]: 0.802 "
       ]
      },
      {
       "output_type": "stream",
       "stream": "stderr",
       "text": [
        "\r",
        "[ 16 %] elapsed[sec]: 0.155 | ETA[sec]: 0.800 "
       ]
      },
      {
       "output_type": "stream",
       "stream": "stderr",
       "text": [
        "\r",
        "[ 16 %] elapsed[sec]: 0.156 | ETA[sec]: 0.798 "
       ]
      },
      {
       "output_type": "stream",
       "stream": "stderr",
       "text": [
        "\r",
        "[ 16 %] elapsed[sec]: 0.156 | ETA[sec]: 0.796 "
       ]
      },
      {
       "output_type": "stream",
       "stream": "stderr",
       "text": [
        "\r",
        "[ 16 %] elapsed[sec]: 0.156 | ETA[sec]: 0.794 "
       ]
      },
      {
       "output_type": "stream",
       "stream": "stderr",
       "text": [
        "\r",
        "[ 16 %] elapsed[sec]: 0.157 | ETA[sec]: 0.792 "
       ]
      },
      {
       "output_type": "stream",
       "stream": "stderr",
       "text": [
        "\r",
        "[ 16 %] elapsed[sec]: 0.157 | ETA[sec]: 0.790 "
       ]
      },
      {
       "output_type": "stream",
       "stream": "stderr",
       "text": [
        "\r",
        "[ 16 %] elapsed[sec]: 0.158 | ETA[sec]: 0.788 "
       ]
      },
      {
       "output_type": "stream",
       "stream": "stderr",
       "text": [
        "\r",
        "[ 16 %] elapsed[sec]: 0.158 | ETA[sec]: 0.786 "
       ]
      },
      {
       "output_type": "stream",
       "stream": "stderr",
       "text": [
        "\r",
        "[ 16 %] elapsed[sec]: 0.158 | ETA[sec]: 0.784 "
       ]
      },
      {
       "output_type": "stream",
       "stream": "stderr",
       "text": [
        "\r",
        "[ 16 %] elapsed[sec]: 0.159 | ETA[sec]: 0.782 "
       ]
      },
      {
       "output_type": "stream",
       "stream": "stderr",
       "text": [
        "\r",
        "[ 16 %] elapsed[sec]: 0.159 | ETA[sec]: 0.780 "
       ]
      },
      {
       "output_type": "stream",
       "stream": "stderr",
       "text": [
        "\r",
        "[ 17 %] elapsed[sec]: 0.165 | ETA[sec]: 0.804 "
       ]
      },
      {
       "output_type": "stream",
       "stream": "stderr",
       "text": [
        "\r",
        "[ 17 %] elapsed[sec]: 0.165 | ETA[sec]: 0.803 "
       ]
      },
      {
       "output_type": "stream",
       "stream": "stderr",
       "text": [
        "\r",
        "[ 17 %] elapsed[sec]: 0.166 | ETA[sec]: 0.801 "
       ]
      },
      {
       "output_type": "stream",
       "stream": "stderr",
       "text": [
        "\r",
        "[ 17 %] elapsed[sec]: 0.166 | ETA[sec]: 0.799 "
       ]
      },
      {
       "output_type": "stream",
       "stream": "stderr",
       "text": [
        "\r",
        "[ 17 %] elapsed[sec]: 0.166 | ETA[sec]: 0.797 "
       ]
      },
      {
       "output_type": "stream",
       "stream": "stderr",
       "text": [
        "\r",
        "[ 17 %] elapsed[sec]: 0.167 | ETA[sec]: 0.796 "
       ]
      },
      {
       "output_type": "stream",
       "stream": "stderr",
       "text": [
        "\r",
        "[ 17 %] elapsed[sec]: 0.167 | ETA[sec]: 0.794 "
       ]
      },
      {
       "output_type": "stream",
       "stream": "stderr",
       "text": [
        "\r",
        "[ 17 %] elapsed[sec]: 0.168 | ETA[sec]: 0.792 "
       ]
      },
      {
       "output_type": "stream",
       "stream": "stderr",
       "text": [
        "\r",
        "[ 17 %] elapsed[sec]: 0.168 | ETA[sec]: 0.790 "
       ]
      },
      {
       "output_type": "stream",
       "stream": "stderr",
       "text": [
        "\r",
        "[ 17 %] elapsed[sec]: 0.168 | ETA[sec]: 0.788 "
       ]
      },
      {
       "output_type": "stream",
       "stream": "stderr",
       "text": [
        "\r",
        "[ 17 %] elapsed[sec]: 0.169 | ETA[sec]: 0.786 "
       ]
      },
      {
       "output_type": "stream",
       "stream": "stderr",
       "text": [
        "\r",
        "[ 17 %] elapsed[sec]: 0.169 | ETA[sec]: 0.785 "
       ]
      },
      {
       "output_type": "stream",
       "stream": "stderr",
       "text": [
        "\r",
        "[ 17 %] elapsed[sec]: 0.170 | ETA[sec]: 0.783 "
       ]
      },
      {
       "output_type": "stream",
       "stream": "stderr",
       "text": [
        "\r",
        "[ 17 %] elapsed[sec]: 0.170 | ETA[sec]: 0.781 "
       ]
      },
      {
       "output_type": "stream",
       "stream": "stderr",
       "text": [
        "\r",
        "[ 17 %] elapsed[sec]: 0.170 | ETA[sec]: 0.779 "
       ]
      },
      {
       "output_type": "stream",
       "stream": "stderr",
       "text": [
        "\r",
        "[ 18 %] elapsed[sec]: 0.171 | ETA[sec]: 0.778 "
       ]
      },
      {
       "output_type": "stream",
       "stream": "stderr",
       "text": [
        "\r",
        "[ 18 %] elapsed[sec]: 0.171 | ETA[sec]: 0.776 "
       ]
      },
      {
       "output_type": "stream",
       "stream": "stderr",
       "text": [
        "\r",
        "[ 18 %] elapsed[sec]: 0.172 | ETA[sec]: 0.776 "
       ]
      },
      {
       "output_type": "stream",
       "stream": "stderr",
       "text": [
        "\r",
        "[ 18 %] elapsed[sec]: 0.172 | ETA[sec]: 0.774 "
       ]
      },
      {
       "output_type": "stream",
       "stream": "stderr",
       "text": [
        "\r",
        "[ 18 %] elapsed[sec]: 0.173 | ETA[sec]: 0.772 "
       ]
      },
      {
       "output_type": "stream",
       "stream": "stderr",
       "text": [
        "\r",
        "[ 18 %] elapsed[sec]: 0.173 | ETA[sec]: 0.771 "
       ]
      },
      {
       "output_type": "stream",
       "stream": "stderr",
       "text": [
        "\r",
        "[ 18 %] elapsed[sec]: 0.173 | ETA[sec]: 0.769 "
       ]
      },
      {
       "output_type": "stream",
       "stream": "stderr",
       "text": [
        "\r",
        "[ 18 %] elapsed[sec]: 0.174 | ETA[sec]: 0.768 "
       ]
      },
      {
       "output_type": "stream",
       "stream": "stderr",
       "text": [
        "\r",
        "[ 18 %] elapsed[sec]: 0.174 | ETA[sec]: 0.767 "
       ]
      },
      {
       "output_type": "stream",
       "stream": "stderr",
       "text": [
        "\r",
        "[ 18 %] elapsed[sec]: 0.185 | ETA[sec]: 0.809 "
       ]
      },
      {
       "output_type": "stream",
       "stream": "stderr",
       "text": [
        "\r",
        "[ 18 %] elapsed[sec]: 0.185 | ETA[sec]: 0.808 "
       ]
      },
      {
       "output_type": "stream",
       "stream": "stderr",
       "text": [
        "\r",
        "[ 18 %] elapsed[sec]: 0.186 | ETA[sec]: 0.807 "
       ]
      },
      {
       "output_type": "stream",
       "stream": "stderr",
       "text": [
        "\r",
        "[ 18 %] elapsed[sec]: 0.186 | ETA[sec]: 0.805 "
       ]
      },
      {
       "output_type": "stream",
       "stream": "stderr",
       "text": [
        "\r",
        "[ 18 %] elapsed[sec]: 0.187 | ETA[sec]: 0.804 "
       ]
      },
      {
       "output_type": "stream",
       "stream": "stderr",
       "text": [
        "\r",
        "[ 18 %] elapsed[sec]: 0.187 | ETA[sec]: 0.802 "
       ]
      },
      {
       "output_type": "stream",
       "stream": "stderr",
       "text": [
        "\r",
        "[ 19 %] elapsed[sec]: 0.188 | ETA[sec]: 0.801 "
       ]
      },
      {
       "output_type": "stream",
       "stream": "stderr",
       "text": [
        "\r",
        "[ 19 %] elapsed[sec]: 0.188 | ETA[sec]: 0.799 "
       ]
      },
      {
       "output_type": "stream",
       "stream": "stderr",
       "text": [
        "\r",
        "[ 19 %] elapsed[sec]: 0.189 | ETA[sec]: 0.797 "
       ]
      },
      {
       "output_type": "stream",
       "stream": "stderr",
       "text": [
        "\r",
        "[ 19 %] elapsed[sec]: 0.189 | ETA[sec]: 0.795 "
       ]
      },
      {
       "output_type": "stream",
       "stream": "stderr",
       "text": [
        "\r",
        "[ 19 %] elapsed[sec]: 0.190 | ETA[sec]: 0.794 "
       ]
      },
      {
       "output_type": "stream",
       "stream": "stderr",
       "text": [
        "\r",
        "[ 19 %] elapsed[sec]: 0.190 | ETA[sec]: 0.793 "
       ]
      },
      {
       "output_type": "stream",
       "stream": "stderr",
       "text": [
        "\r",
        "[ 19 %] elapsed[sec]: 0.190 | ETA[sec]: 0.791 "
       ]
      },
      {
       "output_type": "stream",
       "stream": "stderr",
       "text": [
        "\r",
        "[ 19 %] elapsed[sec]: 0.191 | ETA[sec]: 0.792 "
       ]
      },
      {
       "output_type": "stream",
       "stream": "stderr",
       "text": [
        "\r",
        "[ 19 %] elapsed[sec]: 0.192 | ETA[sec]: 0.790 "
       ]
      },
      {
       "output_type": "stream",
       "stream": "stderr",
       "text": [
        "\r",
        "[ 19 %] elapsed[sec]: 0.192 | ETA[sec]: 0.789 "
       ]
      },
      {
       "output_type": "stream",
       "stream": "stderr",
       "text": [
        "\r",
        "[ 19 %] elapsed[sec]: 0.193 | ETA[sec]: 0.787 "
       ]
      },
      {
       "output_type": "stream",
       "stream": "stderr",
       "text": [
        "\r",
        "[ 19 %] elapsed[sec]: 0.193 | ETA[sec]: 0.786 "
       ]
      },
      {
       "output_type": "stream",
       "stream": "stderr",
       "text": [
        "\r",
        "[ 19 %] elapsed[sec]: 0.194 | ETA[sec]: 0.784 "
       ]
      },
      {
       "output_type": "stream",
       "stream": "stderr",
       "text": [
        "\r",
        "[ 19 %] elapsed[sec]: 0.194 | ETA[sec]: 0.782 "
       ]
      },
      {
       "output_type": "stream",
       "stream": "stderr",
       "text": [
        "\r",
        "[ 19 %] elapsed[sec]: 0.194 | ETA[sec]: 0.781 "
       ]
      },
      {
       "output_type": "stream",
       "stream": "stderr",
       "text": [
        "\r",
        "[ 20 %] elapsed[sec]: 0.195 | ETA[sec]: 0.780 "
       ]
      },
      {
       "output_type": "stream",
       "stream": "stderr",
       "text": [
        "\r",
        "[ 20 %] elapsed[sec]: 0.195 | ETA[sec]: 0.778 "
       ]
      },
      {
       "output_type": "stream",
       "stream": "stderr",
       "text": [
        "\r",
        "[ 20 %] elapsed[sec]: 0.196 | ETA[sec]: 0.777 "
       ]
      },
      {
       "output_type": "stream",
       "stream": "stderr",
       "text": [
        "\r",
        "[ 20 %] elapsed[sec]: 0.197 | ETA[sec]: 0.780 "
       ]
      },
      {
       "output_type": "stream",
       "stream": "stderr",
       "text": [
        "\r",
        "[ 20 %] elapsed[sec]: 0.198 | ETA[sec]: 0.778 "
       ]
      },
      {
       "output_type": "stream",
       "stream": "stderr",
       "text": [
        "\r",
        "[ 20 %] elapsed[sec]: 0.198 | ETA[sec]: 0.776 "
       ]
      },
      {
       "output_type": "stream",
       "stream": "stderr",
       "text": [
        "\r",
        "[ 20 %] elapsed[sec]: 0.199 | ETA[sec]: 0.775 "
       ]
      },
      {
       "output_type": "stream",
       "stream": "stderr",
       "text": [
        "\r",
        "[ 20 %] elapsed[sec]: 0.199 | ETA[sec]: 0.773 "
       ]
      },
      {
       "output_type": "stream",
       "stream": "stderr",
       "text": [
        "\r",
        "[ 20 %] elapsed[sec]: 0.199 | ETA[sec]: 0.771 "
       ]
      },
      {
       "output_type": "stream",
       "stream": "stderr",
       "text": [
        "\r",
        "[ 20 %] elapsed[sec]: 0.200 | ETA[sec]: 0.769 "
       ]
      },
      {
       "output_type": "stream",
       "stream": "stderr",
       "text": [
        "\r",
        "[ 20 %] elapsed[sec]: 0.200 | ETA[sec]: 0.768 "
       ]
      },
      {
       "output_type": "stream",
       "stream": "stderr",
       "text": [
        "\r",
        "[ 20 %] elapsed[sec]: 0.200 | ETA[sec]: 0.766 "
       ]
      },
      {
       "output_type": "stream",
       "stream": "stderr",
       "text": [
        "\r",
        "[ 20 %] elapsed[sec]: 0.201 | ETA[sec]: 0.764 "
       ]
      },
      {
       "output_type": "stream",
       "stream": "stderr",
       "text": [
        "\r",
        "[ 20 %] elapsed[sec]: 0.201 | ETA[sec]: 0.763 "
       ]
      },
      {
       "output_type": "stream",
       "stream": "stderr",
       "text": [
        "\r",
        "[ 20 %] elapsed[sec]: 0.201 | ETA[sec]: 0.761 "
       ]
      },
      {
       "output_type": "stream",
       "stream": "stderr",
       "text": [
        "\r",
        "[ 21 %] elapsed[sec]: 0.202 | ETA[sec]: 0.759 "
       ]
      },
      {
       "output_type": "stream",
       "stream": "stderr",
       "text": [
        "\r",
        "[ 21 %] elapsed[sec]: 0.202 | ETA[sec]: 0.758 "
       ]
      },
      {
       "output_type": "stream",
       "stream": "stderr",
       "text": [
        "\r",
        "[ 21 %] elapsed[sec]: 0.203 | ETA[sec]: 0.756 "
       ]
      },
      {
       "output_type": "stream",
       "stream": "stderr",
       "text": [
        "\r",
        "[ 21 %] elapsed[sec]: 0.203 | ETA[sec]: 0.754 "
       ]
      },
      {
       "output_type": "stream",
       "stream": "stderr",
       "text": [
        "\r",
        "[ 21 %] elapsed[sec]: 0.203 | ETA[sec]: 0.753 "
       ]
      },
      {
       "output_type": "stream",
       "stream": "stderr",
       "text": [
        "\r",
        "[ 21 %] elapsed[sec]: 0.204 | ETA[sec]: 0.751 "
       ]
      },
      {
       "output_type": "stream",
       "stream": "stderr",
       "text": [
        "\r",
        "[ 21 %] elapsed[sec]: 0.204 | ETA[sec]: 0.750 "
       ]
      },
      {
       "output_type": "stream",
       "stream": "stderr",
       "text": [
        "\r",
        "[ 21 %] elapsed[sec]: 0.204 | ETA[sec]: 0.748 "
       ]
      },
      {
       "output_type": "stream",
       "stream": "stderr",
       "text": [
        "\r",
        "[ 21 %] elapsed[sec]: 0.205 | ETA[sec]: 0.747 "
       ]
      },
      {
       "output_type": "stream",
       "stream": "stderr",
       "text": [
        "\r",
        "[ 21 %] elapsed[sec]: 0.205 | ETA[sec]: 0.745 "
       ]
      },
      {
       "output_type": "stream",
       "stream": "stderr",
       "text": [
        "\r",
        "[ 21 %] elapsed[sec]: 0.206 | ETA[sec]: 0.743 "
       ]
      },
      {
       "output_type": "stream",
       "stream": "stderr",
       "text": [
        "\r",
        "[ 21 %] elapsed[sec]: 0.206 | ETA[sec]: 0.742 "
       ]
      },
      {
       "output_type": "stream",
       "stream": "stderr",
       "text": [
        "\r",
        "[ 21 %] elapsed[sec]: 0.206 | ETA[sec]: 0.740 "
       ]
      },
      {
       "output_type": "stream",
       "stream": "stderr",
       "text": [
        "\r",
        "[ 21 %] elapsed[sec]: 0.207 | ETA[sec]: 0.739 "
       ]
      },
      {
       "output_type": "stream",
       "stream": "stderr",
       "text": [
        "\r",
        "[ 21 %] elapsed[sec]: 0.219 | ETA[sec]: 0.778 "
       ]
      },
      {
       "output_type": "stream",
       "stream": "stderr",
       "text": [
        "\r",
        "[ 22 %] elapsed[sec]: 0.219 | ETA[sec]: 0.777 "
       ]
      },
      {
       "output_type": "stream",
       "stream": "stderr",
       "text": [
        "\r",
        "[ 22 %] elapsed[sec]: 0.219 | ETA[sec]: 0.775 "
       ]
      },
      {
       "output_type": "stream",
       "stream": "stderr",
       "text": [
        "\r",
        "[ 22 %] elapsed[sec]: 0.220 | ETA[sec]: 0.774 "
       ]
      },
      {
       "output_type": "stream",
       "stream": "stderr",
       "text": [
        "\r",
        "[ 22 %] elapsed[sec]: 0.221 | ETA[sec]: 0.774 "
       ]
      },
      {
       "output_type": "stream",
       "stream": "stderr",
       "text": [
        "\r",
        "[ 22 %] elapsed[sec]: 0.221 | ETA[sec]: 0.772 "
       ]
      },
      {
       "output_type": "stream",
       "stream": "stderr",
       "text": [
        "\r",
        "[ 22 %] elapsed[sec]: 0.222 | ETA[sec]: 0.770 "
       ]
      },
      {
       "output_type": "stream",
       "stream": "stderr",
       "text": [
        "\r",
        "[ 22 %] elapsed[sec]: 0.223 | ETA[sec]: 0.774 "
       ]
      },
      {
       "output_type": "stream",
       "stream": "stderr",
       "text": [
        "\r",
        "[ 22 %] elapsed[sec]: 0.224 | ETA[sec]: 0.773 "
       ]
      },
      {
       "output_type": "stream",
       "stream": "stderr",
       "text": [
        "\r",
        "[ 22 %] elapsed[sec]: 0.224 | ETA[sec]: 0.771 "
       ]
      },
      {
       "output_type": "stream",
       "stream": "stderr",
       "text": [
        "\r",
        "[ 22 %] elapsed[sec]: 0.225 | ETA[sec]: 0.771 "
       ]
      },
      {
       "output_type": "stream",
       "stream": "stderr",
       "text": [
        "\r",
        "[ 22 %] elapsed[sec]: 0.226 | ETA[sec]: 0.770 "
       ]
      },
      {
       "output_type": "stream",
       "stream": "stderr",
       "text": [
        "\r",
        "[ 22 %] elapsed[sec]: 0.226 | ETA[sec]: 0.768 "
       ]
      },
      {
       "output_type": "stream",
       "stream": "stderr",
       "text": [
        "\r",
        "[ 22 %] elapsed[sec]: 0.226 | ETA[sec]: 0.767 "
       ]
      },
      {
       "output_type": "stream",
       "stream": "stderr",
       "text": [
        "\r",
        "[ 22 %] elapsed[sec]: 0.227 | ETA[sec]: 0.765 "
       ]
      },
      {
       "output_type": "stream",
       "stream": "stderr",
       "text": [
        "\r",
        "[ 22 %] elapsed[sec]: 0.227 | ETA[sec]: 0.764 "
       ]
      },
      {
       "output_type": "stream",
       "stream": "stderr",
       "text": [
        "\r",
        "[ 23 %] elapsed[sec]: 0.228 | ETA[sec]: 0.763 "
       ]
      },
      {
       "output_type": "stream",
       "stream": "stderr",
       "text": [
        "\r",
        "[ 23 %] elapsed[sec]: 0.228 | ETA[sec]: 0.761 "
       ]
      },
      {
       "output_type": "stream",
       "stream": "stderr",
       "text": [
        "\r",
        "[ 23 %] elapsed[sec]: 0.229 | ETA[sec]: 0.760 "
       ]
      },
      {
       "output_type": "stream",
       "stream": "stderr",
       "text": [
        "\r",
        "[ 23 %] elapsed[sec]: 0.229 | ETA[sec]: 0.759 "
       ]
      },
      {
       "output_type": "stream",
       "stream": "stderr",
       "text": [
        "\r",
        "[ 23 %] elapsed[sec]: 0.230 | ETA[sec]: 0.757 "
       ]
      },
      {
       "output_type": "stream",
       "stream": "stderr",
       "text": [
        "\r",
        "[ 23 %] elapsed[sec]: 0.230 | ETA[sec]: 0.755 "
       ]
      },
      {
       "output_type": "stream",
       "stream": "stderr",
       "text": [
        "\r",
        "[ 23 %] elapsed[sec]: 0.230 | ETA[sec]: 0.754 "
       ]
      },
      {
       "output_type": "stream",
       "stream": "stderr",
       "text": [
        "\r",
        "[ 23 %] elapsed[sec]: 0.239 | ETA[sec]: 0.780 "
       ]
      },
      {
       "output_type": "stream",
       "stream": "stderr",
       "text": [
        "\r",
        "[ 23 %] elapsed[sec]: 0.240 | ETA[sec]: 0.778 "
       ]
      },
      {
       "output_type": "stream",
       "stream": "stderr",
       "text": [
        "\r",
        "[ 23 %] elapsed[sec]: 0.240 | ETA[sec]: 0.777 "
       ]
      },
      {
       "output_type": "stream",
       "stream": "stderr",
       "text": [
        "\r",
        "[ 23 %] elapsed[sec]: 0.241 | ETA[sec]: 0.776 "
       ]
      },
      {
       "output_type": "stream",
       "stream": "stderr",
       "text": [
        "\r",
        "[ 23 %] elapsed[sec]: 0.241 | ETA[sec]: 0.775 "
       ]
      },
      {
       "output_type": "stream",
       "stream": "stderr",
       "text": [
        "\r",
        "[ 23 %] elapsed[sec]: 0.242 | ETA[sec]: 0.773 "
       ]
      },
      {
       "output_type": "stream",
       "stream": "stderr",
       "text": [
        "\r",
        "[ 23 %] elapsed[sec]: 0.242 | ETA[sec]: 0.772 "
       ]
      },
      {
       "output_type": "stream",
       "stream": "stderr",
       "text": [
        "\r",
        "[ 23 %] elapsed[sec]: 0.242 | ETA[sec]: 0.771 "
       ]
      },
      {
       "output_type": "stream",
       "stream": "stderr",
       "text": [
        "\r",
        "[ 24 %] elapsed[sec]: 0.243 | ETA[sec]: 0.769 "
       ]
      },
      {
       "output_type": "stream",
       "stream": "stderr",
       "text": [
        "\r",
        "[ 24 %] elapsed[sec]: 0.243 | ETA[sec]: 0.768 "
       ]
      },
      {
       "output_type": "stream",
       "stream": "stderr",
       "text": [
        "\r",
        "[ 24 %] elapsed[sec]: 0.244 | ETA[sec]: 0.766 "
       ]
      },
      {
       "output_type": "stream",
       "stream": "stderr",
       "text": [
        "\r",
        "[ 24 %] elapsed[sec]: 0.244 | ETA[sec]: 0.764 "
       ]
      },
      {
       "output_type": "stream",
       "stream": "stderr",
       "text": [
        "\r",
        "[ 24 %] elapsed[sec]: 0.244 | ETA[sec]: 0.763 "
       ]
      },
      {
       "output_type": "stream",
       "stream": "stderr",
       "text": [
        "\r",
        "[ 24 %] elapsed[sec]: 0.245 | ETA[sec]: 0.761 "
       ]
      },
      {
       "output_type": "stream",
       "stream": "stderr",
       "text": [
        "\r",
        "[ 24 %] elapsed[sec]: 0.245 | ETA[sec]: 0.760 "
       ]
      },
      {
       "output_type": "stream",
       "stream": "stderr",
       "text": [
        "\r",
        "[ 24 %] elapsed[sec]: 0.245 | ETA[sec]: 0.758 "
       ]
      },
      {
       "output_type": "stream",
       "stream": "stderr",
       "text": [
        "\r",
        "[ 24 %] elapsed[sec]: 0.246 | ETA[sec]: 0.756 "
       ]
      },
      {
       "output_type": "stream",
       "stream": "stderr",
       "text": [
        "\r",
        "[ 24 %] elapsed[sec]: 0.246 | ETA[sec]: 0.755 "
       ]
      },
      {
       "output_type": "stream",
       "stream": "stderr",
       "text": [
        "\r",
        "[ 24 %] elapsed[sec]: 0.247 | ETA[sec]: 0.753 "
       ]
      },
      {
       "output_type": "stream",
       "stream": "stderr",
       "text": [
        "\r",
        "[ 24 %] elapsed[sec]: 0.247 | ETA[sec]: 0.752 "
       ]
      },
      {
       "output_type": "stream",
       "stream": "stderr",
       "text": [
        "\r",
        "[ 24 %] elapsed[sec]: 0.247 | ETA[sec]: 0.750 "
       ]
      },
      {
       "output_type": "stream",
       "stream": "stderr",
       "text": [
        "\r",
        "[ 24 %] elapsed[sec]: 0.248 | ETA[sec]: 0.748 "
       ]
      },
      {
       "output_type": "stream",
       "stream": "stderr",
       "text": [
        "\r",
        "[ 24 %] elapsed[sec]: 0.249 | ETA[sec]: 0.751 "
       ]
      },
      {
       "output_type": "stream",
       "stream": "stderr",
       "text": [
        "\r",
        "[ 25 %] elapsed[sec]: 0.250 | ETA[sec]: 0.750 "
       ]
      },
      {
       "output_type": "stream",
       "stream": "stderr",
       "text": [
        "\r",
        "[ 25 %] elapsed[sec]: 0.250 | ETA[sec]: 0.748 "
       ]
      },
      {
       "output_type": "stream",
       "stream": "stderr",
       "text": [
        "\r",
        "[ 25 %] elapsed[sec]: 0.254 | ETA[sec]: 0.755 "
       ]
      },
      {
       "output_type": "stream",
       "stream": "stderr",
       "text": [
        "\r",
        "[ 25 %] elapsed[sec]: 0.254 | ETA[sec]: 0.754 "
       ]
      },
      {
       "output_type": "stream",
       "stream": "stderr",
       "text": [
        "\r",
        "[ 25 %] elapsed[sec]: 0.255 | ETA[sec]: 0.753 "
       ]
      },
      {
       "output_type": "stream",
       "stream": "stderr",
       "text": [
        "\r",
        "[ 25 %] elapsed[sec]: 0.255 | ETA[sec]: 0.752 "
       ]
      },
      {
       "output_type": "stream",
       "stream": "stderr",
       "text": [
        "\r",
        "[ 25 %] elapsed[sec]: 0.255 | ETA[sec]: 0.750 "
       ]
      },
      {
       "output_type": "stream",
       "stream": "stderr",
       "text": [
        "\r",
        "[ 25 %] elapsed[sec]: 0.256 | ETA[sec]: 0.749 "
       ]
      },
      {
       "output_type": "stream",
       "stream": "stderr",
       "text": [
        "\r",
        "[ 25 %] elapsed[sec]: 0.256 | ETA[sec]: 0.748 "
       ]
      },
      {
       "output_type": "stream",
       "stream": "stderr",
       "text": [
        "\r",
        "[ 25 %] elapsed[sec]: 0.257 | ETA[sec]: 0.746 "
       ]
      },
      {
       "output_type": "stream",
       "stream": "stderr",
       "text": [
        "\r",
        "[ 25 %] elapsed[sec]: 0.257 | ETA[sec]: 0.745 "
       ]
      },
      {
       "output_type": "stream",
       "stream": "stderr",
       "text": [
        "\r",
        "[ 25 %] elapsed[sec]: 0.258 | ETA[sec]: 0.743 "
       ]
      },
      {
       "output_type": "stream",
       "stream": "stderr",
       "text": [
        "\r",
        "[ 25 %] elapsed[sec]: 0.258 | ETA[sec]: 0.743 "
       ]
      },
      {
       "output_type": "stream",
       "stream": "stderr",
       "text": [
        "\r",
        "[ 25 %] elapsed[sec]: 0.259 | ETA[sec]: 0.742 "
       ]
      },
      {
       "output_type": "stream",
       "stream": "stderr",
       "text": [
        "\r",
        "[ 25 %] elapsed[sec]: 0.259 | ETA[sec]: 0.741 "
       ]
      },
      {
       "output_type": "stream",
       "stream": "stderr",
       "text": [
        "\r",
        "[ 26 %] elapsed[sec]: 0.260 | ETA[sec]: 0.739 "
       ]
      },
      {
       "output_type": "stream",
       "stream": "stderr",
       "text": [
        "\r",
        "[ 26 %] elapsed[sec]: 0.260 | ETA[sec]: 0.738 "
       ]
      },
      {
       "output_type": "stream",
       "stream": "stderr",
       "text": [
        "\r",
        "[ 26 %] elapsed[sec]: 0.260 | ETA[sec]: 0.736 "
       ]
      },
      {
       "output_type": "stream",
       "stream": "stderr",
       "text": [
        "\r",
        "[ 26 %] elapsed[sec]: 0.261 | ETA[sec]: 0.735 "
       ]
      },
      {
       "output_type": "stream",
       "stream": "stderr",
       "text": [
        "\r",
        "[ 26 %] elapsed[sec]: 0.261 | ETA[sec]: 0.734 "
       ]
      },
      {
       "output_type": "stream",
       "stream": "stderr",
       "text": [
        "\r",
        "[ 26 %] elapsed[sec]: 0.262 | ETA[sec]: 0.732 "
       ]
      },
      {
       "output_type": "stream",
       "stream": "stderr",
       "text": [
        "\r",
        "[ 26 %] elapsed[sec]: 0.262 | ETA[sec]: 0.731 "
       ]
      },
      {
       "output_type": "stream",
       "stream": "stderr",
       "text": [
        "\r",
        "[ 26 %] elapsed[sec]: 0.262 | ETA[sec]: 0.729 "
       ]
      },
      {
       "output_type": "stream",
       "stream": "stderr",
       "text": [
        "\r",
        "[ 26 %] elapsed[sec]: 0.263 | ETA[sec]: 0.728 "
       ]
      },
      {
       "output_type": "stream",
       "stream": "stderr",
       "text": [
        "\r",
        "[ 26 %] elapsed[sec]: 0.263 | ETA[sec]: 0.726 "
       ]
      },
      {
       "output_type": "stream",
       "stream": "stderr",
       "text": [
        "\r",
        "[ 26 %] elapsed[sec]: 0.264 | ETA[sec]: 0.725 "
       ]
      },
      {
       "output_type": "stream",
       "stream": "stderr",
       "text": [
        "\r",
        "[ 26 %] elapsed[sec]: 0.273 | ETA[sec]: 0.748 "
       ]
      },
      {
       "output_type": "stream",
       "stream": "stderr",
       "text": [
        "\r",
        "[ 26 %] elapsed[sec]: 0.273 | ETA[sec]: 0.748 "
       ]
      },
      {
       "output_type": "stream",
       "stream": "stderr",
       "text": [
        "\r",
        "[ 26 %] elapsed[sec]: 0.274 | ETA[sec]: 0.747 "
       ]
      },
      {
       "output_type": "stream",
       "stream": "stderr",
       "text": [
        "\r",
        "[ 26 %] elapsed[sec]: 0.275 | ETA[sec]: 0.746 "
       ]
      },
      {
       "output_type": "stream",
       "stream": "stderr",
       "text": [
        "\r",
        "[ 27 %] elapsed[sec]: 0.275 | ETA[sec]: 0.745 "
       ]
      },
      {
       "output_type": "stream",
       "stream": "stderr",
       "text": [
        "\r",
        "[ 27 %] elapsed[sec]: 0.276 | ETA[sec]: 0.743 "
       ]
      },
      {
       "output_type": "stream",
       "stream": "stderr",
       "text": [
        "\r",
        "[ 27 %] elapsed[sec]: 0.276 | ETA[sec]: 0.742 "
       ]
      },
      {
       "output_type": "stream",
       "stream": "stderr",
       "text": [
        "\r",
        "[ 27 %] elapsed[sec]: 0.278 | ETA[sec]: 0.744 "
       ]
      },
      {
       "output_type": "stream",
       "stream": "stderr",
       "text": [
        "\r",
        "[ 27 %] elapsed[sec]: 0.279 | ETA[sec]: 0.743 "
       ]
      },
      {
       "output_type": "stream",
       "stream": "stderr",
       "text": [
        "\r",
        "[ 27 %] elapsed[sec]: 0.279 | ETA[sec]: 0.742 "
       ]
      },
      {
       "output_type": "stream",
       "stream": "stderr",
       "text": [
        "\r",
        "[ 27 %] elapsed[sec]: 0.279 | ETA[sec]: 0.740 "
       ]
      },
      {
       "output_type": "stream",
       "stream": "stderr",
       "text": [
        "\r",
        "[ 27 %] elapsed[sec]: 0.280 | ETA[sec]: 0.739 "
       ]
      },
      {
       "output_type": "stream",
       "stream": "stderr",
       "text": [
        "\r",
        "[ 27 %] elapsed[sec]: 0.280 | ETA[sec]: 0.737 "
       ]
      },
      {
       "output_type": "stream",
       "stream": "stderr",
       "text": [
        "\r",
        "[ 27 %] elapsed[sec]: 0.281 | ETA[sec]: 0.736 "
       ]
      },
      {
       "output_type": "stream",
       "stream": "stderr",
       "text": [
        "\r",
        "[ 27 %] elapsed[sec]: 0.281 | ETA[sec]: 0.734 "
       ]
      },
      {
       "output_type": "stream",
       "stream": "stderr",
       "text": [
        "\r",
        "[ 27 %] elapsed[sec]: 0.281 | ETA[sec]: 0.733 "
       ]
      },
      {
       "output_type": "stream",
       "stream": "stderr",
       "text": [
        "\r",
        "[ 27 %] elapsed[sec]: 0.282 | ETA[sec]: 0.732 "
       ]
      },
      {
       "output_type": "stream",
       "stream": "stderr",
       "text": [
        "\r",
        "[ 27 %] elapsed[sec]: 0.282 | ETA[sec]: 0.730 "
       ]
      },
      {
       "output_type": "stream",
       "stream": "stderr",
       "text": [
        "\r",
        "[ 27 %] elapsed[sec]: 0.283 | ETA[sec]: 0.730 "
       ]
      },
      {
       "output_type": "stream",
       "stream": "stderr",
       "text": [
        "\r",
        "[ 28 %] elapsed[sec]: 0.284 | ETA[sec]: 0.730 "
       ]
      },
      {
       "output_type": "stream",
       "stream": "stderr",
       "text": [
        "\r",
        "[ 28 %] elapsed[sec]: 0.284 | ETA[sec]: 0.728 "
       ]
      },
      {
       "output_type": "stream",
       "stream": "stderr",
       "text": [
        "\r",
        "[ 28 %] elapsed[sec]: 0.285 | ETA[sec]: 0.727 "
       ]
      },
      {
       "output_type": "stream",
       "stream": "stderr",
       "text": [
        "\r",
        "[ 28 %] elapsed[sec]: 0.285 | ETA[sec]: 0.725 "
       ]
      },
      {
       "output_type": "stream",
       "stream": "stderr",
       "text": [
        "\r",
        "[ 28 %] elapsed[sec]: 0.285 | ETA[sec]: 0.724 "
       ]
      },
      {
       "output_type": "stream",
       "stream": "stderr",
       "text": [
        "\r",
        "[ 28 %] elapsed[sec]: 0.294 | ETA[sec]: 0.743 "
       ]
      },
      {
       "output_type": "stream",
       "stream": "stderr",
       "text": [
        "\r",
        "[ 28 %] elapsed[sec]: 0.294 | ETA[sec]: 0.742 "
       ]
      },
      {
       "output_type": "stream",
       "stream": "stderr",
       "text": [
        "\r",
        "[ 28 %] elapsed[sec]: 0.295 | ETA[sec]: 0.740 "
       ]
      },
      {
       "output_type": "stream",
       "stream": "stderr",
       "text": [
        "\r",
        "[ 28 %] elapsed[sec]: 0.295 | ETA[sec]: 0.739 "
       ]
      },
      {
       "output_type": "stream",
       "stream": "stderr",
       "text": [
        "\r",
        "[ 28 %] elapsed[sec]: 0.296 | ETA[sec]: 0.738 "
       ]
      },
      {
       "output_type": "stream",
       "stream": "stderr",
       "text": [
        "\r",
        "[ 28 %] elapsed[sec]: 0.296 | ETA[sec]: 0.737 "
       ]
      },
      {
       "output_type": "stream",
       "stream": "stderr",
       "text": [
        "\r",
        "[ 28 %] elapsed[sec]: 0.297 | ETA[sec]: 0.736 "
       ]
      },
      {
       "output_type": "stream",
       "stream": "stderr",
       "text": [
        "\r",
        "[ 28 %] elapsed[sec]: 0.297 | ETA[sec]: 0.735 "
       ]
      },
      {
       "output_type": "stream",
       "stream": "stderr",
       "text": [
        "\r",
        "[ 28 %] elapsed[sec]: 0.298 | ETA[sec]: 0.734 "
       ]
      },
      {
       "output_type": "stream",
       "stream": "stderr",
       "text": [
        "\r",
        "[ 28 %] elapsed[sec]: 0.298 | ETA[sec]: 0.733 "
       ]
      },
      {
       "output_type": "stream",
       "stream": "stderr",
       "text": [
        "\r",
        "[ 29 %] elapsed[sec]: 0.299 | ETA[sec]: 0.732 "
       ]
      },
      {
       "output_type": "stream",
       "stream": "stderr",
       "text": [
        "\r",
        "[ 29 %] elapsed[sec]: 0.299 | ETA[sec]: 0.731 "
       ]
      },
      {
       "output_type": "stream",
       "stream": "stderr",
       "text": [
        "\r",
        "[ 29 %] elapsed[sec]: 0.300 | ETA[sec]: 0.729 "
       ]
      },
      {
       "output_type": "stream",
       "stream": "stderr",
       "text": [
        "\r",
        "[ 29 %] elapsed[sec]: 0.300 | ETA[sec]: 0.728 "
       ]
      },
      {
       "output_type": "stream",
       "stream": "stderr",
       "text": [
        "\r",
        "[ 29 %] elapsed[sec]: 0.300 | ETA[sec]: 0.726 "
       ]
      },
      {
       "output_type": "stream",
       "stream": "stderr",
       "text": [
        "\r",
        "[ 29 %] elapsed[sec]: 0.301 | ETA[sec]: 0.725 "
       ]
      },
      {
       "output_type": "stream",
       "stream": "stderr",
       "text": [
        "\r",
        "[ 29 %] elapsed[sec]: 0.301 | ETA[sec]: 0.723 "
       ]
      },
      {
       "output_type": "stream",
       "stream": "stderr",
       "text": [
        "\r",
        "[ 29 %] elapsed[sec]: 0.302 | ETA[sec]: 0.722 "
       ]
      },
      {
       "output_type": "stream",
       "stream": "stderr",
       "text": [
        "\r",
        "[ 29 %] elapsed[sec]: 0.303 | ETA[sec]: 0.722 "
       ]
      },
      {
       "output_type": "stream",
       "stream": "stderr",
       "text": [
        "\r",
        "[ 29 %] elapsed[sec]: 0.303 | ETA[sec]: 0.720 "
       ]
      },
      {
       "output_type": "stream",
       "stream": "stderr",
       "text": [
        "\r",
        "[ 29 %] elapsed[sec]: 0.303 | ETA[sec]: 0.719 "
       ]
      },
      {
       "output_type": "stream",
       "stream": "stderr",
       "text": [
        "\r",
        "[ 29 %] elapsed[sec]: 0.304 | ETA[sec]: 0.718 "
       ]
      },
      {
       "output_type": "stream",
       "stream": "stderr",
       "text": [
        "\r",
        "[ 29 %] elapsed[sec]: 0.304 | ETA[sec]: 0.716 "
       ]
      },
      {
       "output_type": "stream",
       "stream": "stderr",
       "text": [
        "\r",
        "[ 29 %] elapsed[sec]: 0.304 | ETA[sec]: 0.715 "
       ]
      },
      {
       "output_type": "stream",
       "stream": "stderr",
       "text": [
        "\r",
        "[ 29 %] elapsed[sec]: 0.310 | ETA[sec]: 0.726 "
       ]
      },
      {
       "output_type": "stream",
       "stream": "stderr",
       "text": [
        "\r",
        "[ 30 %] elapsed[sec]: 0.311 | ETA[sec]: 0.725 "
       ]
      },
      {
       "output_type": "stream",
       "stream": "stderr",
       "text": [
        "\r",
        "[ 30 %] elapsed[sec]: 0.311 | ETA[sec]: 0.724 "
       ]
      },
      {
       "output_type": "stream",
       "stream": "stderr",
       "text": [
        "\r",
        "[ 30 %] elapsed[sec]: 0.312 | ETA[sec]: 0.722 "
       ]
      },
      {
       "output_type": "stream",
       "stream": "stderr",
       "text": [
        "\r",
        "[ 30 %] elapsed[sec]: 0.312 | ETA[sec]: 0.721 "
       ]
      },
      {
       "output_type": "stream",
       "stream": "stderr",
       "text": [
        "\r",
        "[ 30 %] elapsed[sec]: 0.312 | ETA[sec]: 0.720 "
       ]
      },
      {
       "output_type": "stream",
       "stream": "stderr",
       "text": [
        "\r",
        "[ 30 %] elapsed[sec]: 0.313 | ETA[sec]: 0.718 "
       ]
      },
      {
       "output_type": "stream",
       "stream": "stderr",
       "text": [
        "\r",
        "[ 30 %] elapsed[sec]: 0.313 | ETA[sec]: 0.717 "
       ]
      },
      {
       "output_type": "stream",
       "stream": "stderr",
       "text": [
        "\r",
        "[ 30 %] elapsed[sec]: 0.313 | ETA[sec]: 0.716 "
       ]
      },
      {
       "output_type": "stream",
       "stream": "stderr",
       "text": [
        "\r",
        "[ 30 %] elapsed[sec]: 0.323 | ETA[sec]: 0.735 "
       ]
      },
      {
       "output_type": "stream",
       "stream": "stderr",
       "text": [
        "\r",
        "[ 30 %] elapsed[sec]: 0.324 | ETA[sec]: 0.734 "
       ]
      },
      {
       "output_type": "stream",
       "stream": "stderr",
       "text": [
        "\r",
        "[ 30 %] elapsed[sec]: 0.324 | ETA[sec]: 0.733 "
       ]
      },
      {
       "output_type": "stream",
       "stream": "stderr",
       "text": [
        "\r",
        "[ 30 %] elapsed[sec]: 0.324 | ETA[sec]: 0.731 "
       ]
      },
      {
       "output_type": "stream",
       "stream": "stderr",
       "text": [
        "\r",
        "[ 30 %] elapsed[sec]: 0.325 | ETA[sec]: 0.730 "
       ]
      },
      {
       "output_type": "stream",
       "stream": "stderr",
       "text": [
        "\r",
        "[ 30 %] elapsed[sec]: 0.325 | ETA[sec]: 0.728 "
       ]
      },
      {
       "output_type": "stream",
       "stream": "stderr",
       "text": [
        "\r",
        "[ 30 %] elapsed[sec]: 0.326 | ETA[sec]: 0.727 "
       ]
      },
      {
       "output_type": "stream",
       "stream": "stderr",
       "text": [
        "\r",
        "[ 31 %] elapsed[sec]: 0.326 | ETA[sec]: 0.726 "
       ]
      },
      {
       "output_type": "stream",
       "stream": "stderr",
       "text": [
        "\r",
        "[ 31 %] elapsed[sec]: 0.326 | ETA[sec]: 0.724 "
       ]
      },
      {
       "output_type": "stream",
       "stream": "stderr",
       "text": [
        "\r",
        "[ 31 %] elapsed[sec]: 0.327 | ETA[sec]: 0.723 "
       ]
      },
      {
       "output_type": "stream",
       "stream": "stderr",
       "text": [
        "\r",
        "[ 31 %] elapsed[sec]: 0.327 | ETA[sec]: 0.722 "
       ]
      },
      {
       "output_type": "stream",
       "stream": "stderr",
       "text": [
        "\r",
        "[ 31 %] elapsed[sec]: 0.328 | ETA[sec]: 0.720 "
       ]
      },
      {
       "output_type": "stream",
       "stream": "stderr",
       "text": [
        "\r",
        "[ 31 %] elapsed[sec]: 0.328 | ETA[sec]: 0.719 "
       ]
      },
      {
       "output_type": "stream",
       "stream": "stderr",
       "text": [
        "\r",
        "[ 31 %] elapsed[sec]: 0.328 | ETA[sec]: 0.717 "
       ]
      },
      {
       "output_type": "stream",
       "stream": "stderr",
       "text": [
        "\r",
        "[ 31 %] elapsed[sec]: 0.329 | ETA[sec]: 0.716 "
       ]
      },
      {
       "output_type": "stream",
       "stream": "stderr",
       "text": [
        "\r",
        "[ 31 %] elapsed[sec]: 0.329 | ETA[sec]: 0.715 "
       ]
      },
      {
       "output_type": "stream",
       "stream": "stderr",
       "text": [
        "\r",
        "[ 31 %] elapsed[sec]: 0.330 | ETA[sec]: 0.713 "
       ]
      },
      {
       "output_type": "stream",
       "stream": "stderr",
       "text": [
        "\r",
        "[ 31 %] elapsed[sec]: 0.330 | ETA[sec]: 0.712 "
       ]
      },
      {
       "output_type": "stream",
       "stream": "stderr",
       "text": [
        "\r",
        "[ 31 %] elapsed[sec]: 0.330 | ETA[sec]: 0.711 "
       ]
      },
      {
       "output_type": "stream",
       "stream": "stderr",
       "text": [
        "\r",
        "[ 31 %] elapsed[sec]: 0.331 | ETA[sec]: 0.709 "
       ]
      },
      {
       "output_type": "stream",
       "stream": "stderr",
       "text": [
        "\r",
        "[ 31 %] elapsed[sec]: 0.331 | ETA[sec]: 0.708 "
       ]
      },
      {
       "output_type": "stream",
       "stream": "stderr",
       "text": [
        "\r",
        "[ 31 %] elapsed[sec]: 0.332 | ETA[sec]: 0.708 "
       ]
      },
      {
       "output_type": "stream",
       "stream": "stderr",
       "text": [
        "\r",
        "[ 32 %] elapsed[sec]: 0.332 | ETA[sec]: 0.706 "
       ]
      },
      {
       "output_type": "stream",
       "stream": "stderr",
       "text": [
        "\r",
        "[ 32 %] elapsed[sec]: 0.333 | ETA[sec]: 0.705 "
       ]
      },
      {
       "output_type": "stream",
       "stream": "stderr",
       "text": [
        "\r",
        "[ 32 %] elapsed[sec]: 0.333 | ETA[sec]: 0.704 "
       ]
      },
      {
       "output_type": "stream",
       "stream": "stderr",
       "text": [
        "\r",
        "[ 32 %] elapsed[sec]: 0.336 | ETA[sec]: 0.708 "
       ]
      },
      {
       "output_type": "stream",
       "stream": "stderr",
       "text": [
        "\r",
        "[ 32 %] elapsed[sec]: 0.337 | ETA[sec]: 0.707 "
       ]
      },
      {
       "output_type": "stream",
       "stream": "stderr",
       "text": [
        "\r",
        "[ 32 %] elapsed[sec]: 0.337 | ETA[sec]: 0.706 "
       ]
      },
      {
       "output_type": "stream",
       "stream": "stderr",
       "text": [
        "\r",
        "[ 32 %] elapsed[sec]: 0.338 | ETA[sec]: 0.704 "
       ]
      },
      {
       "output_type": "stream",
       "stream": "stderr",
       "text": [
        "\r",
        "[ 32 %] elapsed[sec]: 0.338 | ETA[sec]: 0.703 "
       ]
      },
      {
       "output_type": "stream",
       "stream": "stderr",
       "text": [
        "\r",
        "[ 32 %] elapsed[sec]: 0.338 | ETA[sec]: 0.702 "
       ]
      },
      {
       "output_type": "stream",
       "stream": "stderr",
       "text": [
        "\r",
        "[ 32 %] elapsed[sec]: 0.339 | ETA[sec]: 0.700 "
       ]
      },
      {
       "output_type": "stream",
       "stream": "stderr",
       "text": [
        "\r",
        "[ 32 %] elapsed[sec]: 0.339 | ETA[sec]: 0.699 "
       ]
      },
      {
       "output_type": "stream",
       "stream": "stderr",
       "text": [
        "\r",
        "[ 32 %] elapsed[sec]: 0.339 | ETA[sec]: 0.698 "
       ]
      },
      {
       "output_type": "stream",
       "stream": "stderr",
       "text": [
        "\r",
        "[ 32 %] elapsed[sec]: 0.340 | ETA[sec]: 0.696 "
       ]
      },
      {
       "output_type": "stream",
       "stream": "stderr",
       "text": [
        "\r",
        "[ 32 %] elapsed[sec]: 0.340 | ETA[sec]: 0.695 "
       ]
      },
      {
       "output_type": "stream",
       "stream": "stderr",
       "text": [
        "\r",
        "[ 32 %] elapsed[sec]: 0.341 | ETA[sec]: 0.693 "
       ]
      },
      {
       "output_type": "stream",
       "stream": "stderr",
       "text": [
        "\r",
        "[ 33 %] elapsed[sec]: 0.341 | ETA[sec]: 0.692 "
       ]
      },
      {
       "output_type": "stream",
       "stream": "stderr",
       "text": [
        "\r",
        "[ 33 %] elapsed[sec]: 0.341 | ETA[sec]: 0.691 "
       ]
      },
      {
       "output_type": "stream",
       "stream": "stderr",
       "text": [
        "\r",
        "[ 33 %] elapsed[sec]: 0.342 | ETA[sec]: 0.689 "
       ]
      },
      {
       "output_type": "stream",
       "stream": "stderr",
       "text": [
        "\r",
        "[ 33 %] elapsed[sec]: 0.342 | ETA[sec]: 0.688 "
       ]
      },
      {
       "output_type": "stream",
       "stream": "stderr",
       "text": [
        "\r",
        "[ 33 %] elapsed[sec]: 0.342 | ETA[sec]: 0.687 "
       ]
      },
      {
       "output_type": "stream",
       "stream": "stderr",
       "text": [
        "\r",
        "[ 33 %] elapsed[sec]: 0.343 | ETA[sec]: 0.685 "
       ]
      },
      {
       "output_type": "stream",
       "stream": "stderr",
       "text": [
        "\r",
        "[ 33 %] elapsed[sec]: 0.343 | ETA[sec]: 0.684 "
       ]
      },
      {
       "output_type": "stream",
       "stream": "stderr",
       "text": [
        "\r",
        "[ 33 %] elapsed[sec]: 0.343 | ETA[sec]: 0.683 "
       ]
      },
      {
       "output_type": "stream",
       "stream": "stderr",
       "text": [
        "\r",
        "[ 33 %] elapsed[sec]: 0.344 | ETA[sec]: 0.682 "
       ]
      },
      {
       "output_type": "stream",
       "stream": "stderr",
       "text": [
        "\r",
        "[ 33 %] elapsed[sec]: 0.344 | ETA[sec]: 0.680 "
       ]
      },
      {
       "output_type": "stream",
       "stream": "stderr",
       "text": [
        "\r",
        "[ 33 %] elapsed[sec]: 0.345 | ETA[sec]: 0.679 "
       ]
      },
      {
       "output_type": "stream",
       "stream": "stderr",
       "text": [
        "\r",
        "[ 33 %] elapsed[sec]: 0.345 | ETA[sec]: 0.678 "
       ]
      },
      {
       "output_type": "stream",
       "stream": "stderr",
       "text": [
        "\r",
        "[ 33 %] elapsed[sec]: 0.345 | ETA[sec]: 0.676 "
       ]
      },
      {
       "output_type": "stream",
       "stream": "stderr",
       "text": [
        "\r",
        "[ 33 %] elapsed[sec]: 0.346 | ETA[sec]: 0.675 "
       ]
      },
      {
       "output_type": "stream",
       "stream": "stderr",
       "text": [
        "\r",
        "[ 33 %] elapsed[sec]: 0.357 | ETA[sec]: 0.695 "
       ]
      },
      {
       "output_type": "stream",
       "stream": "stderr",
       "text": [
        "\r",
        "[ 34 %] elapsed[sec]: 0.357 | ETA[sec]: 0.694 "
       ]
      },
      {
       "output_type": "stream",
       "stream": "stderr",
       "text": [
        "\r",
        "[ 34 %] elapsed[sec]: 0.358 | ETA[sec]: 0.692 "
       ]
      },
      {
       "output_type": "stream",
       "stream": "stderr",
       "text": [
        "\r",
        "[ 34 %] elapsed[sec]: 0.358 | ETA[sec]: 0.691 "
       ]
      },
      {
       "output_type": "stream",
       "stream": "stderr",
       "text": [
        "\r",
        "[ 34 %] elapsed[sec]: 0.359 | ETA[sec]: 0.690 "
       ]
      },
      {
       "output_type": "stream",
       "stream": "stderr",
       "text": [
        "\r",
        "[ 34 %] elapsed[sec]: 0.359 | ETA[sec]: 0.689 "
       ]
      },
      {
       "output_type": "stream",
       "stream": "stderr",
       "text": [
        "\r",
        "[ 34 %] elapsed[sec]: 0.359 | ETA[sec]: 0.687 "
       ]
      },
      {
       "output_type": "stream",
       "stream": "stderr",
       "text": [
        "\r",
        "[ 34 %] elapsed[sec]: 0.360 | ETA[sec]: 0.686 "
       ]
      },
      {
       "output_type": "stream",
       "stream": "stderr",
       "text": [
        "\r",
        "[ 34 %] elapsed[sec]: 0.360 | ETA[sec]: 0.685 "
       ]
      },
      {
       "output_type": "stream",
       "stream": "stderr",
       "text": [
        "\r",
        "[ 34 %] elapsed[sec]: 0.360 | ETA[sec]: 0.683 "
       ]
      },
      {
       "output_type": "stream",
       "stream": "stderr",
       "text": [
        "\r",
        "[ 34 %] elapsed[sec]: 0.361 | ETA[sec]: 0.682 "
       ]
      },
      {
       "output_type": "stream",
       "stream": "stderr",
       "text": [
        "\r",
        "[ 34 %] elapsed[sec]: 0.361 | ETA[sec]: 0.681 "
       ]
      },
      {
       "output_type": "stream",
       "stream": "stderr",
       "text": [
        "\r",
        "[ 34 %] elapsed[sec]: 0.362 | ETA[sec]: 0.680 "
       ]
      },
      {
       "output_type": "stream",
       "stream": "stderr",
       "text": [
        "\r",
        "[ 34 %] elapsed[sec]: 0.362 | ETA[sec]: 0.679 "
       ]
      },
      {
       "output_type": "stream",
       "stream": "stderr",
       "text": [
        "\r",
        "[ 34 %] elapsed[sec]: 0.363 | ETA[sec]: 0.678 "
       ]
      },
      {
       "output_type": "stream",
       "stream": "stderr",
       "text": [
        "\r",
        "[ 34 %] elapsed[sec]: 0.363 | ETA[sec]: 0.677 "
       ]
      },
      {
       "output_type": "stream",
       "stream": "stderr",
       "text": [
        "\r",
        "[ 35 %] elapsed[sec]: 0.364 | ETA[sec]: 0.675 "
       ]
      },
      {
       "output_type": "stream",
       "stream": "stderr",
       "text": [
        "\r",
        "[ 35 %] elapsed[sec]: 0.364 | ETA[sec]: 0.674 "
       ]
      },
      {
       "output_type": "stream",
       "stream": "stderr",
       "text": [
        "\r",
        "[ 35 %] elapsed[sec]: 0.364 | ETA[sec]: 0.673 "
       ]
      },
      {
       "output_type": "stream",
       "stream": "stderr",
       "text": [
        "\r",
        "[ 35 %] elapsed[sec]: 0.365 | ETA[sec]: 0.672 "
       ]
      },
      {
       "output_type": "stream",
       "stream": "stderr",
       "text": [
        "\r",
        "[ 35 %] elapsed[sec]: 0.365 | ETA[sec]: 0.670 "
       ]
      },
      {
       "output_type": "stream",
       "stream": "stderr",
       "text": [
        "\r",
        "[ 35 %] elapsed[sec]: 0.366 | ETA[sec]: 0.669 "
       ]
      },
      {
       "output_type": "stream",
       "stream": "stderr",
       "text": [
        "\r",
        "[ 35 %] elapsed[sec]: 0.366 | ETA[sec]: 0.668 "
       ]
      },
      {
       "output_type": "stream",
       "stream": "stderr",
       "text": [
        "\r",
        "[ 35 %] elapsed[sec]: 0.366 | ETA[sec]: 0.667 "
       ]
      },
      {
       "output_type": "stream",
       "stream": "stderr",
       "text": [
        "\r",
        "[ 35 %] elapsed[sec]: 0.367 | ETA[sec]: 0.665 "
       ]
      },
      {
       "output_type": "stream",
       "stream": "stderr",
       "text": [
        "\r",
        "[ 35 %] elapsed[sec]: 0.368 | ETA[sec]: 0.666 "
       ]
      },
      {
       "output_type": "stream",
       "stream": "stderr",
       "text": [
        "\r",
        "[ 35 %] elapsed[sec]: 0.368 | ETA[sec]: 0.665 "
       ]
      },
      {
       "output_type": "stream",
       "stream": "stderr",
       "text": [
        "\r",
        "[ 35 %] elapsed[sec]: 0.369 | ETA[sec]: 0.663 "
       ]
      },
      {
       "output_type": "stream",
       "stream": "stderr",
       "text": [
        "\r",
        "[ 35 %] elapsed[sec]: 0.369 | ETA[sec]: 0.662 "
       ]
      },
      {
       "output_type": "stream",
       "stream": "stderr",
       "text": [
        "\r",
        "[ 35 %] elapsed[sec]: 0.370 | ETA[sec]: 0.661 "
       ]
      },
      {
       "output_type": "stream",
       "stream": "stderr",
       "text": [
        "\r",
        "[ 35 %] elapsed[sec]: 0.370 | ETA[sec]: 0.660 "
       ]
      },
      {
       "output_type": "stream",
       "stream": "stderr",
       "text": [
        "\r",
        "[ 36 %] elapsed[sec]: 0.370 | ETA[sec]: 0.658 "
       ]
      },
      {
       "output_type": "stream",
       "stream": "stderr",
       "text": [
        "\r",
        "[ 36 %] elapsed[sec]: 0.371 | ETA[sec]: 0.657 "
       ]
      },
      {
       "output_type": "stream",
       "stream": "stderr",
       "text": [
        "\r",
        "[ 36 %] elapsed[sec]: 0.371 | ETA[sec]: 0.656 "
       ]
      },
      {
       "output_type": "stream",
       "stream": "stderr",
       "text": [
        "\r",
        "[ 36 %] elapsed[sec]: 0.372 | ETA[sec]: 0.655 "
       ]
      },
      {
       "output_type": "stream",
       "stream": "stderr",
       "text": [
        "\r",
        "[ 36 %] elapsed[sec]: 0.372 | ETA[sec]: 0.654 "
       ]
      },
      {
       "output_type": "stream",
       "stream": "stderr",
       "text": [
        "\r",
        "[ 36 %] elapsed[sec]: 0.372 | ETA[sec]: 0.653 "
       ]
      },
      {
       "output_type": "stream",
       "stream": "stderr",
       "text": [
        "\r",
        "[ 36 %] elapsed[sec]: 0.373 | ETA[sec]: 0.651 "
       ]
      },
      {
       "output_type": "stream",
       "stream": "stderr",
       "text": [
        "\r",
        "[ 36 %] elapsed[sec]: 0.373 | ETA[sec]: 0.650 "
       ]
      },
      {
       "output_type": "stream",
       "stream": "stderr",
       "text": [
        "\r",
        "[ 36 %] elapsed[sec]: 0.373 | ETA[sec]: 0.649 "
       ]
      },
      {
       "output_type": "stream",
       "stream": "stderr",
       "text": [
        "\r",
        "[ 36 %] elapsed[sec]: 0.374 | ETA[sec]: 0.648 "
       ]
      },
      {
       "output_type": "stream",
       "stream": "stderr",
       "text": [
        "\r",
        "[ 36 %] elapsed[sec]: 0.374 | ETA[sec]: 0.646 "
       ]
      },
      {
       "output_type": "stream",
       "stream": "stderr",
       "text": [
        "\r",
        "[ 36 %] elapsed[sec]: 0.375 | ETA[sec]: 0.645 "
       ]
      },
      {
       "output_type": "stream",
       "stream": "stderr",
       "text": [
        "\r",
        "[ 36 %] elapsed[sec]: 0.375 | ETA[sec]: 0.644 "
       ]
      },
      {
       "output_type": "stream",
       "stream": "stderr",
       "text": [
        "\r",
        "[ 36 %] elapsed[sec]: 0.375 | ETA[sec]: 0.643 "
       ]
      },
      {
       "output_type": "stream",
       "stream": "stderr",
       "text": [
        "\r",
        "[ 36 %] elapsed[sec]: 0.376 | ETA[sec]: 0.642 "
       ]
      },
      {
       "output_type": "stream",
       "stream": "stderr",
       "text": [
        "\r",
        "[ 37 %] elapsed[sec]: 0.376 | ETA[sec]: 0.640 "
       ]
      },
      {
       "output_type": "stream",
       "stream": "stderr",
       "text": [
        "\r",
        "[ 37 %] elapsed[sec]: 0.376 | ETA[sec]: 0.639 "
       ]
      },
      {
       "output_type": "stream",
       "stream": "stderr",
       "text": [
        "\r",
        "[ 37 %] elapsed[sec]: 0.377 | ETA[sec]: 0.638 "
       ]
      },
      {
       "output_type": "stream",
       "stream": "stderr",
       "text": [
        "\r",
        "[ 37 %] elapsed[sec]: 0.377 | ETA[sec]: 0.637 "
       ]
      },
      {
       "output_type": "stream",
       "stream": "stderr",
       "text": [
        "\r",
        "[ 37 %] elapsed[sec]: 0.378 | ETA[sec]: 0.635 "
       ]
      },
      {
       "output_type": "stream",
       "stream": "stderr",
       "text": [
        "\r",
        "[ 37 %] elapsed[sec]: 0.378 | ETA[sec]: 0.653 "
       ]
      },
      {
       "output_type": "stream",
       "stream": "stderr",
       "text": [
        "\r",
        "[ 37 %] elapsed[sec]: 0.390 | ETA[sec]: 0.652 "
       ]
      },
      {
       "output_type": "stream",
       "stream": "stderr",
       "text": [
        "\r",
        "[ 37 %] elapsed[sec]: 0.390 | ETA[sec]: 0.651 "
       ]
      },
      {
       "output_type": "stream",
       "stream": "stderr",
       "text": [
        "\r",
        "[ 37 %] elapsed[sec]: 0.390 | ETA[sec]: 0.650 "
       ]
      },
      {
       "output_type": "stream",
       "stream": "stderr",
       "text": [
        "\r",
        "[ 37 %] elapsed[sec]: 0.391 | ETA[sec]: 0.649 "
       ]
      },
      {
       "output_type": "stream",
       "stream": "stderr",
       "text": [
        "\r",
        "[ 37 %] elapsed[sec]: 0.391 | ETA[sec]: 0.647 "
       ]
      },
      {
       "output_type": "stream",
       "stream": "stderr",
       "text": [
        "\r",
        "[ 37 %] elapsed[sec]: 0.392 | ETA[sec]: 0.647 "
       ]
      },
      {
       "output_type": "stream",
       "stream": "stderr",
       "text": [
        "\r",
        "[ 37 %] elapsed[sec]: 0.392 | ETA[sec]: 0.645 "
       ]
      },
      {
       "output_type": "stream",
       "stream": "stderr",
       "text": [
        "\r",
        "[ 37 %] elapsed[sec]: 0.393 | ETA[sec]: 0.645 "
       ]
      },
      {
       "output_type": "stream",
       "stream": "stderr",
       "text": [
        "\r",
        "[ 37 %] elapsed[sec]: 0.393 | ETA[sec]: 0.644 "
       ]
      },
      {
       "output_type": "stream",
       "stream": "stderr",
       "text": [
        "\r",
        "[ 38 %] elapsed[sec]: 0.394 | ETA[sec]: 0.643 "
       ]
      },
      {
       "output_type": "stream",
       "stream": "stderr",
       "text": [
        "\r",
        "[ 38 %] elapsed[sec]: 0.394 | ETA[sec]: 0.641 "
       ]
      },
      {
       "output_type": "stream",
       "stream": "stderr",
       "text": [
        "\r",
        "[ 38 %] elapsed[sec]: 0.395 | ETA[sec]: 0.640 "
       ]
      },
      {
       "output_type": "stream",
       "stream": "stderr",
       "text": [
        "\r",
        "[ 38 %] elapsed[sec]: 0.395 | ETA[sec]: 0.639 "
       ]
      },
      {
       "output_type": "stream",
       "stream": "stderr",
       "text": [
        "\r",
        "[ 38 %] elapsed[sec]: 0.396 | ETA[sec]: 0.639 "
       ]
      },
      {
       "output_type": "stream",
       "stream": "stderr",
       "text": [
        "\r",
        "[ 38 %] elapsed[sec]: 0.396 | ETA[sec]: 0.638 "
       ]
      },
      {
       "output_type": "stream",
       "stream": "stderr",
       "text": [
        "\r",
        "[ 38 %] elapsed[sec]: 0.397 | ETA[sec]: 0.636 "
       ]
      },
      {
       "output_type": "stream",
       "stream": "stderr",
       "text": [
        "\r",
        "[ 38 %] elapsed[sec]: 0.397 | ETA[sec]: 0.635 "
       ]
      },
      {
       "output_type": "stream",
       "stream": "stderr",
       "text": [
        "\r",
        "[ 38 %] elapsed[sec]: 0.398 | ETA[sec]: 0.635 "
       ]
      },
      {
       "output_type": "stream",
       "stream": "stderr",
       "text": [
        "\r",
        "[ 38 %] elapsed[sec]: 0.399 | ETA[sec]: 0.634 "
       ]
      },
      {
       "output_type": "stream",
       "stream": "stderr",
       "text": [
        "\r",
        "[ 38 %] elapsed[sec]: 0.399 | ETA[sec]: 0.633 "
       ]
      },
      {
       "output_type": "stream",
       "stream": "stderr",
       "text": [
        "\r",
        "[ 38 %] elapsed[sec]: 0.399 | ETA[sec]: 0.632 "
       ]
      },
      {
       "output_type": "stream",
       "stream": "stderr",
       "text": [
        "\r",
        "[ 38 %] elapsed[sec]: 0.400 | ETA[sec]: 0.631 "
       ]
      },
      {
       "output_type": "stream",
       "stream": "stderr",
       "text": [
        "\r",
        "[ 38 %] elapsed[sec]: 0.400 | ETA[sec]: 0.630 "
       ]
      },
      {
       "output_type": "stream",
       "stream": "stderr",
       "text": [
        "\r",
        "[ 38 %] elapsed[sec]: 0.411 | ETA[sec]: 0.644 "
       ]
      },
      {
       "output_type": "stream",
       "stream": "stderr",
       "text": [
        "\r",
        "[ 39 %] elapsed[sec]: 0.411 | ETA[sec]: 0.643 "
       ]
      },
      {
       "output_type": "stream",
       "stream": "stderr",
       "text": [
        "\r",
        "[ 39 %] elapsed[sec]: 0.412 | ETA[sec]: 0.642 "
       ]
      },
      {
       "output_type": "stream",
       "stream": "stderr",
       "text": [
        "\r",
        "[ 39 %] elapsed[sec]: 0.412 | ETA[sec]: 0.641 "
       ]
      },
      {
       "output_type": "stream",
       "stream": "stderr",
       "text": [
        "\r",
        "[ 39 %] elapsed[sec]: 0.412 | ETA[sec]: 0.640 "
       ]
      },
      {
       "output_type": "stream",
       "stream": "stderr",
       "text": [
        "\r",
        "[ 39 %] elapsed[sec]: 0.413 | ETA[sec]: 0.638 "
       ]
      },
      {
       "output_type": "stream",
       "stream": "stderr",
       "text": [
        "\r",
        "[ 39 %] elapsed[sec]: 0.413 | ETA[sec]: 0.637 "
       ]
      },
      {
       "output_type": "stream",
       "stream": "stderr",
       "text": [
        "\r",
        "[ 39 %] elapsed[sec]: 0.413 | ETA[sec]: 0.636 "
       ]
      },
      {
       "output_type": "stream",
       "stream": "stderr",
       "text": [
        "\r",
        "[ 39 %] elapsed[sec]: 0.414 | ETA[sec]: 0.635 "
       ]
      },
      {
       "output_type": "stream",
       "stream": "stderr",
       "text": [
        "\r",
        "[ 39 %] elapsed[sec]: 0.414 | ETA[sec]: 0.634 "
       ]
      },
      {
       "output_type": "stream",
       "stream": "stderr",
       "text": [
        "\r",
        "[ 39 %] elapsed[sec]: 0.415 | ETA[sec]: 0.632 "
       ]
      },
      {
       "output_type": "stream",
       "stream": "stderr",
       "text": [
        "\r",
        "[ 39 %] elapsed[sec]: 0.415 | ETA[sec]: 0.631 "
       ]
      },
      {
       "output_type": "stream",
       "stream": "stderr",
       "text": [
        "\r",
        "[ 39 %] elapsed[sec]: 0.415 | ETA[sec]: 0.630 "
       ]
      },
      {
       "output_type": "stream",
       "stream": "stderr",
       "text": [
        "\r",
        "[ 39 %] elapsed[sec]: 0.416 | ETA[sec]: 0.629 "
       ]
      },
      {
       "output_type": "stream",
       "stream": "stderr",
       "text": [
        "\r",
        "[ 39 %] elapsed[sec]: 0.416 | ETA[sec]: 0.628 "
       ]
      },
      {
       "output_type": "stream",
       "stream": "stderr",
       "text": [
        "\r",
        "[ 39 %] elapsed[sec]: 0.416 | ETA[sec]: 0.626 "
       ]
      },
      {
       "output_type": "stream",
       "stream": "stderr",
       "text": [
        "\r",
        "[ 40 %] elapsed[sec]: 0.417 | ETA[sec]: 0.625 "
       ]
      },
      {
       "output_type": "stream",
       "stream": "stderr",
       "text": [
        "\r",
        "[ 40 %] elapsed[sec]: 0.417 | ETA[sec]: 0.624 "
       ]
      },
      {
       "output_type": "stream",
       "stream": "stderr",
       "text": [
        "\r",
        "[ 40 %] elapsed[sec]: 0.418 | ETA[sec]: 0.623 "
       ]
      },
      {
       "output_type": "stream",
       "stream": "stderr",
       "text": [
        "\r",
        "[ 40 %] elapsed[sec]: 0.418 | ETA[sec]: 0.622 "
       ]
      },
      {
       "output_type": "stream",
       "stream": "stderr",
       "text": [
        "\r",
        "[ 40 %] elapsed[sec]: 0.418 | ETA[sec]: 0.621 "
       ]
      },
      {
       "output_type": "stream",
       "stream": "stderr",
       "text": [
        "\r",
        "[ 40 %] elapsed[sec]: 0.419 | ETA[sec]: 0.619 "
       ]
      },
      {
       "output_type": "stream",
       "stream": "stderr",
       "text": [
        "\r",
        "[ 40 %] elapsed[sec]: 0.419 | ETA[sec]: 0.618 "
       ]
      },
      {
       "output_type": "stream",
       "stream": "stderr",
       "text": [
        "\r",
        "[ 40 %] elapsed[sec]: 0.419 | ETA[sec]: 0.617 "
       ]
      },
      {
       "output_type": "stream",
       "stream": "stderr",
       "text": [
        "\r",
        "[ 40 %] elapsed[sec]: 0.420 | ETA[sec]: 0.616 "
       ]
      },
      {
       "output_type": "stream",
       "stream": "stderr",
       "text": [
        "\r",
        "[ 40 %] elapsed[sec]: 0.424 | ETA[sec]: 0.620 "
       ]
      },
      {
       "output_type": "stream",
       "stream": "stderr",
       "text": [
        "\r",
        "[ 40 %] elapsed[sec]: 0.425 | ETA[sec]: 0.619 "
       ]
      },
      {
       "output_type": "stream",
       "stream": "stderr",
       "text": [
        "\r",
        "[ 40 %] elapsed[sec]: 0.425 | ETA[sec]: 0.618 "
       ]
      },
      {
       "output_type": "stream",
       "stream": "stderr",
       "text": [
        "\r",
        "[ 40 %] elapsed[sec]: 0.425 | ETA[sec]: 0.617 "
       ]
      },
      {
       "output_type": "stream",
       "stream": "stderr",
       "text": [
        "\r",
        "[ 40 %] elapsed[sec]: 0.426 | ETA[sec]: 0.616 "
       ]
      },
      {
       "output_type": "stream",
       "stream": "stderr",
       "text": [
        "\r",
        "[ 40 %] elapsed[sec]: 0.426 | ETA[sec]: 0.615 "
       ]
      },
      {
       "output_type": "stream",
       "stream": "stderr",
       "text": [
        "\r",
        "[ 41 %] elapsed[sec]: 0.426 | ETA[sec]: 0.614 "
       ]
      },
      {
       "output_type": "stream",
       "stream": "stderr",
       "text": [
        "\r",
        "[ 41 %] elapsed[sec]: 0.427 | ETA[sec]: 0.613 "
       ]
      },
      {
       "output_type": "stream",
       "stream": "stderr",
       "text": [
        "\r",
        "[ 41 %] elapsed[sec]: 0.427 | ETA[sec]: 0.612 "
       ]
      },
      {
       "output_type": "stream",
       "stream": "stderr",
       "text": [
        "\r",
        "[ 41 %] elapsed[sec]: 0.428 | ETA[sec]: 0.610 "
       ]
      },
      {
       "output_type": "stream",
       "stream": "stderr",
       "text": [
        "\r",
        "[ 41 %] elapsed[sec]: 0.428 | ETA[sec]: 0.609 "
       ]
      },
      {
       "output_type": "stream",
       "stream": "stderr",
       "text": [
        "\r",
        "[ 41 %] elapsed[sec]: 0.428 | ETA[sec]: 0.608 "
       ]
      },
      {
       "output_type": "stream",
       "stream": "stderr",
       "text": [
        "\r",
        "[ 41 %] elapsed[sec]: 0.429 | ETA[sec]: 0.607 "
       ]
      },
      {
       "output_type": "stream",
       "stream": "stderr",
       "text": [
        "\r",
        "[ 41 %] elapsed[sec]: 0.429 | ETA[sec]: 0.606 "
       ]
      },
      {
       "output_type": "stream",
       "stream": "stderr",
       "text": [
        "\r",
        "[ 41 %] elapsed[sec]: 0.430 | ETA[sec]: 0.605 "
       ]
      },
      {
       "output_type": "stream",
       "stream": "stderr",
       "text": [
        "\r",
        "[ 41 %] elapsed[sec]: 0.430 | ETA[sec]: 0.604 "
       ]
      },
      {
       "output_type": "stream",
       "stream": "stderr",
       "text": [
        "\r",
        "[ 41 %] elapsed[sec]: 0.430 | ETA[sec]: 0.603 "
       ]
      },
      {
       "output_type": "stream",
       "stream": "stderr",
       "text": [
        "\r",
        "[ 41 %] elapsed[sec]: 0.431 | ETA[sec]: 0.601 "
       ]
      },
      {
       "output_type": "stream",
       "stream": "stderr",
       "text": [
        "\r",
        "[ 41 %] elapsed[sec]: 0.431 | ETA[sec]: 0.600 "
       ]
      },
      {
       "output_type": "stream",
       "stream": "stderr",
       "text": [
        "\r",
        "[ 41 %] elapsed[sec]: 0.432 | ETA[sec]: 0.599 "
       ]
      },
      {
       "output_type": "stream",
       "stream": "stderr",
       "text": [
        "\r",
        "[ 41 %] elapsed[sec]: 0.432 | ETA[sec]: 0.598 "
       ]
      },
      {
       "output_type": "stream",
       "stream": "stderr",
       "text": [
        "\r",
        "[ 42 %] elapsed[sec]: 0.432 | ETA[sec]: 0.597 "
       ]
      },
      {
       "output_type": "stream",
       "stream": "stderr",
       "text": [
        "\r",
        "[ 42 %] elapsed[sec]: 0.433 | ETA[sec]: 0.596 "
       ]
      },
      {
       "output_type": "stream",
       "stream": "stderr",
       "text": [
        "\r",
        "[ 42 %] elapsed[sec]: 0.433 | ETA[sec]: 0.595 "
       ]
      },
      {
       "output_type": "stream",
       "stream": "stderr",
       "text": [
        "\r",
        "[ 42 %] elapsed[sec]: 0.434 | ETA[sec]: 0.594 "
       ]
      },
      {
       "output_type": "stream",
       "stream": "stderr",
       "text": [
        "\r",
        "[ 42 %] elapsed[sec]: 0.444 | ETA[sec]: 0.606 "
       ]
      },
      {
       "output_type": "stream",
       "stream": "stderr",
       "text": [
        "\r",
        "[ 42 %] elapsed[sec]: 0.444 | ETA[sec]: 0.605 "
       ]
      },
      {
       "output_type": "stream",
       "stream": "stderr",
       "text": [
        "\r",
        "[ 42 %] elapsed[sec]: 0.445 | ETA[sec]: 0.604 "
       ]
      },
      {
       "output_type": "stream",
       "stream": "stderr",
       "text": [
        "\r",
        "[ 42 %] elapsed[sec]: 0.445 | ETA[sec]: 0.603 "
       ]
      },
      {
       "output_type": "stream",
       "stream": "stderr",
       "text": [
        "\r",
        "[ 42 %] elapsed[sec]: 0.446 | ETA[sec]: 0.602 "
       ]
      },
      {
       "output_type": "stream",
       "stream": "stderr",
       "text": [
        "\r",
        "[ 42 %] elapsed[sec]: 0.446 | ETA[sec]: 0.601 "
       ]
      },
      {
       "output_type": "stream",
       "stream": "stderr",
       "text": [
        "\r",
        "[ 42 %] elapsed[sec]: 0.446 | ETA[sec]: 0.600 "
       ]
      },
      {
       "output_type": "stream",
       "stream": "stderr",
       "text": [
        "\r",
        "[ 42 %] elapsed[sec]: 0.447 | ETA[sec]: 0.599 "
       ]
      },
      {
       "output_type": "stream",
       "stream": "stderr",
       "text": [
        "\r",
        "[ 42 %] elapsed[sec]: 0.447 | ETA[sec]: 0.598 "
       ]
      },
      {
       "output_type": "stream",
       "stream": "stderr",
       "text": [
        "\r",
        "[ 42 %] elapsed[sec]: 0.447 | ETA[sec]: 0.596 "
       ]
      },
      {
       "output_type": "stream",
       "stream": "stderr",
       "text": [
        "\r",
        "[ 42 %] elapsed[sec]: 0.448 | ETA[sec]: 0.595 "
       ]
      },
      {
       "output_type": "stream",
       "stream": "stderr",
       "text": [
        "\r",
        "[ 43 %] elapsed[sec]: 0.448 | ETA[sec]: 0.594 "
       ]
      },
      {
       "output_type": "stream",
       "stream": "stderr",
       "text": [
        "\r",
        "[ 43 %] elapsed[sec]: 0.449 | ETA[sec]: 0.593 "
       ]
      },
      {
       "output_type": "stream",
       "stream": "stderr",
       "text": [
        "\r",
        "[ 43 %] elapsed[sec]: 0.449 | ETA[sec]: 0.592 "
       ]
      },
      {
       "output_type": "stream",
       "stream": "stderr",
       "text": [
        "\r",
        "[ 43 %] elapsed[sec]: 0.449 | ETA[sec]: 0.591 "
       ]
      },
      {
       "output_type": "stream",
       "stream": "stderr",
       "text": [
        "\r",
        "[ 43 %] elapsed[sec]: 0.450 | ETA[sec]: 0.590 "
       ]
      },
      {
       "output_type": "stream",
       "stream": "stderr",
       "text": [
        "\r",
        "[ 43 %] elapsed[sec]: 0.450 | ETA[sec]: 0.589 "
       ]
      },
      {
       "output_type": "stream",
       "stream": "stderr",
       "text": [
        "\r",
        "[ 43 %] elapsed[sec]: 0.450 | ETA[sec]: 0.587 "
       ]
      },
      {
       "output_type": "stream",
       "stream": "stderr",
       "text": [
        "\r",
        "[ 43 %] elapsed[sec]: 0.451 | ETA[sec]: 0.586 "
       ]
      },
      {
       "output_type": "stream",
       "stream": "stderr",
       "text": [
        "\r",
        "[ 43 %] elapsed[sec]: 0.451 | ETA[sec]: 0.585 "
       ]
      },
      {
       "output_type": "stream",
       "stream": "stderr",
       "text": [
        "\r",
        "[ 43 %] elapsed[sec]: 0.451 | ETA[sec]: 0.584 "
       ]
      },
      {
       "output_type": "stream",
       "stream": "stderr",
       "text": [
        "\r",
        "[ 43 %] elapsed[sec]: 0.452 | ETA[sec]: 0.583 "
       ]
      },
      {
       "output_type": "stream",
       "stream": "stderr",
       "text": [
        "\r",
        "[ 43 %] elapsed[sec]: 0.452 | ETA[sec]: 0.582 "
       ]
      },
      {
       "output_type": "stream",
       "stream": "stderr",
       "text": [
        "\r",
        "[ 43 %] elapsed[sec]: 0.453 | ETA[sec]: 0.581 "
       ]
      },
      {
       "output_type": "stream",
       "stream": "stderr",
       "text": [
        "\r",
        "[ 43 %] elapsed[sec]: 0.453 | ETA[sec]: 0.580 "
       ]
      },
      {
       "output_type": "stream",
       "stream": "stderr",
       "text": [
        "\r",
        "[ 43 %] elapsed[sec]: 0.453 | ETA[sec]: 0.579 "
       ]
      },
      {
       "output_type": "stream",
       "stream": "stderr",
       "text": [
        "\r",
        "[ 44 %] elapsed[sec]: 0.457 | ETA[sec]: 0.582 "
       ]
      },
      {
       "output_type": "stream",
       "stream": "stderr",
       "text": [
        "\r",
        "[ 44 %] elapsed[sec]: 0.457 | ETA[sec]: 0.581 "
       ]
      },
      {
       "output_type": "stream",
       "stream": "stderr",
       "text": [
        "\r",
        "[ 44 %] elapsed[sec]: 0.458 | ETA[sec]: 0.580 "
       ]
      },
      {
       "output_type": "stream",
       "stream": "stderr",
       "text": [
        "\r",
        "[ 44 %] elapsed[sec]: 0.458 | ETA[sec]: 0.578 "
       ]
      },
      {
       "output_type": "stream",
       "stream": "stderr",
       "text": [
        "\r",
        "[ 44 %] elapsed[sec]: 0.459 | ETA[sec]: 0.578 "
       ]
      },
      {
       "output_type": "stream",
       "stream": "stderr",
       "text": [
        "\r",
        "[ 44 %] elapsed[sec]: 0.460 | ETA[sec]: 0.578 "
       ]
      },
      {
       "output_type": "stream",
       "stream": "stderr",
       "text": [
        "\r",
        "[ 44 %] elapsed[sec]: 0.460 | ETA[sec]: 0.577 "
       ]
      },
      {
       "output_type": "stream",
       "stream": "stderr",
       "text": [
        "\r",
        "[ 44 %] elapsed[sec]: 0.461 | ETA[sec]: 0.575 "
       ]
      },
      {
       "output_type": "stream",
       "stream": "stderr",
       "text": [
        "\r",
        "[ 44 %] elapsed[sec]: 0.461 | ETA[sec]: 0.574 "
       ]
      },
      {
       "output_type": "stream",
       "stream": "stderr",
       "text": [
        "\r",
        "[ 44 %] elapsed[sec]: 0.462 | ETA[sec]: 0.573 "
       ]
      },
      {
       "output_type": "stream",
       "stream": "stderr",
       "text": [
        "\r",
        "[ 44 %] elapsed[sec]: 0.462 | ETA[sec]: 0.572 "
       ]
      },
      {
       "output_type": "stream",
       "stream": "stderr",
       "text": [
        "\r",
        "[ 44 %] elapsed[sec]: 0.462 | ETA[sec]: 0.571 "
       ]
      },
      {
       "output_type": "stream",
       "stream": "stderr",
       "text": [
        "\r",
        "[ 44 %] elapsed[sec]: 0.463 | ETA[sec]: 0.570 "
       ]
      },
      {
       "output_type": "stream",
       "stream": "stderr",
       "text": [
        "\r",
        "[ 44 %] elapsed[sec]: 0.463 | ETA[sec]: 0.569 "
       ]
      },
      {
       "output_type": "stream",
       "stream": "stderr",
       "text": [
        "\r",
        "[ 44 %] elapsed[sec]: 0.464 | ETA[sec]: 0.568 "
       ]
      },
      {
       "output_type": "stream",
       "stream": "stderr",
       "text": [
        "\r",
        "[ 45 %] elapsed[sec]: 0.464 | ETA[sec]: 0.567 "
       ]
      },
      {
       "output_type": "stream",
       "stream": "stderr",
       "text": [
        "\r",
        "[ 45 %] elapsed[sec]: 0.464 | ETA[sec]: 0.566 "
       ]
      },
      {
       "output_type": "stream",
       "stream": "stderr",
       "text": [
        "\r",
        "[ 45 %] elapsed[sec]: 0.465 | ETA[sec]: 0.565 "
       ]
      },
      {
       "output_type": "stream",
       "stream": "stderr",
       "text": [
        "\r",
        "[ 45 %] elapsed[sec]: 0.465 | ETA[sec]: 0.564 "
       ]
      },
      {
       "output_type": "stream",
       "stream": "stderr",
       "text": [
        "\r",
        "[ 45 %] elapsed[sec]: 0.466 | ETA[sec]: 0.563 "
       ]
      },
      {
       "output_type": "stream",
       "stream": "stderr",
       "text": [
        "\r",
        "[ 45 %] elapsed[sec]: 0.466 | ETA[sec]: 0.562 "
       ]
      },
      {
       "output_type": "stream",
       "stream": "stderr",
       "text": [
        "\r",
        "[ 45 %] elapsed[sec]: 0.466 | ETA[sec]: 0.561 "
       ]
      },
      {
       "output_type": "stream",
       "stream": "stderr",
       "text": [
        "\r",
        "[ 45 %] elapsed[sec]: 0.467 | ETA[sec]: 0.560 "
       ]
      },
      {
       "output_type": "stream",
       "stream": "stderr",
       "text": [
        "\r",
        "[ 45 %] elapsed[sec]: 0.467 | ETA[sec]: 0.559 "
       ]
      },
      {
       "output_type": "stream",
       "stream": "stderr",
       "text": [
        "\r",
        "[ 45 %] elapsed[sec]: 0.467 | ETA[sec]: 0.566 "
       ]
      },
      {
       "output_type": "stream",
       "stream": "stderr",
       "text": [
        "\r",
        "[ 45 %] elapsed[sec]: 0.475 | ETA[sec]: 0.566 "
       ]
      },
      {
       "output_type": "stream",
       "stream": "stderr",
       "text": [
        "\r",
        "[ 45 %] elapsed[sec]: 0.476 | ETA[sec]: 0.565 "
       ]
      },
      {
       "output_type": "stream",
       "stream": "stderr",
       "text": [
        "\r",
        "[ 45 %] elapsed[sec]: 0.476 | ETA[sec]: 0.564 "
       ]
      },
      {
       "output_type": "stream",
       "stream": "stderr",
       "text": [
        "\r",
        "[ 45 %] elapsed[sec]: 0.477 | ETA[sec]: 0.563 "
       ]
      },
      {
       "output_type": "stream",
       "stream": "stderr",
       "text": [
        "\r",
        "[ 45 %] elapsed[sec]: 0.477 | ETA[sec]: 0.562 "
       ]
      },
      {
       "output_type": "stream",
       "stream": "stderr",
       "text": [
        "\r",
        "[ 46 %] elapsed[sec]: 0.478 | ETA[sec]: 0.561 "
       ]
      },
      {
       "output_type": "stream",
       "stream": "stderr",
       "text": [
        "\r",
        "[ 46 %] elapsed[sec]: 0.478 | ETA[sec]: 0.560 "
       ]
      },
      {
       "output_type": "stream",
       "stream": "stderr",
       "text": [
        "\r",
        "[ 46 %] elapsed[sec]: 0.478 | ETA[sec]: 0.559 "
       ]
      },
      {
       "output_type": "stream",
       "stream": "stderr",
       "text": [
        "\r",
        "[ 46 %] elapsed[sec]: 0.479 | ETA[sec]: 0.558 "
       ]
      },
      {
       "output_type": "stream",
       "stream": "stderr",
       "text": [
        "\r",
        "[ 46 %] elapsed[sec]: 0.479 | ETA[sec]: 0.557 "
       ]
      },
      {
       "output_type": "stream",
       "stream": "stderr",
       "text": [
        "\r",
        "[ 46 %] elapsed[sec]: 0.480 | ETA[sec]: 0.556 "
       ]
      },
      {
       "output_type": "stream",
       "stream": "stderr",
       "text": [
        "\r",
        "[ 46 %] elapsed[sec]: 0.480 | ETA[sec]: 0.554 "
       ]
      },
      {
       "output_type": "stream",
       "stream": "stderr",
       "text": [
        "\r",
        "[ 46 %] elapsed[sec]: 0.480 | ETA[sec]: 0.553 "
       ]
      },
      {
       "output_type": "stream",
       "stream": "stderr",
       "text": [
        "\r",
        "[ 46 %] elapsed[sec]: 0.481 | ETA[sec]: 0.552 "
       ]
      },
      {
       "output_type": "stream",
       "stream": "stderr",
       "text": [
        "\r",
        "[ 46 %] elapsed[sec]: 0.481 | ETA[sec]: 0.551 "
       ]
      },
      {
       "output_type": "stream",
       "stream": "stderr",
       "text": [
        "\r",
        "[ 46 %] elapsed[sec]: 0.481 | ETA[sec]: 0.550 "
       ]
      },
      {
       "output_type": "stream",
       "stream": "stderr",
       "text": [
        "\r",
        "[ 46 %] elapsed[sec]: 0.482 | ETA[sec]: 0.549 "
       ]
      },
      {
       "output_type": "stream",
       "stream": "stderr",
       "text": [
        "\r",
        "[ 46 %] elapsed[sec]: 0.482 | ETA[sec]: 0.548 "
       ]
      },
      {
       "output_type": "stream",
       "stream": "stderr",
       "text": [
        "\r",
        "[ 46 %] elapsed[sec]: 0.483 | ETA[sec]: 0.547 "
       ]
      },
      {
       "output_type": "stream",
       "stream": "stderr",
       "text": [
        "\r",
        "[ 46 %] elapsed[sec]: 0.483 | ETA[sec]: 0.546 "
       ]
      },
      {
       "output_type": "stream",
       "stream": "stderr",
       "text": [
        "\r",
        "[ 47 %] elapsed[sec]: 0.483 | ETA[sec]: 0.545 "
       ]
      },
      {
       "output_type": "stream",
       "stream": "stderr",
       "text": [
        "\r",
        "[ 47 %] elapsed[sec]: 0.484 | ETA[sec]: 0.544 "
       ]
      },
      {
       "output_type": "stream",
       "stream": "stderr",
       "text": [
        "\r",
        "[ 47 %] elapsed[sec]: 0.484 | ETA[sec]: 0.543 "
       ]
      },
      {
       "output_type": "stream",
       "stream": "stderr",
       "text": [
        "\r",
        "[ 47 %] elapsed[sec]: 0.484 | ETA[sec]: 0.542 "
       ]
      },
      {
       "output_type": "stream",
       "stream": "stderr",
       "text": [
        "\r",
        "[ 47 %] elapsed[sec]: 0.485 | ETA[sec]: 0.541 "
       ]
      },
      {
       "output_type": "stream",
       "stream": "stderr",
       "text": [
        "\r",
        "[ 47 %] elapsed[sec]: 0.490 | ETA[sec]: 0.546 "
       ]
      },
      {
       "output_type": "stream",
       "stream": "stderr",
       "text": [
        "\r",
        "[ 47 %] elapsed[sec]: 0.491 | ETA[sec]: 0.545 "
       ]
      },
      {
       "output_type": "stream",
       "stream": "stderr",
       "text": [
        "\r",
        "[ 47 %] elapsed[sec]: 0.491 | ETA[sec]: 0.544 "
       ]
      },
      {
       "output_type": "stream",
       "stream": "stderr",
       "text": [
        "\r",
        "[ 47 %] elapsed[sec]: 0.492 | ETA[sec]: 0.543 "
       ]
      },
      {
       "output_type": "stream",
       "stream": "stderr",
       "text": [
        "\r",
        "[ 47 %] elapsed[sec]: 0.492 | ETA[sec]: 0.542 "
       ]
      },
      {
       "output_type": "stream",
       "stream": "stderr",
       "text": [
        "\r",
        "[ 47 %] elapsed[sec]: 0.492 | ETA[sec]: 0.541 "
       ]
      },
      {
       "output_type": "stream",
       "stream": "stderr",
       "text": [
        "\r",
        "[ 47 %] elapsed[sec]: 0.493 | ETA[sec]: 0.540 "
       ]
      },
      {
       "output_type": "stream",
       "stream": "stderr",
       "text": [
        "\r",
        "[ 47 %] elapsed[sec]: 0.493 | ETA[sec]: 0.539 "
       ]
      },
      {
       "output_type": "stream",
       "stream": "stderr",
       "text": [
        "\r",
        "[ 47 %] elapsed[sec]: 0.494 | ETA[sec]: 0.538 "
       ]
      },
      {
       "output_type": "stream",
       "stream": "stderr",
       "text": [
        "\r",
        "[ 47 %] elapsed[sec]: 0.494 | ETA[sec]: 0.537 "
       ]
      },
      {
       "output_type": "stream",
       "stream": "stderr",
       "text": [
        "\r",
        "[ 48 %] elapsed[sec]: 0.495 | ETA[sec]: 0.536 "
       ]
      },
      {
       "output_type": "stream",
       "stream": "stderr",
       "text": [
        "\r",
        "[ 48 %] elapsed[sec]: 0.495 | ETA[sec]: 0.535 "
       ]
      },
      {
       "output_type": "stream",
       "stream": "stderr",
       "text": [
        "\r",
        "[ 48 %] elapsed[sec]: 0.496 | ETA[sec]: 0.534 "
       ]
      },
      {
       "output_type": "stream",
       "stream": "stderr",
       "text": [
        "\r",
        "[ 48 %] elapsed[sec]: 0.496 | ETA[sec]: 0.533 "
       ]
      },
      {
       "output_type": "stream",
       "stream": "stderr",
       "text": [
        "\r",
        "[ 48 %] elapsed[sec]: 0.497 | ETA[sec]: 0.532 "
       ]
      },
      {
       "output_type": "stream",
       "stream": "stderr",
       "text": [
        "\r",
        "[ 48 %] elapsed[sec]: 0.497 | ETA[sec]: 0.531 "
       ]
      },
      {
       "output_type": "stream",
       "stream": "stderr",
       "text": [
        "\r",
        "[ 48 %] elapsed[sec]: 0.497 | ETA[sec]: 0.530 "
       ]
      },
      {
       "output_type": "stream",
       "stream": "stderr",
       "text": [
        "\r",
        "[ 48 %] elapsed[sec]: 0.498 | ETA[sec]: 0.529 "
       ]
      },
      {
       "output_type": "stream",
       "stream": "stderr",
       "text": [
        "\r",
        "[ 48 %] elapsed[sec]: 0.498 | ETA[sec]: 0.528 "
       ]
      },
      {
       "output_type": "stream",
       "stream": "stderr",
       "text": [
        "\r",
        "[ 48 %] elapsed[sec]: 0.498 | ETA[sec]: 0.527 "
       ]
      },
      {
       "output_type": "stream",
       "stream": "stderr",
       "text": [
        "\r",
        "[ 48 %] elapsed[sec]: 0.499 | ETA[sec]: 0.526 "
       ]
      },
      {
       "output_type": "stream",
       "stream": "stderr",
       "text": [
        "\r",
        "[ 48 %] elapsed[sec]: 0.499 | ETA[sec]: 0.525 "
       ]
      },
      {
       "output_type": "stream",
       "stream": "stderr",
       "text": [
        "\r",
        "[ 48 %] elapsed[sec]: 0.500 | ETA[sec]: 0.524 "
       ]
      },
      {
       "output_type": "stream",
       "stream": "stderr",
       "text": [
        "\r",
        "[ 48 %] elapsed[sec]: 0.500 | ETA[sec]: 0.523 "
       ]
      },
      {
       "output_type": "stream",
       "stream": "stderr",
       "text": [
        "\r",
        "[ 48 %] elapsed[sec]: 0.500 | ETA[sec]: 0.522 "
       ]
      },
      {
       "output_type": "stream",
       "stream": "stderr",
       "text": [
        "\r",
        "[ 49 %] elapsed[sec]: 0.512 | ETA[sec]: 0.533 "
       ]
      },
      {
       "output_type": "stream",
       "stream": "stderr",
       "text": [
        "\r",
        "[ 49 %] elapsed[sec]: 0.513 | ETA[sec]: 0.532 "
       ]
      },
      {
       "output_type": "stream",
       "stream": "stderr",
       "text": [
        "\r",
        "[ 49 %] elapsed[sec]: 0.513 | ETA[sec]: 0.531 "
       ]
      },
      {
       "output_type": "stream",
       "stream": "stderr",
       "text": [
        "\r",
        "[ 49 %] elapsed[sec]: 0.514 | ETA[sec]: 0.531 "
       ]
      },
      {
       "output_type": "stream",
       "stream": "stderr",
       "text": [
        "\r",
        "[ 49 %] elapsed[sec]: 0.514 | ETA[sec]: 0.530 "
       ]
      },
      {
       "output_type": "stream",
       "stream": "stderr",
       "text": [
        "\r",
        "[ 49 %] elapsed[sec]: 0.515 | ETA[sec]: 0.529 "
       ]
      },
      {
       "output_type": "stream",
       "stream": "stderr",
       "text": [
        "\r",
        "[ 49 %] elapsed[sec]: 0.515 | ETA[sec]: 0.528 "
       ]
      },
      {
       "output_type": "stream",
       "stream": "stderr",
       "text": [
        "\r",
        "[ 49 %] elapsed[sec]: 0.516 | ETA[sec]: 0.527 "
       ]
      },
      {
       "output_type": "stream",
       "stream": "stderr",
       "text": [
        "\r",
        "[ 49 %] elapsed[sec]: 0.516 | ETA[sec]: 0.526 "
       ]
      },
      {
       "output_type": "stream",
       "stream": "stderr",
       "text": [
        "\r",
        "[ 49 %] elapsed[sec]: 0.517 | ETA[sec]: 0.525 "
       ]
      },
      {
       "output_type": "stream",
       "stream": "stderr",
       "text": [
        "\r",
        "[ 49 %] elapsed[sec]: 0.517 | ETA[sec]: 0.524 "
       ]
      },
      {
       "output_type": "stream",
       "stream": "stderr",
       "text": [
        "\r",
        "[ 49 %] elapsed[sec]: 0.518 | ETA[sec]: 0.523 "
       ]
      },
      {
       "output_type": "stream",
       "stream": "stderr",
       "text": [
        "\r",
        "[ 49 %] elapsed[sec]: 0.518 | ETA[sec]: 0.522 "
       ]
      },
      {
       "output_type": "stream",
       "stream": "stderr",
       "text": [
        "\r",
        "[ 49 %] elapsed[sec]: 0.519 | ETA[sec]: 0.521 "
       ]
      },
      {
       "output_type": "stream",
       "stream": "stderr",
       "text": [
        "\r",
        "[ 49 %] elapsed[sec]: 0.519 | ETA[sec]: 0.520 "
       ]
      },
      {
       "output_type": "stream",
       "stream": "stderr",
       "text": [
        "\r",
        "[ 50 %] elapsed[sec]: 0.520 | ETA[sec]: 0.520 "
       ]
      },
      {
       "output_type": "stream",
       "stream": "stderr",
       "text": [
        "\r",
        "[ 50 %] elapsed[sec]: 0.520 | ETA[sec]: 0.519 "
       ]
      },
      {
       "output_type": "stream",
       "stream": "stderr",
       "text": [
        "\r",
        "[ 50 %] elapsed[sec]: 0.521 | ETA[sec]: 0.518 "
       ]
      },
      {
       "output_type": "stream",
       "stream": "stderr",
       "text": [
        "\r",
        "[ 50 %] elapsed[sec]: 0.523 | ETA[sec]: 0.518 "
       ]
      },
      {
       "output_type": "stream",
       "stream": "stderr",
       "text": [
        "\r",
        "[ 50 %] elapsed[sec]: 0.523 | ETA[sec]: 0.518 "
       ]
      },
      {
       "output_type": "stream",
       "stream": "stderr",
       "text": [
        "\r",
        "[ 50 %] elapsed[sec]: 0.523 | ETA[sec]: 0.517 "
       ]
      },
      {
       "output_type": "stream",
       "stream": "stderr",
       "text": [
        "\r",
        "[ 50 %] elapsed[sec]: 0.524 | ETA[sec]: 0.516 "
       ]
      },
      {
       "output_type": "stream",
       "stream": "stderr",
       "text": [
        "\r",
        "[ 50 %] elapsed[sec]: 0.551 | ETA[sec]: 0.541 "
       ]
      },
      {
       "output_type": "stream",
       "stream": "stderr",
       "text": [
        "\r",
        "[ 50 %] elapsed[sec]: 0.556 | ETA[sec]: 0.545 "
       ]
      },
      {
       "output_type": "stream",
       "stream": "stderr",
       "text": [
        "\r",
        "[ 50 %] elapsed[sec]: 0.558 | ETA[sec]: 0.545 "
       ]
      },
      {
       "output_type": "stream",
       "stream": "stderr",
       "text": [
        "\r",
        "[ 50 %] elapsed[sec]: 0.558 | ETA[sec]: 0.544 "
       ]
      },
      {
       "output_type": "stream",
       "stream": "stderr",
       "text": [
        "\r",
        "[ 50 %] elapsed[sec]: 0.559 | ETA[sec]: 0.543 "
       ]
      },
      {
       "output_type": "stream",
       "stream": "stderr",
       "text": [
        "\r",
        "[ 50 %] elapsed[sec]: 0.559 | ETA[sec]: 0.542 "
       ]
      },
      {
       "output_type": "stream",
       "stream": "stderr",
       "text": [
        "\r",
        "[ 50 %] elapsed[sec]: 0.560 | ETA[sec]: 0.541 "
       ]
      },
      {
       "output_type": "stream",
       "stream": "stderr",
       "text": [
        "\r",
        "[ 50 %] elapsed[sec]: 0.560 | ETA[sec]: 0.540 "
       ]
      },
      {
       "output_type": "stream",
       "stream": "stderr",
       "text": [
        "\r",
        "[ 51 %] elapsed[sec]: 0.560 | ETA[sec]: 0.538 "
       ]
      },
      {
       "output_type": "stream",
       "stream": "stderr",
       "text": [
        "\r",
        "[ 51 %] elapsed[sec]: 0.561 | ETA[sec]: 0.537 "
       ]
      },
      {
       "output_type": "stream",
       "stream": "stderr",
       "text": [
        "\r",
        "[ 51 %] elapsed[sec]: 0.561 | ETA[sec]: 0.536 "
       ]
      },
      {
       "output_type": "stream",
       "stream": "stderr",
       "text": [
        "\r",
        "[ 51 %] elapsed[sec]: 0.562 | ETA[sec]: 0.535 "
       ]
      },
      {
       "output_type": "stream",
       "stream": "stderr",
       "text": [
        "\r",
        "[ 51 %] elapsed[sec]: 0.562 | ETA[sec]: 0.534 "
       ]
      },
      {
       "output_type": "stream",
       "stream": "stderr",
       "text": [
        "\r",
        "[ 51 %] elapsed[sec]: 0.562 | ETA[sec]: 0.533 "
       ]
      },
      {
       "output_type": "stream",
       "stream": "stderr",
       "text": [
        "\r",
        "[ 51 %] elapsed[sec]: 0.563 | ETA[sec]: 0.532 "
       ]
      },
      {
       "output_type": "stream",
       "stream": "stderr",
       "text": [
        "\r",
        "[ 51 %] elapsed[sec]: 0.563 | ETA[sec]: 0.531 "
       ]
      },
      {
       "output_type": "stream",
       "stream": "stderr",
       "text": [
        "\r",
        "[ 51 %] elapsed[sec]: 0.564 | ETA[sec]: 0.530 "
       ]
      },
      {
       "output_type": "stream",
       "stream": "stderr",
       "text": [
        "\r",
        "[ 51 %] elapsed[sec]: 0.564 | ETA[sec]: 0.529 "
       ]
      },
      {
       "output_type": "stream",
       "stream": "stderr",
       "text": [
        "\r",
        "[ 51 %] elapsed[sec]: 0.565 | ETA[sec]: 0.528 "
       ]
      },
      {
       "output_type": "stream",
       "stream": "stderr",
       "text": [
        "\r",
        "[ 51 %] elapsed[sec]: 0.565 | ETA[sec]: 0.527 "
       ]
      },
      {
       "output_type": "stream",
       "stream": "stderr",
       "text": [
        "\r",
        "[ 51 %] elapsed[sec]: 0.570 | ETA[sec]: 0.531 "
       ]
      },
      {
       "output_type": "stream",
       "stream": "stderr",
       "text": [
        "\r",
        "[ 51 %] elapsed[sec]: 0.571 | ETA[sec]: 0.530 "
       ]
      },
      {
       "output_type": "stream",
       "stream": "stderr",
       "text": [
        "\r",
        "[ 51 %] elapsed[sec]: 0.599 | ETA[sec]: 0.555 "
       ]
      },
      {
       "output_type": "stream",
       "stream": "stderr",
       "text": [
        "\r",
        "[ 52 %] elapsed[sec]: 0.600 | ETA[sec]: 0.553 "
       ]
      },
      {
       "output_type": "stream",
       "stream": "stderr",
       "text": [
        "\r",
        "[ 52 %] elapsed[sec]: 0.600 | ETA[sec]: 0.552 "
       ]
      },
      {
       "output_type": "stream",
       "stream": "stderr",
       "text": [
        "\r",
        "[ 52 %] elapsed[sec]: 0.600 | ETA[sec]: 0.551 "
       ]
      },
      {
       "output_type": "stream",
       "stream": "stderr",
       "text": [
        "\r",
        "[ 52 %] elapsed[sec]: 0.601 | ETA[sec]: 0.550 "
       ]
      },
      {
       "output_type": "stream",
       "stream": "stderr",
       "text": [
        "\r",
        "[ 52 %] elapsed[sec]: 0.601 | ETA[sec]: 0.549 "
       ]
      },
      {
       "output_type": "stream",
       "stream": "stderr",
       "text": [
        "\r",
        "[ 52 %] elapsed[sec]: 0.601 | ETA[sec]: 0.548 "
       ]
      },
      {
       "output_type": "stream",
       "stream": "stderr",
       "text": [
        "\r",
        "[ 52 %] elapsed[sec]: 0.602 | ETA[sec]: 0.547 "
       ]
      },
      {
       "output_type": "stream",
       "stream": "stderr",
       "text": [
        "\r",
        "[ 52 %] elapsed[sec]: 0.602 | ETA[sec]: 0.545 "
       ]
      },
      {
       "output_type": "stream",
       "stream": "stderr",
       "text": [
        "\r",
        "[ 52 %] elapsed[sec]: 0.602 | ETA[sec]: 0.544 "
       ]
      },
      {
       "output_type": "stream",
       "stream": "stderr",
       "text": [
        "\r",
        "[ 52 %] elapsed[sec]: 0.603 | ETA[sec]: 0.543 "
       ]
      },
      {
       "output_type": "stream",
       "stream": "stderr",
       "text": [
        "\r",
        "[ 52 %] elapsed[sec]: 0.603 | ETA[sec]: 0.542 "
       ]
      },
      {
       "output_type": "stream",
       "stream": "stderr",
       "text": [
        "\r",
        "[ 52 %] elapsed[sec]: 0.604 | ETA[sec]: 0.541 "
       ]
      },
      {
       "output_type": "stream",
       "stream": "stderr",
       "text": [
        "\r",
        "[ 52 %] elapsed[sec]: 0.604 | ETA[sec]: 0.540 "
       ]
      },
      {
       "output_type": "stream",
       "stream": "stderr",
       "text": [
        "\r",
        "[ 52 %] elapsed[sec]: 0.604 | ETA[sec]: 0.539 "
       ]
      },
      {
       "output_type": "stream",
       "stream": "stderr",
       "text": [
        "\r",
        "[ 52 %] elapsed[sec]: 0.605 | ETA[sec]: 0.538 "
       ]
      },
      {
       "output_type": "stream",
       "stream": "stderr",
       "text": [
        "\r",
        "[ 53 %] elapsed[sec]: 0.605 | ETA[sec]: 0.537 "
       ]
      },
      {
       "output_type": "stream",
       "stream": "stderr",
       "text": [
        "\r",
        "[ 53 %] elapsed[sec]: 0.605 | ETA[sec]: 0.535 "
       ]
      },
      {
       "output_type": "stream",
       "stream": "stderr",
       "text": [
        "\r",
        "[ 53 %] elapsed[sec]: 0.606 | ETA[sec]: 0.534 "
       ]
      },
      {
       "output_type": "stream",
       "stream": "stderr",
       "text": [
        "\r",
        "[ 53 %] elapsed[sec]: 0.606 | ETA[sec]: 0.533 "
       ]
      },
      {
       "output_type": "stream",
       "stream": "stderr",
       "text": [
        "\r",
        "[ 53 %] elapsed[sec]: 0.607 | ETA[sec]: 0.532 "
       ]
      },
      {
       "output_type": "stream",
       "stream": "stderr",
       "text": [
        "\r",
        "[ 53 %] elapsed[sec]: 0.607 | ETA[sec]: 0.531 "
       ]
      },
      {
       "output_type": "stream",
       "stream": "stderr",
       "text": [
        "\r",
        "[ 53 %] elapsed[sec]: 0.607 | ETA[sec]: 0.530 "
       ]
      },
      {
       "output_type": "stream",
       "stream": "stderr",
       "text": [
        "\r",
        "[ 53 %] elapsed[sec]: 0.608 | ETA[sec]: 0.529 "
       ]
      },
      {
       "output_type": "stream",
       "stream": "stderr",
       "text": [
        "\r",
        "[ 53 %] elapsed[sec]: 0.608 | ETA[sec]: 0.528 "
       ]
      },
      {
       "output_type": "stream",
       "stream": "stderr",
       "text": [
        "\r",
        "[ 53 %] elapsed[sec]: 0.638 | ETA[sec]: 0.552 "
       ]
      },
      {
       "output_type": "stream",
       "stream": "stderr",
       "text": [
        "\r",
        "[ 53 %] elapsed[sec]: 0.638 | ETA[sec]: 0.551 "
       ]
      },
      {
       "output_type": "stream",
       "stream": "stderr",
       "text": [
        "\r",
        "[ 53 %] elapsed[sec]: 0.638 | ETA[sec]: 0.550 "
       ]
      },
      {
       "output_type": "stream",
       "stream": "stderr",
       "text": [
        "\r",
        "[ 53 %] elapsed[sec]: 0.639 | ETA[sec]: 0.549 "
       ]
      },
      {
       "output_type": "stream",
       "stream": "stderr",
       "text": [
        "\r",
        "[ 53 %] elapsed[sec]: 0.639 | ETA[sec]: 0.547 "
       ]
      },
      {
       "output_type": "stream",
       "stream": "stderr",
       "text": [
        "\r",
        "[ 53 %] elapsed[sec]: 0.640 | ETA[sec]: 0.546 "
       ]
      },
      {
       "output_type": "stream",
       "stream": "stderr",
       "text": [
        "\r",
        "[ 54 %] elapsed[sec]: 0.640 | ETA[sec]: 0.545 "
       ]
      },
      {
       "output_type": "stream",
       "stream": "stderr",
       "text": [
        "\r",
        "[ 54 %] elapsed[sec]: 0.640 | ETA[sec]: 0.544 "
       ]
      },
      {
       "output_type": "stream",
       "stream": "stderr",
       "text": [
        "\r",
        "[ 54 %] elapsed[sec]: 0.641 | ETA[sec]: 0.543 "
       ]
      },
      {
       "output_type": "stream",
       "stream": "stderr",
       "text": [
        "\r",
        "[ 54 %] elapsed[sec]: 0.641 | ETA[sec]: 0.542 "
       ]
      },
      {
       "output_type": "stream",
       "stream": "stderr",
       "text": [
        "\r",
        "[ 54 %] elapsed[sec]: 0.641 | ETA[sec]: 0.541 "
       ]
      },
      {
       "output_type": "stream",
       "stream": "stderr",
       "text": [
        "\r",
        "[ 54 %] elapsed[sec]: 0.642 | ETA[sec]: 0.539 "
       ]
      },
      {
       "output_type": "stream",
       "stream": "stderr",
       "text": [
        "\r",
        "[ 54 %] elapsed[sec]: 0.642 | ETA[sec]: 0.538 "
       ]
      },
      {
       "output_type": "stream",
       "stream": "stderr",
       "text": [
        "\r",
        "[ 54 %] elapsed[sec]: 0.643 | ETA[sec]: 0.537 "
       ]
      },
      {
       "output_type": "stream",
       "stream": "stderr",
       "text": [
        "\r",
        "[ 54 %] elapsed[sec]: 0.643 | ETA[sec]: 0.536 "
       ]
      },
      {
       "output_type": "stream",
       "stream": "stderr",
       "text": [
        "\r",
        "[ 54 %] elapsed[sec]: 0.643 | ETA[sec]: 0.535 "
       ]
      },
      {
       "output_type": "stream",
       "stream": "stderr",
       "text": [
        "\r",
        "[ 54 %] elapsed[sec]: 0.644 | ETA[sec]: 0.534 "
       ]
      },
      {
       "output_type": "stream",
       "stream": "stderr",
       "text": [
        "\r",
        "[ 54 %] elapsed[sec]: 0.644 | ETA[sec]: 0.533 "
       ]
      },
      {
       "output_type": "stream",
       "stream": "stderr",
       "text": [
        "\r",
        "[ 54 %] elapsed[sec]: 0.644 | ETA[sec]: 0.531 "
       ]
      },
      {
       "output_type": "stream",
       "stream": "stderr",
       "text": [
        "\r",
        "[ 54 %] elapsed[sec]: 0.645 | ETA[sec]: 0.530 "
       ]
      },
      {
       "output_type": "stream",
       "stream": "stderr",
       "text": [
        "\r",
        "[ 54 %] elapsed[sec]: 0.645 | ETA[sec]: 0.529 "
       ]
      },
      {
       "output_type": "stream",
       "stream": "stderr",
       "text": [
        "\r",
        "[ 55 %] elapsed[sec]: 0.645 | ETA[sec]: 0.528 "
       ]
      },
      {
       "output_type": "stream",
       "stream": "stderr",
       "text": [
        "\r",
        "[ 55 %] elapsed[sec]: 0.646 | ETA[sec]: 0.527 "
       ]
      },
      {
       "output_type": "stream",
       "stream": "stderr",
       "text": [
        "\r",
        "[ 55 %] elapsed[sec]: 0.646 | ETA[sec]: 0.526 "
       ]
      },
      {
       "output_type": "stream",
       "stream": "stderr",
       "text": [
        "\r",
        "[ 55 %] elapsed[sec]: 0.647 | ETA[sec]: 0.525 "
       ]
      },
      {
       "output_type": "stream",
       "stream": "stderr",
       "text": [
        "\r",
        "[ 55 %] elapsed[sec]: 0.647 | ETA[sec]: 0.524 "
       ]
      },
      {
       "output_type": "stream",
       "stream": "stderr",
       "text": [
        "\r",
        "[ 55 %] elapsed[sec]: 0.647 | ETA[sec]: 0.523 "
       ]
      },
      {
       "output_type": "stream",
       "stream": "stderr",
       "text": [
        "\r",
        "[ 55 %] elapsed[sec]: 0.663 | ETA[sec]: 0.534 "
       ]
      },
      {
       "output_type": "stream",
       "stream": "stderr",
       "text": [
        "\r",
        "[ 55 %] elapsed[sec]: 0.663 | ETA[sec]: 0.533 "
       ]
      },
      {
       "output_type": "stream",
       "stream": "stderr",
       "text": [
        "\r",
        "[ 55 %] elapsed[sec]: 0.664 | ETA[sec]: 0.531 "
       ]
      },
      {
       "output_type": "stream",
       "stream": "stderr",
       "text": [
        "\r",
        "[ 55 %] elapsed[sec]: 0.664 | ETA[sec]: 0.530 "
       ]
      },
      {
       "output_type": "stream",
       "stream": "stderr",
       "text": [
        "\r",
        "[ 55 %] elapsed[sec]: 0.664 | ETA[sec]: 0.529 "
       ]
      },
      {
       "output_type": "stream",
       "stream": "stderr",
       "text": [
        "\r",
        "[ 55 %] elapsed[sec]: 0.665 | ETA[sec]: 0.528 "
       ]
      },
      {
       "output_type": "stream",
       "stream": "stderr",
       "text": [
        "\r",
        "[ 55 %] elapsed[sec]: 0.665 | ETA[sec]: 0.527 "
       ]
      },
      {
       "output_type": "stream",
       "stream": "stderr",
       "text": [
        "\r",
        "[ 55 %] elapsed[sec]: 0.666 | ETA[sec]: 0.526 "
       ]
      },
      {
       "output_type": "stream",
       "stream": "stderr",
       "text": [
        "\r",
        "[ 55 %] elapsed[sec]: 0.666 | ETA[sec]: 0.525 "
       ]
      },
      {
       "output_type": "stream",
       "stream": "stderr",
       "text": [
        "\r",
        "[ 56 %] elapsed[sec]: 0.666 | ETA[sec]: 0.523 "
       ]
      },
      {
       "output_type": "stream",
       "stream": "stderr",
       "text": [
        "\r",
        "[ 56 %] elapsed[sec]: 0.667 | ETA[sec]: 0.522 "
       ]
      },
      {
       "output_type": "stream",
       "stream": "stderr",
       "text": [
        "\r",
        "[ 56 %] elapsed[sec]: 0.667 | ETA[sec]: 0.521 "
       ]
      },
      {
       "output_type": "stream",
       "stream": "stderr",
       "text": [
        "\r",
        "[ 56 %] elapsed[sec]: 0.667 | ETA[sec]: 0.520 "
       ]
      },
      {
       "output_type": "stream",
       "stream": "stderr",
       "text": [
        "\r",
        "[ 56 %] elapsed[sec]: 0.668 | ETA[sec]: 0.519 "
       ]
      },
      {
       "output_type": "stream",
       "stream": "stderr",
       "text": [
        "\r",
        "[ 56 %] elapsed[sec]: 0.668 | ETA[sec]: 0.518 "
       ]
      },
      {
       "output_type": "stream",
       "stream": "stderr",
       "text": [
        "\r",
        "[ 56 %] elapsed[sec]: 0.668 | ETA[sec]: 0.517 "
       ]
      },
      {
       "output_type": "stream",
       "stream": "stderr",
       "text": [
        "\r",
        "[ 56 %] elapsed[sec]: 0.669 | ETA[sec]: 0.516 "
       ]
      },
      {
       "output_type": "stream",
       "stream": "stderr",
       "text": [
        "\r",
        "[ 56 %] elapsed[sec]: 0.669 | ETA[sec]: 0.515 "
       ]
      },
      {
       "output_type": "stream",
       "stream": "stderr",
       "text": [
        "\r",
        "[ 56 %] elapsed[sec]: 0.670 | ETA[sec]: 0.513 "
       ]
      },
      {
       "output_type": "stream",
       "stream": "stderr",
       "text": [
        "\r",
        "[ 56 %] elapsed[sec]: 0.670 | ETA[sec]: 0.512 "
       ]
      },
      {
       "output_type": "stream",
       "stream": "stderr",
       "text": [
        "\r",
        "[ 56 %] elapsed[sec]: 0.674 | ETA[sec]: 0.514 "
       ]
      },
      {
       "output_type": "stream",
       "stream": "stderr",
       "text": [
        "\r",
        "[ 56 %] elapsed[sec]: 0.675 | ETA[sec]: 0.513 "
       ]
      },
      {
       "output_type": "stream",
       "stream": "stderr",
       "text": [
        "\r",
        "[ 56 %] elapsed[sec]: 0.675 | ETA[sec]: 0.512 "
       ]
      },
      {
       "output_type": "stream",
       "stream": "stderr",
       "text": [
        "\r",
        "[ 56 %] elapsed[sec]: 0.675 | ETA[sec]: 0.511 "
       ]
      },
      {
       "output_type": "stream",
       "stream": "stderr",
       "text": [
        "\r",
        "[ 57 %] elapsed[sec]: 0.676 | ETA[sec]: 0.526 "
       ]
      },
      {
       "output_type": "stream",
       "stream": "stderr",
       "text": [
        "\r",
        "[ 57 %] elapsed[sec]: 0.699 | ETA[sec]: 0.526 "
       ]
      },
      {
       "output_type": "stream",
       "stream": "stderr",
       "text": [
        "\r",
        "[ 57 %] elapsed[sec]: 0.700 | ETA[sec]: 0.525 "
       ]
      },
      {
       "output_type": "stream",
       "stream": "stderr",
       "text": [
        "\r",
        "[ 57 %] elapsed[sec]: 0.701 | ETA[sec]: 0.524 "
       ]
      },
      {
       "output_type": "stream",
       "stream": "stderr",
       "text": [
        "\r",
        "[ 57 %] elapsed[sec]: 0.703 | ETA[sec]: 0.524 "
       ]
      },
      {
       "output_type": "stream",
       "stream": "stderr",
       "text": [
        "\r",
        "[ 57 %] elapsed[sec]: 0.703 | ETA[sec]: 0.523 "
       ]
      },
      {
       "output_type": "stream",
       "stream": "stderr",
       "text": [
        "\r",
        "[ 57 %] elapsed[sec]: 0.704 | ETA[sec]: 0.522 "
       ]
      },
      {
       "output_type": "stream",
       "stream": "stderr",
       "text": [
        "\r",
        "[ 57 %] elapsed[sec]: 0.704 | ETA[sec]: 0.521 "
       ]
      },
      {
       "output_type": "stream",
       "stream": "stderr",
       "text": [
        "\r",
        "[ 57 %] elapsed[sec]: 0.704 | ETA[sec]: 0.520 "
       ]
      },
      {
       "output_type": "stream",
       "stream": "stderr",
       "text": [
        "\r",
        "[ 57 %] elapsed[sec]: 0.705 | ETA[sec]: 0.519 "
       ]
      },
      {
       "output_type": "stream",
       "stream": "stderr",
       "text": [
        "\r",
        "[ 57 %] elapsed[sec]: 0.705 | ETA[sec]: 0.518 "
       ]
      },
      {
       "output_type": "stream",
       "stream": "stderr",
       "text": [
        "\r",
        "[ 57 %] elapsed[sec]: 0.706 | ETA[sec]: 0.517 "
       ]
      },
      {
       "output_type": "stream",
       "stream": "stderr",
       "text": [
        "\r",
        "[ 57 %] elapsed[sec]: 0.706 | ETA[sec]: 0.516 "
       ]
      },
      {
       "output_type": "stream",
       "stream": "stderr",
       "text": [
        "\r",
        "[ 57 %] elapsed[sec]: 0.707 | ETA[sec]: 0.515 "
       ]
      },
      {
       "output_type": "stream",
       "stream": "stderr",
       "text": [
        "\r",
        "[ 57 %] elapsed[sec]: 0.707 | ETA[sec]: 0.514 "
       ]
      },
      {
       "output_type": "stream",
       "stream": "stderr",
       "text": [
        "\r",
        "[ 58 %] elapsed[sec]: 0.708 | ETA[sec]: 0.512 "
       ]
      },
      {
       "output_type": "stream",
       "stream": "stderr",
       "text": [
        "\r",
        "[ 58 %] elapsed[sec]: 0.708 | ETA[sec]: 0.511 "
       ]
      },
      {
       "output_type": "stream",
       "stream": "stderr",
       "text": [
        "\r",
        "[ 58 %] elapsed[sec]: 0.708 | ETA[sec]: 0.510 "
       ]
      },
      {
       "output_type": "stream",
       "stream": "stderr",
       "text": [
        "\r",
        "[ 58 %] elapsed[sec]: 0.709 | ETA[sec]: 0.509 "
       ]
      },
      {
       "output_type": "stream",
       "stream": "stderr",
       "text": [
        "\r",
        "[ 58 %] elapsed[sec]: 0.709 | ETA[sec]: 0.508 "
       ]
      },
      {
       "output_type": "stream",
       "stream": "stderr",
       "text": [
        "\r",
        "[ 58 %] elapsed[sec]: 0.710 | ETA[sec]: 0.507 "
       ]
      },
      {
       "output_type": "stream",
       "stream": "stderr",
       "text": [
        "\r",
        "[ 58 %] elapsed[sec]: 0.711 | ETA[sec]: 0.506 "
       ]
      },
      {
       "output_type": "stream",
       "stream": "stderr",
       "text": [
        "\r",
        "[ 58 %] elapsed[sec]: 0.711 | ETA[sec]: 0.505 "
       ]
      },
      {
       "output_type": "stream",
       "stream": "stderr",
       "text": [
        "\r",
        "[ 58 %] elapsed[sec]: 0.724 | ETA[sec]: 0.513 "
       ]
      },
      {
       "output_type": "stream",
       "stream": "stderr",
       "text": [
        "\r",
        "[ 58 %] elapsed[sec]: 0.724 | ETA[sec]: 0.512 "
       ]
      },
      {
       "output_type": "stream",
       "stream": "stderr",
       "text": [
        "\r",
        "[ 58 %] elapsed[sec]: 0.725 | ETA[sec]: 0.511 "
       ]
      },
      {
       "output_type": "stream",
       "stream": "stderr",
       "text": [
        "\r",
        "[ 58 %] elapsed[sec]: 0.725 | ETA[sec]: 0.509 "
       ]
      },
      {
       "output_type": "stream",
       "stream": "stderr",
       "text": [
        "\r",
        "[ 58 %] elapsed[sec]: 0.725 | ETA[sec]: 0.508 "
       ]
      },
      {
       "output_type": "stream",
       "stream": "stderr",
       "text": [
        "\r",
        "[ 58 %] elapsed[sec]: 0.726 | ETA[sec]: 0.507 "
       ]
      },
      {
       "output_type": "stream",
       "stream": "stderr",
       "text": [
        "\r",
        "[ 58 %] elapsed[sec]: 0.727 | ETA[sec]: 0.506 "
       ]
      },
      {
       "output_type": "stream",
       "stream": "stderr",
       "text": [
        "\r",
        "[ 59 %] elapsed[sec]: 0.727 | ETA[sec]: 0.505 "
       ]
      },
      {
       "output_type": "stream",
       "stream": "stderr",
       "text": [
        "\r",
        "[ 59 %] elapsed[sec]: 0.727 | ETA[sec]: 0.504 "
       ]
      },
      {
       "output_type": "stream",
       "stream": "stderr",
       "text": [
        "\r",
        "[ 59 %] elapsed[sec]: 0.728 | ETA[sec]: 0.503 "
       ]
      },
      {
       "output_type": "stream",
       "stream": "stderr",
       "text": [
        "\r",
        "[ 59 %] elapsed[sec]: 0.728 | ETA[sec]: 0.502 "
       ]
      },
      {
       "output_type": "stream",
       "stream": "stderr",
       "text": [
        "\r",
        "[ 59 %] elapsed[sec]: 0.729 | ETA[sec]: 0.501 "
       ]
      },
      {
       "output_type": "stream",
       "stream": "stderr",
       "text": [
        "\r",
        "[ 59 %] elapsed[sec]: 0.729 | ETA[sec]: 0.500 "
       ]
      },
      {
       "output_type": "stream",
       "stream": "stderr",
       "text": [
        "\r",
        "[ 59 %] elapsed[sec]: 0.729 | ETA[sec]: 0.498 "
       ]
      },
      {
       "output_type": "stream",
       "stream": "stderr",
       "text": [
        "\r",
        "[ 59 %] elapsed[sec]: 0.730 | ETA[sec]: 0.497 "
       ]
      },
      {
       "output_type": "stream",
       "stream": "stderr",
       "text": [
        "\r",
        "[ 59 %] elapsed[sec]: 0.730 | ETA[sec]: 0.496 "
       ]
      },
      {
       "output_type": "stream",
       "stream": "stderr",
       "text": [
        "\r",
        "[ 59 %] elapsed[sec]: 0.730 | ETA[sec]: 0.495 "
       ]
      },
      {
       "output_type": "stream",
       "stream": "stderr",
       "text": [
        "\r",
        "[ 59 %] elapsed[sec]: 0.731 | ETA[sec]: 0.494 "
       ]
      },
      {
       "output_type": "stream",
       "stream": "stderr",
       "text": [
        "\r",
        "[ 59 %] elapsed[sec]: 0.731 | ETA[sec]: 0.493 "
       ]
      },
      {
       "output_type": "stream",
       "stream": "stderr",
       "text": [
        "\r",
        "[ 59 %] elapsed[sec]: 0.731 | ETA[sec]: 0.492 "
       ]
      },
      {
       "output_type": "stream",
       "stream": "stderr",
       "text": [
        "\r",
        "[ 59 %] elapsed[sec]: 0.732 | ETA[sec]: 0.491 "
       ]
      },
      {
       "output_type": "stream",
       "stream": "stderr",
       "text": [
        "\r",
        "[ 59 %] elapsed[sec]: 0.732 | ETA[sec]: 0.489 "
       ]
      },
      {
       "output_type": "stream",
       "stream": "stderr",
       "text": [
        "\r",
        "[ 60 %] elapsed[sec]: 0.733 | ETA[sec]: 0.488 "
       ]
      },
      {
       "output_type": "stream",
       "stream": "stderr",
       "text": [
        "\r",
        "[ 60 %] elapsed[sec]: 0.733 | ETA[sec]: 0.487 "
       ]
      },
      {
       "output_type": "stream",
       "stream": "stderr",
       "text": [
        "\r",
        "[ 60 %] elapsed[sec]: 0.733 | ETA[sec]: 0.486 "
       ]
      },
      {
       "output_type": "stream",
       "stream": "stderr",
       "text": [
        "\r",
        "[ 60 %] elapsed[sec]: 0.736 | ETA[sec]: 0.486 "
       ]
      },
      {
       "output_type": "stream",
       "stream": "stderr",
       "text": [
        "\r",
        "[ 60 %] elapsed[sec]: 0.736 | ETA[sec]: 0.485 "
       ]
      },
      {
       "output_type": "stream",
       "stream": "stderr",
       "text": [
        "\r",
        "[ 60 %] elapsed[sec]: 0.737 | ETA[sec]: 0.484 "
       ]
      },
      {
       "output_type": "stream",
       "stream": "stderr",
       "text": [
        "\r",
        "[ 60 %] elapsed[sec]: 0.737 | ETA[sec]: 0.483 "
       ]
      },
      {
       "output_type": "stream",
       "stream": "stderr",
       "text": [
        "\r",
        "[ 60 %] elapsed[sec]: 0.737 | ETA[sec]: 0.482 "
       ]
      },
      {
       "output_type": "stream",
       "stream": "stderr",
       "text": [
        "\r",
        "[ 60 %] elapsed[sec]: 0.738 | ETA[sec]: 0.481 "
       ]
      },
      {
       "output_type": "stream",
       "stream": "stderr",
       "text": [
        "\r",
        "[ 60 %] elapsed[sec]: 0.739 | ETA[sec]: 0.480 "
       ]
      },
      {
       "output_type": "stream",
       "stream": "stderr",
       "text": [
        "\r",
        "[ 60 %] elapsed[sec]: 0.739 | ETA[sec]: 0.479 "
       ]
      },
      {
       "output_type": "stream",
       "stream": "stderr",
       "text": [
        "\r",
        "[ 60 %] elapsed[sec]: 0.740 | ETA[sec]: 0.478 "
       ]
      },
      {
       "output_type": "stream",
       "stream": "stderr",
       "text": [
        "\r",
        "[ 60 %] elapsed[sec]: 0.740 | ETA[sec]: 0.477 "
       ]
      },
      {
       "output_type": "stream",
       "stream": "stderr",
       "text": [
        "\r",
        "[ 60 %] elapsed[sec]: 0.741 | ETA[sec]: 0.476 "
       ]
      },
      {
       "output_type": "stream",
       "stream": "stderr",
       "text": [
        "\r",
        "[ 60 %] elapsed[sec]: 0.741 | ETA[sec]: 0.475 "
       ]
      },
      {
       "output_type": "stream",
       "stream": "stderr",
       "text": [
        "\r",
        "[ 61 %] elapsed[sec]: 0.742 | ETA[sec]: 0.474 "
       ]
      },
      {
       "output_type": "stream",
       "stream": "stderr",
       "text": [
        "\r",
        "[ 61 %] elapsed[sec]: 0.742 | ETA[sec]: 0.473 "
       ]
      },
      {
       "output_type": "stream",
       "stream": "stderr",
       "text": [
        "\r",
        "[ 61 %] elapsed[sec]: 0.743 | ETA[sec]: 0.472 "
       ]
      },
      {
       "output_type": "stream",
       "stream": "stderr",
       "text": [
        "\r",
        "[ 61 %] elapsed[sec]: 0.743 | ETA[sec]: 0.471 "
       ]
      },
      {
       "output_type": "stream",
       "stream": "stderr",
       "text": [
        "\r",
        "[ 61 %] elapsed[sec]: 0.743 | ETA[sec]: 0.470 "
       ]
      },
      {
       "output_type": "stream",
       "stream": "stderr",
       "text": [
        "\r",
        "[ 61 %] elapsed[sec]: 0.744 | ETA[sec]: 0.469 "
       ]
      },
      {
       "output_type": "stream",
       "stream": "stderr",
       "text": [
        "\r",
        "[ 61 %] elapsed[sec]: 0.744 | ETA[sec]: 0.468 "
       ]
      },
      {
       "output_type": "stream",
       "stream": "stderr",
       "text": [
        "\r",
        "[ 61 %] elapsed[sec]: 0.745 | ETA[sec]: 0.467 "
       ]
      },
      {
       "output_type": "stream",
       "stream": "stderr",
       "text": [
        "\r",
        "[ 61 %] elapsed[sec]: 0.745 | ETA[sec]: 0.466 "
       ]
      },
      {
       "output_type": "stream",
       "stream": "stderr",
       "text": [
        "\r",
        "[ 61 %] elapsed[sec]: 0.745 | ETA[sec]: 0.465 "
       ]
      },
      {
       "output_type": "stream",
       "stream": "stderr",
       "text": [
        "\r",
        "[ 61 %] elapsed[sec]: 0.746 | ETA[sec]: 0.464 "
       ]
      },
      {
       "output_type": "stream",
       "stream": "stderr",
       "text": [
        "\r",
        "[ 61 %] elapsed[sec]: 0.746 | ETA[sec]: 0.463 "
       ]
      },
      {
       "output_type": "stream",
       "stream": "stderr",
       "text": [
        "\r",
        "[ 61 %] elapsed[sec]: 0.748 | ETA[sec]: 0.463 "
       ]
      },
      {
       "output_type": "stream",
       "stream": "stderr",
       "text": [
        "\r",
        "[ 61 %] elapsed[sec]: 0.749 | ETA[sec]: 0.462 "
       ]
      },
      {
       "output_type": "stream",
       "stream": "stderr",
       "text": [
        "\r",
        "[ 61 %] elapsed[sec]: 0.749 | ETA[sec]: 0.461 "
       ]
      },
      {
       "output_type": "stream",
       "stream": "stderr",
       "text": [
        "\r",
        "[ 62 %] elapsed[sec]: 0.750 | ETA[sec]: 0.460 "
       ]
      },
      {
       "output_type": "stream",
       "stream": "stderr",
       "text": [
        "\r",
        "[ 62 %] elapsed[sec]: 0.750 | ETA[sec]: 0.459 "
       ]
      },
      {
       "output_type": "stream",
       "stream": "stderr",
       "text": [
        "\r",
        "[ 62 %] elapsed[sec]: 0.751 | ETA[sec]: 0.458 "
       ]
      },
      {
       "output_type": "stream",
       "stream": "stderr",
       "text": [
        "\r",
        "[ 62 %] elapsed[sec]: 0.751 | ETA[sec]: 0.457 "
       ]
      },
      {
       "output_type": "stream",
       "stream": "stderr",
       "text": [
        "\r",
        "[ 62 %] elapsed[sec]: 0.752 | ETA[sec]: 0.456 "
       ]
      },
      {
       "output_type": "stream",
       "stream": "stderr",
       "text": [
        "\r",
        "[ 62 %] elapsed[sec]: 0.752 | ETA[sec]: 0.455 "
       ]
      },
      {
       "output_type": "stream",
       "stream": "stderr",
       "text": [
        "\r",
        "[ 62 %] elapsed[sec]: 0.753 | ETA[sec]: 0.454 "
       ]
      },
      {
       "output_type": "stream",
       "stream": "stderr",
       "text": [
        "\r",
        "[ 62 %] elapsed[sec]: 0.753 | ETA[sec]: 0.452 "
       ]
      },
      {
       "output_type": "stream",
       "stream": "stderr",
       "text": [
        "\r",
        "[ 62 %] elapsed[sec]: 0.753 | ETA[sec]: 0.451 "
       ]
      },
      {
       "output_type": "stream",
       "stream": "stderr",
       "text": [
        "\r",
        "[ 62 %] elapsed[sec]: 0.754 | ETA[sec]: 0.450 "
       ]
      },
      {
       "output_type": "stream",
       "stream": "stderr",
       "text": [
        "\r",
        "[ 62 %] elapsed[sec]: 0.754 | ETA[sec]: 0.449 "
       ]
      },
      {
       "output_type": "stream",
       "stream": "stderr",
       "text": [
        "\r",
        "[ 62 %] elapsed[sec]: 0.755 | ETA[sec]: 0.448 "
       ]
      },
      {
       "output_type": "stream",
       "stream": "stderr",
       "text": [
        "\r",
        "[ 62 %] elapsed[sec]: 0.755 | ETA[sec]: 0.447 "
       ]
      },
      {
       "output_type": "stream",
       "stream": "stderr",
       "text": [
        "\r",
        "[ 62 %] elapsed[sec]: 0.755 | ETA[sec]: 0.446 "
       ]
      },
      {
       "output_type": "stream",
       "stream": "stderr",
       "text": [
        "\r",
        "[ 62 %] elapsed[sec]: 0.756 | ETA[sec]: 0.445 "
       ]
      },
      {
       "output_type": "stream",
       "stream": "stderr",
       "text": [
        "\r",
        "[ 63 %] elapsed[sec]: 0.756 | ETA[sec]: 0.444 "
       ]
      },
      {
       "output_type": "stream",
       "stream": "stderr",
       "text": [
        "\r",
        "[ 63 %] elapsed[sec]: 0.757 | ETA[sec]: 0.443 "
       ]
      },
      {
       "output_type": "stream",
       "stream": "stderr",
       "text": [
        "\r",
        "[ 63 %] elapsed[sec]: 0.757 | ETA[sec]: 0.442 "
       ]
      },
      {
       "output_type": "stream",
       "stream": "stderr",
       "text": [
        "\r",
        "[ 63 %] elapsed[sec]: 0.758 | ETA[sec]: 0.441 "
       ]
      },
      {
       "output_type": "stream",
       "stream": "stderr",
       "text": [
        "\r",
        "[ 63 %] elapsed[sec]: 0.758 | ETA[sec]: 0.440 "
       ]
      },
      {
       "output_type": "stream",
       "stream": "stderr",
       "text": [
        "\r",
        "[ 63 %] elapsed[sec]: 0.759 | ETA[sec]: 0.439 "
       ]
      },
      {
       "output_type": "stream",
       "stream": "stderr",
       "text": [
        "\r",
        "[ 63 %] elapsed[sec]: 0.759 | ETA[sec]: 0.438 "
       ]
      },
      {
       "output_type": "stream",
       "stream": "stderr",
       "text": [
        "\r",
        "[ 63 %] elapsed[sec]: 0.772 | ETA[sec]: 0.444 "
       ]
      },
      {
       "output_type": "stream",
       "stream": "stderr",
       "text": [
        "\r",
        "[ 63 %] elapsed[sec]: 0.772 | ETA[sec]: 0.443 "
       ]
      },
      {
       "output_type": "stream",
       "stream": "stderr",
       "text": [
        "\r",
        "[ 63 %] elapsed[sec]: 0.772 | ETA[sec]: 0.442 "
       ]
      },
      {
       "output_type": "stream",
       "stream": "stderr",
       "text": [
        "\r",
        "[ 63 %] elapsed[sec]: 0.773 | ETA[sec]: 0.441 "
       ]
      },
      {
       "output_type": "stream",
       "stream": "stderr",
       "text": [
        "\r",
        "[ 63 %] elapsed[sec]: 0.773 | ETA[sec]: 0.440 "
       ]
      },
      {
       "output_type": "stream",
       "stream": "stderr",
       "text": [
        "\r",
        "[ 63 %] elapsed[sec]: 0.774 | ETA[sec]: 0.439 "
       ]
      },
      {
       "output_type": "stream",
       "stream": "stderr",
       "text": [
        "\r",
        "[ 63 %] elapsed[sec]: 0.774 | ETA[sec]: 0.438 "
       ]
      },
      {
       "output_type": "stream",
       "stream": "stderr",
       "text": [
        "\r",
        "[ 63 %] elapsed[sec]: 0.774 | ETA[sec]: 0.437 "
       ]
      },
      {
       "output_type": "stream",
       "stream": "stderr",
       "text": [
        "\r",
        "[ 64 %] elapsed[sec]: 0.775 | ETA[sec]: 0.436 "
       ]
      },
      {
       "output_type": "stream",
       "stream": "stderr",
       "text": [
        "\r",
        "[ 64 %] elapsed[sec]: 0.775 | ETA[sec]: 0.435 "
       ]
      },
      {
       "output_type": "stream",
       "stream": "stderr",
       "text": [
        "\r",
        "[ 64 %] elapsed[sec]: 0.776 | ETA[sec]: 0.434 "
       ]
      },
      {
       "output_type": "stream",
       "stream": "stderr",
       "text": [
        "\r",
        "[ 64 %] elapsed[sec]: 0.776 | ETA[sec]: 0.433 "
       ]
      },
      {
       "output_type": "stream",
       "stream": "stderr",
       "text": [
        "\r",
        "[ 64 %] elapsed[sec]: 0.776 | ETA[sec]: 0.432 "
       ]
      },
      {
       "output_type": "stream",
       "stream": "stderr",
       "text": [
        "\r",
        "[ 64 %] elapsed[sec]: 0.777 | ETA[sec]: 0.431 "
       ]
      },
      {
       "output_type": "stream",
       "stream": "stderr",
       "text": [
        "\r",
        "[ 64 %] elapsed[sec]: 0.777 | ETA[sec]: 0.430 "
       ]
      },
      {
       "output_type": "stream",
       "stream": "stderr",
       "text": [
        "\r",
        "[ 64 %] elapsed[sec]: 0.778 | ETA[sec]: 0.429 "
       ]
      },
      {
       "output_type": "stream",
       "stream": "stderr",
       "text": [
        "\r",
        "[ 64 %] elapsed[sec]: 0.778 | ETA[sec]: 0.428 "
       ]
      },
      {
       "output_type": "stream",
       "stream": "stderr",
       "text": [
        "\r",
        "[ 64 %] elapsed[sec]: 0.778 | ETA[sec]: 0.427 "
       ]
      },
      {
       "output_type": "stream",
       "stream": "stderr",
       "text": [
        "\r",
        "[ 64 %] elapsed[sec]: 0.779 | ETA[sec]: 0.425 "
       ]
      },
      {
       "output_type": "stream",
       "stream": "stderr",
       "text": [
        "\r",
        "[ 64 %] elapsed[sec]: 0.779 | ETA[sec]: 0.424 "
       ]
      },
      {
       "output_type": "stream",
       "stream": "stderr",
       "text": [
        "\r",
        "[ 64 %] elapsed[sec]: 0.780 | ETA[sec]: 0.423 "
       ]
      },
      {
       "output_type": "stream",
       "stream": "stderr",
       "text": [
        "\r",
        "[ 64 %] elapsed[sec]: 0.780 | ETA[sec]: 0.422 "
       ]
      },
      {
       "output_type": "stream",
       "stream": "stderr",
       "text": [
        "\r",
        "[ 64 %] elapsed[sec]: 0.780 | ETA[sec]: 0.421 "
       ]
      },
      {
       "output_type": "stream",
       "stream": "stderr",
       "text": [
        "\r",
        "[ 65 %] elapsed[sec]: 0.781 | ETA[sec]: 0.420 "
       ]
      },
      {
       "output_type": "stream",
       "stream": "stderr",
       "text": [
        "\r",
        "[ 65 %] elapsed[sec]: 0.781 | ETA[sec]: 0.419 "
       ]
      },
      {
       "output_type": "stream",
       "stream": "stderr",
       "text": [
        "\r",
        "[ 65 %] elapsed[sec]: 0.786 | ETA[sec]: 0.421 "
       ]
      },
      {
       "output_type": "stream",
       "stream": "stderr",
       "text": [
        "\r",
        "[ 65 %] elapsed[sec]: 0.786 | ETA[sec]: 0.419 "
       ]
      },
      {
       "output_type": "stream",
       "stream": "stderr",
       "text": [
        "\r",
        "[ 65 %] elapsed[sec]: 0.786 | ETA[sec]: 0.418 "
       ]
      },
      {
       "output_type": "stream",
       "stream": "stderr",
       "text": [
        "\r",
        "[ 65 %] elapsed[sec]: 0.787 | ETA[sec]: 0.417 "
       ]
      },
      {
       "output_type": "stream",
       "stream": "stderr",
       "text": [
        "\r",
        "[ 65 %] elapsed[sec]: 0.787 | ETA[sec]: 0.416 "
       ]
      },
      {
       "output_type": "stream",
       "stream": "stderr",
       "text": [
        "\r",
        "[ 65 %] elapsed[sec]: 0.787 | ETA[sec]: 0.415 "
       ]
      },
      {
       "output_type": "stream",
       "stream": "stderr",
       "text": [
        "\r",
        "[ 65 %] elapsed[sec]: 0.788 | ETA[sec]: 0.414 "
       ]
      },
      {
       "output_type": "stream",
       "stream": "stderr",
       "text": [
        "\r",
        "[ 65 %] elapsed[sec]: 0.788 | ETA[sec]: 0.413 "
       ]
      },
      {
       "output_type": "stream",
       "stream": "stderr",
       "text": [
        "\r",
        "[ 65 %] elapsed[sec]: 0.788 | ETA[sec]: 0.412 "
       ]
      },
      {
       "output_type": "stream",
       "stream": "stderr",
       "text": [
        "\r",
        "[ 65 %] elapsed[sec]: 0.789 | ETA[sec]: 0.411 "
       ]
      },
      {
       "output_type": "stream",
       "stream": "stderr",
       "text": [
        "\r",
        "[ 65 %] elapsed[sec]: 0.789 | ETA[sec]: 0.410 "
       ]
      },
      {
       "output_type": "stream",
       "stream": "stderr",
       "text": [
        "\r",
        "[ 65 %] elapsed[sec]: 0.790 | ETA[sec]: 0.409 "
       ]
      },
      {
       "output_type": "stream",
       "stream": "stderr",
       "text": [
        "\r",
        "[ 65 %] elapsed[sec]: 0.790 | ETA[sec]: 0.408 "
       ]
      },
      {
       "output_type": "stream",
       "stream": "stderr",
       "text": [
        "\r",
        "[ 66 %] elapsed[sec]: 0.790 | ETA[sec]: 0.407 "
       ]
      },
      {
       "output_type": "stream",
       "stream": "stderr",
       "text": [
        "\r",
        "[ 66 %] elapsed[sec]: 0.791 | ETA[sec]: 0.406 "
       ]
      },
      {
       "output_type": "stream",
       "stream": "stderr",
       "text": [
        "\r",
        "[ 66 %] elapsed[sec]: 0.791 | ETA[sec]: 0.405 "
       ]
      },
      {
       "output_type": "stream",
       "stream": "stderr",
       "text": [
        "\r",
        "[ 66 %] elapsed[sec]: 0.791 | ETA[sec]: 0.404 "
       ]
      },
      {
       "output_type": "stream",
       "stream": "stderr",
       "text": [
        "\r",
        "[ 66 %] elapsed[sec]: 0.792 | ETA[sec]: 0.403 "
       ]
      },
      {
       "output_type": "stream",
       "stream": "stderr",
       "text": [
        "\r",
        "[ 66 %] elapsed[sec]: 0.792 | ETA[sec]: 0.402 "
       ]
      },
      {
       "output_type": "stream",
       "stream": "stderr",
       "text": [
        "\r",
        "[ 66 %] elapsed[sec]: 0.793 | ETA[sec]: 0.401 "
       ]
      },
      {
       "output_type": "stream",
       "stream": "stderr",
       "text": [
        "\r",
        "[ 66 %] elapsed[sec]: 0.793 | ETA[sec]: 0.400 "
       ]
      },
      {
       "output_type": "stream",
       "stream": "stderr",
       "text": [
        "\r",
        "[ 66 %] elapsed[sec]: 0.794 | ETA[sec]: 0.399 "
       ]
      },
      {
       "output_type": "stream",
       "stream": "stderr",
       "text": [
        "\r",
        "[ 66 %] elapsed[sec]: 0.794 | ETA[sec]: 0.398 "
       ]
      },
      {
       "output_type": "stream",
       "stream": "stderr",
       "text": [
        "\r",
        "[ 66 %] elapsed[sec]: 0.795 | ETA[sec]: 0.397 "
       ]
      },
      {
       "output_type": "stream",
       "stream": "stderr",
       "text": [
        "\r",
        "[ 66 %] elapsed[sec]: 0.795 | ETA[sec]: 0.396 "
       ]
      },
      {
       "output_type": "stream",
       "stream": "stderr",
       "text": [
        "\r",
        "[ 66 %] elapsed[sec]: 0.804 | ETA[sec]: 0.399 "
       ]
      },
      {
       "output_type": "stream",
       "stream": "stderr",
       "text": [
        "\r",
        "[ 66 %] elapsed[sec]: 0.804 | ETA[sec]: 0.398 "
       ]
      },
      {
       "output_type": "stream",
       "stream": "stderr",
       "text": [
        "\r",
        "[ 66 %] elapsed[sec]: 0.804 | ETA[sec]: 0.397 "
       ]
      },
      {
       "output_type": "stream",
       "stream": "stderr",
       "text": [
        "\r",
        "[ 67 %] elapsed[sec]: 0.805 | ETA[sec]: 0.396 "
       ]
      },
      {
       "output_type": "stream",
       "stream": "stderr",
       "text": [
        "\r",
        "[ 67 %] elapsed[sec]: 0.805 | ETA[sec]: 0.395 "
       ]
      },
      {
       "output_type": "stream",
       "stream": "stderr",
       "text": [
        "\r",
        "[ 67 %] elapsed[sec]: 0.805 | ETA[sec]: 0.394 "
       ]
      },
      {
       "output_type": "stream",
       "stream": "stderr",
       "text": [
        "\r",
        "[ 67 %] elapsed[sec]: 0.806 | ETA[sec]: 0.393 "
       ]
      },
      {
       "output_type": "stream",
       "stream": "stderr",
       "text": [
        "\r",
        "[ 67 %] elapsed[sec]: 0.806 | ETA[sec]: 0.392 "
       ]
      },
      {
       "output_type": "stream",
       "stream": "stderr",
       "text": [
        "\r",
        "[ 67 %] elapsed[sec]: 0.807 | ETA[sec]: 0.391 "
       ]
      },
      {
       "output_type": "stream",
       "stream": "stderr",
       "text": [
        "\r",
        "[ 67 %] elapsed[sec]: 0.807 | ETA[sec]: 0.390 "
       ]
      },
      {
       "output_type": "stream",
       "stream": "stderr",
       "text": [
        "\r",
        "[ 67 %] elapsed[sec]: 0.807 | ETA[sec]: 0.389 "
       ]
      },
      {
       "output_type": "stream",
       "stream": "stderr",
       "text": [
        "\r",
        "[ 67 %] elapsed[sec]: 0.808 | ETA[sec]: 0.388 "
       ]
      },
      {
       "output_type": "stream",
       "stream": "stderr",
       "text": [
        "\r",
        "[ 67 %] elapsed[sec]: 0.808 | ETA[sec]: 0.387 "
       ]
      },
      {
       "output_type": "stream",
       "stream": "stderr",
       "text": [
        "\r",
        "[ 67 %] elapsed[sec]: 0.809 | ETA[sec]: 0.386 "
       ]
      },
      {
       "output_type": "stream",
       "stream": "stderr",
       "text": [
        "\r",
        "[ 67 %] elapsed[sec]: 0.809 | ETA[sec]: 0.385 "
       ]
      },
      {
       "output_type": "stream",
       "stream": "stderr",
       "text": [
        "\r",
        "[ 67 %] elapsed[sec]: 0.809 | ETA[sec]: 0.384 "
       ]
      },
      {
       "output_type": "stream",
       "stream": "stderr",
       "text": [
        "\r",
        "[ 67 %] elapsed[sec]: 0.810 | ETA[sec]: 0.383 "
       ]
      },
      {
       "output_type": "stream",
       "stream": "stderr",
       "text": [
        "\r",
        "[ 67 %] elapsed[sec]: 0.810 | ETA[sec]: 0.382 "
       ]
      },
      {
       "output_type": "stream",
       "stream": "stderr",
       "text": [
        "\r",
        "[ 68 %] elapsed[sec]: 0.811 | ETA[sec]: 0.382 "
       ]
      },
      {
       "output_type": "stream",
       "stream": "stderr",
       "text": [
        "\r",
        "[ 68 %] elapsed[sec]: 0.811 | ETA[sec]: 0.381 "
       ]
      },
      {
       "output_type": "stream",
       "stream": "stderr",
       "text": [
        "\r",
        "[ 68 %] elapsed[sec]: 0.812 | ETA[sec]: 0.380 "
       ]
      },
      {
       "output_type": "stream",
       "stream": "stderr",
       "text": [
        "\r",
        "[ 68 %] elapsed[sec]: 0.813 | ETA[sec]: 0.379 "
       ]
      },
      {
       "output_type": "stream",
       "stream": "stderr",
       "text": [
        "\r",
        "[ 68 %] elapsed[sec]: 0.813 | ETA[sec]: 0.378 "
       ]
      },
      {
       "output_type": "stream",
       "stream": "stderr",
       "text": [
        "\r",
        "[ 68 %] elapsed[sec]: 0.813 | ETA[sec]: 0.377 "
       ]
      },
      {
       "output_type": "stream",
       "stream": "stderr",
       "text": [
        "\r",
        "[ 68 %] elapsed[sec]: 0.818 | ETA[sec]: 0.378 "
       ]
      },
      {
       "output_type": "stream",
       "stream": "stderr",
       "text": [
        "\r",
        "[ 68 %] elapsed[sec]: 0.819 | ETA[sec]: 0.377 "
       ]
      },
      {
       "output_type": "stream",
       "stream": "stderr",
       "text": [
        "\r",
        "[ 68 %] elapsed[sec]: 0.819 | ETA[sec]: 0.376 "
       ]
      },
      {
       "output_type": "stream",
       "stream": "stderr",
       "text": [
        "\r",
        "[ 68 %] elapsed[sec]: 0.819 | ETA[sec]: 0.375 "
       ]
      },
      {
       "output_type": "stream",
       "stream": "stderr",
       "text": [
        "\r",
        "[ 68 %] elapsed[sec]: 0.820 | ETA[sec]: 0.374 "
       ]
      },
      {
       "output_type": "stream",
       "stream": "stderr",
       "text": [
        "\r",
        "[ 68 %] elapsed[sec]: 0.820 | ETA[sec]: 0.373 "
       ]
      },
      {
       "output_type": "stream",
       "stream": "stderr",
       "text": [
        "\r",
        "[ 68 %] elapsed[sec]: 0.820 | ETA[sec]: 0.372 "
       ]
      },
      {
       "output_type": "stream",
       "stream": "stderr",
       "text": [
        "\r",
        "[ 68 %] elapsed[sec]: 0.821 | ETA[sec]: 0.371 "
       ]
      },
      {
       "output_type": "stream",
       "stream": "stderr",
       "text": [
        "\r",
        "[ 68 %] elapsed[sec]: 0.821 | ETA[sec]: 0.370 "
       ]
      },
      {
       "output_type": "stream",
       "stream": "stderr",
       "text": [
        "\r",
        "[ 69 %] elapsed[sec]: 0.822 | ETA[sec]: 0.369 "
       ]
      },
      {
       "output_type": "stream",
       "stream": "stderr",
       "text": [
        "\r",
        "[ 69 %] elapsed[sec]: 0.822 | ETA[sec]: 0.368 "
       ]
      },
      {
       "output_type": "stream",
       "stream": "stderr",
       "text": [
        "\r",
        "[ 69 %] elapsed[sec]: 0.822 | ETA[sec]: 0.367 "
       ]
      },
      {
       "output_type": "stream",
       "stream": "stderr",
       "text": [
        "\r",
        "[ 69 %] elapsed[sec]: 0.823 | ETA[sec]: 0.366 "
       ]
      },
      {
       "output_type": "stream",
       "stream": "stderr",
       "text": [
        "\r",
        "[ 69 %] elapsed[sec]: 0.823 | ETA[sec]: 0.365 "
       ]
      },
      {
       "output_type": "stream",
       "stream": "stderr",
       "text": [
        "\r",
        "[ 69 %] elapsed[sec]: 0.823 | ETA[sec]: 0.364 "
       ]
      },
      {
       "output_type": "stream",
       "stream": "stderr",
       "text": [
        "\r",
        "[ 69 %] elapsed[sec]: 0.824 | ETA[sec]: 0.363 "
       ]
      },
      {
       "output_type": "stream",
       "stream": "stderr",
       "text": [
        "\r",
        "[ 69 %] elapsed[sec]: 0.824 | ETA[sec]: 0.362 "
       ]
      },
      {
       "output_type": "stream",
       "stream": "stderr",
       "text": [
        "\r",
        "[ 69 %] elapsed[sec]: 0.824 | ETA[sec]: 0.361 "
       ]
      },
      {
       "output_type": "stream",
       "stream": "stderr",
       "text": [
        "\r",
        "[ 69 %] elapsed[sec]: 0.825 | ETA[sec]: 0.360 "
       ]
      },
      {
       "output_type": "stream",
       "stream": "stderr",
       "text": [
        "\r",
        "[ 69 %] elapsed[sec]: 0.825 | ETA[sec]: 0.359 "
       ]
      },
      {
       "output_type": "stream",
       "stream": "stderr",
       "text": [
        "\r",
        "[ 69 %] elapsed[sec]: 0.826 | ETA[sec]: 0.358 "
       ]
      },
      {
       "output_type": "stream",
       "stream": "stderr",
       "text": [
        "\r",
        "[ 69 %] elapsed[sec]: 0.826 | ETA[sec]: 0.357 "
       ]
      },
      {
       "output_type": "stream",
       "stream": "stderr",
       "text": [
        "\r",
        "[ 69 %] elapsed[sec]: 0.826 | ETA[sec]: 0.356 "
       ]
      },
      {
       "output_type": "stream",
       "stream": "stderr",
       "text": [
        "\r",
        "[ 69 %] elapsed[sec]: 0.827 | ETA[sec]: 0.355 "
       ]
      },
      {
       "output_type": "stream",
       "stream": "stderr",
       "text": [
        "\r",
        "[ 70 %] elapsed[sec]: 0.827 | ETA[sec]: 0.355 "
       ]
      },
      {
       "output_type": "stream",
       "stream": "stderr",
       "text": [
        "\r",
        "[ 70 %] elapsed[sec]: 0.837 | ETA[sec]: 0.357 "
       ]
      },
      {
       "output_type": "stream",
       "stream": "stderr",
       "text": [
        "\r",
        "[ 70 %] elapsed[sec]: 0.837 | ETA[sec]: 0.356 "
       ]
      },
      {
       "output_type": "stream",
       "stream": "stderr",
       "text": [
        "\r",
        "[ 70 %] elapsed[sec]: 0.837 | ETA[sec]: 0.356 "
       ]
      },
      {
       "output_type": "stream",
       "stream": "stderr",
       "text": [
        "\r",
        "[ 70 %] elapsed[sec]: 0.838 | ETA[sec]: 0.355 "
       ]
      },
      {
       "output_type": "stream",
       "stream": "stderr",
       "text": [
        "\r",
        "[ 70 %] elapsed[sec]: 0.838 | ETA[sec]: 0.354 "
       ]
      },
      {
       "output_type": "stream",
       "stream": "stderr",
       "text": [
        "\r",
        "[ 70 %] elapsed[sec]: 0.839 | ETA[sec]: 0.353 "
       ]
      },
      {
       "output_type": "stream",
       "stream": "stderr",
       "text": [
        "\r",
        "[ 70 %] elapsed[sec]: 0.839 | ETA[sec]: 0.352 "
       ]
      },
      {
       "output_type": "stream",
       "stream": "stderr",
       "text": [
        "\r",
        "[ 70 %] elapsed[sec]: 0.839 | ETA[sec]: 0.351 "
       ]
      },
      {
       "output_type": "stream",
       "stream": "stderr",
       "text": [
        "\r",
        "[ 70 %] elapsed[sec]: 0.840 | ETA[sec]: 0.350 "
       ]
      },
      {
       "output_type": "stream",
       "stream": "stderr",
       "text": [
        "\r",
        "[ 70 %] elapsed[sec]: 0.840 | ETA[sec]: 0.349 "
       ]
      },
      {
       "output_type": "stream",
       "stream": "stderr",
       "text": [
        "\r",
        "[ 70 %] elapsed[sec]: 0.841 | ETA[sec]: 0.348 "
       ]
      },
      {
       "output_type": "stream",
       "stream": "stderr",
       "text": [
        "\r",
        "[ 70 %] elapsed[sec]: 0.841 | ETA[sec]: 0.347 "
       ]
      },
      {
       "output_type": "stream",
       "stream": "stderr",
       "text": [
        "\r",
        "[ 70 %] elapsed[sec]: 0.841 | ETA[sec]: 0.346 "
       ]
      },
      {
       "output_type": "stream",
       "stream": "stderr",
       "text": [
        "\r",
        "[ 70 %] elapsed[sec]: 0.842 | ETA[sec]: 0.345 "
       ]
      },
      {
       "output_type": "stream",
       "stream": "stderr",
       "text": [
        "\r",
        "[ 71 %] elapsed[sec]: 0.842 | ETA[sec]: 0.344 "
       ]
      },
      {
       "output_type": "stream",
       "stream": "stderr",
       "text": [
        "\r",
        "[ 71 %] elapsed[sec]: 0.843 | ETA[sec]: 0.343 "
       ]
      },
      {
       "output_type": "stream",
       "stream": "stderr",
       "text": [
        "\r",
        "[ 71 %] elapsed[sec]: 0.843 | ETA[sec]: 0.342 "
       ]
      },
      {
       "output_type": "stream",
       "stream": "stderr",
       "text": [
        "\r",
        "[ 71 %] elapsed[sec]: 0.844 | ETA[sec]: 0.341 "
       ]
      },
      {
       "output_type": "stream",
       "stream": "stderr",
       "text": [
        "\r",
        "[ 71 %] elapsed[sec]: 0.844 | ETA[sec]: 0.340 "
       ]
      },
      {
       "output_type": "stream",
       "stream": "stderr",
       "text": [
        "\r",
        "[ 71 %] elapsed[sec]: 0.845 | ETA[sec]: 0.339 "
       ]
      },
      {
       "output_type": "stream",
       "stream": "stderr",
       "text": [
        "\r",
        "[ 71 %] elapsed[sec]: 0.845 | ETA[sec]: 0.339 "
       ]
      },
      {
       "output_type": "stream",
       "stream": "stderr",
       "text": [
        "\r",
        "[ 71 %] elapsed[sec]: 0.846 | ETA[sec]: 0.338 "
       ]
      },
      {
       "output_type": "stream",
       "stream": "stderr",
       "text": [
        "\r",
        "[ 71 %] elapsed[sec]: 0.846 | ETA[sec]: 0.337 "
       ]
      },
      {
       "output_type": "stream",
       "stream": "stderr",
       "text": [
        "\r",
        "[ 71 %] elapsed[sec]: 0.847 | ETA[sec]: 0.336 "
       ]
      },
      {
       "output_type": "stream",
       "stream": "stderr",
       "text": [
        "\r",
        "[ 71 %] elapsed[sec]: 0.847 | ETA[sec]: 0.335 "
       ]
      },
      {
       "output_type": "stream",
       "stream": "stderr",
       "text": [
        "\r",
        "[ 71 %] elapsed[sec]: 0.851 | ETA[sec]: 0.335 "
       ]
      },
      {
       "output_type": "stream",
       "stream": "stderr",
       "text": [
        "\r",
        "[ 71 %] elapsed[sec]: 0.851 | ETA[sec]: 0.334 "
       ]
      },
      {
       "output_type": "stream",
       "stream": "stderr",
       "text": [
        "\r",
        "[ 71 %] elapsed[sec]: 0.852 | ETA[sec]: 0.333 "
       ]
      },
      {
       "output_type": "stream",
       "stream": "stderr",
       "text": [
        "\r",
        "[ 71 %] elapsed[sec]: 0.852 | ETA[sec]: 0.332 "
       ]
      },
      {
       "output_type": "stream",
       "stream": "stderr",
       "text": [
        "\r",
        "[ 72 %] elapsed[sec]: 0.852 | ETA[sec]: 0.331 "
       ]
      },
      {
       "output_type": "stream",
       "stream": "stderr",
       "text": [
        "\r",
        "[ 72 %] elapsed[sec]: 0.853 | ETA[sec]: 0.330 "
       ]
      },
      {
       "output_type": "stream",
       "stream": "stderr",
       "text": [
        "\r",
        "[ 72 %] elapsed[sec]: 0.853 | ETA[sec]: 0.330 "
       ]
      },
      {
       "output_type": "stream",
       "stream": "stderr",
       "text": [
        "\r",
        "[ 72 %] elapsed[sec]: 0.853 | ETA[sec]: 0.329 "
       ]
      },
      {
       "output_type": "stream",
       "stream": "stderr",
       "text": [
        "\r",
        "[ 72 %] elapsed[sec]: 0.854 | ETA[sec]: 0.328 "
       ]
      },
      {
       "output_type": "stream",
       "stream": "stderr",
       "text": [
        "\r",
        "[ 72 %] elapsed[sec]: 0.854 | ETA[sec]: 0.327 "
       ]
      },
      {
       "output_type": "stream",
       "stream": "stderr",
       "text": [
        "\r",
        "[ 72 %] elapsed[sec]: 0.855 | ETA[sec]: 0.326 "
       ]
      },
      {
       "output_type": "stream",
       "stream": "stderr",
       "text": [
        "\r",
        "[ 72 %] elapsed[sec]: 0.855 | ETA[sec]: 0.325 "
       ]
      },
      {
       "output_type": "stream",
       "stream": "stderr",
       "text": [
        "\r",
        "[ 72 %] elapsed[sec]: 0.856 | ETA[sec]: 0.324 "
       ]
      },
      {
       "output_type": "stream",
       "stream": "stderr",
       "text": [
        "\r",
        "[ 72 %] elapsed[sec]: 0.856 | ETA[sec]: 0.323 "
       ]
      },
      {
       "output_type": "stream",
       "stream": "stderr",
       "text": [
        "\r",
        "[ 72 %] elapsed[sec]: 0.857 | ETA[sec]: 0.322 "
       ]
      },
      {
       "output_type": "stream",
       "stream": "stderr",
       "text": [
        "\r",
        "[ 72 %] elapsed[sec]: 0.857 | ETA[sec]: 0.321 "
       ]
      },
      {
       "output_type": "stream",
       "stream": "stderr",
       "text": [
        "\r",
        "[ 72 %] elapsed[sec]: 0.858 | ETA[sec]: 0.321 "
       ]
      },
      {
       "output_type": "stream",
       "stream": "stderr",
       "text": [
        "\r",
        "[ 72 %] elapsed[sec]: 0.859 | ETA[sec]: 0.320 "
       ]
      },
      {
       "output_type": "stream",
       "stream": "stderr",
       "text": [
        "\r",
        "[ 72 %] elapsed[sec]: 0.859 | ETA[sec]: 0.319 "
       ]
      },
      {
       "output_type": "stream",
       "stream": "stderr",
       "text": [
        "\r",
        "[ 73 %] elapsed[sec]: 0.860 | ETA[sec]: 0.318 "
       ]
      },
      {
       "output_type": "stream",
       "stream": "stderr",
       "text": [
        "\r",
        "[ 73 %] elapsed[sec]: 0.860 | ETA[sec]: 0.317 "
       ]
      },
      {
       "output_type": "stream",
       "stream": "stderr",
       "text": [
        "\r",
        "[ 73 %] elapsed[sec]: 0.861 | ETA[sec]: 0.316 "
       ]
      },
      {
       "output_type": "stream",
       "stream": "stderr",
       "text": [
        "\r",
        "[ 73 %] elapsed[sec]: 0.861 | ETA[sec]: 0.315 "
       ]
      },
      {
       "output_type": "stream",
       "stream": "stderr",
       "text": [
        "\r",
        "[ 73 %] elapsed[sec]: 0.863 | ETA[sec]: 0.317 "
       ]
      },
      {
       "output_type": "stream",
       "stream": "stderr",
       "text": [
        "\r",
        "[ 73 %] elapsed[sec]: 0.870 | ETA[sec]: 0.317 "
       ]
      },
      {
       "output_type": "stream",
       "stream": "stderr",
       "text": [
        "\r",
        "[ 73 %] elapsed[sec]: 0.871 | ETA[sec]: 0.316 "
       ]
      },
      {
       "output_type": "stream",
       "stream": "stderr",
       "text": [
        "\r",
        "[ 73 %] elapsed[sec]: 0.871 | ETA[sec]: 0.315 "
       ]
      },
      {
       "output_type": "stream",
       "stream": "stderr",
       "text": [
        "\r",
        "[ 73 %] elapsed[sec]: 0.872 | ETA[sec]: 0.314 "
       ]
      },
      {
       "output_type": "stream",
       "stream": "stderr",
       "text": [
        "\r",
        "[ 73 %] elapsed[sec]: 0.872 | ETA[sec]: 0.313 "
       ]
      },
      {
       "output_type": "stream",
       "stream": "stderr",
       "text": [
        "\r",
        "[ 73 %] elapsed[sec]: 0.872 | ETA[sec]: 0.312 "
       ]
      },
      {
       "output_type": "stream",
       "stream": "stderr",
       "text": [
        "\r",
        "[ 73 %] elapsed[sec]: 0.873 | ETA[sec]: 0.311 "
       ]
      },
      {
       "output_type": "stream",
       "stream": "stderr",
       "text": [
        "\r",
        "[ 73 %] elapsed[sec]: 0.873 | ETA[sec]: 0.310 "
       ]
      },
      {
       "output_type": "stream",
       "stream": "stderr",
       "text": [
        "\r",
        "[ 73 %] elapsed[sec]: 0.874 | ETA[sec]: 0.309 "
       ]
      },
      {
       "output_type": "stream",
       "stream": "stderr",
       "text": [
        "\r",
        "[ 73 %] elapsed[sec]: 0.874 | ETA[sec]: 0.308 "
       ]
      },
      {
       "output_type": "stream",
       "stream": "stderr",
       "text": [
        "\r",
        "[ 74 %] elapsed[sec]: 0.879 | ETA[sec]: 0.309 "
       ]
      },
      {
       "output_type": "stream",
       "stream": "stderr",
       "text": [
        "\r",
        "[ 74 %] elapsed[sec]: 0.880 | ETA[sec]: 0.308 "
       ]
      },
      {
       "output_type": "stream",
       "stream": "stderr",
       "text": [
        "\r",
        "[ 74 %] elapsed[sec]: 0.881 | ETA[sec]: 0.307 "
       ]
      },
      {
       "output_type": "stream",
       "stream": "stderr",
       "text": [
        "\r",
        "[ 74 %] elapsed[sec]: 0.882 | ETA[sec]: 0.307 "
       ]
      },
      {
       "output_type": "stream",
       "stream": "stderr",
       "text": [
        "\r",
        "[ 74 %] elapsed[sec]: 0.882 | ETA[sec]: 0.306 "
       ]
      },
      {
       "output_type": "stream",
       "stream": "stderr",
       "text": [
        "\r",
        "[ 74 %] elapsed[sec]: 0.883 | ETA[sec]: 0.305 "
       ]
      },
      {
       "output_type": "stream",
       "stream": "stderr",
       "text": [
        "\r",
        "[ 74 %] elapsed[sec]: 0.884 | ETA[sec]: 0.304 "
       ]
      },
      {
       "output_type": "stream",
       "stream": "stderr",
       "text": [
        "\r",
        "[ 74 %] elapsed[sec]: 0.885 | ETA[sec]: 0.303 "
       ]
      },
      {
       "output_type": "stream",
       "stream": "stderr",
       "text": [
        "\r",
        "[ 74 %] elapsed[sec]: 0.886 | ETA[sec]: 0.303 "
       ]
      },
      {
       "output_type": "stream",
       "stream": "stderr",
       "text": [
        "\r",
        "[ 74 %] elapsed[sec]: 0.886 | ETA[sec]: 0.302 "
       ]
      },
      {
       "output_type": "stream",
       "stream": "stderr",
       "text": [
        "\r",
        "[ 74 %] elapsed[sec]: 0.887 | ETA[sec]: 0.301 "
       ]
      },
      {
       "output_type": "stream",
       "stream": "stderr",
       "text": [
        "\r",
        "[ 74 %] elapsed[sec]: 0.887 | ETA[sec]: 0.300 "
       ]
      },
      {
       "output_type": "stream",
       "stream": "stderr",
       "text": [
        "\r",
        "[ 74 %] elapsed[sec]: 0.888 | ETA[sec]: 0.299 "
       ]
      },
      {
       "output_type": "stream",
       "stream": "stderr",
       "text": [
        "\r",
        "[ 74 %] elapsed[sec]: 0.888 | ETA[sec]: 0.298 "
       ]
      },
      {
       "output_type": "stream",
       "stream": "stderr",
       "text": [
        "\r",
        "[ 74 %] elapsed[sec]: 0.889 | ETA[sec]: 0.297 "
       ]
      },
      {
       "output_type": "stream",
       "stream": "stderr",
       "text": [
        "\r",
        "[ 75 %] elapsed[sec]: 0.890 | ETA[sec]: 0.297 "
       ]
      },
      {
       "output_type": "stream",
       "stream": "stderr",
       "text": [
        "\r",
        "[ 75 %] elapsed[sec]: 0.890 | ETA[sec]: 0.296 "
       ]
      },
      {
       "output_type": "stream",
       "stream": "stderr",
       "text": [
        "\r",
        "[ 75 %] elapsed[sec]: 0.891 | ETA[sec]: 0.295 "
       ]
      },
      {
       "output_type": "stream",
       "stream": "stderr",
       "text": [
        "\r",
        "[ 75 %] elapsed[sec]: 0.892 | ETA[sec]: 0.294 "
       ]
      },
      {
       "output_type": "stream",
       "stream": "stderr",
       "text": [
        "\r",
        "[ 75 %] elapsed[sec]: 0.892 | ETA[sec]: 0.293 "
       ]
      },
      {
       "output_type": "stream",
       "stream": "stderr",
       "text": [
        "\r",
        "[ 75 %] elapsed[sec]: 0.897 | ETA[sec]: 0.294 "
       ]
      },
      {
       "output_type": "stream",
       "stream": "stderr",
       "text": [
        "\r",
        "[ 75 %] elapsed[sec]: 0.897 | ETA[sec]: 0.293 "
       ]
      },
      {
       "output_type": "stream",
       "stream": "stderr",
       "text": [
        "\r",
        "[ 75 %] elapsed[sec]: 0.898 | ETA[sec]: 0.292 "
       ]
      },
      {
       "output_type": "stream",
       "stream": "stderr",
       "text": [
        "\r",
        "[ 75 %] elapsed[sec]: 0.898 | ETA[sec]: 0.291 "
       ]
      },
      {
       "output_type": "stream",
       "stream": "stderr",
       "text": [
        "\r",
        "[ 75 %] elapsed[sec]: 0.899 | ETA[sec]: 0.290 "
       ]
      },
      {
       "output_type": "stream",
       "stream": "stderr",
       "text": [
        "\r",
        "[ 75 %] elapsed[sec]: 0.899 | ETA[sec]: 0.289 "
       ]
      },
      {
       "output_type": "stream",
       "stream": "stderr",
       "text": [
        "\r",
        "[ 75 %] elapsed[sec]: 0.899 | ETA[sec]: 0.288 "
       ]
      },
      {
       "output_type": "stream",
       "stream": "stderr",
       "text": [
        "\r",
        "[ 75 %] elapsed[sec]: 0.900 | ETA[sec]: 0.287 "
       ]
      },
      {
       "output_type": "stream",
       "stream": "stderr",
       "text": [
        "\r",
        "[ 75 %] elapsed[sec]: 0.900 | ETA[sec]: 0.286 "
       ]
      },
      {
       "output_type": "stream",
       "stream": "stderr",
       "text": [
        "\r",
        "[ 75 %] elapsed[sec]: 0.901 | ETA[sec]: 0.285 "
       ]
      },
      {
       "output_type": "stream",
       "stream": "stderr",
       "text": [
        "\r",
        "[ 76 %] elapsed[sec]: 0.901 | ETA[sec]: 0.285 "
       ]
      },
      {
       "output_type": "stream",
       "stream": "stderr",
       "text": [
        "\r",
        "[ 76 %] elapsed[sec]: 0.902 | ETA[sec]: 0.284 "
       ]
      },
      {
       "output_type": "stream",
       "stream": "stderr",
       "text": [
        "\r",
        "[ 76 %] elapsed[sec]: 0.902 | ETA[sec]: 0.283 "
       ]
      },
      {
       "output_type": "stream",
       "stream": "stderr",
       "text": [
        "\r",
        "[ 76 %] elapsed[sec]: 0.903 | ETA[sec]: 0.282 "
       ]
      },
      {
       "output_type": "stream",
       "stream": "stderr",
       "text": [
        "\r",
        "[ 76 %] elapsed[sec]: 0.904 | ETA[sec]: 0.281 "
       ]
      },
      {
       "output_type": "stream",
       "stream": "stderr",
       "text": [
        "\r",
        "[ 76 %] elapsed[sec]: 0.905 | ETA[sec]: 0.281 "
       ]
      },
      {
       "output_type": "stream",
       "stream": "stderr",
       "text": [
        "\r",
        "[ 76 %] elapsed[sec]: 0.906 | ETA[sec]: 0.280 "
       ]
      },
      {
       "output_type": "stream",
       "stream": "stderr",
       "text": [
        "\r",
        "[ 76 %] elapsed[sec]: 0.906 | ETA[sec]: 0.279 "
       ]
      },
      {
       "output_type": "stream",
       "stream": "stderr",
       "text": [
        "\r",
        "[ 76 %] elapsed[sec]: 0.907 | ETA[sec]: 0.278 "
       ]
      },
      {
       "output_type": "stream",
       "stream": "stderr",
       "text": [
        "\r",
        "[ 76 %] elapsed[sec]: 0.907 | ETA[sec]: 0.277 "
       ]
      },
      {
       "output_type": "stream",
       "stream": "stderr",
       "text": [
        "\r",
        "[ 76 %] elapsed[sec]: 0.908 | ETA[sec]: 0.276 "
       ]
      },
      {
       "output_type": "stream",
       "stream": "stderr",
       "text": [
        "\r",
        "[ 76 %] elapsed[sec]: 0.917 | ETA[sec]: 0.278 "
       ]
      },
      {
       "output_type": "stream",
       "stream": "stderr",
       "text": [
        "\r",
        "[ 76 %] elapsed[sec]: 0.917 | ETA[sec]: 0.277 "
       ]
      },
      {
       "output_type": "stream",
       "stream": "stderr",
       "text": [
        "\r",
        "[ 76 %] elapsed[sec]: 0.918 | ETA[sec]: 0.276 "
       ]
      },
      {
       "output_type": "stream",
       "stream": "stderr",
       "text": [
        "\r",
        "[ 76 %] elapsed[sec]: 0.919 | ETA[sec]: 0.275 "
       ]
      },
      {
       "output_type": "stream",
       "stream": "stderr",
       "text": [
        "\r",
        "[ 77 %] elapsed[sec]: 0.919 | ETA[sec]: 0.275 "
       ]
      },
      {
       "output_type": "stream",
       "stream": "stderr",
       "text": [
        "\r",
        "[ 77 %] elapsed[sec]: 0.919 | ETA[sec]: 0.274 "
       ]
      },
      {
       "output_type": "stream",
       "stream": "stderr",
       "text": [
        "\r",
        "[ 77 %] elapsed[sec]: 0.920 | ETA[sec]: 0.273 "
       ]
      },
      {
       "output_type": "stream",
       "stream": "stderr",
       "text": [
        "\r",
        "[ 77 %] elapsed[sec]: 0.920 | ETA[sec]: 0.272 "
       ]
      },
      {
       "output_type": "stream",
       "stream": "stderr",
       "text": [
        "\r",
        "[ 77 %] elapsed[sec]: 0.921 | ETA[sec]: 0.271 "
       ]
      },
      {
       "output_type": "stream",
       "stream": "stderr",
       "text": [
        "\r",
        "[ 77 %] elapsed[sec]: 0.921 | ETA[sec]: 0.270 "
       ]
      },
      {
       "output_type": "stream",
       "stream": "stderr",
       "text": [
        "\r",
        "[ 77 %] elapsed[sec]: 0.921 | ETA[sec]: 0.269 "
       ]
      },
      {
       "output_type": "stream",
       "stream": "stderr",
       "text": [
        "\r",
        "[ 77 %] elapsed[sec]: 0.922 | ETA[sec]: 0.268 "
       ]
      },
      {
       "output_type": "stream",
       "stream": "stderr",
       "text": [
        "\r",
        "[ 77 %] elapsed[sec]: 0.922 | ETA[sec]: 0.267 "
       ]
      },
      {
       "output_type": "stream",
       "stream": "stderr",
       "text": [
        "\r",
        "[ 77 %] elapsed[sec]: 0.922 | ETA[sec]: 0.266 "
       ]
      },
      {
       "output_type": "stream",
       "stream": "stderr",
       "text": [
        "\r",
        "[ 77 %] elapsed[sec]: 0.925 | ETA[sec]: 0.266 "
       ]
      },
      {
       "output_type": "stream",
       "stream": "stderr",
       "text": [
        "\r",
        "[ 77 %] elapsed[sec]: 0.926 | ETA[sec]: 0.265 "
       ]
      },
      {
       "output_type": "stream",
       "stream": "stderr",
       "text": [
        "\r",
        "[ 77 %] elapsed[sec]: 0.926 | ETA[sec]: 0.264 "
       ]
      },
      {
       "output_type": "stream",
       "stream": "stderr",
       "text": [
        "\r",
        "[ 77 %] elapsed[sec]: 0.927 | ETA[sec]: 0.263 "
       ]
      },
      {
       "output_type": "stream",
       "stream": "stderr",
       "text": [
        "\r",
        "[ 77 %] elapsed[sec]: 0.927 | ETA[sec]: 0.263 "
       ]
      },
      {
       "output_type": "stream",
       "stream": "stderr",
       "text": [
        "\r",
        "[ 78 %] elapsed[sec]: 0.927 | ETA[sec]: 0.262 "
       ]
      },
      {
       "output_type": "stream",
       "stream": "stderr",
       "text": [
        "\r",
        "[ 78 %] elapsed[sec]: 0.928 | ETA[sec]: 0.261 "
       ]
      },
      {
       "output_type": "stream",
       "stream": "stderr",
       "text": [
        "\r",
        "[ 78 %] elapsed[sec]: 0.928 | ETA[sec]: 0.260 "
       ]
      },
      {
       "output_type": "stream",
       "stream": "stderr",
       "text": [
        "\r",
        "[ 78 %] elapsed[sec]: 0.930 | ETA[sec]: 0.259 "
       ]
      },
      {
       "output_type": "stream",
       "stream": "stderr",
       "text": [
        "\r",
        "[ 78 %] elapsed[sec]: 0.930 | ETA[sec]: 0.258 "
       ]
      },
      {
       "output_type": "stream",
       "stream": "stderr",
       "text": [
        "\r",
        "[ 78 %] elapsed[sec]: 0.935 | ETA[sec]: 0.259 "
       ]
      },
      {
       "output_type": "stream",
       "stream": "stderr",
       "text": [
        "\r",
        "[ 78 %] elapsed[sec]: 0.936 | ETA[sec]: 0.258 "
       ]
      },
      {
       "output_type": "stream",
       "stream": "stderr",
       "text": [
        "\r",
        "[ 78 %] elapsed[sec]: 0.936 | ETA[sec]: 0.257 "
       ]
      },
      {
       "output_type": "stream",
       "stream": "stderr",
       "text": [
        "\r",
        "[ 78 %] elapsed[sec]: 0.936 | ETA[sec]: 0.256 "
       ]
      },
      {
       "output_type": "stream",
       "stream": "stderr",
       "text": [
        "\r",
        "[ 78 %] elapsed[sec]: 0.937 | ETA[sec]: 0.255 "
       ]
      },
      {
       "output_type": "stream",
       "stream": "stderr",
       "text": [
        "\r",
        "[ 78 %] elapsed[sec]: 0.937 | ETA[sec]: 0.254 "
       ]
      },
      {
       "output_type": "stream",
       "stream": "stderr",
       "text": [
        "\r",
        "[ 78 %] elapsed[sec]: 0.938 | ETA[sec]: 0.253 "
       ]
      },
      {
       "output_type": "stream",
       "stream": "stderr",
       "text": [
        "\r",
        "[ 78 %] elapsed[sec]: 0.938 | ETA[sec]: 0.252 "
       ]
      },
      {
       "output_type": "stream",
       "stream": "stderr",
       "text": [
        "\r",
        "[ 78 %] elapsed[sec]: 0.938 | ETA[sec]: 0.251 "
       ]
      },
      {
       "output_type": "stream",
       "stream": "stderr",
       "text": [
        "\r",
        "[ 78 %] elapsed[sec]: 0.939 | ETA[sec]: 0.251 "
       ]
      },
      {
       "output_type": "stream",
       "stream": "stderr",
       "text": [
        "\r",
        "[ 79 %] elapsed[sec]: 0.939 | ETA[sec]: 0.250 "
       ]
      },
      {
       "output_type": "stream",
       "stream": "stderr",
       "text": [
        "\r",
        "[ 79 %] elapsed[sec]: 0.940 | ETA[sec]: 0.249 "
       ]
      },
      {
       "output_type": "stream",
       "stream": "stderr",
       "text": [
        "\r",
        "[ 79 %] elapsed[sec]: 0.940 | ETA[sec]: 0.248 "
       ]
      },
      {
       "output_type": "stream",
       "stream": "stderr",
       "text": [
        "\r",
        "[ 79 %] elapsed[sec]: 0.940 | ETA[sec]: 0.247 "
       ]
      },
      {
       "output_type": "stream",
       "stream": "stderr",
       "text": [
        "\r",
        "[ 79 %] elapsed[sec]: 0.941 | ETA[sec]: 0.246 "
       ]
      },
      {
       "output_type": "stream",
       "stream": "stderr",
       "text": [
        "\r",
        "[ 79 %] elapsed[sec]: 0.942 | ETA[sec]: 0.245 "
       ]
      },
      {
       "output_type": "stream",
       "stream": "stderr",
       "text": [
        "\r",
        "[ 79 %] elapsed[sec]: 0.942 | ETA[sec]: 0.244 "
       ]
      },
      {
       "output_type": "stream",
       "stream": "stderr",
       "text": [
        "\r",
        "[ 79 %] elapsed[sec]: 0.942 | ETA[sec]: 0.244 "
       ]
      },
      {
       "output_type": "stream",
       "stream": "stderr",
       "text": [
        "\r",
        "[ 79 %] elapsed[sec]: 0.943 | ETA[sec]: 0.243 "
       ]
      },
      {
       "output_type": "stream",
       "stream": "stderr",
       "text": [
        "\r",
        "[ 79 %] elapsed[sec]: 0.943 | ETA[sec]: 0.242 "
       ]
      },
      {
       "output_type": "stream",
       "stream": "stderr",
       "text": [
        "\r",
        "[ 79 %] elapsed[sec]: 0.944 | ETA[sec]: 0.241 "
       ]
      },
      {
       "output_type": "stream",
       "stream": "stderr",
       "text": [
        "\r",
        "[ 79 %] elapsed[sec]: 0.944 | ETA[sec]: 0.240 "
       ]
      },
      {
       "output_type": "stream",
       "stream": "stderr",
       "text": [
        "\r",
        "[ 79 %] elapsed[sec]: 0.945 | ETA[sec]: 0.239 "
       ]
      },
      {
       "output_type": "stream",
       "stream": "stderr",
       "text": [
        "\r",
        "[ 79 %] elapsed[sec]: 0.945 | ETA[sec]: 0.238 "
       ]
      },
      {
       "output_type": "stream",
       "stream": "stderr",
       "text": [
        "\r",
        "[ 79 %] elapsed[sec]: 0.956 | ETA[sec]: 0.240 "
       ]
      },
      {
       "output_type": "stream",
       "stream": "stderr",
       "text": [
        "\r",
        "[ 80 %] elapsed[sec]: 0.957 | ETA[sec]: 0.239 "
       ]
      },
      {
       "output_type": "stream",
       "stream": "stderr",
       "text": [
        "\r",
        "[ 80 %] elapsed[sec]: 0.957 | ETA[sec]: 0.238 "
       ]
      },
      {
       "output_type": "stream",
       "stream": "stderr",
       "text": [
        "\r",
        "[ 80 %] elapsed[sec]: 0.957 | ETA[sec]: 0.237 "
       ]
      },
      {
       "output_type": "stream",
       "stream": "stderr",
       "text": [
        "\r",
        "[ 80 %] elapsed[sec]: 0.958 | ETA[sec]: 0.236 "
       ]
      },
      {
       "output_type": "stream",
       "stream": "stderr",
       "text": [
        "\r",
        "[ 80 %] elapsed[sec]: 0.958 | ETA[sec]: 0.236 "
       ]
      },
      {
       "output_type": "stream",
       "stream": "stderr",
       "text": [
        "\r",
        "[ 80 %] elapsed[sec]: 0.958 | ETA[sec]: 0.235 "
       ]
      },
      {
       "output_type": "stream",
       "stream": "stderr",
       "text": [
        "\r",
        "[ 80 %] elapsed[sec]: 0.959 | ETA[sec]: 0.234 "
       ]
      },
      {
       "output_type": "stream",
       "stream": "stderr",
       "text": [
        "\r",
        "[ 80 %] elapsed[sec]: 0.959 | ETA[sec]: 0.233 "
       ]
      },
      {
       "output_type": "stream",
       "stream": "stderr",
       "text": [
        "\r",
        "[ 80 %] elapsed[sec]: 0.960 | ETA[sec]: 0.232 "
       ]
      },
      {
       "output_type": "stream",
       "stream": "stderr",
       "text": [
        "\r",
        "[ 80 %] elapsed[sec]: 0.960 | ETA[sec]: 0.231 "
       ]
      },
      {
       "output_type": "stream",
       "stream": "stderr",
       "text": [
        "\r",
        "[ 80 %] elapsed[sec]: 0.960 | ETA[sec]: 0.230 "
       ]
      },
      {
       "output_type": "stream",
       "stream": "stderr",
       "text": [
        "\r",
        "[ 80 %] elapsed[sec]: 0.961 | ETA[sec]: 0.229 "
       ]
      },
      {
       "output_type": "stream",
       "stream": "stderr",
       "text": [
        "\r",
        "[ 80 %] elapsed[sec]: 0.961 | ETA[sec]: 0.228 "
       ]
      },
      {
       "output_type": "stream",
       "stream": "stderr",
       "text": [
        "\r",
        "[ 80 %] elapsed[sec]: 0.961 | ETA[sec]: 0.227 "
       ]
      },
      {
       "output_type": "stream",
       "stream": "stderr",
       "text": [
        "\r",
        "[ 80 %] elapsed[sec]: 0.962 | ETA[sec]: 0.227 "
       ]
      },
      {
       "output_type": "stream",
       "stream": "stderr",
       "text": [
        "\r",
        "[ 81 %] elapsed[sec]: 0.962 | ETA[sec]: 0.226 "
       ]
      },
      {
       "output_type": "stream",
       "stream": "stderr",
       "text": [
        "\r",
        "[ 81 %] elapsed[sec]: 0.962 | ETA[sec]: 0.225 "
       ]
      },
      {
       "output_type": "stream",
       "stream": "stderr",
       "text": [
        "\r",
        "[ 81 %] elapsed[sec]: 0.963 | ETA[sec]: 0.224 "
       ]
      },
      {
       "output_type": "stream",
       "stream": "stderr",
       "text": [
        "\r",
        "[ 81 %] elapsed[sec]: 0.963 | ETA[sec]: 0.223 "
       ]
      },
      {
       "output_type": "stream",
       "stream": "stderr",
       "text": [
        "\r",
        "[ 81 %] elapsed[sec]: 0.964 | ETA[sec]: 0.222 "
       ]
      },
      {
       "output_type": "stream",
       "stream": "stderr",
       "text": [
        "\r",
        "[ 81 %] elapsed[sec]: 0.964 | ETA[sec]: 0.221 "
       ]
      },
      {
       "output_type": "stream",
       "stream": "stderr",
       "text": [
        "\r",
        "[ 81 %] elapsed[sec]: 0.964 | ETA[sec]: 0.220 "
       ]
      },
      {
       "output_type": "stream",
       "stream": "stderr",
       "text": [
        "\r",
        "[ 81 %] elapsed[sec]: 0.965 | ETA[sec]: 0.219 "
       ]
      },
      {
       "output_type": "stream",
       "stream": "stderr",
       "text": [
        "\r",
        "[ 81 %] elapsed[sec]: 0.965 | ETA[sec]: 0.219 "
       ]
      },
      {
       "output_type": "stream",
       "stream": "stderr",
       "text": [
        "\r",
        "[ 81 %] elapsed[sec]: 0.966 | ETA[sec]: 0.218 "
       ]
      },
      {
       "output_type": "stream",
       "stream": "stderr",
       "text": [
        "\r",
        "[ 81 %] elapsed[sec]: 0.968 | ETA[sec]: 0.217 "
       ]
      },
      {
       "output_type": "stream",
       "stream": "stderr",
       "text": [
        "\r",
        "[ 81 %] elapsed[sec]: 0.969 | ETA[sec]: 0.217 "
       ]
      },
      {
       "output_type": "stream",
       "stream": "stderr",
       "text": [
        "\r",
        "[ 81 %] elapsed[sec]: 0.970 | ETA[sec]: 0.216 "
       ]
      },
      {
       "output_type": "stream",
       "stream": "stderr",
       "text": [
        "\r",
        "[ 81 %] elapsed[sec]: 0.970 | ETA[sec]: 0.215 "
       ]
      },
      {
       "output_type": "stream",
       "stream": "stderr",
       "text": [
        "\r",
        "[ 81 %] elapsed[sec]: 0.970 | ETA[sec]: 0.214 "
       ]
      },
      {
       "output_type": "stream",
       "stream": "stderr",
       "text": [
        "\r",
        "[ 82 %] elapsed[sec]: 0.971 | ETA[sec]: 0.213 "
       ]
      },
      {
       "output_type": "stream",
       "stream": "stderr",
       "text": [
        "\r",
        "[ 82 %] elapsed[sec]: 0.971 | ETA[sec]: 0.212 "
       ]
      },
      {
       "output_type": "stream",
       "stream": "stderr",
       "text": [
        "\r",
        "[ 82 %] elapsed[sec]: 0.972 | ETA[sec]: 0.211 "
       ]
      },
      {
       "output_type": "stream",
       "stream": "stderr",
       "text": [
        "\r",
        "[ 82 %] elapsed[sec]: 0.972 | ETA[sec]: 0.210 "
       ]
      },
      {
       "output_type": "stream",
       "stream": "stderr",
       "text": [
        "\r",
        "[ 82 %] elapsed[sec]: 0.972 | ETA[sec]: 0.210 "
       ]
      },
      {
       "output_type": "stream",
       "stream": "stderr",
       "text": [
        "\r",
        "[ 82 %] elapsed[sec]: 0.973 | ETA[sec]: 0.209 "
       ]
      },
      {
       "output_type": "stream",
       "stream": "stderr",
       "text": [
        "\r",
        "[ 82 %] elapsed[sec]: 0.973 | ETA[sec]: 0.208 "
       ]
      },
      {
       "output_type": "stream",
       "stream": "stderr",
       "text": [
        "\r",
        "[ 82 %] elapsed[sec]: 0.974 | ETA[sec]: 0.207 "
       ]
      },
      {
       "output_type": "stream",
       "stream": "stderr",
       "text": [
        "\r",
        "[ 82 %] elapsed[sec]: 0.974 | ETA[sec]: 0.206 "
       ]
      },
      {
       "output_type": "stream",
       "stream": "stderr",
       "text": [
        "\r",
        "[ 82 %] elapsed[sec]: 0.974 | ETA[sec]: 0.205 "
       ]
      },
      {
       "output_type": "stream",
       "stream": "stderr",
       "text": [
        "\r",
        "[ 82 %] elapsed[sec]: 0.975 | ETA[sec]: 0.204 "
       ]
      },
      {
       "output_type": "stream",
       "stream": "stderr",
       "text": [
        "\r",
        "[ 82 %] elapsed[sec]: 0.975 | ETA[sec]: 0.204 "
       ]
      },
      {
       "output_type": "stream",
       "stream": "stderr",
       "text": [
        "\r",
        "[ 82 %] elapsed[sec]: 0.975 | ETA[sec]: 0.203 "
       ]
      },
      {
       "output_type": "stream",
       "stream": "stderr",
       "text": [
        "\r",
        "[ 82 %] elapsed[sec]: 0.976 | ETA[sec]: 0.202 "
       ]
      },
      {
       "output_type": "stream",
       "stream": "stderr",
       "text": [
        "\r",
        "[ 82 %] elapsed[sec]: 0.976 | ETA[sec]: 0.201 "
       ]
      },
      {
       "output_type": "stream",
       "stream": "stderr",
       "text": [
        "\r",
        "[ 83 %] elapsed[sec]: 0.977 | ETA[sec]: 0.200 "
       ]
      },
      {
       "output_type": "stream",
       "stream": "stderr",
       "text": [
        "\r",
        "[ 83 %] elapsed[sec]: 0.977 | ETA[sec]: 0.199 "
       ]
      },
      {
       "output_type": "stream",
       "stream": "stderr",
       "text": [
        "\r",
        "[ 83 %] elapsed[sec]: 0.977 | ETA[sec]: 0.198 "
       ]
      },
      {
       "output_type": "stream",
       "stream": "stderr",
       "text": [
        "\r",
        "[ 83 %] elapsed[sec]: 0.978 | ETA[sec]: 0.197 "
       ]
      },
      {
       "output_type": "stream",
       "stream": "stderr",
       "text": [
        "\r",
        "[ 83 %] elapsed[sec]: 0.978 | ETA[sec]: 0.197 "
       ]
      },
      {
       "output_type": "stream",
       "stream": "stderr",
       "text": [
        "\r",
        "[ 83 %] elapsed[sec]: 0.989 | ETA[sec]: 0.198 "
       ]
      },
      {
       "output_type": "stream",
       "stream": "stderr",
       "text": [
        "\r",
        "[ 83 %] elapsed[sec]: 0.990 | ETA[sec]: 0.197 "
       ]
      },
      {
       "output_type": "stream",
       "stream": "stderr",
       "text": [
        "\r",
        "[ 83 %] elapsed[sec]: 0.990 | ETA[sec]: 0.196 "
       ]
      },
      {
       "output_type": "stream",
       "stream": "stderr",
       "text": [
        "\r",
        "[ 83 %] elapsed[sec]: 0.990 | ETA[sec]: 0.195 "
       ]
      },
      {
       "output_type": "stream",
       "stream": "stderr",
       "text": [
        "\r",
        "[ 83 %] elapsed[sec]: 0.991 | ETA[sec]: 0.194 "
       ]
      },
      {
       "output_type": "stream",
       "stream": "stderr",
       "text": [
        "\r",
        "[ 83 %] elapsed[sec]: 0.991 | ETA[sec]: 0.193 "
       ]
      },
      {
       "output_type": "stream",
       "stream": "stderr",
       "text": [
        "\r",
        "[ 83 %] elapsed[sec]: 0.991 | ETA[sec]: 0.193 "
       ]
      },
      {
       "output_type": "stream",
       "stream": "stderr",
       "text": [
        "\r",
        "[ 83 %] elapsed[sec]: 0.992 | ETA[sec]: 0.192 "
       ]
      },
      {
       "output_type": "stream",
       "stream": "stderr",
       "text": [
        "\r",
        "[ 83 %] elapsed[sec]: 0.992 | ETA[sec]: 0.191 "
       ]
      },
      {
       "output_type": "stream",
       "stream": "stderr",
       "text": [
        "\r",
        "[ 83 %] elapsed[sec]: 0.993 | ETA[sec]: 0.190 "
       ]
      },
      {
       "output_type": "stream",
       "stream": "stderr",
       "text": [
        "\r",
        "[ 84 %] elapsed[sec]: 0.993 | ETA[sec]: 0.189 "
       ]
      },
      {
       "output_type": "stream",
       "stream": "stderr",
       "text": [
        "\r",
        "[ 84 %] elapsed[sec]: 0.993 | ETA[sec]: 0.188 "
       ]
      },
      {
       "output_type": "stream",
       "stream": "stderr",
       "text": [
        "\r",
        "[ 84 %] elapsed[sec]: 0.994 | ETA[sec]: 0.187 "
       ]
      },
      {
       "output_type": "stream",
       "stream": "stderr",
       "text": [
        "\r",
        "[ 84 %] elapsed[sec]: 0.994 | ETA[sec]: 0.187 "
       ]
      },
      {
       "output_type": "stream",
       "stream": "stderr",
       "text": [
        "\r",
        "[ 84 %] elapsed[sec]: 0.994 | ETA[sec]: 0.186 "
       ]
      },
      {
       "output_type": "stream",
       "stream": "stderr",
       "text": [
        "\r",
        "[ 84 %] elapsed[sec]: 0.995 | ETA[sec]: 0.185 "
       ]
      },
      {
       "output_type": "stream",
       "stream": "stderr",
       "text": [
        "\r",
        "[ 84 %] elapsed[sec]: 0.995 | ETA[sec]: 0.184 "
       ]
      },
      {
       "output_type": "stream",
       "stream": "stderr",
       "text": [
        "\r",
        "[ 84 %] elapsed[sec]: 0.996 | ETA[sec]: 0.183 "
       ]
      },
      {
       "output_type": "stream",
       "stream": "stderr",
       "text": [
        "\r",
        "[ 84 %] elapsed[sec]: 0.996 | ETA[sec]: 0.182 "
       ]
      },
      {
       "output_type": "stream",
       "stream": "stderr",
       "text": [
        "\r",
        "[ 84 %] elapsed[sec]: 0.996 | ETA[sec]: 0.181 "
       ]
      },
      {
       "output_type": "stream",
       "stream": "stderr",
       "text": [
        "\r",
        "[ 84 %] elapsed[sec]: 0.997 | ETA[sec]: 0.180 "
       ]
      },
      {
       "output_type": "stream",
       "stream": "stderr",
       "text": [
        "\r",
        "[ 84 %] elapsed[sec]: 0.997 | ETA[sec]: 0.180 "
       ]
      },
      {
       "output_type": "stream",
       "stream": "stderr",
       "text": [
        "\r",
        "[ 84 %] elapsed[sec]: 0.997 | ETA[sec]: 0.179 "
       ]
      },
      {
       "output_type": "stream",
       "stream": "stderr",
       "text": [
        "\r",
        "[ 84 %] elapsed[sec]: 0.998 | ETA[sec]: 0.178 "
       ]
      },
      {
       "output_type": "stream",
       "stream": "stderr",
       "text": [
        "\r",
        "[ 84 %] elapsed[sec]: 0.999 | ETA[sec]: 0.177 "
       ]
      },
      {
       "output_type": "stream",
       "stream": "stderr",
       "text": [
        "\r",
        "[ 85 %] elapsed[sec]: 0.999 | ETA[sec]: 0.176 "
       ]
      },
      {
       "output_type": "stream",
       "stream": "stderr",
       "text": [
        "\r",
        "[ 85 %] elapsed[sec]: 1.001 | ETA[sec]: 0.176 "
       ]
      },
      {
       "output_type": "stream",
       "stream": "stderr",
       "text": [
        "\r",
        "[ 85 %] elapsed[sec]: 1.002 | ETA[sec]: 0.175 "
       ]
      },
      {
       "output_type": "stream",
       "stream": "stderr",
       "text": [
        "\r",
        "[ 85 %] elapsed[sec]: 1.002 | ETA[sec]: 0.174 "
       ]
      },
      {
       "output_type": "stream",
       "stream": "stderr",
       "text": [
        "\r",
        "[ 85 %] elapsed[sec]: 1.002 | ETA[sec]: 0.173 "
       ]
      },
      {
       "output_type": "stream",
       "stream": "stderr",
       "text": [
        "\r",
        "[ 85 %] elapsed[sec]: 1.003 | ETA[sec]: 0.172 "
       ]
      },
      {
       "output_type": "stream",
       "stream": "stderr",
       "text": [
        "\r",
        "[ 85 %] elapsed[sec]: 1.003 | ETA[sec]: 0.172 "
       ]
      },
      {
       "output_type": "stream",
       "stream": "stderr",
       "text": [
        "\r",
        "[ 85 %] elapsed[sec]: 1.004 | ETA[sec]: 0.171 "
       ]
      },
      {
       "output_type": "stream",
       "stream": "stderr",
       "text": [
        "\r",
        "[ 85 %] elapsed[sec]: 1.005 | ETA[sec]: 0.170 "
       ]
      },
      {
       "output_type": "stream",
       "stream": "stderr",
       "text": [
        "\r",
        "[ 85 %] elapsed[sec]: 1.005 | ETA[sec]: 0.169 "
       ]
      },
      {
       "output_type": "stream",
       "stream": "stderr",
       "text": [
        "\r",
        "[ 85 %] elapsed[sec]: 1.005 | ETA[sec]: 0.168 "
       ]
      },
      {
       "output_type": "stream",
       "stream": "stderr",
       "text": [
        "\r",
        "[ 85 %] elapsed[sec]: 1.006 | ETA[sec]: 0.167 "
       ]
      },
      {
       "output_type": "stream",
       "stream": "stderr",
       "text": [
        "\r",
        "[ 85 %] elapsed[sec]: 1.006 | ETA[sec]: 0.167 "
       ]
      },
      {
       "output_type": "stream",
       "stream": "stderr",
       "text": [
        "\r",
        "[ 85 %] elapsed[sec]: 1.007 | ETA[sec]: 0.166 "
       ]
      },
      {
       "output_type": "stream",
       "stream": "stderr",
       "text": [
        "\r",
        "[ 85 %] elapsed[sec]: 1.007 | ETA[sec]: 0.165 "
       ]
      },
      {
       "output_type": "stream",
       "stream": "stderr",
       "text": [
        "\r",
        "[ 86 %] elapsed[sec]: 1.007 | ETA[sec]: 0.164 "
       ]
      },
      {
       "output_type": "stream",
       "stream": "stderr",
       "text": [
        "\r",
        "[ 86 %] elapsed[sec]: 1.008 | ETA[sec]: 0.163 "
       ]
      },
      {
       "output_type": "stream",
       "stream": "stderr",
       "text": [
        "\r",
        "[ 86 %] elapsed[sec]: 1.008 | ETA[sec]: 0.162 "
       ]
      },
      {
       "output_type": "stream",
       "stream": "stderr",
       "text": [
        "\r",
        "[ 86 %] elapsed[sec]: 1.009 | ETA[sec]: 0.161 "
       ]
      },
      {
       "output_type": "stream",
       "stream": "stderr",
       "text": [
        "\r",
        "[ 86 %] elapsed[sec]: 1.009 | ETA[sec]: 0.161 "
       ]
      },
      {
       "output_type": "stream",
       "stream": "stderr",
       "text": [
        "\r",
        "[ 86 %] elapsed[sec]: 1.009 | ETA[sec]: 0.160 "
       ]
      },
      {
       "output_type": "stream",
       "stream": "stderr",
       "text": [
        "\r",
        "[ 86 %] elapsed[sec]: 1.010 | ETA[sec]: 0.159 "
       ]
      },
      {
       "output_type": "stream",
       "stream": "stderr",
       "text": [
        "\r",
        "[ 86 %] elapsed[sec]: 1.010 | ETA[sec]: 0.158 "
       ]
      },
      {
       "output_type": "stream",
       "stream": "stderr",
       "text": [
        "\r",
        "[ 86 %] elapsed[sec]: 1.010 | ETA[sec]: 0.157 "
       ]
      },
      {
       "output_type": "stream",
       "stream": "stderr",
       "text": [
        "\r",
        "[ 86 %] elapsed[sec]: 1.011 | ETA[sec]: 0.156 "
       ]
      },
      {
       "output_type": "stream",
       "stream": "stderr",
       "text": [
        "\r",
        "[ 86 %] elapsed[sec]: 1.022 | ETA[sec]: 0.157 "
       ]
      },
      {
       "output_type": "stream",
       "stream": "stderr",
       "text": [
        "\r",
        "[ 86 %] elapsed[sec]: 1.022 | ETA[sec]: 0.156 "
       ]
      },
      {
       "output_type": "stream",
       "stream": "stderr",
       "text": [
        "\r",
        "[ 86 %] elapsed[sec]: 1.022 | ETA[sec]: 0.155 "
       ]
      },
      {
       "output_type": "stream",
       "stream": "stderr",
       "text": [
        "\r",
        "[ 86 %] elapsed[sec]: 1.023 | ETA[sec]: 0.155 "
       ]
      },
      {
       "output_type": "stream",
       "stream": "stderr",
       "text": [
        "\r",
        "[ 86 %] elapsed[sec]: 1.023 | ETA[sec]: 0.154 "
       ]
      },
      {
       "output_type": "stream",
       "stream": "stderr",
       "text": [
        "\r",
        "[ 87 %] elapsed[sec]: 1.024 | ETA[sec]: 0.153 "
       ]
      },
      {
       "output_type": "stream",
       "stream": "stderr",
       "text": [
        "\r",
        "[ 87 %] elapsed[sec]: 1.024 | ETA[sec]: 0.152 "
       ]
      },
      {
       "output_type": "stream",
       "stream": "stderr",
       "text": [
        "\r",
        "[ 87 %] elapsed[sec]: 1.024 | ETA[sec]: 0.151 "
       ]
      },
      {
       "output_type": "stream",
       "stream": "stderr",
       "text": [
        "\r",
        "[ 87 %] elapsed[sec]: 1.025 | ETA[sec]: 0.150 "
       ]
      },
      {
       "output_type": "stream",
       "stream": "stderr",
       "text": [
        "\r",
        "[ 87 %] elapsed[sec]: 1.025 | ETA[sec]: 0.150 "
       ]
      },
      {
       "output_type": "stream",
       "stream": "stderr",
       "text": [
        "\r",
        "[ 87 %] elapsed[sec]: 1.025 | ETA[sec]: 0.149 "
       ]
      },
      {
       "output_type": "stream",
       "stream": "stderr",
       "text": [
        "\r",
        "[ 87 %] elapsed[sec]: 1.026 | ETA[sec]: 0.148 "
       ]
      },
      {
       "output_type": "stream",
       "stream": "stderr",
       "text": [
        "\r",
        "[ 87 %] elapsed[sec]: 1.026 | ETA[sec]: 0.147 "
       ]
      },
      {
       "output_type": "stream",
       "stream": "stderr",
       "text": [
        "\r",
        "[ 87 %] elapsed[sec]: 1.027 | ETA[sec]: 0.146 "
       ]
      },
      {
       "output_type": "stream",
       "stream": "stderr",
       "text": [
        "\r",
        "[ 87 %] elapsed[sec]: 1.027 | ETA[sec]: 0.145 "
       ]
      },
      {
       "output_type": "stream",
       "stream": "stderr",
       "text": [
        "\r",
        "[ 87 %] elapsed[sec]: 1.027 | ETA[sec]: 0.145 "
       ]
      },
      {
       "output_type": "stream",
       "stream": "stderr",
       "text": [
        "\r",
        "[ 87 %] elapsed[sec]: 1.028 | ETA[sec]: 0.144 "
       ]
      },
      {
       "output_type": "stream",
       "stream": "stderr",
       "text": [
        "\r",
        "[ 87 %] elapsed[sec]: 1.028 | ETA[sec]: 0.143 "
       ]
      },
      {
       "output_type": "stream",
       "stream": "stderr",
       "text": [
        "\r",
        "[ 87 %] elapsed[sec]: 1.028 | ETA[sec]: 0.142 "
       ]
      },
      {
       "output_type": "stream",
       "stream": "stderr",
       "text": [
        "\r",
        "[ 87 %] elapsed[sec]: 1.029 | ETA[sec]: 0.141 "
       ]
      },
      {
       "output_type": "stream",
       "stream": "stderr",
       "text": [
        "\r",
        "[ 88 %] elapsed[sec]: 1.029 | ETA[sec]: 0.140 "
       ]
      },
      {
       "output_type": "stream",
       "stream": "stderr",
       "text": [
        "\r",
        "[ 88 %] elapsed[sec]: 1.029 | ETA[sec]: 0.139 "
       ]
      },
      {
       "output_type": "stream",
       "stream": "stderr",
       "text": [
        "\r",
        "[ 88 %] elapsed[sec]: 1.030 | ETA[sec]: 0.139 "
       ]
      },
      {
       "output_type": "stream",
       "stream": "stderr",
       "text": [
        "\r",
        "[ 88 %] elapsed[sec]: 1.030 | ETA[sec]: 0.138 "
       ]
      },
      {
       "output_type": "stream",
       "stream": "stderr",
       "text": [
        "\r",
        "[ 88 %] elapsed[sec]: 1.034 | ETA[sec]: 0.137 "
       ]
      },
      {
       "output_type": "stream",
       "stream": "stderr",
       "text": [
        "\r",
        "[ 88 %] elapsed[sec]: 1.043 | ETA[sec]: 0.138 "
       ]
      },
      {
       "output_type": "stream",
       "stream": "stderr",
       "text": [
        "\r",
        "[ 88 %] elapsed[sec]: 1.043 | ETA[sec]: 0.137 "
       ]
      },
      {
       "output_type": "stream",
       "stream": "stderr",
       "text": [
        "\r",
        "[ 88 %] elapsed[sec]: 1.044 | ETA[sec]: 0.136 "
       ]
      },
      {
       "output_type": "stream",
       "stream": "stderr",
       "text": [
        "\r",
        "[ 88 %] elapsed[sec]: 1.044 | ETA[sec]: 0.135 "
       ]
      },
      {
       "output_type": "stream",
       "stream": "stderr",
       "text": [
        "\r",
        "[ 88 %] elapsed[sec]: 1.044 | ETA[sec]: 0.134 "
       ]
      },
      {
       "output_type": "stream",
       "stream": "stderr",
       "text": [
        "\r",
        "[ 88 %] elapsed[sec]: 1.045 | ETA[sec]: 0.134 "
       ]
      },
      {
       "output_type": "stream",
       "stream": "stderr",
       "text": [
        "\r",
        "[ 88 %] elapsed[sec]: 1.046 | ETA[sec]: 0.133 "
       ]
      },
      {
       "output_type": "stream",
       "stream": "stderr",
       "text": [
        "\r",
        "[ 88 %] elapsed[sec]: 1.046 | ETA[sec]: 0.132 "
       ]
      },
      {
       "output_type": "stream",
       "stream": "stderr",
       "text": [
        "\r",
        "[ 88 %] elapsed[sec]: 1.046 | ETA[sec]: 0.131 "
       ]
      },
      {
       "output_type": "stream",
       "stream": "stderr",
       "text": [
        "\r",
        "[ 88 %] elapsed[sec]: 1.047 | ETA[sec]: 0.130 "
       ]
      },
      {
       "output_type": "stream",
       "stream": "stderr",
       "text": [
        "\r",
        "[ 89 %] elapsed[sec]: 1.047 | ETA[sec]: 0.129 "
       ]
      },
      {
       "output_type": "stream",
       "stream": "stderr",
       "text": [
        "\r",
        "[ 89 %] elapsed[sec]: 1.048 | ETA[sec]: 0.129 "
       ]
      },
      {
       "output_type": "stream",
       "stream": "stderr",
       "text": [
        "\r",
        "[ 89 %] elapsed[sec]: 1.048 | ETA[sec]: 0.128 "
       ]
      },
      {
       "output_type": "stream",
       "stream": "stderr",
       "text": [
        "\r",
        "[ 89 %] elapsed[sec]: 1.048 | ETA[sec]: 0.127 "
       ]
      },
      {
       "output_type": "stream",
       "stream": "stderr",
       "text": [
        "\r",
        "[ 89 %] elapsed[sec]: 1.049 | ETA[sec]: 0.126 "
       ]
      },
      {
       "output_type": "stream",
       "stream": "stderr",
       "text": [
        "\r",
        "[ 89 %] elapsed[sec]: 1.049 | ETA[sec]: 0.125 "
       ]
      },
      {
       "output_type": "stream",
       "stream": "stderr",
       "text": [
        "\r",
        "[ 89 %] elapsed[sec]: 1.050 | ETA[sec]: 0.124 "
       ]
      },
      {
       "output_type": "stream",
       "stream": "stderr",
       "text": [
        "\r",
        "[ 89 %] elapsed[sec]: 1.050 | ETA[sec]: 0.124 "
       ]
      },
      {
       "output_type": "stream",
       "stream": "stderr",
       "text": [
        "\r",
        "[ 89 %] elapsed[sec]: 1.050 | ETA[sec]: 0.123 "
       ]
      },
      {
       "output_type": "stream",
       "stream": "stderr",
       "text": [
        "\r",
        "[ 89 %] elapsed[sec]: 1.051 | ETA[sec]: 0.122 "
       ]
      },
      {
       "output_type": "stream",
       "stream": "stderr",
       "text": [
        "\r",
        "[ 89 %] elapsed[sec]: 1.052 | ETA[sec]: 0.121 "
       ]
      },
      {
       "output_type": "stream",
       "stream": "stderr",
       "text": [
        "\r",
        "[ 89 %] elapsed[sec]: 1.052 | ETA[sec]: 0.120 "
       ]
      },
      {
       "output_type": "stream",
       "stream": "stderr",
       "text": [
        "\r",
        "[ 89 %] elapsed[sec]: 1.053 | ETA[sec]: 0.120 "
       ]
      },
      {
       "output_type": "stream",
       "stream": "stderr",
       "text": [
        "\r",
        "[ 89 %] elapsed[sec]: 1.053 | ETA[sec]: 0.119 "
       ]
      },
      {
       "output_type": "stream",
       "stream": "stderr",
       "text": [
        "\r",
        "[ 89 %] elapsed[sec]: 1.054 | ETA[sec]: 0.118 "
       ]
      },
      {
       "output_type": "stream",
       "stream": "stderr",
       "text": [
        "\r",
        "[ 90 %] elapsed[sec]: 1.056 | ETA[sec]: 0.117 "
       ]
      },
      {
       "output_type": "stream",
       "stream": "stderr",
       "text": [
        "\r",
        "[ 90 %] elapsed[sec]: 1.056 | ETA[sec]: 0.116 "
       ]
      },
      {
       "output_type": "stream",
       "stream": "stderr",
       "text": [
        "\r",
        "[ 90 %] elapsed[sec]: 1.056 | ETA[sec]: 0.116 "
       ]
      },
      {
       "output_type": "stream",
       "stream": "stderr",
       "text": [
        "\r",
        "[ 90 %] elapsed[sec]: 1.057 | ETA[sec]: 0.115 "
       ]
      },
      {
       "output_type": "stream",
       "stream": "stderr",
       "text": [
        "\r",
        "[ 90 %] elapsed[sec]: 1.057 | ETA[sec]: 0.114 "
       ]
      },
      {
       "output_type": "stream",
       "stream": "stderr",
       "text": [
        "\r",
        "[ 90 %] elapsed[sec]: 1.057 | ETA[sec]: 0.113 "
       ]
      },
      {
       "output_type": "stream",
       "stream": "stderr",
       "text": [
        "\r",
        "[ 90 %] elapsed[sec]: 1.058 | ETA[sec]: 0.112 "
       ]
      },
      {
       "output_type": "stream",
       "stream": "stderr",
       "text": [
        "\r",
        "[ 90 %] elapsed[sec]: 1.058 | ETA[sec]: 0.112 "
       ]
      },
      {
       "output_type": "stream",
       "stream": "stderr",
       "text": [
        "\r",
        "[ 90 %] elapsed[sec]: 1.058 | ETA[sec]: 0.111 "
       ]
      },
      {
       "output_type": "stream",
       "stream": "stderr",
       "text": [
        "\r",
        "[ 90 %] elapsed[sec]: 1.059 | ETA[sec]: 0.110 "
       ]
      },
      {
       "output_type": "stream",
       "stream": "stderr",
       "text": [
        "\r",
        "[ 90 %] elapsed[sec]: 1.059 | ETA[sec]: 0.109 "
       ]
      },
      {
       "output_type": "stream",
       "stream": "stderr",
       "text": [
        "\r",
        "[ 90 %] elapsed[sec]: 1.060 | ETA[sec]: 0.108 "
       ]
      },
      {
       "output_type": "stream",
       "stream": "stderr",
       "text": [
        "\r",
        "[ 90 %] elapsed[sec]: 1.060 | ETA[sec]: 0.107 "
       ]
      },
      {
       "output_type": "stream",
       "stream": "stderr",
       "text": [
        "\r",
        "[ 90 %] elapsed[sec]: 1.060 | ETA[sec]: 0.107 "
       ]
      },
      {
       "output_type": "stream",
       "stream": "stderr",
       "text": [
        "\r",
        "[ 90 %] elapsed[sec]: 1.061 | ETA[sec]: 0.106 "
       ]
      },
      {
       "output_type": "stream",
       "stream": "stderr",
       "text": [
        "\r",
        "[ 91 %] elapsed[sec]: 1.061 | ETA[sec]: 0.105 "
       ]
      },
      {
       "output_type": "stream",
       "stream": "stderr",
       "text": [
        "\r",
        "[ 91 %] elapsed[sec]: 1.061 | ETA[sec]: 0.104 "
       ]
      },
      {
       "output_type": "stream",
       "stream": "stderr",
       "text": [
        "\r",
        "[ 91 %] elapsed[sec]: 1.062 | ETA[sec]: 0.103 "
       ]
      },
      {
       "output_type": "stream",
       "stream": "stderr",
       "text": [
        "\r",
        "[ 91 %] elapsed[sec]: 1.062 | ETA[sec]: 0.102 "
       ]
      },
      {
       "output_type": "stream",
       "stream": "stderr",
       "text": [
        "\r",
        "[ 91 %] elapsed[sec]: 1.062 | ETA[sec]: 0.102 "
       ]
      },
      {
       "output_type": "stream",
       "stream": "stderr",
       "text": [
        "\r",
        "[ 91 %] elapsed[sec]: 1.063 | ETA[sec]: 0.101 "
       ]
      },
      {
       "output_type": "stream",
       "stream": "stderr",
       "text": [
        "\r",
        "[ 91 %] elapsed[sec]: 1.063 | ETA[sec]: 0.100 "
       ]
      },
      {
       "output_type": "stream",
       "stream": "stderr",
       "text": [
        "\r",
        "[ 91 %] elapsed[sec]: 1.064 | ETA[sec]: 0.099 "
       ]
      },
      {
       "output_type": "stream",
       "stream": "stderr",
       "text": [
        "\r",
        "[ 91 %] elapsed[sec]: 1.064 | ETA[sec]: 0.098 "
       ]
      },
      {
       "output_type": "stream",
       "stream": "stderr",
       "text": [
        "\r",
        "[ 91 %] elapsed[sec]: 1.064 | ETA[sec]: 0.098 "
       ]
      },
      {
       "output_type": "stream",
       "stream": "stderr",
       "text": [
        "\r",
        "[ 91 %] elapsed[sec]: 1.065 | ETA[sec]: 0.097 "
       ]
      },
      {
       "output_type": "stream",
       "stream": "stderr",
       "text": [
        "\r",
        "[ 91 %] elapsed[sec]: 1.076 | ETA[sec]: 0.097 "
       ]
      },
      {
       "output_type": "stream",
       "stream": "stderr",
       "text": [
        "\r",
        "[ 91 %] elapsed[sec]: 1.077 | ETA[sec]: 0.096 "
       ]
      },
      {
       "output_type": "stream",
       "stream": "stderr",
       "text": [
        "\r",
        "[ 91 %] elapsed[sec]: 1.077 | ETA[sec]: 0.095 "
       ]
      },
      {
       "output_type": "stream",
       "stream": "stderr",
       "text": [
        "\r",
        "[ 91 %] elapsed[sec]: 1.078 | ETA[sec]: 0.095 "
       ]
      },
      {
       "output_type": "stream",
       "stream": "stderr",
       "text": [
        "\r",
        "[ 92 %] elapsed[sec]: 1.078 | ETA[sec]: 0.094 "
       ]
      },
      {
       "output_type": "stream",
       "stream": "stderr",
       "text": [
        "\r",
        "[ 92 %] elapsed[sec]: 1.078 | ETA[sec]: 0.093 "
       ]
      },
      {
       "output_type": "stream",
       "stream": "stderr",
       "text": [
        "\r",
        "[ 92 %] elapsed[sec]: 1.079 | ETA[sec]: 0.092 "
       ]
      },
      {
       "output_type": "stream",
       "stream": "stderr",
       "text": [
        "\r",
        "[ 92 %] elapsed[sec]: 1.079 | ETA[sec]: 0.091 "
       ]
      },
      {
       "output_type": "stream",
       "stream": "stderr",
       "text": [
        "\r",
        "[ 92 %] elapsed[sec]: 1.080 | ETA[sec]: 0.090 "
       ]
      },
      {
       "output_type": "stream",
       "stream": "stderr",
       "text": [
        "\r",
        "[ 92 %] elapsed[sec]: 1.080 | ETA[sec]: 0.090 "
       ]
      },
      {
       "output_type": "stream",
       "stream": "stderr",
       "text": [
        "\r",
        "[ 92 %] elapsed[sec]: 1.081 | ETA[sec]: 0.089 "
       ]
      },
      {
       "output_type": "stream",
       "stream": "stderr",
       "text": [
        "\r",
        "[ 92 %] elapsed[sec]: 1.081 | ETA[sec]: 0.088 "
       ]
      },
      {
       "output_type": "stream",
       "stream": "stderr",
       "text": [
        "\r",
        "[ 92 %] elapsed[sec]: 1.082 | ETA[sec]: 0.087 "
       ]
      },
      {
       "output_type": "stream",
       "stream": "stderr",
       "text": [
        "\r",
        "[ 92 %] elapsed[sec]: 1.082 | ETA[sec]: 0.086 "
       ]
      },
      {
       "output_type": "stream",
       "stream": "stderr",
       "text": [
        "\r",
        "[ 92 %] elapsed[sec]: 1.083 | ETA[sec]: 0.086 "
       ]
      },
      {
       "output_type": "stream",
       "stream": "stderr",
       "text": [
        "\r",
        "[ 92 %] elapsed[sec]: 1.083 | ETA[sec]: 0.085 "
       ]
      },
      {
       "output_type": "stream",
       "stream": "stderr",
       "text": [
        "\r",
        "[ 92 %] elapsed[sec]: 1.084 | ETA[sec]: 0.084 "
       ]
      },
      {
       "output_type": "stream",
       "stream": "stderr",
       "text": [
        "\r",
        "[ 92 %] elapsed[sec]: 1.084 | ETA[sec]: 0.083 "
       ]
      },
      {
       "output_type": "stream",
       "stream": "stderr",
       "text": [
        "\r",
        "[ 92 %] elapsed[sec]: 1.084 | ETA[sec]: 0.082 "
       ]
      },
      {
       "output_type": "stream",
       "stream": "stderr",
       "text": [
        "\r",
        "[ 93 %] elapsed[sec]: 1.085 | ETA[sec]: 0.082 "
       ]
      },
      {
       "output_type": "stream",
       "stream": "stderr",
       "text": [
        "\r",
        "[ 93 %] elapsed[sec]: 1.086 | ETA[sec]: 0.081 "
       ]
      },
      {
       "output_type": "stream",
       "stream": "stderr",
       "text": [
        "\r",
        "[ 93 %] elapsed[sec]: 1.086 | ETA[sec]: 0.080 "
       ]
      },
      {
       "output_type": "stream",
       "stream": "stderr",
       "text": [
        "\r",
        "[ 93 %] elapsed[sec]: 1.086 | ETA[sec]: 0.079 "
       ]
      },
      {
       "output_type": "stream",
       "stream": "stderr",
       "text": [
        "\r",
        "[ 93 %] elapsed[sec]: 1.087 | ETA[sec]: 0.078 "
       ]
      },
      {
       "output_type": "stream",
       "stream": "stderr",
       "text": [
        "\r",
        "[ 93 %] elapsed[sec]: 1.098 | ETA[sec]: 0.078 "
       ]
      },
      {
       "output_type": "stream",
       "stream": "stderr",
       "text": [
        "\r",
        "[ 93 %] elapsed[sec]: 1.098 | ETA[sec]: 0.078 "
       ]
      },
      {
       "output_type": "stream",
       "stream": "stderr",
       "text": [
        "\r",
        "[ 93 %] elapsed[sec]: 1.100 | ETA[sec]: 0.077 "
       ]
      },
      {
       "output_type": "stream",
       "stream": "stderr",
       "text": [
        "\r",
        "[ 93 %] elapsed[sec]: 1.100 | ETA[sec]: 0.076 "
       ]
      },
      {
       "output_type": "stream",
       "stream": "stderr",
       "text": [
        "\r",
        "[ 93 %] elapsed[sec]: 1.101 | ETA[sec]: 0.075 "
       ]
      },
      {
       "output_type": "stream",
       "stream": "stderr",
       "text": [
        "\r",
        "[ 93 %] elapsed[sec]: 1.101 | ETA[sec]: 0.074 "
       ]
      },
      {
       "output_type": "stream",
       "stream": "stderr",
       "text": [
        "\r",
        "[ 93 %] elapsed[sec]: 1.101 | ETA[sec]: 0.074 "
       ]
      },
      {
       "output_type": "stream",
       "stream": "stderr",
       "text": [
        "\r",
        "[ 93 %] elapsed[sec]: 1.102 | ETA[sec]: 0.073 "
       ]
      },
      {
       "output_type": "stream",
       "stream": "stderr",
       "text": [
        "\r",
        "[ 93 %] elapsed[sec]: 1.102 | ETA[sec]: 0.072 "
       ]
      },
      {
       "output_type": "stream",
       "stream": "stderr",
       "text": [
        "\r",
        "[ 93 %] elapsed[sec]: 1.103 | ETA[sec]: 0.071 "
       ]
      },
      {
       "output_type": "stream",
       "stream": "stderr",
       "text": [
        "\r",
        "[ 94 %] elapsed[sec]: 1.103 | ETA[sec]: 0.070 "
       ]
      },
      {
       "output_type": "stream",
       "stream": "stderr",
       "text": [
        "\r",
        "[ 94 %] elapsed[sec]: 1.104 | ETA[sec]: 0.070 "
       ]
      },
      {
       "output_type": "stream",
       "stream": "stderr",
       "text": [
        "\r",
        "[ 94 %] elapsed[sec]: 1.104 | ETA[sec]: 0.069 "
       ]
      },
      {
       "output_type": "stream",
       "stream": "stderr",
       "text": [
        "\r",
        "[ 94 %] elapsed[sec]: 1.104 | ETA[sec]: 0.068 "
       ]
      },
      {
       "output_type": "stream",
       "stream": "stderr",
       "text": [
        "\r",
        "[ 94 %] elapsed[sec]: 1.105 | ETA[sec]: 0.067 "
       ]
      },
      {
       "output_type": "stream",
       "stream": "stderr",
       "text": [
        "\r",
        "[ 94 %] elapsed[sec]: 1.106 | ETA[sec]: 0.066 "
       ]
      },
      {
       "output_type": "stream",
       "stream": "stderr",
       "text": [
        "\r",
        "[ 94 %] elapsed[sec]: 1.106 | ETA[sec]: 0.066 "
       ]
      },
      {
       "output_type": "stream",
       "stream": "stderr",
       "text": [
        "\r",
        "[ 94 %] elapsed[sec]: 1.107 | ETA[sec]: 0.065 "
       ]
      },
      {
       "output_type": "stream",
       "stream": "stderr",
       "text": [
        "\r",
        "[ 94 %] elapsed[sec]: 1.107 | ETA[sec]: 0.064 "
       ]
      },
      {
       "output_type": "stream",
       "stream": "stderr",
       "text": [
        "\r",
        "[ 94 %] elapsed[sec]: 1.108 | ETA[sec]: 0.063 "
       ]
      },
      {
       "output_type": "stream",
       "stream": "stderr",
       "text": [
        "\r",
        "[ 94 %] elapsed[sec]: 1.108 | ETA[sec]: 0.062 "
       ]
      },
      {
       "output_type": "stream",
       "stream": "stderr",
       "text": [
        "\r",
        "[ 94 %] elapsed[sec]: 1.109 | ETA[sec]: 0.062 "
       ]
      },
      {
       "output_type": "stream",
       "stream": "stderr",
       "text": [
        "\r",
        "[ 94 %] elapsed[sec]: 1.109 | ETA[sec]: 0.061 "
       ]
      },
      {
       "output_type": "stream",
       "stream": "stderr",
       "text": [
        "\r",
        "[ 94 %] elapsed[sec]: 1.110 | ETA[sec]: 0.060 "
       ]
      },
      {
       "output_type": "stream",
       "stream": "stderr",
       "text": [
        "\r",
        "[ 94 %] elapsed[sec]: 1.111 | ETA[sec]: 0.059 "
       ]
      },
      {
       "output_type": "stream",
       "stream": "stderr",
       "text": [
        "\r",
        "[ 95 %] elapsed[sec]: 1.111 | ETA[sec]: 0.058 "
       ]
      },
      {
       "output_type": "stream",
       "stream": "stderr",
       "text": [
        "\r",
        "[ 95 %] elapsed[sec]: 1.112 | ETA[sec]: 0.058 "
       ]
      },
      {
       "output_type": "stream",
       "stream": "stderr",
       "text": [
        "\r",
        "[ 95 %] elapsed[sec]: 1.112 | ETA[sec]: 0.057 "
       ]
      },
      {
       "output_type": "stream",
       "stream": "stderr",
       "text": [
        "\r",
        "[ 95 %] elapsed[sec]: 1.112 | ETA[sec]: 0.056 "
       ]
      },
      {
       "output_type": "stream",
       "stream": "stderr",
       "text": [
        "\r",
        "[ 95 %] elapsed[sec]: 1.113 | ETA[sec]: 0.055 "
       ]
      },
      {
       "output_type": "stream",
       "stream": "stderr",
       "text": [
        "\r",
        "[ 95 %] elapsed[sec]: 1.113 | ETA[sec]: 0.054 "
       ]
      },
      {
       "output_type": "stream",
       "stream": "stderr",
       "text": [
        "\r",
        "[ 95 %] elapsed[sec]: 1.113 | ETA[sec]: 0.054 "
       ]
      },
      {
       "output_type": "stream",
       "stream": "stderr",
       "text": [
        "\r",
        "[ 95 %] elapsed[sec]: 1.114 | ETA[sec]: 0.053 "
       ]
      },
      {
       "output_type": "stream",
       "stream": "stderr",
       "text": [
        "\r",
        "[ 95 %] elapsed[sec]: 1.114 | ETA[sec]: 0.052 "
       ]
      },
      {
       "output_type": "stream",
       "stream": "stderr",
       "text": [
        "\r",
        "[ 95 %] elapsed[sec]: 1.115 | ETA[sec]: 0.051 "
       ]
      },
      {
       "output_type": "stream",
       "stream": "stderr",
       "text": [
        "\r",
        "[ 95 %] elapsed[sec]: 1.115 | ETA[sec]: 0.051 "
       ]
      },
      {
       "output_type": "stream",
       "stream": "stderr",
       "text": [
        "\r",
        "[ 95 %] elapsed[sec]: 1.115 | ETA[sec]: 0.050 "
       ]
      },
      {
       "output_type": "stream",
       "stream": "stderr",
       "text": [
        "\r",
        "[ 95 %] elapsed[sec]: 1.116 | ETA[sec]: 0.049 "
       ]
      },
      {
       "output_type": "stream",
       "stream": "stderr",
       "text": [
        "\r",
        "[ 95 %] elapsed[sec]: 1.116 | ETA[sec]: 0.048 "
       ]
      },
      {
       "output_type": "stream",
       "stream": "stderr",
       "text": [
        "\r",
        "[ 95 %] elapsed[sec]: 1.116 | ETA[sec]: 0.047 "
       ]
      },
      {
       "output_type": "stream",
       "stream": "stderr",
       "text": [
        "\r",
        "[ 96 %] elapsed[sec]: 1.117 | ETA[sec]: 0.047 "
       ]
      },
      {
       "output_type": "stream",
       "stream": "stderr",
       "text": [
        "\r",
        "[ 96 %] elapsed[sec]: 1.117 | ETA[sec]: 0.046 "
       ]
      },
      {
       "output_type": "stream",
       "stream": "stderr",
       "text": [
        "\r",
        "[ 96 %] elapsed[sec]: 1.117 | ETA[sec]: 0.045 "
       ]
      },
      {
       "output_type": "stream",
       "stream": "stderr",
       "text": [
        "\r",
        "[ 96 %] elapsed[sec]: 1.118 | ETA[sec]: 0.044 "
       ]
      },
      {
       "output_type": "stream",
       "stream": "stderr",
       "text": [
        "\r",
        "[ 96 %] elapsed[sec]: 1.118 | ETA[sec]: 0.043 "
       ]
      },
      {
       "output_type": "stream",
       "stream": "stderr",
       "text": [
        "\r",
        "[ 96 %] elapsed[sec]: 1.119 | ETA[sec]: 0.043 "
       ]
      },
      {
       "output_type": "stream",
       "stream": "stderr",
       "text": [
        "\r",
        "[ 96 %] elapsed[sec]: 1.119 | ETA[sec]: 0.042 "
       ]
      },
      {
       "output_type": "stream",
       "stream": "stderr",
       "text": [
        "\r",
        "[ 96 %] elapsed[sec]: 1.119 | ETA[sec]: 0.041 "
       ]
      },
      {
       "output_type": "stream",
       "stream": "stderr",
       "text": [
        "\r",
        "[ 96 %] elapsed[sec]: 1.120 | ETA[sec]: 0.040 "
       ]
      },
      {
       "output_type": "stream",
       "stream": "stderr",
       "text": [
        "\r",
        "[ 96 %] elapsed[sec]: 1.120 | ETA[sec]: 0.039 "
       ]
      },
      {
       "output_type": "stream",
       "stream": "stderr",
       "text": [
        "\r",
        "[ 96 %] elapsed[sec]: 1.134 | ETA[sec]: 0.039 "
       ]
      },
      {
       "output_type": "stream",
       "stream": "stderr",
       "text": [
        "\r",
        "[ 96 %] elapsed[sec]: 1.135 | ETA[sec]: 0.038 "
       ]
      },
      {
       "output_type": "stream",
       "stream": "stderr",
       "text": [
        "\r",
        "[ 96 %] elapsed[sec]: 1.135 | ETA[sec]: 0.038 "
       ]
      },
      {
       "output_type": "stream",
       "stream": "stderr",
       "text": [
        "\r",
        "[ 96 %] elapsed[sec]: 1.136 | ETA[sec]: 0.037 "
       ]
      },
      {
       "output_type": "stream",
       "stream": "stderr",
       "text": [
        "\r",
        "[ 96 %] elapsed[sec]: 1.136 | ETA[sec]: 0.036 "
       ]
      },
      {
       "output_type": "stream",
       "stream": "stderr",
       "text": [
        "\r",
        "[ 97 %] elapsed[sec]: 1.137 | ETA[sec]: 0.035 "
       ]
      },
      {
       "output_type": "stream",
       "stream": "stderr",
       "text": [
        "\r",
        "[ 97 %] elapsed[sec]: 1.137 | ETA[sec]: 0.034 "
       ]
      },
      {
       "output_type": "stream",
       "stream": "stderr",
       "text": [
        "\r",
        "[ 97 %] elapsed[sec]: 1.138 | ETA[sec]: 0.034 "
       ]
      },
      {
       "output_type": "stream",
       "stream": "stderr",
       "text": [
        "\r",
        "[ 97 %] elapsed[sec]: 1.139 | ETA[sec]: 0.033 "
       ]
      },
      {
       "output_type": "stream",
       "stream": "stderr",
       "text": [
        "\r",
        "[ 97 %] elapsed[sec]: 1.139 | ETA[sec]: 0.032 "
       ]
      },
      {
       "output_type": "stream",
       "stream": "stderr",
       "text": [
        "\r",
        "[ 97 %] elapsed[sec]: 1.139 | ETA[sec]: 0.031 "
       ]
      },
      {
       "output_type": "stream",
       "stream": "stderr",
       "text": [
        "\r",
        "[ 97 %] elapsed[sec]: 1.140 | ETA[sec]: 0.030 "
       ]
      },
      {
       "output_type": "stream",
       "stream": "stderr",
       "text": [
        "\r",
        "[ 97 %] elapsed[sec]: 1.140 | ETA[sec]: 0.030 "
       ]
      },
      {
       "output_type": "stream",
       "stream": "stderr",
       "text": [
        "\r",
        "[ 97 %] elapsed[sec]: 1.140 | ETA[sec]: 0.029 "
       ]
      },
      {
       "output_type": "stream",
       "stream": "stderr",
       "text": [
        "\r",
        "[ 97 %] elapsed[sec]: 1.141 | ETA[sec]: 0.028 "
       ]
      },
      {
       "output_type": "stream",
       "stream": "stderr",
       "text": [
        "\r",
        "[ 97 %] elapsed[sec]: 1.141 | ETA[sec]: 0.027 "
       ]
      },
      {
       "output_type": "stream",
       "stream": "stderr",
       "text": [
        "\r",
        "[ 97 %] elapsed[sec]: 1.142 | ETA[sec]: 0.026 "
       ]
      },
      {
       "output_type": "stream",
       "stream": "stderr",
       "text": [
        "\r",
        "[ 97 %] elapsed[sec]: 1.142 | ETA[sec]: 0.026 "
       ]
      },
      {
       "output_type": "stream",
       "stream": "stderr",
       "text": [
        "\r",
        "[ 97 %] elapsed[sec]: 1.142 | ETA[sec]: 0.025 "
       ]
      },
      {
       "output_type": "stream",
       "stream": "stderr",
       "text": [
        "\r",
        "[ 97 %] elapsed[sec]: 1.143 | ETA[sec]: 0.024 "
       ]
      },
      {
       "output_type": "stream",
       "stream": "stderr",
       "text": [
        "\r",
        "[ 98 %] elapsed[sec]: 1.143 | ETA[sec]: 0.023 "
       ]
      },
      {
       "output_type": "stream",
       "stream": "stderr",
       "text": [
        "\r",
        "[ 98 %] elapsed[sec]: 1.143 | ETA[sec]: 0.023 "
       ]
      },
      {
       "output_type": "stream",
       "stream": "stderr",
       "text": [
        "\r",
        "[ 98 %] elapsed[sec]: 1.144 | ETA[sec]: 0.022 "
       ]
      },
      {
       "output_type": "stream",
       "stream": "stderr",
       "text": [
        "\r",
        "[ 98 %] elapsed[sec]: 1.144 | ETA[sec]: 0.021 "
       ]
      },
      {
       "output_type": "stream",
       "stream": "stderr",
       "text": [
        "\r",
        "[ 98 %] elapsed[sec]: 1.149 | ETA[sec]: 0.020 "
       ]
      },
      {
       "output_type": "stream",
       "stream": "stderr",
       "text": [
        "\r",
        "[ 98 %] elapsed[sec]: 1.150 | ETA[sec]: 0.019 "
       ]
      },
      {
       "output_type": "stream",
       "stream": "stderr",
       "text": [
        "\r",
        "[ 98 %] elapsed[sec]: 1.150 | ETA[sec]: 0.019 "
       ]
      },
      {
       "output_type": "stream",
       "stream": "stderr",
       "text": [
        "\r",
        "[ 98 %] elapsed[sec]: 1.151 | ETA[sec]: 0.018 "
       ]
      },
      {
       "output_type": "stream",
       "stream": "stderr",
       "text": [
        "\r",
        "[ 98 %] elapsed[sec]: 1.151 | ETA[sec]: 0.017 "
       ]
      },
      {
       "output_type": "stream",
       "stream": "stderr",
       "text": [
        "\r",
        "[ 98 %] elapsed[sec]: 1.151 | ETA[sec]: 0.016 "
       ]
      },
      {
       "output_type": "stream",
       "stream": "stderr",
       "text": [
        "\r",
        "[ 98 %] elapsed[sec]: 1.152 | ETA[sec]: 0.016 "
       ]
      },
      {
       "output_type": "stream",
       "stream": "stderr",
       "text": [
        "\r",
        "[ 98 %] elapsed[sec]: 1.152 | ETA[sec]: 0.015 "
       ]
      },
      {
       "output_type": "stream",
       "stream": "stderr",
       "text": [
        "\r",
        "[ 98 %] elapsed[sec]: 1.153 | ETA[sec]: 0.014 "
       ]
      },
      {
       "output_type": "stream",
       "stream": "stderr",
       "text": [
        "\r",
        "[ 98 %] elapsed[sec]: 1.153 | ETA[sec]: 0.013 "
       ]
      },
      {
       "output_type": "stream",
       "stream": "stderr",
       "text": [
        "\r",
        "[ 98 %] elapsed[sec]: 1.153 | ETA[sec]: 0.012 "
       ]
      },
      {
       "output_type": "stream",
       "stream": "stderr",
       "text": [
        "\r",
        "[ 99 %] elapsed[sec]: 1.154 | ETA[sec]: 0.012 "
       ]
      },
      {
       "output_type": "stream",
       "stream": "stderr",
       "text": [
        "\r",
        "[ 99 %] elapsed[sec]: 1.154 | ETA[sec]: 0.011 "
       ]
      },
      {
       "output_type": "stream",
       "stream": "stderr",
       "text": [
        "\r",
        "[ 99 %] elapsed[sec]: 1.155 | ETA[sec]: 0.010 "
       ]
      },
      {
       "output_type": "stream",
       "stream": "stderr",
       "text": [
        "\r",
        "[ 99 %] elapsed[sec]: 1.155 | ETA[sec]: 0.009 "
       ]
      },
      {
       "output_type": "stream",
       "stream": "stderr",
       "text": [
        "\r",
        "[ 99 %] elapsed[sec]: 1.155 | ETA[sec]: 0.009 "
       ]
      },
      {
       "output_type": "stream",
       "stream": "stderr",
       "text": [
        "\r",
        "[ 99 %] elapsed[sec]: 1.156 | ETA[sec]: 0.008 "
       ]
      },
      {
       "output_type": "stream",
       "stream": "stderr",
       "text": [
        "\r",
        "[ 99 %] elapsed[sec]: 1.156 | ETA[sec]: 0.007 "
       ]
      },
      {
       "output_type": "stream",
       "stream": "stderr",
       "text": [
        "\r",
        "[ 99 %] elapsed[sec]: 1.157 | ETA[sec]: 0.006 "
       ]
      },
      {
       "output_type": "stream",
       "stream": "stderr",
       "text": [
        "\r",
        "[ 99 %] elapsed[sec]: 1.157 | ETA[sec]: 0.005 "
       ]
      },
      {
       "output_type": "stream",
       "stream": "stderr",
       "text": [
        "\r",
        "[ 99 %] elapsed[sec]: 1.157 | ETA[sec]: 0.005 "
       ]
      },
      {
       "output_type": "stream",
       "stream": "stderr",
       "text": [
        "\r",
        "[ 99 %] elapsed[sec]: 1.158 | ETA[sec]: 0.004 "
       ]
      },
      {
       "output_type": "stream",
       "stream": "stderr",
       "text": [
        "\r",
        "[ 99 %] elapsed[sec]: 1.158 | ETA[sec]: 0.003 "
       ]
      },
      {
       "output_type": "stream",
       "stream": "stderr",
       "text": [
        "\r",
        "[ 99 %] elapsed[sec]: 1.158 | ETA[sec]: 0.002 "
       ]
      },
      {
       "output_type": "stream",
       "stream": "stderr",
       "text": [
        "\r",
        "[ 99 %] elapsed[sec]: 1.159 | ETA[sec]: 0.002 "
       ]
      },
      {
       "output_type": "stream",
       "stream": "stderr",
       "text": [
        "\r",
        "[ 99 %] elapsed[sec]: 1.171 | ETA[sec]: 0.001 "
       ]
      },
      {
       "output_type": "stream",
       "stream": "stderr",
       "text": [
        "\r",
        "[100 %] elapsed[sec]: 1.172"
       ]
      },
      {
       "output_type": "stream",
       "stream": "stderr",
       "text": [
        "\n",
        "Total time elapsed: 1.172 sec\n"
       ]
      }
     ],
     "prompt_number": 9
    },
    {
     "cell_type": "markdown",
     "metadata": {},
     "source": [
      "<a name='width'></a>\n",
      "<br>\n",
      "<br>"
     ]
    },
    {
     "cell_type": "markdown",
     "metadata": {},
     "source": [
      "## Progress Bar - Changing the default width"
     ]
    },
    {
     "cell_type": "markdown",
     "metadata": {},
     "source": [
      "[[back to section overview](#sections)]"
     ]
    },
    {
     "cell_type": "markdown",
     "metadata": {},
     "source": [
      "`width` (`int`): default 30. Sets the progress bar width in characters."
     ]
    },
    {
     "cell_type": "code",
     "collapsed": false,
     "input": [
      "n = 150000\n",
      "\n",
      "bar = pyprind.ProgBar(n, width=10)\n",
      "for i in range(n):\n",
      "    # do some computation\n",
      "    bar.update()\n",
      "\n",
      "bar = pyprind.ProgBar(n, width=70)\n",
      "for i in range(n):\n",
      "    # do some computation\n",
      "    bar.update()"
     ],
     "language": "python",
     "metadata": {},
     "outputs": [
      {
       "output_type": "stream",
       "stream": "stderr",
       "text": [
        "0%      100%\n"
       ]
      },
      {
       "output_type": "stream",
       "stream": "stderr",
       "text": [
        "[          ]"
       ]
      },
      {
       "output_type": "stream",
       "stream": "stderr",
       "text": [
        "\r",
        "[#         ]"
       ]
      },
      {
       "output_type": "stream",
       "stream": "stderr",
       "text": [
        " | ETA[sec]: 1.530 "
       ]
      },
      {
       "output_type": "stream",
       "stream": "stderr",
       "text": [
        "\r",
        "[##        ]"
       ]
      },
      {
       "output_type": "stream",
       "stream": "stderr",
       "text": [
        " | ETA[sec]: 1.123 "
       ]
      },
      {
       "output_type": "stream",
       "stream": "stderr",
       "text": [
        "\r",
        "[###       ]"
       ]
      },
      {
       "output_type": "stream",
       "stream": "stderr",
       "text": [
        " | ETA[sec]: 1.080 "
       ]
      },
      {
       "output_type": "stream",
       "stream": "stderr",
       "text": [
        "\r",
        "[####      ]"
       ]
      },
      {
       "output_type": "stream",
       "stream": "stderr",
       "text": [
        " | ETA[sec]: 0.951 "
       ]
      },
      {
       "output_type": "stream",
       "stream": "stderr",
       "text": [
        "\r",
        "[#####     ]"
       ]
      },
      {
       "output_type": "stream",
       "stream": "stderr",
       "text": [
        " | ETA[sec]: 0.959 "
       ]
      },
      {
       "output_type": "stream",
       "stream": "stderr",
       "text": [
        "\r",
        "[######    ]"
       ]
      },
      {
       "output_type": "stream",
       "stream": "stderr",
       "text": [
        " | ETA[sec]: 0.738 "
       ]
      },
      {
       "output_type": "stream",
       "stream": "stderr",
       "text": [
        "\r",
        "[#######   ]"
       ]
      },
      {
       "output_type": "stream",
       "stream": "stderr",
       "text": [
        " | ETA[sec]: 0.521 "
       ]
      },
      {
       "output_type": "stream",
       "stream": "stderr",
       "text": [
        "\r",
        "[########  ]"
       ]
      },
      {
       "output_type": "stream",
       "stream": "stderr",
       "text": [
        " | ETA[sec]: 0.331 "
       ]
      },
      {
       "output_type": "stream",
       "stream": "stderr",
       "text": [
        "\r",
        "[######### ]"
       ]
      },
      {
       "output_type": "stream",
       "stream": "stderr",
       "text": [
        " | ETA[sec]: 0.160 "
       ]
      },
      {
       "output_type": "stream",
       "stream": "stderr",
       "text": [
        "\r",
        "[##########]"
       ]
      },
      {
       "output_type": "stream",
       "stream": "stderr",
       "text": [
        " | ETA[sec]: 0.000 "
       ]
      },
      {
       "output_type": "stream",
       "stream": "stderr",
       "text": [
        "\n",
        "Total time elapsed: 1.544 sec\n",
        "0%                                                                  100%\n"
       ]
      },
      {
       "output_type": "stream",
       "stream": "stderr",
       "text": [
        "[                                                                      ]"
       ]
      },
      {
       "output_type": "stream",
       "stream": "stderr",
       "text": [
        "\r",
        "[#                                                                     ]"
       ]
      },
      {
       "output_type": "stream",
       "stream": "stderr",
       "text": [
        " | ETA[sec]: 1.253 "
       ]
      },
      {
       "output_type": "stream",
       "stream": "stderr",
       "text": [
        "\r",
        "[##                                                                    ]"
       ]
      },
      {
       "output_type": "stream",
       "stream": "stderr",
       "text": [
        " | ETA[sec]: 2.428 "
       ]
      },
      {
       "output_type": "stream",
       "stream": "stderr",
       "text": [
        "\r",
        "[###                                                                   ]"
       ]
      },
      {
       "output_type": "stream",
       "stream": "stderr",
       "text": [
        " | ETA[sec]: 2.174 "
       ]
      },
      {
       "output_type": "stream",
       "stream": "stderr",
       "text": [
        "\r",
        "[####                                                                  ]"
       ]
      },
      {
       "output_type": "stream",
       "stream": "stderr",
       "text": [
        " | ETA[sec]: 2.452 "
       ]
      },
      {
       "output_type": "stream",
       "stream": "stderr",
       "text": [
        "\r",
        "[#####                                                                 ]"
       ]
      },
      {
       "output_type": "stream",
       "stream": "stderr",
       "text": [
        " | ETA[sec]: 2.664 "
       ]
      },
      {
       "output_type": "stream",
       "stream": "stderr",
       "text": [
        "\r",
        "[######                                                                ]"
       ]
      },
      {
       "output_type": "stream",
       "stream": "stderr",
       "text": [
        " | ETA[sec]: 2.399 "
       ]
      },
      {
       "output_type": "stream",
       "stream": "stderr",
       "text": [
        "\r",
        "[#######                                                               ]"
       ]
      },
      {
       "output_type": "stream",
       "stream": "stderr",
       "text": [
        " | ETA[sec]: 2.205 "
       ]
      },
      {
       "output_type": "stream",
       "stream": "stderr",
       "text": [
        "\r",
        "[########                                                              ]"
       ]
      },
      {
       "output_type": "stream",
       "stream": "stderr",
       "text": [
        " | ETA[sec]: 2.093 "
       ]
      },
      {
       "output_type": "stream",
       "stream": "stderr",
       "text": [
        "\r",
        "[#########                                                             ]"
       ]
      },
      {
       "output_type": "stream",
       "stream": "stderr",
       "text": [
        " | ETA[sec]: 2.025 "
       ]
      },
      {
       "output_type": "stream",
       "stream": "stderr",
       "text": [
        "\r",
        "[##########                                                            ]"
       ]
      },
      {
       "output_type": "stream",
       "stream": "stderr",
       "text": [
        " | ETA[sec]: 2.349 "
       ]
      },
      {
       "output_type": "stream",
       "stream": "stderr",
       "text": [
        "\r",
        "[###########                                                           ]"
       ]
      },
      {
       "output_type": "stream",
       "stream": "stderr",
       "text": [
        " | ETA[sec]: 2.376 "
       ]
      },
      {
       "output_type": "stream",
       "stream": "stderr",
       "text": [
        "\r",
        "[############                                                          ]"
       ]
      },
      {
       "output_type": "stream",
       "stream": "stderr",
       "text": [
        " | ETA[sec]: 2.509 "
       ]
      },
      {
       "output_type": "stream",
       "stream": "stderr",
       "text": [
        "\r",
        "[#############                                                         ]"
       ]
      },
      {
       "output_type": "stream",
       "stream": "stderr",
       "text": [
        " | ETA[sec]: 2.412 "
       ]
      },
      {
       "output_type": "stream",
       "stream": "stderr",
       "text": [
        "\r",
        "[##############                                                        ]"
       ]
      },
      {
       "output_type": "stream",
       "stream": "stderr",
       "text": [
        " | ETA[sec]: 2.289 "
       ]
      },
      {
       "output_type": "stream",
       "stream": "stderr",
       "text": [
        "\r",
        "[###############                                                       ]"
       ]
      },
      {
       "output_type": "stream",
       "stream": "stderr",
       "text": [
        " | ETA[sec]: 2.172 "
       ]
      },
      {
       "output_type": "stream",
       "stream": "stderr",
       "text": [
        "\r",
        "[################                                                      ]"
       ]
      },
      {
       "output_type": "stream",
       "stream": "stderr",
       "text": [
        " | ETA[sec]: 2.182 "
       ]
      },
      {
       "output_type": "stream",
       "stream": "stderr",
       "text": [
        "\r",
        "[#################                                                     ]"
       ]
      },
      {
       "output_type": "stream",
       "stream": "stderr",
       "text": [
        " | ETA[sec]: 2.127 "
       ]
      },
      {
       "output_type": "stream",
       "stream": "stderr",
       "text": [
        "\r",
        "[##################                                                    ]"
       ]
      },
      {
       "output_type": "stream",
       "stream": "stderr",
       "text": [
        " | ETA[sec]: 2.025 "
       ]
      },
      {
       "output_type": "stream",
       "stream": "stderr",
       "text": [
        "\r",
        "[###################                                                   ]"
       ]
      },
      {
       "output_type": "stream",
       "stream": "stderr",
       "text": [
        " | ETA[sec]: 2.031 "
       ]
      },
      {
       "output_type": "stream",
       "stream": "stderr",
       "text": [
        "\r",
        "[####################                                                  ]"
       ]
      },
      {
       "output_type": "stream",
       "stream": "stderr",
       "text": [
        " | ETA[sec]: 1.943 "
       ]
      },
      {
       "output_type": "stream",
       "stream": "stderr",
       "text": [
        "\r",
        "[#####################                                                 ]"
       ]
      },
      {
       "output_type": "stream",
       "stream": "stderr",
       "text": [
        " | ETA[sec]: 1.865 "
       ]
      },
      {
       "output_type": "stream",
       "stream": "stderr",
       "text": [
        "\r",
        "[######################                                                ]"
       ]
      },
      {
       "output_type": "stream",
       "stream": "stderr",
       "text": [
        " | ETA[sec]: 1.798 "
       ]
      },
      {
       "output_type": "stream",
       "stream": "stderr",
       "text": [
        "\r",
        "[#######################                                               ]"
       ]
      },
      {
       "output_type": "stream",
       "stream": "stderr",
       "text": [
        " | ETA[sec]: 1.727 "
       ]
      },
      {
       "output_type": "stream",
       "stream": "stderr",
       "text": [
        "\r",
        "[########################                                              ]"
       ]
      },
      {
       "output_type": "stream",
       "stream": "stderr",
       "text": [
        " | ETA[sec]: 1.672 "
       ]
      },
      {
       "output_type": "stream",
       "stream": "stderr",
       "text": [
        "\r",
        "[#########################                                             ]"
       ]
      },
      {
       "output_type": "stream",
       "stream": "stderr",
       "text": [
        " | ETA[sec]: 1.620 "
       ]
      },
      {
       "output_type": "stream",
       "stream": "stderr",
       "text": [
        "\r",
        "[##########################                                            ]"
       ]
      },
      {
       "output_type": "stream",
       "stream": "stderr",
       "text": [
        " | ETA[sec]: 1.557 "
       ]
      },
      {
       "output_type": "stream",
       "stream": "stderr",
       "text": [
        "\r",
        "[###########################                                           ]"
       ]
      },
      {
       "output_type": "stream",
       "stream": "stderr",
       "text": [
        " | ETA[sec]: 1.523 "
       ]
      },
      {
       "output_type": "stream",
       "stream": "stderr",
       "text": [
        "\r",
        "[############################                                          ]"
       ]
      },
      {
       "output_type": "stream",
       "stream": "stderr",
       "text": [
        " | ETA[sec]: 1.478 "
       ]
      },
      {
       "output_type": "stream",
       "stream": "stderr",
       "text": [
        "\r",
        "[#############################                                         ]"
       ]
      },
      {
       "output_type": "stream",
       "stream": "stderr",
       "text": [
        " | ETA[sec]: 1.446 "
       ]
      },
      {
       "output_type": "stream",
       "stream": "stderr",
       "text": [
        "\r",
        "[##############################                                        ]"
       ]
      },
      {
       "output_type": "stream",
       "stream": "stderr",
       "text": [
        " | ETA[sec]: 1.388 "
       ]
      },
      {
       "output_type": "stream",
       "stream": "stderr",
       "text": [
        "\r",
        "[###############################                                       ]"
       ]
      },
      {
       "output_type": "stream",
       "stream": "stderr",
       "text": [
        " | ETA[sec]: 1.350 "
       ]
      },
      {
       "output_type": "stream",
       "stream": "stderr",
       "text": [
        "\r",
        "[################################                                      ]"
       ]
      },
      {
       "output_type": "stream",
       "stream": "stderr",
       "text": [
        " | ETA[sec]: 1.300 "
       ]
      },
      {
       "output_type": "stream",
       "stream": "stderr",
       "text": [
        "\r",
        "[#################################                                     ]"
       ]
      },
      {
       "output_type": "stream",
       "stream": "stderr",
       "text": [
        " | ETA[sec]: 1.252 "
       ]
      },
      {
       "output_type": "stream",
       "stream": "stderr",
       "text": [
        "\r",
        "[##################################                                    ]"
       ]
      },
      {
       "output_type": "stream",
       "stream": "stderr",
       "text": [
        " | ETA[sec]: 1.202 "
       ]
      },
      {
       "output_type": "stream",
       "stream": "stderr",
       "text": [
        "\r",
        "[###################################                                   ]"
       ]
      },
      {
       "output_type": "stream",
       "stream": "stderr",
       "text": [
        " | ETA[sec]: 1.167 "
       ]
      },
      {
       "output_type": "stream",
       "stream": "stderr",
       "text": [
        "\r",
        "[####################################                                  ]"
       ]
      },
      {
       "output_type": "stream",
       "stream": "stderr",
       "text": [
        " | ETA[sec]: 1.135 "
       ]
      },
      {
       "output_type": "stream",
       "stream": "stderr",
       "text": [
        "\r",
        "[#####################################                                 ]"
       ]
      },
      {
       "output_type": "stream",
       "stream": "stderr",
       "text": [
        " | ETA[sec]: 1.094 "
       ]
      },
      {
       "output_type": "stream",
       "stream": "stderr",
       "text": [
        "\r",
        "[######################################                                ]"
       ]
      },
      {
       "output_type": "stream",
       "stream": "stderr",
       "text": [
        " | ETA[sec]: 1.067 "
       ]
      },
      {
       "output_type": "stream",
       "stream": "stderr",
       "text": [
        "\r",
        "[#######################################                               ]"
       ]
      },
      {
       "output_type": "stream",
       "stream": "stderr",
       "text": [
        " | ETA[sec]: 1.130 "
       ]
      },
      {
       "output_type": "stream",
       "stream": "stderr",
       "text": [
        "\r",
        "[########################################                              ]"
       ]
      },
      {
       "output_type": "stream",
       "stream": "stderr",
       "text": [
        " | ETA[sec]: 1.116 "
       ]
      },
      {
       "output_type": "stream",
       "stream": "stderr",
       "text": [
        "\r",
        "[#########################################                             ]"
       ]
      },
      {
       "output_type": "stream",
       "stream": "stderr",
       "text": [
        " | ETA[sec]: 1.096 "
       ]
      },
      {
       "output_type": "stream",
       "stream": "stderr",
       "text": [
        "\r",
        "[##########################################                            ]"
       ]
      },
      {
       "output_type": "stream",
       "stream": "stderr",
       "text": [
        " | ETA[sec]: 1.064 "
       ]
      },
      {
       "output_type": "stream",
       "stream": "stderr",
       "text": [
        "\r",
        "[###########################################                           ]"
       ]
      },
      {
       "output_type": "stream",
       "stream": "stderr",
       "text": [
        " | ETA[sec]: 1.040 "
       ]
      },
      {
       "output_type": "stream",
       "stream": "stderr",
       "text": [
        "\r",
        "[############################################                          ]"
       ]
      },
      {
       "output_type": "stream",
       "stream": "stderr",
       "text": [
        " | ETA[sec]: 1.000 "
       ]
      },
      {
       "output_type": "stream",
       "stream": "stderr",
       "text": [
        "\r",
        "[#############################################                         ]"
       ]
      },
      {
       "output_type": "stream",
       "stream": "stderr",
       "text": [
        " | ETA[sec]: 0.965 "
       ]
      },
      {
       "output_type": "stream",
       "stream": "stderr",
       "text": [
        "\r",
        "[##############################################                        ]"
       ]
      },
      {
       "output_type": "stream",
       "stream": "stderr",
       "text": [
        " | ETA[sec]: 0.929 "
       ]
      },
      {
       "output_type": "stream",
       "stream": "stderr",
       "text": [
        "\r",
        "[###############################################                       ]"
       ]
      },
      {
       "output_type": "stream",
       "stream": "stderr",
       "text": [
        " | ETA[sec]: 0.910 "
       ]
      },
      {
       "output_type": "stream",
       "stream": "stderr",
       "text": [
        "\r",
        "[################################################                      ]"
       ]
      },
      {
       "output_type": "stream",
       "stream": "stderr",
       "text": [
        " | ETA[sec]: 0.861 "
       ]
      },
      {
       "output_type": "stream",
       "stream": "stderr",
       "text": [
        "\r",
        "[#################################################                     ]"
       ]
      },
      {
       "output_type": "stream",
       "stream": "stderr",
       "text": [
        " | ETA[sec]: 0.812 "
       ]
      },
      {
       "output_type": "stream",
       "stream": "stderr",
       "text": [
        "\r",
        "[##################################################                    ]"
       ]
      },
      {
       "output_type": "stream",
       "stream": "stderr",
       "text": [
        " | ETA[sec]: 0.790 "
       ]
      },
      {
       "output_type": "stream",
       "stream": "stderr",
       "text": [
        "\r",
        "[###################################################                   ]"
       ]
      },
      {
       "output_type": "stream",
       "stream": "stderr",
       "text": [
        " | ETA[sec]: 0.764 "
       ]
      },
      {
       "output_type": "stream",
       "stream": "stderr",
       "text": [
        "\r",
        "[####################################################                  ]"
       ]
      },
      {
       "output_type": "stream",
       "stream": "stderr",
       "text": [
        " | ETA[sec]: 0.722 "
       ]
      },
      {
       "output_type": "stream",
       "stream": "stderr",
       "text": [
        "\r",
        "[#####################################################                 ]"
       ]
      },
      {
       "output_type": "stream",
       "stream": "stderr",
       "text": [
        " | ETA[sec]: 0.676 "
       ]
      },
      {
       "output_type": "stream",
       "stream": "stderr",
       "text": [
        "\r",
        "[######################################################                ]"
       ]
      },
      {
       "output_type": "stream",
       "stream": "stderr",
       "text": [
        " | ETA[sec]: 0.647 "
       ]
      },
      {
       "output_type": "stream",
       "stream": "stderr",
       "text": [
        "\r",
        "[#######################################################               ]"
       ]
      },
      {
       "output_type": "stream",
       "stream": "stderr",
       "text": [
        " | ETA[sec]: 0.614 "
       ]
      },
      {
       "output_type": "stream",
       "stream": "stderr",
       "text": [
        "\r",
        "[########################################################              ]"
       ]
      },
      {
       "output_type": "stream",
       "stream": "stderr",
       "text": [
        " | ETA[sec]: 0.573 "
       ]
      },
      {
       "output_type": "stream",
       "stream": "stderr",
       "text": [
        "\r",
        "[#########################################################             ]"
       ]
      },
      {
       "output_type": "stream",
       "stream": "stderr",
       "text": [
        " | ETA[sec]: 0.532 "
       ]
      },
      {
       "output_type": "stream",
       "stream": "stderr",
       "text": [
        "\r",
        "[##########################################################            ]"
       ]
      },
      {
       "output_type": "stream",
       "stream": "stderr",
       "text": [
        " | ETA[sec]: 0.488 "
       ]
      },
      {
       "output_type": "stream",
       "stream": "stderr",
       "text": [
        "\r",
        "[###########################################################           ]"
       ]
      },
      {
       "output_type": "stream",
       "stream": "stderr",
       "text": [
        " | ETA[sec]: 0.443 "
       ]
      },
      {
       "output_type": "stream",
       "stream": "stderr",
       "text": [
        "\r",
        "[############################################################          ]"
       ]
      },
      {
       "output_type": "stream",
       "stream": "stderr",
       "text": [
        " | ETA[sec]: 0.408 "
       ]
      },
      {
       "output_type": "stream",
       "stream": "stderr",
       "text": [
        "\r",
        "[#############################################################         ]"
       ]
      },
      {
       "output_type": "stream",
       "stream": "stderr",
       "text": [
        " | ETA[sec]: 0.372 "
       ]
      },
      {
       "output_type": "stream",
       "stream": "stderr",
       "text": [
        "\r",
        "[##############################################################        ]"
       ]
      },
      {
       "output_type": "stream",
       "stream": "stderr",
       "text": [
        " | ETA[sec]: 0.327 "
       ]
      },
      {
       "output_type": "stream",
       "stream": "stderr",
       "text": [
        "\r",
        "[###############################################################       ]"
       ]
      },
      {
       "output_type": "stream",
       "stream": "stderr",
       "text": [
        " | ETA[sec]: 0.288 "
       ]
      },
      {
       "output_type": "stream",
       "stream": "stderr",
       "text": [
        "\r",
        "[################################################################      ]"
       ]
      },
      {
       "output_type": "stream",
       "stream": "stderr",
       "text": [
        " | ETA[sec]: 0.248 "
       ]
      },
      {
       "output_type": "stream",
       "stream": "stderr",
       "text": [
        "\r",
        "[#################################################################     ]"
       ]
      },
      {
       "output_type": "stream",
       "stream": "stderr",
       "text": [
        " | ETA[sec]: 0.205 "
       ]
      },
      {
       "output_type": "stream",
       "stream": "stderr",
       "text": [
        "\r",
        "[##################################################################    ]"
       ]
      },
      {
       "output_type": "stream",
       "stream": "stderr",
       "text": [
        " | ETA[sec]: 0.165 "
       ]
      },
      {
       "output_type": "stream",
       "stream": "stderr",
       "text": [
        "\r",
        "[###################################################################   ]"
       ]
      },
      {
       "output_type": "stream",
       "stream": "stderr",
       "text": [
        " | ETA[sec]: 0.123 "
       ]
      },
      {
       "output_type": "stream",
       "stream": "stderr",
       "text": [
        "\r",
        "[####################################################################  ]"
       ]
      },
      {
       "output_type": "stream",
       "stream": "stderr",
       "text": [
        " | ETA[sec]: 0.081 "
       ]
      },
      {
       "output_type": "stream",
       "stream": "stderr",
       "text": [
        "\r",
        "[##################################################################### ]"
       ]
      },
      {
       "output_type": "stream",
       "stream": "stderr",
       "text": [
        " | ETA[sec]: 0.041 "
       ]
      },
      {
       "output_type": "stream",
       "stream": "stderr",
       "text": [
        "\r",
        "[######################################################################]"
       ]
      },
      {
       "output_type": "stream",
       "stream": "stderr",
       "text": [
        " | ETA[sec]: 0.000 "
       ]
      },
      {
       "output_type": "stream",
       "stream": "stderr",
       "text": [
        "\n",
        "Total time elapsed: 2.893 sec\n"
       ]
      }
     ],
     "prompt_number": 10
    },
    {
     "cell_type": "markdown",
     "metadata": {},
     "source": [
      "<a name='streams'></a>\n",
      "<br>\n",
      "<br>"
     ]
    },
    {
     "cell_type": "markdown",
     "metadata": {},
     "source": [
      "## Progress Bar/Percentage Indicator - Changing the output stream"
     ]
    },
    {
     "cell_type": "markdown",
     "metadata": {},
     "source": [
      "`stream` (`int`): default 2. Takes 1 for stdout, 2 for stderr, or given stream object"
     ]
    },
    {
     "cell_type": "code",
     "collapsed": false,
     "input": [
      "n = 150000\n",
      "\n",
      "bar = pyprind.ProgBar(n, stream=1)\n",
      "for i in range(n):\n",
      "    # do some computation\n",
      "    bar.update()"
     ],
     "language": "python",
     "metadata": {},
     "outputs": [
      {
       "output_type": "stream",
       "stream": "stdout",
       "text": [
        "0%                          100%\n"
       ]
      },
      {
       "output_type": "stream",
       "stream": "stdout",
       "text": [
        "[                              ]"
       ]
      },
      {
       "output_type": "stream",
       "stream": "stdout",
       "text": [
        "\r",
        "[#                             ]"
       ]
      },
      {
       "output_type": "stream",
       "stream": "stdout",
       "text": [
        " | ETA[sec]: 1.473 "
       ]
      },
      {
       "output_type": "stream",
       "stream": "stdout",
       "text": [
        "\r",
        "[##                            ]"
       ]
      },
      {
       "output_type": "stream",
       "stream": "stdout",
       "text": [
        " | ETA[sec]: 1.248 "
       ]
      },
      {
       "output_type": "stream",
       "stream": "stdout",
       "text": [
        "\r",
        "[###                           ]"
       ]
      },
      {
       "output_type": "stream",
       "stream": "stdout",
       "text": [
        " | ETA[sec]: 1.150 "
       ]
      },
      {
       "output_type": "stream",
       "stream": "stdout",
       "text": [
        "\r",
        "[####                          ]"
       ]
      },
      {
       "output_type": "stream",
       "stream": "stdout",
       "text": [
        " | ETA[sec]: 1.070 "
       ]
      },
      {
       "output_type": "stream",
       "stream": "stdout",
       "text": [
        "\r",
        "[#####                         ]"
       ]
      },
      {
       "output_type": "stream",
       "stream": "stdout",
       "text": [
        " | ETA[sec]: 1.015 "
       ]
      },
      {
       "output_type": "stream",
       "stream": "stdout",
       "text": [
        "\r",
        "[######                        ]"
       ]
      },
      {
       "output_type": "stream",
       "stream": "stdout",
       "text": [
        " | ETA[sec]: 0.973 "
       ]
      },
      {
       "output_type": "stream",
       "stream": "stdout",
       "text": [
        "\r",
        "[#######                       ]"
       ]
      },
      {
       "output_type": "stream",
       "stream": "stdout",
       "text": [
        " | ETA[sec]: 0.925 "
       ]
      },
      {
       "output_type": "stream",
       "stream": "stdout",
       "text": [
        "\r",
        "[########                      ]"
       ]
      },
      {
       "output_type": "stream",
       "stream": "stdout",
       "text": [
        " | ETA[sec]: 0.879 "
       ]
      },
      {
       "output_type": "stream",
       "stream": "stdout",
       "text": [
        "\r",
        "[#########                     ]"
       ]
      },
      {
       "output_type": "stream",
       "stream": "stdout",
       "text": [
        " | ETA[sec]: 0.833 "
       ]
      },
      {
       "output_type": "stream",
       "stream": "stdout",
       "text": [
        "\r",
        "[##########                    ]"
       ]
      },
      {
       "output_type": "stream",
       "stream": "stdout",
       "text": [
        " | ETA[sec]: 0.799 "
       ]
      },
      {
       "output_type": "stream",
       "stream": "stdout",
       "text": [
        "\r",
        "[###########                   ]"
       ]
      },
      {
       "output_type": "stream",
       "stream": "stdout",
       "text": [
        " | ETA[sec]: 0.761 "
       ]
      },
      {
       "output_type": "stream",
       "stream": "stdout",
       "text": [
        "\r",
        "[############                  ]"
       ]
      },
      {
       "output_type": "stream",
       "stream": "stdout",
       "text": [
        " | ETA[sec]: 0.717 "
       ]
      },
      {
       "output_type": "stream",
       "stream": "stdout",
       "text": [
        "\r",
        "[#############                 ]"
       ]
      },
      {
       "output_type": "stream",
       "stream": "stdout",
       "text": [
        " | ETA[sec]: 0.678 "
       ]
      },
      {
       "output_type": "stream",
       "stream": "stdout",
       "text": [
        "\r",
        "[##############                ]"
       ]
      },
      {
       "output_type": "stream",
       "stream": "stdout",
       "text": [
        " | ETA[sec]: 0.638 "
       ]
      },
      {
       "output_type": "stream",
       "stream": "stdout",
       "text": [
        "\r",
        "[###############               ]"
       ]
      },
      {
       "output_type": "stream",
       "stream": "stdout",
       "text": [
        " | ETA[sec]: 0.663 "
       ]
      },
      {
       "output_type": "stream",
       "stream": "stdout",
       "text": [
        "\r",
        "[################              ]"
       ]
      },
      {
       "output_type": "stream",
       "stream": "stdout",
       "text": [
        " | ETA[sec]: 0.651 "
       ]
      },
      {
       "output_type": "stream",
       "stream": "stdout",
       "text": [
        "\r",
        "[#################             ]"
       ]
      },
      {
       "output_type": "stream",
       "stream": "stdout",
       "text": [
        " | ETA[sec]: 0.612 "
       ]
      },
      {
       "output_type": "stream",
       "stream": "stdout",
       "text": [
        "\r",
        "[##################            ]"
       ]
      },
      {
       "output_type": "stream",
       "stream": "stdout",
       "text": [
        " | ETA[sec]: 0.563 "
       ]
      },
      {
       "output_type": "stream",
       "stream": "stdout",
       "text": [
        "\r",
        "[###################           ]"
       ]
      },
      {
       "output_type": "stream",
       "stream": "stdout",
       "text": [
        " | ETA[sec]: 0.511 "
       ]
      },
      {
       "output_type": "stream",
       "stream": "stdout",
       "text": [
        "\r",
        "[####################          ]"
       ]
      },
      {
       "output_type": "stream",
       "stream": "stdout",
       "text": [
        " | ETA[sec]: 0.461 "
       ]
      },
      {
       "output_type": "stream",
       "stream": "stdout",
       "text": [
        "\r",
        "[#####################         ]"
       ]
      },
      {
       "output_type": "stream",
       "stream": "stdout",
       "text": [
        " | ETA[sec]: 0.415 "
       ]
      },
      {
       "output_type": "stream",
       "stream": "stdout",
       "text": [
        "\r",
        "[######################        ]"
       ]
      },
      {
       "output_type": "stream",
       "stream": "stdout",
       "text": [
        " | ETA[sec]: 0.366 "
       ]
      },
      {
       "output_type": "stream",
       "stream": "stdout",
       "text": [
        "\r",
        "[#######################       ]"
       ]
      },
      {
       "output_type": "stream",
       "stream": "stdout",
       "text": [
        " | ETA[sec]: 0.317 "
       ]
      },
      {
       "output_type": "stream",
       "stream": "stdout",
       "text": [
        "\r",
        "[########################      ]"
       ]
      },
      {
       "output_type": "stream",
       "stream": "stdout",
       "text": [
        " | ETA[sec]: 0.270 "
       ]
      },
      {
       "output_type": "stream",
       "stream": "stdout",
       "text": [
        "\r",
        "[#########################     ]"
       ]
      },
      {
       "output_type": "stream",
       "stream": "stdout",
       "text": [
        " | ETA[sec]: 0.224 "
       ]
      },
      {
       "output_type": "stream",
       "stream": "stdout",
       "text": [
        "\r",
        "[##########################    ]"
       ]
      },
      {
       "output_type": "stream",
       "stream": "stdout",
       "text": [
        " | ETA[sec]: 0.178 "
       ]
      },
      {
       "output_type": "stream",
       "stream": "stdout",
       "text": [
        "\r",
        "[###########################   ]"
       ]
      },
      {
       "output_type": "stream",
       "stream": "stdout",
       "text": [
        " | ETA[sec]: 0.133 "
       ]
      },
      {
       "output_type": "stream",
       "stream": "stdout",
       "text": [
        "\r",
        "[############################  ]"
       ]
      },
      {
       "output_type": "stream",
       "stream": "stdout",
       "text": [
        " | ETA[sec]: 0.088 "
       ]
      },
      {
       "output_type": "stream",
       "stream": "stdout",
       "text": [
        "\r",
        "[############################# ]"
       ]
      },
      {
       "output_type": "stream",
       "stream": "stdout",
       "text": [
        " | ETA[sec]: 0.044 "
       ]
      },
      {
       "output_type": "stream",
       "stream": "stdout",
       "text": [
        "\r",
        "[##############################]"
       ]
      },
      {
       "output_type": "stream",
       "stream": "stdout",
       "text": [
        " | ETA[sec]: 0.000 "
       ]
      },
      {
       "output_type": "stream",
       "stream": "stdout",
       "text": [
        "\n",
        "Total time elapsed: 1.310 sec\n"
       ]
      }
     ],
     "prompt_number": 11
    },
    {
     "cell_type": "code",
     "collapsed": false,
     "input": [
      "bar = pyprind.ProgBar(n, stream=2)\n",
      "for i in range(n):\n",
      "    # do some computation\n",
      "    bar.update()"
     ],
     "language": "python",
     "metadata": {},
     "outputs": [
      {
       "output_type": "stream",
       "stream": "stderr",
       "text": [
        "0%                          100%\n"
       ]
      },
      {
       "output_type": "stream",
       "stream": "stderr",
       "text": [
        "[                              ]"
       ]
      },
      {
       "output_type": "stream",
       "stream": "stderr",
       "text": [
        "\r",
        "[#                             ]"
       ]
      },
      {
       "output_type": "stream",
       "stream": "stderr",
       "text": [
        " | ETA[sec]: 1.417 "
       ]
      },
      {
       "output_type": "stream",
       "stream": "stderr",
       "text": [
        "\r",
        "[##                            ]"
       ]
      },
      {
       "output_type": "stream",
       "stream": "stderr",
       "text": [
        " | ETA[sec]: 1.205 "
       ]
      },
      {
       "output_type": "stream",
       "stream": "stderr",
       "text": [
        "\r",
        "[###                           ]"
       ]
      },
      {
       "output_type": "stream",
       "stream": "stderr",
       "text": [
        " | ETA[sec]: 1.130 "
       ]
      },
      {
       "output_type": "stream",
       "stream": "stderr",
       "text": [
        "\r",
        "[####                          ]"
       ]
      },
      {
       "output_type": "stream",
       "stream": "stderr",
       "text": [
        " | ETA[sec]: 1.063 "
       ]
      },
      {
       "output_type": "stream",
       "stream": "stderr",
       "text": [
        "\r",
        "[#####                         ]"
       ]
      },
      {
       "output_type": "stream",
       "stream": "stderr",
       "text": [
        " | ETA[sec]: 1.007 "
       ]
      },
      {
       "output_type": "stream",
       "stream": "stderr",
       "text": [
        "\r",
        "[######                        ]"
       ]
      },
      {
       "output_type": "stream",
       "stream": "stderr",
       "text": [
        " | ETA[sec]: 0.947 "
       ]
      },
      {
       "output_type": "stream",
       "stream": "stderr",
       "text": [
        "\r",
        "[#######                       ]"
       ]
      },
      {
       "output_type": "stream",
       "stream": "stderr",
       "text": [
        " | ETA[sec]: 0.905 "
       ]
      },
      {
       "output_type": "stream",
       "stream": "stderr",
       "text": [
        "\r",
        "[########                      ]"
       ]
      },
      {
       "output_type": "stream",
       "stream": "stderr",
       "text": [
        " | ETA[sec]: 0.859 "
       ]
      },
      {
       "output_type": "stream",
       "stream": "stderr",
       "text": [
        "\r",
        "[#########                     ]"
       ]
      },
      {
       "output_type": "stream",
       "stream": "stderr",
       "text": [
        " | ETA[sec]: 0.814 "
       ]
      },
      {
       "output_type": "stream",
       "stream": "stderr",
       "text": [
        "\r",
        "[##########                    ]"
       ]
      },
      {
       "output_type": "stream",
       "stream": "stderr",
       "text": [
        " | ETA[sec]: 0.774 "
       ]
      },
      {
       "output_type": "stream",
       "stream": "stderr",
       "text": [
        "\r",
        "[###########                   ]"
       ]
      },
      {
       "output_type": "stream",
       "stream": "stderr",
       "text": [
        " | ETA[sec]: 0.731 "
       ]
      },
      {
       "output_type": "stream",
       "stream": "stderr",
       "text": [
        "\r",
        "[############                  ]"
       ]
      },
      {
       "output_type": "stream",
       "stream": "stderr",
       "text": [
        " | ETA[sec]: 0.697 "
       ]
      },
      {
       "output_type": "stream",
       "stream": "stderr",
       "text": [
        "\r",
        "[#############                 ]"
       ]
      },
      {
       "output_type": "stream",
       "stream": "stderr",
       "text": [
        " | ETA[sec]: 0.657 "
       ]
      },
      {
       "output_type": "stream",
       "stream": "stderr",
       "text": [
        "\r",
        "[##############                ]"
       ]
      },
      {
       "output_type": "stream",
       "stream": "stderr",
       "text": [
        " | ETA[sec]: 0.615 "
       ]
      },
      {
       "output_type": "stream",
       "stream": "stderr",
       "text": [
        "\r",
        "[###############               ]"
       ]
      },
      {
       "output_type": "stream",
       "stream": "stderr",
       "text": [
        " | ETA[sec]: 0.577 "
       ]
      },
      {
       "output_type": "stream",
       "stream": "stderr",
       "text": [
        "\r",
        "[################              ]"
       ]
      },
      {
       "output_type": "stream",
       "stream": "stderr",
       "text": [
        " | ETA[sec]: 0.539 "
       ]
      },
      {
       "output_type": "stream",
       "stream": "stderr",
       "text": [
        "\r",
        "[#################             ]"
       ]
      },
      {
       "output_type": "stream",
       "stream": "stderr",
       "text": [
        " | ETA[sec]: 0.506 "
       ]
      },
      {
       "output_type": "stream",
       "stream": "stderr",
       "text": [
        "\r",
        "[##################            ]"
       ]
      },
      {
       "output_type": "stream",
       "stream": "stderr",
       "text": [
        " | ETA[sec]: 0.471 "
       ]
      },
      {
       "output_type": "stream",
       "stream": "stderr",
       "text": [
        "\r",
        "[###################           ]"
       ]
      },
      {
       "output_type": "stream",
       "stream": "stderr",
       "text": [
        " | ETA[sec]: 0.430 "
       ]
      },
      {
       "output_type": "stream",
       "stream": "stderr",
       "text": [
        "\r",
        "[####################          ]"
       ]
      },
      {
       "output_type": "stream",
       "stream": "stderr",
       "text": [
        " | ETA[sec]: 0.426 "
       ]
      },
      {
       "output_type": "stream",
       "stream": "stderr",
       "text": [
        "\r",
        "[#####################         ]"
       ]
      },
      {
       "output_type": "stream",
       "stream": "stderr",
       "text": [
        " | ETA[sec]: 0.422 "
       ]
      },
      {
       "output_type": "stream",
       "stream": "stderr",
       "text": [
        "\r",
        "[######################        ]"
       ]
      },
      {
       "output_type": "stream",
       "stream": "stderr",
       "text": [
        " | ETA[sec]: 0.391 "
       ]
      },
      {
       "output_type": "stream",
       "stream": "stderr",
       "text": [
        "\r",
        "[#######################       ]"
       ]
      },
      {
       "output_type": "stream",
       "stream": "stderr",
       "text": [
        " | ETA[sec]: 0.342 "
       ]
      },
      {
       "output_type": "stream",
       "stream": "stderr",
       "text": [
        "\r",
        "[########################      ]"
       ]
      },
      {
       "output_type": "stream",
       "stream": "stderr",
       "text": [
        " | ETA[sec]: 0.309 "
       ]
      },
      {
       "output_type": "stream",
       "stream": "stderr",
       "text": [
        "\r",
        "[#########################     ]"
       ]
      },
      {
       "output_type": "stream",
       "stream": "stderr",
       "text": [
        " | ETA[sec]: 0.262 "
       ]
      },
      {
       "output_type": "stream",
       "stream": "stderr",
       "text": [
        "\r",
        "[##########################    ]"
       ]
      },
      {
       "output_type": "stream",
       "stream": "stderr",
       "text": [
        " | ETA[sec]: 0.220 "
       ]
      },
      {
       "output_type": "stream",
       "stream": "stderr",
       "text": [
        "\r",
        "[###########################   ]"
       ]
      },
      {
       "output_type": "stream",
       "stream": "stderr",
       "text": [
        " | ETA[sec]: 0.164 "
       ]
      },
      {
       "output_type": "stream",
       "stream": "stderr",
       "text": [
        "\r",
        "[############################  ]"
       ]
      },
      {
       "output_type": "stream",
       "stream": "stderr",
       "text": [
        " | ETA[sec]: 0.109 "
       ]
      },
      {
       "output_type": "stream",
       "stream": "stderr",
       "text": [
        "\r",
        "[############################# ]"
       ]
      },
      {
       "output_type": "stream",
       "stream": "stderr",
       "text": [
        " | ETA[sec]: 0.054 "
       ]
      },
      {
       "output_type": "stream",
       "stream": "stderr",
       "text": [
        "\r",
        "[##############################]"
       ]
      },
      {
       "output_type": "stream",
       "stream": "stderr",
       "text": [
        " | ETA[sec]: 0.000 "
       ]
      },
      {
       "output_type": "stream",
       "stream": "stderr",
       "text": [
        "\n",
        "Total time elapsed: 1.610 sec\n"
       ]
      }
     ],
     "prompt_number": 12
    },
    {
     "cell_type": "code",
     "collapsed": false,
     "input": [
      "import sys\n",
      "\n",
      "bar = pyprind.ProgBar(n, stream=sys.stdout)\n",
      "for i in range(n):\n",
      "    # do some computation\n",
      "    bar.update()"
     ],
     "language": "python",
     "metadata": {},
     "outputs": [
      {
       "output_type": "stream",
       "stream": "stdout",
       "text": [
        "0%                          100%\n"
       ]
      },
      {
       "output_type": "stream",
       "stream": "stdout",
       "text": [
        "[                              ]"
       ]
      },
      {
       "output_type": "stream",
       "stream": "stdout",
       "text": [
        "\r",
        "[#                             ]"
       ]
      },
      {
       "output_type": "stream",
       "stream": "stdout",
       "text": [
        " | ETA[sec]: 1.083 "
       ]
      },
      {
       "output_type": "stream",
       "stream": "stdout",
       "text": [
        "\r",
        "[##                            ]"
       ]
      },
      {
       "output_type": "stream",
       "stream": "stdout",
       "text": [
        " | ETA[sec]: 1.080 "
       ]
      },
      {
       "output_type": "stream",
       "stream": "stdout",
       "text": [
        "\r",
        "[###                           ]"
       ]
      },
      {
       "output_type": "stream",
       "stream": "stdout",
       "text": [
        " | ETA[sec]: 1.036 "
       ]
      },
      {
       "output_type": "stream",
       "stream": "stdout",
       "text": [
        "\r",
        "[####                          ]"
       ]
      },
      {
       "output_type": "stream",
       "stream": "stdout",
       "text": [
        " | ETA[sec]: 0.980 "
       ]
      },
      {
       "output_type": "stream",
       "stream": "stdout",
       "text": [
        "\r",
        "[#####                         ]"
       ]
      },
      {
       "output_type": "stream",
       "stream": "stdout",
       "text": [
        " | ETA[sec]: 0.928 "
       ]
      },
      {
       "output_type": "stream",
       "stream": "stdout",
       "text": [
        "\r",
        "[######                        ]"
       ]
      },
      {
       "output_type": "stream",
       "stream": "stdout",
       "text": [
        " | ETA[sec]: 0.888 "
       ]
      },
      {
       "output_type": "stream",
       "stream": "stdout",
       "text": [
        "\r",
        "[#######                       ]"
       ]
      },
      {
       "output_type": "stream",
       "stream": "stdout",
       "text": [
        " | ETA[sec]: 0.847 "
       ]
      },
      {
       "output_type": "stream",
       "stream": "stdout",
       "text": [
        "\r",
        "[########                      ]"
       ]
      },
      {
       "output_type": "stream",
       "stream": "stdout",
       "text": [
        " | ETA[sec]: 0.807 "
       ]
      },
      {
       "output_type": "stream",
       "stream": "stdout",
       "text": [
        "\r",
        "[#########                     ]"
       ]
      },
      {
       "output_type": "stream",
       "stream": "stdout",
       "text": [
        " | ETA[sec]: 0.769 "
       ]
      },
      {
       "output_type": "stream",
       "stream": "stdout",
       "text": [
        "\r",
        "[##########                    ]"
       ]
      },
      {
       "output_type": "stream",
       "stream": "stdout",
       "text": [
        " | ETA[sec]: 0.730 "
       ]
      },
      {
       "output_type": "stream",
       "stream": "stdout",
       "text": [
        "\r",
        "[###########                   ]"
       ]
      },
      {
       "output_type": "stream",
       "stream": "stdout",
       "text": [
        " | ETA[sec]: 0.697 "
       ]
      },
      {
       "output_type": "stream",
       "stream": "stdout",
       "text": [
        "\r",
        "[############                  ]"
       ]
      },
      {
       "output_type": "stream",
       "stream": "stdout",
       "text": [
        " | ETA[sec]: 0.660 "
       ]
      },
      {
       "output_type": "stream",
       "stream": "stdout",
       "text": [
        "\r",
        "[#############                 ]"
       ]
      },
      {
       "output_type": "stream",
       "stream": "stdout",
       "text": [
        " | ETA[sec]: 0.622 "
       ]
      },
      {
       "output_type": "stream",
       "stream": "stdout",
       "text": [
        "\r",
        "[##############                ]"
       ]
      },
      {
       "output_type": "stream",
       "stream": "stdout",
       "text": [
        " | ETA[sec]: 0.589 "
       ]
      },
      {
       "output_type": "stream",
       "stream": "stdout",
       "text": [
        "\r",
        "[###############               ]"
       ]
      },
      {
       "output_type": "stream",
       "stream": "stdout",
       "text": [
        " | ETA[sec]: 0.552 "
       ]
      },
      {
       "output_type": "stream",
       "stream": "stdout",
       "text": [
        "\r",
        "[################              ]"
       ]
      },
      {
       "output_type": "stream",
       "stream": "stdout",
       "text": [
        " | ETA[sec]: 0.515 "
       ]
      },
      {
       "output_type": "stream",
       "stream": "stdout",
       "text": [
        "\r",
        "[#################             ]"
       ]
      },
      {
       "output_type": "stream",
       "stream": "stdout",
       "text": [
        " | ETA[sec]: 0.480 "
       ]
      },
      {
       "output_type": "stream",
       "stream": "stdout",
       "text": [
        "\r",
        "[##################            ]"
       ]
      },
      {
       "output_type": "stream",
       "stream": "stdout",
       "text": [
        " | ETA[sec]: 0.446 "
       ]
      },
      {
       "output_type": "stream",
       "stream": "stdout",
       "text": [
        "\r",
        "[###################           ]"
       ]
      },
      {
       "output_type": "stream",
       "stream": "stdout",
       "text": [
        " | ETA[sec]: 0.407 "
       ]
      },
      {
       "output_type": "stream",
       "stream": "stdout",
       "text": [
        "\r",
        "[####################          ]"
       ]
      },
      {
       "output_type": "stream",
       "stream": "stdout",
       "text": [
        " | ETA[sec]: 0.370 "
       ]
      },
      {
       "output_type": "stream",
       "stream": "stdout",
       "text": [
        "\r",
        "[#####################         ]"
       ]
      },
      {
       "output_type": "stream",
       "stream": "stdout",
       "text": [
        " | ETA[sec]: 0.332 "
       ]
      },
      {
       "output_type": "stream",
       "stream": "stdout",
       "text": [
        "\r",
        "[######################        ]"
       ]
      },
      {
       "output_type": "stream",
       "stream": "stdout",
       "text": [
        " | ETA[sec]: 0.294 "
       ]
      },
      {
       "output_type": "stream",
       "stream": "stdout",
       "text": [
        "\r",
        "[#######################       ]"
       ]
      },
      {
       "output_type": "stream",
       "stream": "stdout",
       "text": [
        " | ETA[sec]: 0.266 "
       ]
      },
      {
       "output_type": "stream",
       "stream": "stdout",
       "text": [
        "\r",
        "[########################      ]"
       ]
      },
      {
       "output_type": "stream",
       "stream": "stdout",
       "text": [
        " | ETA[sec]: 0.242 "
       ]
      },
      {
       "output_type": "stream",
       "stream": "stdout",
       "text": [
        "\r",
        "[#########################     ]"
       ]
      },
      {
       "output_type": "stream",
       "stream": "stdout",
       "text": [
        " | ETA[sec]: 0.203 "
       ]
      },
      {
       "output_type": "stream",
       "stream": "stdout",
       "text": [
        "\r",
        "[##########################    ]"
       ]
      },
      {
       "output_type": "stream",
       "stream": "stdout",
       "text": [
        " | ETA[sec]: 0.163 "
       ]
      },
      {
       "output_type": "stream",
       "stream": "stdout",
       "text": [
        "\r",
        "[###########################   ]"
       ]
      },
      {
       "output_type": "stream",
       "stream": "stdout",
       "text": [
        " | ETA[sec]: 0.126 "
       ]
      },
      {
       "output_type": "stream",
       "stream": "stdout",
       "text": [
        "\r",
        "[############################  ]"
       ]
      },
      {
       "output_type": "stream",
       "stream": "stdout",
       "text": [
        " | ETA[sec]: 0.087 "
       ]
      },
      {
       "output_type": "stream",
       "stream": "stdout",
       "text": [
        "\r",
        "[############################# ]"
       ]
      },
      {
       "output_type": "stream",
       "stream": "stdout",
       "text": [
        " | ETA[sec]: 0.045 "
       ]
      },
      {
       "output_type": "stream",
       "stream": "stdout",
       "text": [
        "\r",
        "[##############################]"
       ]
      },
      {
       "output_type": "stream",
       "stream": "stdout",
       "text": [
        " | ETA[sec]: 0.000 "
       ]
      },
      {
       "output_type": "stream",
       "stream": "stdout",
       "text": [
        "\n",
        "Total time elapsed: 1.335 sec\n"
       ]
      }
     ],
     "prompt_number": 13
    }
   ],
   "metadata": {}
  }
 ]
}